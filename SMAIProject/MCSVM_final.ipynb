{
 "cells": [
  {
   "cell_type": "code",
   "execution_count": 1,
   "metadata": {},
   "outputs": [],
   "source": [
    "import pandas as pd\n",
    "import time\n",
    "import numpy as np\n",
    "from tqdm import tqdm_notebook as tqdm\n",
    "from numpy import dot, array\n",
    "import scipy\n",
    "from scipy import sparse\n",
    "import matplotlib.pyplot as plt\n",
    "from matplotlib.colors import ListedColormap\n",
    "from sklearn.datasets import make_classification\n",
    "from sklearn.datasets import make_blobs\n",
    "from sklearn.datasets import make_gaussian_quantiles\n",
    "import cvxopt\n",
    "import math"
   ]
  },
  {
   "cell_type": "code",
   "execution_count": 2,
   "metadata": {},
   "outputs": [],
   "source": [
    "def dimensionality_reduction(X_data,Y_label,save=False):\n",
    "    meanVector = np.mean(X_data,axis = 0)\n",
    "    centeredX_data = X_data - meanVector\n",
    "    sdVector = np.std(centeredX_data.astype(float),axis = 0)\n",
    "    for index,value in enumerate(sdVector):\n",
    "      if value <= 1e-5:\n",
    "          sdVector[index] = 1.0  \n",
    "        \n",
    "    centeredX_data /= sdVector\n",
    "    \n",
    "    covX_data = np.array([centeredX_data[0,:]]).T@ np.array([centeredX_data[0,:]])\n",
    "    for i in range(1,len(centeredX_data)):\n",
    "        covX_data += np.array([centeredX_data[i,:]]).T@ np.array([centeredX_data[i,:]])\n",
    "    covX_data /= len(covX_data)\n",
    "\n",
    "    eigenValues, eigenVectors = np.linalg.eig(covX_data)\n",
    "    idx = eigenValues.argsort()[::-1] \n",
    "    eigenVectors = eigenVectors[:,idx]\n",
    "\n",
    "    neededEigenVectors = []\n",
    "    for idx, val in enumerate(eigenValues):\n",
    "        if (sum(eigenValues[0:idx])/sum(eigenValues))>0.7:\n",
    "            neededEigenVectors = eigenVectors[:,0:idx]\n",
    "            break\n",
    "\n",
    "    reconstructX_data = centeredX_data@neededEigenVectors\n",
    "    print('reduced dimensions are ')\n",
    "    print(reconstructX_data.shape)\n",
    "    return reconstructX_data"
   ]
  },
  {
   "cell_type": "code",
   "execution_count": 3,
   "metadata": {},
   "outputs": [],
   "source": [
    "def normsquare(a,b):    \n",
    "    a_min_b = a - b\n",
    "    return sum((a - b)**2)\n",
    "    #return (np.sum(np.square(a_min_b)))\n",
    "    #return np.einsum('ij,ij->i', a_min_b, a_min_b)"
   ]
  },
  {
   "cell_type": "code",
   "execution_count": 4,
   "metadata": {},
   "outputs": [],
   "source": [
    "class SMCSVM:\n",
    "    def __init__(self):\n",
    "        self.kernel = 'rbf'\n",
    "        self.C=10\n",
    "        self.degree = 1\n",
    "        self.sigma=1.0\n",
    "        self.alphas2=None\n",
    "        self.fullXmatrix=None\n",
    "        self.IntermXmatrix=None\n",
    "        self.train_X_data = None\n",
    "        self.num_classes = None\n",
    "    \n",
    "    def fit(self, X_data, Y_label,C=10,kernel='rbf',degree=1,sigma=1.0):\n",
    "        self.kernel = kernel\n",
    "        self.C= C\n",
    "        self.degree = degree\n",
    "        self.sigma= sigma \n",
    "        self.train_X_data = X_data\n",
    "        X = X_data\n",
    "        trainLabelVector = Y_label\n",
    "        #fullXmatrix =[]\n",
    "        num_classes = len(np.unique(Y_label))\n",
    "        self.num_classes = num_classes\n",
    "        #print(trainLabelVector.shape)\n",
    "\n",
    "        fullXmatrix = np.zeros(((X_data.shape[0]*(num_classes-1)),num_classes*((X_data.shape[1])+1)))\n",
    "\n",
    "        #for i in tqdm(range(0,(X_data.shape[0]*(num_class-1)))):\n",
    "\n",
    "        count5 = 0\n",
    "        print('\\n Calculating fullXmatrix')\n",
    "        for i in tqdm(range(0,X.shape[0])):\n",
    "            for p in range(0,num_classes):\n",
    "                if(trainLabelVector[i]!=p):   \n",
    "                    for j in range(0,num_classes):\n",
    "                        if(j==trainLabelVector[i]):\n",
    "                            fullXmatrix[count5,(j*(X_data.shape[1]+1)):((j+1)*(X_data.shape[1]+1))-1] = X[i,:]\n",
    "                            fullXmatrix[count5,((j+1)*(X_data.shape[1]+1))-1] = 1.0\n",
    "                        elif(j==p):\n",
    "                            fullXmatrix[count5,(j*(X_data.shape[1]+1)):((j+1)*(X_data.shape[1]+1))-1] = -1*X[i,:]\n",
    "                            fullXmatrix[count5,((j+1)*(X_data.shape[1]+1))-1] = -1.0\n",
    "                    count5 += 1\n",
    "                    #print(count5)\n",
    "        #print(fullXmatrix.shape)\n",
    "        m = fullXmatrix.shape[0]\n",
    "        M1 = sparse.csr_matrix(fullXmatrix) \n",
    "        IntermXmatrix = np.zeros(((X_data.shape[0]*(num_classes-1)),num_classes))\n",
    "        #if(kernel=='polynomial'):   \n",
    "        #    H = sparse.csr_matrix.dot(M1,M1.T) \n",
    "        #    H = (1+H.todense())**degree   \n",
    "            #H,IntermXmatrix = self.getKernelizedProduct(X_data,Y_label,kernel,sigma)\n",
    "        if(kernel=='linear'):\n",
    "            H = sparse.csr_matrix.dot(M1,M1.T)\n",
    "        else:\n",
    "            H,IntermXmatrix = self.getKernelizedProduct(X_data,Y_label,kernel,sigma,degree)        \n",
    "\n",
    "        from cvxopt import matrix as cvxopt_matrix\n",
    "        from cvxopt import solvers as cvxopt_solvers\n",
    "        if(kernel=='linear'):\n",
    "            P = cvxopt_matrix(H.todense())\n",
    "        else:\n",
    "            P = cvxopt_matrix(H)\n",
    "        q = cvxopt_matrix(-1*np.ones((m, 1)))\n",
    "        G = cvxopt_matrix(np.vstack((np.eye(m)*-1,np.eye(m))))\n",
    "        h = cvxopt_matrix(np.hstack((np.zeros(m), np.ones(m) * C)))\n",
    "        opts = {'maxiters' : 30,'solver':'mosek'}\n",
    "        sol = cvxopt_solvers.qp(P, q, G, h ,options = opts)\n",
    "        alphas2 = np.array(sol['x']) \n",
    "        #w = fullXmatrix.T@alphas2\n",
    "        #wForEachLabel = {}\n",
    "        #for i in range(0,num_classes):\n",
    "            #wForEachLabel[i] = np.array_split(w,num_classes)[i]\n",
    "        self.alphas2=alphas2\n",
    "        self.fullXmatrix=fullXmatrix\n",
    "        self.IntermXmatrix=IntermXmatrix\n",
    "        \n",
    "        #return alphas2,fullXmatrix,IntermXmatrix\n",
    "    def predict(self,val_X_data):\n",
    "    #def predict(train_X_data,val_X_data,IntermXmatrix,num_classes,alphas2,fullXmatrix,kernel,degree,sigma):\n",
    "        num_classes = self.num_classes\n",
    "        train_X_data = self.train_X_data\n",
    "        kernel = self.kernel\n",
    "        degree = self.degree\n",
    "        sigma = self.sigma\n",
    "        alphas2=self.alphas2\n",
    "        fullXmatrix=self.fullXmatrix\n",
    "        IntermXmatrix=self.IntermXmatrix\n",
    "\n",
    "        predictedLabelVector = []\n",
    "        if(kernel == 'linear'):\n",
    "            w = fullXmatrix.T@alphas2\n",
    "            wForEachLabel = {}\n",
    "            for i in range(0,num_classes):\n",
    "                wForEachLabel[i] = np.array_split(w,num_classes)[i]\n",
    "            print('\\n Calculating prediction values')\n",
    "            for i in tqdm(range(0,val_X_data.shape[0])):\n",
    "                scoresForEachLabel = []\n",
    "                for j in range(0,len(wForEachLabel)):\n",
    "                    score = (wForEachLabel[j].T@np.append(val_X_data[i,:],1.0).reshape(-1,1))\n",
    "                    scoresForEachLabel.append(score)\n",
    "                maxScoreLabel = np.argmax(scoresForEachLabel)\n",
    "                predictedLabelVector.append(maxScoreLabel)\n",
    "        elif(kernel == 'polynomial'):\n",
    "            print('\\n Calculating prediction values')\n",
    "            for i in tqdm(range(0,val_X_data.shape[0])):\n",
    "                #tempMatrix1 = np.zeros((num_classes*(val_X_data.shape[1]+1),num_classes))\n",
    "                #for j in range(0,num_classes):\n",
    "                #    tempMatrix1[j*(val_X_data.shape[1]+1):(j+1)*(val_X_data.shape[1]+1),j] = np.append(val_X_data[i,:],1.0)\n",
    "                #scoresForEachLabel = (alphas2.T)@((1+(fullXmatrix@tempMatrix1))**degree)\n",
    "                scoresForEachLabel = (alphas2.T)@(self.getKernelizedProductforPrediction(train_X_data,val_X_data,IntermXmatrix,i,num_classes,kernel,sigma,degree))\n",
    "                maxScoreLabel = np.argmax(scoresForEachLabel)\n",
    "                predictedLabelVector.append(maxScoreLabel)\n",
    "        elif(kernel == 'rbf'):\n",
    "            print('\\n Calculating prediction values')\n",
    "            for i in tqdm(range(0,val_X_data.shape[0])):\n",
    "                #tempMatrix1 = np.zeros((num_classes*(val_X_data.shape[1]+1),num_classes))\n",
    "                #for j in range(0,num_classes):\n",
    "                    #tempMatrix1[j*(val_X_data.shape[1]+1):(j+1)*(val_X_data.shape[1]+1),j] = np.append(val_X_data[i,:],1.0)\n",
    "                scoresForEachLabel = (alphas2.T)@(self.getKernelizedProductforPrediction(train_X_data,val_X_data,IntermXmatrix,i,num_classes,kernel,sigma,degree))\n",
    "                maxScoreLabel = np.argmax(scoresForEachLabel)\n",
    "                predictedLabelVector.append(maxScoreLabel)\n",
    "        return predictedLabelVector\n",
    "    def getKernelizedProductforPrediction(self,X_data,val_X_data,IntermXmatrix,currentValIndex,num_classes,kernel,sigma,degree):\n",
    "        X = X_data\n",
    "        m = (X_data.shape[0]*(num_classes-1))\n",
    "        H = np.zeros((m,num_classes))    \n",
    "        matrix2 = (currentValIndex+1)*np.eye(num_classes)\n",
    "        tempCoeff = (1/(X.shape[1]+1))\n",
    "        \n",
    "        if(kernel == 'polynomial'): \n",
    "            for i in (range(0,m)):\n",
    "                for j in range(0,num_classes):\n",
    "                    count1 = 0\n",
    "                    for k in range(0,num_classes):\n",
    "                        if(count1==2):\n",
    "                            break\n",
    "                        else:\n",
    "                            temp3 = int(IntermXmatrix[i,k])\n",
    "                            temp4 = int(matrix2[k,j])\n",
    "                            if(temp3>0):\n",
    "                                count1+=1\n",
    "                                if(temp4>0):                             \n",
    "                                    H[i,j] += (1+((1/tempCoeff)*np.dot(np.append(X[temp3-1,:],1.0),np.append(val_X_data[temp4-1,:],1.0))))**degree\n",
    "                            elif(temp3<0):\n",
    "                                count1+=1\n",
    "                                if(temp4>0):\n",
    "                                    H[i,j] += (1+((1/tempCoeff)*np.dot(np.append(val_X_data[temp4-1,:],1.0),np.append(-1*X[-temp3-1,:],-1.0))))**degree\n",
    "        \n",
    "\n",
    "        elif(kernel == 'rbf'): \n",
    "            for i in (range(0,m)):\n",
    "                for j in range(0,num_classes):\n",
    "                    count1 = 0\n",
    "                    for k in range(0,num_classes):\n",
    "                        if(count1==2):\n",
    "                            break\n",
    "                        else:\n",
    "                            temp3 = int(IntermXmatrix[i,k])\n",
    "                            temp4 = int(matrix2[k,j])\n",
    "                            if(temp3>0):\n",
    "                                count1+=1\n",
    "                                if(temp4>0):                             \n",
    "                                    H[i,j] += np.exp(-1*(np.linalg.norm(X[temp3-1,:]-val_X_data[temp4-1,:])**2)/(2*sigma**2))                        \n",
    "                            elif(temp3<0):\n",
    "                                count1+=1\n",
    "                                if(temp4>0):\n",
    "                                    H[i,j] += np.exp(-1*(np.linalg.norm(np.append(val_X_data[temp4-1,:],1.0)-np.append(-1*X[-temp3-1,:],-1.0))**2)/(2*sigma**2))                    \n",
    "\n",
    "        return H      \n",
    "    def getKernelizedProduct(self,X_data,Y_label,kernel,sigma,degree):\n",
    "        X = X_data\n",
    "        trainLabelVector = Y_label\n",
    "        num_classes = len(np.unique(Y_label))\n",
    "        IntermXmatrix = np.zeros(((X_data.shape[0]*(num_classes-1)),num_classes))\n",
    "        count6 = 0\n",
    "        m = (X_data.shape[0]*(num_classes-1))\n",
    "        nonZeroColumnIndicesAndValuesInIntermXmatrix = []# np.zeros((m,4)) \n",
    "        print('\\n Calculating Kernalized Product')\n",
    "        \n",
    "        for i in tqdm(range(0,X.shape[0])):\n",
    "            for p in range(0,num_classes):\n",
    "                if(trainLabelVector[i]!=p):   \n",
    "                    tempArray = []\n",
    "                    for j in range(0,num_classes):\n",
    "                        if(j==trainLabelVector[i]):\n",
    "                            tempArray.append(j)\n",
    "                            tempArray.append(i+1)\n",
    "                            IntermXmatrix[count6,j] = i+1\n",
    "                        elif(j==p):\n",
    "                            tempArray.append(j)\n",
    "                            tempArray.append(-(i+1))\n",
    "                            IntermXmatrix[count6,j] = -(i+1)\n",
    "                    count6 += 1\n",
    "                    nonZeroColumnIndicesAndValuesInIntermXmatrix.append(tempArray)\n",
    "                    \n",
    "        #nonZeroColumnIndicesAndValuesInIntermXmatrix = np.array(nonZeroColumnIndicesAndValuesInIntermXmatrix)\n",
    "        matrix2 = IntermXmatrix.T\n",
    "        M2 = scipy.sparse.coo_matrix(IntermXmatrix)\n",
    "        M3 = scipy.sparse.coo_matrix(IntermXmatrix.T)\n",
    "        m = (X_data.shape[0]*(num_classes-1))\n",
    "        H = np.zeros((m,m))\n",
    "        tempCoeff = (1/(X.shape[1]+1))\n",
    "        #tempCoeff = 2\n",
    "        \n",
    "        \n",
    "        if(kernel == 'rbf'):\n",
    "            matrix2 = matrix2.tolist()\n",
    "            #X = X.tolist()\n",
    "            print('\\n Calculating Kernalized Product')\n",
    "            for i in tqdm(range(0,m)):\n",
    "                for j in range(0,i+1):\n",
    "                    #nonZeroColumnIndicesAndValuesInIntermXmatrix[i][0]\n",
    "                    #nonZeroIndicesLocation = np.nonzero(IntermXmatrix[i,:])\n",
    "                    #temp8 = IntermXmatrix[i,:][nonZeroIndicesLocation][0]\n",
    "                    temp8 = nonZeroColumnIndicesAndValuesInIntermXmatrix[i][1]\n",
    "                    #temp9 = IntermXmatrix[i,:][nonZeroIndicesLocation][1]\n",
    "                    temp9 =nonZeroColumnIndicesAndValuesInIntermXmatrix[i][3]\n",
    "                    #locOftemp8 = nonZeroIndicesLocation[0]\n",
    "                    locOftemp8 = nonZeroColumnIndicesAndValuesInIntermXmatrix[i][0]\n",
    "                    #locOftemp9 = nonZeroIndicesLocation[1]\n",
    "                    locOftemp9 = nonZeroColumnIndicesAndValuesInIntermXmatrix[i][2]\n",
    "                    temp10 = matrix2[locOftemp8][j]\n",
    "                    temp11 = matrix2[locOftemp9][j]\n",
    "                    #temp10zero = 1\n",
    "                    #temp11zero = 1\n",
    "                    #if(temp10 == 0):\n",
    "                        #temp10zero = 0\n",
    "                    #if(temp11 == 0):\n",
    "                        #temp11zero = 0\n",
    "                    temp8Pos = 1\n",
    "                    temp9Pos = 1\n",
    "                    temp10Pos = 1\n",
    "                    temp11Pos = 1\n",
    "                    \n",
    "                    if(temp8 < 0):\n",
    "                        temp8Pos = -1\n",
    "                    if(temp9 < 0):\n",
    "                        temp9Pos = -1\n",
    "                    if(temp10 < 0):\n",
    "                        temp10Pos = -1\n",
    "                    if(temp11 < 0):\n",
    "                        temp11Pos = -1\n",
    "                        \n",
    "                    if(temp10 != 0):\n",
    "                        #H[i,j] += (2.718281828459045)**(-1*normsquare(np.append(temp8Pos*X[int(temp8Pos*temp8)-1,:],temp8Pos),np.append(temp10Pos*X[int(temp10Pos*temp10)-1,:],temp10Pos))/(2*sigma**2))                       \n",
    "                        H[i,j] += (2.718281828459045)**(-1*(np.linalg.norm(np.append(temp8Pos*X[int(temp8Pos*temp8)-1,:],temp8Pos)-np.append(temp10Pos*X[int(temp10Pos*temp10)-1,:],temp10Pos))**2)/(2*sigma**2))\n",
    "                    if(temp11 != 0):\n",
    "                        #H[i,j] += (2.718281828459045)**(-1*normsquare(np.append(temp9Pos*X[int(temp9Pos*temp9)-1,:],temp9Pos),np.append(temp11Pos*X[int(temp11Pos*temp11)-1,:],temp11Pos))/(2*sigma**2))\n",
    "                        H[i,j] += (2.718281828459045)** (-1*(np.linalg.norm(np.append(temp9Pos*X[int(temp9Pos*temp9)-1,:],temp9Pos)-np.append(temp11Pos*X[int(temp11Pos*temp11)-1,:],temp11Pos))**2)/(2*sigma**2))    \n",
    "\n",
    "        \n",
    "        elif(kernel == 'polynomial'):\n",
    "            print('\\n Calculating Kernalized Product')\n",
    "            for i in tqdm(range(0,m)):\n",
    "                for j in range(0,i+1):\n",
    "                    count1 = 0\n",
    "                    #count2 = 0\n",
    "                    for k in range(0,IntermXmatrix.shape[1]):\n",
    "                        if(count1==2):\n",
    "                            break\n",
    "                        else:\n",
    "                            temp3 = int(IntermXmatrix[i,k])\n",
    "                            temp4 = int(matrix2[k,j])\n",
    "                            #print(temp3,temp4)\n",
    "                            if(temp3>0):\n",
    "                                count1+=1\n",
    "                                if(temp4>0): \n",
    "                                    H[i,j] += ((1+((1/tempCoeff)*np.dot(np.append(X[temp3-1,:],1.0),np.append(X[temp4-1,:],1.0))))**degree)\n",
    "                                elif(temp4<0):                                    \n",
    "                                    H[i,j] += ((1+((1/tempCoeff)*np.dot(np.append(X[temp3-1,:],1.0),np.append(-1*X[-temp4-1,:],-1.0))))**degree)\n",
    "                            elif(temp3<0):\n",
    "                                count1+=1\n",
    "                                if(temp4>0):\n",
    "                                    H[i,j] += ((1+((1/tempCoeff)*np.dot(np.append(X[temp4-1,:],1.0),np.append(-1*X[-temp3-1,:],-1.0))))**degree)\n",
    "                                elif(temp4<0):\n",
    "                                    H[i,j] += ((1+((1/tempCoeff)*np.dot(np.append(-1*X[-temp4-1,:],-1.0),np.append(-1*X[-temp3-1,:],-1.0))))**degree)\n",
    "              \n",
    "\n",
    "        elif(kernel == 'kartheek'):\n",
    "            print('\\n Calculating Kernalized Product')\n",
    "            for i in tqdm(range(0,m)):\n",
    "                for j in range(0,i+1):\n",
    "                    count1 = 0\n",
    "                    #count2 = 0\n",
    "                    for k in range(0,IntermXmatrix.shape[1]):\n",
    "                        if(count1==2):\n",
    "                            break\n",
    "                        else:\n",
    "                            temp3 = int(IntermXmatrix[i,k])\n",
    "                            temp4 = int(matrix2[k,j])\n",
    "                            #print(temp3,temp4)\n",
    "                            if(temp3>0):\n",
    "                                count1+=1\n",
    "                                if(temp4>0):                             \n",
    "                                    H[i,j] += np.exp(-1*(np.linalg.norm(X[temp3-1,:]-X[temp4-1,:])**2)/(2*sigma**2))\n",
    "                                elif(temp4<0):\n",
    "                                    H[i,j] += np.exp(-1*(np.linalg.norm(np.append(X[temp3-1,:],1.0)-np.append(-1*X[-temp4-1,:],-1.0))**2)/(2*sigma**2))\n",
    "                            elif(temp3<0):\n",
    "                                count1+=1\n",
    "                                if(temp4>0):\n",
    "                                    H[i,j] += np.exp(-1*(np.linalg.norm(np.append(X[temp4-1,:],1.0)-np.append(-1*X[-temp3-1,:],-1.0))**2)/(2*sigma**2))                    \n",
    "                                elif(temp4<0):\n",
    "                                    H[i,j] += np.exp(-1*(np.linalg.norm(-1*X[-temp3-1,:]+X[-temp4-1,:])**2)/(2*sigma**2))\n",
    "        print('\\n Calculating Kernalized Product')\n",
    "        for i in tqdm(range(0,m)):\n",
    "            for j in range(0,i+1):\n",
    "                if(j>i):\n",
    "                    H[i,j]=H[j,i]                 \n",
    "        #print(H.shape)        \n",
    "\n",
    "        return H,IntermXmatrix"
   ]
  },
  {
   "cell_type": "markdown",
   "metadata": {},
   "source": [
    "WINE DATASET"
   ]
  },
  {
   "cell_type": "code",
   "execution_count": 5,
   "metadata": {},
   "outputs": [
    {
     "name": "stdout",
     "output_type": "stream",
     "text": [
      "\n",
      " Calculating fullXmatrix\n"
     ]
    },
    {
     "data": {
      "application/vnd.jupyter.widget-view+json": {
       "model_id": "4151b829a22c43b19679a64b2daaafa3",
       "version_major": 2,
       "version_minor": 0
      },
      "text/plain": [
       "HBox(children=(IntProgress(value=0, max=143), HTML(value='')))"
      ]
     },
     "metadata": {},
     "output_type": "display_data"
    },
    {
     "name": "stdout",
     "output_type": "stream",
     "text": [
      "\n",
      "\n",
      " Calculating Kernalized Product\n"
     ]
    },
    {
     "data": {
      "application/vnd.jupyter.widget-view+json": {
       "model_id": "f61f4abe132b4db180f54fcf0ef62eb5",
       "version_major": 2,
       "version_minor": 0
      },
      "text/plain": [
       "HBox(children=(IntProgress(value=0, max=143), HTML(value='')))"
      ]
     },
     "metadata": {},
     "output_type": "display_data"
    },
    {
     "name": "stdout",
     "output_type": "stream",
     "text": [
      "\n",
      "\n",
      " Calculating Kernalized Product\n"
     ]
    },
    {
     "data": {
      "application/vnd.jupyter.widget-view+json": {
       "model_id": "8d25eac04e824441ad14f23fd960919e",
       "version_major": 2,
       "version_minor": 0
      },
      "text/plain": [
       "HBox(children=(IntProgress(value=0, max=286), HTML(value='')))"
      ]
     },
     "metadata": {},
     "output_type": "display_data"
    },
    {
     "name": "stdout",
     "output_type": "stream",
     "text": [
      "\n",
      "\n",
      " Calculating Kernalized Product\n"
     ]
    },
    {
     "data": {
      "application/vnd.jupyter.widget-view+json": {
       "model_id": "e332ef70cdc041c5bba4420f690fb807",
       "version_major": 2,
       "version_minor": 0
      },
      "text/plain": [
       "HBox(children=(IntProgress(value=0, max=286), HTML(value='')))"
      ]
     },
     "metadata": {},
     "output_type": "display_data"
    },
    {
     "name": "stdout",
     "output_type": "stream",
     "text": [
      "\n",
      "     pcost       dcost       gap    pres   dres\n",
      " 0:  1.4472e+03 -4.9364e+03  6e+03  3e-17  1e-15\n",
      " 1:  1.6230e+02 -4.8632e+02  6e+02  1e-16  2e-15\n",
      " 2: -3.2852e+01 -1.2128e+02  9e+01  1e-16  6e-16\n",
      " 3: -4.7440e+01 -5.4771e+01  7e+00  9e-17  2e-16\n",
      " 4: -4.7667e+01 -4.7769e+01  1e-01  3e-16  1e-16\n",
      " 5: -4.7667e+01 -4.7668e+01  1e-03  1e-16  2e-16\n",
      " 6: -4.7667e+01 -4.7667e+01  1e-05  1e-16  1e-16\n",
      "Optimal solution found.\n",
      "\n",
      " Time taken for training in seconds:  2.550504446029663\n",
      "\n",
      " Calculating prediction values\n"
     ]
    },
    {
     "data": {
      "application/vnd.jupyter.widget-view+json": {
       "model_id": "e3162212e8854ccc923b83f51ff93fc2",
       "version_major": 2,
       "version_minor": 0
      },
      "text/plain": [
       "HBox(children=(IntProgress(value=0, max=143), HTML(value='')))"
      ]
     },
     "metadata": {},
     "output_type": "display_data"
    },
    {
     "name": "stdout",
     "output_type": "stream",
     "text": [
      "\n"
     ]
    },
    {
     "data": {
      "text/html": [
       "<div>\n",
       "<style scoped>\n",
       "    .dataframe tbody tr th:only-of-type {\n",
       "        vertical-align: middle;\n",
       "    }\n",
       "\n",
       "    .dataframe tbody tr th {\n",
       "        vertical-align: top;\n",
       "    }\n",
       "\n",
       "    .dataframe thead th {\n",
       "        text-align: right;\n",
       "    }\n",
       "</style>\n",
       "<table border=\"1\" class=\"dataframe\">\n",
       "  <thead>\n",
       "    <tr style=\"text-align: right;\">\n",
       "      <th>col_0</th>\n",
       "      <th>0</th>\n",
       "      <th>1</th>\n",
       "      <th>2</th>\n",
       "    </tr>\n",
       "    <tr>\n",
       "      <th>row_0</th>\n",
       "      <th></th>\n",
       "      <th></th>\n",
       "      <th></th>\n",
       "    </tr>\n",
       "  </thead>\n",
       "  <tbody>\n",
       "    <tr>\n",
       "      <th>0</th>\n",
       "      <td>47</td>\n",
       "      <td>0</td>\n",
       "      <td>0</td>\n",
       "    </tr>\n",
       "    <tr>\n",
       "      <th>1</th>\n",
       "      <td>0</td>\n",
       "      <td>62</td>\n",
       "      <td>0</td>\n",
       "    </tr>\n",
       "    <tr>\n",
       "      <th>2</th>\n",
       "      <td>0</td>\n",
       "      <td>0</td>\n",
       "      <td>34</td>\n",
       "    </tr>\n",
       "  </tbody>\n",
       "</table>\n",
       "</div>"
      ],
      "text/plain": [
       "col_0   0   1   2\n",
       "row_0            \n",
       "0      47   0   0\n",
       "1       0  62   0\n",
       "2       0   0  34"
      ]
     },
     "execution_count": 5,
     "metadata": {},
     "output_type": "execute_result"
    }
   ],
   "source": [
    "from sklearn.datasets import load_wine\n",
    "Givendata = load_wine()\n",
    "ran = np.random.rand(len(Givendata['data'])) < 0.8\n",
    "train_X_data = Givendata['data'][ran]\n",
    "train_Y_data = Givendata['target'][ran]\n",
    "val_X_data = Givendata['data'][~ran]\n",
    "val_Y_data = Givendata['target'][~ran]\n",
    "kernel = 'rbf'\n",
    "degree = 4\n",
    "sigma = 0.4\n",
    "C = 10\n",
    "a1 = SMCSVM()\n",
    "#a1.fit()\n",
    "start_time = time.time()\n",
    "a1.fit(train_X_data,train_Y_data,C,kernel,degree,sigma)\n",
    "print('\\n Time taken for training in seconds: ', time.time()-start_time )\n",
    "predictedLabels = a1.predict(train_X_data)\n",
    "conMatrix = pd.crosstab(np.array(predictedLabels).ravel(),train_Y_data.reshape(-1,1).ravel())\n",
    "conMatrix"
   ]
  },
  {
   "cell_type": "markdown",
   "metadata": {},
   "source": [
    "IRIS DATASET"
   ]
  },
  {
   "cell_type": "code",
   "execution_count": 101,
   "metadata": {},
   "outputs": [
    {
     "name": "stdout",
     "output_type": "stream",
     "text": [
      "\n",
      " Calculating fullXmatrix\n"
     ]
    },
    {
     "data": {
      "application/vnd.jupyter.widget-view+json": {
       "model_id": "0d076e9dad124e61917e9a3eb56da3d2",
       "version_major": 2,
       "version_minor": 0
      },
      "text/plain": [
       "HBox(children=(IntProgress(value=0, max=121), HTML(value='')))"
      ]
     },
     "metadata": {},
     "output_type": "display_data"
    },
    {
     "name": "stdout",
     "output_type": "stream",
     "text": [
      "\n",
      " Calculating Kernalized Product\n"
     ]
    },
    {
     "data": {
      "application/vnd.jupyter.widget-view+json": {
       "model_id": "61804bb2f5a0461fbd61104954cf8fbc",
       "version_major": 2,
       "version_minor": 0
      },
      "text/plain": [
       "HBox(children=(IntProgress(value=0, max=121), HTML(value='')))"
      ]
     },
     "metadata": {},
     "output_type": "display_data"
    },
    {
     "name": "stdout",
     "output_type": "stream",
     "text": [
      "\n",
      " Calculating Kernalized Product\n"
     ]
    },
    {
     "data": {
      "application/vnd.jupyter.widget-view+json": {
       "model_id": "24033f8f52964b21810a910da7dd2fbb",
       "version_major": 2,
       "version_minor": 0
      },
      "text/plain": [
       "HBox(children=(IntProgress(value=0, max=242), HTML(value='')))"
      ]
     },
     "metadata": {},
     "output_type": "display_data"
    },
    {
     "name": "stdout",
     "output_type": "stream",
     "text": [
      "\n",
      " Calculating Kernalized Product\n"
     ]
    },
    {
     "data": {
      "application/vnd.jupyter.widget-view+json": {
       "model_id": "1dab72c891ff477e83035b16aef1069a",
       "version_major": 2,
       "version_minor": 0
      },
      "text/plain": [
       "HBox(children=(IntProgress(value=0, max=242), HTML(value='')))"
      ]
     },
     "metadata": {},
     "output_type": "display_data"
    },
    {
     "name": "stdout",
     "output_type": "stream",
     "text": [
      "     pcost       dcost       gap    pres   dres\n",
      " 0:  4.4085e+02 -5.2741e+03  1e+04  2e-01  3e-15\n",
      " 1:  2.4681e+02 -5.0963e+02  8e+02  6e-03  2e-15\n",
      " 2:  2.6505e+01 -7.4044e+01  1e+02  2e-16  3e-15\n",
      " 3: -4.5001e+00 -1.7929e+01  1e+01  2e-16  1e-15\n",
      " 4: -7.1782e+00 -8.7972e+00  2e+00  2e-16  4e-16\n",
      " 5: -7.5109e+00 -7.9163e+00  4e-01  2e-16  2e-16\n",
      " 6: -7.6333e+00 -7.7414e+00  1e-01  1e-16  2e-16\n",
      " 7: -7.6661e+00 -7.6821e+00  2e-02  2e-16  2e-16\n",
      " 8: -7.6713e+00 -7.6723e+00  1e-03  2e-16  2e-16\n",
      " 9: -7.6717e+00 -7.6717e+00  2e-05  2e-16  2e-16\n",
      "10: -7.6717e+00 -7.6717e+00  5e-07  2e-16  2e-16\n",
      "Optimal solution found.\n",
      "\n",
      " Time taken for training in seconds:  2.06280779838562\n",
      "\n",
      " Calculating prediction values\n"
     ]
    },
    {
     "data": {
      "application/vnd.jupyter.widget-view+json": {
       "model_id": "b8cf88e6aa86401c9a05ecb58c7c8f68",
       "version_major": 2,
       "version_minor": 0
      },
      "text/plain": [
       "HBox(children=(IntProgress(value=0, max=121), HTML(value='')))"
      ]
     },
     "metadata": {},
     "output_type": "display_data"
    },
    {
     "data": {
      "text/html": [
       "<div>\n",
       "<style scoped>\n",
       "    .dataframe tbody tr th:only-of-type {\n",
       "        vertical-align: middle;\n",
       "    }\n",
       "\n",
       "    .dataframe tbody tr th {\n",
       "        vertical-align: top;\n",
       "    }\n",
       "\n",
       "    .dataframe thead th {\n",
       "        text-align: right;\n",
       "    }\n",
       "</style>\n",
       "<table border=\"1\" class=\"dataframe\">\n",
       "  <thead>\n",
       "    <tr style=\"text-align: right;\">\n",
       "      <th>col_0</th>\n",
       "      <th>0</th>\n",
       "      <th>1</th>\n",
       "      <th>2</th>\n",
       "    </tr>\n",
       "    <tr>\n",
       "      <th>row_0</th>\n",
       "      <th></th>\n",
       "      <th></th>\n",
       "      <th></th>\n",
       "    </tr>\n",
       "  </thead>\n",
       "  <tbody>\n",
       "    <tr>\n",
       "      <th>0</th>\n",
       "      <td>42</td>\n",
       "      <td>0</td>\n",
       "      <td>0</td>\n",
       "    </tr>\n",
       "    <tr>\n",
       "      <th>1</th>\n",
       "      <td>0</td>\n",
       "      <td>37</td>\n",
       "      <td>3</td>\n",
       "    </tr>\n",
       "    <tr>\n",
       "      <th>2</th>\n",
       "      <td>0</td>\n",
       "      <td>1</td>\n",
       "      <td>38</td>\n",
       "    </tr>\n",
       "  </tbody>\n",
       "</table>\n",
       "</div>"
      ],
      "text/plain": [
       "col_0   0   1   2\n",
       "row_0            \n",
       "0      42   0   0\n",
       "1       0  37   3\n",
       "2       0   1  38"
      ]
     },
     "execution_count": 101,
     "metadata": {},
     "output_type": "execute_result"
    }
   ],
   "source": [
    "from sklearn.datasets import load_iris\n",
    "Givendata =load_iris()\n",
    "ran = np.random.rand(len(Givendata['data'])) < 0.8\n",
    "train_X_data = Givendata['data'][ran]\n",
    "train_Y_data = Givendata['target'][ran]\n",
    "val_X_data = Givendata['data'][~ran]\n",
    "val_Y_data = Givendata['target'][~ran]\n",
    "kernel = 'rbf'\n",
    "degree = 4\n",
    "sigma = 0.4\n",
    "C = 10\n",
    "a1 = SMCSVM()\n",
    "#a1.fit()\n",
    "start_time = time.time()\n",
    "a1.fit(train_X_data,train_Y_data,C,kernel,degree,sigma)\n",
    "print('\\n Time taken for training in seconds: ', time.time()-start_time )\n",
    "predictedLabels = a1.predict(train_X_data)\n",
    "conMatrix = pd.crosstab(np.array(predictedLabels).ravel(),train_Y_data.reshape(-1,1).ravel())\n",
    "conMatrix"
   ]
  },
  {
   "cell_type": "code",
   "execution_count": 6,
   "metadata": {},
   "outputs": [],
   "source": [
    "def plot_decision_regions(classifier,train_X_data,train_Y_data,resolution=1):\n",
    "  \n",
    "   markers = ('s', 'x', 'o', '^', 'v')\n",
    "   colors = ('red', 'blue', 'lightgreen', 'gray', 'cyan')\n",
    "  \n",
    "   cmap = ListedColormap(colors[:len(np.unique(train_Y_data))])\n",
    "\n",
    "   MinFirstAttr, MaxFirstAttr = train_X_data[:, 0].min() - 1 , train_X_data[:, 0].max() + 1\n",
    "    \n",
    "   MinSecAttr,MaxSecAttr = train_X_data[:, 1].min() - 1, train_X_data[:, 1].max() + 1\n",
    "   MeshGridPtsFirstAttr, MeshGridPtsSecAttr = np.meshgrid(np.arange(MinFirstAttr, MaxFirstAttr, resolution),np.arange(MinSecAttr, MaxSecAttr, resolution))\n",
    "   print(MeshGridPtsFirstAttr.ravel().shape)\n",
    "   print(MeshGridPtsSecAttr.ravel().shape)\n",
    "   Z = classifier.predict(np.array([MeshGridPtsFirstAttr.ravel(), MeshGridPtsSecAttr.ravel()]).T)\n",
    "   Z = np.array(Z) \n",
    "   Z = Z.reshape(MeshGridPtsFirstAttr.shape)\n",
    "   plt.contourf(MeshGridPtsFirstAttr, MeshGridPtsSecAttr, Z, alpha=0.1, cmap=cmap)\n",
    "   plt.xlim(MeshGridPtsFirstAttr.min(), MeshGridPtsFirstAttr.max())\n",
    "   plt.ylim(MeshGridPtsSecAttr.min(), MeshGridPtsSecAttr.max())\n",
    "   for index, cl in enumerate(np.unique(train_Y_data)):\n",
    "      plt.scatter(x=train_X_data[train_Y_data == cl, 0], y=train_X_data[train_Y_data == cl, 1],alpha=0.8, c=cmap(index),marker=markers[index], label=cl)\n",
    "   plt.legend(loc='upper left')\n",
    "   plt.show()"
   ]
  },
  {
   "cell_type": "code",
   "execution_count": 36,
   "metadata": {},
   "outputs": [
    {
     "data": {
      "text/plain": [
       "(84,)"
      ]
     },
     "execution_count": 36,
     "metadata": {},
     "output_type": "execute_result"
    }
   ],
   "source": [
    "train_Y_data.shape"
   ]
  },
  {
   "cell_type": "code",
   "execution_count": 64,
   "metadata": {
    "scrolled": true
   },
   "outputs": [
    {
     "name": "stdout",
     "output_type": "stream",
     "text": [
      "\n",
      " Calculating fullXmatrix\n"
     ]
    },
    {
     "data": {
      "application/vnd.jupyter.widget-view+json": {
       "model_id": "ad8f509a0d2149368bf2261f6171398b",
       "version_major": 2,
       "version_minor": 0
      },
      "text/plain": [
       "HBox(children=(IntProgress(value=0, max=90), HTML(value='')))"
      ]
     },
     "metadata": {},
     "output_type": "display_data"
    },
    {
     "name": "stdout",
     "output_type": "stream",
     "text": [
      "\n",
      " Calculating Kernalized Product\n"
     ]
    },
    {
     "data": {
      "application/vnd.jupyter.widget-view+json": {
       "model_id": "a9889ca90f684b129feba93d8a55f46b",
       "version_major": 2,
       "version_minor": 0
      },
      "text/plain": [
       "HBox(children=(IntProgress(value=0, max=90), HTML(value='')))"
      ]
     },
     "metadata": {},
     "output_type": "display_data"
    },
    {
     "name": "stdout",
     "output_type": "stream",
     "text": [
      "\n",
      " Calculating Kernalized Product\n"
     ]
    },
    {
     "data": {
      "application/vnd.jupyter.widget-view+json": {
       "model_id": "44cb3b46e76f481180a7040b2e297853",
       "version_major": 2,
       "version_minor": 0
      },
      "text/plain": [
       "HBox(children=(IntProgress(value=0, max=180), HTML(value='')))"
      ]
     },
     "metadata": {},
     "output_type": "display_data"
    },
    {
     "name": "stdout",
     "output_type": "stream",
     "text": [
      "\n",
      " Calculating Kernalized Product\n"
     ]
    },
    {
     "data": {
      "application/vnd.jupyter.widget-view+json": {
       "model_id": "3408b6b8004c4a14ae2120a435286be5",
       "version_major": 2,
       "version_minor": 0
      },
      "text/plain": [
       "HBox(children=(IntProgress(value=0, max=180), HTML(value='')))"
      ]
     },
     "metadata": {},
     "output_type": "display_data"
    },
    {
     "name": "stdout",
     "output_type": "stream",
     "text": [
      "     pcost       dcost       gap    pres   dres\n",
      " 0:  4.5598e+04 -1.9117e+05  3e+05  3e-02  3e-14\n",
      " 1:  1.0164e+04 -1.4632e+04  3e+04  9e-04  4e-14\n",
      " 2:  1.4359e+03 -1.7976e+03  3e+03  2e-16  2e-14\n",
      " 3:  1.7910e+02 -2.8647e+02  5e+02  2e-16  9e-15\n",
      " 4:  1.3101e+01 -5.2343e+01  7e+01  2e-16  3e-15\n",
      " 5: -5.5028e+00 -1.3877e+01  8e+00  2e-16  9e-16\n",
      " 6: -6.7720e+00 -7.5172e+00  7e-01  2e-16  3e-16\n",
      " 7: -6.9203e+00 -7.0980e+00  2e-01  1e-16  2e-16\n",
      " 8: -6.9770e+00 -7.0132e+00  4e-02  1e-16  2e-16\n",
      " 9: -6.9910e+00 -6.9928e+00  2e-03  2e-16  2e-16\n",
      "10: -6.9917e+00 -6.9919e+00  1e-04  2e-16  2e-16\n",
      "11: -6.9918e+00 -6.9918e+00  5e-06  2e-16  2e-16\n",
      "Optimal solution found.\n",
      "\n",
      " Time taken for training in seconds:  1.3242363929748535\n",
      "\n",
      " Calculating prediction values\n"
     ]
    },
    {
     "data": {
      "application/vnd.jupyter.widget-view+json": {
       "model_id": "4977fbfa2f1e4b76bc8ea3955d887d57",
       "version_major": 2,
       "version_minor": 0
      },
      "text/plain": [
       "HBox(children=(IntProgress(value=0, max=90), HTML(value='')))"
      ]
     },
     "metadata": {},
     "output_type": "display_data"
    },
    {
     "name": "stdout",
     "output_type": "stream",
     "text": [
      "(4745,)\n",
      "(4745,)\n",
      "\n",
      " Calculating prediction values\n"
     ]
    },
    {
     "data": {
      "application/vnd.jupyter.widget-view+json": {
       "model_id": "0e7f8017ef694c529d9a4d5aa395dcda",
       "version_major": 2,
       "version_minor": 0
      },
      "text/plain": [
       "HBox(children=(IntProgress(value=0, max=4745), HTML(value='')))"
      ]
     },
     "metadata": {},
     "output_type": "display_data"
    },
    {
     "name": "stderr",
     "output_type": "stream",
     "text": [
      "'c' argument looks like a single numeric RGB or RGBA sequence, which should be avoided as value-mapping will have precedence in case its length matches with 'x' & 'y'.  Please use a 2-D array with a single row if you really want to specify the same RGB or RGBA value for all points.\n",
      "'c' argument looks like a single numeric RGB or RGBA sequence, which should be avoided as value-mapping will have precedence in case its length matches with 'x' & 'y'.  Please use a 2-D array with a single row if you really want to specify the same RGB or RGBA value for all points.\n",
      "'c' argument looks like a single numeric RGB or RGBA sequence, which should be avoided as value-mapping will have precedence in case its length matches with 'x' & 'y'.  Please use a 2-D array with a single row if you really want to specify the same RGB or RGBA value for all points.\n"
     ]
    },
    {
     "data": {
      "image/png": "[encoded data removed]",
      "text/plain": [
       "<Figure size 432x288 with 1 Axes>"
      ]
     },
     "metadata": {
      "needs_background": "light"
     },
     "output_type": "display_data"
    }
   ],
   "source": [
    "#X1, Y1 = make_classification(n_features=2, n_redundant=0, n_informative=1,n_clusters_per_class=1)\n",
    "#X1, Y1 = make_classification(n_features=2, n_redundant=0, n_informative=2,n_clusters_per_class=1)\n",
    "#X1, Y1 = make_classification(n_features=2, n_redundant=0, n_informative=2)\n",
    "X1, Y1 = make_classification(n_features=2, n_redundant=0, n_informative=2,n_clusters_per_class=1, n_classes=3)\n",
    "#X1, Y1 = make_blobs(n_features=2, centers=3)\n",
    "#X1, Y1 = make_gaussian_quantiles(n_features=2, n_classes=3)\n",
    "ran = np.random.rand(len(X1)) < 0.8\n",
    "train_X_data = X1[ran]\n",
    "train_Y_data = Y1[ran]\n",
    "val_X_data = X1[~ran]\n",
    "val_Y_data = Y1[~ran]\n",
    "kernel = 'rbf'\n",
    "degree = 4\n",
    "sigma = 0.4\n",
    "C = 100\n",
    "a1 = SMCSVM()\n",
    "#a1.fit()\n",
    "start_time = time.time()\n",
    "a1.fit(train_X_data,train_Y_data,C,kernel,degree,sigma)\n",
    "print('\\n Time taken for training in seconds: ', time.time()-start_time )\n",
    "predictedLabels = a1.predict(train_X_data)\n",
    "conMatrix = pd.crosstab(np.array(predictedLabels).ravel(),train_Y_data.reshape(-1,1).ravel())\n",
    "conMatrix\n",
    "classifier = a1\n",
    "plot_decision_regions(classifier,train_X_data,train_Y_data,resolution=0.1)"
   ]
  },
  {
   "cell_type": "code",
   "execution_count": null,
   "metadata": {},
   "outputs": [],
   "source": []
  },
  {
   "cell_type": "code",
   "execution_count": 39,
   "metadata": {},
   "outputs": [
    {
     "name": "stdout",
     "output_type": "stream",
     "text": [
      "\n",
      " Calculating fullXmatrix\n"
     ]
    },
    {
     "data": {
      "application/vnd.jupyter.widget-view+json": {
       "model_id": "97e77edc8e3d46369e51e3dc43df56e0",
       "version_major": 2,
       "version_minor": 0
      },
      "text/plain": [
       "HBox(children=(IntProgress(value=0, max=75), HTML(value='')))"
      ]
     },
     "metadata": {},
     "output_type": "display_data"
    },
    {
     "name": "stdout",
     "output_type": "stream",
     "text": [
      "\n",
      " Calculating Kernalized Product\n"
     ]
    },
    {
     "data": {
      "application/vnd.jupyter.widget-view+json": {
       "model_id": "19420fa508fc446997185260581fed9a",
       "version_major": 2,
       "version_minor": 0
      },
      "text/plain": [
       "HBox(children=(IntProgress(value=0, max=75), HTML(value='')))"
      ]
     },
     "metadata": {},
     "output_type": "display_data"
    },
    {
     "name": "stdout",
     "output_type": "stream",
     "text": [
      "\n",
      " Calculating Kernalized Product\n"
     ]
    },
    {
     "data": {
      "application/vnd.jupyter.widget-view+json": {
       "model_id": "2c0505f247834bd68118d50da20dcaac",
       "version_major": 2,
       "version_minor": 0
      },
      "text/plain": [
       "HBox(children=(IntProgress(value=0, max=150), HTML(value='')))"
      ]
     },
     "metadata": {},
     "output_type": "display_data"
    },
    {
     "name": "stdout",
     "output_type": "stream",
     "text": [
      "\n",
      " Calculating Kernalized Product\n"
     ]
    },
    {
     "data": {
      "application/vnd.jupyter.widget-view+json": {
       "model_id": "580041075ff74d63956a2ff652a4b4be",
       "version_major": 2,
       "version_minor": 0
      },
      "text/plain": [
       "HBox(children=(IntProgress(value=0, max=150), HTML(value='')))"
      ]
     },
     "metadata": {},
     "output_type": "display_data"
    },
    {
     "name": "stdout",
     "output_type": "stream",
     "text": [
      "     pcost       dcost       gap    pres   dres\n",
      " 0:  4.5050e+04 -1.8653e+05  3e+05  2e-02  3e-14\n",
      " 1:  9.6986e+03 -1.4068e+04  2e+04  8e-04  4e-14\n",
      " 2:  1.3589e+03 -1.7273e+03  3e+03  2e-16  2e-14\n",
      " 3:  1.6668e+02 -2.7724e+02  4e+02  2e-16  8e-15\n",
      " 4:  1.0437e+01 -5.1747e+01  6e+01  2e-16  3e-15\n",
      " 5: -6.6313e+00 -1.4424e+01  8e+00  2e-16  9e-16\n",
      " 6: -7.6978e+00 -8.4055e+00  7e-01  2e-16  3e-16\n",
      " 7: -7.7931e+00 -7.9737e+00  2e-01  2e-16  2e-16\n",
      " 8: -7.8296e+00 -7.8685e+00  4e-02  2e-16  2e-16\n",
      " 9: -7.8406e+00 -7.8433e+00  3e-03  2e-16  2e-16\n",
      "10: -7.8413e+00 -7.8414e+00  8e-05  1e-16  2e-16\n",
      "11: -7.8413e+00 -7.8413e+00  2e-06  2e-16  2e-16\n",
      "Optimal solution found.\n",
      "\n",
      " Time taken for training in seconds:  1.1193370819091797\n",
      "\n",
      " Calculating prediction values\n"
     ]
    },
    {
     "data": {
      "application/vnd.jupyter.widget-view+json": {
       "model_id": "47255d2a52754cf0abda8cc934385c9e",
       "version_major": 2,
       "version_minor": 0
      },
      "text/plain": [
       "HBox(children=(IntProgress(value=0, max=75), HTML(value='')))"
      ]
     },
     "metadata": {},
     "output_type": "display_data"
    },
    {
     "name": "stdout",
     "output_type": "stream",
     "text": [
      "col_0   0   1   2\n",
      "row_0            \n",
      "0      28   0   0\n",
      "1       1  26   0\n",
      "2       0   0  20\n",
      "(5040,)\n",
      "(5040,)\n",
      "\n",
      " Calculating prediction values\n"
     ]
    },
    {
     "data": {
      "application/vnd.jupyter.widget-view+json": {
       "model_id": "2bba757e7cf84f9ba85c4cd53caa8d3a",
       "version_major": 2,
       "version_minor": 0
      },
      "text/plain": [
       "HBox(children=(IntProgress(value=0, max=5040), HTML(value='')))"
      ]
     },
     "metadata": {},
     "output_type": "display_data"
    },
    {
     "name": "stderr",
     "output_type": "stream",
     "text": [
      "'c' argument looks like a single numeric RGB or RGBA sequence, which should be avoided as value-mapping will have precedence in case its length matches with 'x' & 'y'.  Please use a 2-D array with a single row if you really want to specify the same RGB or RGBA value for all points.\n",
      "'c' argument looks like a single numeric RGB or RGBA sequence, which should be avoided as value-mapping will have precedence in case its length matches with 'x' & 'y'.  Please use a 2-D array with a single row if you really want to specify the same RGB or RGBA value for all points.\n",
      "'c' argument looks like a single numeric RGB or RGBA sequence, which should be avoided as value-mapping will have precedence in case its length matches with 'x' & 'y'.  Please use a 2-D array with a single row if you really want to specify the same RGB or RGBA value for all points.\n"
     ]
    },
    {
     "data": {
      "image/png": "[encoded data removed]",
      "text/plain": [
       "<Figure size 432x288 with 1 Axes>"
      ]
     },
     "metadata": {
      "needs_background": "light"
     },
     "output_type": "display_data"
    }
   ],
   "source": [
    "#X1, Y1 = make_classification(n_features=2, n_redundant=0, n_informative=1,n_clusters_per_class=1)\n",
    "#X1, Y1 = make_classification(n_features=2, n_redundant=0, n_informative=2,n_clusters_per_class=1)\n",
    "#X1, Y1 = make_classification(n_features=2, n_redundant=0, n_informative=2)\n",
    "#X1, Y1 = make_classification(n_features=2, n_redundant=0, n_informative=2,n_clusters_per_class=1, n_classes=3)\n",
    "#X1, Y1 = make_blobs(n_features=2, centers=3)\n",
    "X1, Y1 = make_gaussian_quantiles(n_features=2, n_classes=3)\n",
    "ran = np.random.rand(len(X1)) < 0.8\n",
    "train_X_data = X1[ran]\n",
    "train_Y_data = Y1[ran]\n",
    "val_X_data = X1[~ran]\n",
    "val_Y_data = Y1[~ran]\n",
    "kernel = 'rbf'\n",
    "degree = 4\n",
    "sigma = 0.4\n",
    "C = 100\n",
    "a1 = SMCSVM()\n",
    "#a1.fit()\n",
    "start_time = time.time()\n",
    "a1.fit(train_X_data,train_Y_data,C,kernel,degree,sigma)\n",
    "print('\\n Time taken for training in seconds: ', time.time()-start_time )\n",
    "predictedLabels = a1.predict(train_X_data)\n",
    "conMatrix = pd.crosstab(np.array(predictedLabels).ravel(),train_Y_data.reshape(-1,1).ravel())\n",
    "print(conMatrix)\n",
    "classifier = a1\n",
    "plot_decision_regions(classifier,train_X_data,train_Y_data,resolution=0.1)"
   ]
  },
  {
   "cell_type": "code",
   "execution_count": 51,
   "metadata": {
    "scrolled": true
   },
   "outputs": [
    {
     "name": "stdout",
     "output_type": "stream",
     "text": [
      "\n",
      " Calculating fullXmatrix\n"
     ]
    },
    {
     "data": {
      "application/vnd.jupyter.widget-view+json": {
       "model_id": "8bf5cdd562774517a08735bc9f6b151d",
       "version_major": 2,
       "version_minor": 0
      },
      "text/plain": [
       "HBox(children=(IntProgress(value=0, max=78), HTML(value='')))"
      ]
     },
     "metadata": {},
     "output_type": "display_data"
    },
    {
     "name": "stdout",
     "output_type": "stream",
     "text": [
      "     pcost       dcost       gap    pres   dres\n",
      " 0:  2.9261e+08 -9.3939e+11  2e+12  5e-01  7e-09\n",
      " 1:  4.3392e+08 -1.4010e+11  3e+11  5e-02  2e-08\n",
      " 2:  3.5698e+08 -6.5678e+09  1e+10  2e-03  1e-09\n",
      " 3:  2.0340e+08 -2.7091e+08  5e+08  2e-05  1e-10\n",
      " 4:  3.2013e+07 -3.4666e+07  7e+07  2e-16  5e-11\n",
      " 5:  4.5888e+06 -5.0521e+06  1e+07  2e-16  3e-11\n",
      " 6:  6.5748e+05 -7.2279e+05  1e+06  2e-16  1e-11\n",
      " 7:  9.4186e+04 -1.0362e+05  2e+05  2e-16  4e-12\n",
      " 8:  1.3485e+04 -1.4859e+04  3e+04  2e-16  2e-12\n",
      " 9:  1.9282e+03 -2.1335e+03  4e+03  2e-16  6e-13\n",
      "10:  2.7468e+02 -3.0735e+02  6e+02  2e-16  2e-13\n",
      "11:  3.8737e+01 -4.4662e+01  8e+01  2e-16  1e-13\n",
      "12:  5.3045e+00 -6.6409e+00  1e+01  2e-16  3e-14\n",
      "13:  6.5581e-01 -1.0498e+00  2e+00  2e-16  1e-14\n",
      "14:  4.1164e-02 -1.9616e-01  2e-01  2e-16  5e-15\n",
      "15: -1.2474e-02 -1.1420e-01  1e-01  2e-16  2e-15\n",
      "16: -3.7029e-02 -1.1426e-01  8e-02  2e-16  1e-15\n",
      "17: -5.3252e-02 -1.1604e-01  6e-02  2e-16  1e-15\n",
      "18: -7.5030e-02 -8.4514e-02  9e-03  2e-16  2e-15\n",
      "19: -7.9116e-02 -7.9864e-02  7e-04  2e-16  2e-15\n",
      "20: -7.9469e-02 -7.9484e-02  2e-05  2e-16  2e-15\n",
      "21: -7.9477e-02 -7.9477e-02  3e-07  2e-16  2e-15\n",
      "22: -7.9477e-02 -7.9477e-02  2e-08  2e-16  2e-15\n",
      "Optimal solution found.\n",
      "\n",
      " Time taken for training in seconds:  0.24186182022094727\n",
      "\n",
      " Calculating prediction values\n"
     ]
    },
    {
     "data": {
      "application/vnd.jupyter.widget-view+json": {
       "model_id": "f85d824461354d5c8a0e62bc249bd2e9",
       "version_major": 2,
       "version_minor": 0
      },
      "text/plain": [
       "HBox(children=(IntProgress(value=0, max=78), HTML(value='')))"
      ]
     },
     "metadata": {},
     "output_type": "display_data"
    },
    {
     "name": "stdout",
     "output_type": "stream",
     "text": [
      "col_0   0   1   2   3\n",
      "row_0                \n",
      "0      17   0   0   0\n",
      "1       0  19   0   0\n",
      "2       0   0  20   0\n",
      "3       0   0   0  22\n",
      "(39246,)\n",
      "(39246,)\n",
      "\n",
      " Calculating prediction values\n"
     ]
    },
    {
     "data": {
      "application/vnd.jupyter.widget-view+json": {
       "model_id": "f20915b10f624906ad2d747e6b1531cc",
       "version_major": 2,
       "version_minor": 0
      },
      "text/plain": [
       "HBox(children=(IntProgress(value=0, max=39246), HTML(value='')))"
      ]
     },
     "metadata": {},
     "output_type": "display_data"
    },
    {
     "name": "stderr",
     "output_type": "stream",
     "text": [
      "'c' argument looks like a single numeric RGB or RGBA sequence, which should be avoided as value-mapping will have precedence in case its length matches with 'x' & 'y'.  Please use a 2-D array with a single row if you really want to specify the same RGB or RGBA value for all points.\n",
      "'c' argument looks like a single numeric RGB or RGBA sequence, which should be avoided as value-mapping will have precedence in case its length matches with 'x' & 'y'.  Please use a 2-D array with a single row if you really want to specify the same RGB or RGBA value for all points.\n",
      "'c' argument looks like a single numeric RGB or RGBA sequence, which should be avoided as value-mapping will have precedence in case its length matches with 'x' & 'y'.  Please use a 2-D array with a single row if you really want to specify the same RGB or RGBA value for all points.\n",
      "'c' argument looks like a single numeric RGB or RGBA sequence, which should be avoided as value-mapping will have precedence in case its length matches with 'x' & 'y'.  Please use a 2-D array with a single row if you really want to specify the same RGB or RGBA value for all points.\n"
     ]
    },
    {
     "data": {
      "image/png": "[encoded data removed]",
      "text/plain": [
       "<Figure size 432x288 with 1 Axes>"
      ]
     },
     "metadata": {
      "needs_background": "light"
     },
     "output_type": "display_data"
    }
   ],
   "source": [
    "#X1, Y1 = make_classification(n_features=2, n_redundant=0, n_informative=1,n_clusters_per_class=1)\n",
    "#X1, Y1 = make_classification(n_features=2, n_redundant=0, n_informative=2,n_clusters_per_class=1)\n",
    "#X1, Y1 = make_classification(n_features=2, n_redundant=0, n_informative=2)\n",
    "#X1, Y1 = make_classification(n_features=2, n_redundant=0, n_informative=2,n_clusters_per_class=1, n_classes=3)\n",
    "X1, Y1 = make_blobs(n_features=2, centers=4)\n",
    "#X1, Y1 = make_gaussian_quantiles(n_features=2, n_classes=3)\n",
    "ran = np.random.rand(len(X1)) < 0.8\n",
    "train_X_data = X1[ran]\n",
    "train_Y_data = Y1[ran]\n",
    "val_X_data = X1[~ran]\n",
    "val_Y_data = Y1[~ran]\n",
    "kernel = 'linear'\n",
    "degree = 4\n",
    "sigma = 0.4\n",
    "C = 100000\n",
    "a1 = SMCSVM()\n",
    "#a1.fit()\n",
    "start_time = time.time()\n",
    "a1.fit(train_X_data,train_Y_data,C,kernel,degree,sigma)\n",
    "print('\\n Time taken for training in seconds: ', time.time()-start_time )\n",
    "predictedLabels = a1.predict(train_X_data)\n",
    "conMatrix = pd.crosstab(np.array(predictedLabels).ravel(),train_Y_data.reshape(-1,1).ravel())\n",
    "print(conMatrix)\n",
    "classifier = a1\n",
    "plot_decision_regions(classifier,train_X_data,train_Y_data,resolution=0.1)"
   ]
  },
  {
   "cell_type": "code",
   "execution_count": 67,
   "metadata": {
    "scrolled": true
   },
   "outputs": [
    {
     "name": "stdout",
     "output_type": "stream",
     "text": [
      "\n",
      " Calculating fullXmatrix\n"
     ]
    },
    {
     "data": {
      "application/vnd.jupyter.widget-view+json": {
       "model_id": "6fda646e19a247fea29425442319fe41",
       "version_major": 2,
       "version_minor": 0
      },
      "text/plain": [
       "HBox(children=(IntProgress(value=0, max=85), HTML(value='')))"
      ]
     },
     "metadata": {},
     "output_type": "display_data"
    },
    {
     "name": "stdout",
     "output_type": "stream",
     "text": [
      "     pcost       dcost       gap    pres   dres\n",
      " 0:  1.1451e+10 -5.7944e+11  1e+12  4e-01  7e-09\n",
      " 1:  1.0319e+10 -1.3426e+11  2e+11  7e-02  5e-08\n",
      " 2:  3.2953e+09 -6.0202e+10  1e+11  3e-02  2e-08\n",
      " 3:  5.6832e+08 -8.1642e+09  2e+10  4e-03  3e-09\n",
      " 4:  2.9437e+08 -5.3583e+08  1e+09  1e-04  5e-10\n",
      " 5:  5.3572e+07 -5.7954e+07  1e+08  2e-07  8e-11\n",
      " 6:  7.6953e+06 -8.5064e+06  2e+07  2e-16  4e-11\n",
      " 7:  1.1027e+06 -1.2139e+06  2e+06  2e-16  1e-11\n",
      " 8:  1.5793e+05 -1.7398e+05  3e+05  2e-16  7e-12\n",
      " 9:  2.2595e+04 -2.4961e+04  5e+04  2e-16  3e-12\n",
      "10:  3.2238e+03 -3.5906e+03  7e+03  2e-16  9e-13\n",
      "11:  4.5641e+02 -5.1992e+02  1e+03  2e-16  3e-13\n",
      "12:  6.3041e+01 -7.6676e+01  1e+02  2e-16  1e-13\n",
      "13:  7.7405e+00 -1.1996e+01  2e+01  2e-16  5e-14\n",
      "14:  1.5752e+00 -6.8001e+00  8e+00  2e-16  4e-14\n",
      "15: -2.5559e+00 -4.6128e+00  2e+00  2e-16  5e-14\n",
      "16: -3.0931e+00 -3.8920e+00  8e-01  2e-16  5e-14\n",
      "17: -3.2068e+00 -3.7845e+00  6e-01  2e-16  5e-14\n",
      "18: -3.3941e+00 -3.4406e+00  5e-02  2e-16  6e-14\n",
      "19: -3.4147e+00 -3.4152e+00  5e-04  2e-16  6e-14\n",
      "20: -3.4150e+00 -3.4150e+00  5e-06  2e-16  6e-14\n",
      "21: -3.4150e+00 -3.4150e+00  5e-08  2e-16  6e-14\n",
      "Optimal solution found.\n",
      "\n",
      " Time taken for training in seconds:  0.18989229202270508\n",
      "\n",
      " Calculating prediction values\n"
     ]
    },
    {
     "data": {
      "application/vnd.jupyter.widget-view+json": {
       "model_id": "9263c114959449a5a8b19d85a815c07d",
       "version_major": 2,
       "version_minor": 0
      },
      "text/plain": [
       "HBox(children=(IntProgress(value=0, max=85), HTML(value='')))"
      ]
     },
     "metadata": {},
     "output_type": "display_data"
    },
    {
     "name": "stdout",
     "output_type": "stream",
     "text": [
      "col_0   0   1   2\n",
      "row_0            \n",
      "0      26   0   0\n",
      "1       0  29   0\n",
      "2       0   0  30\n",
      "(22042,)\n",
      "(22042,)\n",
      "\n",
      " Calculating prediction values\n"
     ]
    },
    {
     "data": {
      "application/vnd.jupyter.widget-view+json": {
       "model_id": "7c2ec85db880428293ba624ce3085ff9",
       "version_major": 2,
       "version_minor": 0
      },
      "text/plain": [
       "HBox(children=(IntProgress(value=0, max=22042), HTML(value='')))"
      ]
     },
     "metadata": {},
     "output_type": "display_data"
    },
    {
     "name": "stderr",
     "output_type": "stream",
     "text": [
      "'c' argument looks like a single numeric RGB or RGBA sequence, which should be avoided as value-mapping will have precedence in case its length matches with 'x' & 'y'.  Please use a 2-D array with a single row if you really want to specify the same RGB or RGBA value for all points.\n",
      "'c' argument looks like a single numeric RGB or RGBA sequence, which should be avoided as value-mapping will have precedence in case its length matches with 'x' & 'y'.  Please use a 2-D array with a single row if you really want to specify the same RGB or RGBA value for all points.\n",
      "'c' argument looks like a single numeric RGB or RGBA sequence, which should be avoided as value-mapping will have precedence in case its length matches with 'x' & 'y'.  Please use a 2-D array with a single row if you really want to specify the same RGB or RGBA value for all points.\n"
     ]
    },
    {
     "data": {
      "image/png": "[encoded data removed]",
      "text/plain": [
       "<Figure size 432x288 with 1 Axes>"
      ]
     },
     "metadata": {
      "needs_background": "light"
     },
     "output_type": "display_data"
    }
   ],
   "source": [
    "#X1, Y1 = make_classification(n_features=2, n_redundant=0, n_informative=1,n_clusters_per_class=1)\n",
    "#X1, Y1 = make_classification(n_features=2, n_redundant=0, n_informative=2,n_clusters_per_class=1)\n",
    "#X1, Y1 = make_classification(n_features=2, n_redundant=0, n_informative=2)\n",
    "#X1, Y1 = make_classification(n_features=2, n_redundant=0, n_informative=2,n_clusters_per_class=1, n_classes=3)\n",
    "X1, Y1 = make_blobs(n_features=2, centers=3)\n",
    "#X1, Y1 = make_gaussian_quantiles(n_features=2, n_classes=3)\n",
    "ran = np.random.rand(len(X1)) < 0.8\n",
    "train_X_data = X1[ran]\n",
    "train_Y_data = Y1[ran]\n",
    "val_X_data = X1[~ran]\n",
    "val_Y_data = Y1[~ran]\n",
    "kernel = 'linear'\n",
    "degree = 4\n",
    "sigma = 0.4\n",
    "C = 100000\n",
    "a1 = SMCSVM()\n",
    "#a1.fit()\n",
    "start_time = time.time()\n",
    "a1.fit(train_X_data,train_Y_data,C,kernel,degree,sigma)\n",
    "print('\\n Time taken for training in seconds: ', time.time()-start_time )\n",
    "predictedLabels = a1.predict(train_X_data)\n",
    "conMatrix = pd.crosstab(np.array(predictedLabels).ravel(),train_Y_data.reshape(-1,1).ravel())\n",
    "print(conMatrix)\n",
    "classifier = a1\n",
    "plot_decision_regions(classifier,train_X_data,train_Y_data,resolution=0.1)"
   ]
  },
  {
   "cell_type": "code",
   "execution_count": 69,
   "metadata": {
    "scrolled": true
   },
   "outputs": [
    {
     "data": {
      "application/vnd.jupyter.widget-view+json": {
       "model_id": "97557a45e3a546c2b14dcd312aea0118",
       "version_major": 2,
       "version_minor": 0
      },
      "text/plain": [
       "HBox(children=(IntProgress(value=0, max=85), HTML(value='')))"
      ]
     },
     "metadata": {},
     "output_type": "display_data"
    },
    {
     "name": "stdout",
     "output_type": "stream",
     "text": [
      "col_0   0   1   2\n",
      "row_0            \n",
      "0      26   0   0\n",
      "1       0  29   0\n",
      "2       0   0  30\n",
      "(22042,)\n",
      "(22042,)\n"
     ]
    },
    {
     "name": "stderr",
     "output_type": "stream",
     "text": [
      "'c' argument looks like a single numeric RGB or RGBA sequence, which should be avoided as value-mapping will have precedence in case its length matches with 'x' & 'y'.  Please use a 2-D array with a single row if you really want to specify the same RGB or RGBA value for all points.\n",
      "'c' argument looks like a single numeric RGB or RGBA sequence, which should be avoided as value-mapping will have precedence in case its length matches with 'x' & 'y'.  Please use a 2-D array with a single row if you really want to specify the same RGB or RGBA value for all points.\n",
      "'c' argument looks like a single numeric RGB or RGBA sequence, which should be avoided as value-mapping will have precedence in case its length matches with 'x' & 'y'.  Please use a 2-D array with a single row if you really want to specify the same RGB or RGBA value for all points.\n"
     ]
    },
    {
     "data": {
      "image/png": "[encoded data removed]",
      "text/plain": [
       "<Figure size 432x288 with 1 Axes>"
      ]
     },
     "metadata": {
      "needs_background": "light"
     },
     "output_type": "display_data"
    }
   ],
   "source": [
    "from sklearn import svm\n",
    "clf = svm.SVC(gamma=1, decision_function_shape='ovo',kernel='linear',degree = 1,C=100000)\n",
    "clf.fit(train_X_data, train_Y_data) \n",
    "predictedLabelVector = []\n",
    "GivenData = train_X_data\n",
    "GivenDataLabels = train_Y_data\n",
    "for i in tqdm(range(0,len(GivenData))):\n",
    "    predictedLabelVector.append(clf.predict(GivenData[i,:].reshape(1,train_X_data.shape[1])))\n",
    "conMatrix = pd.crosstab(np.array(predictedLabelVector).ravel(),GivenDataLabels.reshape(-1,1).ravel())\n",
    "print(conMatrix)\n",
    "classifier = clf \n",
    "plot_decision_regions(classifier,train_X_data,train_Y_data,resolution=0.1)"
   ]
  },
  {
   "cell_type": "code",
   "execution_count": 70,
   "metadata": {},
   "outputs": [
    {
     "name": "stderr",
     "output_type": "stream",
     "text": [
      "C:\\Users\\sravani\\AppData\\Roaming\\Python\\Python37\\site-packages\\sklearn\\svm\\base.py:931: ConvergenceWarning: Liblinear failed to converge, increase the number of iterations.\n",
      "  \"the number of iterations.\", ConvergenceWarning)\n"
     ]
    },
    {
     "data": {
      "application/vnd.jupyter.widget-view+json": {
       "model_id": "2c55fa5a8446404cb8fbad6e48c9de99",
       "version_major": 2,
       "version_minor": 0
      },
      "text/plain": [
       "HBox(children=(IntProgress(value=0, max=85), HTML(value='')))"
      ]
     },
     "metadata": {},
     "output_type": "display_data"
    },
    {
     "name": "stdout",
     "output_type": "stream",
     "text": [
      "col_0   0   1   2\n",
      "row_0            \n",
      "0      26   0   0\n",
      "1       0  29   0\n",
      "2       0   0  30\n",
      "(22042,)\n",
      "(22042,)\n"
     ]
    },
    {
     "name": "stderr",
     "output_type": "stream",
     "text": [
      "'c' argument looks like a single numeric RGB or RGBA sequence, which should be avoided as value-mapping will have precedence in case its length matches with 'x' & 'y'.  Please use a 2-D array with a single row if you really want to specify the same RGB or RGBA value for all points.\n",
      "'c' argument looks like a single numeric RGB or RGBA sequence, which should be avoided as value-mapping will have precedence in case its length matches with 'x' & 'y'.  Please use a 2-D array with a single row if you really want to specify the same RGB or RGBA value for all points.\n",
      "'c' argument looks like a single numeric RGB or RGBA sequence, which should be avoided as value-mapping will have precedence in case its length matches with 'x' & 'y'.  Please use a 2-D array with a single row if you really want to specify the same RGB or RGBA value for all points.\n"
     ]
    },
    {
     "data": {
      "image/png": "[encoded data removed]",
      "text/plain": [
       "<Figure size 432x288 with 1 Axes>"
      ]
     },
     "metadata": {
      "needs_background": "light"
     },
     "output_type": "display_data"
    }
   ],
   "source": [
    "lin_clf = svm.LinearSVC()\n",
    "lin_clf.C =100000\n",
    "lin_clf.kernel='poly'\n",
    "lin_clf.gamma=1\n",
    "lin_clf.degree=4\n",
    "lin_clf.max_iter=10**5\n",
    "lin_clf.fit(train_X_data, train_Y_data) \n",
    "predictedLabelVector = []\n",
    "GivenData = train_X_data\n",
    "GivenDataLabels = train_Y_data\n",
    "for i in tqdm(range(0,len(GivenData))):\n",
    "    predictedLabelVector.append(lin_clf.predict(GivenData[i,:].reshape(1,train_X_data.shape[1])))\n",
    "conMatrix = pd.crosstab(np.array(predictedLabelVector).ravel(),GivenDataLabels.reshape(-1,1).ravel())\n",
    "print(conMatrix)\n",
    "classifier = lin_clf \n",
    "plot_decision_regions(classifier,train_X_data,train_Y_data,resolution=0.1)"
   ]
  },
  {
   "cell_type": "code",
   "execution_count": 63,
   "metadata": {
    "scrolled": true
   },
   "outputs": [
    {
     "name": "stdout",
     "output_type": "stream",
     "text": [
      "\n",
      " Calculating fullXmatrix\n"
     ]
    },
    {
     "data": {
      "application/vnd.jupyter.widget-view+json": {
       "model_id": "43559083ae1b485ead2f1730948a6992",
       "version_major": 2,
       "version_minor": 0
      },
      "text/plain": [
       "HBox(children=(IntProgress(value=0, max=84), HTML(value='')))"
      ]
     },
     "metadata": {},
     "output_type": "display_data"
    },
    {
     "name": "stdout",
     "output_type": "stream",
     "text": [
      "\n",
      " Calculating Kernalized Product\n"
     ]
    },
    {
     "data": {
      "application/vnd.jupyter.widget-view+json": {
       "model_id": "ddc26378b4c24cd4877c9a2c50819e8a",
       "version_major": 2,
       "version_minor": 0
      },
      "text/plain": [
       "HBox(children=(IntProgress(value=0, max=84), HTML(value='')))"
      ]
     },
     "metadata": {},
     "output_type": "display_data"
    },
    {
     "name": "stdout",
     "output_type": "stream",
     "text": [
      "\n",
      " Calculating Kernalized Product\n"
     ]
    },
    {
     "data": {
      "application/vnd.jupyter.widget-view+json": {
       "model_id": "4e91c3c5c0194efbabcc19dcd66c7bf8",
       "version_major": 2,
       "version_minor": 0
      },
      "text/plain": [
       "HBox(children=(IntProgress(value=0, max=168), HTML(value='')))"
      ]
     },
     "metadata": {},
     "output_type": "display_data"
    },
    {
     "name": "stdout",
     "output_type": "stream",
     "text": [
      "\n",
      " Calculating Kernalized Product\n"
     ]
    },
    {
     "data": {
      "application/vnd.jupyter.widget-view+json": {
       "model_id": "bfc5789994e34a37a37afd27dbc85d2d",
       "version_major": 2,
       "version_minor": 0
      },
      "text/plain": [
       "HBox(children=(IntProgress(value=0, max=168), HTML(value='')))"
      ]
     },
     "metadata": {},
     "output_type": "display_data"
    },
    {
     "name": "stdout",
     "output_type": "stream",
     "text": [
      "     pcost       dcost       gap    pres   dres\n",
      " 0:  2.4050e+01 -2.7437e+04  6e+04  2e-02  2e-08\n",
      " 1:  4.8881e+00 -5.6894e+02  1e+03  5e-04  2e-08\n",
      " 2:  1.1649e+00 -5.2301e+01  1e+02  4e-05  2e-09\n",
      " 3:  1.7412e-01 -7.6385e+00  1e+01  5e-06  2e-10\n",
      " 4:  5.1162e-02 -1.0770e+00  2e+00  6e-07  2e-11\n",
      " 5:  1.5291e-02 -1.4433e-01  2e-01  6e-08  3e-12\n",
      " 6:  4.2509e-03 -2.2097e-02  4e-02  7e-09  4e-13\n",
      " 7:  1.1069e-03 -3.0637e-03  5e-03  7e-10  1e-13\n",
      " 8:  1.9299e-04 -2.5985e-04  5e-04  5e-12  6e-14\n",
      " 9:  2.0574e-05 -4.3978e-05  6e-05  2e-16  2e-14\n",
      "10: -1.2101e-06 -1.2039e-05  1e-05  2e-16  1e-14\n",
      "11: -5.8993e-06 -1.0300e-05  4e-06  2e-16  6e-15\n",
      "12: -7.6413e-06 -8.4081e-06  8e-07  2e-16  6e-15\n",
      "13: -7.8679e-06 -8.1962e-06  3e-07  2e-16  6e-15\n",
      "14: -7.9386e-06 -8.0789e-06  1e-07  2e-16  6e-15\n",
      "15: -7.9918e-06 -7.9963e-06  4e-09  2e-16  8e-15\n",
      "Optimal solution found.\n",
      "\n",
      " Time taken for training in seconds:  0.8484921455383301\n",
      "\n",
      " Calculating prediction values\n"
     ]
    },
    {
     "data": {
      "application/vnd.jupyter.widget-view+json": {
       "model_id": "2d9fae444da1496896133499e4754f8f",
       "version_major": 2,
       "version_minor": 0
      },
      "text/plain": [
       "HBox(children=(IntProgress(value=0, max=84), HTML(value='')))"
      ]
     },
     "metadata": {},
     "output_type": "display_data"
    },
    {
     "name": "stdout",
     "output_type": "stream",
     "text": [
      "col_0   0   1   2\n",
      "row_0            \n",
      "0      22   1   0\n",
      "1       4  26   0\n",
      "2       0   0  31\n",
      "(2695,)\n",
      "(2695,)\n",
      "\n",
      " Calculating prediction values\n"
     ]
    },
    {
     "data": {
      "application/vnd.jupyter.widget-view+json": {
       "model_id": "bdd9a5dec4634fce811b2aa135c44495",
       "version_major": 2,
       "version_minor": 0
      },
      "text/plain": [
       "HBox(children=(IntProgress(value=0, max=2695), HTML(value='')))"
      ]
     },
     "metadata": {},
     "output_type": "display_data"
    },
    {
     "name": "stderr",
     "output_type": "stream",
     "text": [
      "'c' argument looks like a single numeric RGB or RGBA sequence, which should be avoided as value-mapping will have precedence in case its length matches with 'x' & 'y'.  Please use a 2-D array with a single row if you really want to specify the same RGB or RGBA value for all points.\n",
      "'c' argument looks like a single numeric RGB or RGBA sequence, which should be avoided as value-mapping will have precedence in case its length matches with 'x' & 'y'.  Please use a 2-D array with a single row if you really want to specify the same RGB or RGBA value for all points.\n",
      "'c' argument looks like a single numeric RGB or RGBA sequence, which should be avoided as value-mapping will have precedence in case its length matches with 'x' & 'y'.  Please use a 2-D array with a single row if you really want to specify the same RGB or RGBA value for all points.\n"
     ]
    },
    {
     "data": {
      "image/png": "[encoded data removed]",
      "text/plain": [
       "<Figure size 432x288 with 1 Axes>"
      ]
     },
     "metadata": {
      "needs_background": "light"
     },
     "output_type": "display_data"
    }
   ],
   "source": [
    "#X1, Y1 = make_classification(n_features=2, n_redundant=0, n_informative=1,n_clusters_per_class=1)\n",
    "#X1, Y1 = make_classification(n_features=2, n_redundant=0, n_informative=2,n_clusters_per_class=1)\n",
    "#X1, Y1 = make_classification(n_features=2, n_redundant=0, n_informative=2)\n",
    "#X1, Y1 = make_classification(n_features=2, n_redundant=0, n_informative=2,n_clusters_per_class=1, n_classes=3)\n",
    "X1, Y1 = make_blobs(n_features=2, centers=3)\n",
    "#X1, Y1 = make_gaussian_quantiles(n_features=2, n_classes=3)\n",
    "ran = np.random.rand(len(X1)) < 0.8\n",
    "train_X_data = X1[ran]\n",
    "train_Y_data = Y1[ran]\n",
    "val_X_data = X1[~ran]\n",
    "val_Y_data = Y1[~ran]\n",
    "kernel = 'polynomial'\n",
    "degree = 3\n",
    "sigma = 0.4\n",
    "C = 100\n",
    "a1 = SMCSVM()\n",
    "#a1.fit()\n",
    "start_time = time.time()\n",
    "a1.fit(train_X_data,train_Y_data,C,kernel,degree,sigma)\n",
    "print('\\n Time taken for training in seconds: ', time.time()-start_time )\n",
    "predictedLabels = a1.predict(train_X_data)\n",
    "conMatrix = pd.crosstab(np.array(predictedLabels).ravel(),train_Y_data.reshape(-1,1).ravel())\n",
    "print(conMatrix)\n",
    "classifier = a1\n",
    "plot_decision_regions(classifier,train_X_data,train_Y_data,resolution=0.3)"
   ]
  },
  {
   "cell_type": "code",
   "execution_count": 61,
   "metadata": {},
   "outputs": [],
   "source": [
    "def performCrossValidation(X1,Y1,num_folds,classifier,kernel='rbf',degree=1,sigma=1.0):\n",
    "    C = 10\n",
    "    fullXmatrix1 = X1\n",
    "    fullYvector1 = Y1\n",
    "    from sklearn.model_selection import KFold\n",
    "    kf = KFold(n_splits=num_folds)\n",
    "    kf.get_n_splits(fullXmatrix1)\n",
    "    consideredSigmaValues = [0.1,0.3,0.4,0.5,0.6,0.7,1.0]\n",
    "    consideredCValues = [0,50,100]\n",
    "    consideredKernelValues = ['linear','polynomial','rbf']\n",
    "    fig, ax = plt.subplots(figsize=(15,10))\n",
    "    for kernel in consideredKernelValues:\n",
    "        for C in consideredCValues:\n",
    "            crossValAvgErrorForEachSigma = []\n",
    "            crossValVarOfErrorForEachSigma = []\n",
    "            \n",
    "            for sigma in consideredSigmaValues:#, 1e-4 ,1e-3, 1e-2, 0.1, 1, 10, 100 ,1000]:\n",
    "                ValErrorForEachFold = []\n",
    "                fold = 0\n",
    "                for train_index, test_index in kf.split(fullXmatrix1):\n",
    "                    print('fold is '+str(fold))\n",
    "                    fold += 1\n",
    "                    #print(\"TRAIN:\", train_index, \"TEST:\", test_index)\n",
    "                    X_train, X_test = fullXmatrix1[train_index], fullXmatrix1[test_index]\n",
    "                    y_train, y_test = fullYvector1[train_index], fullYvector1[test_index]\n",
    "                    trainXmatrix = X_train\n",
    "                    ValXmatrix = X_test\n",
    "                    trainYvector = y_train\n",
    "                    valYvector = y_test\n",
    "                    numOfSamples,numOfdimPlusOne = trainXmatrix.shape\n",
    "                    classifier.fit(X_train, y_train,C,kernel,degree,sigma)\n",
    "                    #classifier.fit(X_train, y_train,lamda,kernel,degree,sigma)\n",
    "                    #classifier.fit(X_train, y_train,C,lamda,degree,sigma)\n",
    "                    predictedLabels = classifier.predict(X_test)\n",
    "                    numOfCorrectlyPredictedLabels = 0\n",
    "                    for index in range(0,len(valYvector)):\n",
    "                        if(valYvector[index] == predictedLabels[index]):\n",
    "                            numOfCorrectlyPredictedLabels += 1\n",
    "                    accuracy = numOfCorrectlyPredictedLabels/len(valYvector)\n",
    "                    error = 1- accuracy\n",
    "                    ValErrorForEachFold.append(error)\n",
    "                crossValAvgErrorForEachSigma.append(np.mean(ValErrorForEachFold))\n",
    "                crossValVarOfErrorForEachSigma.append(np.std(ValErrorForEachFold))\n",
    "            \n",
    "            #for i in numOfdimPlusOne:#[:-1]\n",
    "            #for i in lamdavalues:\n",
    "            #ax.plot(np.arange(0.8,0.91,0.01),crossValAvgErrorForEachLamda, label= 'Bias Estimate')\n",
    "            ax.plot(consideredSigmaValues,crossValAvgErrorForEachSigma, label= 'Bias Estimate for Kernel= '+str(kernel)+'C='+str(C))\n",
    "            ax.plot(consideredSigmaValues,crossValVarOfErrorForEachSigma, label= 'Variance Estimate for Kernel= '+str(kernel)+'C='+str(C))\n",
    "            if((len(consideredKernelValues)==1) and (len(consideredCValues)==1) and (len(consideredSigmaValues)==1)):\n",
    "                print('cross validation error estimate is '+str(crossValAvgErrorForEachSigma))\n",
    "            ax.legend(loc=0) # upper left corner\n",
    "            ax.set_xlabel('Sigma')\n",
    "            ax.set_ylabel('values')\n",
    "            ax.set_title('(using cross validation) Bias & Variance Estimate for different hyperparameter values');\n",
    "    plt.show()"
   ]
  },
  {
   "cell_type": "code",
   "execution_count": null,
   "metadata": {},
   "outputs": [],
   "source": [
    "x = np.array([3, 0, 0, 5, 8])\n",
    "x\n",
    "t = np.nonzero(x)\n",
    "x[t][2]"
   ]
  },
  {
   "cell_type": "code",
   "execution_count": null,
   "metadata": {},
   "outputs": [],
   "source": [
    "x = np.array([[3, 0, 0], [0, 4, 0], [5, 6, 0]])\n",
    "x[2,:]"
   ]
  },
  {
   "cell_type": "code",
   "execution_count": 71,
   "metadata": {},
   "outputs": [],
   "source": [
    "newReconstructedData = pd.read_csv('ReconstructedApparelData.csv',sep=',',index_col = False)"
   ]
  },
  {
   "cell_type": "code",
   "execution_count": 96,
   "metadata": {},
   "outputs": [
    {
     "name": "stdout",
     "output_type": "stream",
     "text": [
      "54\n",
      "54\n",
      "\n",
      " Time taken for training in seconds: for num of classes 2  0.004998445510864258\n",
      "54\n",
      "54\n",
      "54\n",
      "\n",
      " Time taken for training in seconds: for num of classes 3  0.011991500854492188\n",
      "54\n",
      "54\n",
      "54\n",
      "54\n",
      "\n",
      " Time taken for training in seconds: for num of classes 4  0.06596159934997559\n",
      "54\n",
      "54\n",
      "54\n",
      "54\n",
      "54\n",
      "\n",
      " Time taken for training in seconds: for num of classes 5  0.4337656497955322\n",
      "54\n",
      "54\n",
      "54\n",
      "54\n",
      "54\n",
      "54\n",
      "\n",
      " Time taken for training in seconds: for num of classes 6  0.5337104797363281\n",
      "54\n",
      "54\n",
      "54\n",
      "54\n",
      "54\n",
      "54\n",
      "54\n",
      "\n",
      " Time taken for training in seconds: for num of classes 7  2.4635775089263916\n",
      "54\n",
      "54\n",
      "54\n",
      "54\n",
      "54\n",
      "54\n",
      "54\n",
      "54\n",
      "\n",
      " Time taken for training in seconds: for num of classes 8  3.2881174087524414\n",
      "54\n",
      "54\n",
      "54\n",
      "54\n",
      "54\n",
      "54\n",
      "54\n",
      "54\n",
      "54\n",
      "\n",
      " Time taken for training in seconds: for num of classes 9  4.047676086425781\n"
     ]
    }
   ],
   "source": [
    "trainingTimeTakenOVR = []\n",
    "#UniqueLabels=np.array([0,1,2,3,4,5,6,7,8,9])\n",
    "for count007 in range(2,10):\n",
    "    UniqueLabels=np.array(range(0,count007))\n",
    "    DataPerClass = []\n",
    "    index = 0\n",
    "    for i in UniqueLabels:\n",
    "        tempdf = newReconstructedData.loc[newReconstructedData['label'] == i]\n",
    "        DataPerClass.append(tempdf.sample(frac = 0.009))\n",
    "        print(len(DataPerClass[index]))#+str(\" for \")+str(i))\n",
    "        index = index + 1\n",
    "    num_classes = len(UniqueLabels)\n",
    "    train = {}\n",
    "    val = {}\n",
    "    for i in range(0,num_classes):\n",
    "        train[i] =  DataPerClass[i].sample(frac = 0.8)\n",
    "        val[i]   =  DataPerClass[i].loc[~DataPerClass[i].index.isin(train[i].index)]\n",
    "    allTrain = []\n",
    "    allVal = [] \n",
    "    for i in range(0,num_classes):\n",
    "        allTrain.append(train[i])\n",
    "        allVal.append(val[i])\n",
    "    train1 = pd.concat(allTrain, ignore_index= True)\n",
    "    val1 = pd.concat(allVal, ignore_index= True)\n",
    "    train1 = train1.sample(frac=1)\n",
    "    val1 = val1.sample(frac=1)\n",
    "    train_X_data = train1.values[:,1:]\n",
    "    train_Y_data = train1.values[:,0]\n",
    "    val_X_data = val1.values[:,1:]\n",
    "    val_Y_data = val1.values[:,0]\n",
    "    kernel = 'rbf'\n",
    "    degree = 1\n",
    "    sigma = 0.5\n",
    "    C = 100\n",
    "    #a1 = SMCSVM()\n",
    "    #clf = svm.SVC(gamma=2, decision_function_shape='ovo',kernel='rbf',degree = 1,C=100)\n",
    "    lin_clf = svm.LinearSVC()\n",
    "    lin_clf.C =100\n",
    "    lin_clf.kernel='rbf'\n",
    "    lin_clf.gamma=2\n",
    "    lin_clf.degree=1\n",
    "    lin_clf.max_iter=10**7\n",
    "    start_time = time.time()\n",
    "    lin_clf.fit(train_X_data, train_Y_data)\n",
    "    trainingTimeTakenOVR.append(time.time()-start_time)\n",
    "    #clf.fit(train_X_data, train_Y_data)\n",
    "    #a1.fit(train_X_data,train_Y_data,C,kernel,degree,sigma)\n",
    "    #trainingTimeTakenOVR.append(time.time()-start_time)\n",
    "    print('\\n Time taken for training in seconds: for num of classes '+str(count007)+\" \", time.time()-start_time )"
   ]
  },
  {
   "cell_type": "code",
   "execution_count": 97,
   "metadata": {},
   "outputs": [
    {
     "data": {
      "text/plain": [
       "[0.004998445510864258,\n",
       " 0.011991500854492188,\n",
       " 0.06596159934997559,\n",
       " 0.4337656497955322,\n",
       " 0.5337104797363281,\n",
       " 2.4635775089263916,\n",
       " 3.2881174087524414,\n",
       " 4.047676086425781]"
      ]
     },
     "execution_count": 97,
     "metadata": {},
     "output_type": "execute_result"
    }
   ],
   "source": [
    "trainingTimeTakenOVR"
   ]
  },
  {
   "cell_type": "code",
   "execution_count": 88,
   "metadata": {},
   "outputs": [
    {
     "data": {
      "text/plain": [
       "[0.008975744247436523,\n",
       " 0.012992143630981445,\n",
       " 0.017993688583374023,\n",
       " 0.032979488372802734,\n",
       " 0.043976783752441406,\n",
       " 0.060965538024902344,\n",
       " 0.08096766471862793,\n",
       " 0.09895968437194824]"
      ]
     },
     "execution_count": 88,
     "metadata": {},
     "output_type": "execute_result"
    }
   ],
   "source": [
    "trainingTimeTakenOVO"
   ]
  },
  {
   "cell_type": "code",
   "execution_count": 90,
   "metadata": {},
   "outputs": [
    {
     "data": {
      "text/plain": [
       "[0.6566183567047119,\n",
       " 2.8653454780578613,\n",
       " 7.531651973724365,\n",
       " 15.231200456619263,\n",
       " 29.862751245498657,\n",
       " 54.824334383010864,\n",
       " 89.15950036048889,\n",
       " 140.33594465255737]"
      ]
     },
     "execution_count": 90,
     "metadata": {},
     "output_type": "execute_result"
    }
   ],
   "source": [
    "trainingTimeTaken"
   ]
  },
  {
   "cell_type": "code",
   "execution_count": 83,
   "metadata": {},
   "outputs": [
    {
     "data": {
      "text/plain": [
       "array([2, 3, 4, 5, 6, 7, 8, 9])"
      ]
     },
     "execution_count": 83,
     "metadata": {},
     "output_type": "execute_result"
    }
   ],
   "source": [
    "num_classes = np.array(range(2,10))\n",
    "num_classes"
   ]
  },
  {
   "cell_type": "code",
   "execution_count": 98,
   "metadata": {},
   "outputs": [
    {
     "data": {
      "image/png": "[encoded data removed]",
      "text/plain": [
       "<Figure size 432x288 with 1 Axes>"
      ]
     },
     "metadata": {
      "needs_background": "light"
     },
     "output_type": "display_data"
    }
   ],
   "source": [
    "import matplotlib.pyplot as plt\n",
    "fig, ax = plt.subplots()\n",
    "\n",
    "ax.plot(np.array([2, 3, 4, 5, 6, 7, 8, 9]),np.array(trainingTimeTaken), label= 'MCSVM')\n",
    "ax.plot(np.array([2, 3, 4, 5, 6, 7, 8, 9]),np.array(trainingTimeTakenOVO), label= 'OVO')\n",
    "ax.plot(np.array([2, 3, 4, 5, 6, 7, 8, 9]),np.array(trainingTimeTakenOVR), label= 'OVR')\n",
    "ax.legend(loc=0) # upper left corner\n",
    "ax.set_xlabel('num_classes(54 points per class)')\n",
    "ax.set_ylabel('training time(seconds)')\n",
    "ax.set_title('training time taken for increasing number of classes and points ');"
   ]
  },
  {
   "cell_type": "code",
   "execution_count": 99,
   "metadata": {},
   "outputs": [
    {
     "data": {
      "image/png": "[encoded data removed]",
      "text/plain": [
       "<Figure size 432x288 with 1 Axes>"
      ]
     },
     "metadata": {
      "needs_background": "light"
     },
     "output_type": "display_data"
    }
   ],
   "source": [
    "import matplotlib.pyplot as plt\n",
    "fig, ax = plt.subplots()\n",
    "\n",
    "#ax.plot(np.array([2, 3, 4, 5, 6, 7, 8, 9]),np.array(trainingTimeTaken), label= 'MCSVM')\n",
    "ax.plot(np.array([2, 3, 4, 5, 6, 7, 8, 9]),np.array(trainingTimeTakenOVO), label= 'OVO')\n",
    "ax.plot(np.array([2, 3, 4, 5, 6, 7, 8, 9]),np.array(trainingTimeTakenOVR), label= 'OVR')\n",
    "ax.legend(loc=0) # upper left corner\n",
    "ax.set_xlabel('num_classes(54 points per class)')\n",
    "ax.set_ylabel('training time(seconds)')\n",
    "ax.set_title('training time taken for increasing number of classes and points ');"
   ]
  },
  {
   "cell_type": "code",
   "execution_count": 7,
   "metadata": {},
   "outputs": [
    {
     "name": "stdout",
     "output_type": "stream",
     "text": [
      "\n",
      " Calculating fullXmatrix\n"
     ]
    },
    {
     "data": {
      "application/vnd.jupyter.widget-view+json": {
       "model_id": "ddca8c48d9cd40bb9fb8b8b8a3ced575",
       "version_major": 2,
       "version_minor": 0
      },
      "text/plain": [
       "HBox(children=(IntProgress(value=0, max=83), HTML(value='')))"
      ]
     },
     "metadata": {},
     "output_type": "display_data"
    },
    {
     "name": "stdout",
     "output_type": "stream",
     "text": [
      "\n",
      "     pcost       dcost       gap    pres   dres\n",
      " 0:  1.4601e+09 -1.0032e+12  2e+12  4e-01  7e-09\n",
      " 1:  4.0720e+09 -1.9644e+11  4e+11  7e-02  2e-08\n",
      " 2:  3.0400e+09 -2.7491e+10  5e+10  9e-03  3e-09\n",
      " 3:  1.0717e+09 -2.6938e+09  5e+09  6e-04  5e-10\n",
      " 4:  2.2365e+08 -2.4763e+08  5e+08  5e-06  1e-10\n",
      " 5:  3.2516e+07 -3.5894e+07  7e+07  2e-16  6e-11\n",
      " 6:  4.6598e+06 -5.1323e+06  1e+07  2e-16  3e-11\n",
      " 7:  6.6738e+05 -7.3542e+05  1e+06  2e-16  1e-11\n",
      " 8:  9.5466e+04 -1.0553e+05  2e+05  2e-16  4e-12\n",
      " 9:  1.3614e+04 -1.5189e+04  3e+04  2e-16  1e-12\n",
      "10:  1.9251e+03 -2.2020e+03  4e+03  2e-16  5e-13\n",
      "11:  2.6566e+02 -3.2548e+02  6e+02  2e-16  2e-13\n",
      "12:  3.3670e+01 -5.0746e+01  8e+01  2e-16  7e-14\n",
      "13:  2.5078e+00 -9.2594e+00  1e+01  2e-16  3e-14\n",
      "14: -2.5167e-01 -5.7914e+00  6e+00  2e-16  2e-14\n",
      "15: -2.1577e+00 -5.7422e+00  4e+00  2e-16  6e-14\n",
      "16: -3.2700e+00 -3.8877e+00  6e-01  2e-16  6e-14\n",
      "17: -3.3274e+00 -3.9179e+00  6e-01  2e-16  5e-14\n",
      "18: -3.5884e+00 -3.7691e+00  2e-01  2e-16  5e-14\n",
      "19: -3.6517e+00 -3.6604e+00  9e-03  2e-16  5e-14\n",
      "20: -3.6552e+00 -3.6553e+00  9e-05  2e-16  6e-14\n",
      "21: -3.6552e+00 -3.6552e+00  9e-07  2e-16  7e-14\n",
      "Optimal solution found.\n",
      "\n",
      " Time taken for training in seconds:  0.18889093399047852\n",
      "\n",
      " Calculating prediction values\n"
     ]
    },
    {
     "data": {
      "application/vnd.jupyter.widget-view+json": {
       "model_id": "d95374ff38554b0cbcb551c442c24157",
       "version_major": 2,
       "version_minor": 0
      },
      "text/plain": [
       "HBox(children=(IntProgress(value=0, max=83), HTML(value='')))"
      ]
     },
     "metadata": {},
     "output_type": "display_data"
    },
    {
     "name": "stdout",
     "output_type": "stream",
     "text": [
      "\n",
      "col_0   0   1   2   3\n",
      "row_0                \n",
      "0      22   0   0   0\n",
      "1       0  18   0   0\n",
      "2       0   0  23   0\n",
      "3       0   0   0  20\n",
      "(33040,)\n",
      "(33040,)\n",
      "\n",
      " Calculating prediction values\n"
     ]
    },
    {
     "data": {
      "application/vnd.jupyter.widget-view+json": {
       "model_id": "0f466a039be04488ac2f22c01ab322f7",
       "version_major": 2,
       "version_minor": 0
      },
      "text/plain": [
       "HBox(children=(IntProgress(value=0, max=33040), HTML(value='')))"
      ]
     },
     "metadata": {},
     "output_type": "display_data"
    },
    {
     "name": "stdout",
     "output_type": "stream",
     "text": [
      "\n"
     ]
    },
    {
     "name": "stderr",
     "output_type": "stream",
     "text": [
      "'c' argument looks like a single numeric RGB or RGBA sequence, which should be avoided as value-mapping will have precedence in case its length matches with 'x' & 'y'.  Please use a 2-D array with a single row if you really want to specify the same RGB or RGBA value for all points.\n",
      "'c' argument looks like a single numeric RGB or RGBA sequence, which should be avoided as value-mapping will have precedence in case its length matches with 'x' & 'y'.  Please use a 2-D array with a single row if you really want to specify the same RGB or RGBA value for all points.\n",
      "'c' argument looks like a single numeric RGB or RGBA sequence, which should be avoided as value-mapping will have precedence in case its length matches with 'x' & 'y'.  Please use a 2-D array with a single row if you really want to specify the same RGB or RGBA value for all points.\n",
      "'c' argument looks like a single numeric RGB or RGBA sequence, which should be avoided as value-mapping will have precedence in case its length matches with 'x' & 'y'.  Please use a 2-D array with a single row if you really want to specify the same RGB or RGBA value for all points.\n"
     ]
    },
    {
     "data": {
      "image/png": "[encoded data removed]",
      "text/plain": [
       "<Figure size 432x288 with 1 Axes>"
      ]
     },
     "metadata": {
      "needs_background": "light"
     },
     "output_type": "display_data"
    }
   ],
   "source": [
    "#X1, Y1 = make_classification(n_features=2, n_redundant=0, n_informative=1,n_clusters_per_class=1)\n",
    "#X1, Y1 = make_classification(n_features=2, n_redundant=0, n_informative=2,n_clusters_per_class=1)\n",
    "#X1, Y1 = make_classification(n_features=2, n_redundant=0, n_informative=2)\n",
    "#X1, Y1 = make_classification(n_features=2, n_redundant=0, n_informative=2,n_clusters_per_class=1, n_classes=3)\n",
    "X1, Y1 = make_blobs(n_features=2, centers=4)\n",
    "#X1, Y1 = make_gaussian_quantiles(n_features=2, n_classes=3)\n",
    "ran = np.random.rand(len(X1)) < 0.8\n",
    "train_X_data = X1[ran]\n",
    "train_Y_data = Y1[ran]\n",
    "val_X_data = X1[~ran]\n",
    "val_Y_data = Y1[~ran]\n",
    "kernel = 'linear'\n",
    "degree = 4\n",
    "sigma = 0.4\n",
    "C = 100000\n",
    "a1 = SMCSVM()\n",
    "#a1.fit()\n",
    "start_time = time.time()\n",
    "a1.fit(train_X_data,train_Y_data,C,kernel,degree,sigma)\n",
    "print('\\n Time taken for training in seconds: ', time.time()-start_time )\n",
    "predictedLabels = a1.predict(train_X_data)\n",
    "conMatrix = pd.crosstab(np.array(predictedLabels).ravel(),train_Y_data.reshape(-1,1).ravel())\n",
    "print(conMatrix)\n",
    "classifier = a1\n",
    "plot_decision_regions(classifier,train_X_data,train_Y_data,resolution=0.1)"
   ]
  },
  {
   "cell_type": "code",
   "execution_count": 8,
   "metadata": {},
   "outputs": [
    {
     "data": {
      "application/vnd.jupyter.widget-view+json": {
       "model_id": "ea4ec68498a74d69a84a99b4d2d331de",
       "version_major": 2,
       "version_minor": 0
      },
      "text/plain": [
       "HBox(children=(IntProgress(value=0, max=83), HTML(value='')))"
      ]
     },
     "metadata": {},
     "output_type": "display_data"
    },
    {
     "name": "stdout",
     "output_type": "stream",
     "text": [
      "\n",
      "col_0   0   1   2   3\n",
      "row_0                \n",
      "0      22   0   0   0\n",
      "1       0  18   0   0\n",
      "2       0   0  23   0\n",
      "3       0   0   0  20\n",
      "(33040,)\n",
      "(33040,)\n"
     ]
    },
    {
     "name": "stderr",
     "output_type": "stream",
     "text": [
      "'c' argument looks like a single numeric RGB or RGBA sequence, which should be avoided as value-mapping will have precedence in case its length matches with 'x' & 'y'.  Please use a 2-D array with a single row if you really want to specify the same RGB or RGBA value for all points.\n",
      "'c' argument looks like a single numeric RGB or RGBA sequence, which should be avoided as value-mapping will have precedence in case its length matches with 'x' & 'y'.  Please use a 2-D array with a single row if you really want to specify the same RGB or RGBA value for all points.\n",
      "'c' argument looks like a single numeric RGB or RGBA sequence, which should be avoided as value-mapping will have precedence in case its length matches with 'x' & 'y'.  Please use a 2-D array with a single row if you really want to specify the same RGB or RGBA value for all points.\n",
      "'c' argument looks like a single numeric RGB or RGBA sequence, which should be avoided as value-mapping will have precedence in case its length matches with 'x' & 'y'.  Please use a 2-D array with a single row if you really want to specify the same RGB or RGBA value for all points.\n"
     ]
    },
    {
     "data": {
      "image/png": "[encoded data removed]",
      "text/plain": [
       "<Figure size 432x288 with 1 Axes>"
      ]
     },
     "metadata": {
      "needs_background": "light"
     },
     "output_type": "display_data"
    }
   ],
   "source": [
    "from sklearn import svm\n",
    "clf = svm.SVC(gamma=1, decision_function_shape='ovo',kernel='linear',degree = 1,C=100000)\n",
    "clf.fit(train_X_data, train_Y_data) \n",
    "predictedLabelVector = []\n",
    "GivenData = train_X_data\n",
    "GivenDataLabels = train_Y_data\n",
    "for i in tqdm(range(0,len(GivenData))):\n",
    "    predictedLabelVector.append(clf.predict(GivenData[i,:].reshape(1,train_X_data.shape[1])))\n",
    "conMatrix = pd.crosstab(np.array(predictedLabelVector).ravel(),GivenDataLabels.reshape(-1,1).ravel())\n",
    "print(conMatrix)\n",
    "classifier = clf \n",
    "plot_decision_regions(classifier,train_X_data,train_Y_data,resolution=0.1)"
   ]
  },
  {
   "cell_type": "code",
   "execution_count": 11,
   "metadata": {},
   "outputs": [
    {
     "name": "stderr",
     "output_type": "stream",
     "text": [
      "C:\\Users\\sravani\\AppData\\Roaming\\Python\\Python37\\site-packages\\sklearn\\svm\\base.py:931: ConvergenceWarning: Liblinear failed to converge, increase the number of iterations.\n",
      "  \"the number of iterations.\", ConvergenceWarning)\n"
     ]
    },
    {
     "data": {
      "application/vnd.jupyter.widget-view+json": {
       "model_id": "9806805881c84335b99812f15c31bace",
       "version_major": 2,
       "version_minor": 0
      },
      "text/plain": [
       "HBox(children=(IntProgress(value=0, max=83), HTML(value='')))"
      ]
     },
     "metadata": {},
     "output_type": "display_data"
    },
    {
     "name": "stdout",
     "output_type": "stream",
     "text": [
      "\n",
      "col_0   0   1   2   3\n",
      "row_0                \n",
      "0      20   0   0   0\n",
      "1       2  18   0   0\n",
      "2       0   0  23   0\n",
      "3       0   0   0  20\n",
      "(40610,)\n",
      "(40610,)\n"
     ]
    },
    {
     "name": "stderr",
     "output_type": "stream",
     "text": [
      "'c' argument looks like a single numeric RGB or RGBA sequence, which should be avoided as value-mapping will have precedence in case its length matches with 'x' & 'y'.  Please use a 2-D array with a single row if you really want to specify the same RGB or RGBA value for all points.\n",
      "'c' argument looks like a single numeric RGB or RGBA sequence, which should be avoided as value-mapping will have precedence in case its length matches with 'x' & 'y'.  Please use a 2-D array with a single row if you really want to specify the same RGB or RGBA value for all points.\n",
      "'c' argument looks like a single numeric RGB or RGBA sequence, which should be avoided as value-mapping will have precedence in case its length matches with 'x' & 'y'.  Please use a 2-D array with a single row if you really want to specify the same RGB or RGBA value for all points.\n",
      "'c' argument looks like a single numeric RGB or RGBA sequence, which should be avoided as value-mapping will have precedence in case its length matches with 'x' & 'y'.  Please use a 2-D array with a single row if you really want to specify the same RGB or RGBA value for all points.\n"
     ]
    },
    {
     "data": {
      "image/png": "[encoded data removed]",
      "text/plain": [
       "<Figure size 432x288 with 1 Axes>"
      ]
     },
     "metadata": {
      "needs_background": "light"
     },
     "output_type": "display_data"
    }
   ],
   "source": [
    "lin_clf = svm.LinearSVC()\n",
    "lin_clf.C =100000\n",
    "lin_clf.kernel='linear'\n",
    "lin_clf.gamma=1\n",
    "lin_clf.degree=1\n",
    "lin_clf.max_iter=10**5\n",
    "lin_clf.fit(train_X_data, train_Y_data) \n",
    "predictedLabelVector = []\n",
    "GivenData = train_X_data\n",
    "GivenDataLabels = train_Y_data\n",
    "for i in tqdm(range(0,len(GivenData))):\n",
    "    predictedLabelVector.append(lin_clf.predict(GivenData[i,:].reshape(1,train_X_data.shape[1])))\n",
    "conMatrix = pd.crosstab(np.array(predictedLabelVector).ravel(),GivenDataLabels.reshape(-1,1).ravel())\n",
    "print(conMatrix)\n",
    "classifier = lin_clf \n",
    "plot_decision_regions(classifier,train_X_data,train_Y_data,resolution=0.09)"
   ]
  },
  {
   "cell_type": "code",
   "execution_count": null,
   "metadata": {},
   "outputs": [],
   "source": []
  }
 ],
 "metadata": {
  "kernelspec": {
   "display_name": "Python 3",
   "language": "python",
   "name": "python3"
  },
  "language_info": {
   "codemirror_mode": {
    "name": "ipython",
    "version": 3
   },
   "file_extension": ".py",
   "mimetype": "text/x-python",
   "name": "python",
   "nbconvert_exporter": "python",
   "pygments_lexer": "ipython3",
   "version": "3.7.1"
  }
 },
 "nbformat": 4,
 "nbformat_minor": 2
}
