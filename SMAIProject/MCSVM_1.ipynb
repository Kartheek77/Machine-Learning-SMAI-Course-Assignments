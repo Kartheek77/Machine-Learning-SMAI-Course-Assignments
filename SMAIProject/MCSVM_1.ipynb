{
 "cells": [
  {
   "cell_type": "code",
   "execution_count": 10,
   "metadata": {},
   "outputs": [],
   "source": [
    "import pandas as pd\n",
    "import time\n",
    "import numpy as np\n",
    "from tqdm import tqdm_notebook as tqdm\n",
    "from numpy import dot, array\n",
    "import scipy\n",
    "from scipy import sparse\n",
    "import matplotlib.pyplot as plt\n",
    "from matplotlib.colors import ListedColormap\n",
    "from sklearn.datasets import make_classification\n",
    "from sklearn.datasets import make_blobs\n",
    "from sklearn.datasets import make_gaussian_quantiles"
   ]
  },
  {
   "cell_type": "code",
   "execution_count": 163,
   "metadata": {},
   "outputs": [],
   "source": [
    "def dimensionality_reduction(X_data,Y_label):\n",
    "    meanVector = np.mean(X_data,axis = 0)\n",
    "    centeredX_data = X_data - meanVector\n",
    "    sdVector = np.std(centeredX_data.astype(float),axis = 0)\n",
    "    for index,value in enum(sdVector):\n",
    "        if value == 0:\n",
    "            sdVector[index] = 1.0             \n",
    "    centeredX_data /= sdVector\n",
    "    \n",
    "    covX_data = np.array([centeredX_data[0,:]]).T@ np.array([centeredX_data[0,:]])\n",
    "    for i in tqdm(range(1,len(centeredX_data))):\n",
    "        covX_data += np.array([centeredX_data[i,:]]).T@ np.array([centeredX_data[i,:]])\n",
    "    covX_data /= len(covX_data)\n",
    "\n",
    "    eigenValues, eigenVectors = np.linalg.eig(covX_data)\n",
    "    idx = eigenValues.argsort()[::-1] \n",
    "    eigenVectors = eigenVectors[:,idx]\n",
    "\n",
    "    neededEigenVectors = []\n",
    "    for idx, val in enumerate(eigenValues):\n",
    "        if (sum(eigenValues[0:idx])/sum(eigenValues))>0.9:\n",
    "            neededEigenVectors = eigenVectors[:,0:idx]\n",
    "            break\n",
    "\n",
    "    reconstructX_data = centeredX_data@neededEigenVectors\n",
    "    return reconsturctX_data"
   ]
  },
  {
   "cell_type": "code",
   "execution_count": 114,
   "metadata": {},
   "outputs": [],
   "source": [
    "class SMCSVM:\n",
    "    def __init__(self):\n",
    "        self.kernel = 'rbf'\n",
    "        self.C=10\n",
    "        self.degree = 1\n",
    "        self.sigma=1.0\n",
    "        self.alphas2=None\n",
    "        self.fullXmatrix=None\n",
    "        self.IntermXmatrix=None\n",
    "        self.train_X_data = None\n",
    "        self.num_classes = None\n",
    "    \n",
    "    def fit(self, X_data, Y_label,C=10,kernel='rbf',degree=1,sigma=1.0):\n",
    "        self.kernel = kernel\n",
    "        self.C= C\n",
    "        self.degree = degree\n",
    "        self.sigma= sigma \n",
    "        self.train_X_data = X_data\n",
    "        X = X_data\n",
    "        trainLabelVector = Y_label\n",
    "        #fullXmatrix =[]\n",
    "        num_classes = len(np.unique(Y_label))\n",
    "        self.num_classes = num_classes\n",
    "        #print(trainLabelVector.shape)\n",
    "\n",
    "        fullXmatrix = np.zeros(((X_data.shape[0]*(num_classes-1)),num_classes*((X_data.shape[1])+1)))\n",
    "\n",
    "        #for i in tqdm(range(0,(X_data.shape[0]*(num_class-1)))):\n",
    "\n",
    "        count5 = 0\n",
    "        print('\\n Calculating fullXmatrix')\n",
    "        for i in tqdm(range(0,X.shape[0])):\n",
    "            for p in range(0,num_classes):\n",
    "                if(trainLabelVector[i]!=p):   \n",
    "                    for j in range(0,num_classes):\n",
    "                        if(j==trainLabelVector[i]):\n",
    "                            fullXmatrix[count5,(j*(X_data.shape[1]+1)):((j+1)*(X_data.shape[1]+1))-1] = X[i,:]\n",
    "                            fullXmatrix[count5,((j+1)*(X_data.shape[1]+1))-1] = 1.0\n",
    "                        elif(j==p):\n",
    "                            fullXmatrix[count5,(j*(X_data.shape[1]+1)):((j+1)*(X_data.shape[1]+1))-1] = -1*X[i,:]\n",
    "                            fullXmatrix[count5,((j+1)*(X_data.shape[1]+1))-1] = -1.0\n",
    "                    count5 += 1\n",
    "                    #print(count5)\n",
    "        #print(fullXmatrix.shape)\n",
    "        m = fullXmatrix.shape[0]\n",
    "        M1 = sparse.csr_matrix(fullXmatrix) \n",
    "        IntermXmatrix = np.zeros(((X_data.shape[0]*(num_classes-1)),num_classes))\n",
    "        #if(kernel=='polynomial'):   \n",
    "        #    H = sparse.csr_matrix.dot(M1,M1.T) \n",
    "        #    H = (1+H.todense())**degree   \n",
    "            #H,IntermXmatrix = self.getKernelizedProduct(X_data,Y_label,kernel,sigma)\n",
    "        if(kernel=='linear'):\n",
    "            H = sparse.csr_matrix.dot(M1,M1.T)\n",
    "        else:\n",
    "            H,IntermXmatrix = self.getKernelizedProduct(X_data,Y_label,kernel,sigma,degree)        \n",
    "\n",
    "        from cvxopt import matrix as cvxopt_matrix\n",
    "        from cvxopt import solvers as cvxopt_solvers\n",
    "        if(kernel=='linear'):\n",
    "            P = cvxopt_matrix(H.todense())\n",
    "        else:\n",
    "            P = cvxopt_matrix(H)\n",
    "        q = cvxopt_matrix(-1*np.ones((m, 1)))\n",
    "        G = cvxopt_matrix(np.vstack((np.eye(m)*-1,np.eye(m))))\n",
    "        h = cvxopt_matrix(np.hstack((np.zeros(m), np.ones(m) * C)))\n",
    "        opts = {'maxiters' : 30,'solver':'mosek'}\n",
    "        sol = cvxopt_solvers.qp(P, q, G, h ,options = opts)\n",
    "        alphas2 = np.array(sol['x']) \n",
    "        #w = fullXmatrix.T@alphas2\n",
    "        #wForEachLabel = {}\n",
    "        #for i in range(0,num_classes):\n",
    "            #wForEachLabel[i] = np.array_split(w,num_classes)[i]\n",
    "        self.alphas2=alphas2\n",
    "        self.fullXmatrix=fullXmatrix\n",
    "        self.IntermXmatrix=IntermXmatrix\n",
    "        \n",
    "        #return alphas2,fullXmatrix,IntermXmatrix\n",
    "    def predict(self,val_X_data):\n",
    "    #def predict(train_X_data,val_X_data,IntermXmatrix,num_classes,alphas2,fullXmatrix,kernel,degree,sigma):\n",
    "        num_classes = self.num_classes\n",
    "        train_X_data = self.train_X_data\n",
    "        kernel = self.kernel\n",
    "        degree = self.degree\n",
    "        sigma = self.sigma\n",
    "        alphas2=self.alphas2\n",
    "        fullXmatrix=self.fullXmatrix\n",
    "        IntermXmatrix=self.IntermXmatrix\n",
    "\n",
    "        predictedLabelVector = []\n",
    "        if(kernel == 'linear'):\n",
    "            w = fullXmatrix.T@alphas2\n",
    "            wForEachLabel = {}\n",
    "            for i in range(0,num_classes):\n",
    "                wForEachLabel[i] = np.array_split(w,num_classes)[i]\n",
    "            print('\\n Calculating prediction values')\n",
    "            for i in tqdm(range(0,val_X_data.shape[0])):\n",
    "                scoresForEachLabel = []\n",
    "                for j in range(0,len(wForEachLabel)):\n",
    "                    score = (wForEachLabel[j].T@np.append(val_X_data[i,:],1.0).reshape(-1,1))\n",
    "                    scoresForEachLabel.append(score)\n",
    "                maxScoreLabel = np.argmax(scoresForEachLabel)\n",
    "                predictedLabelVector.append(maxScoreLabel)\n",
    "        elif(kernel == 'polynomial'):\n",
    "            print('\\n Calculating prediction values')\n",
    "            for i in tqdm(range(0,val_X_data.shape[0])):\n",
    "                #tempMatrix1 = np.zeros((num_classes*(val_X_data.shape[1]+1),num_classes))\n",
    "                #for j in range(0,num_classes):\n",
    "                #    tempMatrix1[j*(val_X_data.shape[1]+1):(j+1)*(val_X_data.shape[1]+1),j] = np.append(val_X_data[i,:],1.0)\n",
    "                #scoresForEachLabel = (alphas2.T)@((1+(fullXmatrix@tempMatrix1))**degree)\n",
    "                scoresForEachLabel = (alphas2.T)@(self.getKernelizedProductforPrediction(train_X_data,val_X_data,IntermXmatrix,i,num_classes,kernel,sigma,degree))\n",
    "                maxScoreLabel = np.argmax(scoresForEachLabel)\n",
    "                predictedLabelVector.append(maxScoreLabel)\n",
    "        elif(kernel == 'rbf'):\n",
    "            print('\\n Calculating prediction values')\n",
    "            for i in tqdm(range(0,val_X_data.shape[0])):\n",
    "                #tempMatrix1 = np.zeros((num_classes*(val_X_data.shape[1]+1),num_classes))\n",
    "                #for j in range(0,num_classes):\n",
    "                    #tempMatrix1[j*(val_X_data.shape[1]+1):(j+1)*(val_X_data.shape[1]+1),j] = np.append(val_X_data[i,:],1.0)\n",
    "                scoresForEachLabel = (alphas2.T)@(self.getKernelizedProductforPrediction(train_X_data,val_X_data,IntermXmatrix,i,num_classes,kernel,sigma,degree))\n",
    "                maxScoreLabel = np.argmax(scoresForEachLabel)\n",
    "                predictedLabelVector.append(maxScoreLabel)\n",
    "        return predictedLabelVector\n",
    "    def getKernelizedProductforPrediction(self,X_data,val_X_data,IntermXmatrix,currentValIndex,num_classes,kernel,sigma,degree):\n",
    "        X = X_data\n",
    "        m = (X_data.shape[0]*(num_classes-1))\n",
    "        H = np.zeros((m,num_classes))    \n",
    "        matrix2 = (currentValIndex+1)*np.eye(num_classes)\n",
    "        tempCoeff = (1/(X.shape[1]+1))\n",
    "        \n",
    "        if(kernel == 'polynomial'): \n",
    "            for i in (range(0,m)):\n",
    "                for j in range(0,num_classes):\n",
    "                    count1 = 0\n",
    "                    for k in range(0,num_classes):\n",
    "                        if(count1==2):\n",
    "                            break\n",
    "                        else:\n",
    "                            temp3 = int(IntermXmatrix[i,k])\n",
    "                            temp4 = int(matrix2[k,j])\n",
    "                            if(temp3>0):\n",
    "                                count1+=1\n",
    "                                if(temp4>0):                             \n",
    "                                    H[i,j] += (1+((1/tempCoeff)*np.dot(np.append(X[temp3-1,:],1.0),np.append(val_X_data[temp4-1,:],1.0))))**degree\n",
    "                            elif(temp3<0):\n",
    "                                count1+=1\n",
    "                                if(temp4>0):\n",
    "                                    H[i,j] += (1+((1/tempCoeff)*np.dot(np.append(val_X_data[temp4-1,:],1.0),np.append(-1*X[-temp3-1,:],-1.0))))**degree\n",
    "        \n",
    "\n",
    "        elif(kernel == 'rbf'): \n",
    "            for i in (range(0,m)):\n",
    "                for j in range(0,num_classes):\n",
    "                    count1 = 0\n",
    "                    for k in range(0,num_classes):\n",
    "                        if(count1==2):\n",
    "                            break\n",
    "                        else:\n",
    "                            temp3 = int(IntermXmatrix[i,k])\n",
    "                            temp4 = int(matrix2[k,j])\n",
    "                            if(temp3>0):\n",
    "                                count1+=1\n",
    "                                if(temp4>0):                             \n",
    "                                    H[i,j] += np.exp(-1*(np.linalg.norm(X[temp3-1,:]-val_X_data[temp4-1,:])**2)/(2*sigma**2))                        \n",
    "                            elif(temp3<0):\n",
    "                                count1+=1\n",
    "                                if(temp4>0):\n",
    "                                    H[i,j] += np.exp(-1*(np.linalg.norm(np.append(val_X_data[temp4-1,:],1.0)-np.append(-1*X[-temp3-1,:],-1.0))**2)/(2*sigma**2))                    \n",
    "\n",
    "        return H      \n",
    "    def getKernelizedProduct(self,X_data,Y_label,kernel,sigma,degree):\n",
    "        X = X_data\n",
    "        trainLabelVector = Y_label\n",
    "        num_classes = len(np.unique(Y_label))\n",
    "        IntermXmatrix = np.zeros(((X_data.shape[0]*(num_classes-1)),num_classes))\n",
    "        count6 = 0\n",
    "        print('\\n Calculating Kernalized Product')\n",
    "        for i in tqdm(range(0,X.shape[0])):\n",
    "            for p in range(0,num_classes):\n",
    "                if(trainLabelVector[i]!=p):   \n",
    "                    for j in range(0,num_classes):\n",
    "                        if(j==trainLabelVector[i]):\n",
    "                            IntermXmatrix[count6,j] = i+1\n",
    "                        elif(j==p):\n",
    "                            IntermXmatrix[count6,j] = -(i+1)\n",
    "                    count6 += 1\n",
    "\n",
    "        matrix2 = IntermXmatrix.T\n",
    "        M2 = scipy.sparse.coo_matrix(IntermXmatrix)\n",
    "        M3 = scipy.sparse.coo_matrix(IntermXmatrix.T)\n",
    "        m = (X_data.shape[0]*(num_classes-1))\n",
    "        H = np.zeros((m,m))\n",
    "        tempCoeff = (1/(X.shape[1]+1))\n",
    "        #tempCoeff = 2\n",
    "        \n",
    "        if(kernel == 'polynomial'):\n",
    "            print('\\n Calculating Kernalized Product')\n",
    "            for i in tqdm(range(0,m)):\n",
    "                for j in range(0,i+1):\n",
    "                    count1 = 0\n",
    "                    #count2 = 0\n",
    "                    for k in range(0,IntermXmatrix.shape[1]):\n",
    "                        if(count1==2):\n",
    "                            break\n",
    "                        else:\n",
    "                            temp3 = int(IntermXmatrix[i,k])\n",
    "                            temp4 = int(matrix2[k,j])\n",
    "                            #print(temp3,temp4)\n",
    "                            if(temp3>0):\n",
    "                                count1+=1\n",
    "                                if(temp4>0): \n",
    "                                    H[i,j] += ((1+((1/tempCoeff)*np.dot(np.append(X[temp3-1,:],1.0),np.append(X[temp4-1,:],1.0))))**degree)\n",
    "                                elif(temp4<0):                                    \n",
    "                                    H[i,j] += ((1+((1/tempCoeff)*np.dot(np.append(X[temp3-1,:],1.0),np.append(-1*X[-temp4-1,:],-1.0))))**degree)\n",
    "                            elif(temp3<0):\n",
    "                                count1+=1\n",
    "                                if(temp4>0):\n",
    "                                    H[i,j] += ((1+((1/tempCoeff)*np.dot(np.append(X[temp4-1,:],1.0),np.append(-1*X[-temp3-1,:],-1.0))))**degree)\n",
    "                                elif(temp4<0):\n",
    "                                    H[i,j] += ((1+((1/tempCoeff)*np.dot(np.append(-1*X[-temp4-1,:],-1.0),np.append(-1*X[-temp3-1,:],-1.0))))**degree)\n",
    "              \n",
    "\n",
    "        elif(kernel == 'rbf'):\n",
    "            print('\\n Calculating Kernalized Product')\n",
    "            for i in tqdm(range(0,m)):\n",
    "                for j in range(0,i+1):\n",
    "                    count1 = 0\n",
    "                    #count2 = 0\n",
    "                    for k in range(0,IntermXmatrix.shape[1]):\n",
    "                        if(count1==2):\n",
    "                            break\n",
    "                        else:\n",
    "                            temp3 = int(IntermXmatrix[i,k])\n",
    "                            temp4 = int(matrix2[k,j])\n",
    "                            #print(temp3,temp4)\n",
    "                            if(temp3>0):\n",
    "                                count1+=1\n",
    "                                if(temp4>0):                             \n",
    "                                    H[i,j] += np.exp(-1*(np.linalg.norm(X[temp3-1,:]-X[temp4-1,:])**2)/(2*sigma**2))\n",
    "                                elif(temp4<0):\n",
    "                                    H[i,j] += np.exp(-1*(np.linalg.norm(np.append(X[temp3-1,:],1.0)-np.append(-1*X[-temp4-1,:],-1.0))**2)/(2*sigma**2))\n",
    "                            elif(temp3<0):\n",
    "                                count1+=1\n",
    "                                if(temp4>0):\n",
    "                                    H[i,j] += np.exp(-1*(np.linalg.norm(np.append(X[temp4-1,:],1.0)-np.append(-1*X[-temp3-1,:],-1.0))**2)/(2*sigma**2))                    \n",
    "                                elif(temp4<0):\n",
    "                                    H[i,j] += np.exp(-1*(np.linalg.norm(-1*X[-temp3-1,:]+X[-temp4-1,:])**2)/(2*sigma**2))\n",
    "        print('\\n Calculating Kernalized Product')\n",
    "        for i in tqdm(range(0,m)):\n",
    "            for j in range(0,i+1):\n",
    "                if(j>i):\n",
    "                    H[i,j]=H[j,i]                 \n",
    "        #print(H.shape)        \n",
    "\n",
    "        return H,IntermXmatrix"
   ]
  },
  {
   "cell_type": "code",
   "execution_count": 126,
   "metadata": {},
   "outputs": [],
   "source": [
    "#X1, Y1 = make_classification(n_features=2, n_redundant=0, n_informative=1,n_clusters_per_class=1)\n",
    "#X1, Y1 = make_classification(n_features=2, n_redundant=0, n_informative=2,n_clusters_per_class=1)\n",
    "#X1, Y1 = make_classification(n_features=2, n_redundant=0, n_informative=2)\n",
    "X1, Y1 = make_classification(n_features=2, n_redundant=0, n_informative=2,n_clusters_per_class=1, n_classes=3)\n",
    "#X1, Y1 = make_blobs(n_features=2, centers=3)\n",
    "#X1, Y1 = make_gaussian_quantiles(n_features=2, n_classes=3)\n",
    "ran = np.random.rand(len(X1)) < 0.8\n",
    "train_X_data = X1[ran]\n",
    "train_Y_data = Y1[ran]\n",
    "val_X_data = X1[~ran]\n",
    "val_Y_data = Y1[~ran]"
   ]
  },
  {
   "cell_type": "code",
   "execution_count": 134,
   "metadata": {},
   "outputs": [],
   "source": [
    "kernel = 'polynomial'\n",
    "degree = 4\n",
    "sigma = 0.4\n",
    "C = 100"
   ]
  },
  {
   "cell_type": "code",
   "execution_count": 135,
   "metadata": {},
   "outputs": [
    {
     "name": "stdout",
     "output_type": "stream",
     "text": [
      "\n",
      " Calculating fullXmatrix\n"
     ]
    },
    {
     "data": {
      "application/vnd.jupyter.widget-view+json": {
       "model_id": "8c27e5d5de434cfdbda7e6c371f3e67b",
       "version_major": 2,
       "version_minor": 0
      },
      "text/plain": [
       "HBox(children=(IntProgress(value=0, max=79), HTML(value='')))"
      ]
     },
     "metadata": {},
     "output_type": "display_data"
    },
    {
     "name": "stdout",
     "output_type": "stream",
     "text": [
      "\n",
      "\n",
      " Calculating Kernalized Product\n"
     ]
    },
    {
     "data": {
      "application/vnd.jupyter.widget-view+json": {
       "model_id": "a108c1392a0c463286dd89ca2df6de65",
       "version_major": 2,
       "version_minor": 0
      },
      "text/plain": [
       "HBox(children=(IntProgress(value=0, max=79), HTML(value='')))"
      ]
     },
     "metadata": {},
     "output_type": "display_data"
    },
    {
     "name": "stdout",
     "output_type": "stream",
     "text": [
      "\n",
      "\n",
      " Calculating Kernalized Product\n"
     ]
    },
    {
     "data": {
      "application/vnd.jupyter.widget-view+json": {
       "model_id": "b63073e9246949e48722979c2e702c9a",
       "version_major": 2,
       "version_minor": 0
      },
      "text/plain": [
       "HBox(children=(IntProgress(value=0, max=158), HTML(value='')))"
      ]
     },
     "metadata": {},
     "output_type": "display_data"
    },
    {
     "name": "stdout",
     "output_type": "stream",
     "text": [
      "\n",
      "\n",
      " Calculating Kernalized Product\n"
     ]
    },
    {
     "data": {
      "application/vnd.jupyter.widget-view+json": {
       "model_id": "1af9e1cc53cb4d16aaf9320e8b209ecb",
       "version_major": 2,
       "version_minor": 0
      },
      "text/plain": [
       "HBox(children=(IntProgress(value=0, max=158), HTML(value='')))"
      ]
     },
     "metadata": {},
     "output_type": "display_data"
    },
    {
     "name": "stdout",
     "output_type": "stream",
     "text": [
      "\n",
      "     pcost       dcost       gap    pres   dres\n",
      " 0:  2.7395e+01 -1.6822e+04  3e+04  1e-02  8e-12\n",
      " 1:  2.4418e+01 -3.4808e+02  7e+02  3e-04  8e-12\n",
      " 2:  9.2241e+00 -3.6358e+01  7e+01  2e-05  5e-12\n",
      " 3:  2.9068e+00 -1.0028e+01  2e+01  4e-06  2e-12\n",
      " 4:  1.0052e+00 -2.9808e+00  5e+00  1e-06  4e-13\n",
      " 5:  4.5868e-01 -1.5013e+00  2e+00  4e-07  2e-13\n",
      " 6:  1.7912e-01 -6.5964e-01  9e-01  1e-07  4e-13\n",
      " 7:  2.7015e-02 -4.4577e-02  7e-02  8e-10  1e-13\n",
      " 8:  1.4182e-03 -8.3274e-03  1e-02  2e-16  5e-14\n",
      " 9: -1.4304e-03 -3.8870e-03  2e-03  2e-16  2e-14\n",
      "10: -2.2490e-03 -2.8201e-03  6e-04  2e-16  5e-15\n",
      "11: -2.4817e-03 -2.5925e-03  1e-04  2e-16  2e-15\n",
      "12: -2.5327e-03 -2.5470e-03  1e-05  2e-16  2e-15\n",
      "13: -2.5418e-03 -2.5428e-03  1e-06  2e-16  1e-15\n",
      "14: -2.5425e-03 -2.5425e-03  1e-08  1e-16  7e-16\n",
      "Optimal solution found.\n",
      "\n",
      " Time taken for training in seconds:  1.0282692909240723\n",
      "\n",
      " Calculating prediction values\n"
     ]
    },
    {
     "data": {
      "application/vnd.jupyter.widget-view+json": {
       "model_id": "9fcb0a2aaea145d0a131d0b8234de94d",
       "version_major": 2,
       "version_minor": 0
      },
      "text/plain": [
       "HBox(children=(IntProgress(value=0, max=79), HTML(value='')))"
      ]
     },
     "metadata": {},
     "output_type": "display_data"
    },
    {
     "name": "stdout",
     "output_type": "stream",
     "text": [
      "\n"
     ]
    },
    {
     "data": {
      "text/html": [
       "<div>\n",
       "<style scoped>\n",
       "    .dataframe tbody tr th:only-of-type {\n",
       "        vertical-align: middle;\n",
       "    }\n",
       "\n",
       "    .dataframe tbody tr th {\n",
       "        vertical-align: top;\n",
       "    }\n",
       "\n",
       "    .dataframe thead th {\n",
       "        text-align: right;\n",
       "    }\n",
       "</style>\n",
       "<table border=\"1\" class=\"dataframe\">\n",
       "  <thead>\n",
       "    <tr style=\"text-align: right;\">\n",
       "      <th>col_0</th>\n",
       "      <th>0</th>\n",
       "      <th>1</th>\n",
       "      <th>2</th>\n",
       "    </tr>\n",
       "    <tr>\n",
       "      <th>row_0</th>\n",
       "      <th></th>\n",
       "      <th></th>\n",
       "      <th></th>\n",
       "    </tr>\n",
       "  </thead>\n",
       "  <tbody>\n",
       "    <tr>\n",
       "      <th>0</th>\n",
       "      <td>18</td>\n",
       "      <td>4</td>\n",
       "      <td>1</td>\n",
       "    </tr>\n",
       "    <tr>\n",
       "      <th>1</th>\n",
       "      <td>3</td>\n",
       "      <td>20</td>\n",
       "      <td>2</td>\n",
       "    </tr>\n",
       "    <tr>\n",
       "      <th>2</th>\n",
       "      <td>6</td>\n",
       "      <td>2</td>\n",
       "      <td>23</td>\n",
       "    </tr>\n",
       "  </tbody>\n",
       "</table>\n",
       "</div>"
      ],
      "text/plain": [
       "col_0   0   1   2\n",
       "row_0            \n",
       "0      18   4   1\n",
       "1       3  20   2\n",
       "2       6   2  23"
      ]
     },
     "execution_count": 135,
     "metadata": {},
     "output_type": "execute_result"
    }
   ],
   "source": [
    "a1 = SMCSVM()\n",
    "#a1.fit()\n",
    "start_time = time.time()\n",
    "a1.fit(train_X_data,train_Y_data,C,kernel,degree,sigma)\n",
    "print('\\n Time taken for training in seconds: ', time.time()-start_time )\n",
    "predictedLabels = a1.predict(train_X_data)\n",
    "conMatrix = pd.crosstab(np.array(predictedLabels).ravel(),train_Y_data.reshape(-1,1).ravel())\n",
    "conMatrix"
   ]
  },
  {
   "cell_type": "code",
   "execution_count": 136,
   "metadata": {},
   "outputs": [],
   "source": [
    "def plot_decision_regions(classifier,train_X_data,train_Y_data,resolution=1):\n",
    "   # setup marker generator and color map\n",
    "   markers = ('s', 'x', 'o', '^', 'v')\n",
    "   colors = ('red', 'blue', 'lightgreen', 'gray', 'cyan')\n",
    "   X = train_X_data\n",
    "   y = train_Y_data\n",
    "   cmap = ListedColormap(colors[:len(np.unique(y))])\n",
    "   # plot the decision surface\n",
    "   x1_min, x1_max = X[:, 0].min() - 1 , X[:, 0].max() + 1\n",
    "   x2_min, x2_max = X[:, 1].min() - 1, X[:, 1].max() + 1\n",
    "   xx1, xx2 = np.meshgrid(np.arange(x1_min, x1_max, resolution),\n",
    "   np.arange(x2_min, x2_max, resolution))\n",
    "    #alphas2,fullXmatrix,IntermXmatrix = Build_SVM_Classifier1(train_X_data,train_Y_data,C,kernel,degree,sigma)\n",
    "   #Z = predict(train_X_data,np.array([xx1.ravel(), xx2.ravel()]).T,IntermXmatrix,num_classes,alphas2,fullXmatrix,kernel,degree,sigma)\n",
    "   Z = classifier.predict(np.array([xx1.ravel(), xx2.ravel()]).T)\n",
    "   #Z = classifier.predict(np.array([xx1.ravel(), xx2.ravel()]).T)\n",
    "   Z = np.array(Z) \n",
    "   Z = Z.reshape(xx1.shape)\n",
    "   plt.contourf(xx1, xx2, Z, alpha=0.1, cmap=cmap)\n",
    "   plt.xlim(xx1.min(), xx1.max())\n",
    "   plt.ylim(xx2.min(), xx2.max())\n",
    "   \n",
    "\n",
    "   # plot all samples\n",
    "   #X_test, y_test = X[test_idx, :], y[test_idx]\n",
    "   for idx, cl in enumerate(np.unique(y)):\n",
    "      plt.scatter(x=X[y == cl, 0], y=X[y == cl, 1],\n",
    "               alpha=0.8, c=cmap(idx),\n",
    "               marker=markers[idx], label=cl)\n",
    "   plt.legend(loc='upper left')\n",
    "   plt.show()"
   ]
  },
  {
   "cell_type": "code",
   "execution_count": 137,
   "metadata": {
    "scrolled": true
   },
   "outputs": [
    {
     "name": "stdout",
     "output_type": "stream",
     "text": [
      "\n",
      " Calculating prediction values\n"
     ]
    },
    {
     "data": {
      "application/vnd.jupyter.widget-view+json": {
       "model_id": "065b64c715fc45d395e2f9c87c30d0ae",
       "version_major": 2,
       "version_minor": 0
      },
      "text/plain": [
       "HBox(children=(IntProgress(value=0, max=6059), HTML(value='')))"
      ]
     },
     "metadata": {},
     "output_type": "display_data"
    },
    {
     "name": "stdout",
     "output_type": "stream",
     "text": [
      "\n"
     ]
    },
    {
     "name": "stderr",
     "output_type": "stream",
     "text": [
      "'c' argument looks like a single numeric RGB or RGBA sequence, which should be avoided as value-mapping will have precedence in case its length matches with 'x' & 'y'.  Please use a 2-D array with a single row if you really want to specify the same RGB or RGBA value for all points.\n",
      "'c' argument looks like a single numeric RGB or RGBA sequence, which should be avoided as value-mapping will have precedence in case its length matches with 'x' & 'y'.  Please use a 2-D array with a single row if you really want to specify the same RGB or RGBA value for all points.\n",
      "'c' argument looks like a single numeric RGB or RGBA sequence, which should be avoided as value-mapping will have precedence in case its length matches with 'x' & 'y'.  Please use a 2-D array with a single row if you really want to specify the same RGB or RGBA value for all points.\n"
     ]
    },
    {
     "data": {
      "image/png": "[encoded data removed]",
      "text/plain": [
       "<Figure size 432x288 with 1 Axes>"
      ]
     },
     "metadata": {
      "needs_background": "light"
     },
     "output_type": "display_data"
    }
   ],
   "source": [
    "classifier = a1\n",
    "plot_decision_regions(classifier,train_X_data,train_Y_data,resolution=0.1)"
   ]
  },
  {
   "cell_type": "code",
   "execution_count": null,
   "metadata": {},
   "outputs": [],
   "source": []
  },
  {
   "cell_type": "code",
   "execution_count": 153,
   "metadata": {},
   "outputs": [],
   "source": [
    "def performCrossValidation(X1,Y1,num_folds,classifier,kernel='rbf',degree=1,sigma=1.0):\n",
    "    C = 10\n",
    "    fullXmatrix1 = X1\n",
    "    fullYvector1 = Y1\n",
    "    from sklearn.model_selection import KFold\n",
    "    kf = KFold(n_splits=num_folds)\n",
    "    kf.get_n_splits(fullXmatrix1)\n",
    "    consideredSigmaValues = [0.1,0.3,0.4,0.5,0.6,0.7,1.0]\n",
    "    consideredCValues = [0,50,100]\n",
    "    consideredKernelValues = ['linear','polynomial','rbf']\n",
    "    fig, ax = plt.subplots(figsize=(15,10))\n",
    "    for kernel in consideredKernelValues:\n",
    "        for C in consideredCValues:\n",
    "            crossValAvgErrorForEachSigma = []\n",
    "            crossValVarOfErrorForEachSigma = []\n",
    "            \n",
    "            for sigma in consideredSigmaValues:#, 1e-4 ,1e-3, 1e-2, 0.1, 1, 10, 100 ,1000]:\n",
    "                ValErrorForEachFold = []\n",
    "                fold = 0\n",
    "                for train_index, test_index in kf.split(fullXmatrix1):\n",
    "                    print('fold is '+str(fold))\n",
    "                    fold += 1\n",
    "                    #print(\"TRAIN:\", train_index, \"TEST:\", test_index)\n",
    "                    X_train, X_test = fullXmatrix1[train_index], fullXmatrix1[test_index]\n",
    "                    y_train, y_test = fullYvector1[train_index], fullYvector1[test_index]\n",
    "                    trainXmatrix = X_train\n",
    "                    ValXmatrix = X_test\n",
    "                    trainYvector = y_train\n",
    "                    valYvector = y_test\n",
    "                    numOfSamples,numOfdimPlusOne = trainXmatrix.shape\n",
    "                    classifier.fit(X_train, y_train,C,kernel,degree,sigma)\n",
    "                    #classifier.fit(X_train, y_train,lamda,kernel,degree,sigma)\n",
    "                    #classifier.fit(X_train, y_train,C,lamda,degree,sigma)\n",
    "                    predictedLabels = classifier.predict(X_test)\n",
    "                    numOfCorrectlyPredictedLabels = 0\n",
    "                    for index in range(0,len(valYvector)):\n",
    "                        if(valYvector[index] == predictedLabels[index]):\n",
    "                            numOfCorrectlyPredictedLabels += 1\n",
    "                    accuracy = numOfCorrectlyPredictedLabels/len(valYvector)\n",
    "                    error = 1- accuracy\n",
    "                    ValErrorForEachFold.append(error)\n",
    "                crossValAvgErrorForEachSigma.append(np.mean(ValErrorForEachFold))\n",
    "                crossValVarOfErrorForEachSigma.append(np.std(ValErrorForEachFold))\n",
    "            \n",
    "            #for i in numOfdimPlusOne:#[:-1]\n",
    "            #for i in lamdavalues:\n",
    "            #ax.plot(np.arange(0.8,0.91,0.01),crossValAvgErrorForEachLamda, label= 'Bias Estimate')\n",
    "            ax.plot(consideredSigmaValues,crossValAvgErrorForEachSigma, label= 'Bias Estimate for Kernel= '+str(kernel)+'C='+str(C))\n",
    "            ax.plot(consideredSigmaValues,crossValVarOfErrorForEachSigma, label= 'Variance Estimate for Kernel= '+str(kernel)+'C='+str(C))\n",
    "            if((len(consideredKernelValues)==1) and (len(consideredCValues)==1) and (len(consideredSigmaValues)==1)):\n",
    "                print('cross validation error estimate is '+str(crossValAvgErrorForEachSigma))\n",
    "            ax.legend(loc=0) # upper left corner\n",
    "            ax.set_xlabel('Sigma')\n",
    "            ax.set_ylabel('values')\n",
    "            ax.set_title('(using cross validation) Bias & Variance Estimate for different hyperparameter values');\n",
    "    plt.show()"
   ]
  },
  {
   "cell_type": "code",
   "execution_count": 107,
   "metadata": {
    "scrolled": true
   },
   "outputs": [
    {
     "name": "stdout",
     "output_type": "stream",
     "text": [
      "fold is 0\n",
      "\n",
      " Calculating fullXmatrix\n"
     ]
    },
    {
     "data": {
      "application/vnd.jupyter.widget-view+json": {
       "model_id": "96f4e3da589f449898bc8ba320de2b33",
       "version_major": 2,
       "version_minor": 0
      },
      "text/plain": [
       "HBox(children=(IntProgress(value=0, max=66), HTML(value='')))"
      ]
     },
     "metadata": {},
     "output_type": "display_data"
    },
    {
     "name": "stdout",
     "output_type": "stream",
     "text": [
      "\n",
      "     pcost       dcost       gap    pres   dres\n",
      " 0: -6.4546e+01 -1.1345e-02  7e+02  3e+01  5e-15\n",
      " 1: -7.7601e-01 -1.0458e-02  8e+00  3e-01  5e-15\n",
      " 2: -2.5100e-02 -3.2794e-04  2e-01  1e-02  8e-16\n",
      " 3: -2.6342e-04 -3.7545e-08  3e-03  1e-04  1e-15\n",
      " 4: -2.6346e-06 -3.7546e-12  3e-05  1e-06  1e-15\n",
      " 5: -2.6346e-08 -3.7546e-16  3e-07  1e-08  1e-15\n",
      " 6: -2.6346e-10 -3.7546e-20  3e-09  1e-10  1e-15\n",
      "Optimal solution found.\n",
      "\n",
      " Calculating prediction values\n"
     ]
    },
    {
     "data": {
      "application/vnd.jupyter.widget-view+json": {
       "model_id": "7ad0452a42de4b8faf84f374b91dbb42",
       "version_major": 2,
       "version_minor": 0
      },
      "text/plain": [
       "HBox(children=(IntProgress(value=0, max=34), HTML(value='')))"
      ]
     },
     "metadata": {},
     "output_type": "display_data"
    },
    {
     "name": "stdout",
     "output_type": "stream",
     "text": [
      "\n",
      "fold is 1\n",
      "\n",
      " Calculating fullXmatrix\n"
     ]
    },
    {
     "data": {
      "application/vnd.jupyter.widget-view+json": {
       "model_id": "d1141985eb3b490697bbbe9b05b58add",
       "version_major": 2,
       "version_minor": 0
      },
      "text/plain": [
       "HBox(children=(IntProgress(value=0, max=67), HTML(value='')))"
      ]
     },
     "metadata": {},
     "output_type": "display_data"
    },
    {
     "name": "stdout",
     "output_type": "stream",
     "text": [
      "\n",
      "     pcost       dcost       gap    pres   dres\n",
      " 0: -6.4872e+01 -1.0767e-02  7e+02  3e+01  5e-15\n",
      " 1: -8.0319e-01 -1.0227e-02  8e+00  3e-01  5e-15\n",
      " 2: -5.0188e-02 -9.0526e-04  5e-01  2e-02  8e-16\n",
      " 3: -5.3723e-04 -1.3128e-07  5e-03  2e-04  1e-15\n",
      " 4: -5.3737e-06 -1.3129e-11  5e-05  2e-06  1e-15\n",
      " 5: -5.3737e-08 -1.3129e-15  5e-07  2e-08  1e-15\n",
      " 6: -5.3737e-10 -1.3129e-19  5e-09  2e-10  1e-15\n",
      "Optimal solution found.\n",
      "\n",
      " Calculating prediction values\n"
     ]
    },
    {
     "data": {
      "application/vnd.jupyter.widget-view+json": {
       "model_id": "cd11af2494b14cf2bb210362c824bd47",
       "version_major": 2,
       "version_minor": 0
      },
      "text/plain": [
       "HBox(children=(IntProgress(value=0, max=33), HTML(value='')))"
      ]
     },
     "metadata": {},
     "output_type": "display_data"
    },
    {
     "name": "stdout",
     "output_type": "stream",
     "text": [
      "\n",
      "fold is 2\n",
      "\n",
      " Calculating fullXmatrix\n"
     ]
    },
    {
     "data": {
      "application/vnd.jupyter.widget-view+json": {
       "model_id": "c97d1b53d03c4eba92181c811bdc23bb",
       "version_major": 2,
       "version_minor": 0
      },
      "text/plain": [
       "HBox(children=(IntProgress(value=0, max=67), HTML(value='')))"
      ]
     },
     "metadata": {},
     "output_type": "display_data"
    },
    {
     "name": "stdout",
     "output_type": "stream",
     "text": [
      "\n",
      "     pcost       dcost       gap    pres   dres\n",
      " 0: -6.4144e+01 -1.9214e-02  7e+02  3e+01  4e-15\n",
      " 1: -8.4616e-01 -1.7900e-02  9e+00  4e-01  5e-15\n",
      " 2: -5.6708e-02 -1.0968e-03  6e-01  2e-02  8e-16\n",
      " 3: -6.5234e-04 -2.0142e-07  7e-03  3e-04  1e-15\n",
      " 4: -6.5256e-06 -2.0145e-11  7e-05  3e-06  1e-15\n",
      " 5: -6.5256e-08 -2.0145e-15  7e-07  3e-08  1e-15\n",
      " 6: -6.5256e-10 -2.0145e-19  7e-09  3e-10  1e-15\n",
      "Optimal solution found.\n",
      "\n",
      " Calculating prediction values\n"
     ]
    },
    {
     "data": {
      "application/vnd.jupyter.widget-view+json": {
       "model_id": "8babb22f8a264384b2dd059bb0e84d4e",
       "version_major": 2,
       "version_minor": 0
      },
      "text/plain": [
       "HBox(children=(IntProgress(value=0, max=33), HTML(value='')))"
      ]
     },
     "metadata": {},
     "output_type": "display_data"
    },
    {
     "name": "stdout",
     "output_type": "stream",
     "text": [
      "\n",
      "fold is 0\n",
      "\n",
      " Calculating fullXmatrix\n"
     ]
    },
    {
     "data": {
      "application/vnd.jupyter.widget-view+json": {
       "model_id": "ed4bfbf607ae42c89f7b5909dc433992",
       "version_major": 2,
       "version_minor": 0
      },
      "text/plain": [
       "HBox(children=(IntProgress(value=0, max=66), HTML(value='')))"
      ]
     },
     "metadata": {},
     "output_type": "display_data"
    },
    {
     "name": "stdout",
     "output_type": "stream",
     "text": [
      "\n",
      "     pcost       dcost       gap    pres   dres\n",
      " 0: -6.4546e+01 -1.1345e-02  7e+02  3e+01  5e-15\n",
      " 1: -7.7601e-01 -1.0458e-02  8e+00  3e-01  5e-15\n",
      " 2: -2.5100e-02 -3.2794e-04  2e-01  1e-02  8e-16\n",
      " 3: -2.6342e-04 -3.7545e-08  3e-03  1e-04  1e-15\n",
      " 4: -2.6346e-06 -3.7546e-12  3e-05  1e-06  1e-15\n",
      " 5: -2.6346e-08 -3.7546e-16  3e-07  1e-08  1e-15\n",
      " 6: -2.6346e-10 -3.7546e-20  3e-09  1e-10  1e-15\n",
      "Optimal solution found.\n",
      "\n",
      " Calculating prediction values\n"
     ]
    },
    {
     "data": {
      "application/vnd.jupyter.widget-view+json": {
       "model_id": "ea1fed6e188047c8ad9d4adcd3333aa5",
       "version_major": 2,
       "version_minor": 0
      },
      "text/plain": [
       "HBox(children=(IntProgress(value=0, max=34), HTML(value='')))"
      ]
     },
     "metadata": {},
     "output_type": "display_data"
    },
    {
     "name": "stdout",
     "output_type": "stream",
     "text": [
      "\n",
      "fold is 1\n",
      "\n",
      " Calculating fullXmatrix\n"
     ]
    },
    {
     "data": {
      "application/vnd.jupyter.widget-view+json": {
       "model_id": "212d527d62f7487d8e7706b54208b3bd",
       "version_major": 2,
       "version_minor": 0
      },
      "text/plain": [
       "HBox(children=(IntProgress(value=0, max=67), HTML(value='')))"
      ]
     },
     "metadata": {},
     "output_type": "display_data"
    },
    {
     "name": "stdout",
     "output_type": "stream",
     "text": [
      "\n",
      "     pcost       dcost       gap    pres   dres\n",
      " 0: -6.4872e+01 -1.0767e-02  7e+02  3e+01  5e-15\n",
      " 1: -8.0319e-01 -1.0227e-02  8e+00  3e-01  5e-15\n",
      " 2: -5.0188e-02 -9.0526e-04  5e-01  2e-02  8e-16\n",
      " 3: -5.3723e-04 -1.3128e-07  5e-03  2e-04  1e-15\n",
      " 4: -5.3737e-06 -1.3129e-11  5e-05  2e-06  1e-15\n",
      " 5: -5.3737e-08 -1.3129e-15  5e-07  2e-08  1e-15\n",
      " 6: -5.3737e-10 -1.3129e-19  5e-09  2e-10  1e-15\n",
      "Optimal solution found.\n",
      "\n",
      " Calculating prediction values\n"
     ]
    },
    {
     "data": {
      "application/vnd.jupyter.widget-view+json": {
       "model_id": "d4a0a8a158c747f89408956c3dba2968",
       "version_major": 2,
       "version_minor": 0
      },
      "text/plain": [
       "HBox(children=(IntProgress(value=0, max=33), HTML(value='')))"
      ]
     },
     "metadata": {},
     "output_type": "display_data"
    },
    {
     "name": "stdout",
     "output_type": "stream",
     "text": [
      "\n",
      "fold is 2\n",
      "\n",
      " Calculating fullXmatrix\n"
     ]
    },
    {
     "data": {
      "application/vnd.jupyter.widget-view+json": {
       "model_id": "98e8117a195a471aaabe17d013e98bf0",
       "version_major": 2,
       "version_minor": 0
      },
      "text/plain": [
       "HBox(children=(IntProgress(value=0, max=67), HTML(value='')))"
      ]
     },
     "metadata": {},
     "output_type": "display_data"
    },
    {
     "name": "stdout",
     "output_type": "stream",
     "text": [
      "\n",
      "     pcost       dcost       gap    pres   dres\n",
      " 0: -6.4144e+01 -1.9214e-02  7e+02  3e+01  4e-15\n",
      " 1: -8.4616e-01 -1.7900e-02  9e+00  4e-01  5e-15\n",
      " 2: -5.6708e-02 -1.0968e-03  6e-01  2e-02  8e-16\n",
      " 3: -6.5234e-04 -2.0142e-07  7e-03  3e-04  1e-15\n",
      " 4: -6.5256e-06 -2.0145e-11  7e-05  3e-06  1e-15\n",
      " 5: -6.5256e-08 -2.0145e-15  7e-07  3e-08  1e-15\n",
      " 6: -6.5256e-10 -2.0145e-19  7e-09  3e-10  1e-15\n",
      "Optimal solution found.\n",
      "\n",
      " Calculating prediction values\n"
     ]
    },
    {
     "data": {
      "application/vnd.jupyter.widget-view+json": {
       "model_id": "58c5dc06011243b4bb697b2b7332c9a0",
       "version_major": 2,
       "version_minor": 0
      },
      "text/plain": [
       "HBox(children=(IntProgress(value=0, max=33), HTML(value='')))"
      ]
     },
     "metadata": {},
     "output_type": "display_data"
    },
    {
     "name": "stdout",
     "output_type": "stream",
     "text": [
      "\n",
      "fold is 0\n",
      "\n",
      " Calculating fullXmatrix\n"
     ]
    },
    {
     "data": {
      "application/vnd.jupyter.widget-view+json": {
       "model_id": "455a1223502040c08b92d9300ee39eb5",
       "version_major": 2,
       "version_minor": 0
      },
      "text/plain": [
       "HBox(children=(IntProgress(value=0, max=66), HTML(value='')))"
      ]
     },
     "metadata": {},
     "output_type": "display_data"
    },
    {
     "name": "stdout",
     "output_type": "stream",
     "text": [
      "\n",
      "     pcost       dcost       gap    pres   dres\n",
      " 0: -6.4546e+01 -1.1345e-02  7e+02  3e+01  5e-15\n",
      " 1: -7.7601e-01 -1.0458e-02  8e+00  3e-01  5e-15\n",
      " 2: -2.5100e-02 -3.2794e-04  2e-01  1e-02  8e-16\n",
      " 3: -2.6342e-04 -3.7545e-08  3e-03  1e-04  1e-15\n",
      " 4: -2.6346e-06 -3.7546e-12  3e-05  1e-06  1e-15\n",
      " 5: -2.6346e-08 -3.7546e-16  3e-07  1e-08  1e-15\n",
      " 6: -2.6346e-10 -3.7546e-20  3e-09  1e-10  1e-15\n",
      "Optimal solution found.\n",
      "\n",
      " Calculating prediction values\n"
     ]
    },
    {
     "data": {
      "application/vnd.jupyter.widget-view+json": {
       "model_id": "8586d5e558d64301a943d0adb93b1dd8",
       "version_major": 2,
       "version_minor": 0
      },
      "text/plain": [
       "HBox(children=(IntProgress(value=0, max=34), HTML(value='')))"
      ]
     },
     "metadata": {},
     "output_type": "display_data"
    },
    {
     "name": "stdout",
     "output_type": "stream",
     "text": [
      "\n",
      "fold is 1\n",
      "\n",
      " Calculating fullXmatrix\n"
     ]
    },
    {
     "data": {
      "application/vnd.jupyter.widget-view+json": {
       "model_id": "613be089801243e19d8d16e7914345c2",
       "version_major": 2,
       "version_minor": 0
      },
      "text/plain": [
       "HBox(children=(IntProgress(value=0, max=67), HTML(value='')))"
      ]
     },
     "metadata": {},
     "output_type": "display_data"
    },
    {
     "name": "stdout",
     "output_type": "stream",
     "text": [
      "\n",
      "     pcost       dcost       gap    pres   dres\n",
      " 0: -6.4872e+01 -1.0767e-02  7e+02  3e+01  5e-15\n",
      " 1: -8.0319e-01 -1.0227e-02  8e+00  3e-01  5e-15\n",
      " 2: -5.0188e-02 -9.0526e-04  5e-01  2e-02  8e-16\n",
      " 3: -5.3723e-04 -1.3128e-07  5e-03  2e-04  1e-15\n",
      " 4: -5.3737e-06 -1.3129e-11  5e-05  2e-06  1e-15\n",
      " 5: -5.3737e-08 -1.3129e-15  5e-07  2e-08  1e-15\n",
      " 6: -5.3737e-10 -1.3129e-19  5e-09  2e-10  1e-15\n",
      "Optimal solution found.\n",
      "\n",
      " Calculating prediction values\n"
     ]
    },
    {
     "data": {
      "application/vnd.jupyter.widget-view+json": {
       "model_id": "bd8256467d84421792029963bead008f",
       "version_major": 2,
       "version_minor": 0
      },
      "text/plain": [
       "HBox(children=(IntProgress(value=0, max=33), HTML(value='')))"
      ]
     },
     "metadata": {},
     "output_type": "display_data"
    },
    {
     "name": "stdout",
     "output_type": "stream",
     "text": [
      "\n",
      "fold is 2\n",
      "\n",
      " Calculating fullXmatrix\n"
     ]
    },
    {
     "data": {
      "application/vnd.jupyter.widget-view+json": {
       "model_id": "a2bf48cc87a4426b866e2b82e80c1963",
       "version_major": 2,
       "version_minor": 0
      },
      "text/plain": [
       "HBox(children=(IntProgress(value=0, max=67), HTML(value='')))"
      ]
     },
     "metadata": {},
     "output_type": "display_data"
    },
    {
     "name": "stdout",
     "output_type": "stream",
     "text": [
      "\n",
      "     pcost       dcost       gap    pres   dres\n",
      " 0: -6.4144e+01 -1.9214e-02  7e+02  3e+01  4e-15\n",
      " 1: -8.4616e-01 -1.7900e-02  9e+00  4e-01  5e-15\n",
      " 2: -5.6708e-02 -1.0968e-03  6e-01  2e-02  8e-16\n",
      " 3: -6.5234e-04 -2.0142e-07  7e-03  3e-04  1e-15\n",
      " 4: -6.5256e-06 -2.0145e-11  7e-05  3e-06  1e-15\n",
      " 5: -6.5256e-08 -2.0145e-15  7e-07  3e-08  1e-15\n",
      " 6: -6.5256e-10 -2.0145e-19  7e-09  3e-10  1e-15\n",
      "Optimal solution found.\n",
      "\n",
      " Calculating prediction values\n"
     ]
    },
    {
     "data": {
      "application/vnd.jupyter.widget-view+json": {
       "model_id": "b11ac42a444b47878454155ca08dc16d",
       "version_major": 2,
       "version_minor": 0
      },
      "text/plain": [
       "HBox(children=(IntProgress(value=0, max=33), HTML(value='')))"
      ]
     },
     "metadata": {},
     "output_type": "display_data"
    },
    {
     "name": "stdout",
     "output_type": "stream",
     "text": [
      "\n",
      "fold is 0\n",
      "\n",
      " Calculating fullXmatrix\n"
     ]
    },
    {
     "data": {
      "application/vnd.jupyter.widget-view+json": {
       "model_id": "5357d855f78b46169652cdf1fd2b4860",
       "version_major": 2,
       "version_minor": 0
      },
      "text/plain": [
       "HBox(children=(IntProgress(value=0, max=66), HTML(value='')))"
      ]
     },
     "metadata": {},
     "output_type": "display_data"
    },
    {
     "name": "stdout",
     "output_type": "stream",
     "text": [
      "\n",
      "     pcost       dcost       gap    pres   dres\n",
      " 0: -6.4546e+01 -1.1345e-02  7e+02  3e+01  5e-15\n",
      " 1: -7.7601e-01 -1.0458e-02  8e+00  3e-01  5e-15\n",
      " 2: -2.5100e-02 -3.2794e-04  2e-01  1e-02  8e-16\n",
      " 3: -2.6342e-04 -3.7545e-08  3e-03  1e-04  1e-15\n",
      " 4: -2.6346e-06 -3.7546e-12  3e-05  1e-06  1e-15\n",
      " 5: -2.6346e-08 -3.7546e-16  3e-07  1e-08  1e-15\n",
      " 6: -2.6346e-10 -3.7546e-20  3e-09  1e-10  1e-15\n",
      "Optimal solution found.\n",
      "\n",
      " Calculating prediction values\n"
     ]
    },
    {
     "data": {
      "application/vnd.jupyter.widget-view+json": {
       "model_id": "5265daf1a11c4050b799f52441b6db5c",
       "version_major": 2,
       "version_minor": 0
      },
      "text/plain": [
       "HBox(children=(IntProgress(value=0, max=34), HTML(value='')))"
      ]
     },
     "metadata": {},
     "output_type": "display_data"
    },
    {
     "name": "stdout",
     "output_type": "stream",
     "text": [
      "\n",
      "fold is 1\n",
      "\n",
      " Calculating fullXmatrix\n"
     ]
    },
    {
     "data": {
      "application/vnd.jupyter.widget-view+json": {
       "model_id": "d52b68dd8b4d43d798fa6388b9aecf99",
       "version_major": 2,
       "version_minor": 0
      },
      "text/plain": [
       "HBox(children=(IntProgress(value=0, max=67), HTML(value='')))"
      ]
     },
     "metadata": {},
     "output_type": "display_data"
    },
    {
     "name": "stdout",
     "output_type": "stream",
     "text": [
      "\n",
      "     pcost       dcost       gap    pres   dres\n",
      " 0: -6.4872e+01 -1.0767e-02  7e+02  3e+01  5e-15\n",
      " 1: -8.0319e-01 -1.0227e-02  8e+00  3e-01  5e-15\n",
      " 2: -5.0188e-02 -9.0526e-04  5e-01  2e-02  8e-16\n",
      " 3: -5.3723e-04 -1.3128e-07  5e-03  2e-04  1e-15\n",
      " 4: -5.3737e-06 -1.3129e-11  5e-05  2e-06  1e-15\n",
      " 5: -5.3737e-08 -1.3129e-15  5e-07  2e-08  1e-15\n",
      " 6: -5.3737e-10 -1.3129e-19  5e-09  2e-10  1e-15\n",
      "Optimal solution found.\n",
      "\n",
      " Calculating prediction values\n"
     ]
    },
    {
     "data": {
      "application/vnd.jupyter.widget-view+json": {
       "model_id": "5bf9c259e2fb43b1b71aacce8d83674c",
       "version_major": 2,
       "version_minor": 0
      },
      "text/plain": [
       "HBox(children=(IntProgress(value=0, max=33), HTML(value='')))"
      ]
     },
     "metadata": {},
     "output_type": "display_data"
    },
    {
     "name": "stdout",
     "output_type": "stream",
     "text": [
      "\n",
      "fold is 2\n",
      "\n",
      " Calculating fullXmatrix\n"
     ]
    },
    {
     "data": {
      "application/vnd.jupyter.widget-view+json": {
       "model_id": "d47255c055c44c5484868a29a3a3369d",
       "version_major": 2,
       "version_minor": 0
      },
      "text/plain": [
       "HBox(children=(IntProgress(value=0, max=67), HTML(value='')))"
      ]
     },
     "metadata": {},
     "output_type": "display_data"
    },
    {
     "name": "stdout",
     "output_type": "stream",
     "text": [
      "\n",
      "     pcost       dcost       gap    pres   dres\n",
      " 0: -6.4144e+01 -1.9214e-02  7e+02  3e+01  4e-15\n",
      " 1: -8.4616e-01 -1.7900e-02  9e+00  4e-01  5e-15\n",
      " 2: -5.6708e-02 -1.0968e-03  6e-01  2e-02  8e-16\n",
      " 3: -6.5234e-04 -2.0142e-07  7e-03  3e-04  1e-15\n",
      " 4: -6.5256e-06 -2.0145e-11  7e-05  3e-06  1e-15\n",
      " 5: -6.5256e-08 -2.0145e-15  7e-07  3e-08  1e-15\n",
      " 6: -6.5256e-10 -2.0145e-19  7e-09  3e-10  1e-15\n",
      "Optimal solution found.\n",
      "\n",
      " Calculating prediction values\n"
     ]
    },
    {
     "data": {
      "application/vnd.jupyter.widget-view+json": {
       "model_id": "7e947be52d6b49b7b65416ab77b6c1ed",
       "version_major": 2,
       "version_minor": 0
      },
      "text/plain": [
       "HBox(children=(IntProgress(value=0, max=33), HTML(value='')))"
      ]
     },
     "metadata": {},
     "output_type": "display_data"
    },
    {
     "name": "stdout",
     "output_type": "stream",
     "text": [
      "\n",
      "fold is 0\n",
      "\n",
      " Calculating fullXmatrix\n"
     ]
    },
    {
     "data": {
      "application/vnd.jupyter.widget-view+json": {
       "model_id": "b1dad40658024a658b971f51bd1b0e6f",
       "version_major": 2,
       "version_minor": 0
      },
      "text/plain": [
       "HBox(children=(IntProgress(value=0, max=66), HTML(value='')))"
      ]
     },
     "metadata": {},
     "output_type": "display_data"
    },
    {
     "name": "stdout",
     "output_type": "stream",
     "text": [
      "\n",
      "     pcost       dcost       gap    pres   dres\n",
      " 0: -6.4546e+01 -1.1345e-02  7e+02  3e+01  5e-15\n",
      " 1: -7.7601e-01 -1.0458e-02  8e+00  3e-01  5e-15\n",
      " 2: -2.5100e-02 -3.2794e-04  2e-01  1e-02  8e-16\n",
      " 3: -2.6342e-04 -3.7545e-08  3e-03  1e-04  1e-15\n",
      " 4: -2.6346e-06 -3.7546e-12  3e-05  1e-06  1e-15\n",
      " 5: -2.6346e-08 -3.7546e-16  3e-07  1e-08  1e-15\n",
      " 6: -2.6346e-10 -3.7546e-20  3e-09  1e-10  1e-15\n",
      "Optimal solution found.\n",
      "\n",
      " Calculating prediction values\n"
     ]
    },
    {
     "data": {
      "application/vnd.jupyter.widget-view+json": {
       "model_id": "a2dbe5e632d84c7997a6f53a4675c664",
       "version_major": 2,
       "version_minor": 0
      },
      "text/plain": [
       "HBox(children=(IntProgress(value=0, max=34), HTML(value='')))"
      ]
     },
     "metadata": {},
     "output_type": "display_data"
    },
    {
     "name": "stdout",
     "output_type": "stream",
     "text": [
      "\n",
      "fold is 1\n",
      "\n",
      " Calculating fullXmatrix\n"
     ]
    },
    {
     "data": {
      "application/vnd.jupyter.widget-view+json": {
       "model_id": "8de42989d83246f6933b198464f12df9",
       "version_major": 2,
       "version_minor": 0
      },
      "text/plain": [
       "HBox(children=(IntProgress(value=0, max=67), HTML(value='')))"
      ]
     },
     "metadata": {},
     "output_type": "display_data"
    },
    {
     "name": "stdout",
     "output_type": "stream",
     "text": [
      "\n",
      "     pcost       dcost       gap    pres   dres\n",
      " 0: -6.4872e+01 -1.0767e-02  7e+02  3e+01  5e-15\n",
      " 1: -8.0319e-01 -1.0227e-02  8e+00  3e-01  5e-15\n",
      " 2: -5.0188e-02 -9.0526e-04  5e-01  2e-02  8e-16\n",
      " 3: -5.3723e-04 -1.3128e-07  5e-03  2e-04  1e-15\n",
      " 4: -5.3737e-06 -1.3129e-11  5e-05  2e-06  1e-15\n",
      " 5: -5.3737e-08 -1.3129e-15  5e-07  2e-08  1e-15\n",
      " 6: -5.3737e-10 -1.3129e-19  5e-09  2e-10  1e-15\n",
      "Optimal solution found.\n",
      "\n",
      " Calculating prediction values\n"
     ]
    },
    {
     "data": {
      "application/vnd.jupyter.widget-view+json": {
       "model_id": "7d54b40b77984461be33ce8d8dda3772",
       "version_major": 2,
       "version_minor": 0
      },
      "text/plain": [
       "HBox(children=(IntProgress(value=0, max=33), HTML(value='')))"
      ]
     },
     "metadata": {},
     "output_type": "display_data"
    },
    {
     "name": "stdout",
     "output_type": "stream",
     "text": [
      "\n",
      "fold is 2\n",
      "\n",
      " Calculating fullXmatrix\n"
     ]
    },
    {
     "data": {
      "application/vnd.jupyter.widget-view+json": {
       "model_id": "8e60f69e022f4ed1b01dcf8c557bcc53",
       "version_major": 2,
       "version_minor": 0
      },
      "text/plain": [
       "HBox(children=(IntProgress(value=0, max=67), HTML(value='')))"
      ]
     },
     "metadata": {},
     "output_type": "display_data"
    },
    {
     "name": "stdout",
     "output_type": "stream",
     "text": [
      "\n",
      "     pcost       dcost       gap    pres   dres\n",
      " 0: -6.4144e+01 -1.9214e-02  7e+02  3e+01  4e-15\n",
      " 1: -8.4616e-01 -1.7900e-02  9e+00  4e-01  5e-15\n",
      " 2: -5.6708e-02 -1.0968e-03  6e-01  2e-02  8e-16\n",
      " 3: -6.5234e-04 -2.0142e-07  7e-03  3e-04  1e-15\n",
      " 4: -6.5256e-06 -2.0145e-11  7e-05  3e-06  1e-15\n",
      " 5: -6.5256e-08 -2.0145e-15  7e-07  3e-08  1e-15\n",
      " 6: -6.5256e-10 -2.0145e-19  7e-09  3e-10  1e-15\n",
      "Optimal solution found.\n",
      "\n",
      " Calculating prediction values\n"
     ]
    },
    {
     "data": {
      "application/vnd.jupyter.widget-view+json": {
       "model_id": "8037520122cd438e99c101fe085ffe82",
       "version_major": 2,
       "version_minor": 0
      },
      "text/plain": [
       "HBox(children=(IntProgress(value=0, max=33), HTML(value='')))"
      ]
     },
     "metadata": {},
     "output_type": "display_data"
    },
    {
     "name": "stdout",
     "output_type": "stream",
     "text": [
      "\n",
      "fold is 0\n",
      "\n",
      " Calculating fullXmatrix\n"
     ]
    },
    {
     "data": {
      "application/vnd.jupyter.widget-view+json": {
       "model_id": "c4e22ca4060b4febada43be102c82a68",
       "version_major": 2,
       "version_minor": 0
      },
      "text/plain": [
       "HBox(children=(IntProgress(value=0, max=66), HTML(value='')))"
      ]
     },
     "metadata": {},
     "output_type": "display_data"
    },
    {
     "name": "stdout",
     "output_type": "stream",
     "text": [
      "\n",
      "     pcost       dcost       gap    pres   dres\n",
      " 0: -6.4546e+01 -1.1345e-02  7e+02  3e+01  5e-15\n",
      " 1: -7.7601e-01 -1.0458e-02  8e+00  3e-01  5e-15\n",
      " 2: -2.5100e-02 -3.2794e-04  2e-01  1e-02  8e-16\n",
      " 3: -2.6342e-04 -3.7545e-08  3e-03  1e-04  1e-15\n",
      " 4: -2.6346e-06 -3.7546e-12  3e-05  1e-06  1e-15\n",
      " 5: -2.6346e-08 -3.7546e-16  3e-07  1e-08  1e-15\n",
      " 6: -2.6346e-10 -3.7546e-20  3e-09  1e-10  1e-15\n",
      "Optimal solution found.\n",
      "\n",
      " Calculating prediction values\n"
     ]
    },
    {
     "data": {
      "application/vnd.jupyter.widget-view+json": {
       "model_id": "cad3154775ca49d186e08ae80f288bd1",
       "version_major": 2,
       "version_minor": 0
      },
      "text/plain": [
       "HBox(children=(IntProgress(value=0, max=34), HTML(value='')))"
      ]
     },
     "metadata": {},
     "output_type": "display_data"
    },
    {
     "name": "stdout",
     "output_type": "stream",
     "text": [
      "\n",
      "fold is 1\n",
      "\n",
      " Calculating fullXmatrix\n"
     ]
    },
    {
     "data": {
      "application/vnd.jupyter.widget-view+json": {
       "model_id": "82640f789ea7438684ff0310cc7d509a",
       "version_major": 2,
       "version_minor": 0
      },
      "text/plain": [
       "HBox(children=(IntProgress(value=0, max=67), HTML(value='')))"
      ]
     },
     "metadata": {},
     "output_type": "display_data"
    },
    {
     "name": "stdout",
     "output_type": "stream",
     "text": [
      "\n",
      "     pcost       dcost       gap    pres   dres\n",
      " 0: -6.4872e+01 -1.0767e-02  7e+02  3e+01  5e-15\n",
      " 1: -8.0319e-01 -1.0227e-02  8e+00  3e-01  5e-15\n",
      " 2: -5.0188e-02 -9.0526e-04  5e-01  2e-02  8e-16\n",
      " 3: -5.3723e-04 -1.3128e-07  5e-03  2e-04  1e-15\n",
      " 4: -5.3737e-06 -1.3129e-11  5e-05  2e-06  1e-15\n",
      " 5: -5.3737e-08 -1.3129e-15  5e-07  2e-08  1e-15\n",
      " 6: -5.3737e-10 -1.3129e-19  5e-09  2e-10  1e-15\n",
      "Optimal solution found.\n",
      "\n",
      " Calculating prediction values\n"
     ]
    },
    {
     "data": {
      "application/vnd.jupyter.widget-view+json": {
       "model_id": "5eabecdf16214241924e1705e9465d01",
       "version_major": 2,
       "version_minor": 0
      },
      "text/plain": [
       "HBox(children=(IntProgress(value=0, max=33), HTML(value='')))"
      ]
     },
     "metadata": {},
     "output_type": "display_data"
    },
    {
     "name": "stdout",
     "output_type": "stream",
     "text": [
      "\n",
      "fold is 2\n",
      "\n",
      " Calculating fullXmatrix\n"
     ]
    },
    {
     "data": {
      "application/vnd.jupyter.widget-view+json": {
       "model_id": "319fb57e4a6f4730913999e2396e2456",
       "version_major": 2,
       "version_minor": 0
      },
      "text/plain": [
       "HBox(children=(IntProgress(value=0, max=67), HTML(value='')))"
      ]
     },
     "metadata": {},
     "output_type": "display_data"
    },
    {
     "name": "stdout",
     "output_type": "stream",
     "text": [
      "\n",
      "     pcost       dcost       gap    pres   dres\n",
      " 0: -6.4144e+01 -1.9214e-02  7e+02  3e+01  4e-15\n",
      " 1: -8.4616e-01 -1.7900e-02  9e+00  4e-01  5e-15\n",
      " 2: -5.6708e-02 -1.0968e-03  6e-01  2e-02  8e-16\n",
      " 3: -6.5234e-04 -2.0142e-07  7e-03  3e-04  1e-15\n",
      " 4: -6.5256e-06 -2.0145e-11  7e-05  3e-06  1e-15\n",
      " 5: -6.5256e-08 -2.0145e-15  7e-07  3e-08  1e-15\n",
      " 6: -6.5256e-10 -2.0145e-19  7e-09  3e-10  1e-15\n",
      "Optimal solution found.\n",
      "\n",
      " Calculating prediction values\n"
     ]
    },
    {
     "data": {
      "application/vnd.jupyter.widget-view+json": {
       "model_id": "2a7e262a2cb848f390efefb7a8dce581",
       "version_major": 2,
       "version_minor": 0
      },
      "text/plain": [
       "HBox(children=(IntProgress(value=0, max=33), HTML(value='')))"
      ]
     },
     "metadata": {},
     "output_type": "display_data"
    },
    {
     "name": "stdout",
     "output_type": "stream",
     "text": [
      "\n",
      "fold is 0\n",
      "\n",
      " Calculating fullXmatrix\n"
     ]
    },
    {
     "data": {
      "application/vnd.jupyter.widget-view+json": {
       "model_id": "e5aa10608bc54244931f6629071f0d73",
       "version_major": 2,
       "version_minor": 0
      },
      "text/plain": [
       "HBox(children=(IntProgress(value=0, max=66), HTML(value='')))"
      ]
     },
     "metadata": {},
     "output_type": "display_data"
    },
    {
     "name": "stdout",
     "output_type": "stream",
     "text": [
      "\n",
      "     pcost       dcost       gap    pres   dres\n",
      " 0: -6.4546e+01 -1.1345e-02  7e+02  3e+01  5e-15\n",
      " 1: -7.7601e-01 -1.0458e-02  8e+00  3e-01  5e-15\n",
      " 2: -2.5100e-02 -3.2794e-04  2e-01  1e-02  8e-16\n",
      " 3: -2.6342e-04 -3.7545e-08  3e-03  1e-04  1e-15\n",
      " 4: -2.6346e-06 -3.7546e-12  3e-05  1e-06  1e-15\n",
      " 5: -2.6346e-08 -3.7546e-16  3e-07  1e-08  1e-15\n",
      " 6: -2.6346e-10 -3.7546e-20  3e-09  1e-10  1e-15\n",
      "Optimal solution found.\n",
      "\n",
      " Calculating prediction values\n"
     ]
    },
    {
     "data": {
      "application/vnd.jupyter.widget-view+json": {
       "model_id": "3e9554b38a5542fb9f830f7e319f0598",
       "version_major": 2,
       "version_minor": 0
      },
      "text/plain": [
       "HBox(children=(IntProgress(value=0, max=34), HTML(value='')))"
      ]
     },
     "metadata": {},
     "output_type": "display_data"
    },
    {
     "name": "stdout",
     "output_type": "stream",
     "text": [
      "\n",
      "fold is 1\n",
      "\n",
      " Calculating fullXmatrix\n"
     ]
    },
    {
     "data": {
      "application/vnd.jupyter.widget-view+json": {
       "model_id": "d3a7e78d7ff34b64b335f13512b3937a",
       "version_major": 2,
       "version_minor": 0
      },
      "text/plain": [
       "HBox(children=(IntProgress(value=0, max=67), HTML(value='')))"
      ]
     },
     "metadata": {},
     "output_type": "display_data"
    },
    {
     "name": "stdout",
     "output_type": "stream",
     "text": [
      "\n",
      "     pcost       dcost       gap    pres   dres\n",
      " 0: -6.4872e+01 -1.0767e-02  7e+02  3e+01  5e-15\n",
      " 1: -8.0319e-01 -1.0227e-02  8e+00  3e-01  5e-15\n",
      " 2: -5.0188e-02 -9.0526e-04  5e-01  2e-02  8e-16\n",
      " 3: -5.3723e-04 -1.3128e-07  5e-03  2e-04  1e-15\n",
      " 4: -5.3737e-06 -1.3129e-11  5e-05  2e-06  1e-15\n",
      " 5: -5.3737e-08 -1.3129e-15  5e-07  2e-08  1e-15\n",
      " 6: -5.3737e-10 -1.3129e-19  5e-09  2e-10  1e-15\n",
      "Optimal solution found.\n",
      "\n",
      " Calculating prediction values\n"
     ]
    },
    {
     "data": {
      "application/vnd.jupyter.widget-view+json": {
       "model_id": "cce926ebf6234dc2b0dfc2e7db363d39",
       "version_major": 2,
       "version_minor": 0
      },
      "text/plain": [
       "HBox(children=(IntProgress(value=0, max=33), HTML(value='')))"
      ]
     },
     "metadata": {},
     "output_type": "display_data"
    },
    {
     "name": "stdout",
     "output_type": "stream",
     "text": [
      "\n",
      "fold is 2\n",
      "\n",
      " Calculating fullXmatrix\n"
     ]
    },
    {
     "data": {
      "application/vnd.jupyter.widget-view+json": {
       "model_id": "1ad1c99ad95d4cba810a6c3977faea03",
       "version_major": 2,
       "version_minor": 0
      },
      "text/plain": [
       "HBox(children=(IntProgress(value=0, max=67), HTML(value='')))"
      ]
     },
     "metadata": {},
     "output_type": "display_data"
    },
    {
     "name": "stdout",
     "output_type": "stream",
     "text": [
      "\n",
      "     pcost       dcost       gap    pres   dres\n",
      " 0: -6.4144e+01 -1.9214e-02  7e+02  3e+01  4e-15\n",
      " 1: -8.4616e-01 -1.7900e-02  9e+00  4e-01  5e-15\n",
      " 2: -5.6708e-02 -1.0968e-03  6e-01  2e-02  8e-16\n",
      " 3: -6.5234e-04 -2.0142e-07  7e-03  3e-04  1e-15\n",
      " 4: -6.5256e-06 -2.0145e-11  7e-05  3e-06  1e-15\n",
      " 5: -6.5256e-08 -2.0145e-15  7e-07  3e-08  1e-15\n",
      " 6: -6.5256e-10 -2.0145e-19  7e-09  3e-10  1e-15\n",
      "Optimal solution found.\n",
      "\n",
      " Calculating prediction values\n"
     ]
    },
    {
     "data": {
      "application/vnd.jupyter.widget-view+json": {
       "model_id": "c3bc4d984d914c88abd6a81c3e43a5ef",
       "version_major": 2,
       "version_minor": 0
      },
      "text/plain": [
       "HBox(children=(IntProgress(value=0, max=33), HTML(value='')))"
      ]
     },
     "metadata": {},
     "output_type": "display_data"
    },
    {
     "name": "stdout",
     "output_type": "stream",
     "text": [
      "\n",
      "fold is 0\n",
      "\n",
      " Calculating fullXmatrix\n"
     ]
    },
    {
     "data": {
      "application/vnd.jupyter.widget-view+json": {
       "model_id": "e472eb23b6004eb991768e37f042508a",
       "version_major": 2,
       "version_minor": 0
      },
      "text/plain": [
       "HBox(children=(IntProgress(value=0, max=66), HTML(value='')))"
      ]
     },
     "metadata": {},
     "output_type": "display_data"
    },
    {
     "name": "stdout",
     "output_type": "stream",
     "text": [
      "\n",
      "     pcost       dcost       gap    pres   dres\n",
      " 0: -3.2629e+03 -7.3095e+04  7e+04  0e+00  3e-13\n",
      " 1: -3.5403e+03 -7.1145e+03  4e+03  1e-16  2e-13\n",
      " 2: -5.3599e+03 -6.4221e+03  1e+03  1e-16  3e-13\n",
      " 3: -5.6073e+03 -6.0980e+03  5e+02  2e-16  3e-13\n",
      " 4: -5.7195e+03 -5.9395e+03  2e+02  2e-16  3e-13\n",
      " 5: -5.7784e+03 -5.8642e+03  9e+01  2e-16  3e-13\n",
      " 6: -5.8068e+03 -5.8288e+03  2e+01  2e-16  3e-13\n",
      " 7: -5.8141e+03 -5.8198e+03  6e+00  2e-16  3e-13\n",
      " 8: -5.8166e+03 -5.8168e+03  2e-01  2e-16  4e-13\n",
      " 9: -5.8167e+03 -5.8167e+03  2e-03  2e-16  4e-13\n",
      "Optimal solution found.\n",
      "\n",
      " Calculating prediction values\n"
     ]
    },
    {
     "data": {
      "application/vnd.jupyter.widget-view+json": {
       "model_id": "b46ed296bb564a2496f9b8fcbef7f768",
       "version_major": 2,
       "version_minor": 0
      },
      "text/plain": [
       "HBox(children=(IntProgress(value=0, max=34), HTML(value='')))"
      ]
     },
     "metadata": {},
     "output_type": "display_data"
    },
    {
     "name": "stdout",
     "output_type": "stream",
     "text": [
      "\n",
      "fold is 1\n",
      "\n",
      " Calculating fullXmatrix\n"
     ]
    },
    {
     "data": {
      "application/vnd.jupyter.widget-view+json": {
       "model_id": "92c6810e1f0e490fb8c609857b14b22d",
       "version_major": 2,
       "version_minor": 0
      },
      "text/plain": [
       "HBox(children=(IntProgress(value=0, max=67), HTML(value='')))"
      ]
     },
     "metadata": {},
     "output_type": "display_data"
    },
    {
     "name": "stdout",
     "output_type": "stream",
     "text": [
      "\n",
      "     pcost       dcost       gap    pres   dres\n",
      " 0: -3.2810e+03 -1.0932e+05  1e+05  2e-17  3e-13\n",
      " 1: -3.4854e+03 -7.5157e+03  4e+03  1e-16  2e-13\n",
      " 2: -5.7152e+03 -6.7749e+03  1e+03  2e-16  4e-13\n",
      " 3: -5.9591e+03 -6.1094e+03  2e+02  2e-16  4e-13\n",
      " 4: -5.9982e+03 -6.0043e+03  6e+00  2e-16  4e-13\n",
      " 5: -6.0003e+03 -6.0004e+03  6e-02  2e-16  3e-13\n",
      " 6: -6.0003e+03 -6.0003e+03  6e-04  2e-16  3e-13\n",
      "Optimal solution found.\n",
      "\n",
      " Calculating prediction values\n"
     ]
    },
    {
     "data": {
      "application/vnd.jupyter.widget-view+json": {
       "model_id": "4946ff5684704baa8fb33366f98d743b",
       "version_major": 2,
       "version_minor": 0
      },
      "text/plain": [
       "HBox(children=(IntProgress(value=0, max=33), HTML(value='')))"
      ]
     },
     "metadata": {},
     "output_type": "display_data"
    },
    {
     "name": "stdout",
     "output_type": "stream",
     "text": [
      "\n",
      "fold is 2\n",
      "\n",
      " Calculating fullXmatrix\n"
     ]
    },
    {
     "data": {
      "application/vnd.jupyter.widget-view+json": {
       "model_id": "f57d19eef25f4ca3ae1e9d74aff5e1e4",
       "version_major": 2,
       "version_minor": 0
      },
      "text/plain": [
       "HBox(children=(IntProgress(value=0, max=67), HTML(value='')))"
      ]
     },
     "metadata": {},
     "output_type": "display_data"
    },
    {
     "name": "stdout",
     "output_type": "stream",
     "text": [
      "\n",
      "     pcost       dcost       gap    pres   dres\n",
      " 0: -3.2224e+03 -1.1700e+05  1e+05  2e-17  3e-13\n",
      " 1: -3.4248e+03 -7.6731e+03  4e+03  1e-16  2e-13\n",
      " 2: -5.3072e+03 -6.5645e+03  1e+03  2e-16  3e-13\n",
      " 3: -5.5876e+03 -6.0397e+03  5e+02  2e-16  3e-13\n",
      " 4: -5.7199e+03 -5.8400e+03  1e+02  2e-16  4e-13\n",
      " 5: -5.7638e+03 -5.7835e+03  2e+01  2e-16  3e-13\n",
      " 6: -5.7667e+03 -5.7794e+03  1e+01  2e-16  4e-13\n",
      " 7: -5.7711e+03 -5.7744e+03  3e+00  2e-16  3e-13\n",
      " 8: -5.7724e+03 -5.7729e+03  5e-01  2e-16  3e-13\n",
      " 9: -5.7726e+03 -5.7727e+03  4e-02  2e-16  3e-13\n",
      "10: -5.7727e+03 -5.7727e+03  4e-04  2e-16  3e-13\n",
      "Optimal solution found.\n",
      "\n",
      " Calculating prediction values\n"
     ]
    },
    {
     "data": {
      "application/vnd.jupyter.widget-view+json": {
       "model_id": "bbf7f029910b4c559cdace26f56ef706",
       "version_major": 2,
       "version_minor": 0
      },
      "text/plain": [
       "HBox(children=(IntProgress(value=0, max=33), HTML(value='')))"
      ]
     },
     "metadata": {},
     "output_type": "display_data"
    },
    {
     "name": "stdout",
     "output_type": "stream",
     "text": [
      "\n",
      "fold is 0\n",
      "\n",
      " Calculating fullXmatrix\n"
     ]
    },
    {
     "data": {
      "application/vnd.jupyter.widget-view+json": {
       "model_id": "8f0e3a7048224e71978915d30d37018b",
       "version_major": 2,
       "version_minor": 0
      },
      "text/plain": [
       "HBox(children=(IntProgress(value=0, max=66), HTML(value='')))"
      ]
     },
     "metadata": {},
     "output_type": "display_data"
    },
    {
     "name": "stdout",
     "output_type": "stream",
     "text": [
      "\n",
      "     pcost       dcost       gap    pres   dres\n",
      " 0: -3.2629e+03 -7.3095e+04  7e+04  0e+00  3e-13\n",
      " 1: -3.5403e+03 -7.1145e+03  4e+03  1e-16  2e-13\n",
      " 2: -5.3599e+03 -6.4221e+03  1e+03  1e-16  3e-13\n",
      " 3: -5.6073e+03 -6.0980e+03  5e+02  2e-16  3e-13\n",
      " 4: -5.7195e+03 -5.9395e+03  2e+02  2e-16  3e-13\n",
      " 5: -5.7784e+03 -5.8642e+03  9e+01  2e-16  3e-13\n",
      " 6: -5.8068e+03 -5.8288e+03  2e+01  2e-16  3e-13\n",
      " 7: -5.8141e+03 -5.8198e+03  6e+00  2e-16  3e-13\n",
      " 8: -5.8166e+03 -5.8168e+03  2e-01  2e-16  4e-13\n",
      " 9: -5.8167e+03 -5.8167e+03  2e-03  2e-16  4e-13\n",
      "Optimal solution found.\n",
      "\n",
      " Calculating prediction values\n"
     ]
    },
    {
     "data": {
      "application/vnd.jupyter.widget-view+json": {
       "model_id": "c1bf93eceda84418af3080e928702e9a",
       "version_major": 2,
       "version_minor": 0
      },
      "text/plain": [
       "HBox(children=(IntProgress(value=0, max=34), HTML(value='')))"
      ]
     },
     "metadata": {},
     "output_type": "display_data"
    },
    {
     "name": "stdout",
     "output_type": "stream",
     "text": [
      "\n",
      "fold is 1\n",
      "\n",
      " Calculating fullXmatrix\n"
     ]
    },
    {
     "data": {
      "application/vnd.jupyter.widget-view+json": {
       "model_id": "fee6ed8e40a746adbe14f9c035886d26",
       "version_major": 2,
       "version_minor": 0
      },
      "text/plain": [
       "HBox(children=(IntProgress(value=0, max=67), HTML(value='')))"
      ]
     },
     "metadata": {},
     "output_type": "display_data"
    },
    {
     "name": "stdout",
     "output_type": "stream",
     "text": [
      "\n",
      "     pcost       dcost       gap    pres   dres\n",
      " 0: -3.2810e+03 -1.0932e+05  1e+05  2e-17  3e-13\n",
      " 1: -3.4854e+03 -7.5157e+03  4e+03  1e-16  2e-13\n",
      " 2: -5.7152e+03 -6.7749e+03  1e+03  2e-16  4e-13\n",
      " 3: -5.9591e+03 -6.1094e+03  2e+02  2e-16  4e-13\n",
      " 4: -5.9982e+03 -6.0043e+03  6e+00  2e-16  4e-13\n",
      " 5: -6.0003e+03 -6.0004e+03  6e-02  2e-16  3e-13\n",
      " 6: -6.0003e+03 -6.0003e+03  6e-04  2e-16  3e-13\n",
      "Optimal solution found.\n",
      "\n",
      " Calculating prediction values\n"
     ]
    },
    {
     "data": {
      "application/vnd.jupyter.widget-view+json": {
       "model_id": "baf467a681c048ce974087da2e255f26",
       "version_major": 2,
       "version_minor": 0
      },
      "text/plain": [
       "HBox(children=(IntProgress(value=0, max=33), HTML(value='')))"
      ]
     },
     "metadata": {},
     "output_type": "display_data"
    },
    {
     "name": "stdout",
     "output_type": "stream",
     "text": [
      "\n",
      "fold is 2\n",
      "\n",
      " Calculating fullXmatrix\n"
     ]
    },
    {
     "data": {
      "application/vnd.jupyter.widget-view+json": {
       "model_id": "d70a289356c643c6bed5f9c3a220c5d4",
       "version_major": 2,
       "version_minor": 0
      },
      "text/plain": [
       "HBox(children=(IntProgress(value=0, max=67), HTML(value='')))"
      ]
     },
     "metadata": {},
     "output_type": "display_data"
    },
    {
     "name": "stdout",
     "output_type": "stream",
     "text": [
      "\n",
      "     pcost       dcost       gap    pres   dres\n",
      " 0: -3.2224e+03 -1.1700e+05  1e+05  2e-17  3e-13\n",
      " 1: -3.4248e+03 -7.6731e+03  4e+03  1e-16  2e-13\n",
      " 2: -5.3072e+03 -6.5645e+03  1e+03  2e-16  3e-13\n",
      " 3: -5.5876e+03 -6.0397e+03  5e+02  2e-16  3e-13\n",
      " 4: -5.7199e+03 -5.8400e+03  1e+02  2e-16  4e-13\n",
      " 5: -5.7638e+03 -5.7835e+03  2e+01  2e-16  3e-13\n",
      " 6: -5.7667e+03 -5.7794e+03  1e+01  2e-16  4e-13\n",
      " 7: -5.7711e+03 -5.7744e+03  3e+00  2e-16  3e-13\n",
      " 8: -5.7724e+03 -5.7729e+03  5e-01  2e-16  3e-13\n",
      " 9: -5.7726e+03 -5.7727e+03  4e-02  2e-16  3e-13\n",
      "10: -5.7727e+03 -5.7727e+03  4e-04  2e-16  3e-13\n",
      "Optimal solution found.\n",
      "\n",
      " Calculating prediction values\n"
     ]
    },
    {
     "data": {
      "application/vnd.jupyter.widget-view+json": {
       "model_id": "956c943c0edb4f58ae87acc421099754",
       "version_major": 2,
       "version_minor": 0
      },
      "text/plain": [
       "HBox(children=(IntProgress(value=0, max=33), HTML(value='')))"
      ]
     },
     "metadata": {},
     "output_type": "display_data"
    },
    {
     "name": "stdout",
     "output_type": "stream",
     "text": [
      "\n",
      "fold is 0\n",
      "\n",
      " Calculating fullXmatrix\n"
     ]
    },
    {
     "data": {
      "application/vnd.jupyter.widget-view+json": {
       "model_id": "139f9ec872f1476ab860745bcdeac9da",
       "version_major": 2,
       "version_minor": 0
      },
      "text/plain": [
       "HBox(children=(IntProgress(value=0, max=66), HTML(value='')))"
      ]
     },
     "metadata": {},
     "output_type": "display_data"
    },
    {
     "name": "stdout",
     "output_type": "stream",
     "text": [
      "\n",
      "     pcost       dcost       gap    pres   dres\n",
      " 0: -3.2629e+03 -7.3095e+04  7e+04  0e+00  3e-13\n",
      " 1: -3.5403e+03 -7.1145e+03  4e+03  1e-16  2e-13\n",
      " 2: -5.3599e+03 -6.4221e+03  1e+03  1e-16  3e-13\n",
      " 3: -5.6073e+03 -6.0980e+03  5e+02  2e-16  3e-13\n",
      " 4: -5.7195e+03 -5.9395e+03  2e+02  2e-16  3e-13\n",
      " 5: -5.7784e+03 -5.8642e+03  9e+01  2e-16  3e-13\n",
      " 6: -5.8068e+03 -5.8288e+03  2e+01  2e-16  3e-13\n",
      " 7: -5.8141e+03 -5.8198e+03  6e+00  2e-16  3e-13\n",
      " 8: -5.8166e+03 -5.8168e+03  2e-01  2e-16  4e-13\n",
      " 9: -5.8167e+03 -5.8167e+03  2e-03  2e-16  4e-13\n",
      "Optimal solution found.\n",
      "\n",
      " Calculating prediction values\n"
     ]
    },
    {
     "data": {
      "application/vnd.jupyter.widget-view+json": {
       "model_id": "7e891dca02f240dca77c77fe50020918",
       "version_major": 2,
       "version_minor": 0
      },
      "text/plain": [
       "HBox(children=(IntProgress(value=0, max=34), HTML(value='')))"
      ]
     },
     "metadata": {},
     "output_type": "display_data"
    },
    {
     "name": "stdout",
     "output_type": "stream",
     "text": [
      "\n",
      "fold is 1\n",
      "\n",
      " Calculating fullXmatrix\n"
     ]
    },
    {
     "data": {
      "application/vnd.jupyter.widget-view+json": {
       "model_id": "981ac232bc6d4a46b35f89f5f1e0fdda",
       "version_major": 2,
       "version_minor": 0
      },
      "text/plain": [
       "HBox(children=(IntProgress(value=0, max=67), HTML(value='')))"
      ]
     },
     "metadata": {},
     "output_type": "display_data"
    },
    {
     "name": "stdout",
     "output_type": "stream",
     "text": [
      "\n",
      "     pcost       dcost       gap    pres   dres\n",
      " 0: -3.2810e+03 -1.0932e+05  1e+05  2e-17  3e-13\n",
      " 1: -3.4854e+03 -7.5157e+03  4e+03  1e-16  2e-13\n",
      " 2: -5.7152e+03 -6.7749e+03  1e+03  2e-16  4e-13\n",
      " 3: -5.9591e+03 -6.1094e+03  2e+02  2e-16  4e-13\n",
      " 4: -5.9982e+03 -6.0043e+03  6e+00  2e-16  4e-13\n",
      " 5: -6.0003e+03 -6.0004e+03  6e-02  2e-16  3e-13\n",
      " 6: -6.0003e+03 -6.0003e+03  6e-04  2e-16  3e-13\n",
      "Optimal solution found.\n",
      "\n",
      " Calculating prediction values\n"
     ]
    },
    {
     "data": {
      "application/vnd.jupyter.widget-view+json": {
       "model_id": "e9def2ecc25c4335a0002a84d00b4347",
       "version_major": 2,
       "version_minor": 0
      },
      "text/plain": [
       "HBox(children=(IntProgress(value=0, max=33), HTML(value='')))"
      ]
     },
     "metadata": {},
     "output_type": "display_data"
    },
    {
     "name": "stdout",
     "output_type": "stream",
     "text": [
      "\n",
      "fold is 2\n",
      "\n",
      " Calculating fullXmatrix\n"
     ]
    },
    {
     "data": {
      "application/vnd.jupyter.widget-view+json": {
       "model_id": "7ce6c15cedf84dc299a51a4fb44af7bb",
       "version_major": 2,
       "version_minor": 0
      },
      "text/plain": [
       "HBox(children=(IntProgress(value=0, max=67), HTML(value='')))"
      ]
     },
     "metadata": {},
     "output_type": "display_data"
    },
    {
     "name": "stdout",
     "output_type": "stream",
     "text": [
      "\n",
      "     pcost       dcost       gap    pres   dres\n",
      " 0: -3.2224e+03 -1.1700e+05  1e+05  2e-17  3e-13\n",
      " 1: -3.4248e+03 -7.6731e+03  4e+03  1e-16  2e-13\n",
      " 2: -5.3072e+03 -6.5645e+03  1e+03  2e-16  3e-13\n",
      " 3: -5.5876e+03 -6.0397e+03  5e+02  2e-16  3e-13\n",
      " 4: -5.7199e+03 -5.8400e+03  1e+02  2e-16  4e-13\n",
      " 5: -5.7638e+03 -5.7835e+03  2e+01  2e-16  3e-13\n",
      " 6: -5.7667e+03 -5.7794e+03  1e+01  2e-16  4e-13\n",
      " 7: -5.7711e+03 -5.7744e+03  3e+00  2e-16  3e-13\n",
      " 8: -5.7724e+03 -5.7729e+03  5e-01  2e-16  3e-13\n",
      " 9: -5.7726e+03 -5.7727e+03  4e-02  2e-16  3e-13\n",
      "10: -5.7727e+03 -5.7727e+03  4e-04  2e-16  3e-13\n",
      "Optimal solution found.\n",
      "\n",
      " Calculating prediction values\n"
     ]
    },
    {
     "data": {
      "application/vnd.jupyter.widget-view+json": {
       "model_id": "e41cb3a43f68474a92fee237d981dcaa",
       "version_major": 2,
       "version_minor": 0
      },
      "text/plain": [
       "HBox(children=(IntProgress(value=0, max=33), HTML(value='')))"
      ]
     },
     "metadata": {},
     "output_type": "display_data"
    },
    {
     "name": "stdout",
     "output_type": "stream",
     "text": [
      "\n",
      "fold is 0\n",
      "\n",
      " Calculating fullXmatrix\n"
     ]
    },
    {
     "data": {
      "application/vnd.jupyter.widget-view+json": {
       "model_id": "3f0f953d6dd24b3a81fd1631ccca10a1",
       "version_major": 2,
       "version_minor": 0
      },
      "text/plain": [
       "HBox(children=(IntProgress(value=0, max=66), HTML(value='')))"
      ]
     },
     "metadata": {},
     "output_type": "display_data"
    },
    {
     "name": "stdout",
     "output_type": "stream",
     "text": [
      "\n",
      "     pcost       dcost       gap    pres   dres\n",
      " 0: -3.2629e+03 -7.3095e+04  7e+04  0e+00  3e-13\n",
      " 1: -3.5403e+03 -7.1145e+03  4e+03  1e-16  2e-13\n",
      " 2: -5.3599e+03 -6.4221e+03  1e+03  1e-16  3e-13\n",
      " 3: -5.6073e+03 -6.0980e+03  5e+02  2e-16  3e-13\n",
      " 4: -5.7195e+03 -5.9395e+03  2e+02  2e-16  3e-13\n",
      " 5: -5.7784e+03 -5.8642e+03  9e+01  2e-16  3e-13\n",
      " 6: -5.8068e+03 -5.8288e+03  2e+01  2e-16  3e-13\n",
      " 7: -5.8141e+03 -5.8198e+03  6e+00  2e-16  3e-13\n",
      " 8: -5.8166e+03 -5.8168e+03  2e-01  2e-16  4e-13\n",
      " 9: -5.8167e+03 -5.8167e+03  2e-03  2e-16  4e-13\n",
      "Optimal solution found.\n",
      "\n",
      " Calculating prediction values\n"
     ]
    },
    {
     "data": {
      "application/vnd.jupyter.widget-view+json": {
       "model_id": "5baf883e20f346ecbb46e67c7d77e673",
       "version_major": 2,
       "version_minor": 0
      },
      "text/plain": [
       "HBox(children=(IntProgress(value=0, max=34), HTML(value='')))"
      ]
     },
     "metadata": {},
     "output_type": "display_data"
    },
    {
     "name": "stdout",
     "output_type": "stream",
     "text": [
      "\n",
      "fold is 1\n",
      "\n",
      " Calculating fullXmatrix\n"
     ]
    },
    {
     "data": {
      "application/vnd.jupyter.widget-view+json": {
       "model_id": "7ea9bde9b0a14e4fb1a5d43e3ac2b3dd",
       "version_major": 2,
       "version_minor": 0
      },
      "text/plain": [
       "HBox(children=(IntProgress(value=0, max=67), HTML(value='')))"
      ]
     },
     "metadata": {},
     "output_type": "display_data"
    },
    {
     "name": "stdout",
     "output_type": "stream",
     "text": [
      "\n",
      "     pcost       dcost       gap    pres   dres\n",
      " 0: -3.2810e+03 -1.0932e+05  1e+05  2e-17  3e-13\n",
      " 1: -3.4854e+03 -7.5157e+03  4e+03  1e-16  2e-13\n",
      " 2: -5.7152e+03 -6.7749e+03  1e+03  2e-16  4e-13\n",
      " 3: -5.9591e+03 -6.1094e+03  2e+02  2e-16  4e-13\n",
      " 4: -5.9982e+03 -6.0043e+03  6e+00  2e-16  4e-13\n",
      " 5: -6.0003e+03 -6.0004e+03  6e-02  2e-16  3e-13\n",
      " 6: -6.0003e+03 -6.0003e+03  6e-04  2e-16  3e-13\n",
      "Optimal solution found.\n",
      "\n",
      " Calculating prediction values\n"
     ]
    },
    {
     "data": {
      "application/vnd.jupyter.widget-view+json": {
       "model_id": "71dc57dab07e487fae6f9ce74d0a0cc0",
       "version_major": 2,
       "version_minor": 0
      },
      "text/plain": [
       "HBox(children=(IntProgress(value=0, max=33), HTML(value='')))"
      ]
     },
     "metadata": {},
     "output_type": "display_data"
    },
    {
     "name": "stdout",
     "output_type": "stream",
     "text": [
      "\n",
      "fold is 2\n",
      "\n",
      " Calculating fullXmatrix\n"
     ]
    },
    {
     "data": {
      "application/vnd.jupyter.widget-view+json": {
       "model_id": "f767fc87d119445bb8e65f41cb50064a",
       "version_major": 2,
       "version_minor": 0
      },
      "text/plain": [
       "HBox(children=(IntProgress(value=0, max=67), HTML(value='')))"
      ]
     },
     "metadata": {},
     "output_type": "display_data"
    },
    {
     "name": "stdout",
     "output_type": "stream",
     "text": [
      "\n",
      "     pcost       dcost       gap    pres   dres\n",
      " 0: -3.2224e+03 -1.1700e+05  1e+05  2e-17  3e-13\n",
      " 1: -3.4248e+03 -7.6731e+03  4e+03  1e-16  2e-13\n",
      " 2: -5.3072e+03 -6.5645e+03  1e+03  2e-16  3e-13\n",
      " 3: -5.5876e+03 -6.0397e+03  5e+02  2e-16  3e-13\n",
      " 4: -5.7199e+03 -5.8400e+03  1e+02  2e-16  4e-13\n",
      " 5: -5.7638e+03 -5.7835e+03  2e+01  2e-16  3e-13\n",
      " 6: -5.7667e+03 -5.7794e+03  1e+01  2e-16  4e-13\n",
      " 7: -5.7711e+03 -5.7744e+03  3e+00  2e-16  3e-13\n",
      " 8: -5.7724e+03 -5.7729e+03  5e-01  2e-16  3e-13\n",
      " 9: -5.7726e+03 -5.7727e+03  4e-02  2e-16  3e-13\n",
      "10: -5.7727e+03 -5.7727e+03  4e-04  2e-16  3e-13\n",
      "Optimal solution found.\n",
      "\n",
      " Calculating prediction values\n"
     ]
    },
    {
     "data": {
      "application/vnd.jupyter.widget-view+json": {
       "model_id": "8c707b53ecdc4ee483995959ce2c3ab9",
       "version_major": 2,
       "version_minor": 0
      },
      "text/plain": [
       "HBox(children=(IntProgress(value=0, max=33), HTML(value='')))"
      ]
     },
     "metadata": {},
     "output_type": "display_data"
    },
    {
     "name": "stdout",
     "output_type": "stream",
     "text": [
      "\n",
      "fold is 0\n",
      "\n",
      " Calculating fullXmatrix\n"
     ]
    },
    {
     "data": {
      "application/vnd.jupyter.widget-view+json": {
       "model_id": "c519c0a237284ddf816cdef6ce379c29",
       "version_major": 2,
       "version_minor": 0
      },
      "text/plain": [
       "HBox(children=(IntProgress(value=0, max=66), HTML(value='')))"
      ]
     },
     "metadata": {},
     "output_type": "display_data"
    },
    {
     "name": "stdout",
     "output_type": "stream",
     "text": [
      "\n",
      "     pcost       dcost       gap    pres   dres\n",
      " 0: -3.2629e+03 -7.3095e+04  7e+04  0e+00  3e-13\n",
      " 1: -3.5403e+03 -7.1145e+03  4e+03  1e-16  2e-13\n",
      " 2: -5.3599e+03 -6.4221e+03  1e+03  1e-16  3e-13\n",
      " 3: -5.6073e+03 -6.0980e+03  5e+02  2e-16  3e-13\n",
      " 4: -5.7195e+03 -5.9395e+03  2e+02  2e-16  3e-13\n",
      " 5: -5.7784e+03 -5.8642e+03  9e+01  2e-16  3e-13\n",
      " 6: -5.8068e+03 -5.8288e+03  2e+01  2e-16  3e-13\n",
      " 7: -5.8141e+03 -5.8198e+03  6e+00  2e-16  3e-13\n",
      " 8: -5.8166e+03 -5.8168e+03  2e-01  2e-16  4e-13\n",
      " 9: -5.8167e+03 -5.8167e+03  2e-03  2e-16  4e-13\n",
      "Optimal solution found.\n",
      "\n",
      " Calculating prediction values\n"
     ]
    },
    {
     "data": {
      "application/vnd.jupyter.widget-view+json": {
       "model_id": "e468283e94c94a778ebfc001008933a5",
       "version_major": 2,
       "version_minor": 0
      },
      "text/plain": [
       "HBox(children=(IntProgress(value=0, max=34), HTML(value='')))"
      ]
     },
     "metadata": {},
     "output_type": "display_data"
    },
    {
     "name": "stdout",
     "output_type": "stream",
     "text": [
      "\n",
      "fold is 1\n",
      "\n",
      " Calculating fullXmatrix\n"
     ]
    },
    {
     "data": {
      "application/vnd.jupyter.widget-view+json": {
       "model_id": "7062df62a5304736a3f9f337ff01cb57",
       "version_major": 2,
       "version_minor": 0
      },
      "text/plain": [
       "HBox(children=(IntProgress(value=0, max=67), HTML(value='')))"
      ]
     },
     "metadata": {},
     "output_type": "display_data"
    },
    {
     "name": "stdout",
     "output_type": "stream",
     "text": [
      "\n",
      "     pcost       dcost       gap    pres   dres\n",
      " 0: -3.2810e+03 -1.0932e+05  1e+05  2e-17  3e-13\n",
      " 1: -3.4854e+03 -7.5157e+03  4e+03  1e-16  2e-13\n",
      " 2: -5.7152e+03 -6.7749e+03  1e+03  2e-16  4e-13\n",
      " 3: -5.9591e+03 -6.1094e+03  2e+02  2e-16  4e-13\n",
      " 4: -5.9982e+03 -6.0043e+03  6e+00  2e-16  4e-13\n",
      " 5: -6.0003e+03 -6.0004e+03  6e-02  2e-16  3e-13\n",
      " 6: -6.0003e+03 -6.0003e+03  6e-04  2e-16  3e-13\n",
      "Optimal solution found.\n",
      "\n",
      " Calculating prediction values\n"
     ]
    },
    {
     "data": {
      "application/vnd.jupyter.widget-view+json": {
       "model_id": "64f5f3c6daa2471ba913b1e254e5f4ce",
       "version_major": 2,
       "version_minor": 0
      },
      "text/plain": [
       "HBox(children=(IntProgress(value=0, max=33), HTML(value='')))"
      ]
     },
     "metadata": {},
     "output_type": "display_data"
    },
    {
     "name": "stdout",
     "output_type": "stream",
     "text": [
      "\n",
      "fold is 2\n",
      "\n",
      " Calculating fullXmatrix\n"
     ]
    },
    {
     "data": {
      "application/vnd.jupyter.widget-view+json": {
       "model_id": "d23006ac75fc4ce690b16d04e2a58ea1",
       "version_major": 2,
       "version_minor": 0
      },
      "text/plain": [
       "HBox(children=(IntProgress(value=0, max=67), HTML(value='')))"
      ]
     },
     "metadata": {},
     "output_type": "display_data"
    },
    {
     "name": "stdout",
     "output_type": "stream",
     "text": [
      "\n",
      "     pcost       dcost       gap    pres   dres\n",
      " 0: -3.2224e+03 -1.1700e+05  1e+05  2e-17  3e-13\n",
      " 1: -3.4248e+03 -7.6731e+03  4e+03  1e-16  2e-13\n",
      " 2: -5.3072e+03 -6.5645e+03  1e+03  2e-16  3e-13\n",
      " 3: -5.5876e+03 -6.0397e+03  5e+02  2e-16  3e-13\n",
      " 4: -5.7199e+03 -5.8400e+03  1e+02  2e-16  4e-13\n",
      " 5: -5.7638e+03 -5.7835e+03  2e+01  2e-16  3e-13\n",
      " 6: -5.7667e+03 -5.7794e+03  1e+01  2e-16  4e-13\n",
      " 7: -5.7711e+03 -5.7744e+03  3e+00  2e-16  3e-13\n",
      " 8: -5.7724e+03 -5.7729e+03  5e-01  2e-16  3e-13\n",
      " 9: -5.7726e+03 -5.7727e+03  4e-02  2e-16  3e-13\n",
      "10: -5.7727e+03 -5.7727e+03  4e-04  2e-16  3e-13\n",
      "Optimal solution found.\n",
      "\n",
      " Calculating prediction values\n"
     ]
    },
    {
     "data": {
      "application/vnd.jupyter.widget-view+json": {
       "model_id": "86b6cba309724b39ab06d26ee80ca4d3",
       "version_major": 2,
       "version_minor": 0
      },
      "text/plain": [
       "HBox(children=(IntProgress(value=0, max=33), HTML(value='')))"
      ]
     },
     "metadata": {},
     "output_type": "display_data"
    },
    {
     "name": "stdout",
     "output_type": "stream",
     "text": [
      "\n",
      "fold is 0\n",
      "\n",
      " Calculating fullXmatrix\n"
     ]
    },
    {
     "data": {
      "application/vnd.jupyter.widget-view+json": {
       "model_id": "5bfca66a05dd45b2adec5eb698f8c37c",
       "version_major": 2,
       "version_minor": 0
      },
      "text/plain": [
       "HBox(children=(IntProgress(value=0, max=66), HTML(value='')))"
      ]
     },
     "metadata": {},
     "output_type": "display_data"
    },
    {
     "name": "stdout",
     "output_type": "stream",
     "text": [
      "\n",
      "     pcost       dcost       gap    pres   dres\n",
      " 0: -3.2629e+03 -7.3095e+04  7e+04  0e+00  3e-13\n",
      " 1: -3.5403e+03 -7.1145e+03  4e+03  1e-16  2e-13\n",
      " 2: -5.3599e+03 -6.4221e+03  1e+03  1e-16  3e-13\n",
      " 3: -5.6073e+03 -6.0980e+03  5e+02  2e-16  3e-13\n",
      " 4: -5.7195e+03 -5.9395e+03  2e+02  2e-16  3e-13\n",
      " 5: -5.7784e+03 -5.8642e+03  9e+01  2e-16  3e-13\n",
      " 6: -5.8068e+03 -5.8288e+03  2e+01  2e-16  3e-13\n",
      " 7: -5.8141e+03 -5.8198e+03  6e+00  2e-16  3e-13\n",
      " 8: -5.8166e+03 -5.8168e+03  2e-01  2e-16  4e-13\n",
      " 9: -5.8167e+03 -5.8167e+03  2e-03  2e-16  4e-13\n",
      "Optimal solution found.\n",
      "\n",
      " Calculating prediction values\n"
     ]
    },
    {
     "data": {
      "application/vnd.jupyter.widget-view+json": {
       "model_id": "e77b08a912d44c8c9accc9dc48910914",
       "version_major": 2,
       "version_minor": 0
      },
      "text/plain": [
       "HBox(children=(IntProgress(value=0, max=34), HTML(value='')))"
      ]
     },
     "metadata": {},
     "output_type": "display_data"
    },
    {
     "name": "stdout",
     "output_type": "stream",
     "text": [
      "\n",
      "fold is 1\n",
      "\n",
      " Calculating fullXmatrix\n"
     ]
    },
    {
     "data": {
      "application/vnd.jupyter.widget-view+json": {
       "model_id": "fa8dcf12cba74c3baf01c1deee90548c",
       "version_major": 2,
       "version_minor": 0
      },
      "text/plain": [
       "HBox(children=(IntProgress(value=0, max=67), HTML(value='')))"
      ]
     },
     "metadata": {},
     "output_type": "display_data"
    },
    {
     "name": "stdout",
     "output_type": "stream",
     "text": [
      "\n",
      "     pcost       dcost       gap    pres   dres\n",
      " 0: -3.2810e+03 -1.0932e+05  1e+05  2e-17  3e-13\n",
      " 1: -3.4854e+03 -7.5157e+03  4e+03  1e-16  2e-13\n",
      " 2: -5.7152e+03 -6.7749e+03  1e+03  2e-16  4e-13\n",
      " 3: -5.9591e+03 -6.1094e+03  2e+02  2e-16  4e-13\n",
      " 4: -5.9982e+03 -6.0043e+03  6e+00  2e-16  4e-13\n",
      " 5: -6.0003e+03 -6.0004e+03  6e-02  2e-16  3e-13\n",
      " 6: -6.0003e+03 -6.0003e+03  6e-04  2e-16  3e-13\n",
      "Optimal solution found.\n",
      "\n",
      " Calculating prediction values\n"
     ]
    },
    {
     "data": {
      "application/vnd.jupyter.widget-view+json": {
       "model_id": "e559ada7adfb4cae914fc5891196f652",
       "version_major": 2,
       "version_minor": 0
      },
      "text/plain": [
       "HBox(children=(IntProgress(value=0, max=33), HTML(value='')))"
      ]
     },
     "metadata": {},
     "output_type": "display_data"
    },
    {
     "name": "stdout",
     "output_type": "stream",
     "text": [
      "\n",
      "fold is 2\n",
      "\n",
      " Calculating fullXmatrix\n"
     ]
    },
    {
     "data": {
      "application/vnd.jupyter.widget-view+json": {
       "model_id": "e8d46d222d2c43c291a1f88b417616d2",
       "version_major": 2,
       "version_minor": 0
      },
      "text/plain": [
       "HBox(children=(IntProgress(value=0, max=67), HTML(value='')))"
      ]
     },
     "metadata": {},
     "output_type": "display_data"
    },
    {
     "name": "stdout",
     "output_type": "stream",
     "text": [
      "\n",
      "     pcost       dcost       gap    pres   dres\n",
      " 0: -3.2224e+03 -1.1700e+05  1e+05  2e-17  3e-13\n",
      " 1: -3.4248e+03 -7.6731e+03  4e+03  1e-16  2e-13\n",
      " 2: -5.3072e+03 -6.5645e+03  1e+03  2e-16  3e-13\n",
      " 3: -5.5876e+03 -6.0397e+03  5e+02  2e-16  3e-13\n",
      " 4: -5.7199e+03 -5.8400e+03  1e+02  2e-16  4e-13\n",
      " 5: -5.7638e+03 -5.7835e+03  2e+01  2e-16  3e-13\n",
      " 6: -5.7667e+03 -5.7794e+03  1e+01  2e-16  4e-13\n",
      " 7: -5.7711e+03 -5.7744e+03  3e+00  2e-16  3e-13\n",
      " 8: -5.7724e+03 -5.7729e+03  5e-01  2e-16  3e-13\n",
      " 9: -5.7726e+03 -5.7727e+03  4e-02  2e-16  3e-13\n",
      "10: -5.7727e+03 -5.7727e+03  4e-04  2e-16  3e-13\n",
      "Optimal solution found.\n",
      "\n",
      " Calculating prediction values\n"
     ]
    },
    {
     "data": {
      "application/vnd.jupyter.widget-view+json": {
       "model_id": "d37235ddec764ca9b5da7d70e830f315",
       "version_major": 2,
       "version_minor": 0
      },
      "text/plain": [
       "HBox(children=(IntProgress(value=0, max=33), HTML(value='')))"
      ]
     },
     "metadata": {},
     "output_type": "display_data"
    },
    {
     "name": "stdout",
     "output_type": "stream",
     "text": [
      "\n",
      "fold is 0\n",
      "\n",
      " Calculating fullXmatrix\n"
     ]
    },
    {
     "data": {
      "application/vnd.jupyter.widget-view+json": {
       "model_id": "fd19ffd7bd9a4ab6bd26a99b7a9f82a8",
       "version_major": 2,
       "version_minor": 0
      },
      "text/plain": [
       "HBox(children=(IntProgress(value=0, max=66), HTML(value='')))"
      ]
     },
     "metadata": {},
     "output_type": "display_data"
    },
    {
     "name": "stdout",
     "output_type": "stream",
     "text": [
      "\n",
      "     pcost       dcost       gap    pres   dres\n",
      " 0: -3.2629e+03 -7.3095e+04  7e+04  0e+00  3e-13\n",
      " 1: -3.5403e+03 -7.1145e+03  4e+03  1e-16  2e-13\n",
      " 2: -5.3599e+03 -6.4221e+03  1e+03  1e-16  3e-13\n",
      " 3: -5.6073e+03 -6.0980e+03  5e+02  2e-16  3e-13\n",
      " 4: -5.7195e+03 -5.9395e+03  2e+02  2e-16  3e-13\n",
      " 5: -5.7784e+03 -5.8642e+03  9e+01  2e-16  3e-13\n",
      " 6: -5.8068e+03 -5.8288e+03  2e+01  2e-16  3e-13\n",
      " 7: -5.8141e+03 -5.8198e+03  6e+00  2e-16  3e-13\n",
      " 8: -5.8166e+03 -5.8168e+03  2e-01  2e-16  4e-13\n",
      " 9: -5.8167e+03 -5.8167e+03  2e-03  2e-16  4e-13\n",
      "Optimal solution found.\n",
      "\n",
      " Calculating prediction values\n"
     ]
    },
    {
     "data": {
      "application/vnd.jupyter.widget-view+json": {
       "model_id": "4a683df51a5347dc95c2a2db94aa9c43",
       "version_major": 2,
       "version_minor": 0
      },
      "text/plain": [
       "HBox(children=(IntProgress(value=0, max=34), HTML(value='')))"
      ]
     },
     "metadata": {},
     "output_type": "display_data"
    },
    {
     "name": "stdout",
     "output_type": "stream",
     "text": [
      "\n",
      "fold is 1\n",
      "\n",
      " Calculating fullXmatrix\n"
     ]
    },
    {
     "data": {
      "application/vnd.jupyter.widget-view+json": {
       "model_id": "082b37027b034801aab3fed25f467d49",
       "version_major": 2,
       "version_minor": 0
      },
      "text/plain": [
       "HBox(children=(IntProgress(value=0, max=67), HTML(value='')))"
      ]
     },
     "metadata": {},
     "output_type": "display_data"
    },
    {
     "name": "stdout",
     "output_type": "stream",
     "text": [
      "\n",
      "     pcost       dcost       gap    pres   dres\n",
      " 0: -3.2810e+03 -1.0932e+05  1e+05  2e-17  3e-13\n",
      " 1: -3.4854e+03 -7.5157e+03  4e+03  1e-16  2e-13\n",
      " 2: -5.7152e+03 -6.7749e+03  1e+03  2e-16  4e-13\n",
      " 3: -5.9591e+03 -6.1094e+03  2e+02  2e-16  4e-13\n",
      " 4: -5.9982e+03 -6.0043e+03  6e+00  2e-16  4e-13\n",
      " 5: -6.0003e+03 -6.0004e+03  6e-02  2e-16  3e-13\n",
      " 6: -6.0003e+03 -6.0003e+03  6e-04  2e-16  3e-13\n",
      "Optimal solution found.\n",
      "\n",
      " Calculating prediction values\n"
     ]
    },
    {
     "data": {
      "application/vnd.jupyter.widget-view+json": {
       "model_id": "df92434c3f1b49128721cb1ab5e6e92e",
       "version_major": 2,
       "version_minor": 0
      },
      "text/plain": [
       "HBox(children=(IntProgress(value=0, max=33), HTML(value='')))"
      ]
     },
     "metadata": {},
     "output_type": "display_data"
    },
    {
     "name": "stdout",
     "output_type": "stream",
     "text": [
      "\n",
      "fold is 2\n",
      "\n",
      " Calculating fullXmatrix\n"
     ]
    },
    {
     "data": {
      "application/vnd.jupyter.widget-view+json": {
       "model_id": "84205e00b29c4853bc5c68830e37c80d",
       "version_major": 2,
       "version_minor": 0
      },
      "text/plain": [
       "HBox(children=(IntProgress(value=0, max=67), HTML(value='')))"
      ]
     },
     "metadata": {},
     "output_type": "display_data"
    },
    {
     "name": "stdout",
     "output_type": "stream",
     "text": [
      "\n",
      "     pcost       dcost       gap    pres   dres\n",
      " 0: -3.2224e+03 -1.1700e+05  1e+05  2e-17  3e-13\n",
      " 1: -3.4248e+03 -7.6731e+03  4e+03  1e-16  2e-13\n",
      " 2: -5.3072e+03 -6.5645e+03  1e+03  2e-16  3e-13\n",
      " 3: -5.5876e+03 -6.0397e+03  5e+02  2e-16  3e-13\n",
      " 4: -5.7199e+03 -5.8400e+03  1e+02  2e-16  4e-13\n",
      " 5: -5.7638e+03 -5.7835e+03  2e+01  2e-16  3e-13\n",
      " 6: -5.7667e+03 -5.7794e+03  1e+01  2e-16  4e-13\n",
      " 7: -5.7711e+03 -5.7744e+03  3e+00  2e-16  3e-13\n",
      " 8: -5.7724e+03 -5.7729e+03  5e-01  2e-16  3e-13\n",
      " 9: -5.7726e+03 -5.7727e+03  4e-02  2e-16  3e-13\n",
      "10: -5.7727e+03 -5.7727e+03  4e-04  2e-16  3e-13\n",
      "Optimal solution found.\n",
      "\n",
      " Calculating prediction values\n"
     ]
    },
    {
     "data": {
      "application/vnd.jupyter.widget-view+json": {
       "model_id": "e308877c197d4fe68c44a6216530fc3b",
       "version_major": 2,
       "version_minor": 0
      },
      "text/plain": [
       "HBox(children=(IntProgress(value=0, max=33), HTML(value='')))"
      ]
     },
     "metadata": {},
     "output_type": "display_data"
    },
    {
     "name": "stdout",
     "output_type": "stream",
     "text": [
      "\n",
      "fold is 0\n",
      "\n",
      " Calculating fullXmatrix\n"
     ]
    },
    {
     "data": {
      "application/vnd.jupyter.widget-view+json": {
       "model_id": "102104a11a0448b8bf37167090a75906",
       "version_major": 2,
       "version_minor": 0
      },
      "text/plain": [
       "HBox(children=(IntProgress(value=0, max=66), HTML(value='')))"
      ]
     },
     "metadata": {},
     "output_type": "display_data"
    },
    {
     "name": "stdout",
     "output_type": "stream",
     "text": [
      "\n",
      "     pcost       dcost       gap    pres   dres\n",
      " 0: -6.4046e+03 -2.6363e+05  3e+05  0e+00  5e-13\n",
      " 1: -6.7929e+03 -1.5406e+04  9e+03  1e-16  4e-13\n",
      " 2: -1.0762e+04 -1.3000e+04  2e+03  2e-16  6e-13\n",
      " 3: -1.1231e+04 -1.2247e+04  1e+03  2e-16  6e-13\n",
      " 4: -1.1442e+04 -1.1904e+04  5e+02  2e-16  6e-13\n",
      " 5: -1.1558e+04 -1.1735e+04  2e+02  2e-16  7e-13\n",
      " 6: -1.1614e+04 -1.1657e+04  4e+01  2e-16  6e-13\n",
      " 7: -1.1627e+04 -1.1640e+04  1e+01  2e-16  7e-13\n",
      " 8: -1.1633e+04 -1.1633e+04  7e-01  2e-16  7e-13\n",
      " 9: -1.1633e+04 -1.1633e+04  7e-03  2e-16  6e-13\n",
      "Optimal solution found.\n",
      "\n",
      " Calculating prediction values\n"
     ]
    },
    {
     "data": {
      "application/vnd.jupyter.widget-view+json": {
       "model_id": "d7145e8bb86142bbafca4e567d4d4dfe",
       "version_major": 2,
       "version_minor": 0
      },
      "text/plain": [
       "HBox(children=(IntProgress(value=0, max=34), HTML(value='')))"
      ]
     },
     "metadata": {},
     "output_type": "display_data"
    },
    {
     "name": "stdout",
     "output_type": "stream",
     "text": [
      "\n",
      "fold is 1\n",
      "\n",
      " Calculating fullXmatrix\n"
     ]
    },
    {
     "data": {
      "application/vnd.jupyter.widget-view+json": {
       "model_id": "ae14293d7a1b497ab721ac2069279727",
       "version_major": 2,
       "version_minor": 0
      },
      "text/plain": [
       "HBox(children=(IntProgress(value=0, max=67), HTML(value='')))"
      ]
     },
     "metadata": {},
     "output_type": "display_data"
    },
    {
     "name": "stdout",
     "output_type": "stream",
     "text": [
      "\n",
      "     pcost       dcost       gap    pres   dres\n",
      " 0: -6.4433e+03 -4.1984e+05  4e+05  1e-17  5e-13\n",
      " 1: -6.7363e+03 -1.7035e+04  1e+04  1e-16  4e-13\n",
      " 2: -1.1512e+04 -1.3248e+04  2e+03  2e-16  7e-13\n",
      " 3: -1.1916e+04 -1.2195e+04  3e+02  2e-16  7e-13\n",
      " 4: -1.1996e+04 -1.2008e+04  1e+01  2e-16  7e-13\n",
      " 5: -1.2000e+04 -1.2000e+04  1e-01  2e-16  7e-13\n",
      " 6: -1.2000e+04 -1.2000e+04  1e-03  2e-16  7e-13\n",
      "Optimal solution found.\n",
      "\n",
      " Calculating prediction values\n"
     ]
    },
    {
     "data": {
      "application/vnd.jupyter.widget-view+json": {
       "model_id": "59bb0e43c6004fc39e8e702b12fcd10d",
       "version_major": 2,
       "version_minor": 0
      },
      "text/plain": [
       "HBox(children=(IntProgress(value=0, max=33), HTML(value='')))"
      ]
     },
     "metadata": {},
     "output_type": "display_data"
    },
    {
     "name": "stdout",
     "output_type": "stream",
     "text": [
      "\n",
      "fold is 2\n",
      "\n",
      " Calculating fullXmatrix\n"
     ]
    },
    {
     "data": {
      "application/vnd.jupyter.widget-view+json": {
       "model_id": "f3101a5b0edd464ebd6e5b51c6ac54e9",
       "version_major": 2,
       "version_minor": 0
      },
      "text/plain": [
       "HBox(children=(IntProgress(value=0, max=67), HTML(value='')))"
      ]
     },
     "metadata": {},
     "output_type": "display_data"
    },
    {
     "name": "stdout",
     "output_type": "stream",
     "text": [
      "\n",
      "     pcost       dcost       gap    pres   dres\n",
      " 0: -6.2845e+03 -4.5028e+05  4e+05  1e-17  5e-13\n",
      " 1: -6.6376e+03 -1.7532e+04  1e+04  1e-16  3e-13\n",
      " 2: -1.0655e+04 -1.2742e+04  2e+03  2e-16  6e-13\n",
      " 3: -1.1139e+04 -1.2052e+04  9e+02  2e-16  6e-13\n",
      " 4: -1.1423e+04 -1.1680e+04  3e+02  2e-16  7e-13\n",
      " 5: -1.1516e+04 -1.1577e+04  6e+01  2e-16  7e-13\n",
      " 6: -1.1533e+04 -1.1558e+04  2e+01  2e-16  5e-13\n",
      " 7: -1.1542e+04 -1.1548e+04  6e+00  2e-16  6e-13\n",
      " 8: -1.1544e+04 -1.1546e+04  1e+00  2e-16  7e-13\n",
      " 9: -1.1545e+04 -1.1545e+04  9e-02  2e-16  7e-13\n",
      "10: -1.1545e+04 -1.1545e+04  9e-04  2e-16  7e-13\n",
      "Optimal solution found.\n",
      "\n",
      " Calculating prediction values\n"
     ]
    },
    {
     "data": {
      "application/vnd.jupyter.widget-view+json": {
       "model_id": "60f5178436ef41e58e7955aa8a35a30f",
       "version_major": 2,
       "version_minor": 0
      },
      "text/plain": [
       "HBox(children=(IntProgress(value=0, max=33), HTML(value='')))"
      ]
     },
     "metadata": {},
     "output_type": "display_data"
    },
    {
     "name": "stdout",
     "output_type": "stream",
     "text": [
      "\n",
      "fold is 0\n",
      "\n",
      " Calculating fullXmatrix\n"
     ]
    },
    {
     "data": {
      "application/vnd.jupyter.widget-view+json": {
       "model_id": "6898ff89636549fe9bf069145a33e8b8",
       "version_major": 2,
       "version_minor": 0
      },
      "text/plain": [
       "HBox(children=(IntProgress(value=0, max=66), HTML(value='')))"
      ]
     },
     "metadata": {},
     "output_type": "display_data"
    },
    {
     "name": "stdout",
     "output_type": "stream",
     "text": [
      "\n",
      "     pcost       dcost       gap    pres   dres\n",
      " 0: -6.4046e+03 -2.6363e+05  3e+05  0e+00  5e-13\n",
      " 1: -6.7929e+03 -1.5406e+04  9e+03  1e-16  4e-13\n",
      " 2: -1.0762e+04 -1.3000e+04  2e+03  2e-16  6e-13\n",
      " 3: -1.1231e+04 -1.2247e+04  1e+03  2e-16  6e-13\n",
      " 4: -1.1442e+04 -1.1904e+04  5e+02  2e-16  6e-13\n",
      " 5: -1.1558e+04 -1.1735e+04  2e+02  2e-16  7e-13\n",
      " 6: -1.1614e+04 -1.1657e+04  4e+01  2e-16  6e-13\n",
      " 7: -1.1627e+04 -1.1640e+04  1e+01  2e-16  7e-13\n",
      " 8: -1.1633e+04 -1.1633e+04  7e-01  2e-16  7e-13\n",
      " 9: -1.1633e+04 -1.1633e+04  7e-03  2e-16  6e-13\n",
      "Optimal solution found.\n",
      "\n",
      " Calculating prediction values\n"
     ]
    },
    {
     "data": {
      "application/vnd.jupyter.widget-view+json": {
       "model_id": "d340bce2d79346898adaa05b5e145958",
       "version_major": 2,
       "version_minor": 0
      },
      "text/plain": [
       "HBox(children=(IntProgress(value=0, max=34), HTML(value='')))"
      ]
     },
     "metadata": {},
     "output_type": "display_data"
    },
    {
     "name": "stdout",
     "output_type": "stream",
     "text": [
      "\n",
      "fold is 1\n",
      "\n",
      " Calculating fullXmatrix\n"
     ]
    },
    {
     "data": {
      "application/vnd.jupyter.widget-view+json": {
       "model_id": "1e4402be279048ec83a6c6dd9373c76e",
       "version_major": 2,
       "version_minor": 0
      },
      "text/plain": [
       "HBox(children=(IntProgress(value=0, max=67), HTML(value='')))"
      ]
     },
     "metadata": {},
     "output_type": "display_data"
    },
    {
     "name": "stdout",
     "output_type": "stream",
     "text": [
      "\n",
      "     pcost       dcost       gap    pres   dres\n",
      " 0: -6.4433e+03 -4.1984e+05  4e+05  1e-17  5e-13\n",
      " 1: -6.7363e+03 -1.7035e+04  1e+04  1e-16  4e-13\n",
      " 2: -1.1512e+04 -1.3248e+04  2e+03  2e-16  7e-13\n",
      " 3: -1.1916e+04 -1.2195e+04  3e+02  2e-16  7e-13\n",
      " 4: -1.1996e+04 -1.2008e+04  1e+01  2e-16  7e-13\n",
      " 5: -1.2000e+04 -1.2000e+04  1e-01  2e-16  7e-13\n",
      " 6: -1.2000e+04 -1.2000e+04  1e-03  2e-16  7e-13\n",
      "Optimal solution found.\n",
      "\n",
      " Calculating prediction values\n"
     ]
    },
    {
     "data": {
      "application/vnd.jupyter.widget-view+json": {
       "model_id": "ed7306e3a5164ca2a850feba094d64f6",
       "version_major": 2,
       "version_minor": 0
      },
      "text/plain": [
       "HBox(children=(IntProgress(value=0, max=33), HTML(value='')))"
      ]
     },
     "metadata": {},
     "output_type": "display_data"
    },
    {
     "name": "stdout",
     "output_type": "stream",
     "text": [
      "\n",
      "fold is 2\n",
      "\n",
      " Calculating fullXmatrix\n"
     ]
    },
    {
     "data": {
      "application/vnd.jupyter.widget-view+json": {
       "model_id": "248703cac228450887974e84f21ef702",
       "version_major": 2,
       "version_minor": 0
      },
      "text/plain": [
       "HBox(children=(IntProgress(value=0, max=67), HTML(value='')))"
      ]
     },
     "metadata": {},
     "output_type": "display_data"
    },
    {
     "name": "stdout",
     "output_type": "stream",
     "text": [
      "\n",
      "     pcost       dcost       gap    pres   dres\n",
      " 0: -6.2845e+03 -4.5028e+05  4e+05  1e-17  5e-13\n",
      " 1: -6.6376e+03 -1.7532e+04  1e+04  1e-16  3e-13\n",
      " 2: -1.0655e+04 -1.2742e+04  2e+03  2e-16  6e-13\n",
      " 3: -1.1139e+04 -1.2052e+04  9e+02  2e-16  6e-13\n",
      " 4: -1.1423e+04 -1.1680e+04  3e+02  2e-16  7e-13\n",
      " 5: -1.1516e+04 -1.1577e+04  6e+01  2e-16  7e-13\n",
      " 6: -1.1533e+04 -1.1558e+04  2e+01  2e-16  5e-13\n",
      " 7: -1.1542e+04 -1.1548e+04  6e+00  2e-16  6e-13\n",
      " 8: -1.1544e+04 -1.1546e+04  1e+00  2e-16  7e-13\n",
      " 9: -1.1545e+04 -1.1545e+04  9e-02  2e-16  7e-13\n",
      "10: -1.1545e+04 -1.1545e+04  9e-04  2e-16  7e-13\n",
      "Optimal solution found.\n",
      "\n",
      " Calculating prediction values\n"
     ]
    },
    {
     "data": {
      "application/vnd.jupyter.widget-view+json": {
       "model_id": "0036ba075e8745d28fb8d6da2bf62be3",
       "version_major": 2,
       "version_minor": 0
      },
      "text/plain": [
       "HBox(children=(IntProgress(value=0, max=33), HTML(value='')))"
      ]
     },
     "metadata": {},
     "output_type": "display_data"
    },
    {
     "name": "stdout",
     "output_type": "stream",
     "text": [
      "\n",
      "fold is 0\n",
      "\n",
      " Calculating fullXmatrix\n"
     ]
    },
    {
     "data": {
      "application/vnd.jupyter.widget-view+json": {
       "model_id": "63cd0437560f4d28bb37ef011a939e3b",
       "version_major": 2,
       "version_minor": 0
      },
      "text/plain": [
       "HBox(children=(IntProgress(value=0, max=66), HTML(value='')))"
      ]
     },
     "metadata": {},
     "output_type": "display_data"
    },
    {
     "name": "stdout",
     "output_type": "stream",
     "text": [
      "\n",
      "     pcost       dcost       gap    pres   dres\n",
      " 0: -6.4046e+03 -2.6363e+05  3e+05  0e+00  5e-13\n",
      " 1: -6.7929e+03 -1.5406e+04  9e+03  1e-16  4e-13\n",
      " 2: -1.0762e+04 -1.3000e+04  2e+03  2e-16  6e-13\n",
      " 3: -1.1231e+04 -1.2247e+04  1e+03  2e-16  6e-13\n",
      " 4: -1.1442e+04 -1.1904e+04  5e+02  2e-16  6e-13\n",
      " 5: -1.1558e+04 -1.1735e+04  2e+02  2e-16  7e-13\n",
      " 6: -1.1614e+04 -1.1657e+04  4e+01  2e-16  6e-13\n",
      " 7: -1.1627e+04 -1.1640e+04  1e+01  2e-16  7e-13\n",
      " 8: -1.1633e+04 -1.1633e+04  7e-01  2e-16  7e-13\n",
      " 9: -1.1633e+04 -1.1633e+04  7e-03  2e-16  6e-13\n",
      "Optimal solution found.\n",
      "\n",
      " Calculating prediction values\n"
     ]
    },
    {
     "data": {
      "application/vnd.jupyter.widget-view+json": {
       "model_id": "7ff47feb1517463984ba730912b448a9",
       "version_major": 2,
       "version_minor": 0
      },
      "text/plain": [
       "HBox(children=(IntProgress(value=0, max=34), HTML(value='')))"
      ]
     },
     "metadata": {},
     "output_type": "display_data"
    },
    {
     "name": "stdout",
     "output_type": "stream",
     "text": [
      "\n",
      "fold is 1\n",
      "\n",
      " Calculating fullXmatrix\n"
     ]
    },
    {
     "data": {
      "application/vnd.jupyter.widget-view+json": {
       "model_id": "7c0f1e3610cb4d82953ae24773af7e77",
       "version_major": 2,
       "version_minor": 0
      },
      "text/plain": [
       "HBox(children=(IntProgress(value=0, max=67), HTML(value='')))"
      ]
     },
     "metadata": {},
     "output_type": "display_data"
    },
    {
     "name": "stdout",
     "output_type": "stream",
     "text": [
      "\n",
      "     pcost       dcost       gap    pres   dres\n",
      " 0: -6.4433e+03 -4.1984e+05  4e+05  1e-17  5e-13\n",
      " 1: -6.7363e+03 -1.7035e+04  1e+04  1e-16  4e-13\n",
      " 2: -1.1512e+04 -1.3248e+04  2e+03  2e-16  7e-13\n",
      " 3: -1.1916e+04 -1.2195e+04  3e+02  2e-16  7e-13\n",
      " 4: -1.1996e+04 -1.2008e+04  1e+01  2e-16  7e-13\n",
      " 5: -1.2000e+04 -1.2000e+04  1e-01  2e-16  7e-13\n",
      " 6: -1.2000e+04 -1.2000e+04  1e-03  2e-16  7e-13\n",
      "Optimal solution found.\n",
      "\n",
      " Calculating prediction values\n"
     ]
    },
    {
     "data": {
      "application/vnd.jupyter.widget-view+json": {
       "model_id": "e245e6073699497e9ece6f3b5bfa77d5",
       "version_major": 2,
       "version_minor": 0
      },
      "text/plain": [
       "HBox(children=(IntProgress(value=0, max=33), HTML(value='')))"
      ]
     },
     "metadata": {},
     "output_type": "display_data"
    },
    {
     "name": "stdout",
     "output_type": "stream",
     "text": [
      "\n",
      "fold is 2\n",
      "\n",
      " Calculating fullXmatrix\n"
     ]
    },
    {
     "data": {
      "application/vnd.jupyter.widget-view+json": {
       "model_id": "b9c69b9b48a545338a26940d6c77beff",
       "version_major": 2,
       "version_minor": 0
      },
      "text/plain": [
       "HBox(children=(IntProgress(value=0, max=67), HTML(value='')))"
      ]
     },
     "metadata": {},
     "output_type": "display_data"
    },
    {
     "name": "stdout",
     "output_type": "stream",
     "text": [
      "\n",
      "     pcost       dcost       gap    pres   dres\n",
      " 0: -6.2845e+03 -4.5028e+05  4e+05  1e-17  5e-13\n",
      " 1: -6.6376e+03 -1.7532e+04  1e+04  1e-16  3e-13\n",
      " 2: -1.0655e+04 -1.2742e+04  2e+03  2e-16  6e-13\n",
      " 3: -1.1139e+04 -1.2052e+04  9e+02  2e-16  6e-13\n",
      " 4: -1.1423e+04 -1.1680e+04  3e+02  2e-16  7e-13\n",
      " 5: -1.1516e+04 -1.1577e+04  6e+01  2e-16  7e-13\n",
      " 6: -1.1533e+04 -1.1558e+04  2e+01  2e-16  5e-13\n",
      " 7: -1.1542e+04 -1.1548e+04  6e+00  2e-16  6e-13\n",
      " 8: -1.1544e+04 -1.1546e+04  1e+00  2e-16  7e-13\n",
      " 9: -1.1545e+04 -1.1545e+04  9e-02  2e-16  7e-13\n",
      "10: -1.1545e+04 -1.1545e+04  9e-04  2e-16  7e-13\n",
      "Optimal solution found.\n",
      "\n",
      " Calculating prediction values\n"
     ]
    },
    {
     "data": {
      "application/vnd.jupyter.widget-view+json": {
       "model_id": "deff3e258b934f38a89a53656515ebe3",
       "version_major": 2,
       "version_minor": 0
      },
      "text/plain": [
       "HBox(children=(IntProgress(value=0, max=33), HTML(value='')))"
      ]
     },
     "metadata": {},
     "output_type": "display_data"
    },
    {
     "name": "stdout",
     "output_type": "stream",
     "text": [
      "\n",
      "fold is 0\n",
      "\n",
      " Calculating fullXmatrix\n"
     ]
    },
    {
     "data": {
      "application/vnd.jupyter.widget-view+json": {
       "model_id": "46b8e75b3ab84d3482e1507a1a139e4f",
       "version_major": 2,
       "version_minor": 0
      },
      "text/plain": [
       "HBox(children=(IntProgress(value=0, max=66), HTML(value='')))"
      ]
     },
     "metadata": {},
     "output_type": "display_data"
    },
    {
     "name": "stdout",
     "output_type": "stream",
     "text": [
      "\n",
      "     pcost       dcost       gap    pres   dres\n",
      " 0: -6.4046e+03 -2.6363e+05  3e+05  0e+00  5e-13\n",
      " 1: -6.7929e+03 -1.5406e+04  9e+03  1e-16  4e-13\n",
      " 2: -1.0762e+04 -1.3000e+04  2e+03  2e-16  6e-13\n",
      " 3: -1.1231e+04 -1.2247e+04  1e+03  2e-16  6e-13\n",
      " 4: -1.1442e+04 -1.1904e+04  5e+02  2e-16  6e-13\n",
      " 5: -1.1558e+04 -1.1735e+04  2e+02  2e-16  7e-13\n",
      " 6: -1.1614e+04 -1.1657e+04  4e+01  2e-16  6e-13\n",
      " 7: -1.1627e+04 -1.1640e+04  1e+01  2e-16  7e-13\n",
      " 8: -1.1633e+04 -1.1633e+04  7e-01  2e-16  7e-13\n",
      " 9: -1.1633e+04 -1.1633e+04  7e-03  2e-16  6e-13\n",
      "Optimal solution found.\n",
      "\n",
      " Calculating prediction values\n"
     ]
    },
    {
     "data": {
      "application/vnd.jupyter.widget-view+json": {
       "model_id": "226ff5214e11416a9de1603e749d360d",
       "version_major": 2,
       "version_minor": 0
      },
      "text/plain": [
       "HBox(children=(IntProgress(value=0, max=34), HTML(value='')))"
      ]
     },
     "metadata": {},
     "output_type": "display_data"
    },
    {
     "name": "stdout",
     "output_type": "stream",
     "text": [
      "\n",
      "fold is 1\n",
      "\n",
      " Calculating fullXmatrix\n"
     ]
    },
    {
     "data": {
      "application/vnd.jupyter.widget-view+json": {
       "model_id": "b2a39a6c5ecf46fab56fe896d636eb24",
       "version_major": 2,
       "version_minor": 0
      },
      "text/plain": [
       "HBox(children=(IntProgress(value=0, max=67), HTML(value='')))"
      ]
     },
     "metadata": {},
     "output_type": "display_data"
    },
    {
     "name": "stdout",
     "output_type": "stream",
     "text": [
      "\n",
      "     pcost       dcost       gap    pres   dres\n",
      " 0: -6.4433e+03 -4.1984e+05  4e+05  1e-17  5e-13\n",
      " 1: -6.7363e+03 -1.7035e+04  1e+04  1e-16  4e-13\n",
      " 2: -1.1512e+04 -1.3248e+04  2e+03  2e-16  7e-13\n",
      " 3: -1.1916e+04 -1.2195e+04  3e+02  2e-16  7e-13\n",
      " 4: -1.1996e+04 -1.2008e+04  1e+01  2e-16  7e-13\n",
      " 5: -1.2000e+04 -1.2000e+04  1e-01  2e-16  7e-13\n",
      " 6: -1.2000e+04 -1.2000e+04  1e-03  2e-16  7e-13\n",
      "Optimal solution found.\n",
      "\n",
      " Calculating prediction values\n"
     ]
    },
    {
     "data": {
      "application/vnd.jupyter.widget-view+json": {
       "model_id": "1ffbffa7ee00482c94c95f7501329103",
       "version_major": 2,
       "version_minor": 0
      },
      "text/plain": [
       "HBox(children=(IntProgress(value=0, max=33), HTML(value='')))"
      ]
     },
     "metadata": {},
     "output_type": "display_data"
    },
    {
     "name": "stdout",
     "output_type": "stream",
     "text": [
      "\n",
      "fold is 2\n",
      "\n",
      " Calculating fullXmatrix\n"
     ]
    },
    {
     "data": {
      "application/vnd.jupyter.widget-view+json": {
       "model_id": "7dbca348cd134ce3b5d13296adbb487a",
       "version_major": 2,
       "version_minor": 0
      },
      "text/plain": [
       "HBox(children=(IntProgress(value=0, max=67), HTML(value='')))"
      ]
     },
     "metadata": {},
     "output_type": "display_data"
    },
    {
     "name": "stdout",
     "output_type": "stream",
     "text": [
      "\n",
      "     pcost       dcost       gap    pres   dres\n",
      " 0: -6.2845e+03 -4.5028e+05  4e+05  1e-17  5e-13\n",
      " 1: -6.6376e+03 -1.7532e+04  1e+04  1e-16  3e-13\n",
      " 2: -1.0655e+04 -1.2742e+04  2e+03  2e-16  6e-13\n",
      " 3: -1.1139e+04 -1.2052e+04  9e+02  2e-16  6e-13\n",
      " 4: -1.1423e+04 -1.1680e+04  3e+02  2e-16  7e-13\n",
      " 5: -1.1516e+04 -1.1577e+04  6e+01  2e-16  7e-13\n",
      " 6: -1.1533e+04 -1.1558e+04  2e+01  2e-16  5e-13\n",
      " 7: -1.1542e+04 -1.1548e+04  6e+00  2e-16  6e-13\n",
      " 8: -1.1544e+04 -1.1546e+04  1e+00  2e-16  7e-13\n",
      " 9: -1.1545e+04 -1.1545e+04  9e-02  2e-16  7e-13\n",
      "10: -1.1545e+04 -1.1545e+04  9e-04  2e-16  7e-13\n",
      "Optimal solution found.\n",
      "\n",
      " Calculating prediction values\n"
     ]
    },
    {
     "data": {
      "application/vnd.jupyter.widget-view+json": {
       "model_id": "0b36abb2d18d4b40a33dc520600b9910",
       "version_major": 2,
       "version_minor": 0
      },
      "text/plain": [
       "HBox(children=(IntProgress(value=0, max=33), HTML(value='')))"
      ]
     },
     "metadata": {},
     "output_type": "display_data"
    },
    {
     "name": "stdout",
     "output_type": "stream",
     "text": [
      "\n",
      "fold is 0\n",
      "\n",
      " Calculating fullXmatrix\n"
     ]
    },
    {
     "data": {
      "application/vnd.jupyter.widget-view+json": {
       "model_id": "74c4f5d7d4474453b567891d4f5ff24e",
       "version_major": 2,
       "version_minor": 0
      },
      "text/plain": [
       "HBox(children=(IntProgress(value=0, max=66), HTML(value='')))"
      ]
     },
     "metadata": {},
     "output_type": "display_data"
    },
    {
     "name": "stdout",
     "output_type": "stream",
     "text": [
      "\n",
      "     pcost       dcost       gap    pres   dres\n",
      " 0: -6.4046e+03 -2.6363e+05  3e+05  0e+00  5e-13\n",
      " 1: -6.7929e+03 -1.5406e+04  9e+03  1e-16  4e-13\n",
      " 2: -1.0762e+04 -1.3000e+04  2e+03  2e-16  6e-13\n",
      " 3: -1.1231e+04 -1.2247e+04  1e+03  2e-16  6e-13\n",
      " 4: -1.1442e+04 -1.1904e+04  5e+02  2e-16  6e-13\n",
      " 5: -1.1558e+04 -1.1735e+04  2e+02  2e-16  7e-13\n",
      " 6: -1.1614e+04 -1.1657e+04  4e+01  2e-16  6e-13\n",
      " 7: -1.1627e+04 -1.1640e+04  1e+01  2e-16  7e-13\n",
      " 8: -1.1633e+04 -1.1633e+04  7e-01  2e-16  7e-13\n",
      " 9: -1.1633e+04 -1.1633e+04  7e-03  2e-16  6e-13\n",
      "Optimal solution found.\n",
      "\n",
      " Calculating prediction values\n"
     ]
    },
    {
     "data": {
      "application/vnd.jupyter.widget-view+json": {
       "model_id": "ba9507e5c05d4f43846135f2659db68a",
       "version_major": 2,
       "version_minor": 0
      },
      "text/plain": [
       "HBox(children=(IntProgress(value=0, max=34), HTML(value='')))"
      ]
     },
     "metadata": {},
     "output_type": "display_data"
    },
    {
     "name": "stdout",
     "output_type": "stream",
     "text": [
      "\n",
      "fold is 1\n",
      "\n",
      " Calculating fullXmatrix\n"
     ]
    },
    {
     "data": {
      "application/vnd.jupyter.widget-view+json": {
       "model_id": "a2d1d79138d74b7980074005bdd03d4a",
       "version_major": 2,
       "version_minor": 0
      },
      "text/plain": [
       "HBox(children=(IntProgress(value=0, max=67), HTML(value='')))"
      ]
     },
     "metadata": {},
     "output_type": "display_data"
    },
    {
     "name": "stdout",
     "output_type": "stream",
     "text": [
      "\n",
      "     pcost       dcost       gap    pres   dres\n",
      " 0: -6.4433e+03 -4.1984e+05  4e+05  1e-17  5e-13\n",
      " 1: -6.7363e+03 -1.7035e+04  1e+04  1e-16  4e-13\n",
      " 2: -1.1512e+04 -1.3248e+04  2e+03  2e-16  7e-13\n",
      " 3: -1.1916e+04 -1.2195e+04  3e+02  2e-16  7e-13\n",
      " 4: -1.1996e+04 -1.2008e+04  1e+01  2e-16  7e-13\n",
      " 5: -1.2000e+04 -1.2000e+04  1e-01  2e-16  7e-13\n",
      " 6: -1.2000e+04 -1.2000e+04  1e-03  2e-16  7e-13\n",
      "Optimal solution found.\n",
      "\n",
      " Calculating prediction values\n"
     ]
    },
    {
     "data": {
      "application/vnd.jupyter.widget-view+json": {
       "model_id": "2a2fb7315ee44b84b9ebb31b9a9d549a",
       "version_major": 2,
       "version_minor": 0
      },
      "text/plain": [
       "HBox(children=(IntProgress(value=0, max=33), HTML(value='')))"
      ]
     },
     "metadata": {},
     "output_type": "display_data"
    },
    {
     "name": "stdout",
     "output_type": "stream",
     "text": [
      "\n",
      "fold is 2\n",
      "\n",
      " Calculating fullXmatrix\n"
     ]
    },
    {
     "data": {
      "application/vnd.jupyter.widget-view+json": {
       "model_id": "103ba38dc9b2463d8928ab81ff02e820",
       "version_major": 2,
       "version_minor": 0
      },
      "text/plain": [
       "HBox(children=(IntProgress(value=0, max=67), HTML(value='')))"
      ]
     },
     "metadata": {},
     "output_type": "display_data"
    },
    {
     "name": "stdout",
     "output_type": "stream",
     "text": [
      "\n",
      "     pcost       dcost       gap    pres   dres\n",
      " 0: -6.2845e+03 -4.5028e+05  4e+05  1e-17  5e-13\n",
      " 1: -6.6376e+03 -1.7532e+04  1e+04  1e-16  3e-13\n",
      " 2: -1.0655e+04 -1.2742e+04  2e+03  2e-16  6e-13\n",
      " 3: -1.1139e+04 -1.2052e+04  9e+02  2e-16  6e-13\n",
      " 4: -1.1423e+04 -1.1680e+04  3e+02  2e-16  7e-13\n",
      " 5: -1.1516e+04 -1.1577e+04  6e+01  2e-16  7e-13\n",
      " 6: -1.1533e+04 -1.1558e+04  2e+01  2e-16  5e-13\n",
      " 7: -1.1542e+04 -1.1548e+04  6e+00  2e-16  6e-13\n",
      " 8: -1.1544e+04 -1.1546e+04  1e+00  2e-16  7e-13\n",
      " 9: -1.1545e+04 -1.1545e+04  9e-02  2e-16  7e-13\n",
      "10: -1.1545e+04 -1.1545e+04  9e-04  2e-16  7e-13\n",
      "Optimal solution found.\n",
      "\n",
      " Calculating prediction values\n"
     ]
    },
    {
     "data": {
      "application/vnd.jupyter.widget-view+json": {
       "model_id": "bec488198bc14cc09f47a74a540f262b",
       "version_major": 2,
       "version_minor": 0
      },
      "text/plain": [
       "HBox(children=(IntProgress(value=0, max=33), HTML(value='')))"
      ]
     },
     "metadata": {},
     "output_type": "display_data"
    },
    {
     "name": "stdout",
     "output_type": "stream",
     "text": [
      "\n",
      "fold is 0\n",
      "\n",
      " Calculating fullXmatrix\n"
     ]
    },
    {
     "data": {
      "application/vnd.jupyter.widget-view+json": {
       "model_id": "eb554eb3886a4227be91b9a55eb5d10d",
       "version_major": 2,
       "version_minor": 0
      },
      "text/plain": [
       "HBox(children=(IntProgress(value=0, max=66), HTML(value='')))"
      ]
     },
     "metadata": {},
     "output_type": "display_data"
    },
    {
     "name": "stdout",
     "output_type": "stream",
     "text": [
      "\n",
      "     pcost       dcost       gap    pres   dres\n",
      " 0: -6.4046e+03 -2.6363e+05  3e+05  0e+00  5e-13\n",
      " 1: -6.7929e+03 -1.5406e+04  9e+03  1e-16  4e-13\n",
      " 2: -1.0762e+04 -1.3000e+04  2e+03  2e-16  6e-13\n",
      " 3: -1.1231e+04 -1.2247e+04  1e+03  2e-16  6e-13\n",
      " 4: -1.1442e+04 -1.1904e+04  5e+02  2e-16  6e-13\n",
      " 5: -1.1558e+04 -1.1735e+04  2e+02  2e-16  7e-13\n",
      " 6: -1.1614e+04 -1.1657e+04  4e+01  2e-16  6e-13\n",
      " 7: -1.1627e+04 -1.1640e+04  1e+01  2e-16  7e-13\n",
      " 8: -1.1633e+04 -1.1633e+04  7e-01  2e-16  7e-13\n",
      " 9: -1.1633e+04 -1.1633e+04  7e-03  2e-16  6e-13\n",
      "Optimal solution found.\n",
      "\n",
      " Calculating prediction values\n"
     ]
    },
    {
     "data": {
      "application/vnd.jupyter.widget-view+json": {
       "model_id": "fecd40b97f5b48dfaab2bc8370f0242f",
       "version_major": 2,
       "version_minor": 0
      },
      "text/plain": [
       "HBox(children=(IntProgress(value=0, max=34), HTML(value='')))"
      ]
     },
     "metadata": {},
     "output_type": "display_data"
    },
    {
     "name": "stdout",
     "output_type": "stream",
     "text": [
      "\n",
      "fold is 1\n",
      "\n",
      " Calculating fullXmatrix\n"
     ]
    },
    {
     "data": {
      "application/vnd.jupyter.widget-view+json": {
       "model_id": "adcb0dfcb29942c69f4c8748910d48f7",
       "version_major": 2,
       "version_minor": 0
      },
      "text/plain": [
       "HBox(children=(IntProgress(value=0, max=67), HTML(value='')))"
      ]
     },
     "metadata": {},
     "output_type": "display_data"
    },
    {
     "name": "stdout",
     "output_type": "stream",
     "text": [
      "\n",
      "     pcost       dcost       gap    pres   dres\n",
      " 0: -6.4433e+03 -4.1984e+05  4e+05  1e-17  5e-13\n",
      " 1: -6.7363e+03 -1.7035e+04  1e+04  1e-16  4e-13\n",
      " 2: -1.1512e+04 -1.3248e+04  2e+03  2e-16  7e-13\n",
      " 3: -1.1916e+04 -1.2195e+04  3e+02  2e-16  7e-13\n",
      " 4: -1.1996e+04 -1.2008e+04  1e+01  2e-16  7e-13\n",
      " 5: -1.2000e+04 -1.2000e+04  1e-01  2e-16  7e-13\n",
      " 6: -1.2000e+04 -1.2000e+04  1e-03  2e-16  7e-13\n",
      "Optimal solution found.\n",
      "\n",
      " Calculating prediction values\n"
     ]
    },
    {
     "data": {
      "application/vnd.jupyter.widget-view+json": {
       "model_id": "424f54ba5e33414095ab197139f64722",
       "version_major": 2,
       "version_minor": 0
      },
      "text/plain": [
       "HBox(children=(IntProgress(value=0, max=33), HTML(value='')))"
      ]
     },
     "metadata": {},
     "output_type": "display_data"
    },
    {
     "name": "stdout",
     "output_type": "stream",
     "text": [
      "\n",
      "fold is 2\n",
      "\n",
      " Calculating fullXmatrix\n"
     ]
    },
    {
     "data": {
      "application/vnd.jupyter.widget-view+json": {
       "model_id": "bb7032e21ddc42b7884d1cfec2a655f2",
       "version_major": 2,
       "version_minor": 0
      },
      "text/plain": [
       "HBox(children=(IntProgress(value=0, max=67), HTML(value='')))"
      ]
     },
     "metadata": {},
     "output_type": "display_data"
    },
    {
     "name": "stdout",
     "output_type": "stream",
     "text": [
      "\n",
      "     pcost       dcost       gap    pres   dres\n",
      " 0: -6.2845e+03 -4.5028e+05  4e+05  1e-17  5e-13\n",
      " 1: -6.6376e+03 -1.7532e+04  1e+04  1e-16  3e-13\n",
      " 2: -1.0655e+04 -1.2742e+04  2e+03  2e-16  6e-13\n",
      " 3: -1.1139e+04 -1.2052e+04  9e+02  2e-16  6e-13\n",
      " 4: -1.1423e+04 -1.1680e+04  3e+02  2e-16  7e-13\n",
      " 5: -1.1516e+04 -1.1577e+04  6e+01  2e-16  7e-13\n",
      " 6: -1.1533e+04 -1.1558e+04  2e+01  2e-16  5e-13\n",
      " 7: -1.1542e+04 -1.1548e+04  6e+00  2e-16  6e-13\n",
      " 8: -1.1544e+04 -1.1546e+04  1e+00  2e-16  7e-13\n",
      " 9: -1.1545e+04 -1.1545e+04  9e-02  2e-16  7e-13\n",
      "10: -1.1545e+04 -1.1545e+04  9e-04  2e-16  7e-13\n",
      "Optimal solution found.\n",
      "\n",
      " Calculating prediction values\n"
     ]
    },
    {
     "data": {
      "application/vnd.jupyter.widget-view+json": {
       "model_id": "59f1bbe3d1df4fbaa1093df00e0ee2eb",
       "version_major": 2,
       "version_minor": 0
      },
      "text/plain": [
       "HBox(children=(IntProgress(value=0, max=33), HTML(value='')))"
      ]
     },
     "metadata": {},
     "output_type": "display_data"
    },
    {
     "name": "stdout",
     "output_type": "stream",
     "text": [
      "\n",
      "fold is 0\n",
      "\n",
      " Calculating fullXmatrix\n"
     ]
    },
    {
     "data": {
      "application/vnd.jupyter.widget-view+json": {
       "model_id": "b8c913a5d36c42039f6947a10d24f9a9",
       "version_major": 2,
       "version_minor": 0
      },
      "text/plain": [
       "HBox(children=(IntProgress(value=0, max=66), HTML(value='')))"
      ]
     },
     "metadata": {},
     "output_type": "display_data"
    },
    {
     "name": "stdout",
     "output_type": "stream",
     "text": [
      "\n",
      "     pcost       dcost       gap    pres   dres\n",
      " 0: -6.4046e+03 -2.6363e+05  3e+05  0e+00  5e-13\n",
      " 1: -6.7929e+03 -1.5406e+04  9e+03  1e-16  4e-13\n",
      " 2: -1.0762e+04 -1.3000e+04  2e+03  2e-16  6e-13\n",
      " 3: -1.1231e+04 -1.2247e+04  1e+03  2e-16  6e-13\n",
      " 4: -1.1442e+04 -1.1904e+04  5e+02  2e-16  6e-13\n",
      " 5: -1.1558e+04 -1.1735e+04  2e+02  2e-16  7e-13\n",
      " 6: -1.1614e+04 -1.1657e+04  4e+01  2e-16  6e-13\n",
      " 7: -1.1627e+04 -1.1640e+04  1e+01  2e-16  7e-13\n",
      " 8: -1.1633e+04 -1.1633e+04  7e-01  2e-16  7e-13\n",
      " 9: -1.1633e+04 -1.1633e+04  7e-03  2e-16  6e-13\n",
      "Optimal solution found.\n",
      "\n",
      " Calculating prediction values\n"
     ]
    },
    {
     "data": {
      "application/vnd.jupyter.widget-view+json": {
       "model_id": "e04b11b40853480595816040a3c79d1f",
       "version_major": 2,
       "version_minor": 0
      },
      "text/plain": [
       "HBox(children=(IntProgress(value=0, max=34), HTML(value='')))"
      ]
     },
     "metadata": {},
     "output_type": "display_data"
    },
    {
     "name": "stdout",
     "output_type": "stream",
     "text": [
      "\n",
      "fold is 1\n",
      "\n",
      " Calculating fullXmatrix\n"
     ]
    },
    {
     "data": {
      "application/vnd.jupyter.widget-view+json": {
       "model_id": "a699738736e34762a79b146ba6c99b92",
       "version_major": 2,
       "version_minor": 0
      },
      "text/plain": [
       "HBox(children=(IntProgress(value=0, max=67), HTML(value='')))"
      ]
     },
     "metadata": {},
     "output_type": "display_data"
    },
    {
     "name": "stdout",
     "output_type": "stream",
     "text": [
      "\n",
      "     pcost       dcost       gap    pres   dres\n",
      " 0: -6.4433e+03 -4.1984e+05  4e+05  1e-17  5e-13\n",
      " 1: -6.7363e+03 -1.7035e+04  1e+04  1e-16  4e-13\n",
      " 2: -1.1512e+04 -1.3248e+04  2e+03  2e-16  7e-13\n",
      " 3: -1.1916e+04 -1.2195e+04  3e+02  2e-16  7e-13\n",
      " 4: -1.1996e+04 -1.2008e+04  1e+01  2e-16  7e-13\n",
      " 5: -1.2000e+04 -1.2000e+04  1e-01  2e-16  7e-13\n",
      " 6: -1.2000e+04 -1.2000e+04  1e-03  2e-16  7e-13\n",
      "Optimal solution found.\n",
      "\n",
      " Calculating prediction values\n"
     ]
    },
    {
     "data": {
      "application/vnd.jupyter.widget-view+json": {
       "model_id": "f5e44abff5514964b36cc710e1db2f65",
       "version_major": 2,
       "version_minor": 0
      },
      "text/plain": [
       "HBox(children=(IntProgress(value=0, max=33), HTML(value='')))"
      ]
     },
     "metadata": {},
     "output_type": "display_data"
    },
    {
     "name": "stdout",
     "output_type": "stream",
     "text": [
      "\n",
      "fold is 2\n",
      "\n",
      " Calculating fullXmatrix\n"
     ]
    },
    {
     "data": {
      "application/vnd.jupyter.widget-view+json": {
       "model_id": "fc50665d368947fa9a4f3b0fd76a14a0",
       "version_major": 2,
       "version_minor": 0
      },
      "text/plain": [
       "HBox(children=(IntProgress(value=0, max=67), HTML(value='')))"
      ]
     },
     "metadata": {},
     "output_type": "display_data"
    },
    {
     "name": "stdout",
     "output_type": "stream",
     "text": [
      "\n",
      "     pcost       dcost       gap    pres   dres\n",
      " 0: -6.2845e+03 -4.5028e+05  4e+05  1e-17  5e-13\n",
      " 1: -6.6376e+03 -1.7532e+04  1e+04  1e-16  3e-13\n",
      " 2: -1.0655e+04 -1.2742e+04  2e+03  2e-16  6e-13\n",
      " 3: -1.1139e+04 -1.2052e+04  9e+02  2e-16  6e-13\n",
      " 4: -1.1423e+04 -1.1680e+04  3e+02  2e-16  7e-13\n",
      " 5: -1.1516e+04 -1.1577e+04  6e+01  2e-16  7e-13\n",
      " 6: -1.1533e+04 -1.1558e+04  2e+01  2e-16  5e-13\n",
      " 7: -1.1542e+04 -1.1548e+04  6e+00  2e-16  6e-13\n",
      " 8: -1.1544e+04 -1.1546e+04  1e+00  2e-16  7e-13\n",
      " 9: -1.1545e+04 -1.1545e+04  9e-02  2e-16  7e-13\n",
      "10: -1.1545e+04 -1.1545e+04  9e-04  2e-16  7e-13\n",
      "Optimal solution found.\n",
      "\n",
      " Calculating prediction values\n"
     ]
    },
    {
     "data": {
      "application/vnd.jupyter.widget-view+json": {
       "model_id": "be08a4ed59934328adce5e06d9b99b6f",
       "version_major": 2,
       "version_minor": 0
      },
      "text/plain": [
       "HBox(children=(IntProgress(value=0, max=33), HTML(value='')))"
      ]
     },
     "metadata": {},
     "output_type": "display_data"
    },
    {
     "name": "stdout",
     "output_type": "stream",
     "text": [
      "\n",
      "fold is 0\n",
      "\n",
      " Calculating fullXmatrix\n"
     ]
    },
    {
     "data": {
      "application/vnd.jupyter.widget-view+json": {
       "model_id": "bfc54c2c52fc4ba6b0cfd7cb0cf73dde",
       "version_major": 2,
       "version_minor": 0
      },
      "text/plain": [
       "HBox(children=(IntProgress(value=0, max=66), HTML(value='')))"
      ]
     },
     "metadata": {},
     "output_type": "display_data"
    },
    {
     "name": "stdout",
     "output_type": "stream",
     "text": [
      "\n",
      "     pcost       dcost       gap    pres   dres\n",
      " 0: -4.9988e-01 -4.8487e-01  3e+02  2e+01  2e-16\n",
      " 1: -4.9899e-01 -4.5654e-01  5e+00  3e-01  3e-16\n",
      " 2: -2.6288e-01 -5.0645e-02  6e-01  4e-02  6e-16\n",
      " 3: -2.1110e-03 -2.2531e-06  1e-02  7e-04  8e-15\n",
      " 4: -2.1137e-05 -2.2542e-10  1e-04  7e-06  8e-16\n",
      " 5: -2.1138e-07 -2.2542e-14  1e-06  7e-08  8e-16\n",
      " 6: -2.1138e-09 -2.2542e-18  1e-08  7e-10  8e-16\n",
      "Optimal solution found.\n",
      "\n",
      " Calculating prediction values\n"
     ]
    },
    {
     "data": {
      "application/vnd.jupyter.widget-view+json": {
       "model_id": "772ca09e8f2e409f9dca42dd24c1af9a",
       "version_major": 2,
       "version_minor": 0
      },
      "text/plain": [
       "HBox(children=(IntProgress(value=0, max=34), HTML(value='')))"
      ]
     },
     "metadata": {},
     "output_type": "display_data"
    },
    {
     "name": "stdout",
     "output_type": "stream",
     "text": [
      "\n",
      "fold is 1\n",
      "\n",
      " Calculating fullXmatrix\n"
     ]
    },
    {
     "data": {
      "application/vnd.jupyter.widget-view+json": {
       "model_id": "e14e244588ef46ccacf3b0e87c6142ae",
       "version_major": 2,
       "version_minor": 0
      },
      "text/plain": [
       "HBox(children=(IntProgress(value=0, max=67), HTML(value='')))"
      ]
     },
     "metadata": {},
     "output_type": "display_data"
    },
    {
     "name": "stdout",
     "output_type": "stream",
     "text": [
      "\n",
      "     pcost       dcost       gap    pres   dres\n",
      " 0: -4.9988e-01 -4.8494e-01  3e+02  2e+01  2e-16\n",
      " 1: -4.9900e-01 -4.5674e-01  5e+00  3e-01  3e-16\n",
      " 2: -2.5740e-01 -4.8961e-02  6e-01  4e-02  6e-16\n",
      " 3: -4.3659e-03 -9.9471e-06  2e-02  1e-03  8e-15\n",
      " 4: -4.3786e-05 -9.9591e-10  2e-04  1e-05  9e-16\n",
      " 5: -4.3787e-07 -9.9591e-14  2e-06  1e-07  9e-16\n",
      " 6: -4.3787e-09 -9.9591e-18  2e-08  1e-09  1e-15\n",
      "Optimal solution found.\n",
      "\n",
      " Calculating prediction values\n"
     ]
    },
    {
     "data": {
      "application/vnd.jupyter.widget-view+json": {
       "model_id": "445312867335455ebfc8aa8ccaad13f5",
       "version_major": 2,
       "version_minor": 0
      },
      "text/plain": [
       "HBox(children=(IntProgress(value=0, max=33), HTML(value='')))"
      ]
     },
     "metadata": {},
     "output_type": "display_data"
    },
    {
     "name": "stdout",
     "output_type": "stream",
     "text": [
      "\n",
      "fold is 2\n",
      "\n",
      " Calculating fullXmatrix\n"
     ]
    },
    {
     "data": {
      "application/vnd.jupyter.widget-view+json": {
       "model_id": "5e18eda35ff44f4aaef89bd2abae9a6b",
       "version_major": 2,
       "version_minor": 0
      },
      "text/plain": [
       "HBox(children=(IntProgress(value=0, max=67), HTML(value='')))"
      ]
     },
     "metadata": {},
     "output_type": "display_data"
    },
    {
     "name": "stdout",
     "output_type": "stream",
     "text": [
      "\n",
      "     pcost       dcost       gap    pres   dres\n",
      " 0: -4.9988e-01 -4.8478e-01  3e+02  2e+01  2e-16\n",
      " 1: -4.9896e-01 -4.5632e-01  5e+00  3e-01  3e-16\n",
      " 2: -2.6649e-01 -5.4183e-02  7e-01  4e-02  6e-16\n",
      " 3: -5.4439e-03 -1.5112e-05  3e-02  2e-03  5e-15\n",
      " 4: -5.4676e-05 -1.5159e-09  3e-04  2e-05  8e-16\n",
      " 5: -5.4677e-07 -1.5159e-13  3e-06  2e-07  9e-16\n",
      " 6: -5.4677e-09 -1.5159e-17  3e-08  2e-09  8e-16\n",
      "Optimal solution found.\n",
      "\n",
      " Calculating prediction values\n"
     ]
    },
    {
     "data": {
      "application/vnd.jupyter.widget-view+json": {
       "model_id": "cd3b61581e234ac58e53498f8bbd182b",
       "version_major": 2,
       "version_minor": 0
      },
      "text/plain": [
       "HBox(children=(IntProgress(value=0, max=33), HTML(value='')))"
      ]
     },
     "metadata": {},
     "output_type": "display_data"
    },
    {
     "name": "stdout",
     "output_type": "stream",
     "text": [
      "\n",
      "fold is 0\n",
      "\n",
      " Calculating fullXmatrix\n"
     ]
    },
    {
     "data": {
      "application/vnd.jupyter.widget-view+json": {
       "model_id": "79cb9ae56a4a45c79770b9f184bf1bb8",
       "version_major": 2,
       "version_minor": 0
      },
      "text/plain": [
       "HBox(children=(IntProgress(value=0, max=66), HTML(value='')))"
      ]
     },
     "metadata": {},
     "output_type": "display_data"
    },
    {
     "name": "stdout",
     "output_type": "stream",
     "text": [
      "\n",
      "     pcost       dcost       gap    pres   dres\n",
      " 0: -4.9988e-01 -4.8487e-01  3e+02  2e+01  2e-16\n",
      " 1: -4.9899e-01 -4.5654e-01  5e+00  3e-01  3e-16\n",
      " 2: -2.6288e-01 -5.0645e-02  6e-01  4e-02  6e-16\n",
      " 3: -2.1110e-03 -2.2531e-06  1e-02  7e-04  8e-15\n",
      " 4: -2.1137e-05 -2.2542e-10  1e-04  7e-06  8e-16\n",
      " 5: -2.1138e-07 -2.2542e-14  1e-06  7e-08  8e-16\n",
      " 6: -2.1138e-09 -2.2542e-18  1e-08  7e-10  8e-16\n",
      "Optimal solution found.\n",
      "\n",
      " Calculating prediction values\n"
     ]
    },
    {
     "data": {
      "application/vnd.jupyter.widget-view+json": {
       "model_id": "8d45e246809b4eb8ab863c9f0714e6e1",
       "version_major": 2,
       "version_minor": 0
      },
      "text/plain": [
       "HBox(children=(IntProgress(value=0, max=34), HTML(value='')))"
      ]
     },
     "metadata": {},
     "output_type": "display_data"
    },
    {
     "name": "stdout",
     "output_type": "stream",
     "text": [
      "\n",
      "fold is 1\n",
      "\n",
      " Calculating fullXmatrix\n"
     ]
    },
    {
     "data": {
      "application/vnd.jupyter.widget-view+json": {
       "model_id": "b55187ffca4b46b1be1c0f1d04673c2f",
       "version_major": 2,
       "version_minor": 0
      },
      "text/plain": [
       "HBox(children=(IntProgress(value=0, max=67), HTML(value='')))"
      ]
     },
     "metadata": {},
     "output_type": "display_data"
    },
    {
     "name": "stdout",
     "output_type": "stream",
     "text": [
      "\n",
      "     pcost       dcost       gap    pres   dres\n",
      " 0: -4.9988e-01 -4.8494e-01  3e+02  2e+01  2e-16\n",
      " 1: -4.9900e-01 -4.5674e-01  5e+00  3e-01  3e-16\n",
      " 2: -2.5740e-01 -4.8961e-02  6e-01  4e-02  6e-16\n",
      " 3: -4.3659e-03 -9.9471e-06  2e-02  1e-03  8e-15\n",
      " 4: -4.3786e-05 -9.9591e-10  2e-04  1e-05  9e-16\n",
      " 5: -4.3787e-07 -9.9591e-14  2e-06  1e-07  9e-16\n",
      " 6: -4.3787e-09 -9.9591e-18  2e-08  1e-09  1e-15\n",
      "Optimal solution found.\n",
      "\n",
      " Calculating prediction values\n"
     ]
    },
    {
     "data": {
      "application/vnd.jupyter.widget-view+json": {
       "model_id": "5b8bf8a4a216403ab1e9fb63dc683ff3",
       "version_major": 2,
       "version_minor": 0
      },
      "text/plain": [
       "HBox(children=(IntProgress(value=0, max=33), HTML(value='')))"
      ]
     },
     "metadata": {},
     "output_type": "display_data"
    },
    {
     "name": "stdout",
     "output_type": "stream",
     "text": [
      "\n",
      "fold is 2\n",
      "\n",
      " Calculating fullXmatrix\n"
     ]
    },
    {
     "data": {
      "application/vnd.jupyter.widget-view+json": {
       "model_id": "204f95d0778540c585519f7dec187a24",
       "version_major": 2,
       "version_minor": 0
      },
      "text/plain": [
       "HBox(children=(IntProgress(value=0, max=67), HTML(value='')))"
      ]
     },
     "metadata": {},
     "output_type": "display_data"
    },
    {
     "name": "stdout",
     "output_type": "stream",
     "text": [
      "\n",
      "     pcost       dcost       gap    pres   dres\n",
      " 0: -4.9988e-01 -4.8478e-01  3e+02  2e+01  2e-16\n",
      " 1: -4.9896e-01 -4.5632e-01  5e+00  3e-01  3e-16\n",
      " 2: -2.6649e-01 -5.4183e-02  7e-01  4e-02  6e-16\n",
      " 3: -5.4439e-03 -1.5112e-05  3e-02  2e-03  5e-15\n",
      " 4: -5.4676e-05 -1.5159e-09  3e-04  2e-05  8e-16\n",
      " 5: -5.4677e-07 -1.5159e-13  3e-06  2e-07  9e-16\n",
      " 6: -5.4677e-09 -1.5159e-17  3e-08  2e-09  8e-16\n",
      "Optimal solution found.\n",
      "\n",
      " Calculating prediction values\n"
     ]
    },
    {
     "data": {
      "application/vnd.jupyter.widget-view+json": {
       "model_id": "ae6c9d5aeb3a4fd9b1539e374806e0cb",
       "version_major": 2,
       "version_minor": 0
      },
      "text/plain": [
       "HBox(children=(IntProgress(value=0, max=33), HTML(value='')))"
      ]
     },
     "metadata": {},
     "output_type": "display_data"
    },
    {
     "name": "stdout",
     "output_type": "stream",
     "text": [
      "\n",
      "fold is 0\n",
      "\n",
      " Calculating fullXmatrix\n"
     ]
    },
    {
     "data": {
      "application/vnd.jupyter.widget-view+json": {
       "model_id": "39fd0414a4a442d9b931ffb4feeab82d",
       "version_major": 2,
       "version_minor": 0
      },
      "text/plain": [
       "HBox(children=(IntProgress(value=0, max=66), HTML(value='')))"
      ]
     },
     "metadata": {},
     "output_type": "display_data"
    },
    {
     "name": "stdout",
     "output_type": "stream",
     "text": [
      "\n",
      "     pcost       dcost       gap    pres   dres\n",
      " 0: -4.9988e-01 -4.8487e-01  3e+02  2e+01  2e-16\n",
      " 1: -4.9899e-01 -4.5654e-01  5e+00  3e-01  3e-16\n",
      " 2: -2.6288e-01 -5.0645e-02  6e-01  4e-02  6e-16\n",
      " 3: -2.1110e-03 -2.2531e-06  1e-02  7e-04  8e-15\n",
      " 4: -2.1137e-05 -2.2542e-10  1e-04  7e-06  8e-16\n",
      " 5: -2.1138e-07 -2.2542e-14  1e-06  7e-08  8e-16\n",
      " 6: -2.1138e-09 -2.2542e-18  1e-08  7e-10  8e-16\n",
      "Optimal solution found.\n",
      "\n",
      " Calculating prediction values\n"
     ]
    },
    {
     "data": {
      "application/vnd.jupyter.widget-view+json": {
       "model_id": "f16df9f980fc47ed896d09e2e2dc1698",
       "version_major": 2,
       "version_minor": 0
      },
      "text/plain": [
       "HBox(children=(IntProgress(value=0, max=34), HTML(value='')))"
      ]
     },
     "metadata": {},
     "output_type": "display_data"
    },
    {
     "name": "stdout",
     "output_type": "stream",
     "text": [
      "\n",
      "fold is 1\n",
      "\n",
      " Calculating fullXmatrix\n"
     ]
    },
    {
     "data": {
      "application/vnd.jupyter.widget-view+json": {
       "model_id": "5c2d78eae16742e1939e8222be5807ac",
       "version_major": 2,
       "version_minor": 0
      },
      "text/plain": [
       "HBox(children=(IntProgress(value=0, max=67), HTML(value='')))"
      ]
     },
     "metadata": {},
     "output_type": "display_data"
    },
    {
     "name": "stdout",
     "output_type": "stream",
     "text": [
      "\n",
      "     pcost       dcost       gap    pres   dres\n",
      " 0: -4.9988e-01 -4.8494e-01  3e+02  2e+01  2e-16\n",
      " 1: -4.9900e-01 -4.5674e-01  5e+00  3e-01  3e-16\n",
      " 2: -2.5740e-01 -4.8961e-02  6e-01  4e-02  6e-16\n",
      " 3: -4.3659e-03 -9.9471e-06  2e-02  1e-03  8e-15\n",
      " 4: -4.3786e-05 -9.9591e-10  2e-04  1e-05  9e-16\n",
      " 5: -4.3787e-07 -9.9591e-14  2e-06  1e-07  9e-16\n",
      " 6: -4.3787e-09 -9.9591e-18  2e-08  1e-09  1e-15\n",
      "Optimal solution found.\n",
      "\n",
      " Calculating prediction values\n"
     ]
    },
    {
     "data": {
      "application/vnd.jupyter.widget-view+json": {
       "model_id": "d471af1cdd5d40f1a452c0139220a99f",
       "version_major": 2,
       "version_minor": 0
      },
      "text/plain": [
       "HBox(children=(IntProgress(value=0, max=33), HTML(value='')))"
      ]
     },
     "metadata": {},
     "output_type": "display_data"
    },
    {
     "name": "stdout",
     "output_type": "stream",
     "text": [
      "\n",
      "fold is 2\n",
      "\n",
      " Calculating fullXmatrix\n"
     ]
    },
    {
     "data": {
      "application/vnd.jupyter.widget-view+json": {
       "model_id": "8bc13560d28a4472a1a3297301fa41a7",
       "version_major": 2,
       "version_minor": 0
      },
      "text/plain": [
       "HBox(children=(IntProgress(value=0, max=67), HTML(value='')))"
      ]
     },
     "metadata": {},
     "output_type": "display_data"
    },
    {
     "name": "stdout",
     "output_type": "stream",
     "text": [
      "\n",
      "     pcost       dcost       gap    pres   dres\n",
      " 0: -4.9988e-01 -4.8478e-01  3e+02  2e+01  2e-16\n",
      " 1: -4.9896e-01 -4.5632e-01  5e+00  3e-01  3e-16\n",
      " 2: -2.6649e-01 -5.4183e-02  7e-01  4e-02  6e-16\n",
      " 3: -5.4439e-03 -1.5112e-05  3e-02  2e-03  5e-15\n",
      " 4: -5.4676e-05 -1.5159e-09  3e-04  2e-05  8e-16\n",
      " 5: -5.4677e-07 -1.5159e-13  3e-06  2e-07  9e-16\n",
      " 6: -5.4677e-09 -1.5159e-17  3e-08  2e-09  8e-16\n",
      "Optimal solution found.\n",
      "\n",
      " Calculating prediction values\n"
     ]
    },
    {
     "data": {
      "application/vnd.jupyter.widget-view+json": {
       "model_id": "c58b3fbfcfe14ea0881e93b47977cd96",
       "version_major": 2,
       "version_minor": 0
      },
      "text/plain": [
       "HBox(children=(IntProgress(value=0, max=33), HTML(value='')))"
      ]
     },
     "metadata": {},
     "output_type": "display_data"
    },
    {
     "name": "stdout",
     "output_type": "stream",
     "text": [
      "\n",
      "fold is 0\n",
      "\n",
      " Calculating fullXmatrix\n"
     ]
    },
    {
     "data": {
      "application/vnd.jupyter.widget-view+json": {
       "model_id": "5b7ef1dfc9354b06aecf213206c6c651",
       "version_major": 2,
       "version_minor": 0
      },
      "text/plain": [
       "HBox(children=(IntProgress(value=0, max=66), HTML(value='')))"
      ]
     },
     "metadata": {},
     "output_type": "display_data"
    },
    {
     "name": "stdout",
     "output_type": "stream",
     "text": [
      "\n",
      "     pcost       dcost       gap    pres   dres\n",
      " 0: -4.9988e-01 -4.8487e-01  3e+02  2e+01  2e-16\n",
      " 1: -4.9899e-01 -4.5654e-01  5e+00  3e-01  3e-16\n",
      " 2: -2.6288e-01 -5.0645e-02  6e-01  4e-02  6e-16\n",
      " 3: -2.1110e-03 -2.2531e-06  1e-02  7e-04  8e-15\n",
      " 4: -2.1137e-05 -2.2542e-10  1e-04  7e-06  8e-16\n",
      " 5: -2.1138e-07 -2.2542e-14  1e-06  7e-08  8e-16\n",
      " 6: -2.1138e-09 -2.2542e-18  1e-08  7e-10  8e-16\n",
      "Optimal solution found.\n",
      "\n",
      " Calculating prediction values\n"
     ]
    },
    {
     "data": {
      "application/vnd.jupyter.widget-view+json": {
       "model_id": "b6b27c31e43f444e8b6090a66fade07d",
       "version_major": 2,
       "version_minor": 0
      },
      "text/plain": [
       "HBox(children=(IntProgress(value=0, max=34), HTML(value='')))"
      ]
     },
     "metadata": {},
     "output_type": "display_data"
    },
    {
     "name": "stdout",
     "output_type": "stream",
     "text": [
      "\n",
      "fold is 1\n",
      "\n",
      " Calculating fullXmatrix\n"
     ]
    },
    {
     "data": {
      "application/vnd.jupyter.widget-view+json": {
       "model_id": "b2a2406ef1d544f2933caf49958fd279",
       "version_major": 2,
       "version_minor": 0
      },
      "text/plain": [
       "HBox(children=(IntProgress(value=0, max=67), HTML(value='')))"
      ]
     },
     "metadata": {},
     "output_type": "display_data"
    },
    {
     "name": "stdout",
     "output_type": "stream",
     "text": [
      "\n",
      "     pcost       dcost       gap    pres   dres\n",
      " 0: -4.9988e-01 -4.8494e-01  3e+02  2e+01  2e-16\n",
      " 1: -4.9900e-01 -4.5674e-01  5e+00  3e-01  3e-16\n",
      " 2: -2.5740e-01 -4.8961e-02  6e-01  4e-02  6e-16\n",
      " 3: -4.3659e-03 -9.9471e-06  2e-02  1e-03  8e-15\n",
      " 4: -4.3786e-05 -9.9591e-10  2e-04  1e-05  9e-16\n",
      " 5: -4.3787e-07 -9.9591e-14  2e-06  1e-07  9e-16\n",
      " 6: -4.3787e-09 -9.9591e-18  2e-08  1e-09  1e-15\n",
      "Optimal solution found.\n",
      "\n",
      " Calculating prediction values\n"
     ]
    },
    {
     "data": {
      "application/vnd.jupyter.widget-view+json": {
       "model_id": "5cf89523e5f548918d0902871c87f1f4",
       "version_major": 2,
       "version_minor": 0
      },
      "text/plain": [
       "HBox(children=(IntProgress(value=0, max=33), HTML(value='')))"
      ]
     },
     "metadata": {},
     "output_type": "display_data"
    },
    {
     "name": "stdout",
     "output_type": "stream",
     "text": [
      "\n",
      "fold is 2\n",
      "\n",
      " Calculating fullXmatrix\n"
     ]
    },
    {
     "data": {
      "application/vnd.jupyter.widget-view+json": {
       "model_id": "95dd2c20ecbc447fbd1982a73b5c881d",
       "version_major": 2,
       "version_minor": 0
      },
      "text/plain": [
       "HBox(children=(IntProgress(value=0, max=67), HTML(value='')))"
      ]
     },
     "metadata": {},
     "output_type": "display_data"
    },
    {
     "name": "stdout",
     "output_type": "stream",
     "text": [
      "\n",
      "     pcost       dcost       gap    pres   dres\n",
      " 0: -4.9988e-01 -4.8478e-01  3e+02  2e+01  2e-16\n",
      " 1: -4.9896e-01 -4.5632e-01  5e+00  3e-01  3e-16\n",
      " 2: -2.6649e-01 -5.4183e-02  7e-01  4e-02  6e-16\n",
      " 3: -5.4439e-03 -1.5112e-05  3e-02  2e-03  5e-15\n",
      " 4: -5.4676e-05 -1.5159e-09  3e-04  2e-05  8e-16\n",
      " 5: -5.4677e-07 -1.5159e-13  3e-06  2e-07  9e-16\n",
      " 6: -5.4677e-09 -1.5159e-17  3e-08  2e-09  8e-16\n",
      "Optimal solution found.\n",
      "\n",
      " Calculating prediction values\n"
     ]
    },
    {
     "data": {
      "application/vnd.jupyter.widget-view+json": {
       "model_id": "307ba17e484e4561bec08fc129fbb722",
       "version_major": 2,
       "version_minor": 0
      },
      "text/plain": [
       "HBox(children=(IntProgress(value=0, max=33), HTML(value='')))"
      ]
     },
     "metadata": {},
     "output_type": "display_data"
    },
    {
     "name": "stdout",
     "output_type": "stream",
     "text": [
      "\n",
      "fold is 0\n",
      "\n",
      " Calculating fullXmatrix\n"
     ]
    },
    {
     "data": {
      "application/vnd.jupyter.widget-view+json": {
       "model_id": "69842859d7b34456988834d2e29d7009",
       "version_major": 2,
       "version_minor": 0
      },
      "text/plain": [
       "HBox(children=(IntProgress(value=0, max=66), HTML(value='')))"
      ]
     },
     "metadata": {},
     "output_type": "display_data"
    },
    {
     "name": "stdout",
     "output_type": "stream",
     "text": [
      "\n",
      "     pcost       dcost       gap    pres   dres\n",
      " 0: -4.9988e-01 -4.8487e-01  3e+02  2e+01  2e-16\n",
      " 1: -4.9899e-01 -4.5654e-01  5e+00  3e-01  3e-16\n",
      " 2: -2.6288e-01 -5.0645e-02  6e-01  4e-02  6e-16\n",
      " 3: -2.1110e-03 -2.2531e-06  1e-02  7e-04  8e-15\n",
      " 4: -2.1137e-05 -2.2542e-10  1e-04  7e-06  8e-16\n",
      " 5: -2.1138e-07 -2.2542e-14  1e-06  7e-08  8e-16\n",
      " 6: -2.1138e-09 -2.2542e-18  1e-08  7e-10  8e-16\n",
      "Optimal solution found.\n",
      "\n",
      " Calculating prediction values\n"
     ]
    },
    {
     "data": {
      "application/vnd.jupyter.widget-view+json": {
       "model_id": "0ccc39ee251343778aacb6fa2635a939",
       "version_major": 2,
       "version_minor": 0
      },
      "text/plain": [
       "HBox(children=(IntProgress(value=0, max=34), HTML(value='')))"
      ]
     },
     "metadata": {},
     "output_type": "display_data"
    },
    {
     "name": "stdout",
     "output_type": "stream",
     "text": [
      "\n",
      "fold is 1\n",
      "\n",
      " Calculating fullXmatrix\n"
     ]
    },
    {
     "data": {
      "application/vnd.jupyter.widget-view+json": {
       "model_id": "2ccb0546fa9d4f7dbb6284094b60129d",
       "version_major": 2,
       "version_minor": 0
      },
      "text/plain": [
       "HBox(children=(IntProgress(value=0, max=67), HTML(value='')))"
      ]
     },
     "metadata": {},
     "output_type": "display_data"
    },
    {
     "name": "stdout",
     "output_type": "stream",
     "text": [
      "\n",
      "     pcost       dcost       gap    pres   dres\n",
      " 0: -4.9988e-01 -4.8494e-01  3e+02  2e+01  2e-16\n",
      " 1: -4.9900e-01 -4.5674e-01  5e+00  3e-01  3e-16\n",
      " 2: -2.5740e-01 -4.8961e-02  6e-01  4e-02  6e-16\n",
      " 3: -4.3659e-03 -9.9471e-06  2e-02  1e-03  8e-15\n",
      " 4: -4.3786e-05 -9.9591e-10  2e-04  1e-05  9e-16\n",
      " 5: -4.3787e-07 -9.9591e-14  2e-06  1e-07  9e-16\n",
      " 6: -4.3787e-09 -9.9591e-18  2e-08  1e-09  1e-15\n",
      "Optimal solution found.\n",
      "\n",
      " Calculating prediction values\n"
     ]
    },
    {
     "data": {
      "application/vnd.jupyter.widget-view+json": {
       "model_id": "d8894da8612c44e2b0127dd367a18646",
       "version_major": 2,
       "version_minor": 0
      },
      "text/plain": [
       "HBox(children=(IntProgress(value=0, max=33), HTML(value='')))"
      ]
     },
     "metadata": {},
     "output_type": "display_data"
    },
    {
     "name": "stdout",
     "output_type": "stream",
     "text": [
      "\n",
      "fold is 2\n",
      "\n",
      " Calculating fullXmatrix\n"
     ]
    },
    {
     "data": {
      "application/vnd.jupyter.widget-view+json": {
       "model_id": "08c3225378424e788c13857a8c4a28a7",
       "version_major": 2,
       "version_minor": 0
      },
      "text/plain": [
       "HBox(children=(IntProgress(value=0, max=67), HTML(value='')))"
      ]
     },
     "metadata": {},
     "output_type": "display_data"
    },
    {
     "name": "stdout",
     "output_type": "stream",
     "text": [
      "\n",
      "     pcost       dcost       gap    pres   dres\n",
      " 0: -4.9988e-01 -4.8478e-01  3e+02  2e+01  2e-16\n",
      " 1: -4.9896e-01 -4.5632e-01  5e+00  3e-01  3e-16\n",
      " 2: -2.6649e-01 -5.4183e-02  7e-01  4e-02  6e-16\n",
      " 3: -5.4439e-03 -1.5112e-05  3e-02  2e-03  5e-15\n",
      " 4: -5.4676e-05 -1.5159e-09  3e-04  2e-05  8e-16\n",
      " 5: -5.4677e-07 -1.5159e-13  3e-06  2e-07  9e-16\n",
      " 6: -5.4677e-09 -1.5159e-17  3e-08  2e-09  8e-16\n",
      "Optimal solution found.\n",
      "\n",
      " Calculating prediction values\n"
     ]
    },
    {
     "data": {
      "application/vnd.jupyter.widget-view+json": {
       "model_id": "7738a66187be42f09e6ac7c777fcf631",
       "version_major": 2,
       "version_minor": 0
      },
      "text/plain": [
       "HBox(children=(IntProgress(value=0, max=33), HTML(value='')))"
      ]
     },
     "metadata": {},
     "output_type": "display_data"
    },
    {
     "name": "stdout",
     "output_type": "stream",
     "text": [
      "\n",
      "fold is 0\n",
      "\n",
      " Calculating fullXmatrix\n"
     ]
    },
    {
     "data": {
      "application/vnd.jupyter.widget-view+json": {
       "model_id": "13eb92f9842c42b8a6d0be5251d60dee",
       "version_major": 2,
       "version_minor": 0
      },
      "text/plain": [
       "HBox(children=(IntProgress(value=0, max=66), HTML(value='')))"
      ]
     },
     "metadata": {},
     "output_type": "display_data"
    },
    {
     "name": "stdout",
     "output_type": "stream",
     "text": [
      "\n",
      "     pcost       dcost       gap    pres   dres\n",
      " 0: -4.9988e-01 -4.8487e-01  3e+02  2e+01  2e-16\n",
      " 1: -4.9899e-01 -4.5654e-01  5e+00  3e-01  3e-16\n",
      " 2: -2.6288e-01 -5.0645e-02  6e-01  4e-02  6e-16\n",
      " 3: -2.1110e-03 -2.2531e-06  1e-02  7e-04  8e-15\n",
      " 4: -2.1137e-05 -2.2542e-10  1e-04  7e-06  8e-16\n",
      " 5: -2.1138e-07 -2.2542e-14  1e-06  7e-08  8e-16\n",
      " 6: -2.1138e-09 -2.2542e-18  1e-08  7e-10  8e-16\n",
      "Optimal solution found.\n",
      "\n",
      " Calculating prediction values\n"
     ]
    },
    {
     "data": {
      "application/vnd.jupyter.widget-view+json": {
       "model_id": "7da0bb2113af44cf8d17eaa747c96ef0",
       "version_major": 2,
       "version_minor": 0
      },
      "text/plain": [
       "HBox(children=(IntProgress(value=0, max=34), HTML(value='')))"
      ]
     },
     "metadata": {},
     "output_type": "display_data"
    },
    {
     "name": "stdout",
     "output_type": "stream",
     "text": [
      "\n",
      "fold is 1\n",
      "\n",
      " Calculating fullXmatrix\n"
     ]
    },
    {
     "data": {
      "application/vnd.jupyter.widget-view+json": {
       "model_id": "2777f49c50c741589dd4a9510a638ec3",
       "version_major": 2,
       "version_minor": 0
      },
      "text/plain": [
       "HBox(children=(IntProgress(value=0, max=67), HTML(value='')))"
      ]
     },
     "metadata": {},
     "output_type": "display_data"
    },
    {
     "name": "stdout",
     "output_type": "stream",
     "text": [
      "\n",
      "     pcost       dcost       gap    pres   dres\n",
      " 0: -4.9988e-01 -4.8494e-01  3e+02  2e+01  2e-16\n",
      " 1: -4.9900e-01 -4.5674e-01  5e+00  3e-01  3e-16\n",
      " 2: -2.5740e-01 -4.8961e-02  6e-01  4e-02  6e-16\n",
      " 3: -4.3659e-03 -9.9471e-06  2e-02  1e-03  8e-15\n",
      " 4: -4.3786e-05 -9.9591e-10  2e-04  1e-05  9e-16\n",
      " 5: -4.3787e-07 -9.9591e-14  2e-06  1e-07  9e-16\n",
      " 6: -4.3787e-09 -9.9591e-18  2e-08  1e-09  1e-15\n",
      "Optimal solution found.\n",
      "\n",
      " Calculating prediction values\n"
     ]
    },
    {
     "data": {
      "application/vnd.jupyter.widget-view+json": {
       "model_id": "6599faa2b93a4015a9f71e2a679fb217",
       "version_major": 2,
       "version_minor": 0
      },
      "text/plain": [
       "HBox(children=(IntProgress(value=0, max=33), HTML(value='')))"
      ]
     },
     "metadata": {},
     "output_type": "display_data"
    },
    {
     "name": "stdout",
     "output_type": "stream",
     "text": [
      "\n",
      "fold is 2\n",
      "\n",
      " Calculating fullXmatrix\n"
     ]
    },
    {
     "data": {
      "application/vnd.jupyter.widget-view+json": {
       "model_id": "53340b63e4b144bcbf88faa025b79410",
       "version_major": 2,
       "version_minor": 0
      },
      "text/plain": [
       "HBox(children=(IntProgress(value=0, max=67), HTML(value='')))"
      ]
     },
     "metadata": {},
     "output_type": "display_data"
    },
    {
     "name": "stdout",
     "output_type": "stream",
     "text": [
      "\n",
      "     pcost       dcost       gap    pres   dres\n",
      " 0: -4.9988e-01 -4.8478e-01  3e+02  2e+01  2e-16\n",
      " 1: -4.9896e-01 -4.5632e-01  5e+00  3e-01  3e-16\n",
      " 2: -2.6649e-01 -5.4183e-02  7e-01  4e-02  6e-16\n",
      " 3: -5.4439e-03 -1.5112e-05  3e-02  2e-03  5e-15\n",
      " 4: -5.4676e-05 -1.5159e-09  3e-04  2e-05  8e-16\n",
      " 5: -5.4677e-07 -1.5159e-13  3e-06  2e-07  9e-16\n",
      " 6: -5.4677e-09 -1.5159e-17  3e-08  2e-09  8e-16\n",
      "Optimal solution found.\n",
      "\n",
      " Calculating prediction values\n"
     ]
    },
    {
     "data": {
      "application/vnd.jupyter.widget-view+json": {
       "model_id": "54e7f2660ab24412b0207416eb4bf5b4",
       "version_major": 2,
       "version_minor": 0
      },
      "text/plain": [
       "HBox(children=(IntProgress(value=0, max=33), HTML(value='')))"
      ]
     },
     "metadata": {},
     "output_type": "display_data"
    },
    {
     "name": "stdout",
     "output_type": "stream",
     "text": [
      "\n",
      "fold is 0\n",
      "\n",
      " Calculating fullXmatrix\n"
     ]
    },
    {
     "data": {
      "application/vnd.jupyter.widget-view+json": {
       "model_id": "729cc00681404d6b963c8824cbabab86",
       "version_major": 2,
       "version_minor": 0
      },
      "text/plain": [
       "HBox(children=(IntProgress(value=0, max=66), HTML(value='')))"
      ]
     },
     "metadata": {},
     "output_type": "display_data"
    },
    {
     "name": "stdout",
     "output_type": "stream",
     "text": [
      "\n",
      "     pcost       dcost       gap    pres   dres\n",
      " 0: -4.9988e-01 -4.8487e-01  3e+02  2e+01  2e-16\n",
      " 1: -4.9899e-01 -4.5654e-01  5e+00  3e-01  3e-16\n",
      " 2: -2.6288e-01 -5.0645e-02  6e-01  4e-02  6e-16\n",
      " 3: -2.1110e-03 -2.2531e-06  1e-02  7e-04  8e-15\n",
      " 4: -2.1137e-05 -2.2542e-10  1e-04  7e-06  8e-16\n",
      " 5: -2.1138e-07 -2.2542e-14  1e-06  7e-08  8e-16\n",
      " 6: -2.1138e-09 -2.2542e-18  1e-08  7e-10  8e-16\n",
      "Optimal solution found.\n",
      "\n",
      " Calculating prediction values\n"
     ]
    },
    {
     "data": {
      "application/vnd.jupyter.widget-view+json": {
       "model_id": "8637d411581c452582cafdfb25f60c2b",
       "version_major": 2,
       "version_minor": 0
      },
      "text/plain": [
       "HBox(children=(IntProgress(value=0, max=34), HTML(value='')))"
      ]
     },
     "metadata": {},
     "output_type": "display_data"
    },
    {
     "name": "stdout",
     "output_type": "stream",
     "text": [
      "\n",
      "fold is 1\n",
      "\n",
      " Calculating fullXmatrix\n"
     ]
    },
    {
     "data": {
      "application/vnd.jupyter.widget-view+json": {
       "model_id": "6b32c18a46d44aea8f8671d2c3f0925c",
       "version_major": 2,
       "version_minor": 0
      },
      "text/plain": [
       "HBox(children=(IntProgress(value=0, max=67), HTML(value='')))"
      ]
     },
     "metadata": {},
     "output_type": "display_data"
    },
    {
     "name": "stdout",
     "output_type": "stream",
     "text": [
      "\n",
      "     pcost       dcost       gap    pres   dres\n",
      " 0: -4.9988e-01 -4.8494e-01  3e+02  2e+01  2e-16\n",
      " 1: -4.9900e-01 -4.5674e-01  5e+00  3e-01  3e-16\n",
      " 2: -2.5740e-01 -4.8961e-02  6e-01  4e-02  6e-16\n",
      " 3: -4.3659e-03 -9.9471e-06  2e-02  1e-03  8e-15\n",
      " 4: -4.3786e-05 -9.9591e-10  2e-04  1e-05  9e-16\n",
      " 5: -4.3787e-07 -9.9591e-14  2e-06  1e-07  9e-16\n",
      " 6: -4.3787e-09 -9.9591e-18  2e-08  1e-09  1e-15\n",
      "Optimal solution found.\n",
      "\n",
      " Calculating prediction values\n"
     ]
    },
    {
     "data": {
      "application/vnd.jupyter.widget-view+json": {
       "model_id": "dabab013d34244568433defba04c8cd6",
       "version_major": 2,
       "version_minor": 0
      },
      "text/plain": [
       "HBox(children=(IntProgress(value=0, max=33), HTML(value='')))"
      ]
     },
     "metadata": {},
     "output_type": "display_data"
    },
    {
     "name": "stdout",
     "output_type": "stream",
     "text": [
      "\n",
      "fold is 2\n",
      "\n",
      " Calculating fullXmatrix\n"
     ]
    },
    {
     "data": {
      "application/vnd.jupyter.widget-view+json": {
       "model_id": "8519346f8d8b4717834c6eb3ef9e02c6",
       "version_major": 2,
       "version_minor": 0
      },
      "text/plain": [
       "HBox(children=(IntProgress(value=0, max=67), HTML(value='')))"
      ]
     },
     "metadata": {},
     "output_type": "display_data"
    },
    {
     "name": "stdout",
     "output_type": "stream",
     "text": [
      "\n",
      "     pcost       dcost       gap    pres   dres\n",
      " 0: -4.9988e-01 -4.8478e-01  3e+02  2e+01  2e-16\n",
      " 1: -4.9896e-01 -4.5632e-01  5e+00  3e-01  3e-16\n",
      " 2: -2.6649e-01 -5.4183e-02  7e-01  4e-02  6e-16\n",
      " 3: -5.4439e-03 -1.5112e-05  3e-02  2e-03  5e-15\n",
      " 4: -5.4676e-05 -1.5159e-09  3e-04  2e-05  8e-16\n",
      " 5: -5.4677e-07 -1.5159e-13  3e-06  2e-07  9e-16\n",
      " 6: -5.4677e-09 -1.5159e-17  3e-08  2e-09  8e-16\n",
      "Optimal solution found.\n",
      "\n",
      " Calculating prediction values\n"
     ]
    },
    {
     "data": {
      "application/vnd.jupyter.widget-view+json": {
       "model_id": "7fd26ad3ca894a93bed0e1ad184128bc",
       "version_major": 2,
       "version_minor": 0
      },
      "text/plain": [
       "HBox(children=(IntProgress(value=0, max=33), HTML(value='')))"
      ]
     },
     "metadata": {},
     "output_type": "display_data"
    },
    {
     "name": "stdout",
     "output_type": "stream",
     "text": [
      "\n",
      "fold is 0\n",
      "\n",
      " Calculating fullXmatrix\n"
     ]
    },
    {
     "data": {
      "application/vnd.jupyter.widget-view+json": {
       "model_id": "7d5f65d7679c44bd9cbdd32e1fadad96",
       "version_major": 2,
       "version_minor": 0
      },
      "text/plain": [
       "HBox(children=(IntProgress(value=0, max=66), HTML(value='')))"
      ]
     },
     "metadata": {},
     "output_type": "display_data"
    },
    {
     "name": "stdout",
     "output_type": "stream",
     "text": [
      "\n",
      "     pcost       dcost       gap    pres   dres\n",
      " 0:  1.2109e+03 -8.5121e+03  1e+04  5e-17  1e-14\n",
      " 1:  1.7461e+02 -2.6971e+02  4e+02  2e-16  2e-14\n",
      " 2:  2.2413e+01 -3.2175e+01  5e+01  2e-16  8e-15\n",
      " 3:  2.0943e+00 -5.7501e+00  8e+00  2e-16  3e-15\n",
      " 4: -3.0937e-01 -1.3561e+00  1e+00  2e-16  1e-15\n",
      " 5: -4.9657e-01 -5.8994e-01  9e-02  2e-16  3e-16\n",
      " 6: -5.0000e-01 -5.0141e-01  1e-03  2e-16  2e-16\n",
      " 7: -5.0000e-01 -5.0001e-01  1e-05  2e-16  2e-16\n",
      " 8: -5.0000e-01 -5.0000e-01  1e-07  2e-16  2e-16\n",
      "Optimal solution found.\n",
      "\n",
      " Calculating prediction values\n"
     ]
    },
    {
     "data": {
      "application/vnd.jupyter.widget-view+json": {
       "model_id": "a3bac171371a434e8652148595e9e278",
       "version_major": 2,
       "version_minor": 0
      },
      "text/plain": [
       "HBox(children=(IntProgress(value=0, max=34), HTML(value='')))"
      ]
     },
     "metadata": {},
     "output_type": "display_data"
    },
    {
     "name": "stdout",
     "output_type": "stream",
     "text": [
      "\n",
      "fold is 1\n",
      "\n",
      " Calculating fullXmatrix\n"
     ]
    },
    {
     "data": {
      "application/vnd.jupyter.widget-view+json": {
       "model_id": "b6844c9e4b5341da97ac917733b5b57d",
       "version_major": 2,
       "version_minor": 0
      },
      "text/plain": [
       "HBox(children=(IntProgress(value=0, max=67), HTML(value='')))"
      ]
     },
     "metadata": {},
     "output_type": "display_data"
    },
    {
     "name": "stdout",
     "output_type": "stream",
     "text": [
      "\n",
      "     pcost       dcost       gap    pres   dres\n",
      " 0:  1.2111e+03 -9.5185e+03  1e+04  4e-17  1e-14\n",
      " 1:  1.7505e+02 -2.8013e+02  5e+02  2e-16  2e-14\n",
      " 2:  2.2459e+01 -3.2144e+01  5e+01  2e-16  9e-15\n",
      " 3:  2.1004e+00 -5.7608e+00  8e+00  2e-16  3e-15\n",
      " 4: -3.0878e-01 -1.3577e+00  1e+00  2e-16  1e-15\n",
      " 5: -4.9655e-01 -5.9020e-01  9e-02  2e-16  3e-16\n",
      " 6: -5.0000e-01 -5.0141e-01  1e-03  2e-16  2e-16\n",
      " 7: -5.0000e-01 -5.0001e-01  1e-05  2e-16  2e-16\n",
      " 8: -5.0000e-01 -5.0000e-01  1e-07  2e-16  2e-16\n",
      "Optimal solution found.\n",
      "\n",
      " Calculating prediction values\n"
     ]
    },
    {
     "data": {
      "application/vnd.jupyter.widget-view+json": {
       "model_id": "d897a590986d4332a626b989eebb6e06",
       "version_major": 2,
       "version_minor": 0
      },
      "text/plain": [
       "HBox(children=(IntProgress(value=0, max=33), HTML(value='')))"
      ]
     },
     "metadata": {},
     "output_type": "display_data"
    },
    {
     "name": "stdout",
     "output_type": "stream",
     "text": [
      "\n",
      "fold is 2\n",
      "\n",
      " Calculating fullXmatrix\n"
     ]
    },
    {
     "data": {
      "application/vnd.jupyter.widget-view+json": {
       "model_id": "088abecc5269450d9d3c00088633043f",
       "version_major": 2,
       "version_minor": 0
      },
      "text/plain": [
       "HBox(children=(IntProgress(value=0, max=67), HTML(value='')))"
      ]
     },
     "metadata": {},
     "output_type": "display_data"
    },
    {
     "name": "stdout",
     "output_type": "stream",
     "text": [
      "\n",
      "     pcost       dcost       gap    pres   dres\n",
      " 0:  1.2107e+03 -9.6528e+03  1e+04  4e-17  1e-14\n",
      " 1:  1.7513e+02 -2.8237e+02  5e+02  2e-16  2e-14\n",
      " 2:  2.2468e+01 -3.2138e+01  5e+01  2e-16  8e-15\n",
      " 3:  2.1015e+00 -5.7629e+00  8e+00  2e-16  3e-15\n",
      " 4: -3.0867e-01 -1.3580e+00  1e+00  2e-16  9e-16\n",
      " 5: -4.9654e-01 -5.9025e-01  9e-02  2e-16  3e-16\n",
      " 6: -5.0000e-01 -5.0142e-01  1e-03  2e-16  2e-16\n",
      " 7: -5.0000e-01 -5.0001e-01  1e-05  2e-16  2e-16\n",
      " 8: -5.0000e-01 -5.0000e-01  1e-07  2e-16  2e-16\n",
      "Optimal solution found.\n",
      "\n",
      " Calculating prediction values\n"
     ]
    },
    {
     "data": {
      "application/vnd.jupyter.widget-view+json": {
       "model_id": "28cd1e0538444f64b90b939ace088adc",
       "version_major": 2,
       "version_minor": 0
      },
      "text/plain": [
       "HBox(children=(IntProgress(value=0, max=33), HTML(value='')))"
      ]
     },
     "metadata": {},
     "output_type": "display_data"
    },
    {
     "name": "stdout",
     "output_type": "stream",
     "text": [
      "\n",
      "fold is 0\n",
      "\n",
      " Calculating fullXmatrix\n"
     ]
    },
    {
     "data": {
      "application/vnd.jupyter.widget-view+json": {
       "model_id": "ad7302dd1ef940488d585c4676ca4cb8",
       "version_major": 2,
       "version_minor": 0
      },
      "text/plain": [
       "HBox(children=(IntProgress(value=0, max=66), HTML(value='')))"
      ]
     },
     "metadata": {},
     "output_type": "display_data"
    },
    {
     "name": "stdout",
     "output_type": "stream",
     "text": [
      "\n",
      "     pcost       dcost       gap    pres   dres\n",
      " 0:  1.2109e+03 -8.5121e+03  1e+04  5e-17  1e-14\n",
      " 1:  1.7461e+02 -2.6971e+02  4e+02  2e-16  2e-14\n",
      " 2:  2.2413e+01 -3.2175e+01  5e+01  2e-16  8e-15\n",
      " 3:  2.0943e+00 -5.7501e+00  8e+00  2e-16  3e-15\n",
      " 4: -3.0937e-01 -1.3561e+00  1e+00  2e-16  1e-15\n",
      " 5: -4.9657e-01 -5.8994e-01  9e-02  2e-16  3e-16\n",
      " 6: -5.0000e-01 -5.0141e-01  1e-03  2e-16  2e-16\n",
      " 7: -5.0000e-01 -5.0001e-01  1e-05  2e-16  2e-16\n",
      " 8: -5.0000e-01 -5.0000e-01  1e-07  2e-16  2e-16\n",
      "Optimal solution found.\n",
      "\n",
      " Calculating prediction values\n"
     ]
    },
    {
     "data": {
      "application/vnd.jupyter.widget-view+json": {
       "model_id": "a1132313c5e1473c92610301ba08c6ff",
       "version_major": 2,
       "version_minor": 0
      },
      "text/plain": [
       "HBox(children=(IntProgress(value=0, max=34), HTML(value='')))"
      ]
     },
     "metadata": {},
     "output_type": "display_data"
    },
    {
     "name": "stdout",
     "output_type": "stream",
     "text": [
      "\n",
      "fold is 1\n",
      "\n",
      " Calculating fullXmatrix\n"
     ]
    },
    {
     "data": {
      "application/vnd.jupyter.widget-view+json": {
       "model_id": "1db4bf96060946eba09247e22b54e1e9",
       "version_major": 2,
       "version_minor": 0
      },
      "text/plain": [
       "HBox(children=(IntProgress(value=0, max=67), HTML(value='')))"
      ]
     },
     "metadata": {},
     "output_type": "display_data"
    },
    {
     "name": "stdout",
     "output_type": "stream",
     "text": [
      "\n",
      "     pcost       dcost       gap    pres   dres\n",
      " 0:  1.2111e+03 -9.5185e+03  1e+04  4e-17  1e-14\n",
      " 1:  1.7505e+02 -2.8013e+02  5e+02  2e-16  2e-14\n",
      " 2:  2.2459e+01 -3.2144e+01  5e+01  2e-16  9e-15\n",
      " 3:  2.1004e+00 -5.7608e+00  8e+00  2e-16  3e-15\n",
      " 4: -3.0878e-01 -1.3577e+00  1e+00  2e-16  1e-15\n",
      " 5: -4.9655e-01 -5.9020e-01  9e-02  2e-16  3e-16\n",
      " 6: -5.0000e-01 -5.0141e-01  1e-03  2e-16  2e-16\n",
      " 7: -5.0000e-01 -5.0001e-01  1e-05  2e-16  2e-16\n",
      " 8: -5.0000e-01 -5.0000e-01  1e-07  2e-16  2e-16\n",
      "Optimal solution found.\n",
      "\n",
      " Calculating prediction values\n"
     ]
    },
    {
     "data": {
      "application/vnd.jupyter.widget-view+json": {
       "model_id": "c5d39cd01dad45829f70fabb72dc175f",
       "version_major": 2,
       "version_minor": 0
      },
      "text/plain": [
       "HBox(children=(IntProgress(value=0, max=33), HTML(value='')))"
      ]
     },
     "metadata": {},
     "output_type": "display_data"
    },
    {
     "name": "stdout",
     "output_type": "stream",
     "text": [
      "\n",
      "fold is 2\n",
      "\n",
      " Calculating fullXmatrix\n"
     ]
    },
    {
     "data": {
      "application/vnd.jupyter.widget-view+json": {
       "model_id": "c1509d011f204bf680ef8587bcad890d",
       "version_major": 2,
       "version_minor": 0
      },
      "text/plain": [
       "HBox(children=(IntProgress(value=0, max=67), HTML(value='')))"
      ]
     },
     "metadata": {},
     "output_type": "display_data"
    },
    {
     "name": "stdout",
     "output_type": "stream",
     "text": [
      "\n",
      "     pcost       dcost       gap    pres   dres\n",
      " 0:  1.2107e+03 -9.6528e+03  1e+04  4e-17  1e-14\n",
      " 1:  1.7513e+02 -2.8237e+02  5e+02  2e-16  2e-14\n",
      " 2:  2.2468e+01 -3.2138e+01  5e+01  2e-16  8e-15\n",
      " 3:  2.1015e+00 -5.7629e+00  8e+00  2e-16  3e-15\n",
      " 4: -3.0867e-01 -1.3580e+00  1e+00  2e-16  9e-16\n",
      " 5: -4.9654e-01 -5.9025e-01  9e-02  2e-16  3e-16\n",
      " 6: -5.0000e-01 -5.0142e-01  1e-03  2e-16  2e-16\n",
      " 7: -5.0000e-01 -5.0001e-01  1e-05  2e-16  2e-16\n",
      " 8: -5.0000e-01 -5.0000e-01  1e-07  2e-16  2e-16\n",
      "Optimal solution found.\n",
      "\n",
      " Calculating prediction values\n"
     ]
    },
    {
     "data": {
      "application/vnd.jupyter.widget-view+json": {
       "model_id": "679dfc26e9314958b583870fd496dbd6",
       "version_major": 2,
       "version_minor": 0
      },
      "text/plain": [
       "HBox(children=(IntProgress(value=0, max=33), HTML(value='')))"
      ]
     },
     "metadata": {},
     "output_type": "display_data"
    },
    {
     "name": "stdout",
     "output_type": "stream",
     "text": [
      "\n",
      "fold is 0\n",
      "\n",
      " Calculating fullXmatrix\n"
     ]
    },
    {
     "data": {
      "application/vnd.jupyter.widget-view+json": {
       "model_id": "61483a4b948d4d01a7770bd3377dd7bb",
       "version_major": 2,
       "version_minor": 0
      },
      "text/plain": [
       "HBox(children=(IntProgress(value=0, max=66), HTML(value='')))"
      ]
     },
     "metadata": {},
     "output_type": "display_data"
    },
    {
     "name": "stdout",
     "output_type": "stream",
     "text": [
      "\n",
      "     pcost       dcost       gap    pres   dres\n",
      " 0:  1.2109e+03 -8.5121e+03  1e+04  5e-17  1e-14\n",
      " 1:  1.7461e+02 -2.6971e+02  4e+02  2e-16  2e-14\n",
      " 2:  2.2413e+01 -3.2175e+01  5e+01  2e-16  8e-15\n",
      " 3:  2.0943e+00 -5.7501e+00  8e+00  2e-16  3e-15\n",
      " 4: -3.0937e-01 -1.3561e+00  1e+00  2e-16  1e-15\n",
      " 5: -4.9657e-01 -5.8994e-01  9e-02  2e-16  3e-16\n",
      " 6: -5.0000e-01 -5.0141e-01  1e-03  2e-16  2e-16\n",
      " 7: -5.0000e-01 -5.0001e-01  1e-05  2e-16  2e-16\n",
      " 8: -5.0000e-01 -5.0000e-01  1e-07  2e-16  2e-16\n",
      "Optimal solution found.\n",
      "\n",
      " Calculating prediction values\n"
     ]
    },
    {
     "data": {
      "application/vnd.jupyter.widget-view+json": {
       "model_id": "52a23f6170724f2b9547732eb0511ced",
       "version_major": 2,
       "version_minor": 0
      },
      "text/plain": [
       "HBox(children=(IntProgress(value=0, max=34), HTML(value='')))"
      ]
     },
     "metadata": {},
     "output_type": "display_data"
    },
    {
     "name": "stdout",
     "output_type": "stream",
     "text": [
      "\n",
      "fold is 1\n",
      "\n",
      " Calculating fullXmatrix\n"
     ]
    },
    {
     "data": {
      "application/vnd.jupyter.widget-view+json": {
       "model_id": "39ae877640674330ba95cd0a930154cd",
       "version_major": 2,
       "version_minor": 0
      },
      "text/plain": [
       "HBox(children=(IntProgress(value=0, max=67), HTML(value='')))"
      ]
     },
     "metadata": {},
     "output_type": "display_data"
    },
    {
     "name": "stdout",
     "output_type": "stream",
     "text": [
      "\n",
      "     pcost       dcost       gap    pres   dres\n",
      " 0:  1.2111e+03 -9.5185e+03  1e+04  4e-17  1e-14\n",
      " 1:  1.7505e+02 -2.8013e+02  5e+02  2e-16  2e-14\n",
      " 2:  2.2459e+01 -3.2144e+01  5e+01  2e-16  9e-15\n",
      " 3:  2.1004e+00 -5.7608e+00  8e+00  2e-16  3e-15\n",
      " 4: -3.0878e-01 -1.3577e+00  1e+00  2e-16  1e-15\n",
      " 5: -4.9655e-01 -5.9020e-01  9e-02  2e-16  3e-16\n",
      " 6: -5.0000e-01 -5.0141e-01  1e-03  2e-16  2e-16\n",
      " 7: -5.0000e-01 -5.0001e-01  1e-05  2e-16  2e-16\n",
      " 8: -5.0000e-01 -5.0000e-01  1e-07  2e-16  2e-16\n",
      "Optimal solution found.\n",
      "\n",
      " Calculating prediction values\n"
     ]
    },
    {
     "data": {
      "application/vnd.jupyter.widget-view+json": {
       "model_id": "6f807e7a022641ac9b9a5fb8e1989eb2",
       "version_major": 2,
       "version_minor": 0
      },
      "text/plain": [
       "HBox(children=(IntProgress(value=0, max=33), HTML(value='')))"
      ]
     },
     "metadata": {},
     "output_type": "display_data"
    },
    {
     "name": "stdout",
     "output_type": "stream",
     "text": [
      "\n",
      "fold is 2\n",
      "\n",
      " Calculating fullXmatrix\n"
     ]
    },
    {
     "data": {
      "application/vnd.jupyter.widget-view+json": {
       "model_id": "e257285713fb46e8be59d3f24395b57b",
       "version_major": 2,
       "version_minor": 0
      },
      "text/plain": [
       "HBox(children=(IntProgress(value=0, max=67), HTML(value='')))"
      ]
     },
     "metadata": {},
     "output_type": "display_data"
    },
    {
     "name": "stdout",
     "output_type": "stream",
     "text": [
      "\n",
      "     pcost       dcost       gap    pres   dres\n",
      " 0:  1.2107e+03 -9.6528e+03  1e+04  4e-17  1e-14\n",
      " 1:  1.7513e+02 -2.8237e+02  5e+02  2e-16  2e-14\n",
      " 2:  2.2468e+01 -3.2138e+01  5e+01  2e-16  8e-15\n",
      " 3:  2.1015e+00 -5.7629e+00  8e+00  2e-16  3e-15\n",
      " 4: -3.0867e-01 -1.3580e+00  1e+00  2e-16  9e-16\n",
      " 5: -4.9654e-01 -5.9025e-01  9e-02  2e-16  3e-16\n",
      " 6: -5.0000e-01 -5.0142e-01  1e-03  2e-16  2e-16\n",
      " 7: -5.0000e-01 -5.0001e-01  1e-05  2e-16  2e-16\n",
      " 8: -5.0000e-01 -5.0000e-01  1e-07  2e-16  2e-16\n",
      "Optimal solution found.\n",
      "\n",
      " Calculating prediction values\n"
     ]
    },
    {
     "data": {
      "application/vnd.jupyter.widget-view+json": {
       "model_id": "65c06706148a4a6fb47774bed41b27b6",
       "version_major": 2,
       "version_minor": 0
      },
      "text/plain": [
       "HBox(children=(IntProgress(value=0, max=33), HTML(value='')))"
      ]
     },
     "metadata": {},
     "output_type": "display_data"
    },
    {
     "name": "stdout",
     "output_type": "stream",
     "text": [
      "\n",
      "fold is 0\n",
      "\n",
      " Calculating fullXmatrix\n"
     ]
    },
    {
     "data": {
      "application/vnd.jupyter.widget-view+json": {
       "model_id": "acb211f8b66a4f6fa1d616b5e4bc3d4c",
       "version_major": 2,
       "version_minor": 0
      },
      "text/plain": [
       "HBox(children=(IntProgress(value=0, max=66), HTML(value='')))"
      ]
     },
     "metadata": {},
     "output_type": "display_data"
    },
    {
     "name": "stdout",
     "output_type": "stream",
     "text": [
      "\n",
      "     pcost       dcost       gap    pres   dres\n",
      " 0:  1.2109e+03 -8.5121e+03  1e+04  5e-17  1e-14\n",
      " 1:  1.7461e+02 -2.6971e+02  4e+02  2e-16  2e-14\n",
      " 2:  2.2413e+01 -3.2175e+01  5e+01  2e-16  8e-15\n",
      " 3:  2.0943e+00 -5.7501e+00  8e+00  2e-16  3e-15\n",
      " 4: -3.0937e-01 -1.3561e+00  1e+00  2e-16  1e-15\n",
      " 5: -4.9657e-01 -5.8994e-01  9e-02  2e-16  3e-16\n",
      " 6: -5.0000e-01 -5.0141e-01  1e-03  2e-16  2e-16\n",
      " 7: -5.0000e-01 -5.0001e-01  1e-05  2e-16  2e-16\n",
      " 8: -5.0000e-01 -5.0000e-01  1e-07  2e-16  2e-16\n",
      "Optimal solution found.\n",
      "\n",
      " Calculating prediction values\n"
     ]
    },
    {
     "data": {
      "application/vnd.jupyter.widget-view+json": {
       "model_id": "bc94741412684fb2a37b27d6badd6f84",
       "version_major": 2,
       "version_minor": 0
      },
      "text/plain": [
       "HBox(children=(IntProgress(value=0, max=34), HTML(value='')))"
      ]
     },
     "metadata": {},
     "output_type": "display_data"
    },
    {
     "name": "stdout",
     "output_type": "stream",
     "text": [
      "\n",
      "fold is 1\n",
      "\n",
      " Calculating fullXmatrix\n"
     ]
    },
    {
     "data": {
      "application/vnd.jupyter.widget-view+json": {
       "model_id": "2d15c5f3235647bfb7eb48be13c5bb9e",
       "version_major": 2,
       "version_minor": 0
      },
      "text/plain": [
       "HBox(children=(IntProgress(value=0, max=67), HTML(value='')))"
      ]
     },
     "metadata": {},
     "output_type": "display_data"
    },
    {
     "name": "stdout",
     "output_type": "stream",
     "text": [
      "\n",
      "     pcost       dcost       gap    pres   dres\n",
      " 0:  1.2111e+03 -9.5185e+03  1e+04  4e-17  1e-14\n",
      " 1:  1.7505e+02 -2.8013e+02  5e+02  2e-16  2e-14\n",
      " 2:  2.2459e+01 -3.2144e+01  5e+01  2e-16  9e-15\n",
      " 3:  2.1004e+00 -5.7608e+00  8e+00  2e-16  3e-15\n",
      " 4: -3.0878e-01 -1.3577e+00  1e+00  2e-16  1e-15\n",
      " 5: -4.9655e-01 -5.9020e-01  9e-02  2e-16  3e-16\n",
      " 6: -5.0000e-01 -5.0141e-01  1e-03  2e-16  2e-16\n",
      " 7: -5.0000e-01 -5.0001e-01  1e-05  2e-16  2e-16\n",
      " 8: -5.0000e-01 -5.0000e-01  1e-07  2e-16  2e-16\n",
      "Optimal solution found.\n",
      "\n",
      " Calculating prediction values\n"
     ]
    },
    {
     "data": {
      "application/vnd.jupyter.widget-view+json": {
       "model_id": "d86450d2f6aa42e0a46e4a93711fd69d",
       "version_major": 2,
       "version_minor": 0
      },
      "text/plain": [
       "HBox(children=(IntProgress(value=0, max=33), HTML(value='')))"
      ]
     },
     "metadata": {},
     "output_type": "display_data"
    },
    {
     "name": "stdout",
     "output_type": "stream",
     "text": [
      "\n",
      "fold is 2\n",
      "\n",
      " Calculating fullXmatrix\n"
     ]
    },
    {
     "data": {
      "application/vnd.jupyter.widget-view+json": {
       "model_id": "45b375acf6c5435e9dbf91e8589f1736",
       "version_major": 2,
       "version_minor": 0
      },
      "text/plain": [
       "HBox(children=(IntProgress(value=0, max=67), HTML(value='')))"
      ]
     },
     "metadata": {},
     "output_type": "display_data"
    },
    {
     "name": "stdout",
     "output_type": "stream",
     "text": [
      "\n",
      "     pcost       dcost       gap    pres   dres\n",
      " 0:  1.2107e+03 -9.6528e+03  1e+04  4e-17  1e-14\n",
      " 1:  1.7513e+02 -2.8237e+02  5e+02  2e-16  2e-14\n",
      " 2:  2.2468e+01 -3.2138e+01  5e+01  2e-16  8e-15\n",
      " 3:  2.1015e+00 -5.7629e+00  8e+00  2e-16  3e-15\n",
      " 4: -3.0867e-01 -1.3580e+00  1e+00  2e-16  9e-16\n",
      " 5: -4.9654e-01 -5.9025e-01  9e-02  2e-16  3e-16\n",
      " 6: -5.0000e-01 -5.0142e-01  1e-03  2e-16  2e-16\n",
      " 7: -5.0000e-01 -5.0001e-01  1e-05  2e-16  2e-16\n",
      " 8: -5.0000e-01 -5.0000e-01  1e-07  2e-16  2e-16\n",
      "Optimal solution found.\n",
      "\n",
      " Calculating prediction values\n"
     ]
    },
    {
     "data": {
      "application/vnd.jupyter.widget-view+json": {
       "model_id": "fdde352bc808483ea9d77f722093df5b",
       "version_major": 2,
       "version_minor": 0
      },
      "text/plain": [
       "HBox(children=(IntProgress(value=0, max=33), HTML(value='')))"
      ]
     },
     "metadata": {},
     "output_type": "display_data"
    },
    {
     "name": "stdout",
     "output_type": "stream",
     "text": [
      "\n",
      "fold is 0\n",
      "\n",
      " Calculating fullXmatrix\n"
     ]
    },
    {
     "data": {
      "application/vnd.jupyter.widget-view+json": {
       "model_id": "dfeb19ad7cea419b9163f9e7932158c7",
       "version_major": 2,
       "version_minor": 0
      },
      "text/plain": [
       "HBox(children=(IntProgress(value=0, max=66), HTML(value='')))"
      ]
     },
     "metadata": {},
     "output_type": "display_data"
    },
    {
     "name": "stdout",
     "output_type": "stream",
     "text": [
      "\n",
      "     pcost       dcost       gap    pres   dres\n",
      " 0:  1.2109e+03 -8.5121e+03  1e+04  5e-17  1e-14\n",
      " 1:  1.7461e+02 -2.6971e+02  4e+02  2e-16  2e-14\n",
      " 2:  2.2413e+01 -3.2175e+01  5e+01  2e-16  8e-15\n",
      " 3:  2.0943e+00 -5.7501e+00  8e+00  2e-16  3e-15\n",
      " 4: -3.0937e-01 -1.3561e+00  1e+00  2e-16  1e-15\n",
      " 5: -4.9657e-01 -5.8994e-01  9e-02  2e-16  3e-16\n",
      " 6: -5.0000e-01 -5.0141e-01  1e-03  2e-16  2e-16\n",
      " 7: -5.0000e-01 -5.0001e-01  1e-05  2e-16  2e-16\n",
      " 8: -5.0000e-01 -5.0000e-01  1e-07  2e-16  2e-16\n",
      "Optimal solution found.\n",
      "\n",
      " Calculating prediction values\n"
     ]
    },
    {
     "data": {
      "application/vnd.jupyter.widget-view+json": {
       "model_id": "0866e64166014e51b23b228abe5e8f86",
       "version_major": 2,
       "version_minor": 0
      },
      "text/plain": [
       "HBox(children=(IntProgress(value=0, max=34), HTML(value='')))"
      ]
     },
     "metadata": {},
     "output_type": "display_data"
    },
    {
     "name": "stdout",
     "output_type": "stream",
     "text": [
      "\n",
      "fold is 1\n",
      "\n",
      " Calculating fullXmatrix\n"
     ]
    },
    {
     "data": {
      "application/vnd.jupyter.widget-view+json": {
       "model_id": "2173e6b53b1a434ba96c3cef30162a8b",
       "version_major": 2,
       "version_minor": 0
      },
      "text/plain": [
       "HBox(children=(IntProgress(value=0, max=67), HTML(value='')))"
      ]
     },
     "metadata": {},
     "output_type": "display_data"
    },
    {
     "name": "stdout",
     "output_type": "stream",
     "text": [
      "\n",
      "     pcost       dcost       gap    pres   dres\n",
      " 0:  1.2111e+03 -9.5185e+03  1e+04  4e-17  1e-14\n",
      " 1:  1.7505e+02 -2.8013e+02  5e+02  2e-16  2e-14\n",
      " 2:  2.2459e+01 -3.2144e+01  5e+01  2e-16  9e-15\n",
      " 3:  2.1004e+00 -5.7608e+00  8e+00  2e-16  3e-15\n",
      " 4: -3.0878e-01 -1.3577e+00  1e+00  2e-16  1e-15\n",
      " 5: -4.9655e-01 -5.9020e-01  9e-02  2e-16  3e-16\n",
      " 6: -5.0000e-01 -5.0141e-01  1e-03  2e-16  2e-16\n",
      " 7: -5.0000e-01 -5.0001e-01  1e-05  2e-16  2e-16\n",
      " 8: -5.0000e-01 -5.0000e-01  1e-07  2e-16  2e-16\n",
      "Optimal solution found.\n",
      "\n",
      " Calculating prediction values\n"
     ]
    },
    {
     "data": {
      "application/vnd.jupyter.widget-view+json": {
       "model_id": "cb0f280c21ae4e638a4b9fee047581cc",
       "version_major": 2,
       "version_minor": 0
      },
      "text/plain": [
       "HBox(children=(IntProgress(value=0, max=33), HTML(value='')))"
      ]
     },
     "metadata": {},
     "output_type": "display_data"
    },
    {
     "name": "stdout",
     "output_type": "stream",
     "text": [
      "\n",
      "fold is 2\n",
      "\n",
      " Calculating fullXmatrix\n"
     ]
    },
    {
     "data": {
      "application/vnd.jupyter.widget-view+json": {
       "model_id": "6280dba59e12435487712d3da5a2716e",
       "version_major": 2,
       "version_minor": 0
      },
      "text/plain": [
       "HBox(children=(IntProgress(value=0, max=67), HTML(value='')))"
      ]
     },
     "metadata": {},
     "output_type": "display_data"
    },
    {
     "name": "stdout",
     "output_type": "stream",
     "text": [
      "\n",
      "     pcost       dcost       gap    pres   dres\n",
      " 0:  1.2107e+03 -9.6528e+03  1e+04  4e-17  1e-14\n",
      " 1:  1.7513e+02 -2.8237e+02  5e+02  2e-16  2e-14\n",
      " 2:  2.2468e+01 -3.2138e+01  5e+01  2e-16  8e-15\n",
      " 3:  2.1015e+00 -5.7629e+00  8e+00  2e-16  3e-15\n",
      " 4: -3.0867e-01 -1.3580e+00  1e+00  2e-16  9e-16\n",
      " 5: -4.9654e-01 -5.9025e-01  9e-02  2e-16  3e-16\n",
      " 6: -5.0000e-01 -5.0142e-01  1e-03  2e-16  2e-16\n",
      " 7: -5.0000e-01 -5.0001e-01  1e-05  2e-16  2e-16\n",
      " 8: -5.0000e-01 -5.0000e-01  1e-07  2e-16  2e-16\n",
      "Optimal solution found.\n",
      "\n",
      " Calculating prediction values\n"
     ]
    },
    {
     "data": {
      "application/vnd.jupyter.widget-view+json": {
       "model_id": "376e5bceb83348ff969ded97bc49382d",
       "version_major": 2,
       "version_minor": 0
      },
      "text/plain": [
       "HBox(children=(IntProgress(value=0, max=33), HTML(value='')))"
      ]
     },
     "metadata": {},
     "output_type": "display_data"
    },
    {
     "name": "stdout",
     "output_type": "stream",
     "text": [
      "\n",
      "fold is 0\n",
      "\n",
      " Calculating fullXmatrix\n"
     ]
    },
    {
     "data": {
      "application/vnd.jupyter.widget-view+json": {
       "model_id": "204ef58a590c494792f6a6c2fb936733",
       "version_major": 2,
       "version_minor": 0
      },
      "text/plain": [
       "HBox(children=(IntProgress(value=0, max=66), HTML(value='')))"
      ]
     },
     "metadata": {},
     "output_type": "display_data"
    },
    {
     "name": "stdout",
     "output_type": "stream",
     "text": [
      "\n",
      "     pcost       dcost       gap    pres   dres\n",
      " 0:  1.2109e+03 -8.5121e+03  1e+04  5e-17  1e-14\n",
      " 1:  1.7461e+02 -2.6971e+02  4e+02  2e-16  2e-14\n",
      " 2:  2.2413e+01 -3.2175e+01  5e+01  2e-16  8e-15\n",
      " 3:  2.0943e+00 -5.7501e+00  8e+00  2e-16  3e-15\n",
      " 4: -3.0937e-01 -1.3561e+00  1e+00  2e-16  1e-15\n",
      " 5: -4.9657e-01 -5.8994e-01  9e-02  2e-16  3e-16\n",
      " 6: -5.0000e-01 -5.0141e-01  1e-03  2e-16  2e-16\n",
      " 7: -5.0000e-01 -5.0001e-01  1e-05  2e-16  2e-16\n",
      " 8: -5.0000e-01 -5.0000e-01  1e-07  2e-16  2e-16\n",
      "Optimal solution found.\n",
      "\n",
      " Calculating prediction values\n"
     ]
    },
    {
     "data": {
      "application/vnd.jupyter.widget-view+json": {
       "model_id": "7d3a9387ed514974a0a1bd41f121227a",
       "version_major": 2,
       "version_minor": 0
      },
      "text/plain": [
       "HBox(children=(IntProgress(value=0, max=34), HTML(value='')))"
      ]
     },
     "metadata": {},
     "output_type": "display_data"
    },
    {
     "name": "stdout",
     "output_type": "stream",
     "text": [
      "\n",
      "fold is 1\n",
      "\n",
      " Calculating fullXmatrix\n"
     ]
    },
    {
     "data": {
      "application/vnd.jupyter.widget-view+json": {
       "model_id": "def6bd4edb1e4b8e8458ab0e0b5c4838",
       "version_major": 2,
       "version_minor": 0
      },
      "text/plain": [
       "HBox(children=(IntProgress(value=0, max=67), HTML(value='')))"
      ]
     },
     "metadata": {},
     "output_type": "display_data"
    },
    {
     "name": "stdout",
     "output_type": "stream",
     "text": [
      "\n",
      "     pcost       dcost       gap    pres   dres\n",
      " 0:  1.2111e+03 -9.5185e+03  1e+04  4e-17  1e-14\n",
      " 1:  1.7505e+02 -2.8013e+02  5e+02  2e-16  2e-14\n",
      " 2:  2.2459e+01 -3.2144e+01  5e+01  2e-16  9e-15\n",
      " 3:  2.1004e+00 -5.7608e+00  8e+00  2e-16  3e-15\n",
      " 4: -3.0878e-01 -1.3577e+00  1e+00  2e-16  1e-15\n",
      " 5: -4.9655e-01 -5.9020e-01  9e-02  2e-16  3e-16\n",
      " 6: -5.0000e-01 -5.0141e-01  1e-03  2e-16  2e-16\n",
      " 7: -5.0000e-01 -5.0001e-01  1e-05  2e-16  2e-16\n",
      " 8: -5.0000e-01 -5.0000e-01  1e-07  2e-16  2e-16\n",
      "Optimal solution found.\n",
      "\n",
      " Calculating prediction values\n"
     ]
    },
    {
     "data": {
      "application/vnd.jupyter.widget-view+json": {
       "model_id": "f590d4de84674fefb54c562114d94351",
       "version_major": 2,
       "version_minor": 0
      },
      "text/plain": [
       "HBox(children=(IntProgress(value=0, max=33), HTML(value='')))"
      ]
     },
     "metadata": {},
     "output_type": "display_data"
    },
    {
     "name": "stdout",
     "output_type": "stream",
     "text": [
      "\n",
      "fold is 2\n",
      "\n",
      " Calculating fullXmatrix\n"
     ]
    },
    {
     "data": {
      "application/vnd.jupyter.widget-view+json": {
       "model_id": "922060473cb64cd1afb5022946329989",
       "version_major": 2,
       "version_minor": 0
      },
      "text/plain": [
       "HBox(children=(IntProgress(value=0, max=67), HTML(value='')))"
      ]
     },
     "metadata": {},
     "output_type": "display_data"
    },
    {
     "name": "stdout",
     "output_type": "stream",
     "text": [
      "\n",
      "     pcost       dcost       gap    pres   dres\n",
      " 0:  1.2107e+03 -9.6528e+03  1e+04  4e-17  1e-14\n",
      " 1:  1.7513e+02 -2.8237e+02  5e+02  2e-16  2e-14\n",
      " 2:  2.2468e+01 -3.2138e+01  5e+01  2e-16  8e-15\n",
      " 3:  2.1015e+00 -5.7629e+00  8e+00  2e-16  3e-15\n",
      " 4: -3.0867e-01 -1.3580e+00  1e+00  2e-16  9e-16\n",
      " 5: -4.9654e-01 -5.9025e-01  9e-02  2e-16  3e-16\n",
      " 6: -5.0000e-01 -5.0142e-01  1e-03  2e-16  2e-16\n",
      " 7: -5.0000e-01 -5.0001e-01  1e-05  2e-16  2e-16\n",
      " 8: -5.0000e-01 -5.0000e-01  1e-07  2e-16  2e-16\n",
      "Optimal solution found.\n",
      "\n",
      " Calculating prediction values\n"
     ]
    },
    {
     "data": {
      "application/vnd.jupyter.widget-view+json": {
       "model_id": "e6cffc16860d40abbcdd8e72f78d9e22",
       "version_major": 2,
       "version_minor": 0
      },
      "text/plain": [
       "HBox(children=(IntProgress(value=0, max=33), HTML(value='')))"
      ]
     },
     "metadata": {},
     "output_type": "display_data"
    },
    {
     "name": "stdout",
     "output_type": "stream",
     "text": [
      "\n",
      "fold is 0\n",
      "\n",
      " Calculating fullXmatrix\n"
     ]
    },
    {
     "data": {
      "application/vnd.jupyter.widget-view+json": {
       "model_id": "47075fdbff7d41f48efa761383ae53d2",
       "version_major": 2,
       "version_minor": 0
      },
      "text/plain": [
       "HBox(children=(IntProgress(value=0, max=66), HTML(value='')))"
      ]
     },
     "metadata": {},
     "output_type": "display_data"
    },
    {
     "name": "stdout",
     "output_type": "stream",
     "text": [
      "\n",
      "     pcost       dcost       gap    pres   dres\n",
      " 0:  1.2109e+03 -8.5121e+03  1e+04  5e-17  1e-14\n",
      " 1:  1.7461e+02 -2.6971e+02  4e+02  2e-16  2e-14\n",
      " 2:  2.2413e+01 -3.2175e+01  5e+01  2e-16  8e-15\n",
      " 3:  2.0943e+00 -5.7501e+00  8e+00  2e-16  3e-15\n",
      " 4: -3.0937e-01 -1.3561e+00  1e+00  2e-16  1e-15\n",
      " 5: -4.9657e-01 -5.8994e-01  9e-02  2e-16  3e-16\n",
      " 6: -5.0000e-01 -5.0141e-01  1e-03  2e-16  2e-16\n",
      " 7: -5.0000e-01 -5.0001e-01  1e-05  2e-16  2e-16\n",
      " 8: -5.0000e-01 -5.0000e-01  1e-07  2e-16  2e-16\n",
      "Optimal solution found.\n",
      "\n",
      " Calculating prediction values\n"
     ]
    },
    {
     "data": {
      "application/vnd.jupyter.widget-view+json": {
       "model_id": "ce11d7b28013499cb10279f72499dadd",
       "version_major": 2,
       "version_minor": 0
      },
      "text/plain": [
       "HBox(children=(IntProgress(value=0, max=34), HTML(value='')))"
      ]
     },
     "metadata": {},
     "output_type": "display_data"
    },
    {
     "name": "stdout",
     "output_type": "stream",
     "text": [
      "\n",
      "fold is 1\n",
      "\n",
      " Calculating fullXmatrix\n"
     ]
    },
    {
     "data": {
      "application/vnd.jupyter.widget-view+json": {
       "model_id": "e5832e5eb7a943629d970798912588f6",
       "version_major": 2,
       "version_minor": 0
      },
      "text/plain": [
       "HBox(children=(IntProgress(value=0, max=67), HTML(value='')))"
      ]
     },
     "metadata": {},
     "output_type": "display_data"
    },
    {
     "name": "stdout",
     "output_type": "stream",
     "text": [
      "\n",
      "     pcost       dcost       gap    pres   dres\n",
      " 0:  1.2111e+03 -9.5185e+03  1e+04  4e-17  1e-14\n",
      " 1:  1.7505e+02 -2.8013e+02  5e+02  2e-16  2e-14\n",
      " 2:  2.2459e+01 -3.2144e+01  5e+01  2e-16  9e-15\n",
      " 3:  2.1004e+00 -5.7608e+00  8e+00  2e-16  3e-15\n",
      " 4: -3.0878e-01 -1.3577e+00  1e+00  2e-16  1e-15\n",
      " 5: -4.9655e-01 -5.9020e-01  9e-02  2e-16  3e-16\n",
      " 6: -5.0000e-01 -5.0141e-01  1e-03  2e-16  2e-16\n",
      " 7: -5.0000e-01 -5.0001e-01  1e-05  2e-16  2e-16\n",
      " 8: -5.0000e-01 -5.0000e-01  1e-07  2e-16  2e-16\n",
      "Optimal solution found.\n",
      "\n",
      " Calculating prediction values\n"
     ]
    },
    {
     "data": {
      "application/vnd.jupyter.widget-view+json": {
       "model_id": "a21109bee0704e35ad2c4dedbb611b71",
       "version_major": 2,
       "version_minor": 0
      },
      "text/plain": [
       "HBox(children=(IntProgress(value=0, max=33), HTML(value='')))"
      ]
     },
     "metadata": {},
     "output_type": "display_data"
    },
    {
     "name": "stdout",
     "output_type": "stream",
     "text": [
      "\n",
      "fold is 2\n",
      "\n",
      " Calculating fullXmatrix\n"
     ]
    },
    {
     "data": {
      "application/vnd.jupyter.widget-view+json": {
       "model_id": "32b0da421c764e078cf55189cea8e142",
       "version_major": 2,
       "version_minor": 0
      },
      "text/plain": [
       "HBox(children=(IntProgress(value=0, max=67), HTML(value='')))"
      ]
     },
     "metadata": {},
     "output_type": "display_data"
    },
    {
     "name": "stdout",
     "output_type": "stream",
     "text": [
      "\n",
      "     pcost       dcost       gap    pres   dres\n",
      " 0:  1.2107e+03 -9.6528e+03  1e+04  4e-17  1e-14\n",
      " 1:  1.7513e+02 -2.8237e+02  5e+02  2e-16  2e-14\n",
      " 2:  2.2468e+01 -3.2138e+01  5e+01  2e-16  8e-15\n",
      " 3:  2.1015e+00 -5.7629e+00  8e+00  2e-16  3e-15\n",
      " 4: -3.0867e-01 -1.3580e+00  1e+00  2e-16  9e-16\n",
      " 5: -4.9654e-01 -5.9025e-01  9e-02  2e-16  3e-16\n",
      " 6: -5.0000e-01 -5.0142e-01  1e-03  2e-16  2e-16\n",
      " 7: -5.0000e-01 -5.0001e-01  1e-05  2e-16  2e-16\n",
      " 8: -5.0000e-01 -5.0000e-01  1e-07  2e-16  2e-16\n",
      "Optimal solution found.\n",
      "\n",
      " Calculating prediction values\n"
     ]
    },
    {
     "data": {
      "application/vnd.jupyter.widget-view+json": {
       "model_id": "b6f148e5b98d45c79d6fbacc4d1828f0",
       "version_major": 2,
       "version_minor": 0
      },
      "text/plain": [
       "HBox(children=(IntProgress(value=0, max=33), HTML(value='')))"
      ]
     },
     "metadata": {},
     "output_type": "display_data"
    },
    {
     "name": "stdout",
     "output_type": "stream",
     "text": [
      "\n",
      "fold is 0\n",
      "\n",
      " Calculating fullXmatrix\n"
     ]
    },
    {
     "data": {
      "application/vnd.jupyter.widget-view+json": {
       "model_id": "944e9f5ce4854e03846e3d0397d11f1d",
       "version_major": 2,
       "version_minor": 0
      },
      "text/plain": [
       "HBox(children=(IntProgress(value=0, max=66), HTML(value='')))"
      ]
     },
     "metadata": {},
     "output_type": "display_data"
    },
    {
     "name": "stdout",
     "output_type": "stream",
     "text": [
      "\n",
      "     pcost       dcost       gap    pres   dres\n",
      " 0:  4.8467e+03 -2.0724e+04  3e+04  4e-17  2e-14\n",
      " 1:  7.0478e+02 -9.0934e+02  2e+03  2e-16  4e-14\n",
      " 2:  9.6101e+01 -1.2020e+02  2e+02  2e-16  2e-14\n",
      " 3:  1.1823e+01 -1.9274e+01  3e+01  2e-16  6e-15\n",
      " 4:  7.8359e-01 -3.5907e+00  4e+00  2e-16  2e-15\n",
      " 5: -4.2680e-01 -9.8066e-01  6e-01  2e-16  6e-16\n",
      " 6: -4.9946e-01 -5.3444e-01  3e-02  2e-16  2e-16\n",
      " 7: -5.0000e-01 -5.0039e-01  4e-04  2e-16  2e-16\n",
      " 8: -5.0000e-01 -5.0000e-01  4e-06  2e-16  2e-16\n",
      " 9: -5.0000e-01 -5.0000e-01  4e-08  2e-16  2e-16\n",
      "Optimal solution found.\n",
      "\n",
      " Calculating prediction values\n"
     ]
    },
    {
     "data": {
      "application/vnd.jupyter.widget-view+json": {
       "model_id": "5c053bcc686244b58927602ec4035aa4",
       "version_major": 2,
       "version_minor": 0
      },
      "text/plain": [
       "HBox(children=(IntProgress(value=0, max=34), HTML(value='')))"
      ]
     },
     "metadata": {},
     "output_type": "display_data"
    },
    {
     "name": "stdout",
     "output_type": "stream",
     "text": [
      "\n",
      "fold is 1\n",
      "\n",
      " Calculating fullXmatrix\n"
     ]
    },
    {
     "data": {
      "application/vnd.jupyter.widget-view+json": {
       "model_id": "e6be217c4f234cf9beacc75e79fe7469",
       "version_major": 2,
       "version_minor": 0
      },
      "text/plain": [
       "HBox(children=(IntProgress(value=0, max=67), HTML(value='')))"
      ]
     },
     "metadata": {},
     "output_type": "display_data"
    },
    {
     "name": "stdout",
     "output_type": "stream",
     "text": [
      "\n",
      "     pcost       dcost       gap    pres   dres\n",
      " 0:  4.8474e+03 -2.4514e+04  3e+04  4e-17  2e-14\n",
      " 1:  7.0659e+02 -9.4840e+02  2e+03  2e-16  4e-14\n",
      " 2:  9.6287e+01 -1.2000e+02  2e+02  2e-16  2e-14\n",
      " 3:  1.1849e+01 -1.9313e+01  3e+01  2e-16  7e-15\n",
      " 4:  7.8671e-01 -3.5961e+00  4e+00  2e-16  2e-15\n",
      " 5: -4.2655e-01 -9.8162e-01  6e-01  2e-16  7e-16\n",
      " 6: -4.9946e-01 -5.3457e-01  4e-02  2e-16  2e-16\n",
      " 7: -5.0000e-01 -5.0039e-01  4e-04  2e-16  2e-16\n",
      " 8: -5.0000e-01 -5.0000e-01  4e-06  2e-16  2e-16\n",
      " 9: -5.0000e-01 -5.0000e-01  4e-08  2e-16  2e-16\n",
      "Optimal solution found.\n",
      "\n",
      " Calculating prediction values\n"
     ]
    },
    {
     "data": {
      "application/vnd.jupyter.widget-view+json": {
       "model_id": "fbd0231757f04abba0a231ef2989bd7f",
       "version_major": 2,
       "version_minor": 0
      },
      "text/plain": [
       "HBox(children=(IntProgress(value=0, max=33), HTML(value='')))"
      ]
     },
     "metadata": {},
     "output_type": "display_data"
    },
    {
     "name": "stdout",
     "output_type": "stream",
     "text": [
      "\n",
      "fold is 2\n",
      "\n",
      " Calculating fullXmatrix\n"
     ]
    },
    {
     "data": {
      "application/vnd.jupyter.widget-view+json": {
       "model_id": "b473f0e290da4de08c7fcfd365e47215",
       "version_major": 2,
       "version_minor": 0
      },
      "text/plain": [
       "HBox(children=(IntProgress(value=0, max=67), HTML(value='')))"
      ]
     },
     "metadata": {},
     "output_type": "display_data"
    },
    {
     "name": "stdout",
     "output_type": "stream",
     "text": [
      "\n",
      "     pcost       dcost       gap    pres   dres\n",
      " 0:  4.8458e+03 -2.5047e+04  3e+04  4e-17  2e-14\n",
      " 1:  7.0693e+02 -9.5624e+02  2e+03  2e-16  4e-14\n",
      " 2:  9.6324e+01 -1.1997e+02  2e+02  2e-16  2e-14\n",
      " 3:  1.1855e+01 -1.9321e+01  3e+01  2e-16  6e-15\n",
      " 4:  7.8736e-01 -3.5972e+00  4e+00  2e-16  2e-15\n",
      " 5: -4.2649e-01 -9.8182e-01  6e-01  2e-16  6e-16\n",
      " 6: -4.9946e-01 -5.3459e-01  4e-02  2e-16  2e-16\n",
      " 7: -5.0000e-01 -5.0039e-01  4e-04  2e-16  2e-16\n",
      " 8: -5.0000e-01 -5.0000e-01  4e-06  2e-16  2e-16\n",
      " 9: -5.0000e-01 -5.0000e-01  4e-08  2e-16  2e-16\n",
      "Optimal solution found.\n",
      "\n",
      " Calculating prediction values\n"
     ]
    },
    {
     "data": {
      "application/vnd.jupyter.widget-view+json": {
       "model_id": "e5ed3b4b1d5f4d9eaf1a3997d0ced06d",
       "version_major": 2,
       "version_minor": 0
      },
      "text/plain": [
       "HBox(children=(IntProgress(value=0, max=33), HTML(value='')))"
      ]
     },
     "metadata": {},
     "output_type": "display_data"
    },
    {
     "name": "stdout",
     "output_type": "stream",
     "text": [
      "\n",
      "fold is 0\n",
      "\n",
      " Calculating fullXmatrix\n"
     ]
    },
    {
     "data": {
      "application/vnd.jupyter.widget-view+json": {
       "model_id": "4e003744fbf146c68ee263f76a0d1808",
       "version_major": 2,
       "version_minor": 0
      },
      "text/plain": [
       "HBox(children=(IntProgress(value=0, max=66), HTML(value='')))"
      ]
     },
     "metadata": {},
     "output_type": "display_data"
    },
    {
     "name": "stdout",
     "output_type": "stream",
     "text": [
      "\n",
      "     pcost       dcost       gap    pres   dres\n",
      " 0:  4.8467e+03 -2.0724e+04  3e+04  4e-17  2e-14\n",
      " 1:  7.0478e+02 -9.0934e+02  2e+03  2e-16  4e-14\n",
      " 2:  9.6101e+01 -1.2020e+02  2e+02  2e-16  2e-14\n",
      " 3:  1.1823e+01 -1.9274e+01  3e+01  2e-16  6e-15\n",
      " 4:  7.8359e-01 -3.5907e+00  4e+00  2e-16  2e-15\n",
      " 5: -4.2680e-01 -9.8066e-01  6e-01  2e-16  6e-16\n",
      " 6: -4.9946e-01 -5.3444e-01  3e-02  2e-16  2e-16\n",
      " 7: -5.0000e-01 -5.0039e-01  4e-04  2e-16  2e-16\n",
      " 8: -5.0000e-01 -5.0000e-01  4e-06  2e-16  2e-16\n",
      " 9: -5.0000e-01 -5.0000e-01  4e-08  2e-16  2e-16\n",
      "Optimal solution found.\n",
      "\n",
      " Calculating prediction values\n"
     ]
    },
    {
     "data": {
      "application/vnd.jupyter.widget-view+json": {
       "model_id": "a6213bc8b63b4f5b8f226443634c8af5",
       "version_major": 2,
       "version_minor": 0
      },
      "text/plain": [
       "HBox(children=(IntProgress(value=0, max=34), HTML(value='')))"
      ]
     },
     "metadata": {},
     "output_type": "display_data"
    },
    {
     "name": "stdout",
     "output_type": "stream",
     "text": [
      "\n",
      "fold is 1\n",
      "\n",
      " Calculating fullXmatrix\n"
     ]
    },
    {
     "data": {
      "application/vnd.jupyter.widget-view+json": {
       "model_id": "d8b6a584da3942ebba78b8993c52ec86",
       "version_major": 2,
       "version_minor": 0
      },
      "text/plain": [
       "HBox(children=(IntProgress(value=0, max=67), HTML(value='')))"
      ]
     },
     "metadata": {},
     "output_type": "display_data"
    },
    {
     "name": "stdout",
     "output_type": "stream",
     "text": [
      "\n",
      "     pcost       dcost       gap    pres   dres\n",
      " 0:  4.8474e+03 -2.4514e+04  3e+04  4e-17  2e-14\n",
      " 1:  7.0659e+02 -9.4840e+02  2e+03  2e-16  4e-14\n",
      " 2:  9.6287e+01 -1.2000e+02  2e+02  2e-16  2e-14\n",
      " 3:  1.1849e+01 -1.9313e+01  3e+01  2e-16  7e-15\n",
      " 4:  7.8671e-01 -3.5961e+00  4e+00  2e-16  2e-15\n",
      " 5: -4.2655e-01 -9.8162e-01  6e-01  2e-16  7e-16\n",
      " 6: -4.9946e-01 -5.3457e-01  4e-02  2e-16  2e-16\n",
      " 7: -5.0000e-01 -5.0039e-01  4e-04  2e-16  2e-16\n",
      " 8: -5.0000e-01 -5.0000e-01  4e-06  2e-16  2e-16\n",
      " 9: -5.0000e-01 -5.0000e-01  4e-08  2e-16  2e-16\n",
      "Optimal solution found.\n",
      "\n",
      " Calculating prediction values\n"
     ]
    },
    {
     "data": {
      "application/vnd.jupyter.widget-view+json": {
       "model_id": "54cdf23011dd479da4ae5acad87c1226",
       "version_major": 2,
       "version_minor": 0
      },
      "text/plain": [
       "HBox(children=(IntProgress(value=0, max=33), HTML(value='')))"
      ]
     },
     "metadata": {},
     "output_type": "display_data"
    },
    {
     "name": "stdout",
     "output_type": "stream",
     "text": [
      "\n",
      "fold is 2\n",
      "\n",
      " Calculating fullXmatrix\n"
     ]
    },
    {
     "data": {
      "application/vnd.jupyter.widget-view+json": {
       "model_id": "f5e034acaf834213b860a03bec188fff",
       "version_major": 2,
       "version_minor": 0
      },
      "text/plain": [
       "HBox(children=(IntProgress(value=0, max=67), HTML(value='')))"
      ]
     },
     "metadata": {},
     "output_type": "display_data"
    },
    {
     "name": "stdout",
     "output_type": "stream",
     "text": [
      "\n",
      "     pcost       dcost       gap    pres   dres\n",
      " 0:  4.8458e+03 -2.5047e+04  3e+04  4e-17  2e-14\n",
      " 1:  7.0693e+02 -9.5624e+02  2e+03  2e-16  4e-14\n",
      " 2:  9.6324e+01 -1.1997e+02  2e+02  2e-16  2e-14\n",
      " 3:  1.1855e+01 -1.9321e+01  3e+01  2e-16  6e-15\n",
      " 4:  7.8736e-01 -3.5972e+00  4e+00  2e-16  2e-15\n",
      " 5: -4.2649e-01 -9.8182e-01  6e-01  2e-16  6e-16\n",
      " 6: -4.9946e-01 -5.3459e-01  4e-02  2e-16  2e-16\n",
      " 7: -5.0000e-01 -5.0039e-01  4e-04  2e-16  2e-16\n",
      " 8: -5.0000e-01 -5.0000e-01  4e-06  2e-16  2e-16\n",
      " 9: -5.0000e-01 -5.0000e-01  4e-08  2e-16  2e-16\n",
      "Optimal solution found.\n",
      "\n",
      " Calculating prediction values\n"
     ]
    },
    {
     "data": {
      "application/vnd.jupyter.widget-view+json": {
       "model_id": "d7eb6ad2b3184409a623ca3ec7a96aec",
       "version_major": 2,
       "version_minor": 0
      },
      "text/plain": [
       "HBox(children=(IntProgress(value=0, max=33), HTML(value='')))"
      ]
     },
     "metadata": {},
     "output_type": "display_data"
    },
    {
     "name": "stdout",
     "output_type": "stream",
     "text": [
      "\n",
      "fold is 0\n",
      "\n",
      " Calculating fullXmatrix\n"
     ]
    },
    {
     "data": {
      "application/vnd.jupyter.widget-view+json": {
       "model_id": "ce425c71df58437488769b62953e0a9b",
       "version_major": 2,
       "version_minor": 0
      },
      "text/plain": [
       "HBox(children=(IntProgress(value=0, max=66), HTML(value='')))"
      ]
     },
     "metadata": {},
     "output_type": "display_data"
    },
    {
     "name": "stdout",
     "output_type": "stream",
     "text": [
      "\n",
      "     pcost       dcost       gap    pres   dres\n",
      " 0:  4.8467e+03 -2.0724e+04  3e+04  4e-17  2e-14\n",
      " 1:  7.0478e+02 -9.0934e+02  2e+03  2e-16  4e-14\n",
      " 2:  9.6101e+01 -1.2020e+02  2e+02  2e-16  2e-14\n",
      " 3:  1.1823e+01 -1.9274e+01  3e+01  2e-16  6e-15\n",
      " 4:  7.8359e-01 -3.5907e+00  4e+00  2e-16  2e-15\n",
      " 5: -4.2680e-01 -9.8066e-01  6e-01  2e-16  6e-16\n",
      " 6: -4.9946e-01 -5.3444e-01  3e-02  2e-16  2e-16\n",
      " 7: -5.0000e-01 -5.0039e-01  4e-04  2e-16  2e-16\n",
      " 8: -5.0000e-01 -5.0000e-01  4e-06  2e-16  2e-16\n",
      " 9: -5.0000e-01 -5.0000e-01  4e-08  2e-16  2e-16\n",
      "Optimal solution found.\n",
      "\n",
      " Calculating prediction values\n"
     ]
    },
    {
     "data": {
      "application/vnd.jupyter.widget-view+json": {
       "model_id": "13da08bc051a4a18b510ca7a225219c2",
       "version_major": 2,
       "version_minor": 0
      },
      "text/plain": [
       "HBox(children=(IntProgress(value=0, max=34), HTML(value='')))"
      ]
     },
     "metadata": {},
     "output_type": "display_data"
    },
    {
     "name": "stdout",
     "output_type": "stream",
     "text": [
      "\n",
      "fold is 1\n",
      "\n",
      " Calculating fullXmatrix\n"
     ]
    },
    {
     "data": {
      "application/vnd.jupyter.widget-view+json": {
       "model_id": "72a99cb3af53446ea9cc047a4848c257",
       "version_major": 2,
       "version_minor": 0
      },
      "text/plain": [
       "HBox(children=(IntProgress(value=0, max=67), HTML(value='')))"
      ]
     },
     "metadata": {},
     "output_type": "display_data"
    },
    {
     "name": "stdout",
     "output_type": "stream",
     "text": [
      "\n",
      "     pcost       dcost       gap    pres   dres\n",
      " 0:  4.8474e+03 -2.4514e+04  3e+04  4e-17  2e-14\n",
      " 1:  7.0659e+02 -9.4840e+02  2e+03  2e-16  4e-14\n",
      " 2:  9.6287e+01 -1.2000e+02  2e+02  2e-16  2e-14\n",
      " 3:  1.1849e+01 -1.9313e+01  3e+01  2e-16  7e-15\n",
      " 4:  7.8671e-01 -3.5961e+00  4e+00  2e-16  2e-15\n",
      " 5: -4.2655e-01 -9.8162e-01  6e-01  2e-16  7e-16\n",
      " 6: -4.9946e-01 -5.3457e-01  4e-02  2e-16  2e-16\n",
      " 7: -5.0000e-01 -5.0039e-01  4e-04  2e-16  2e-16\n",
      " 8: -5.0000e-01 -5.0000e-01  4e-06  2e-16  2e-16\n",
      " 9: -5.0000e-01 -5.0000e-01  4e-08  2e-16  2e-16\n",
      "Optimal solution found.\n",
      "\n",
      " Calculating prediction values\n"
     ]
    },
    {
     "data": {
      "application/vnd.jupyter.widget-view+json": {
       "model_id": "c7df80a9a5af497eafe468b5e78fad15",
       "version_major": 2,
       "version_minor": 0
      },
      "text/plain": [
       "HBox(children=(IntProgress(value=0, max=33), HTML(value='')))"
      ]
     },
     "metadata": {},
     "output_type": "display_data"
    },
    {
     "name": "stdout",
     "output_type": "stream",
     "text": [
      "\n",
      "fold is 2\n",
      "\n",
      " Calculating fullXmatrix\n"
     ]
    },
    {
     "data": {
      "application/vnd.jupyter.widget-view+json": {
       "model_id": "ade4421050f344f385e99aa07cce0761",
       "version_major": 2,
       "version_minor": 0
      },
      "text/plain": [
       "HBox(children=(IntProgress(value=0, max=67), HTML(value='')))"
      ]
     },
     "metadata": {},
     "output_type": "display_data"
    },
    {
     "name": "stdout",
     "output_type": "stream",
     "text": [
      "\n",
      "     pcost       dcost       gap    pres   dres\n",
      " 0:  4.8458e+03 -2.5047e+04  3e+04  4e-17  2e-14\n",
      " 1:  7.0693e+02 -9.5624e+02  2e+03  2e-16  4e-14\n",
      " 2:  9.6324e+01 -1.1997e+02  2e+02  2e-16  2e-14\n",
      " 3:  1.1855e+01 -1.9321e+01  3e+01  2e-16  6e-15\n",
      " 4:  7.8736e-01 -3.5972e+00  4e+00  2e-16  2e-15\n",
      " 5: -4.2649e-01 -9.8182e-01  6e-01  2e-16  6e-16\n",
      " 6: -4.9946e-01 -5.3459e-01  4e-02  2e-16  2e-16\n",
      " 7: -5.0000e-01 -5.0039e-01  4e-04  2e-16  2e-16\n",
      " 8: -5.0000e-01 -5.0000e-01  4e-06  2e-16  2e-16\n",
      " 9: -5.0000e-01 -5.0000e-01  4e-08  2e-16  2e-16\n",
      "Optimal solution found.\n",
      "\n",
      " Calculating prediction values\n"
     ]
    },
    {
     "data": {
      "application/vnd.jupyter.widget-view+json": {
       "model_id": "4d42eb842c1a46df96b9bc29ebcea305",
       "version_major": 2,
       "version_minor": 0
      },
      "text/plain": [
       "HBox(children=(IntProgress(value=0, max=33), HTML(value='')))"
      ]
     },
     "metadata": {},
     "output_type": "display_data"
    },
    {
     "name": "stdout",
     "output_type": "stream",
     "text": [
      "\n",
      "fold is 0\n",
      "\n",
      " Calculating fullXmatrix\n"
     ]
    },
    {
     "data": {
      "application/vnd.jupyter.widget-view+json": {
       "model_id": "f5a0b369f3fc4c768a0d6304244716f8",
       "version_major": 2,
       "version_minor": 0
      },
      "text/plain": [
       "HBox(children=(IntProgress(value=0, max=66), HTML(value='')))"
      ]
     },
     "metadata": {},
     "output_type": "display_data"
    },
    {
     "name": "stdout",
     "output_type": "stream",
     "text": [
      "\n",
      "     pcost       dcost       gap    pres   dres\n",
      " 0:  4.8467e+03 -2.0724e+04  3e+04  4e-17  2e-14\n",
      " 1:  7.0478e+02 -9.0934e+02  2e+03  2e-16  4e-14\n",
      " 2:  9.6101e+01 -1.2020e+02  2e+02  2e-16  2e-14\n",
      " 3:  1.1823e+01 -1.9274e+01  3e+01  2e-16  6e-15\n",
      " 4:  7.8359e-01 -3.5907e+00  4e+00  2e-16  2e-15\n",
      " 5: -4.2680e-01 -9.8066e-01  6e-01  2e-16  6e-16\n",
      " 6: -4.9946e-01 -5.3444e-01  3e-02  2e-16  2e-16\n",
      " 7: -5.0000e-01 -5.0039e-01  4e-04  2e-16  2e-16\n",
      " 8: -5.0000e-01 -5.0000e-01  4e-06  2e-16  2e-16\n",
      " 9: -5.0000e-01 -5.0000e-01  4e-08  2e-16  2e-16\n",
      "Optimal solution found.\n",
      "\n",
      " Calculating prediction values\n"
     ]
    },
    {
     "data": {
      "application/vnd.jupyter.widget-view+json": {
       "model_id": "aa43f2051be94906b8b659294bc04642",
       "version_major": 2,
       "version_minor": 0
      },
      "text/plain": [
       "HBox(children=(IntProgress(value=0, max=34), HTML(value='')))"
      ]
     },
     "metadata": {},
     "output_type": "display_data"
    },
    {
     "name": "stdout",
     "output_type": "stream",
     "text": [
      "\n",
      "fold is 1\n",
      "\n",
      " Calculating fullXmatrix\n"
     ]
    },
    {
     "data": {
      "application/vnd.jupyter.widget-view+json": {
       "model_id": "fa90bdb723844d9db7f8e62faf4578e6",
       "version_major": 2,
       "version_minor": 0
      },
      "text/plain": [
       "HBox(children=(IntProgress(value=0, max=67), HTML(value='')))"
      ]
     },
     "metadata": {},
     "output_type": "display_data"
    },
    {
     "name": "stdout",
     "output_type": "stream",
     "text": [
      "\n",
      "     pcost       dcost       gap    pres   dres\n",
      " 0:  4.8474e+03 -2.4514e+04  3e+04  4e-17  2e-14\n",
      " 1:  7.0659e+02 -9.4840e+02  2e+03  2e-16  4e-14\n",
      " 2:  9.6287e+01 -1.2000e+02  2e+02  2e-16  2e-14\n",
      " 3:  1.1849e+01 -1.9313e+01  3e+01  2e-16  7e-15\n",
      " 4:  7.8671e-01 -3.5961e+00  4e+00  2e-16  2e-15\n",
      " 5: -4.2655e-01 -9.8162e-01  6e-01  2e-16  7e-16\n",
      " 6: -4.9946e-01 -5.3457e-01  4e-02  2e-16  2e-16\n",
      " 7: -5.0000e-01 -5.0039e-01  4e-04  2e-16  2e-16\n",
      " 8: -5.0000e-01 -5.0000e-01  4e-06  2e-16  2e-16\n",
      " 9: -5.0000e-01 -5.0000e-01  4e-08  2e-16  2e-16\n",
      "Optimal solution found.\n",
      "\n",
      " Calculating prediction values\n"
     ]
    },
    {
     "data": {
      "application/vnd.jupyter.widget-view+json": {
       "model_id": "e05562989a1044b4826e38a699b7700f",
       "version_major": 2,
       "version_minor": 0
      },
      "text/plain": [
       "HBox(children=(IntProgress(value=0, max=33), HTML(value='')))"
      ]
     },
     "metadata": {},
     "output_type": "display_data"
    },
    {
     "name": "stdout",
     "output_type": "stream",
     "text": [
      "\n",
      "fold is 2\n",
      "\n",
      " Calculating fullXmatrix\n"
     ]
    },
    {
     "data": {
      "application/vnd.jupyter.widget-view+json": {
       "model_id": "cce94bf1dedf4151947994917a389c64",
       "version_major": 2,
       "version_minor": 0
      },
      "text/plain": [
       "HBox(children=(IntProgress(value=0, max=67), HTML(value='')))"
      ]
     },
     "metadata": {},
     "output_type": "display_data"
    },
    {
     "name": "stdout",
     "output_type": "stream",
     "text": [
      "\n",
      "     pcost       dcost       gap    pres   dres\n",
      " 0:  4.8458e+03 -2.5047e+04  3e+04  4e-17  2e-14\n",
      " 1:  7.0693e+02 -9.5624e+02  2e+03  2e-16  4e-14\n",
      " 2:  9.6324e+01 -1.1997e+02  2e+02  2e-16  2e-14\n",
      " 3:  1.1855e+01 -1.9321e+01  3e+01  2e-16  6e-15\n",
      " 4:  7.8736e-01 -3.5972e+00  4e+00  2e-16  2e-15\n",
      " 5: -4.2649e-01 -9.8182e-01  6e-01  2e-16  6e-16\n",
      " 6: -4.9946e-01 -5.3459e-01  4e-02  2e-16  2e-16\n",
      " 7: -5.0000e-01 -5.0039e-01  4e-04  2e-16  2e-16\n",
      " 8: -5.0000e-01 -5.0000e-01  4e-06  2e-16  2e-16\n",
      " 9: -5.0000e-01 -5.0000e-01  4e-08  2e-16  2e-16\n",
      "Optimal solution found.\n",
      "\n",
      " Calculating prediction values\n"
     ]
    },
    {
     "data": {
      "application/vnd.jupyter.widget-view+json": {
       "model_id": "bb1cc0603d6a46ad84b9dc3764b54c61",
       "version_major": 2,
       "version_minor": 0
      },
      "text/plain": [
       "HBox(children=(IntProgress(value=0, max=33), HTML(value='')))"
      ]
     },
     "metadata": {},
     "output_type": "display_data"
    },
    {
     "name": "stdout",
     "output_type": "stream",
     "text": [
      "\n",
      "fold is 0\n",
      "\n",
      " Calculating fullXmatrix\n"
     ]
    },
    {
     "data": {
      "application/vnd.jupyter.widget-view+json": {
       "model_id": "1605e2a723db4b9faad0170f8978c6e2",
       "version_major": 2,
       "version_minor": 0
      },
      "text/plain": [
       "HBox(children=(IntProgress(value=0, max=66), HTML(value='')))"
      ]
     },
     "metadata": {},
     "output_type": "display_data"
    },
    {
     "name": "stdout",
     "output_type": "stream",
     "text": [
      "\n",
      "     pcost       dcost       gap    pres   dres\n",
      " 0:  4.8467e+03 -2.0724e+04  3e+04  4e-17  2e-14\n",
      " 1:  7.0478e+02 -9.0934e+02  2e+03  2e-16  4e-14\n",
      " 2:  9.6101e+01 -1.2020e+02  2e+02  2e-16  2e-14\n",
      " 3:  1.1823e+01 -1.9274e+01  3e+01  2e-16  6e-15\n",
      " 4:  7.8359e-01 -3.5907e+00  4e+00  2e-16  2e-15\n",
      " 5: -4.2680e-01 -9.8066e-01  6e-01  2e-16  6e-16\n",
      " 6: -4.9946e-01 -5.3444e-01  3e-02  2e-16  2e-16\n",
      " 7: -5.0000e-01 -5.0039e-01  4e-04  2e-16  2e-16\n",
      " 8: -5.0000e-01 -5.0000e-01  4e-06  2e-16  2e-16\n",
      " 9: -5.0000e-01 -5.0000e-01  4e-08  2e-16  2e-16\n",
      "Optimal solution found.\n",
      "\n",
      " Calculating prediction values\n"
     ]
    },
    {
     "data": {
      "application/vnd.jupyter.widget-view+json": {
       "model_id": "4e138412ee444df19582ab6a779b860c",
       "version_major": 2,
       "version_minor": 0
      },
      "text/plain": [
       "HBox(children=(IntProgress(value=0, max=34), HTML(value='')))"
      ]
     },
     "metadata": {},
     "output_type": "display_data"
    },
    {
     "name": "stdout",
     "output_type": "stream",
     "text": [
      "\n",
      "fold is 1\n",
      "\n",
      " Calculating fullXmatrix\n"
     ]
    },
    {
     "data": {
      "application/vnd.jupyter.widget-view+json": {
       "model_id": "d3e4be68bf3d4ea5a250451f3dd9c7ef",
       "version_major": 2,
       "version_minor": 0
      },
      "text/plain": [
       "HBox(children=(IntProgress(value=0, max=67), HTML(value='')))"
      ]
     },
     "metadata": {},
     "output_type": "display_data"
    },
    {
     "name": "stdout",
     "output_type": "stream",
     "text": [
      "\n",
      "     pcost       dcost       gap    pres   dres\n",
      " 0:  4.8474e+03 -2.4514e+04  3e+04  4e-17  2e-14\n",
      " 1:  7.0659e+02 -9.4840e+02  2e+03  2e-16  4e-14\n",
      " 2:  9.6287e+01 -1.2000e+02  2e+02  2e-16  2e-14\n",
      " 3:  1.1849e+01 -1.9313e+01  3e+01  2e-16  7e-15\n",
      " 4:  7.8671e-01 -3.5961e+00  4e+00  2e-16  2e-15\n",
      " 5: -4.2655e-01 -9.8162e-01  6e-01  2e-16  7e-16\n",
      " 6: -4.9946e-01 -5.3457e-01  4e-02  2e-16  2e-16\n",
      " 7: -5.0000e-01 -5.0039e-01  4e-04  2e-16  2e-16\n",
      " 8: -5.0000e-01 -5.0000e-01  4e-06  2e-16  2e-16\n",
      " 9: -5.0000e-01 -5.0000e-01  4e-08  2e-16  2e-16\n",
      "Optimal solution found.\n",
      "\n",
      " Calculating prediction values\n"
     ]
    },
    {
     "data": {
      "application/vnd.jupyter.widget-view+json": {
       "model_id": "10d7b2370560410ab474611b281c1561",
       "version_major": 2,
       "version_minor": 0
      },
      "text/plain": [
       "HBox(children=(IntProgress(value=0, max=33), HTML(value='')))"
      ]
     },
     "metadata": {},
     "output_type": "display_data"
    },
    {
     "name": "stdout",
     "output_type": "stream",
     "text": [
      "\n",
      "fold is 2\n",
      "\n",
      " Calculating fullXmatrix\n"
     ]
    },
    {
     "data": {
      "application/vnd.jupyter.widget-view+json": {
       "model_id": "98eeb04e67b9491d9ed535e478179e6f",
       "version_major": 2,
       "version_minor": 0
      },
      "text/plain": [
       "HBox(children=(IntProgress(value=0, max=67), HTML(value='')))"
      ]
     },
     "metadata": {},
     "output_type": "display_data"
    },
    {
     "name": "stdout",
     "output_type": "stream",
     "text": [
      "\n",
      "     pcost       dcost       gap    pres   dres\n",
      " 0:  4.8458e+03 -2.5047e+04  3e+04  4e-17  2e-14\n",
      " 1:  7.0693e+02 -9.5624e+02  2e+03  2e-16  4e-14\n",
      " 2:  9.6324e+01 -1.1997e+02  2e+02  2e-16  2e-14\n",
      " 3:  1.1855e+01 -1.9321e+01  3e+01  2e-16  6e-15\n",
      " 4:  7.8736e-01 -3.5972e+00  4e+00  2e-16  2e-15\n",
      " 5: -4.2649e-01 -9.8182e-01  6e-01  2e-16  6e-16\n",
      " 6: -4.9946e-01 -5.3459e-01  4e-02  2e-16  2e-16\n",
      " 7: -5.0000e-01 -5.0039e-01  4e-04  2e-16  2e-16\n",
      " 8: -5.0000e-01 -5.0000e-01  4e-06  2e-16  2e-16\n",
      " 9: -5.0000e-01 -5.0000e-01  4e-08  2e-16  2e-16\n",
      "Optimal solution found.\n",
      "\n",
      " Calculating prediction values\n"
     ]
    },
    {
     "data": {
      "application/vnd.jupyter.widget-view+json": {
       "model_id": "72c9c27f73db43c7bfd8d5789b07ced9",
       "version_major": 2,
       "version_minor": 0
      },
      "text/plain": [
       "HBox(children=(IntProgress(value=0, max=33), HTML(value='')))"
      ]
     },
     "metadata": {},
     "output_type": "display_data"
    },
    {
     "name": "stdout",
     "output_type": "stream",
     "text": [
      "\n",
      "fold is 0\n",
      "\n",
      " Calculating fullXmatrix\n"
     ]
    },
    {
     "data": {
      "application/vnd.jupyter.widget-view+json": {
       "model_id": "75ec37bfa5ba4e5cbbb9e889abd40061",
       "version_major": 2,
       "version_minor": 0
      },
      "text/plain": [
       "HBox(children=(IntProgress(value=0, max=66), HTML(value='')))"
      ]
     },
     "metadata": {},
     "output_type": "display_data"
    },
    {
     "name": "stdout",
     "output_type": "stream",
     "text": [
      "\n",
      "     pcost       dcost       gap    pres   dres\n",
      " 0:  4.8467e+03 -2.0724e+04  3e+04  4e-17  2e-14\n",
      " 1:  7.0478e+02 -9.0934e+02  2e+03  2e-16  4e-14\n",
      " 2:  9.6101e+01 -1.2020e+02  2e+02  2e-16  2e-14\n",
      " 3:  1.1823e+01 -1.9274e+01  3e+01  2e-16  6e-15\n",
      " 4:  7.8359e-01 -3.5907e+00  4e+00  2e-16  2e-15\n",
      " 5: -4.2680e-01 -9.8066e-01  6e-01  2e-16  6e-16\n",
      " 6: -4.9946e-01 -5.3444e-01  3e-02  2e-16  2e-16\n",
      " 7: -5.0000e-01 -5.0039e-01  4e-04  2e-16  2e-16\n",
      " 8: -5.0000e-01 -5.0000e-01  4e-06  2e-16  2e-16\n",
      " 9: -5.0000e-01 -5.0000e-01  4e-08  2e-16  2e-16\n",
      "Optimal solution found.\n",
      "\n",
      " Calculating prediction values\n"
     ]
    },
    {
     "data": {
      "application/vnd.jupyter.widget-view+json": {
       "model_id": "24dedd87535e412cb6bc12a20180e892",
       "version_major": 2,
       "version_minor": 0
      },
      "text/plain": [
       "HBox(children=(IntProgress(value=0, max=34), HTML(value='')))"
      ]
     },
     "metadata": {},
     "output_type": "display_data"
    },
    {
     "name": "stdout",
     "output_type": "stream",
     "text": [
      "\n",
      "fold is 1\n",
      "\n",
      " Calculating fullXmatrix\n"
     ]
    },
    {
     "data": {
      "application/vnd.jupyter.widget-view+json": {
       "model_id": "031f7f7b4dc24ca5ba85e4d6f0546f35",
       "version_major": 2,
       "version_minor": 0
      },
      "text/plain": [
       "HBox(children=(IntProgress(value=0, max=67), HTML(value='')))"
      ]
     },
     "metadata": {},
     "output_type": "display_data"
    },
    {
     "name": "stdout",
     "output_type": "stream",
     "text": [
      "\n",
      "     pcost       dcost       gap    pres   dres\n",
      " 0:  4.8474e+03 -2.4514e+04  3e+04  4e-17  2e-14\n",
      " 1:  7.0659e+02 -9.4840e+02  2e+03  2e-16  4e-14\n",
      " 2:  9.6287e+01 -1.2000e+02  2e+02  2e-16  2e-14\n",
      " 3:  1.1849e+01 -1.9313e+01  3e+01  2e-16  7e-15\n",
      " 4:  7.8671e-01 -3.5961e+00  4e+00  2e-16  2e-15\n",
      " 5: -4.2655e-01 -9.8162e-01  6e-01  2e-16  7e-16\n",
      " 6: -4.9946e-01 -5.3457e-01  4e-02  2e-16  2e-16\n",
      " 7: -5.0000e-01 -5.0039e-01  4e-04  2e-16  2e-16\n",
      " 8: -5.0000e-01 -5.0000e-01  4e-06  2e-16  2e-16\n",
      " 9: -5.0000e-01 -5.0000e-01  4e-08  2e-16  2e-16\n",
      "Optimal solution found.\n",
      "\n",
      " Calculating prediction values\n"
     ]
    },
    {
     "data": {
      "application/vnd.jupyter.widget-view+json": {
       "model_id": "4024f65ee89b43f6ae01f37de2e71955",
       "version_major": 2,
       "version_minor": 0
      },
      "text/plain": [
       "HBox(children=(IntProgress(value=0, max=33), HTML(value='')))"
      ]
     },
     "metadata": {},
     "output_type": "display_data"
    },
    {
     "name": "stdout",
     "output_type": "stream",
     "text": [
      "\n",
      "fold is 2\n",
      "\n",
      " Calculating fullXmatrix\n"
     ]
    },
    {
     "data": {
      "application/vnd.jupyter.widget-view+json": {
       "model_id": "6758cc73c8b54c928cb2cf1eb5b3cada",
       "version_major": 2,
       "version_minor": 0
      },
      "text/plain": [
       "HBox(children=(IntProgress(value=0, max=67), HTML(value='')))"
      ]
     },
     "metadata": {},
     "output_type": "display_data"
    },
    {
     "name": "stdout",
     "output_type": "stream",
     "text": [
      "\n",
      "     pcost       dcost       gap    pres   dres\n",
      " 0:  4.8458e+03 -2.5047e+04  3e+04  4e-17  2e-14\n",
      " 1:  7.0693e+02 -9.5624e+02  2e+03  2e-16  4e-14\n",
      " 2:  9.6324e+01 -1.1997e+02  2e+02  2e-16  2e-14\n",
      " 3:  1.1855e+01 -1.9321e+01  3e+01  2e-16  6e-15\n",
      " 4:  7.8736e-01 -3.5972e+00  4e+00  2e-16  2e-15\n",
      " 5: -4.2649e-01 -9.8182e-01  6e-01  2e-16  6e-16\n",
      " 6: -4.9946e-01 -5.3459e-01  4e-02  2e-16  2e-16\n",
      " 7: -5.0000e-01 -5.0039e-01  4e-04  2e-16  2e-16\n",
      " 8: -5.0000e-01 -5.0000e-01  4e-06  2e-16  2e-16\n",
      " 9: -5.0000e-01 -5.0000e-01  4e-08  2e-16  2e-16\n",
      "Optimal solution found.\n",
      "\n",
      " Calculating prediction values\n"
     ]
    },
    {
     "data": {
      "application/vnd.jupyter.widget-view+json": {
       "model_id": "78c3ef1b5eec4ab3bd38ea49febf0a15",
       "version_major": 2,
       "version_minor": 0
      },
      "text/plain": [
       "HBox(children=(IntProgress(value=0, max=33), HTML(value='')))"
      ]
     },
     "metadata": {},
     "output_type": "display_data"
    },
    {
     "name": "stdout",
     "output_type": "stream",
     "text": [
      "\n",
      "fold is 0\n",
      "\n",
      " Calculating fullXmatrix\n"
     ]
    },
    {
     "data": {
      "application/vnd.jupyter.widget-view+json": {
       "model_id": "f3a534b77b3149d9ba5ca8abc0bdadb9",
       "version_major": 2,
       "version_minor": 0
      },
      "text/plain": [
       "HBox(children=(IntProgress(value=0, max=66), HTML(value='')))"
      ]
     },
     "metadata": {},
     "output_type": "display_data"
    },
    {
     "name": "stdout",
     "output_type": "stream",
     "text": [
      "\n",
      "     pcost       dcost       gap    pres   dres\n",
      " 0:  4.8467e+03 -2.0724e+04  3e+04  4e-17  2e-14\n",
      " 1:  7.0478e+02 -9.0934e+02  2e+03  2e-16  4e-14\n",
      " 2:  9.6101e+01 -1.2020e+02  2e+02  2e-16  2e-14\n",
      " 3:  1.1823e+01 -1.9274e+01  3e+01  2e-16  6e-15\n",
      " 4:  7.8359e-01 -3.5907e+00  4e+00  2e-16  2e-15\n",
      " 5: -4.2680e-01 -9.8066e-01  6e-01  2e-16  6e-16\n",
      " 6: -4.9946e-01 -5.3444e-01  3e-02  2e-16  2e-16\n",
      " 7: -5.0000e-01 -5.0039e-01  4e-04  2e-16  2e-16\n",
      " 8: -5.0000e-01 -5.0000e-01  4e-06  2e-16  2e-16\n",
      " 9: -5.0000e-01 -5.0000e-01  4e-08  2e-16  2e-16\n",
      "Optimal solution found.\n",
      "\n",
      " Calculating prediction values\n"
     ]
    },
    {
     "data": {
      "application/vnd.jupyter.widget-view+json": {
       "model_id": "62369a5664d84d03b78b032aab7351ad",
       "version_major": 2,
       "version_minor": 0
      },
      "text/plain": [
       "HBox(children=(IntProgress(value=0, max=34), HTML(value='')))"
      ]
     },
     "metadata": {},
     "output_type": "display_data"
    },
    {
     "name": "stdout",
     "output_type": "stream",
     "text": [
      "\n",
      "fold is 1\n",
      "\n",
      " Calculating fullXmatrix\n"
     ]
    },
    {
     "data": {
      "application/vnd.jupyter.widget-view+json": {
       "model_id": "ca6d1d343c0146c8bed1b0ef6bad964c",
       "version_major": 2,
       "version_minor": 0
      },
      "text/plain": [
       "HBox(children=(IntProgress(value=0, max=67), HTML(value='')))"
      ]
     },
     "metadata": {},
     "output_type": "display_data"
    },
    {
     "name": "stdout",
     "output_type": "stream",
     "text": [
      "\n",
      "     pcost       dcost       gap    pres   dres\n",
      " 0:  4.8474e+03 -2.4514e+04  3e+04  4e-17  2e-14\n",
      " 1:  7.0659e+02 -9.4840e+02  2e+03  2e-16  4e-14\n",
      " 2:  9.6287e+01 -1.2000e+02  2e+02  2e-16  2e-14\n",
      " 3:  1.1849e+01 -1.9313e+01  3e+01  2e-16  7e-15\n",
      " 4:  7.8671e-01 -3.5961e+00  4e+00  2e-16  2e-15\n",
      " 5: -4.2655e-01 -9.8162e-01  6e-01  2e-16  7e-16\n",
      " 6: -4.9946e-01 -5.3457e-01  4e-02  2e-16  2e-16\n",
      " 7: -5.0000e-01 -5.0039e-01  4e-04  2e-16  2e-16\n",
      " 8: -5.0000e-01 -5.0000e-01  4e-06  2e-16  2e-16\n",
      " 9: -5.0000e-01 -5.0000e-01  4e-08  2e-16  2e-16\n",
      "Optimal solution found.\n",
      "\n",
      " Calculating prediction values\n"
     ]
    },
    {
     "data": {
      "application/vnd.jupyter.widget-view+json": {
       "model_id": "75c7ad54fe25401295632dbed03af9be",
       "version_major": 2,
       "version_minor": 0
      },
      "text/plain": [
       "HBox(children=(IntProgress(value=0, max=33), HTML(value='')))"
      ]
     },
     "metadata": {},
     "output_type": "display_data"
    },
    {
     "name": "stdout",
     "output_type": "stream",
     "text": [
      "\n",
      "fold is 2\n",
      "\n",
      " Calculating fullXmatrix\n"
     ]
    },
    {
     "data": {
      "application/vnd.jupyter.widget-view+json": {
       "model_id": "4f5ec608599f4590aedeb20296bab5a5",
       "version_major": 2,
       "version_minor": 0
      },
      "text/plain": [
       "HBox(children=(IntProgress(value=0, max=67), HTML(value='')))"
      ]
     },
     "metadata": {},
     "output_type": "display_data"
    },
    {
     "name": "stdout",
     "output_type": "stream",
     "text": [
      "\n",
      "     pcost       dcost       gap    pres   dres\n",
      " 0:  4.8458e+03 -2.5047e+04  3e+04  4e-17  2e-14\n",
      " 1:  7.0693e+02 -9.5624e+02  2e+03  2e-16  4e-14\n",
      " 2:  9.6324e+01 -1.1997e+02  2e+02  2e-16  2e-14\n",
      " 3:  1.1855e+01 -1.9321e+01  3e+01  2e-16  6e-15\n",
      " 4:  7.8736e-01 -3.5972e+00  4e+00  2e-16  2e-15\n",
      " 5: -4.2649e-01 -9.8182e-01  6e-01  2e-16  6e-16\n",
      " 6: -4.9946e-01 -5.3459e-01  4e-02  2e-16  2e-16\n",
      " 7: -5.0000e-01 -5.0039e-01  4e-04  2e-16  2e-16\n",
      " 8: -5.0000e-01 -5.0000e-01  4e-06  2e-16  2e-16\n",
      " 9: -5.0000e-01 -5.0000e-01  4e-08  2e-16  2e-16\n",
      "Optimal solution found.\n",
      "\n",
      " Calculating prediction values\n"
     ]
    },
    {
     "data": {
      "application/vnd.jupyter.widget-view+json": {
       "model_id": "31284624be90471688ba9078f14eea74",
       "version_major": 2,
       "version_minor": 0
      },
      "text/plain": [
       "HBox(children=(IntProgress(value=0, max=33), HTML(value='')))"
      ]
     },
     "metadata": {},
     "output_type": "display_data"
    },
    {
     "name": "stdout",
     "output_type": "stream",
     "text": [
      "\n",
      "fold is 0\n",
      "\n",
      " Calculating fullXmatrix\n"
     ]
    },
    {
     "data": {
      "application/vnd.jupyter.widget-view+json": {
       "model_id": "3f31d4aaaf57492780e31c2cde2a8089",
       "version_major": 2,
       "version_minor": 0
      },
      "text/plain": [
       "HBox(children=(IntProgress(value=0, max=66), HTML(value='')))"
      ]
     },
     "metadata": {},
     "output_type": "display_data"
    },
    {
     "name": "stdout",
     "output_type": "stream",
     "text": [
      "\n",
      "\n",
      " Calculating Kernalized Product\n"
     ]
    },
    {
     "data": {
      "application/vnd.jupyter.widget-view+json": {
       "model_id": "784a7de11e3e4fd498d52a5f76ae1a23",
       "version_major": 2,
       "version_minor": 0
      },
      "text/plain": [
       "HBox(children=(IntProgress(value=0, max=66), HTML(value='')))"
      ]
     },
     "metadata": {},
     "output_type": "display_data"
    },
    {
     "name": "stdout",
     "output_type": "stream",
     "text": [
      "\n",
      "\n",
      " Calculating Kernalized Product\n"
     ]
    },
    {
     "data": {
      "application/vnd.jupyter.widget-view+json": {
       "model_id": "8f3e7b9f926c4adf94e9c653dcfd39db",
       "version_major": 2,
       "version_minor": 0
      },
      "text/plain": [
       "HBox(children=(IntProgress(value=0, max=132), HTML(value='')))"
      ]
     },
     "metadata": {},
     "output_type": "display_data"
    },
    {
     "name": "stdout",
     "output_type": "stream",
     "text": [
      "\n",
      "\n",
      " Calculating Kernalized Product\n"
     ]
    },
    {
     "data": {
      "application/vnd.jupyter.widget-view+json": {
       "model_id": "9bcc1045e0ee4c80adc5ca2a9c264547",
       "version_major": 2,
       "version_minor": 0
      },
      "text/plain": [
       "HBox(children=(IntProgress(value=0, max=132), HTML(value='')))"
      ]
     },
     "metadata": {},
     "output_type": "display_data"
    },
    {
     "name": "stdout",
     "output_type": "stream",
     "text": [
      "\n",
      "     pcost       dcost       gap    pres   dres\n",
      " 0: -1.8278e+01 -7.8945e+00  4e+02  2e+01  2e-16\n",
      " 1: -8.9012e+00 -1.1709e+00  2e+01  1e+00  3e-16\n",
      " 2: -8.5801e-02 -8.5041e-05  3e-01  2e-02  2e-15\n",
      " 3: -8.5885e-04 -8.5040e-09  3e-03  2e-04  8e-16\n",
      " 4: -8.5886e-06 -8.5040e-13  3e-05  2e-06  8e-16\n",
      " 5: -8.5886e-08 -8.5040e-17  3e-07  2e-08  7e-16\n",
      " 6: -8.5886e-10 -8.5038e-21  3e-09  2e-10  7e-16\n",
      "Optimal solution found.\n",
      "\n",
      " Calculating prediction values\n"
     ]
    },
    {
     "data": {
      "application/vnd.jupyter.widget-view+json": {
       "model_id": "d06f394f7b1e41e8ab83f67accfa3267",
       "version_major": 2,
       "version_minor": 0
      },
      "text/plain": [
       "HBox(children=(IntProgress(value=0, max=34), HTML(value='')))"
      ]
     },
     "metadata": {},
     "output_type": "display_data"
    },
    {
     "name": "stdout",
     "output_type": "stream",
     "text": [
      "\n",
      "fold is 1\n",
      "\n",
      " Calculating fullXmatrix\n"
     ]
    },
    {
     "data": {
      "application/vnd.jupyter.widget-view+json": {
       "model_id": "f1ddeaa2181b4a80be71ed04e1a63094",
       "version_major": 2,
       "version_minor": 0
      },
      "text/plain": [
       "HBox(children=(IntProgress(value=0, max=67), HTML(value='')))"
      ]
     },
     "metadata": {},
     "output_type": "display_data"
    },
    {
     "name": "stdout",
     "output_type": "stream",
     "text": [
      "\n",
      "\n",
      " Calculating Kernalized Product\n"
     ]
    },
    {
     "data": {
      "application/vnd.jupyter.widget-view+json": {
       "model_id": "838496951e294178b5fba1bd1d63f02e",
       "version_major": 2,
       "version_minor": 0
      },
      "text/plain": [
       "HBox(children=(IntProgress(value=0, max=67), HTML(value='')))"
      ]
     },
     "metadata": {},
     "output_type": "display_data"
    },
    {
     "name": "stdout",
     "output_type": "stream",
     "text": [
      "\n",
      "\n",
      " Calculating Kernalized Product\n"
     ]
    },
    {
     "data": {
      "application/vnd.jupyter.widget-view+json": {
       "model_id": "c5df1d1151a941ee80d93837da9d4300",
       "version_major": 2,
       "version_minor": 0
      },
      "text/plain": [
       "HBox(children=(IntProgress(value=0, max=134), HTML(value='')))"
      ]
     },
     "metadata": {},
     "output_type": "display_data"
    },
    {
     "name": "stdout",
     "output_type": "stream",
     "text": [
      "\n",
      "\n",
      " Calculating Kernalized Product\n"
     ]
    },
    {
     "data": {
      "application/vnd.jupyter.widget-view+json": {
       "model_id": "ef30963ddb3740549e4a7cd3200447e0",
       "version_major": 2,
       "version_minor": 0
      },
      "text/plain": [
       "HBox(children=(IntProgress(value=0, max=134), HTML(value='')))"
      ]
     },
     "metadata": {},
     "output_type": "display_data"
    },
    {
     "name": "stdout",
     "output_type": "stream",
     "text": [
      "\n",
      "     pcost       dcost       gap    pres   dres\n",
      " 0: -1.8530e+01 -8.0053e+00  4e+02  2e+01  2e-16\n",
      " 1: -9.0296e+00 -1.1936e+00  2e+01  1e+00  3e-16\n",
      " 2: -8.8319e-02 -8.8851e-05  3e-01  2e-02  2e-15\n",
      " 3: -8.8410e-04 -8.8858e-09  3e-03  2e-04  7e-16\n",
      " 4: -8.8411e-06 -8.8858e-13  3e-05  2e-06  7e-16\n",
      " 5: -8.8411e-08 -8.8858e-17  3e-07  2e-08  6e-16\n",
      " 6: -8.8411e-10 -8.8856e-21  3e-09  2e-10  6e-16\n",
      "Optimal solution found.\n",
      "\n",
      " Calculating prediction values\n"
     ]
    },
    {
     "data": {
      "application/vnd.jupyter.widget-view+json": {
       "model_id": "a23b644a4d6441909608a673a5533ffa",
       "version_major": 2,
       "version_minor": 0
      },
      "text/plain": [
       "HBox(children=(IntProgress(value=0, max=33), HTML(value='')))"
      ]
     },
     "metadata": {},
     "output_type": "display_data"
    },
    {
     "name": "stdout",
     "output_type": "stream",
     "text": [
      "\n",
      "fold is 2\n",
      "\n",
      " Calculating fullXmatrix\n"
     ]
    },
    {
     "data": {
      "application/vnd.jupyter.widget-view+json": {
       "model_id": "2b4e44f31d8b4b2e998d51d316bcd378",
       "version_major": 2,
       "version_minor": 0
      },
      "text/plain": [
       "HBox(children=(IntProgress(value=0, max=67), HTML(value='')))"
      ]
     },
     "metadata": {},
     "output_type": "display_data"
    },
    {
     "name": "stdout",
     "output_type": "stream",
     "text": [
      "\n",
      "\n",
      " Calculating Kernalized Product\n"
     ]
    },
    {
     "data": {
      "application/vnd.jupyter.widget-view+json": {
       "model_id": "de752b54b0dc4982ad517dc5e487b1d4",
       "version_major": 2,
       "version_minor": 0
      },
      "text/plain": [
       "HBox(children=(IntProgress(value=0, max=67), HTML(value='')))"
      ]
     },
     "metadata": {},
     "output_type": "display_data"
    },
    {
     "name": "stdout",
     "output_type": "stream",
     "text": [
      "\n",
      "\n",
      " Calculating Kernalized Product\n"
     ]
    },
    {
     "data": {
      "application/vnd.jupyter.widget-view+json": {
       "model_id": "ff4931e6dd324e03bbe545632e911056",
       "version_major": 2,
       "version_minor": 0
      },
      "text/plain": [
       "HBox(children=(IntProgress(value=0, max=134), HTML(value='')))"
      ]
     },
     "metadata": {},
     "output_type": "display_data"
    },
    {
     "name": "stdout",
     "output_type": "stream",
     "text": [
      "\n",
      "\n",
      " Calculating Kernalized Product\n"
     ]
    },
    {
     "data": {
      "application/vnd.jupyter.widget-view+json": {
       "model_id": "f2536bd756f14ea087b25cbfa8beaf40",
       "version_major": 2,
       "version_minor": 0
      },
      "text/plain": [
       "HBox(children=(IntProgress(value=0, max=134), HTML(value='')))"
      ]
     },
     "metadata": {},
     "output_type": "display_data"
    },
    {
     "name": "stdout",
     "output_type": "stream",
     "text": [
      "\n",
      "     pcost       dcost       gap    pres   dres\n",
      " 0: -1.8590e+01 -8.0183e+00  4e+02  2e+01  2e-16\n",
      " 1: -9.0363e+00 -1.1848e+00  2e+01  1e+00  4e-16\n",
      " 2: -8.7166e-02 -8.6244e-05  3e-01  2e-02  2e-15\n",
      " 3: -8.7250e-04 -8.6243e-09  3e-03  2e-04  7e-16\n",
      " 4: -8.7251e-06 -8.6243e-13  3e-05  2e-06  7e-16\n",
      " 5: -8.7251e-08 -8.6243e-17  3e-07  2e-08  7e-16\n",
      " 6: -8.7251e-10 -8.6250e-21  3e-09  2e-10  7e-16\n",
      "Optimal solution found.\n",
      "\n",
      " Calculating prediction values\n"
     ]
    },
    {
     "data": {
      "application/vnd.jupyter.widget-view+json": {
       "model_id": "21ac5e0d2b69484cad2b935a0b2b761a",
       "version_major": 2,
       "version_minor": 0
      },
      "text/plain": [
       "HBox(children=(IntProgress(value=0, max=33), HTML(value='')))"
      ]
     },
     "metadata": {},
     "output_type": "display_data"
    },
    {
     "name": "stdout",
     "output_type": "stream",
     "text": [
      "\n",
      "fold is 0\n",
      "\n",
      " Calculating fullXmatrix\n"
     ]
    },
    {
     "data": {
      "application/vnd.jupyter.widget-view+json": {
       "model_id": "b1269d181a0946ab9b74787fc3e2420f",
       "version_major": 2,
       "version_minor": 0
      },
      "text/plain": [
       "HBox(children=(IntProgress(value=0, max=66), HTML(value='')))"
      ]
     },
     "metadata": {},
     "output_type": "display_data"
    },
    {
     "name": "stdout",
     "output_type": "stream",
     "text": [
      "\n",
      "\n",
      " Calculating Kernalized Product\n"
     ]
    },
    {
     "data": {
      "application/vnd.jupyter.widget-view+json": {
       "model_id": "d19b2f8641b243d6ae1d9321636786fd",
       "version_major": 2,
       "version_minor": 0
      },
      "text/plain": [
       "HBox(children=(IntProgress(value=0, max=66), HTML(value='')))"
      ]
     },
     "metadata": {},
     "output_type": "display_data"
    },
    {
     "name": "stdout",
     "output_type": "stream",
     "text": [
      "\n",
      "\n",
      " Calculating Kernalized Product\n"
     ]
    },
    {
     "data": {
      "application/vnd.jupyter.widget-view+json": {
       "model_id": "4dca312368264d55a35947ec35928c96",
       "version_major": 2,
       "version_minor": 0
      },
      "text/plain": [
       "HBox(children=(IntProgress(value=0, max=132), HTML(value='')))"
      ]
     },
     "metadata": {},
     "output_type": "display_data"
    },
    {
     "name": "stdout",
     "output_type": "stream",
     "text": [
      "\n",
      "\n",
      " Calculating Kernalized Product\n"
     ]
    },
    {
     "data": {
      "application/vnd.jupyter.widget-view+json": {
       "model_id": "935f043b737f480295b61813a858f387",
       "version_major": 2,
       "version_minor": 0
      },
      "text/plain": [
       "HBox(children=(IntProgress(value=0, max=132), HTML(value='')))"
      ]
     },
     "metadata": {},
     "output_type": "display_data"
    },
    {
     "name": "stdout",
     "output_type": "stream",
     "text": [
      "\n",
      "     pcost       dcost       gap    pres   dres\n",
      " 0: -1.2728e+01 -6.6316e+00  4e+02  2e+01  4e-16\n",
      " 1: -7.8316e+00 -1.7964e+00  2e+01  1e+00  4e-16\n",
      " 2: -5.2569e-02 -6.4178e-05  7e-01  3e-02  3e-15\n",
      " 3: -5.2662e-04 -6.4249e-09  7e-03  3e-04  5e-16\n",
      " 4: -5.2663e-06 -6.4249e-13  7e-05  3e-06  7e-16\n",
      " 5: -5.2663e-08 -6.4249e-17  7e-07  3e-08  6e-16\n",
      " 6: -5.2663e-10 -6.4239e-21  7e-09  3e-10  6e-16\n",
      "Optimal solution found.\n",
      "\n",
      " Calculating prediction values\n"
     ]
    },
    {
     "data": {
      "application/vnd.jupyter.widget-view+json": {
       "model_id": "edf33e24cf044ac8b572c74932064f0d",
       "version_major": 2,
       "version_minor": 0
      },
      "text/plain": [
       "HBox(children=(IntProgress(value=0, max=34), HTML(value='')))"
      ]
     },
     "metadata": {},
     "output_type": "display_data"
    },
    {
     "name": "stdout",
     "output_type": "stream",
     "text": [
      "\n",
      "fold is 1\n",
      "\n",
      " Calculating fullXmatrix\n"
     ]
    },
    {
     "data": {
      "application/vnd.jupyter.widget-view+json": {
       "model_id": "4f3e1386b1e1493e9ab128518dd66e1b",
       "version_major": 2,
       "version_minor": 0
      },
      "text/plain": [
       "HBox(children=(IntProgress(value=0, max=67), HTML(value='')))"
      ]
     },
     "metadata": {},
     "output_type": "display_data"
    },
    {
     "name": "stdout",
     "output_type": "stream",
     "text": [
      "\n",
      "\n",
      " Calculating Kernalized Product\n"
     ]
    },
    {
     "data": {
      "application/vnd.jupyter.widget-view+json": {
       "model_id": "886e7a53f9044528a64d5fd99057d391",
       "version_major": 2,
       "version_minor": 0
      },
      "text/plain": [
       "HBox(children=(IntProgress(value=0, max=67), HTML(value='')))"
      ]
     },
     "metadata": {},
     "output_type": "display_data"
    },
    {
     "name": "stdout",
     "output_type": "stream",
     "text": [
      "\n",
      "\n",
      " Calculating Kernalized Product\n"
     ]
    },
    {
     "data": {
      "application/vnd.jupyter.widget-view+json": {
       "model_id": "2856f2977e0e4ba494ccb5c14f0b6797",
       "version_major": 2,
       "version_minor": 0
      },
      "text/plain": [
       "HBox(children=(IntProgress(value=0, max=134), HTML(value='')))"
      ]
     },
     "metadata": {},
     "output_type": "display_data"
    },
    {
     "name": "stdout",
     "output_type": "stream",
     "text": [
      "\n",
      "\n",
      " Calculating Kernalized Product\n"
     ]
    },
    {
     "data": {
      "application/vnd.jupyter.widget-view+json": {
       "model_id": "f7e15d4d4bbd4363ada8d35a1b29f9bf",
       "version_major": 2,
       "version_minor": 0
      },
      "text/plain": [
       "HBox(children=(IntProgress(value=0, max=134), HTML(value='')))"
      ]
     },
     "metadata": {},
     "output_type": "display_data"
    },
    {
     "name": "stdout",
     "output_type": "stream",
     "text": [
      "\n",
      "     pcost       dcost       gap    pres   dres\n",
      " 0: -1.3017e+01 -6.7948e+00  4e+02  2e+01  3e-16\n",
      " 1: -8.0396e+00 -1.8145e+00  2e+01  1e+00  4e-16\n",
      " 2: -7.7230e-02 -1.1304e-04  7e-01  3e-02  4e-15\n",
      " 3: -7.7433e-04 -1.1330e-08  7e-03  3e-04  7e-16\n",
      " 4: -7.7434e-06 -1.1330e-12  7e-05  3e-06  6e-16\n",
      " 5: -7.7434e-08 -1.1330e-16  7e-07  3e-08  6e-16\n",
      " 6: -7.7434e-10 -1.1331e-20  7e-09  3e-10  7e-16\n",
      "Optimal solution found.\n",
      "\n",
      " Calculating prediction values\n"
     ]
    },
    {
     "data": {
      "application/vnd.jupyter.widget-view+json": {
       "model_id": "9c8a4427595644538da19c7913952494",
       "version_major": 2,
       "version_minor": 0
      },
      "text/plain": [
       "HBox(children=(IntProgress(value=0, max=33), HTML(value='')))"
      ]
     },
     "metadata": {},
     "output_type": "display_data"
    },
    {
     "name": "stdout",
     "output_type": "stream",
     "text": [
      "\n",
      "fold is 2\n",
      "\n",
      " Calculating fullXmatrix\n"
     ]
    },
    {
     "data": {
      "application/vnd.jupyter.widget-view+json": {
       "model_id": "d093e8ae7c4541feb378ba363e574735",
       "version_major": 2,
       "version_minor": 0
      },
      "text/plain": [
       "HBox(children=(IntProgress(value=0, max=67), HTML(value='')))"
      ]
     },
     "metadata": {},
     "output_type": "display_data"
    },
    {
     "name": "stdout",
     "output_type": "stream",
     "text": [
      "\n",
      "\n",
      " Calculating Kernalized Product\n"
     ]
    },
    {
     "data": {
      "application/vnd.jupyter.widget-view+json": {
       "model_id": "da1e66ead8374a46be0765b741ef272a",
       "version_major": 2,
       "version_minor": 0
      },
      "text/plain": [
       "HBox(children=(IntProgress(value=0, max=67), HTML(value='')))"
      ]
     },
     "metadata": {},
     "output_type": "display_data"
    },
    {
     "name": "stdout",
     "output_type": "stream",
     "text": [
      "\n",
      "\n",
      " Calculating Kernalized Product\n"
     ]
    },
    {
     "data": {
      "application/vnd.jupyter.widget-view+json": {
       "model_id": "c973e3132f804af59a0e128c6b8a7bf9",
       "version_major": 2,
       "version_minor": 0
      },
      "text/plain": [
       "HBox(children=(IntProgress(value=0, max=134), HTML(value='')))"
      ]
     },
     "metadata": {},
     "output_type": "display_data"
    },
    {
     "name": "stdout",
     "output_type": "stream",
     "text": [
      "\n",
      "\n",
      " Calculating Kernalized Product\n"
     ]
    },
    {
     "data": {
      "application/vnd.jupyter.widget-view+json": {
       "model_id": "9086ad9049344b4698501db453a97930",
       "version_major": 2,
       "version_minor": 0
      },
      "text/plain": [
       "HBox(children=(IntProgress(value=0, max=134), HTML(value='')))"
      ]
     },
     "metadata": {},
     "output_type": "display_data"
    },
    {
     "name": "stdout",
     "output_type": "stream",
     "text": [
      "\n",
      "     pcost       dcost       gap    pres   dres\n",
      " 0: -1.3273e+01 -6.8674e+00  4e+02  2e+01  4e-16\n",
      " 1: -8.1178e+00 -1.7984e+00  2e+01  1e+00  4e-16\n",
      " 2: -5.7326e-02 -6.9153e-05  7e-01  3e-02  4e-15\n",
      " 3: -5.7423e-04 -6.9219e-09  7e-03  3e-04  6e-16\n",
      " 4: -5.7424e-06 -6.9219e-13  7e-05  3e-06  6e-16\n",
      " 5: -5.7424e-08 -6.9219e-17  7e-07  3e-08  6e-16\n",
      " 6: -5.7424e-10 -6.9227e-21  7e-09  3e-10  6e-16\n",
      "Optimal solution found.\n",
      "\n",
      " Calculating prediction values\n"
     ]
    },
    {
     "data": {
      "application/vnd.jupyter.widget-view+json": {
       "model_id": "7c8111d3390741df9b1837e4384e6740",
       "version_major": 2,
       "version_minor": 0
      },
      "text/plain": [
       "HBox(children=(IntProgress(value=0, max=33), HTML(value='')))"
      ]
     },
     "metadata": {},
     "output_type": "display_data"
    },
    {
     "name": "stdout",
     "output_type": "stream",
     "text": [
      "\n",
      "fold is 0\n",
      "\n",
      " Calculating fullXmatrix\n"
     ]
    },
    {
     "data": {
      "application/vnd.jupyter.widget-view+json": {
       "model_id": "c7b5c41af11a478095ea9edcc89318bd",
       "version_major": 2,
       "version_minor": 0
      },
      "text/plain": [
       "HBox(children=(IntProgress(value=0, max=66), HTML(value='')))"
      ]
     },
     "metadata": {},
     "output_type": "display_data"
    },
    {
     "name": "stdout",
     "output_type": "stream",
     "text": [
      "\n",
      "\n",
      " Calculating Kernalized Product\n"
     ]
    },
    {
     "data": {
      "application/vnd.jupyter.widget-view+json": {
       "model_id": "fbeca6d376764c6c9f039f21c62c1fb9",
       "version_major": 2,
       "version_minor": 0
      },
      "text/plain": [
       "HBox(children=(IntProgress(value=0, max=66), HTML(value='')))"
      ]
     },
     "metadata": {},
     "output_type": "display_data"
    },
    {
     "name": "stdout",
     "output_type": "stream",
     "text": [
      "\n",
      "\n",
      " Calculating Kernalized Product\n"
     ]
    },
    {
     "data": {
      "application/vnd.jupyter.widget-view+json": {
       "model_id": "1cabf29678b342199f245739c40aeca2",
       "version_major": 2,
       "version_minor": 0
      },
      "text/plain": [
       "HBox(children=(IntProgress(value=0, max=132), HTML(value='')))"
      ]
     },
     "metadata": {},
     "output_type": "display_data"
    },
    {
     "name": "stdout",
     "output_type": "stream",
     "text": [
      "\n",
      "\n",
      " Calculating Kernalized Product\n"
     ]
    },
    {
     "data": {
      "application/vnd.jupyter.widget-view+json": {
       "model_id": "2ddd46d1a19141849fa1d9fbbaf758ae",
       "version_major": 2,
       "version_minor": 0
      },
      "text/plain": [
       "HBox(children=(IntProgress(value=0, max=132), HTML(value='')))"
      ]
     },
     "metadata": {},
     "output_type": "display_data"
    },
    {
     "name": "stdout",
     "output_type": "stream",
     "text": [
      "\n",
      "     pcost       dcost       gap    pres   dres\n",
      " 0: -9.0934e+00 -5.3618e+00  4e+02  2e+01  3e-16\n",
      " 1: -6.3652e+00 -2.0256e+00  2e+01  1e+00  4e-16\n",
      " 2: -4.6388e-01 -7.5409e-03  2e+00  9e-02  3e-15\n",
      " 3: -4.7384e-03 -7.5669e-07  2e-02  1e-03  2e-15\n",
      " 4: -4.7391e-05 -7.5669e-11  2e-04  1e-05  2e-15\n",
      " 5: -4.7391e-07 -7.5669e-15  2e-06  1e-07  2e-15\n",
      " 6: -4.7391e-09 -7.5669e-19  2e-08  1e-09  2e-15\n",
      "Optimal solution found.\n",
      "\n",
      " Calculating prediction values\n"
     ]
    },
    {
     "data": {
      "application/vnd.jupyter.widget-view+json": {
       "model_id": "d131c104f0324c16a5eb6a9d198743ff",
       "version_major": 2,
       "version_minor": 0
      },
      "text/plain": [
       "HBox(children=(IntProgress(value=0, max=34), HTML(value='')))"
      ]
     },
     "metadata": {},
     "output_type": "display_data"
    },
    {
     "name": "stdout",
     "output_type": "stream",
     "text": [
      "\n",
      "fold is 1\n",
      "\n",
      " Calculating fullXmatrix\n"
     ]
    },
    {
     "data": {
      "application/vnd.jupyter.widget-view+json": {
       "model_id": "b279ef30c7f34a019a325e3110d1b39c",
       "version_major": 2,
       "version_minor": 0
      },
      "text/plain": [
       "HBox(children=(IntProgress(value=0, max=67), HTML(value='')))"
      ]
     },
     "metadata": {},
     "output_type": "display_data"
    },
    {
     "name": "stdout",
     "output_type": "stream",
     "text": [
      "\n",
      "\n",
      " Calculating Kernalized Product\n"
     ]
    },
    {
     "data": {
      "application/vnd.jupyter.widget-view+json": {
       "model_id": "1302dc49f9c148269f23259960b2ed87",
       "version_major": 2,
       "version_minor": 0
      },
      "text/plain": [
       "HBox(children=(IntProgress(value=0, max=67), HTML(value='')))"
      ]
     },
     "metadata": {},
     "output_type": "display_data"
    },
    {
     "name": "stdout",
     "output_type": "stream",
     "text": [
      "\n",
      "\n",
      " Calculating Kernalized Product\n"
     ]
    },
    {
     "data": {
      "application/vnd.jupyter.widget-view+json": {
       "model_id": "9b64bceadb0c490cbb5d8ef33190ec6d",
       "version_major": 2,
       "version_minor": 0
      },
      "text/plain": [
       "HBox(children=(IntProgress(value=0, max=134), HTML(value='')))"
      ]
     },
     "metadata": {},
     "output_type": "display_data"
    },
    {
     "name": "stdout",
     "output_type": "stream",
     "text": [
      "\n",
      "\n",
      " Calculating Kernalized Product\n"
     ]
    },
    {
     "data": {
      "application/vnd.jupyter.widget-view+json": {
       "model_id": "ed00f66a845247f4aeaa2ae4b93f81e4",
       "version_major": 2,
       "version_minor": 0
      },
      "text/plain": [
       "HBox(children=(IntProgress(value=0, max=134), HTML(value='')))"
      ]
     },
     "metadata": {},
     "output_type": "display_data"
    },
    {
     "name": "stdout",
     "output_type": "stream",
     "text": [
      "\n",
      "     pcost       dcost       gap    pres   dres\n",
      " 0: -9.1660e+00 -5.4893e+00  4e+02  2e+01  3e-16\n",
      " 1: -6.5465e+00 -2.1006e+00  2e+01  1e+00  4e-16\n",
      " 2: -2.8596e-01 -2.9189e-03  1e+00  7e-02  3e-15\n",
      " 3: -2.8980e-03 -2.9272e-07  1e-02  7e-04  2e-15\n",
      " 4: -2.8983e-05 -2.9272e-11  1e-04  7e-06  2e-15\n",
      " 5: -2.8983e-07 -2.9272e-15  1e-06  7e-08  2e-15\n",
      " 6: -2.8983e-09 -2.9272e-19  1e-08  7e-10  2e-15\n",
      "Optimal solution found.\n",
      "\n",
      " Calculating prediction values\n"
     ]
    },
    {
     "data": {
      "application/vnd.jupyter.widget-view+json": {
       "model_id": "55a782395e6947638169e981571b90f8",
       "version_major": 2,
       "version_minor": 0
      },
      "text/plain": [
       "HBox(children=(IntProgress(value=0, max=33), HTML(value='')))"
      ]
     },
     "metadata": {},
     "output_type": "display_data"
    },
    {
     "name": "stdout",
     "output_type": "stream",
     "text": [
      "\n",
      "fold is 2\n",
      "\n",
      " Calculating fullXmatrix\n"
     ]
    },
    {
     "data": {
      "application/vnd.jupyter.widget-view+json": {
       "model_id": "b7b936d2b0794c0bbc0847b4880fa9c5",
       "version_major": 2,
       "version_minor": 0
      },
      "text/plain": [
       "HBox(children=(IntProgress(value=0, max=67), HTML(value='')))"
      ]
     },
     "metadata": {},
     "output_type": "display_data"
    },
    {
     "name": "stdout",
     "output_type": "stream",
     "text": [
      "\n",
      "\n",
      " Calculating Kernalized Product\n"
     ]
    },
    {
     "data": {
      "application/vnd.jupyter.widget-view+json": {
       "model_id": "59954ab8524b4afe8335ef50f3da75e2",
       "version_major": 2,
       "version_minor": 0
      },
      "text/plain": [
       "HBox(children=(IntProgress(value=0, max=67), HTML(value='')))"
      ]
     },
     "metadata": {},
     "output_type": "display_data"
    },
    {
     "name": "stdout",
     "output_type": "stream",
     "text": [
      "\n",
      "\n",
      " Calculating Kernalized Product\n"
     ]
    },
    {
     "data": {
      "application/vnd.jupyter.widget-view+json": {
       "model_id": "ae58c963429d4cd59469527be7603d70",
       "version_major": 2,
       "version_minor": 0
      },
      "text/plain": [
       "HBox(children=(IntProgress(value=0, max=134), HTML(value='')))"
      ]
     },
     "metadata": {},
     "output_type": "display_data"
    },
    {
     "name": "stdout",
     "output_type": "stream",
     "text": [
      "\n",
      "\n",
      " Calculating Kernalized Product\n"
     ]
    },
    {
     "data": {
      "application/vnd.jupyter.widget-view+json": {
       "model_id": "46170c448f034bcd9262cdce243fd849",
       "version_major": 2,
       "version_minor": 0
      },
      "text/plain": [
       "HBox(children=(IntProgress(value=0, max=134), HTML(value='')))"
      ]
     },
     "metadata": {},
     "output_type": "display_data"
    },
    {
     "name": "stdout",
     "output_type": "stream",
     "text": [
      "\n",
      "     pcost       dcost       gap    pres   dres\n",
      " 0: -9.3735e+00 -5.5462e+00  4e+02  2e+01  3e-16\n",
      " 1: -6.6090e+00 -2.0771e+00  2e+01  1e+00  4e-16\n",
      " 2: -3.8338e-01 -4.6868e-03  2e+00  8e-02  3e-15\n",
      " 3: -3.8985e-03 -4.7173e-07  2e-02  8e-04  2e-15\n",
      " 4: -3.8989e-05 -4.7173e-11  2e-04  8e-06  2e-15\n",
      " 5: -3.8989e-07 -4.7173e-15  2e-06  8e-08  2e-15\n",
      " 6: -3.8989e-09 -4.7173e-19  2e-08  8e-10  2e-15\n",
      "Optimal solution found.\n",
      "\n",
      " Calculating prediction values\n"
     ]
    },
    {
     "data": {
      "application/vnd.jupyter.widget-view+json": {
       "model_id": "5f5f354e241f4601bcdce023107a94df",
       "version_major": 2,
       "version_minor": 0
      },
      "text/plain": [
       "HBox(children=(IntProgress(value=0, max=33), HTML(value='')))"
      ]
     },
     "metadata": {},
     "output_type": "display_data"
    },
    {
     "name": "stdout",
     "output_type": "stream",
     "text": [
      "\n",
      "fold is 0\n",
      "\n",
      " Calculating fullXmatrix\n"
     ]
    },
    {
     "data": {
      "application/vnd.jupyter.widget-view+json": {
       "model_id": "5d495dec98c74658aa01abc660f27751",
       "version_major": 2,
       "version_minor": 0
      },
      "text/plain": [
       "HBox(children=(IntProgress(value=0, max=66), HTML(value='')))"
      ]
     },
     "metadata": {},
     "output_type": "display_data"
    },
    {
     "name": "stdout",
     "output_type": "stream",
     "text": [
      "\n",
      "\n",
      " Calculating Kernalized Product\n"
     ]
    },
    {
     "data": {
      "application/vnd.jupyter.widget-view+json": {
       "model_id": "a4257b62df2a4f75a975253381cdf573",
       "version_major": 2,
       "version_minor": 0
      },
      "text/plain": [
       "HBox(children=(IntProgress(value=0, max=66), HTML(value='')))"
      ]
     },
     "metadata": {},
     "output_type": "display_data"
    },
    {
     "name": "stdout",
     "output_type": "stream",
     "text": [
      "\n",
      "\n",
      " Calculating Kernalized Product\n"
     ]
    },
    {
     "data": {
      "application/vnd.jupyter.widget-view+json": {
       "model_id": "93c04cad8f0c4b4cbe2b55af1c383945",
       "version_major": 2,
       "version_minor": 0
      },
      "text/plain": [
       "HBox(children=(IntProgress(value=0, max=132), HTML(value='')))"
      ]
     },
     "metadata": {},
     "output_type": "display_data"
    },
    {
     "name": "stdout",
     "output_type": "stream",
     "text": [
      "\n",
      "\n",
      " Calculating Kernalized Product\n"
     ]
    },
    {
     "data": {
      "application/vnd.jupyter.widget-view+json": {
       "model_id": "446e9bb687e74602812e411ac1da325c",
       "version_major": 2,
       "version_minor": 0
      },
      "text/plain": [
       "HBox(children=(IntProgress(value=0, max=132), HTML(value='')))"
      ]
     },
     "metadata": {},
     "output_type": "display_data"
    },
    {
     "name": "stdout",
     "output_type": "stream",
     "text": [
      "\n",
      "     pcost       dcost       gap    pres   dres\n",
      " 0: -6.2550e+00 -4.1073e+00  4e+02  2e+01  3e-16\n",
      " 1: -4.8334e+00 -1.9906e+00  2e+01  1e+00  4e-16\n",
      " 2: -8.2582e-01 -4.3617e-02  3e+00  2e-01  2e-15\n",
      " 3: -8.5545e-03 -3.9970e-06  3e-02  2e-03  3e-15\n",
      " 4: -8.5584e-05 -3.9970e-10  3e-04  2e-05  2e-15\n",
      " 5: -8.5585e-07 -3.9970e-14  3e-06  2e-07  2e-15\n",
      " 6: -8.5585e-09 -3.9970e-18  3e-08  2e-09  2e-15\n",
      "Optimal solution found.\n",
      "\n",
      " Calculating prediction values\n"
     ]
    },
    {
     "data": {
      "application/vnd.jupyter.widget-view+json": {
       "model_id": "023c13defae046318d08bec88d1e4130",
       "version_major": 2,
       "version_minor": 0
      },
      "text/plain": [
       "HBox(children=(IntProgress(value=0, max=34), HTML(value='')))"
      ]
     },
     "metadata": {},
     "output_type": "display_data"
    },
    {
     "name": "stdout",
     "output_type": "stream",
     "text": [
      "\n",
      "fold is 1\n",
      "\n",
      " Calculating fullXmatrix\n"
     ]
    },
    {
     "data": {
      "application/vnd.jupyter.widget-view+json": {
       "model_id": "c1ecb64983bf4ee58fade0eb8a5f67ef",
       "version_major": 2,
       "version_minor": 0
      },
      "text/plain": [
       "HBox(children=(IntProgress(value=0, max=67), HTML(value='')))"
      ]
     },
     "metadata": {},
     "output_type": "display_data"
    },
    {
     "name": "stdout",
     "output_type": "stream",
     "text": [
      "\n",
      "\n",
      " Calculating Kernalized Product\n"
     ]
    },
    {
     "data": {
      "application/vnd.jupyter.widget-view+json": {
       "model_id": "ecb4d314e8bb47968efacf085defc642",
       "version_major": 2,
       "version_minor": 0
      },
      "text/plain": [
       "HBox(children=(IntProgress(value=0, max=67), HTML(value='')))"
      ]
     },
     "metadata": {},
     "output_type": "display_data"
    },
    {
     "name": "stdout",
     "output_type": "stream",
     "text": [
      "\n",
      "\n",
      " Calculating Kernalized Product\n"
     ]
    },
    {
     "data": {
      "application/vnd.jupyter.widget-view+json": {
       "model_id": "519a20fc122c454684919e0929305f2f",
       "version_major": 2,
       "version_minor": 0
      },
      "text/plain": [
       "HBox(children=(IntProgress(value=0, max=134), HTML(value='')))"
      ]
     },
     "metadata": {},
     "output_type": "display_data"
    },
    {
     "name": "stdout",
     "output_type": "stream",
     "text": [
      "\n",
      "\n",
      " Calculating Kernalized Product\n"
     ]
    },
    {
     "data": {
      "application/vnd.jupyter.widget-view+json": {
       "model_id": "475c02783c4b4c9496a996aa328416c2",
       "version_major": 2,
       "version_minor": 0
      },
      "text/plain": [
       "HBox(children=(IntProgress(value=0, max=134), HTML(value='')))"
      ]
     },
     "metadata": {},
     "output_type": "display_data"
    },
    {
     "name": "stdout",
     "output_type": "stream",
     "text": [
      "\n",
      "     pcost       dcost       gap    pres   dres\n",
      " 0: -6.2379e+00 -4.1860e+00  4e+02  2e+01  3e-16\n",
      " 1: -4.9366e+00 -2.0872e+00  3e+01  1e+00  4e-16\n",
      " 2: -7.2687e-01 -3.2521e-02  3e+00  1e-01  2e-15\n",
      " 3: -7.5377e-03 -3.0843e-06  3e-02  1e-03  3e-15\n",
      " 4: -7.5408e-05 -3.0843e-10  3e-04  1e-05  2e-15\n",
      " 5: -7.5408e-07 -3.0843e-14  3e-06  1e-07  2e-15\n",
      " 6: -7.5408e-09 -3.0843e-18  3e-08  1e-09  2e-15\n",
      "Optimal solution found.\n",
      "\n",
      " Calculating prediction values\n"
     ]
    },
    {
     "data": {
      "application/vnd.jupyter.widget-view+json": {
       "model_id": "11aad984a9cb40cb87ef87159fac7c25",
       "version_major": 2,
       "version_minor": 0
      },
      "text/plain": [
       "HBox(children=(IntProgress(value=0, max=33), HTML(value='')))"
      ]
     },
     "metadata": {},
     "output_type": "display_data"
    },
    {
     "name": "stdout",
     "output_type": "stream",
     "text": [
      "\n",
      "fold is 2\n",
      "\n",
      " Calculating fullXmatrix\n"
     ]
    },
    {
     "data": {
      "application/vnd.jupyter.widget-view+json": {
       "model_id": "f669630aacea45a9a885588b5c48349d",
       "version_major": 2,
       "version_minor": 0
      },
      "text/plain": [
       "HBox(children=(IntProgress(value=0, max=67), HTML(value='')))"
      ]
     },
     "metadata": {},
     "output_type": "display_data"
    },
    {
     "name": "stdout",
     "output_type": "stream",
     "text": [
      "\n",
      "\n",
      " Calculating Kernalized Product\n"
     ]
    },
    {
     "data": {
      "application/vnd.jupyter.widget-view+json": {
       "model_id": "17a624797e4c4b748cb5530026023e20",
       "version_major": 2,
       "version_minor": 0
      },
      "text/plain": [
       "HBox(children=(IntProgress(value=0, max=67), HTML(value='')))"
      ]
     },
     "metadata": {},
     "output_type": "display_data"
    },
    {
     "name": "stdout",
     "output_type": "stream",
     "text": [
      "\n",
      "\n",
      " Calculating Kernalized Product\n"
     ]
    },
    {
     "data": {
      "application/vnd.jupyter.widget-view+json": {
       "model_id": "76d2c3f0501c4fbba417133af809d892",
       "version_major": 2,
       "version_minor": 0
      },
      "text/plain": [
       "HBox(children=(IntProgress(value=0, max=134), HTML(value='')))"
      ]
     },
     "metadata": {},
     "output_type": "display_data"
    },
    {
     "name": "stdout",
     "output_type": "stream",
     "text": [
      "\n",
      "\n",
      " Calculating Kernalized Product\n"
     ]
    },
    {
     "data": {
      "application/vnd.jupyter.widget-view+json": {
       "model_id": "596ab9b748584581b21c4293d3cf489a",
       "version_major": 2,
       "version_minor": 0
      },
      "text/plain": [
       "HBox(children=(IntProgress(value=0, max=134), HTML(value='')))"
      ]
     },
     "metadata": {},
     "output_type": "display_data"
    },
    {
     "name": "stdout",
     "output_type": "stream",
     "text": [
      "\n",
      "     pcost       dcost       gap    pres   dres\n",
      " 0: -6.3523e+00 -4.2196e+00  4e+02  2e+01  3e-16\n",
      " 1: -4.9811e+00 -2.0527e+00  3e+01  1e+00  4e-16\n",
      " 2: -8.0982e-01 -3.8348e-02  3e+00  2e-01  3e-15\n",
      " 3: -8.3843e-03 -3.6111e-06  3e-02  2e-03  3e-15\n",
      " 4: -8.3879e-05 -3.6111e-10  3e-04  2e-05  2e-15\n",
      " 5: -8.3879e-07 -3.6111e-14  3e-06  2e-07  2e-15\n",
      " 6: -8.3879e-09 -3.6111e-18  3e-08  2e-09  2e-15\n",
      "Optimal solution found.\n",
      "\n",
      " Calculating prediction values\n"
     ]
    },
    {
     "data": {
      "application/vnd.jupyter.widget-view+json": {
       "model_id": "13861fa914ec4273995fc9bf16d6f2a7",
       "version_major": 2,
       "version_minor": 0
      },
      "text/plain": [
       "HBox(children=(IntProgress(value=0, max=33), HTML(value='')))"
      ]
     },
     "metadata": {},
     "output_type": "display_data"
    },
    {
     "name": "stdout",
     "output_type": "stream",
     "text": [
      "\n",
      "fold is 0\n",
      "\n",
      " Calculating fullXmatrix\n"
     ]
    },
    {
     "data": {
      "application/vnd.jupyter.widget-view+json": {
       "model_id": "7265e82e4f6742009a9e9d517810b8dd",
       "version_major": 2,
       "version_minor": 0
      },
      "text/plain": [
       "HBox(children=(IntProgress(value=0, max=66), HTML(value='')))"
      ]
     },
     "metadata": {},
     "output_type": "display_data"
    },
    {
     "name": "stdout",
     "output_type": "stream",
     "text": [
      "\n",
      "\n",
      " Calculating Kernalized Product\n"
     ]
    },
    {
     "data": {
      "application/vnd.jupyter.widget-view+json": {
       "model_id": "9b31b2276d354cbab0af5b8a11ac2047",
       "version_major": 2,
       "version_minor": 0
      },
      "text/plain": [
       "HBox(children=(IntProgress(value=0, max=66), HTML(value='')))"
      ]
     },
     "metadata": {},
     "output_type": "display_data"
    },
    {
     "name": "stdout",
     "output_type": "stream",
     "text": [
      "\n",
      "\n",
      " Calculating Kernalized Product\n"
     ]
    },
    {
     "data": {
      "application/vnd.jupyter.widget-view+json": {
       "model_id": "53757a78c90b47eca4ad8a5e79023e22",
       "version_major": 2,
       "version_minor": 0
      },
      "text/plain": [
       "HBox(children=(IntProgress(value=0, max=132), HTML(value='')))"
      ]
     },
     "metadata": {},
     "output_type": "display_data"
    },
    {
     "name": "stdout",
     "output_type": "stream",
     "text": [
      "\n",
      "\n",
      " Calculating Kernalized Product\n"
     ]
    },
    {
     "data": {
      "application/vnd.jupyter.widget-view+json": {
       "model_id": "2664dd8825ea404cbe128b1be9e09428",
       "version_major": 2,
       "version_minor": 0
      },
      "text/plain": [
       "HBox(children=(IntProgress(value=0, max=132), HTML(value='')))"
      ]
     },
     "metadata": {},
     "output_type": "display_data"
    },
    {
     "name": "stdout",
     "output_type": "stream",
     "text": [
      "\n",
      "     pcost       dcost       gap    pres   dres\n",
      " 0: -4.2301e+00 -3.0393e+00  4e+02  2e+01  3e-16\n",
      " 1: -3.5119e+00 -1.7740e+00  2e+01  1e+00  4e-16\n",
      " 2: -8.7902e-01 -8.4653e-02  3e+00  2e-01  2e-15\n",
      " 3: -8.5599e-03 -5.9164e-06  4e-02  2e-03  4e-15\n",
      " 4: -8.5661e-05 -5.9168e-10  4e-04  2e-05  1e-15\n",
      " 5: -8.5661e-07 -5.9168e-14  4e-06  2e-07  1e-15\n",
      " 6: -8.5661e-09 -5.9168e-18  4e-08  2e-09  1e-15\n",
      "Optimal solution found.\n",
      "\n",
      " Calculating prediction values\n"
     ]
    },
    {
     "data": {
      "application/vnd.jupyter.widget-view+json": {
       "model_id": "47c411298faf42d786ccbcc3610301a5",
       "version_major": 2,
       "version_minor": 0
      },
      "text/plain": [
       "HBox(children=(IntProgress(value=0, max=34), HTML(value='')))"
      ]
     },
     "metadata": {},
     "output_type": "display_data"
    },
    {
     "name": "stdout",
     "output_type": "stream",
     "text": [
      "\n",
      "fold is 1\n",
      "\n",
      " Calculating fullXmatrix\n"
     ]
    },
    {
     "data": {
      "application/vnd.jupyter.widget-view+json": {
       "model_id": "61596062c66540a2b36b12d0b9426ace",
       "version_major": 2,
       "version_minor": 0
      },
      "text/plain": [
       "HBox(children=(IntProgress(value=0, max=67), HTML(value='')))"
      ]
     },
     "metadata": {},
     "output_type": "display_data"
    },
    {
     "name": "stdout",
     "output_type": "stream",
     "text": [
      "\n",
      "\n",
      " Calculating Kernalized Product\n"
     ]
    },
    {
     "data": {
      "application/vnd.jupyter.widget-view+json": {
       "model_id": "cd08f5ffa73047baa3a91aaa96f571bd",
       "version_major": 2,
       "version_minor": 0
      },
      "text/plain": [
       "HBox(children=(IntProgress(value=0, max=67), HTML(value='')))"
      ]
     },
     "metadata": {},
     "output_type": "display_data"
    },
    {
     "name": "stdout",
     "output_type": "stream",
     "text": [
      "\n",
      "\n",
      " Calculating Kernalized Product\n"
     ]
    },
    {
     "data": {
      "application/vnd.jupyter.widget-view+json": {
       "model_id": "595ca3a8d4ad4b3886f068c509b9a790",
       "version_major": 2,
       "version_minor": 0
      },
      "text/plain": [
       "HBox(children=(IntProgress(value=0, max=134), HTML(value='')))"
      ]
     },
     "metadata": {},
     "output_type": "display_data"
    },
    {
     "name": "stdout",
     "output_type": "stream",
     "text": [
      "\n",
      "\n",
      " Calculating Kernalized Product\n"
     ]
    },
    {
     "data": {
      "application/vnd.jupyter.widget-view+json": {
       "model_id": "d37f2bb5538247358d8c7f89c7d03006",
       "version_major": 2,
       "version_minor": 0
      },
      "text/plain": [
       "HBox(children=(IntProgress(value=0, max=134), HTML(value='')))"
      ]
     },
     "metadata": {},
     "output_type": "display_data"
    },
    {
     "name": "stdout",
     "output_type": "stream",
     "text": [
      "\n",
      "     pcost       dcost       gap    pres   dres\n",
      " 0: -4.1926e+00 -3.0745e+00  4e+02  2e+01  3e-16\n",
      " 1: -3.5457e+00 -1.8538e+00  2e+01  1e+00  3e-16\n",
      " 2: -8.7307e-01 -7.7607e-02  3e+00  2e-01  1e-15\n",
      " 3: -8.7007e-03 -5.9162e-06  4e-02  2e-03  3e-15\n",
      " 4: -8.7067e-05 -5.9163e-10  4e-04  2e-05  1e-15\n",
      " 5: -8.7067e-07 -5.9163e-14  4e-06  2e-07  1e-15\n",
      " 6: -8.7067e-09 -5.9163e-18  4e-08  2e-09  1e-15\n",
      "Optimal solution found.\n",
      "\n",
      " Calculating prediction values\n"
     ]
    },
    {
     "data": {
      "application/vnd.jupyter.widget-view+json": {
       "model_id": "4885bd06a5304731a7b7faa97801bd57",
       "version_major": 2,
       "version_minor": 0
      },
      "text/plain": [
       "HBox(children=(IntProgress(value=0, max=33), HTML(value='')))"
      ]
     },
     "metadata": {},
     "output_type": "display_data"
    },
    {
     "name": "stdout",
     "output_type": "stream",
     "text": [
      "\n",
      "fold is 2\n",
      "\n",
      " Calculating fullXmatrix\n"
     ]
    },
    {
     "data": {
      "application/vnd.jupyter.widget-view+json": {
       "model_id": "afad0c9699144bc198f013ab50bdc14b",
       "version_major": 2,
       "version_minor": 0
      },
      "text/plain": [
       "HBox(children=(IntProgress(value=0, max=67), HTML(value='')))"
      ]
     },
     "metadata": {},
     "output_type": "display_data"
    },
    {
     "name": "stdout",
     "output_type": "stream",
     "text": [
      "\n",
      "\n",
      " Calculating Kernalized Product\n"
     ]
    },
    {
     "data": {
      "application/vnd.jupyter.widget-view+json": {
       "model_id": "9a048d8ba428453299a6277cfd58741c",
       "version_major": 2,
       "version_minor": 0
      },
      "text/plain": [
       "HBox(children=(IntProgress(value=0, max=67), HTML(value='')))"
      ]
     },
     "metadata": {},
     "output_type": "display_data"
    },
    {
     "name": "stdout",
     "output_type": "stream",
     "text": [
      "\n",
      "\n",
      " Calculating Kernalized Product\n"
     ]
    },
    {
     "data": {
      "application/vnd.jupyter.widget-view+json": {
       "model_id": "0da931a4b810452d9ba44f2edfc627b6",
       "version_major": 2,
       "version_minor": 0
      },
      "text/plain": [
       "HBox(children=(IntProgress(value=0, max=134), HTML(value='')))"
      ]
     },
     "metadata": {},
     "output_type": "display_data"
    },
    {
     "name": "stdout",
     "output_type": "stream",
     "text": [
      "\n",
      "\n",
      " Calculating Kernalized Product\n"
     ]
    },
    {
     "data": {
      "application/vnd.jupyter.widget-view+json": {
       "model_id": "d51e56e1afa0418c841d23c890c696a2",
       "version_major": 2,
       "version_minor": 0
      },
      "text/plain": [
       "HBox(children=(IntProgress(value=0, max=134), HTML(value='')))"
      ]
     },
     "metadata": {},
     "output_type": "display_data"
    },
    {
     "name": "stdout",
     "output_type": "stream",
     "text": [
      "\n",
      "     pcost       dcost       gap    pres   dres\n",
      " 0: -4.2484e+00 -3.0908e+00  4e+02  2e+01  3e-16\n",
      " 1: -3.5762e+00 -1.8256e+00  3e+01  1e+00  4e-16\n",
      " 2: -8.8858e-01 -8.3291e-02  3e+00  2e-01  1e-15\n",
      " 3: -8.6129e-03 -5.8949e-06  4e-02  2e-03  3e-15\n",
      " 4: -8.6189e-05 -5.8951e-10  4e-04  2e-05  1e-15\n",
      " 5: -8.6189e-07 -5.8951e-14  4e-06  2e-07  1e-15\n",
      " 6: -8.6189e-09 -5.8951e-18  4e-08  2e-09  1e-15\n",
      "Optimal solution found.\n",
      "\n",
      " Calculating prediction values\n"
     ]
    },
    {
     "data": {
      "application/vnd.jupyter.widget-view+json": {
       "model_id": "3d746e0c509047b6bcb8dc046c6e2e01",
       "version_major": 2,
       "version_minor": 0
      },
      "text/plain": [
       "HBox(children=(IntProgress(value=0, max=33), HTML(value='')))"
      ]
     },
     "metadata": {},
     "output_type": "display_data"
    },
    {
     "name": "stdout",
     "output_type": "stream",
     "text": [
      "\n",
      "fold is 0\n",
      "\n",
      " Calculating fullXmatrix\n"
     ]
    },
    {
     "data": {
      "application/vnd.jupyter.widget-view+json": {
       "model_id": "fb8efd4f91ff4adc82be017f54f48778",
       "version_major": 2,
       "version_minor": 0
      },
      "text/plain": [
       "HBox(children=(IntProgress(value=0, max=66), HTML(value='')))"
      ]
     },
     "metadata": {},
     "output_type": "display_data"
    },
    {
     "name": "stdout",
     "output_type": "stream",
     "text": [
      "\n",
      "\n",
      " Calculating Kernalized Product\n"
     ]
    },
    {
     "data": {
      "application/vnd.jupyter.widget-view+json": {
       "model_id": "537683987e414ac982ca7e718451ca7d",
       "version_major": 2,
       "version_minor": 0
      },
      "text/plain": [
       "HBox(children=(IntProgress(value=0, max=66), HTML(value='')))"
      ]
     },
     "metadata": {},
     "output_type": "display_data"
    },
    {
     "name": "stdout",
     "output_type": "stream",
     "text": [
      "\n",
      "\n",
      " Calculating Kernalized Product\n"
     ]
    },
    {
     "data": {
      "application/vnd.jupyter.widget-view+json": {
       "model_id": "7053ecaecf674bef860fc4c7ad2d6e57",
       "version_major": 2,
       "version_minor": 0
      },
      "text/plain": [
       "HBox(children=(IntProgress(value=0, max=132), HTML(value='')))"
      ]
     },
     "metadata": {},
     "output_type": "display_data"
    },
    {
     "name": "stdout",
     "output_type": "stream",
     "text": [
      "\n",
      "\n",
      " Calculating Kernalized Product\n"
     ]
    },
    {
     "data": {
      "application/vnd.jupyter.widget-view+json": {
       "model_id": "30b8d239118f4b05b0fd5775bdfaae3a",
       "version_major": 2,
       "version_minor": 0
      },
      "text/plain": [
       "HBox(children=(IntProgress(value=0, max=132), HTML(value='')))"
      ]
     },
     "metadata": {},
     "output_type": "display_data"
    },
    {
     "name": "stdout",
     "output_type": "stream",
     "text": [
      "\n",
      "     pcost       dcost       gap    pres   dres\n",
      " 0: -2.9200e+00 -2.2433e+00  3e+02  2e+01  3e-16\n",
      " 1: -2.5367e+00 -1.4919e+00  2e+01  1e+00  4e-16\n",
      " 2: -8.2582e-01 -1.1539e-01  3e+00  2e-01  9e-16\n",
      " 3: -7.0741e-03 -5.5458e-06  4e-02  2e-03  4e-15\n",
      " 4: -7.0808e-05 -5.5479e-10  4e-04  2e-05  7e-16\n",
      " 5: -7.0809e-07 -5.5479e-14  4e-06  2e-07  9e-16\n",
      " 6: -7.0809e-09 -5.5479e-18  4e-08  2e-09  7e-16\n",
      "Optimal solution found.\n",
      "\n",
      " Calculating prediction values\n"
     ]
    },
    {
     "data": {
      "application/vnd.jupyter.widget-view+json": {
       "model_id": "89f6427705de4b7988a82c5712bcf876",
       "version_major": 2,
       "version_minor": 0
      },
      "text/plain": [
       "HBox(children=(IntProgress(value=0, max=34), HTML(value='')))"
      ]
     },
     "metadata": {},
     "output_type": "display_data"
    },
    {
     "name": "stdout",
     "output_type": "stream",
     "text": [
      "\n",
      "fold is 1\n",
      "\n",
      " Calculating fullXmatrix\n"
     ]
    },
    {
     "data": {
      "application/vnd.jupyter.widget-view+json": {
       "model_id": "e5eb780c333749a0aada6fba1cbe2b49",
       "version_major": 2,
       "version_minor": 0
      },
      "text/plain": [
       "HBox(children=(IntProgress(value=0, max=67), HTML(value='')))"
      ]
     },
     "metadata": {},
     "output_type": "display_data"
    },
    {
     "name": "stdout",
     "output_type": "stream",
     "text": [
      "\n",
      "\n",
      " Calculating Kernalized Product\n"
     ]
    },
    {
     "data": {
      "application/vnd.jupyter.widget-view+json": {
       "model_id": "3bfab771b2f54aacb83a022f3d7df092",
       "version_major": 2,
       "version_minor": 0
      },
      "text/plain": [
       "HBox(children=(IntProgress(value=0, max=67), HTML(value='')))"
      ]
     },
     "metadata": {},
     "output_type": "display_data"
    },
    {
     "name": "stdout",
     "output_type": "stream",
     "text": [
      "\n",
      "\n",
      " Calculating Kernalized Product\n"
     ]
    },
    {
     "data": {
      "application/vnd.jupyter.widget-view+json": {
       "model_id": "c1e06b897e76426bad9d8e297d91302c",
       "version_major": 2,
       "version_minor": 0
      },
      "text/plain": [
       "HBox(children=(IntProgress(value=0, max=134), HTML(value='')))"
      ]
     },
     "metadata": {},
     "output_type": "display_data"
    },
    {
     "name": "stdout",
     "output_type": "stream",
     "text": [
      "\n",
      "\n",
      " Calculating Kernalized Product\n"
     ]
    },
    {
     "data": {
      "application/vnd.jupyter.widget-view+json": {
       "model_id": "79b1b3194d5a434ea8ed0db94a41e7da",
       "version_major": 2,
       "version_minor": 0
      },
      "text/plain": [
       "HBox(children=(IntProgress(value=0, max=134), HTML(value='')))"
      ]
     },
     "metadata": {},
     "output_type": "display_data"
    },
    {
     "name": "stdout",
     "output_type": "stream",
     "text": [
      "\n",
      "     pcost       dcost       gap    pres   dres\n",
      " 0: -2.8914e+00 -2.2544e+00  3e+02  2e+01  3e-16\n",
      " 1: -2.5369e+00 -1.5431e+00  2e+01  1e+00  4e-16\n",
      " 2: -8.6385e-01 -1.1638e-01  3e+00  2e-01  7e-16\n",
      " 3: -7.6289e-03 -6.2384e-06  4e-02  2e-03  4e-15\n",
      " 4: -7.6360e-05 -6.2401e-10  4e-04  2e-05  8e-16\n",
      " 5: -7.6361e-07 -6.2401e-14  4e-06  2e-07  9e-16\n",
      " 6: -7.6361e-09 -6.2401e-18  4e-08  2e-09  8e-16\n",
      "Optimal solution found.\n",
      "\n",
      " Calculating prediction values\n"
     ]
    },
    {
     "data": {
      "application/vnd.jupyter.widget-view+json": {
       "model_id": "248c65604b2f4653b3e300c5d8a5446b",
       "version_major": 2,
       "version_minor": 0
      },
      "text/plain": [
       "HBox(children=(IntProgress(value=0, max=33), HTML(value='')))"
      ]
     },
     "metadata": {},
     "output_type": "display_data"
    },
    {
     "name": "stdout",
     "output_type": "stream",
     "text": [
      "\n",
      "fold is 2\n",
      "\n",
      " Calculating fullXmatrix\n"
     ]
    },
    {
     "data": {
      "application/vnd.jupyter.widget-view+json": {
       "model_id": "6bf2fcb37fc24bd0a9ce105fb937b8cf",
       "version_major": 2,
       "version_minor": 0
      },
      "text/plain": [
       "HBox(children=(IntProgress(value=0, max=67), HTML(value='')))"
      ]
     },
     "metadata": {},
     "output_type": "display_data"
    },
    {
     "name": "stdout",
     "output_type": "stream",
     "text": [
      "\n",
      "\n",
      " Calculating Kernalized Product\n"
     ]
    },
    {
     "data": {
      "application/vnd.jupyter.widget-view+json": {
       "model_id": "132969e624514769a5bdba7b8e28cdea",
       "version_major": 2,
       "version_minor": 0
      },
      "text/plain": [
       "HBox(children=(IntProgress(value=0, max=67), HTML(value='')))"
      ]
     },
     "metadata": {},
     "output_type": "display_data"
    },
    {
     "name": "stdout",
     "output_type": "stream",
     "text": [
      "\n",
      "\n",
      " Calculating Kernalized Product\n"
     ]
    },
    {
     "data": {
      "application/vnd.jupyter.widget-view+json": {
       "model_id": "1c74e4f1d7ba4388b0a6197791043432",
       "version_major": 2,
       "version_minor": 0
      },
      "text/plain": [
       "HBox(children=(IntProgress(value=0, max=134), HTML(value='')))"
      ]
     },
     "metadata": {},
     "output_type": "display_data"
    },
    {
     "name": "stdout",
     "output_type": "stream",
     "text": [
      "\n",
      "\n",
      " Calculating Kernalized Product\n"
     ]
    },
    {
     "data": {
      "application/vnd.jupyter.widget-view+json": {
       "model_id": "56a7c9afef4e4cc280c6f4cbf9f9b4c0",
       "version_major": 2,
       "version_minor": 0
      },
      "text/plain": [
       "HBox(children=(IntProgress(value=0, max=134), HTML(value='')))"
      ]
     },
     "metadata": {},
     "output_type": "display_data"
    },
    {
     "name": "stdout",
     "output_type": "stream",
     "text": [
      "\n",
      "     pcost       dcost       gap    pres   dres\n",
      " 0: -2.9223e+00 -2.2614e+00  4e+02  2e+01  3e-16\n",
      " 1: -2.5545e+00 -1.5223e+00  2e+01  1e+00  4e-16\n",
      " 2: -8.5972e-01 -1.2334e-01  3e+00  2e-01  9e-16\n",
      " 3: -7.3085e-03 -5.9062e-06  5e-02  2e-03  4e-15\n",
      " 4: -7.3155e-05 -5.9082e-10  5e-04  2e-05  8e-16\n",
      " 5: -7.3156e-07 -5.9082e-14  5e-06  2e-07  9e-16\n",
      " 6: -7.3156e-09 -5.9082e-18  5e-08  2e-09  7e-16\n",
      "Optimal solution found.\n",
      "\n",
      " Calculating prediction values\n"
     ]
    },
    {
     "data": {
      "application/vnd.jupyter.widget-view+json": {
       "model_id": "d97e2307e7ba4b84a0e30bb61034618b",
       "version_major": 2,
       "version_minor": 0
      },
      "text/plain": [
       "HBox(children=(IntProgress(value=0, max=33), HTML(value='')))"
      ]
     },
     "metadata": {},
     "output_type": "display_data"
    },
    {
     "name": "stdout",
     "output_type": "stream",
     "text": [
      "\n",
      "fold is 0\n",
      "\n",
      " Calculating fullXmatrix\n"
     ]
    },
    {
     "data": {
      "application/vnd.jupyter.widget-view+json": {
       "model_id": "cc6fc7788cc740849d132e7b4cc8a3c3",
       "version_major": 2,
       "version_minor": 0
      },
      "text/plain": [
       "HBox(children=(IntProgress(value=0, max=66), HTML(value='')))"
      ]
     },
     "metadata": {},
     "output_type": "display_data"
    },
    {
     "name": "stdout",
     "output_type": "stream",
     "text": [
      "\n",
      "\n",
      " Calculating Kernalized Product\n"
     ]
    },
    {
     "data": {
      "application/vnd.jupyter.widget-view+json": {
       "model_id": "80e305a1370146dab11b25441356643c",
       "version_major": 2,
       "version_minor": 0
      },
      "text/plain": [
       "HBox(children=(IntProgress(value=0, max=66), HTML(value='')))"
      ]
     },
     "metadata": {},
     "output_type": "display_data"
    },
    {
     "name": "stdout",
     "output_type": "stream",
     "text": [
      "\n",
      "\n",
      " Calculating Kernalized Product\n"
     ]
    },
    {
     "data": {
      "application/vnd.jupyter.widget-view+json": {
       "model_id": "18b74f3f77d74562955bcd3628126f0d",
       "version_major": 2,
       "version_minor": 0
      },
      "text/plain": [
       "HBox(children=(IntProgress(value=0, max=132), HTML(value='')))"
      ]
     },
     "metadata": {},
     "output_type": "display_data"
    },
    {
     "name": "stdout",
     "output_type": "stream",
     "text": [
      "\n",
      "\n",
      " Calculating Kernalized Product\n"
     ]
    },
    {
     "data": {
      "application/vnd.jupyter.widget-view+json": {
       "model_id": "11333128be994257a7d5e8eaf4ac0c9b",
       "version_major": 2,
       "version_minor": 0
      },
      "text/plain": [
       "HBox(children=(IntProgress(value=0, max=132), HTML(value='')))"
      ]
     },
     "metadata": {},
     "output_type": "display_data"
    },
    {
     "name": "stdout",
     "output_type": "stream",
     "text": [
      "\n",
      "     pcost       dcost       gap    pres   dres\n",
      " 0: -1.2980e+00 -1.1016e+00  3e+02  2e+01  2e-16\n",
      " 1: -1.1857e+00 -8.8830e-01  2e+01  9e-01  3e-16\n",
      " 2: -5.8844e-01 -1.3364e-01  2e+00  1e-01  7e-16\n",
      " 3: -3.1319e-03 -2.2143e-06  4e-02  2e-03  5e-15\n",
      " 4: -3.1360e-05 -2.2171e-10  4e-04  2e-05  5e-16\n",
      " 5: -3.1360e-07 -2.2171e-14  4e-06  2e-07  5e-16\n",
      " 6: -3.1360e-09 -2.2171e-18  4e-08  2e-09  5e-16\n",
      "Optimal solution found.\n",
      "\n",
      " Calculating prediction values\n"
     ]
    },
    {
     "data": {
      "application/vnd.jupyter.widget-view+json": {
       "model_id": "60e3c99873cf4db593068e935027fd7d",
       "version_major": 2,
       "version_minor": 0
      },
      "text/plain": [
       "HBox(children=(IntProgress(value=0, max=34), HTML(value='')))"
      ]
     },
     "metadata": {},
     "output_type": "display_data"
    },
    {
     "name": "stdout",
     "output_type": "stream",
     "text": [
      "\n",
      "fold is 1\n",
      "\n",
      " Calculating fullXmatrix\n"
     ]
    },
    {
     "data": {
      "application/vnd.jupyter.widget-view+json": {
       "model_id": "85aaff5f133145049a0fd936ec6a766f",
       "version_major": 2,
       "version_minor": 0
      },
      "text/plain": [
       "HBox(children=(IntProgress(value=0, max=67), HTML(value='')))"
      ]
     },
     "metadata": {},
     "output_type": "display_data"
    },
    {
     "name": "stdout",
     "output_type": "stream",
     "text": [
      "\n",
      "\n",
      " Calculating Kernalized Product\n"
     ]
    },
    {
     "data": {
      "application/vnd.jupyter.widget-view+json": {
       "model_id": "30b4fa14c3564a458820de062c28543f",
       "version_major": 2,
       "version_minor": 0
      },
      "text/plain": [
       "HBox(children=(IntProgress(value=0, max=67), HTML(value='')))"
      ]
     },
     "metadata": {},
     "output_type": "display_data"
    },
    {
     "name": "stdout",
     "output_type": "stream",
     "text": [
      "\n",
      "\n",
      " Calculating Kernalized Product\n"
     ]
    },
    {
     "data": {
      "application/vnd.jupyter.widget-view+json": {
       "model_id": "58ffc3304f964fd69c608a68e7654e5b",
       "version_major": 2,
       "version_minor": 0
      },
      "text/plain": [
       "HBox(children=(IntProgress(value=0, max=134), HTML(value='')))"
      ]
     },
     "metadata": {},
     "output_type": "display_data"
    },
    {
     "name": "stdout",
     "output_type": "stream",
     "text": [
      "\n",
      "\n",
      " Calculating Kernalized Product\n"
     ]
    },
    {
     "data": {
      "application/vnd.jupyter.widget-view+json": {
       "model_id": "f027480005a740d0891a8d557963a71d",
       "version_major": 2,
       "version_minor": 0
      },
      "text/plain": [
       "HBox(children=(IntProgress(value=0, max=134), HTML(value='')))"
      ]
     },
     "metadata": {},
     "output_type": "display_data"
    },
    {
     "name": "stdout",
     "output_type": "stream",
     "text": [
      "\n",
      "     pcost       dcost       gap    pres   dres\n",
      " 0: -1.2990e+00 -1.1022e+00  3e+02  2e+01  2e-16\n",
      " 1: -1.1805e+00 -8.9818e-01  2e+01  9e-01  4e-16\n",
      " 2: -6.3845e-01 -1.5277e-01  2e+00  1e-01  7e-16\n",
      " 3: -3.1443e-03 -2.1684e-06  5e-02  2e-03  5e-15\n",
      " 4: -3.1487e-05 -2.1716e-10  5e-04  2e-05  4e-16\n",
      " 5: -3.1487e-07 -2.1716e-14  5e-06  2e-07  5e-16\n",
      " 6: -3.1487e-09 -2.1716e-18  5e-08  2e-09  5e-16\n",
      "Optimal solution found.\n",
      "\n",
      " Calculating prediction values\n"
     ]
    },
    {
     "data": {
      "application/vnd.jupyter.widget-view+json": {
       "model_id": "92eb667da7904cd9a3244eb1e8fa1672",
       "version_major": 2,
       "version_minor": 0
      },
      "text/plain": [
       "HBox(children=(IntProgress(value=0, max=33), HTML(value='')))"
      ]
     },
     "metadata": {},
     "output_type": "display_data"
    },
    {
     "name": "stdout",
     "output_type": "stream",
     "text": [
      "\n",
      "fold is 2\n",
      "\n",
      " Calculating fullXmatrix\n"
     ]
    },
    {
     "data": {
      "application/vnd.jupyter.widget-view+json": {
       "model_id": "6654b3f210de49d4b0d723b81f6d9139",
       "version_major": 2,
       "version_minor": 0
      },
      "text/plain": [
       "HBox(children=(IntProgress(value=0, max=67), HTML(value='')))"
      ]
     },
     "metadata": {},
     "output_type": "display_data"
    },
    {
     "name": "stdout",
     "output_type": "stream",
     "text": [
      "\n",
      "\n",
      " Calculating Kernalized Product\n"
     ]
    },
    {
     "data": {
      "application/vnd.jupyter.widget-view+json": {
       "model_id": "e788819b6da24eceb87daa55a0bb43a9",
       "version_major": 2,
       "version_minor": 0
      },
      "text/plain": [
       "HBox(children=(IntProgress(value=0, max=67), HTML(value='')))"
      ]
     },
     "metadata": {},
     "output_type": "display_data"
    },
    {
     "name": "stdout",
     "output_type": "stream",
     "text": [
      "\n",
      "\n",
      " Calculating Kernalized Product\n"
     ]
    },
    {
     "data": {
      "application/vnd.jupyter.widget-view+json": {
       "model_id": "436942c6b9c34009b8bf7d70ed555e84",
       "version_major": 2,
       "version_minor": 0
      },
      "text/plain": [
       "HBox(children=(IntProgress(value=0, max=134), HTML(value='')))"
      ]
     },
     "metadata": {},
     "output_type": "display_data"
    },
    {
     "name": "stdout",
     "output_type": "stream",
     "text": [
      "\n",
      "\n",
      " Calculating Kernalized Product\n"
     ]
    },
    {
     "data": {
      "application/vnd.jupyter.widget-view+json": {
       "model_id": "aff6af91a1f442a2bcd5ab655c0ed1a8",
       "version_major": 2,
       "version_minor": 0
      },
      "text/plain": [
       "HBox(children=(IntProgress(value=0, max=134), HTML(value='')))"
      ]
     },
     "metadata": {},
     "output_type": "display_data"
    },
    {
     "name": "stdout",
     "output_type": "stream",
     "text": [
      "\n",
      "     pcost       dcost       gap    pres   dres\n",
      " 0: -1.3111e+00 -1.1020e+00  3e+02  2e+01  2e-16\n",
      " 1: -1.1829e+00 -8.8869e-01  2e+01  1e+00  4e-16\n",
      " 2: -6.3884e-01 -1.6096e-01  2e+00  1e-01  6e-16\n",
      " 3: -3.0591e-03 -2.0303e-06  5e-02  2e-03  5e-15\n",
      " 4: -3.0638e-05 -2.0338e-10  5e-04  2e-05  5e-16\n",
      " 5: -3.0638e-07 -2.0338e-14  5e-06  2e-07  6e-16\n",
      " 6: -3.0638e-09 -2.0338e-18  5e-08  2e-09  5e-16\n",
      "Optimal solution found.\n",
      "\n",
      " Calculating prediction values\n"
     ]
    },
    {
     "data": {
      "application/vnd.jupyter.widget-view+json": {
       "model_id": "aece23657d6242c8b11f2f8981594352",
       "version_major": 2,
       "version_minor": 0
      },
      "text/plain": [
       "HBox(children=(IntProgress(value=0, max=33), HTML(value='')))"
      ]
     },
     "metadata": {},
     "output_type": "display_data"
    },
    {
     "name": "stdout",
     "output_type": "stream",
     "text": [
      "\n",
      "fold is 0\n",
      "\n",
      " Calculating fullXmatrix\n"
     ]
    },
    {
     "data": {
      "application/vnd.jupyter.widget-view+json": {
       "model_id": "630af38f8c764f35ad95c079b41455a2",
       "version_major": 2,
       "version_minor": 0
      },
      "text/plain": [
       "HBox(children=(IntProgress(value=0, max=66), HTML(value='')))"
      ]
     },
     "metadata": {},
     "output_type": "display_data"
    },
    {
     "name": "stdout",
     "output_type": "stream",
     "text": [
      "\n",
      "\n",
      " Calculating Kernalized Product\n"
     ]
    },
    {
     "data": {
      "application/vnd.jupyter.widget-view+json": {
       "model_id": "d82e31b7830241e88dbaa075cbc085a6",
       "version_major": 2,
       "version_minor": 0
      },
      "text/plain": [
       "HBox(children=(IntProgress(value=0, max=66), HTML(value='')))"
      ]
     },
     "metadata": {},
     "output_type": "display_data"
    },
    {
     "name": "stdout",
     "output_type": "stream",
     "text": [
      "\n",
      "\n",
      " Calculating Kernalized Product\n"
     ]
    },
    {
     "data": {
      "application/vnd.jupyter.widget-view+json": {
       "model_id": "3525f115ab1149f1be2f041c65998450",
       "version_major": 2,
       "version_minor": 0
      },
      "text/plain": [
       "HBox(children=(IntProgress(value=0, max=132), HTML(value='')))"
      ]
     },
     "metadata": {},
     "output_type": "display_data"
    },
    {
     "name": "stdout",
     "output_type": "stream",
     "text": [
      "\n",
      "\n",
      " Calculating Kernalized Product\n"
     ]
    },
    {
     "data": {
      "application/vnd.jupyter.widget-view+json": {
       "model_id": "8f7eaa9759814374a094787b7bb1a5fe",
       "version_major": 2,
       "version_minor": 0
      },
      "text/plain": [
       "HBox(children=(IntProgress(value=0, max=132), HTML(value='')))"
      ]
     },
     "metadata": {},
     "output_type": "display_data"
    },
    {
     "name": "stdout",
     "output_type": "stream",
     "text": [
      "\n",
      "     pcost       dcost       gap    pres   dres\n",
      " 0:  1.9199e+04 -3.3383e+04  5e+04  4e-17  9e-15\n",
      " 1:  2.7693e+03 -3.5725e+03  6e+03  2e-16  1e-14\n",
      " 2:  3.2782e+02 -6.0373e+02  9e+02  2e-16  3e-15\n",
      " 3:  1.2282e+01 -1.1636e+02  1e+02  2e-16  1e-15\n",
      " 4: -2.0148e+01 -3.5528e+01  2e+01  2e-16  4e-16\n",
      " 5: -2.1691e+01 -2.2376e+01  7e-01  2e-16  2e-16\n",
      " 6: -2.1696e+01 -2.1703e+01  7e-03  2e-16  1e-16\n",
      " 7: -2.1696e+01 -2.1696e+01  7e-05  2e-16  1e-16\n",
      " 8: -2.1696e+01 -2.1696e+01  7e-07  2e-16  1e-16\n",
      "Optimal solution found.\n",
      "\n",
      " Calculating prediction values\n"
     ]
    },
    {
     "data": {
      "application/vnd.jupyter.widget-view+json": {
       "model_id": "e0f9b4378d2f41a19946361399fbf345",
       "version_major": 2,
       "version_minor": 0
      },
      "text/plain": [
       "HBox(children=(IntProgress(value=0, max=34), HTML(value='')))"
      ]
     },
     "metadata": {},
     "output_type": "display_data"
    },
    {
     "name": "stdout",
     "output_type": "stream",
     "text": [
      "\n",
      "fold is 1\n",
      "\n",
      " Calculating fullXmatrix\n"
     ]
    },
    {
     "data": {
      "application/vnd.jupyter.widget-view+json": {
       "model_id": "994af3ac064748bfa017afb6f59735de",
       "version_major": 2,
       "version_minor": 0
      },
      "text/plain": [
       "HBox(children=(IntProgress(value=0, max=67), HTML(value='')))"
      ]
     },
     "metadata": {},
     "output_type": "display_data"
    },
    {
     "name": "stdout",
     "output_type": "stream",
     "text": [
      "\n",
      "\n",
      " Calculating Kernalized Product\n"
     ]
    },
    {
     "data": {
      "application/vnd.jupyter.widget-view+json": {
       "model_id": "5c4889f7ba0c4cd495612e2db802b493",
       "version_major": 2,
       "version_minor": 0
      },
      "text/plain": [
       "HBox(children=(IntProgress(value=0, max=67), HTML(value='')))"
      ]
     },
     "metadata": {},
     "output_type": "display_data"
    },
    {
     "name": "stdout",
     "output_type": "stream",
     "text": [
      "\n",
      "\n",
      " Calculating Kernalized Product\n"
     ]
    },
    {
     "data": {
      "application/vnd.jupyter.widget-view+json": {
       "model_id": "de4e8d2965154570b04cb68a82ef4d9d",
       "version_major": 2,
       "version_minor": 0
      },
      "text/plain": [
       "HBox(children=(IntProgress(value=0, max=134), HTML(value='')))"
      ]
     },
     "metadata": {},
     "output_type": "display_data"
    },
    {
     "name": "stdout",
     "output_type": "stream",
     "text": [
      "\n",
      "\n",
      " Calculating Kernalized Product\n"
     ]
    },
    {
     "data": {
      "application/vnd.jupyter.widget-view+json": {
       "model_id": "034968b0e29e44b3b7823d126a24f8dd",
       "version_major": 2,
       "version_minor": 0
      },
      "text/plain": [
       "HBox(children=(IntProgress(value=0, max=134), HTML(value='')))"
      ]
     },
     "metadata": {},
     "output_type": "display_data"
    },
    {
     "name": "stdout",
     "output_type": "stream",
     "text": [
      "\n",
      "     pcost       dcost       gap    pres   dres\n",
      " 0:  1.9468e+04 -4.1601e+04  6e+04  5e-17  9e-15\n",
      " 1:  3.0032e+03 -3.7855e+03  7e+03  1e-16  1e-14\n",
      " 2:  3.5850e+02 -6.5098e+02  1e+03  2e-16  3e-15\n",
      " 3:  1.5484e+01 -1.2380e+02  1e+02  2e-16  1e-15\n",
      " 4: -2.0219e+01 -3.7061e+01  2e+01  2e-16  4e-16\n",
      " 5: -2.1993e+01 -2.2795e+01  8e-01  2e-16  2e-16\n",
      " 6: -2.1999e+01 -2.2008e+01  8e-03  2e-16  1e-16\n",
      " 7: -2.1999e+01 -2.2000e+01  8e-05  2e-16  1e-16\n",
      " 8: -2.1999e+01 -2.1999e+01  8e-07  2e-16  1e-16\n",
      "Optimal solution found.\n",
      "\n",
      " Calculating prediction values\n"
     ]
    },
    {
     "data": {
      "application/vnd.jupyter.widget-view+json": {
       "model_id": "4c146fe00800458a93b533316929c9b3",
       "version_major": 2,
       "version_minor": 0
      },
      "text/plain": [
       "HBox(children=(IntProgress(value=0, max=33), HTML(value='')))"
      ]
     },
     "metadata": {},
     "output_type": "display_data"
    },
    {
     "name": "stdout",
     "output_type": "stream",
     "text": [
      "\n",
      "fold is 2\n",
      "\n",
      " Calculating fullXmatrix\n"
     ]
    },
    {
     "data": {
      "application/vnd.jupyter.widget-view+json": {
       "model_id": "48e33afbbeb04cc3a352826589fbe641",
       "version_major": 2,
       "version_minor": 0
      },
      "text/plain": [
       "HBox(children=(IntProgress(value=0, max=67), HTML(value='')))"
      ]
     },
     "metadata": {},
     "output_type": "display_data"
    },
    {
     "name": "stdout",
     "output_type": "stream",
     "text": [
      "\n",
      "\n",
      " Calculating Kernalized Product\n"
     ]
    },
    {
     "data": {
      "application/vnd.jupyter.widget-view+json": {
       "model_id": "209ff9ab44864998b3ad02e1fb9169fb",
       "version_major": 2,
       "version_minor": 0
      },
      "text/plain": [
       "HBox(children=(IntProgress(value=0, max=67), HTML(value='')))"
      ]
     },
     "metadata": {},
     "output_type": "display_data"
    },
    {
     "name": "stdout",
     "output_type": "stream",
     "text": [
      "\n",
      "\n",
      " Calculating Kernalized Product\n"
     ]
    },
    {
     "data": {
      "application/vnd.jupyter.widget-view+json": {
       "model_id": "e9f8b60459584f33a49a77baf985cb7e",
       "version_major": 2,
       "version_minor": 0
      },
      "text/plain": [
       "HBox(children=(IntProgress(value=0, max=134), HTML(value='')))"
      ]
     },
     "metadata": {},
     "output_type": "display_data"
    },
    {
     "name": "stdout",
     "output_type": "stream",
     "text": [
      "\n",
      "\n",
      " Calculating Kernalized Product\n"
     ]
    },
    {
     "data": {
      "application/vnd.jupyter.widget-view+json": {
       "model_id": "7688b10effa24660ab16f5b817f185fa",
       "version_major": 2,
       "version_minor": 0
      },
      "text/plain": [
       "HBox(children=(IntProgress(value=0, max=134), HTML(value='')))"
      ]
     },
     "metadata": {},
     "output_type": "display_data"
    },
    {
     "name": "stdout",
     "output_type": "stream",
     "text": [
      "\n",
      "     pcost       dcost       gap    pres   dres\n",
      " 0:  1.9499e+04 -3.4000e+04  5e+04  4e-17  8e-15\n",
      " 1:  2.8138e+03 -3.6274e+03  6e+03  2e-16  9e-15\n",
      " 2:  3.3302e+02 -6.1365e+02  9e+02  2e-16  3e-15\n",
      " 3:  1.2433e+01 -1.1828e+02  1e+02  2e-16  1e-15\n",
      " 4: -2.0507e+01 -3.6131e+01  2e+01  2e-16  4e-16\n",
      " 5: -2.2072e+01 -2.2767e+01  7e-01  2e-16  2e-16\n",
      " 6: -2.2077e+01 -2.2085e+01  7e-03  2e-16  1e-16\n",
      " 7: -2.2077e+01 -2.2077e+01  7e-05  2e-16  1e-16\n",
      " 8: -2.2077e+01 -2.2077e+01  7e-07  2e-16  1e-16\n",
      "Optimal solution found.\n",
      "\n",
      " Calculating prediction values\n"
     ]
    },
    {
     "data": {
      "application/vnd.jupyter.widget-view+json": {
       "model_id": "3c78b90dc30047ce99ab0e13aaeab657",
       "version_major": 2,
       "version_minor": 0
      },
      "text/plain": [
       "HBox(children=(IntProgress(value=0, max=33), HTML(value='')))"
      ]
     },
     "metadata": {},
     "output_type": "display_data"
    },
    {
     "name": "stdout",
     "output_type": "stream",
     "text": [
      "\n",
      "fold is 0\n",
      "\n",
      " Calculating fullXmatrix\n"
     ]
    },
    {
     "data": {
      "application/vnd.jupyter.widget-view+json": {
       "model_id": "d397e62858e14d63a07113dc92143a8e",
       "version_major": 2,
       "version_minor": 0
      },
      "text/plain": [
       "HBox(children=(IntProgress(value=0, max=66), HTML(value='')))"
      ]
     },
     "metadata": {},
     "output_type": "display_data"
    },
    {
     "name": "stdout",
     "output_type": "stream",
     "text": [
      "\n",
      "\n",
      " Calculating Kernalized Product\n"
     ]
    },
    {
     "data": {
      "application/vnd.jupyter.widget-view+json": {
       "model_id": "9be4feec6c1c40e1bbe87ab9828989e0",
       "version_major": 2,
       "version_minor": 0
      },
      "text/plain": [
       "HBox(children=(IntProgress(value=0, max=66), HTML(value='')))"
      ]
     },
     "metadata": {},
     "output_type": "display_data"
    },
    {
     "name": "stdout",
     "output_type": "stream",
     "text": [
      "\n",
      "\n",
      " Calculating Kernalized Product\n"
     ]
    },
    {
     "data": {
      "application/vnd.jupyter.widget-view+json": {
       "model_id": "8d5116de5d74415abab70e8acd601010",
       "version_major": 2,
       "version_minor": 0
      },
      "text/plain": [
       "HBox(children=(IntProgress(value=0, max=132), HTML(value='')))"
      ]
     },
     "metadata": {},
     "output_type": "display_data"
    },
    {
     "name": "stdout",
     "output_type": "stream",
     "text": [
      "\n",
      "\n",
      " Calculating Kernalized Product\n"
     ]
    },
    {
     "data": {
      "application/vnd.jupyter.widget-view+json": {
       "model_id": "0bc3bef067f642e4b60ec8113257ed9a",
       "version_major": 2,
       "version_minor": 0
      },
      "text/plain": [
       "HBox(children=(IntProgress(value=0, max=132), HTML(value='')))"
      ]
     },
     "metadata": {},
     "output_type": "display_data"
    },
    {
     "name": "stdout",
     "output_type": "stream",
     "text": [
      "\n",
      "     pcost       dcost       gap    pres   dres\n",
      " 0:  1.6261e+04 -5.7302e+04  7e+04  4e-17  2e-14\n",
      " 1:  2.8995e+03 -4.0214e+03  7e+03  2e-16  2e-14\n",
      " 2:  3.6255e+02 -5.9020e+02  1e+03  2e-16  9e-15\n",
      " 3:  2.5570e+01 -1.0850e+02  1e+02  2e-16  3e-15\n",
      " 4: -1.1916e+01 -2.8985e+01  2e+01  2e-16  1e-15\n",
      " 5: -1.4281e+01 -1.5424e+01  1e+00  2e-16  3e-16\n",
      " 6: -1.4308e+01 -1.4361e+01  5e-02  2e-16  3e-16\n",
      " 7: -1.4308e+01 -1.4310e+01  1e-03  2e-16  3e-16\n",
      " 8: -1.4308e+01 -1.4309e+01  3e-05  2e-16  3e-16\n",
      " 9: -1.4308e+01 -1.4308e+01  3e-07  2e-16  2e-16\n",
      "Optimal solution found.\n",
      "\n",
      " Calculating prediction values\n"
     ]
    },
    {
     "data": {
      "application/vnd.jupyter.widget-view+json": {
       "model_id": "ceddd88204104c91b1532514f3a3464d",
       "version_major": 2,
       "version_minor": 0
      },
      "text/plain": [
       "HBox(children=(IntProgress(value=0, max=34), HTML(value='')))"
      ]
     },
     "metadata": {},
     "output_type": "display_data"
    },
    {
     "name": "stdout",
     "output_type": "stream",
     "text": [
      "\n",
      "fold is 1\n",
      "\n",
      " Calculating fullXmatrix\n"
     ]
    },
    {
     "data": {
      "application/vnd.jupyter.widget-view+json": {
       "model_id": "e03a03c9b1274b2f8c8e99573afeab93",
       "version_major": 2,
       "version_minor": 0
      },
      "text/plain": [
       "HBox(children=(IntProgress(value=0, max=67), HTML(value='')))"
      ]
     },
     "metadata": {},
     "output_type": "display_data"
    },
    {
     "name": "stdout",
     "output_type": "stream",
     "text": [
      "\n",
      "\n",
      " Calculating Kernalized Product\n"
     ]
    },
    {
     "data": {
      "application/vnd.jupyter.widget-view+json": {
       "model_id": "8428475d8c9640eba8890d1b04871e18",
       "version_major": 2,
       "version_minor": 0
      },
      "text/plain": [
       "HBox(children=(IntProgress(value=0, max=67), HTML(value='')))"
      ]
     },
     "metadata": {},
     "output_type": "display_data"
    },
    {
     "name": "stdout",
     "output_type": "stream",
     "text": [
      "\n",
      "\n",
      " Calculating Kernalized Product\n"
     ]
    },
    {
     "data": {
      "application/vnd.jupyter.widget-view+json": {
       "model_id": "1d0937dbf4b746a593018be5df1044cb",
       "version_major": 2,
       "version_minor": 0
      },
      "text/plain": [
       "HBox(children=(IntProgress(value=0, max=134), HTML(value='')))"
      ]
     },
     "metadata": {},
     "output_type": "display_data"
    },
    {
     "name": "stdout",
     "output_type": "stream",
     "text": [
      "\n",
      "\n",
      " Calculating Kernalized Product\n"
     ]
    },
    {
     "data": {
      "application/vnd.jupyter.widget-view+json": {
       "model_id": "dfe4eef446e242a3918d31c13487a2cd",
       "version_major": 2,
       "version_minor": 0
      },
      "text/plain": [
       "HBox(children=(IntProgress(value=0, max=134), HTML(value='')))"
      ]
     },
     "metadata": {},
     "output_type": "display_data"
    },
    {
     "name": "stdout",
     "output_type": "stream",
     "text": [
      "\n",
      "     pcost       dcost       gap    pres   dres\n",
      " 0:  1.6663e+04 -5.5226e+04  7e+04  4e-17  2e-14\n",
      " 1:  2.9257e+03 -4.0230e+03  7e+03  2e-16  2e-14\n",
      " 2:  3.6534e+02 -5.9691e+02  1e+03  2e-16  8e-15\n",
      " 3:  2.5520e+01 -1.0975e+02  1e+02  1e-16  3e-15\n",
      " 4: -1.2208e+01 -2.9411e+01  2e+01  2e-16  9e-16\n",
      " 5: -1.4569e+01 -1.5710e+01  1e+00  2e-16  4e-16\n",
      " 6: -1.4595e+01 -1.4651e+01  6e-02  2e-16  3e-16\n",
      " 7: -1.4596e+01 -1.4598e+01  3e-03  2e-16  2e-16\n",
      " 8: -1.4596e+01 -1.4596e+01  9e-05  2e-16  3e-16\n",
      " 9: -1.4596e+01 -1.4596e+01  2e-06  2e-16  3e-16\n",
      "Optimal solution found.\n",
      "\n",
      " Calculating prediction values\n"
     ]
    },
    {
     "data": {
      "application/vnd.jupyter.widget-view+json": {
       "model_id": "52fd2057861e419b9c820192e4e5ce0c",
       "version_major": 2,
       "version_minor": 0
      },
      "text/plain": [
       "HBox(children=(IntProgress(value=0, max=33), HTML(value='')))"
      ]
     },
     "metadata": {},
     "output_type": "display_data"
    },
    {
     "name": "stdout",
     "output_type": "stream",
     "text": [
      "\n",
      "fold is 2\n",
      "\n",
      " Calculating fullXmatrix\n"
     ]
    },
    {
     "data": {
      "application/vnd.jupyter.widget-view+json": {
       "model_id": "f64d815aeadc473184fc1327ead1047a",
       "version_major": 2,
       "version_minor": 0
      },
      "text/plain": [
       "HBox(children=(IntProgress(value=0, max=67), HTML(value='')))"
      ]
     },
     "metadata": {},
     "output_type": "display_data"
    },
    {
     "name": "stdout",
     "output_type": "stream",
     "text": [
      "\n",
      "\n",
      " Calculating Kernalized Product\n"
     ]
    },
    {
     "data": {
      "application/vnd.jupyter.widget-view+json": {
       "model_id": "86d371f3dc2842c99b26825c59abbe2a",
       "version_major": 2,
       "version_minor": 0
      },
      "text/plain": [
       "HBox(children=(IntProgress(value=0, max=67), HTML(value='')))"
      ]
     },
     "metadata": {},
     "output_type": "display_data"
    },
    {
     "name": "stdout",
     "output_type": "stream",
     "text": [
      "\n",
      "\n",
      " Calculating Kernalized Product\n"
     ]
    },
    {
     "data": {
      "application/vnd.jupyter.widget-view+json": {
       "model_id": "de4d0fec69ac49ad90766555e6dac4d9",
       "version_major": 2,
       "version_minor": 0
      },
      "text/plain": [
       "HBox(children=(IntProgress(value=0, max=134), HTML(value='')))"
      ]
     },
     "metadata": {},
     "output_type": "display_data"
    },
    {
     "name": "stdout",
     "output_type": "stream",
     "text": [
      "\n",
      "\n",
      " Calculating Kernalized Product\n"
     ]
    },
    {
     "data": {
      "application/vnd.jupyter.widget-view+json": {
       "model_id": "3a4bc984f5d24c658e0caecda9c26bd7",
       "version_major": 2,
       "version_minor": 0
      },
      "text/plain": [
       "HBox(children=(IntProgress(value=0, max=134), HTML(value='')))"
      ]
     },
     "metadata": {},
     "output_type": "display_data"
    },
    {
     "name": "stdout",
     "output_type": "stream",
     "text": [
      "\n",
      "     pcost       dcost       gap    pres   dres\n",
      " 0:  1.6835e+04 -5.5304e+04  7e+04  4e-17  2e-14\n",
      " 1:  2.9518e+03 -4.0372e+03  7e+03  2e-16  2e-14\n",
      " 2:  3.6809e+02 -6.0355e+02  1e+03  2e-16  9e-15\n",
      " 3:  2.5427e+01 -1.1105e+02  1e+02  2e-16  2e-15\n",
      " 4: -1.2542e+01 -2.9873e+01  2e+01  2e-16  1e-15\n",
      " 5: -1.4903e+01 -1.6042e+01  1e+00  2e-16  4e-16\n",
      " 6: -1.4927e+01 -1.4974e+01  5e-02  2e-16  2e-16\n",
      " 7: -1.4927e+01 -1.4928e+01  1e-03  2e-16  3e-16\n",
      " 8: -1.4927e+01 -1.4927e+01  1e-05  2e-16  3e-16\n",
      "Optimal solution found.\n",
      "\n",
      " Calculating prediction values\n"
     ]
    },
    {
     "data": {
      "application/vnd.jupyter.widget-view+json": {
       "model_id": "4bb82294ba4349308090d82f19c1a3e3",
       "version_major": 2,
       "version_minor": 0
      },
      "text/plain": [
       "HBox(children=(IntProgress(value=0, max=33), HTML(value='')))"
      ]
     },
     "metadata": {},
     "output_type": "display_data"
    },
    {
     "name": "stdout",
     "output_type": "stream",
     "text": [
      "\n",
      "fold is 0\n",
      "\n",
      " Calculating fullXmatrix\n"
     ]
    },
    {
     "data": {
      "application/vnd.jupyter.widget-view+json": {
       "model_id": "98a533f9166c488aad91844f38ca0116",
       "version_major": 2,
       "version_minor": 0
      },
      "text/plain": [
       "HBox(children=(IntProgress(value=0, max=66), HTML(value='')))"
      ]
     },
     "metadata": {},
     "output_type": "display_data"
    },
    {
     "name": "stdout",
     "output_type": "stream",
     "text": [
      "\n",
      "\n",
      " Calculating Kernalized Product\n"
     ]
    },
    {
     "data": {
      "application/vnd.jupyter.widget-view+json": {
       "model_id": "bfdccc6442bc498bb072ffdd85c4c623",
       "version_major": 2,
       "version_minor": 0
      },
      "text/plain": [
       "HBox(children=(IntProgress(value=0, max=66), HTML(value='')))"
      ]
     },
     "metadata": {},
     "output_type": "display_data"
    },
    {
     "name": "stdout",
     "output_type": "stream",
     "text": [
      "\n",
      "\n",
      " Calculating Kernalized Product\n"
     ]
    },
    {
     "data": {
      "application/vnd.jupyter.widget-view+json": {
       "model_id": "caa5d93d3902491c9076e551bd2d2113",
       "version_major": 2,
       "version_minor": 0
      },
      "text/plain": [
       "HBox(children=(IntProgress(value=0, max=132), HTML(value='')))"
      ]
     },
     "metadata": {},
     "output_type": "display_data"
    },
    {
     "name": "stdout",
     "output_type": "stream",
     "text": [
      "\n",
      "\n",
      " Calculating Kernalized Product\n"
     ]
    },
    {
     "data": {
      "application/vnd.jupyter.widget-view+json": {
       "model_id": "57ba51284d2b4630bb1031d1224839e6",
       "version_major": 2,
       "version_minor": 0
      },
      "text/plain": [
       "HBox(children=(IntProgress(value=0, max=132), HTML(value='')))"
      ]
     },
     "metadata": {},
     "output_type": "display_data"
    },
    {
     "name": "stdout",
     "output_type": "stream",
     "text": [
      "\n",
      "     pcost       dcost       gap    pres   dres\n",
      " 0:  1.3209e+04 -5.0479e+04  6e+04  4e-17  2e-14\n",
      " 1:  2.3391e+03 -3.4409e+03  6e+03  2e-16  2e-14\n",
      " 2:  2.9637e+02 -4.6425e+02  8e+02  2e-16  8e-15\n",
      " 3:  2.3263e+01 -8.4603e+01  1e+02  2e-16  3e-15\n",
      " 4: -7.7747e+00 -2.1713e+01  1e+01  2e-16  1e-15\n",
      " 5: -9.8920e+00 -1.0924e+01  1e+00  2e-16  3e-16\n",
      " 6: -9.9297e+00 -1.0018e+01  9e-02  2e-16  2e-16\n",
      " 7: -9.9316e+00 -9.9393e+00  8e-03  2e-16  2e-16\n",
      " 8: -9.9317e+00 -9.9323e+00  6e-04  2e-16  2e-16\n",
      " 9: -9.9318e+00 -9.9318e+00  2e-05  2e-16  2e-16\n",
      "10: -9.9318e+00 -9.9318e+00  5e-07  2e-16  2e-16\n",
      "Optimal solution found.\n",
      "\n",
      " Calculating prediction values\n"
     ]
    },
    {
     "data": {
      "application/vnd.jupyter.widget-view+json": {
       "model_id": "5083dfe66708450eaf514f4647ad5dd0",
       "version_major": 2,
       "version_minor": 0
      },
      "text/plain": [
       "HBox(children=(IntProgress(value=0, max=34), HTML(value='')))"
      ]
     },
     "metadata": {},
     "output_type": "display_data"
    },
    {
     "name": "stdout",
     "output_type": "stream",
     "text": [
      "\n",
      "fold is 1\n",
      "\n",
      " Calculating fullXmatrix\n"
     ]
    },
    {
     "data": {
      "application/vnd.jupyter.widget-view+json": {
       "model_id": "9510753b751341f9b0e0e3b638c40e4a",
       "version_major": 2,
       "version_minor": 0
      },
      "text/plain": [
       "HBox(children=(IntProgress(value=0, max=67), HTML(value='')))"
      ]
     },
     "metadata": {},
     "output_type": "display_data"
    },
    {
     "name": "stdout",
     "output_type": "stream",
     "text": [
      "\n",
      "\n",
      " Calculating Kernalized Product\n"
     ]
    },
    {
     "data": {
      "application/vnd.jupyter.widget-view+json": {
       "model_id": "17c006b5e9f84d63bf7ec3a75e15117b",
       "version_major": 2,
       "version_minor": 0
      },
      "text/plain": [
       "HBox(children=(IntProgress(value=0, max=67), HTML(value='')))"
      ]
     },
     "metadata": {},
     "output_type": "display_data"
    },
    {
     "name": "stdout",
     "output_type": "stream",
     "text": [
      "\n",
      "\n",
      " Calculating Kernalized Product\n"
     ]
    },
    {
     "data": {
      "application/vnd.jupyter.widget-view+json": {
       "model_id": "4e4d9bb1ea2a418db6d3170e188f76ea",
       "version_major": 2,
       "version_minor": 0
      },
      "text/plain": [
       "HBox(children=(IntProgress(value=0, max=134), HTML(value='')))"
      ]
     },
     "metadata": {},
     "output_type": "display_data"
    },
    {
     "name": "stdout",
     "output_type": "stream",
     "text": [
      "\n",
      "\n",
      " Calculating Kernalized Product\n"
     ]
    },
    {
     "data": {
      "application/vnd.jupyter.widget-view+json": {
       "model_id": "939062c64e3645fea5af14d345961899",
       "version_major": 2,
       "version_minor": 0
      },
      "text/plain": [
       "HBox(children=(IntProgress(value=0, max=134), HTML(value='')))"
      ]
     },
     "metadata": {},
     "output_type": "display_data"
    },
    {
     "name": "stdout",
     "output_type": "stream",
     "text": [
      "\n",
      "     pcost       dcost       gap    pres   dres\n",
      " 0:  1.3530e+04 -4.6132e+04  6e+04  4e-17  1e-14\n",
      " 1:  2.3373e+03 -3.3602e+03  6e+03  2e-16  2e-14\n",
      " 2:  2.9591e+02 -4.6511e+02  8e+02  2e-16  8e-15\n",
      " 3:  2.3166e+01 -8.4545e+01  1e+02  2e-16  3e-15\n",
      " 4: -7.8067e+00 -2.1724e+01  1e+01  2e-16  9e-16\n",
      " 5: -9.9113e+00 -1.0939e+01  1e+00  2e-16  3e-16\n",
      " 6: -9.9457e+00 -1.0051e+01  1e-01  2e-16  2e-16\n",
      " 7: -9.9477e+00 -9.9576e+00  1e-02  2e-16  2e-16\n",
      " 8: -9.9480e+00 -9.9485e+00  5e-04  2e-16  2e-16\n",
      " 9: -9.9480e+00 -9.9480e+00  2e-05  2e-16  2e-16\n",
      "10: -9.9480e+00 -9.9480e+00  4e-07  2e-16  2e-16\n",
      "Optimal solution found.\n",
      "\n",
      " Calculating prediction values\n"
     ]
    },
    {
     "data": {
      "application/vnd.jupyter.widget-view+json": {
       "model_id": "f8593f62923a40ecb4ed1898103846e6",
       "version_major": 2,
       "version_minor": 0
      },
      "text/plain": [
       "HBox(children=(IntProgress(value=0, max=33), HTML(value='')))"
      ]
     },
     "metadata": {},
     "output_type": "display_data"
    },
    {
     "name": "stdout",
     "output_type": "stream",
     "text": [
      "\n",
      "fold is 2\n",
      "\n",
      " Calculating fullXmatrix\n"
     ]
    },
    {
     "data": {
      "application/vnd.jupyter.widget-view+json": {
       "model_id": "c28f64b798254bfea3b68d48626530bc",
       "version_major": 2,
       "version_minor": 0
      },
      "text/plain": [
       "HBox(children=(IntProgress(value=0, max=67), HTML(value='')))"
      ]
     },
     "metadata": {},
     "output_type": "display_data"
    },
    {
     "name": "stdout",
     "output_type": "stream",
     "text": [
      "\n",
      "\n",
      " Calculating Kernalized Product\n"
     ]
    },
    {
     "data": {
      "application/vnd.jupyter.widget-view+json": {
       "model_id": "5a9be8b25aa849dabbdcfe4bd87bf6c5",
       "version_major": 2,
       "version_minor": 0
      },
      "text/plain": [
       "HBox(children=(IntProgress(value=0, max=67), HTML(value='')))"
      ]
     },
     "metadata": {},
     "output_type": "display_data"
    },
    {
     "name": "stdout",
     "output_type": "stream",
     "text": [
      "\n",
      "\n",
      " Calculating Kernalized Product\n"
     ]
    },
    {
     "data": {
      "application/vnd.jupyter.widget-view+json": {
       "model_id": "21056785deef40e3b297a77fa2ef9d28",
       "version_major": 2,
       "version_minor": 0
      },
      "text/plain": [
       "HBox(children=(IntProgress(value=0, max=134), HTML(value='')))"
      ]
     },
     "metadata": {},
     "output_type": "display_data"
    },
    {
     "name": "stdout",
     "output_type": "stream",
     "text": [
      "\n",
      "\n",
      " Calculating Kernalized Product\n"
     ]
    },
    {
     "data": {
      "application/vnd.jupyter.widget-view+json": {
       "model_id": "61b4f9fc60a64b1e9e3b828313add1ce",
       "version_major": 2,
       "version_minor": 0
      },
      "text/plain": [
       "HBox(children=(IntProgress(value=0, max=134), HTML(value='')))"
      ]
     },
     "metadata": {},
     "output_type": "display_data"
    },
    {
     "name": "stdout",
     "output_type": "stream",
     "text": [
      "\n",
      "     pcost       dcost       gap    pres   dres\n",
      " 0:  1.3665e+04 -4.9265e+04  6e+04  4e-17  1e-14\n",
      " 1:  2.3937e+03 -3.4901e+03  6e+03  2e-16  2e-14\n",
      " 2:  3.0318e+02 -4.7603e+02  8e+02  2e-16  9e-15\n",
      " 3:  2.3725e+01 -8.6677e+01  1e+02  2e-16  2e-15\n",
      " 4: -8.0096e+00 -2.2271e+01  1e+01  2e-16  1e-15\n",
      " 5: -1.0166e+01 -1.1218e+01  1e+00  2e-16  3e-16\n",
      " 6: -1.0201e+01 -1.0290e+01  9e-02  2e-16  2e-16\n",
      " 7: -1.0202e+01 -1.0207e+01  4e-03  2e-16  2e-16\n",
      " 8: -1.0202e+01 -1.0202e+01  1e-04  2e-16  2e-16\n",
      " 9: -1.0202e+01 -1.0202e+01  6e-06  2e-16  2e-16\n",
      "Optimal solution found.\n",
      "\n",
      " Calculating prediction values\n"
     ]
    },
    {
     "data": {
      "application/vnd.jupyter.widget-view+json": {
       "model_id": "e50453d6bf8848daa778ebf6cd845978",
       "version_major": 2,
       "version_minor": 0
      },
      "text/plain": [
       "HBox(children=(IntProgress(value=0, max=33), HTML(value='')))"
      ]
     },
     "metadata": {},
     "output_type": "display_data"
    },
    {
     "name": "stdout",
     "output_type": "stream",
     "text": [
      "\n",
      "fold is 0\n",
      "\n",
      " Calculating fullXmatrix\n"
     ]
    },
    {
     "data": {
      "application/vnd.jupyter.widget-view+json": {
       "model_id": "0d010540786f495faa668efb55349ea1",
       "version_major": 2,
       "version_minor": 0
      },
      "text/plain": [
       "HBox(children=(IntProgress(value=0, max=66), HTML(value='')))"
      ]
     },
     "metadata": {},
     "output_type": "display_data"
    },
    {
     "name": "stdout",
     "output_type": "stream",
     "text": [
      "\n",
      "\n",
      " Calculating Kernalized Product\n"
     ]
    },
    {
     "data": {
      "application/vnd.jupyter.widget-view+json": {
       "model_id": "674e6677298543e0a412304ac2ccc411",
       "version_major": 2,
       "version_minor": 0
      },
      "text/plain": [
       "HBox(children=(IntProgress(value=0, max=66), HTML(value='')))"
      ]
     },
     "metadata": {},
     "output_type": "display_data"
    },
    {
     "name": "stdout",
     "output_type": "stream",
     "text": [
      "\n",
      "\n",
      " Calculating Kernalized Product\n"
     ]
    },
    {
     "data": {
      "application/vnd.jupyter.widget-view+json": {
       "model_id": "b8e063eb12e0469abf0d153cbb1a0865",
       "version_major": 2,
       "version_minor": 0
      },
      "text/plain": [
       "HBox(children=(IntProgress(value=0, max=132), HTML(value='')))"
      ]
     },
     "metadata": {},
     "output_type": "display_data"
    },
    {
     "name": "stdout",
     "output_type": "stream",
     "text": [
      "\n",
      "\n",
      " Calculating Kernalized Product\n"
     ]
    },
    {
     "data": {
      "application/vnd.jupyter.widget-view+json": {
       "model_id": "e96aa12bc90b433f8c4b1869d4c0a2ab",
       "version_major": 2,
       "version_minor": 0
      },
      "text/plain": [
       "HBox(children=(IntProgress(value=0, max=132), HTML(value='')))"
      ]
     },
     "metadata": {},
     "output_type": "display_data"
    },
    {
     "name": "stdout",
     "output_type": "stream",
     "text": [
      "\n",
      "     pcost       dcost       gap    pres   dres\n",
      " 0:  1.0155e+04 -4.0125e+04  5e+04  4e-17  1e-14\n",
      " 1:  1.7513e+03 -2.6728e+03  4e+03  2e-16  2e-14\n",
      " 2:  2.2343e+02 -3.4129e+02  6e+02  2e-16  8e-15\n",
      " 3:  1.8646e+01 -6.1801e+01  8e+01  2e-16  3e-15\n",
      " 4: -4.9467e+00 -1.5442e+01  1e+01  2e-16  1e-15\n",
      " 5: -6.6372e+00 -7.4629e+00  8e-01  2e-16  3e-16\n",
      " 6: -6.6764e+00 -6.7696e+00  9e-02  1e-16  2e-16\n",
      " 7: -6.6804e+00 -6.6920e+00  1e-02  2e-16  2e-16\n",
      " 8: -6.6811e+00 -6.6825e+00  1e-03  2e-16  2e-16\n",
      " 9: -6.6812e+00 -6.6813e+00  1e-04  2e-16  2e-16\n",
      "10: -6.6812e+00 -6.6812e+00  5e-06  2e-16  2e-16\n",
      "Optimal solution found.\n",
      "\n",
      " Calculating prediction values\n"
     ]
    },
    {
     "data": {
      "application/vnd.jupyter.widget-view+json": {
       "model_id": "1588cc9e7fbc4fdca79dbfbca454b557",
       "version_major": 2,
       "version_minor": 0
      },
      "text/plain": [
       "HBox(children=(IntProgress(value=0, max=34), HTML(value='')))"
      ]
     },
     "metadata": {},
     "output_type": "display_data"
    },
    {
     "name": "stdout",
     "output_type": "stream",
     "text": [
      "\n",
      "fold is 1\n",
      "\n",
      " Calculating fullXmatrix\n"
     ]
    },
    {
     "data": {
      "application/vnd.jupyter.widget-view+json": {
       "model_id": "f337b33aab4e4550bcccd17d2e2a54db",
       "version_major": 2,
       "version_minor": 0
      },
      "text/plain": [
       "HBox(children=(IntProgress(value=0, max=67), HTML(value='')))"
      ]
     },
     "metadata": {},
     "output_type": "display_data"
    },
    {
     "name": "stdout",
     "output_type": "stream",
     "text": [
      "\n",
      "\n",
      " Calculating Kernalized Product\n"
     ]
    },
    {
     "data": {
      "application/vnd.jupyter.widget-view+json": {
       "model_id": "1789dfd71a6041de9b47c681f89e4184",
       "version_major": 2,
       "version_minor": 0
      },
      "text/plain": [
       "HBox(children=(IntProgress(value=0, max=67), HTML(value='')))"
      ]
     },
     "metadata": {},
     "output_type": "display_data"
    },
    {
     "name": "stdout",
     "output_type": "stream",
     "text": [
      "\n",
      "\n",
      " Calculating Kernalized Product\n"
     ]
    },
    {
     "data": {
      "application/vnd.jupyter.widget-view+json": {
       "model_id": "7dc25a7ac9f54011a263d7931544a3b8",
       "version_major": 2,
       "version_minor": 0
      },
      "text/plain": [
       "HBox(children=(IntProgress(value=0, max=134), HTML(value='')))"
      ]
     },
     "metadata": {},
     "output_type": "display_data"
    },
    {
     "name": "stdout",
     "output_type": "stream",
     "text": [
      "\n",
      "\n",
      " Calculating Kernalized Product\n"
     ]
    },
    {
     "data": {
      "application/vnd.jupyter.widget-view+json": {
       "model_id": "9fd2237d590d48da83c1300e02f67176",
       "version_major": 2,
       "version_minor": 0
      },
      "text/plain": [
       "HBox(children=(IntProgress(value=0, max=134), HTML(value='')))"
      ]
     },
     "metadata": {},
     "output_type": "display_data"
    },
    {
     "name": "stdout",
     "output_type": "stream",
     "text": [
      "\n",
      "     pcost       dcost       gap    pres   dres\n",
      " 0:  1.0356e+04 -3.7965e+04  5e+04  4e-17  1e-14\n",
      " 1:  1.7549e+03 -2.6207e+03  4e+03  2e-16  2e-14\n",
      " 2:  2.2392e+02 -3.4208e+02  6e+02  2e-16  8e-15\n",
      " 3:  1.8773e+01 -6.1748e+01  8e+01  2e-16  3e-15\n",
      " 4: -4.8821e+00 -1.5398e+01  1e+01  2e-16  1e-15\n",
      " 5: -6.5809e+00 -7.4122e+00  8e-01  2e-16  3e-16\n",
      " 6: -6.6187e+00 -6.7089e+00  9e-02  2e-16  2e-16\n",
      " 7: -6.6224e+00 -6.6324e+00  1e-02  2e-16  2e-16\n",
      " 8: -6.6230e+00 -6.6239e+00  9e-04  2e-16  2e-16\n",
      " 9: -6.6231e+00 -6.6231e+00  7e-05  1e-16  2e-16\n",
      "10: -6.6231e+00 -6.6231e+00  3e-06  2e-16  2e-16\n",
      "Optimal solution found.\n",
      "\n",
      " Calculating prediction values\n"
     ]
    },
    {
     "data": {
      "application/vnd.jupyter.widget-view+json": {
       "model_id": "323760cd7e0b4a7b9653b568cb5e18ee",
       "version_major": 2,
       "version_minor": 0
      },
      "text/plain": [
       "HBox(children=(IntProgress(value=0, max=33), HTML(value='')))"
      ]
     },
     "metadata": {},
     "output_type": "display_data"
    },
    {
     "name": "stdout",
     "output_type": "stream",
     "text": [
      "\n",
      "fold is 2\n",
      "\n",
      " Calculating fullXmatrix\n"
     ]
    },
    {
     "data": {
      "application/vnd.jupyter.widget-view+json": {
       "model_id": "782bfdd05be94f8b8a32a78cf87174ea",
       "version_major": 2,
       "version_minor": 0
      },
      "text/plain": [
       "HBox(children=(IntProgress(value=0, max=67), HTML(value='')))"
      ]
     },
     "metadata": {},
     "output_type": "display_data"
    },
    {
     "name": "stdout",
     "output_type": "stream",
     "text": [
      "\n",
      "\n",
      " Calculating Kernalized Product\n"
     ]
    },
    {
     "data": {
      "application/vnd.jupyter.widget-view+json": {
       "model_id": "4aefb4781eb9428db5406c203d5bcc25",
       "version_major": 2,
       "version_minor": 0
      },
      "text/plain": [
       "HBox(children=(IntProgress(value=0, max=67), HTML(value='')))"
      ]
     },
     "metadata": {},
     "output_type": "display_data"
    },
    {
     "name": "stdout",
     "output_type": "stream",
     "text": [
      "\n",
      "\n",
      " Calculating Kernalized Product\n"
     ]
    },
    {
     "data": {
      "application/vnd.jupyter.widget-view+json": {
       "model_id": "3bfbe936ca574edda32e365adc31ea2d",
       "version_major": 2,
       "version_minor": 0
      },
      "text/plain": [
       "HBox(children=(IntProgress(value=0, max=134), HTML(value='')))"
      ]
     },
     "metadata": {},
     "output_type": "display_data"
    },
    {
     "name": "stdout",
     "output_type": "stream",
     "text": [
      "\n",
      "\n",
      " Calculating Kernalized Product\n"
     ]
    },
    {
     "data": {
      "application/vnd.jupyter.widget-view+json": {
       "model_id": "1c179162670b4ccea3db534879c1ee5f",
       "version_major": 2,
       "version_minor": 0
      },
      "text/plain": [
       "HBox(children=(IntProgress(value=0, max=134), HTML(value='')))"
      ]
     },
     "metadata": {},
     "output_type": "display_data"
    },
    {
     "name": "stdout",
     "output_type": "stream",
     "text": [
      "\n",
      "     pcost       dcost       gap    pres   dres\n",
      " 0:  1.0436e+04 -4.0622e+04  5e+04  4e-17  2e-14\n",
      " 1:  1.8007e+03 -2.8010e+03  5e+03  2e-16  2e-14\n",
      " 2:  2.3020e+02 -3.5048e+02  6e+02  2e-16  9e-15\n",
      " 3:  1.9388e+01 -6.3414e+01  8e+01  2e-16  3e-15\n",
      " 4: -4.9510e+00 -1.5767e+01  1e+01  2e-16  1e-15\n",
      " 5: -6.7052e+00 -7.5633e+00  9e-01  2e-16  3e-16\n",
      " 6: -6.7444e+00 -6.8281e+00  8e-02  2e-16  2e-16\n",
      " 7: -6.7475e+00 -6.7555e+00  8e-03  2e-16  2e-16\n",
      " 8: -6.7479e+00 -6.7485e+00  6e-04  2e-16  2e-16\n",
      " 9: -6.7479e+00 -6.7480e+00  9e-05  2e-16  2e-16\n",
      "10: -6.7480e+00 -6.7480e+00  6e-06  2e-16  2e-16\n",
      "Optimal solution found.\n",
      "\n",
      " Calculating prediction values\n"
     ]
    },
    {
     "data": {
      "application/vnd.jupyter.widget-view+json": {
       "model_id": "23c25a472f1346929988f87c08b76637",
       "version_major": 2,
       "version_minor": 0
      },
      "text/plain": [
       "HBox(children=(IntProgress(value=0, max=33), HTML(value='')))"
      ]
     },
     "metadata": {},
     "output_type": "display_data"
    },
    {
     "name": "stdout",
     "output_type": "stream",
     "text": [
      "\n",
      "fold is 0\n",
      "\n",
      " Calculating fullXmatrix\n"
     ]
    },
    {
     "data": {
      "application/vnd.jupyter.widget-view+json": {
       "model_id": "ccdfd3a3f8a44e54b5633e8774404cad",
       "version_major": 2,
       "version_minor": 0
      },
      "text/plain": [
       "HBox(children=(IntProgress(value=0, max=66), HTML(value='')))"
      ]
     },
     "metadata": {},
     "output_type": "display_data"
    },
    {
     "name": "stdout",
     "output_type": "stream",
     "text": [
      "\n",
      "\n",
      " Calculating Kernalized Product\n"
     ]
    },
    {
     "data": {
      "application/vnd.jupyter.widget-view+json": {
       "model_id": "132074c8e224450ab5637566e2fc8915",
       "version_major": 2,
       "version_minor": 0
      },
      "text/plain": [
       "HBox(children=(IntProgress(value=0, max=66), HTML(value='')))"
      ]
     },
     "metadata": {},
     "output_type": "display_data"
    },
    {
     "name": "stdout",
     "output_type": "stream",
     "text": [
      "\n",
      "\n",
      " Calculating Kernalized Product\n"
     ]
    },
    {
     "data": {
      "application/vnd.jupyter.widget-view+json": {
       "model_id": "bc774d65a41840029419aaccb0862027",
       "version_major": 2,
       "version_minor": 0
      },
      "text/plain": [
       "HBox(children=(IntProgress(value=0, max=132), HTML(value='')))"
      ]
     },
     "metadata": {},
     "output_type": "display_data"
    },
    {
     "name": "stdout",
     "output_type": "stream",
     "text": [
      "\n",
      "\n",
      " Calculating Kernalized Product\n"
     ]
    },
    {
     "data": {
      "application/vnd.jupyter.widget-view+json": {
       "model_id": "a3a079de0f5645968be6fa09b520ad00",
       "version_major": 2,
       "version_minor": 0
      },
      "text/plain": [
       "HBox(children=(IntProgress(value=0, max=132), HTML(value='')))"
      ]
     },
     "metadata": {},
     "output_type": "display_data"
    },
    {
     "name": "stdout",
     "output_type": "stream",
     "text": [
      "\n",
      "     pcost       dcost       gap    pres   dres\n",
      " 0:  7.5344e+03 -3.1281e+04  4e+04  4e-17  1e-14\n",
      " 1:  1.2624e+03 -1.9757e+03  3e+03  2e-16  2e-14\n",
      " 2:  1.6162e+02 -2.4238e+02  4e+02  2e-16  1e-14\n",
      " 3:  1.4027e+01 -4.3705e+01  6e+01  2e-16  3e-15\n",
      " 4: -3.1336e+00 -1.0716e+01  8e+00  2e-16  1e-15\n",
      " 5: -4.4045e+00 -5.0256e+00  6e-01  2e-16  3e-16\n",
      " 6: -4.4403e+00 -4.5063e+00  7e-02  2e-16  2e-16\n",
      " 7: -4.4459e+00 -4.4547e+00  9e-03  2e-16  2e-16\n",
      " 8: -4.4469e+00 -4.4476e+00  6e-04  2e-16  2e-16\n",
      " 9: -4.4471e+00 -4.4472e+00  6e-05  2e-16  2e-16\n",
      "10: -4.4471e+00 -4.4471e+00  1e-05  2e-16  2e-16\n",
      "11: -4.4471e+00 -4.4471e+00  5e-07  2e-16  2e-16\n",
      "Optimal solution found.\n",
      "\n",
      " Calculating prediction values\n"
     ]
    },
    {
     "data": {
      "application/vnd.jupyter.widget-view+json": {
       "model_id": "65787fd92e26454e99fa3c1a14609aaf",
       "version_major": 2,
       "version_minor": 0
      },
      "text/plain": [
       "HBox(children=(IntProgress(value=0, max=34), HTML(value='')))"
      ]
     },
     "metadata": {},
     "output_type": "display_data"
    },
    {
     "name": "stdout",
     "output_type": "stream",
     "text": [
      "\n",
      "fold is 1\n",
      "\n",
      " Calculating fullXmatrix\n"
     ]
    },
    {
     "data": {
      "application/vnd.jupyter.widget-view+json": {
       "model_id": "010e674789094bd3afb6c5da37ad2c08",
       "version_major": 2,
       "version_minor": 0
      },
      "text/plain": [
       "HBox(children=(IntProgress(value=0, max=67), HTML(value='')))"
      ]
     },
     "metadata": {},
     "output_type": "display_data"
    },
    {
     "name": "stdout",
     "output_type": "stream",
     "text": [
      "\n",
      "\n",
      " Calculating Kernalized Product\n"
     ]
    },
    {
     "data": {
      "application/vnd.jupyter.widget-view+json": {
       "model_id": "c4f9ea8526364e0abfebd9d4900615ce",
       "version_major": 2,
       "version_minor": 0
      },
      "text/plain": [
       "HBox(children=(IntProgress(value=0, max=67), HTML(value='')))"
      ]
     },
     "metadata": {},
     "output_type": "display_data"
    },
    {
     "name": "stdout",
     "output_type": "stream",
     "text": [
      "\n",
      "\n",
      " Calculating Kernalized Product\n"
     ]
    },
    {
     "data": {
      "application/vnd.jupyter.widget-view+json": {
       "model_id": "cddf694fec7540aa9c813d006f90a23e",
       "version_major": 2,
       "version_minor": 0
      },
      "text/plain": [
       "HBox(children=(IntProgress(value=0, max=134), HTML(value='')))"
      ]
     },
     "metadata": {},
     "output_type": "display_data"
    },
    {
     "name": "stdout",
     "output_type": "stream",
     "text": [
      "\n",
      "\n",
      " Calculating Kernalized Product\n"
     ]
    },
    {
     "data": {
      "application/vnd.jupyter.widget-view+json": {
       "model_id": "7a7b263cb6e147bea53897a926043b85",
       "version_major": 2,
       "version_minor": 0
      },
      "text/plain": [
       "HBox(children=(IntProgress(value=0, max=134), HTML(value='')))"
      ]
     },
     "metadata": {},
     "output_type": "display_data"
    },
    {
     "name": "stdout",
     "output_type": "stream",
     "text": [
      "\n",
      "     pcost       dcost       gap    pres   dres\n",
      " 0:  7.6262e+03 -3.1056e+04  4e+04  4e-17  2e-14\n",
      " 1:  1.2640e+03 -1.9541e+03  3e+03  2e-16  2e-14\n",
      " 2:  1.6187e+02 -2.4231e+02  4e+02  2e-16  8e-15\n",
      " 3:  1.4128e+01 -4.3605e+01  6e+01  2e-16  3e-15\n",
      " 4: -3.0720e+00 -1.0663e+01  8e+00  2e-16  1e-15\n",
      " 5: -4.3510e+00 -4.9772e+00  6e-01  2e-16  3e-16\n",
      " 6: -4.3855e+00 -4.4574e+00  7e-02  2e-16  2e-16\n",
      " 7: -4.3905e+00 -4.4005e+00  1e-02  2e-16  2e-16\n",
      " 8: -4.3916e+00 -4.3924e+00  8e-04  2e-16  2e-16\n",
      " 9: -4.3918e+00 -4.3918e+00  7e-05  2e-16  2e-16\n",
      "10: -4.3918e+00 -4.3918e+00  3e-06  2e-16  2e-16\n",
      "Optimal solution found.\n",
      "\n",
      " Calculating prediction values\n"
     ]
    },
    {
     "data": {
      "application/vnd.jupyter.widget-view+json": {
       "model_id": "028e792c688b450d9342ec47fa959636",
       "version_major": 2,
       "version_minor": 0
      },
      "text/plain": [
       "HBox(children=(IntProgress(value=0, max=33), HTML(value='')))"
      ]
     },
     "metadata": {},
     "output_type": "display_data"
    },
    {
     "name": "stdout",
     "output_type": "stream",
     "text": [
      "\n",
      "fold is 2\n",
      "\n",
      " Calculating fullXmatrix\n"
     ]
    },
    {
     "data": {
      "application/vnd.jupyter.widget-view+json": {
       "model_id": "2e14095b7da74f2e9b18dfe19e1a71c5",
       "version_major": 2,
       "version_minor": 0
      },
      "text/plain": [
       "HBox(children=(IntProgress(value=0, max=67), HTML(value='')))"
      ]
     },
     "metadata": {},
     "output_type": "display_data"
    },
    {
     "name": "stdout",
     "output_type": "stream",
     "text": [
      "\n",
      "\n",
      " Calculating Kernalized Product\n"
     ]
    },
    {
     "data": {
      "application/vnd.jupyter.widget-view+json": {
       "model_id": "3df585c5d5684031a75e42bf98cdc104",
       "version_major": 2,
       "version_minor": 0
      },
      "text/plain": [
       "HBox(children=(IntProgress(value=0, max=67), HTML(value='')))"
      ]
     },
     "metadata": {},
     "output_type": "display_data"
    },
    {
     "name": "stdout",
     "output_type": "stream",
     "text": [
      "\n",
      "\n",
      " Calculating Kernalized Product\n"
     ]
    },
    {
     "data": {
      "application/vnd.jupyter.widget-view+json": {
       "model_id": "6256bb2efb9143a49db30fbcb1daa1e8",
       "version_major": 2,
       "version_minor": 0
      },
      "text/plain": [
       "HBox(children=(IntProgress(value=0, max=134), HTML(value='')))"
      ]
     },
     "metadata": {},
     "output_type": "display_data"
    },
    {
     "name": "stdout",
     "output_type": "stream",
     "text": [
      "\n",
      "\n",
      " Calculating Kernalized Product\n"
     ]
    },
    {
     "data": {
      "application/vnd.jupyter.widget-view+json": {
       "model_id": "d6d463aa2ea84216ac810cbc26107083",
       "version_major": 2,
       "version_minor": 0
      },
      "text/plain": [
       "HBox(children=(IntProgress(value=0, max=134), HTML(value='')))"
      ]
     },
     "metadata": {},
     "output_type": "display_data"
    },
    {
     "name": "stdout",
     "output_type": "stream",
     "text": [
      "\n",
      "     pcost       dcost       gap    pres   dres\n",
      " 0:  7.6649e+03 -3.1808e+04  4e+04  4e-17  1e-14\n",
      " 1:  1.2937e+03 -2.1114e+03  3e+03  2e-16  2e-14\n",
      " 2:  1.6609e+02 -2.4793e+02  4e+02  2e-16  9e-15\n",
      " 3:  1.4585e+01 -4.4683e+01  6e+01  2e-16  3e-15\n",
      " 4: -3.0863e+00 -1.0882e+01  8e+00  1e-16  1e-15\n",
      " 5: -4.4063e+00 -5.0523e+00  6e-01  2e-16  3e-16\n",
      " 6: -4.4436e+00 -4.5155e+00  7e-02  1e-16  2e-16\n",
      " 7: -4.4482e+00 -4.4584e+00  1e-02  2e-16  2e-16\n",
      " 8: -4.4492e+00 -4.4506e+00  1e-03  2e-16  2e-16\n",
      " 9: -4.4494e+00 -4.4496e+00  2e-04  2e-16  2e-16\n",
      "10: -4.4494e+00 -4.4494e+00  1e-05  2e-16  2e-16\n",
      "11: -4.4494e+00 -4.4494e+00  5e-07  2e-16  2e-16\n",
      "Optimal solution found.\n",
      "\n",
      " Calculating prediction values\n"
     ]
    },
    {
     "data": {
      "application/vnd.jupyter.widget-view+json": {
       "model_id": "18d9b5ce3ab4462b98d9efcaead32113",
       "version_major": 2,
       "version_minor": 0
      },
      "text/plain": [
       "HBox(children=(IntProgress(value=0, max=33), HTML(value='')))"
      ]
     },
     "metadata": {},
     "output_type": "display_data"
    },
    {
     "name": "stdout",
     "output_type": "stream",
     "text": [
      "\n",
      "fold is 0\n",
      "\n",
      " Calculating fullXmatrix\n"
     ]
    },
    {
     "data": {
      "application/vnd.jupyter.widget-view+json": {
       "model_id": "c8679564621e46c79d5a975ff26a577b",
       "version_major": 2,
       "version_minor": 0
      },
      "text/plain": [
       "HBox(children=(IntProgress(value=0, max=66), HTML(value='')))"
      ]
     },
     "metadata": {},
     "output_type": "display_data"
    },
    {
     "name": "stdout",
     "output_type": "stream",
     "text": [
      "\n",
      "\n",
      " Calculating Kernalized Product\n"
     ]
    },
    {
     "data": {
      "application/vnd.jupyter.widget-view+json": {
       "model_id": "b08e0a10e5084a3996c5daae4fcc198f",
       "version_major": 2,
       "version_minor": 0
      },
      "text/plain": [
       "HBox(children=(IntProgress(value=0, max=66), HTML(value='')))"
      ]
     },
     "metadata": {},
     "output_type": "display_data"
    },
    {
     "name": "stdout",
     "output_type": "stream",
     "text": [
      "\n",
      "\n",
      " Calculating Kernalized Product\n"
     ]
    },
    {
     "data": {
      "application/vnd.jupyter.widget-view+json": {
       "model_id": "9c9e2d3cfb9d435ca7d13e44dcbb881e",
       "version_major": 2,
       "version_minor": 0
      },
      "text/plain": [
       "HBox(children=(IntProgress(value=0, max=132), HTML(value='')))"
      ]
     },
     "metadata": {},
     "output_type": "display_data"
    },
    {
     "name": "stdout",
     "output_type": "stream",
     "text": [
      "\n",
      "\n",
      " Calculating Kernalized Product\n"
     ]
    },
    {
     "data": {
      "application/vnd.jupyter.widget-view+json": {
       "model_id": "5b446afd84a54a0b900490315170deb2",
       "version_major": 2,
       "version_minor": 0
      },
      "text/plain": [
       "HBox(children=(IntProgress(value=0, max=132), HTML(value='')))"
      ]
     },
     "metadata": {},
     "output_type": "display_data"
    },
    {
     "name": "stdout",
     "output_type": "stream",
     "text": [
      "\n",
      "     pcost       dcost       gap    pres   dres\n",
      " 0:  5.5716e+03 -2.5437e+04  3e+04  4e-17  1e-14\n",
      " 1:  9.1189e+02 -1.4707e+03  2e+03  2e-16  2e-14\n",
      " 2:  1.1693e+02 -1.7291e+02  3e+02  2e-16  8e-15\n",
      " 3:  1.0400e+01 -3.1143e+01  4e+01  2e-16  3e-15\n",
      " 4: -2.0606e+00 -7.5405e+00  5e+00  2e-16  1e-15\n",
      " 5: -3.0036e+00 -3.4641e+00  5e-01  2e-16  3e-16\n",
      " 6: -3.0342e+00 -3.0855e+00  5e-02  2e-16  2e-16\n",
      " 7: -3.0408e+00 -3.0487e+00  8e-03  2e-16  2e-16\n",
      " 8: -3.0422e+00 -3.0431e+00  9e-04  2e-16  2e-16\n",
      " 9: -3.0425e+00 -3.0426e+00  6e-05  2e-16  2e-16\n",
      "10: -3.0425e+00 -3.0425e+00  3e-06  2e-16  2e-16\n",
      "Optimal solution found.\n",
      "\n",
      " Calculating prediction values\n"
     ]
    },
    {
     "data": {
      "application/vnd.jupyter.widget-view+json": {
       "model_id": "bfbb9e92d01643abb8c73506827aa153",
       "version_major": 2,
       "version_minor": 0
      },
      "text/plain": [
       "HBox(children=(IntProgress(value=0, max=34), HTML(value='')))"
      ]
     },
     "metadata": {},
     "output_type": "display_data"
    },
    {
     "name": "stdout",
     "output_type": "stream",
     "text": [
      "\n",
      "fold is 1\n",
      "\n",
      " Calculating fullXmatrix\n"
     ]
    },
    {
     "data": {
      "application/vnd.jupyter.widget-view+json": {
       "model_id": "0281156e69744663a4245d1765f74049",
       "version_major": 2,
       "version_minor": 0
      },
      "text/plain": [
       "HBox(children=(IntProgress(value=0, max=67), HTML(value='')))"
      ]
     },
     "metadata": {},
     "output_type": "display_data"
    },
    {
     "name": "stdout",
     "output_type": "stream",
     "text": [
      "\n",
      "\n",
      " Calculating Kernalized Product\n"
     ]
    },
    {
     "data": {
      "application/vnd.jupyter.widget-view+json": {
       "model_id": "f17afd612bf248bca7035a146b975cdf",
       "version_major": 2,
       "version_minor": 0
      },
      "text/plain": [
       "HBox(children=(IntProgress(value=0, max=67), HTML(value='')))"
      ]
     },
     "metadata": {},
     "output_type": "display_data"
    },
    {
     "name": "stdout",
     "output_type": "stream",
     "text": [
      "\n",
      "\n",
      " Calculating Kernalized Product\n"
     ]
    },
    {
     "data": {
      "application/vnd.jupyter.widget-view+json": {
       "model_id": "d6b78954db3c49fb85a98dcb7fa5b8fa",
       "version_major": 2,
       "version_minor": 0
      },
      "text/plain": [
       "HBox(children=(IntProgress(value=0, max=134), HTML(value='')))"
      ]
     },
     "metadata": {},
     "output_type": "display_data"
    },
    {
     "name": "stdout",
     "output_type": "stream",
     "text": [
      "\n",
      "\n",
      " Calculating Kernalized Product\n"
     ]
    },
    {
     "data": {
      "application/vnd.jupyter.widget-view+json": {
       "model_id": "b68dfef6ff184cc5926cbb24beda7879",
       "version_major": 2,
       "version_minor": 0
      },
      "text/plain": [
       "HBox(children=(IntProgress(value=0, max=134), HTML(value='')))"
      ]
     },
     "metadata": {},
     "output_type": "display_data"
    },
    {
     "name": "stdout",
     "output_type": "stream",
     "text": [
      "\n",
      "     pcost       dcost       gap    pres   dres\n",
      " 0:  5.6012e+03 -2.5707e+04  4e+04  3e-02  1e-14\n",
      " 1:  1.3676e+03 -2.0172e+03  3e+03  9e-04  2e-14\n",
      " 2:  1.8692e+02 -2.6006e+02  4e+02  2e-16  9e-15\n",
      " 3:  1.9477e+01 -4.4533e+01  6e+01  2e-16  4e-15\n",
      " 4: -1.0753e+00 -9.7656e+00  9e+00  2e-16  1e-15\n",
      " 5: -2.9124e+00 -3.7947e+00  9e-01  2e-16  4e-16\n",
      " 6: -2.9916e+00 -3.1255e+00  1e-01  2e-16  2e-16\n",
      " 7: -3.0052e+00 -3.0276e+00  2e-02  2e-16  2e-16\n",
      " 8: -3.0088e+00 -3.0128e+00  4e-03  2e-16  2e-16\n",
      " 9: -3.0098e+00 -3.0103e+00  5e-04  2e-16  2e-16\n",
      "10: -3.0100e+00 -3.0100e+00  3e-05  2e-16  2e-16\n",
      "11: -3.0100e+00 -3.0100e+00  8e-07  2e-16  2e-16\n",
      "Optimal solution found.\n",
      "\n",
      " Calculating prediction values\n"
     ]
    },
    {
     "data": {
      "application/vnd.jupyter.widget-view+json": {
       "model_id": "d618014975064e80af2ccde7f9c158d9",
       "version_major": 2,
       "version_minor": 0
      },
      "text/plain": [
       "HBox(children=(IntProgress(value=0, max=33), HTML(value='')))"
      ]
     },
     "metadata": {},
     "output_type": "display_data"
    },
    {
     "name": "stdout",
     "output_type": "stream",
     "text": [
      "\n",
      "fold is 2\n",
      "\n",
      " Calculating fullXmatrix\n"
     ]
    },
    {
     "data": {
      "application/vnd.jupyter.widget-view+json": {
       "model_id": "5dd7b98533354b878965cdcdd1609ce2",
       "version_major": 2,
       "version_minor": 0
      },
      "text/plain": [
       "HBox(children=(IntProgress(value=0, max=67), HTML(value='')))"
      ]
     },
     "metadata": {},
     "output_type": "display_data"
    },
    {
     "name": "stdout",
     "output_type": "stream",
     "text": [
      "\n",
      "\n",
      " Calculating Kernalized Product\n"
     ]
    },
    {
     "data": {
      "application/vnd.jupyter.widget-view+json": {
       "model_id": "24096d88e25142e584787a44701d3d81",
       "version_major": 2,
       "version_minor": 0
      },
      "text/plain": [
       "HBox(children=(IntProgress(value=0, max=67), HTML(value='')))"
      ]
     },
     "metadata": {},
     "output_type": "display_data"
    },
    {
     "name": "stdout",
     "output_type": "stream",
     "text": [
      "\n",
      "\n",
      " Calculating Kernalized Product\n"
     ]
    },
    {
     "data": {
      "application/vnd.jupyter.widget-view+json": {
       "model_id": "fd48eca3325f4cb0a0755a157507d187",
       "version_major": 2,
       "version_minor": 0
      },
      "text/plain": [
       "HBox(children=(IntProgress(value=0, max=134), HTML(value='')))"
      ]
     },
     "metadata": {},
     "output_type": "display_data"
    },
    {
     "name": "stdout",
     "output_type": "stream",
     "text": [
      "\n",
      "\n",
      " Calculating Kernalized Product\n"
     ]
    },
    {
     "data": {
      "application/vnd.jupyter.widget-view+json": {
       "model_id": "8e8e474b7fda43deaa30bebae861b821",
       "version_major": 2,
       "version_minor": 0
      },
      "text/plain": [
       "HBox(children=(IntProgress(value=0, max=134), HTML(value='')))"
      ]
     },
     "metadata": {},
     "output_type": "display_data"
    },
    {
     "name": "stdout",
     "output_type": "stream",
     "text": [
      "\n",
      "     pcost       dcost       gap    pres   dres\n",
      " 0:  5.6174e+03 -2.6131e+04  4e+04  3e-02  1e-14\n",
      " 1:  1.4088e+03 -2.1844e+03  4e+03  1e-03  1e-14\n",
      " 2:  1.9451e+02 -2.6964e+02  5e+02  2e-16  1e-14\n",
      " 3:  2.0435e+01 -4.6131e+01  7e+01  2e-16  5e-15\n",
      " 4: -9.9970e-01 -1.0045e+01  9e+00  2e-16  1e-15\n",
      " 5: -2.9329e+00 -3.8598e+00  9e-01  2e-16  4e-16\n",
      " 6: -3.0215e+00 -3.1646e+00  1e-01  2e-16  2e-16\n",
      " 7: -3.0381e+00 -3.0655e+00  3e-02  2e-16  2e-16\n",
      " 8: -3.0422e+00 -3.0481e+00  6e-03  2e-16  2e-16\n",
      " 9: -3.0434e+00 -3.0440e+00  6e-04  2e-16  2e-16\n",
      "10: -3.0436e+00 -3.0436e+00  6e-05  2e-16  2e-16\n",
      "11: -3.0436e+00 -3.0436e+00  7e-06  2e-16  2e-16\n",
      "12: -3.0436e+00 -3.0436e+00  3e-07  2e-16  2e-16\n",
      "Optimal solution found.\n",
      "\n",
      " Calculating prediction values\n"
     ]
    },
    {
     "data": {
      "application/vnd.jupyter.widget-view+json": {
       "model_id": "44613c2ed1424fe895700de4fb875c04",
       "version_major": 2,
       "version_minor": 0
      },
      "text/plain": [
       "HBox(children=(IntProgress(value=0, max=33), HTML(value='')))"
      ]
     },
     "metadata": {},
     "output_type": "display_data"
    },
    {
     "name": "stdout",
     "output_type": "stream",
     "text": [
      "\n",
      "fold is 0\n",
      "\n",
      " Calculating fullXmatrix\n"
     ]
    },
    {
     "data": {
      "application/vnd.jupyter.widget-view+json": {
       "model_id": "cd3bd1d612bc4b199814a39f318c6f6e",
       "version_major": 2,
       "version_minor": 0
      },
      "text/plain": [
       "HBox(children=(IntProgress(value=0, max=66), HTML(value='')))"
      ]
     },
     "metadata": {},
     "output_type": "display_data"
    },
    {
     "name": "stdout",
     "output_type": "stream",
     "text": [
      "\n",
      "\n",
      " Calculating Kernalized Product\n"
     ]
    },
    {
     "data": {
      "application/vnd.jupyter.widget-view+json": {
       "model_id": "8822cc47695b4673bd052fb494c9968e",
       "version_major": 2,
       "version_minor": 0
      },
      "text/plain": [
       "HBox(children=(IntProgress(value=0, max=66), HTML(value='')))"
      ]
     },
     "metadata": {},
     "output_type": "display_data"
    },
    {
     "name": "stdout",
     "output_type": "stream",
     "text": [
      "\n",
      "\n",
      " Calculating Kernalized Product\n"
     ]
    },
    {
     "data": {
      "application/vnd.jupyter.widget-view+json": {
       "model_id": "3c4bcc19dc204038a8e77bc530121890",
       "version_major": 2,
       "version_minor": 0
      },
      "text/plain": [
       "HBox(children=(IntProgress(value=0, max=132), HTML(value='')))"
      ]
     },
     "metadata": {},
     "output_type": "display_data"
    },
    {
     "name": "stdout",
     "output_type": "stream",
     "text": [
      "\n",
      "\n",
      " Calculating Kernalized Product\n"
     ]
    },
    {
     "data": {
      "application/vnd.jupyter.widget-view+json": {
       "model_id": "ffce5a6ec830429fb6c363235b63da1c",
       "version_major": 2,
       "version_minor": 0
      },
      "text/plain": [
       "HBox(children=(IntProgress(value=0, max=132), HTML(value='')))"
      ]
     },
     "metadata": {},
     "output_type": "display_data"
    },
    {
     "name": "stdout",
     "output_type": "stream",
     "text": [
      "\n",
      "     pcost       dcost       gap    pres   dres\n",
      " 0:  2.7428e+03 -1.6901e+04  3e+04  3e-02  1e-14\n",
      " 1:  9.1636e+02 -1.2988e+03  2e+03  8e-04  1e-14\n",
      " 2:  1.3052e+02 -1.7177e+02  3e+02  2e-16  1e-14\n",
      " 3:  1.4946e+01 -2.8463e+01  4e+01  2e-16  5e-15\n",
      " 4:  2.5772e-01 -5.7493e+00  6e+00  2e-16  2e-15\n",
      " 5: -1.2179e+00 -1.9015e+00  7e-01  2e-16  5e-16\n",
      " 6: -1.3119e+00 -1.4421e+00  1e-01  2e-16  2e-16\n",
      " 7: -1.3319e+00 -1.3629e+00  3e-02  2e-16  2e-16\n",
      " 8: -1.3397e+00 -1.3469e+00  7e-03  2e-16  2e-16\n",
      " 9: -1.3423e+00 -1.3435e+00  1e-03  2e-16  2e-16\n",
      "10: -1.3426e+00 -1.3428e+00  2e-04  2e-16  2e-16\n",
      "11: -1.3427e+00 -1.3427e+00  5e-06  2e-16  2e-16\n",
      "12: -1.3427e+00 -1.3427e+00  1e-07  2e-16  2e-16\n",
      "Optimal solution found.\n",
      "\n",
      " Calculating prediction values\n"
     ]
    },
    {
     "data": {
      "application/vnd.jupyter.widget-view+json": {
       "model_id": "40a4e80543d24359a818b983098f5cfa",
       "version_major": 2,
       "version_minor": 0
      },
      "text/plain": [
       "HBox(children=(IntProgress(value=0, max=34), HTML(value='')))"
      ]
     },
     "metadata": {},
     "output_type": "display_data"
    },
    {
     "name": "stdout",
     "output_type": "stream",
     "text": [
      "\n",
      "fold is 1\n",
      "\n",
      " Calculating fullXmatrix\n"
     ]
    },
    {
     "data": {
      "application/vnd.jupyter.widget-view+json": {
       "model_id": "90067ac9c7c54c9c853394622ba4e019",
       "version_major": 2,
       "version_minor": 0
      },
      "text/plain": [
       "HBox(children=(IntProgress(value=0, max=67), HTML(value='')))"
      ]
     },
     "metadata": {},
     "output_type": "display_data"
    },
    {
     "name": "stdout",
     "output_type": "stream",
     "text": [
      "\n",
      "\n",
      " Calculating Kernalized Product\n"
     ]
    },
    {
     "data": {
      "application/vnd.jupyter.widget-view+json": {
       "model_id": "eb223db29fd3448ea880367e59a986c1",
       "version_major": 2,
       "version_minor": 0
      },
      "text/plain": [
       "HBox(children=(IntProgress(value=0, max=67), HTML(value='')))"
      ]
     },
     "metadata": {},
     "output_type": "display_data"
    },
    {
     "name": "stdout",
     "output_type": "stream",
     "text": [
      "\n",
      "\n",
      " Calculating Kernalized Product\n"
     ]
    },
    {
     "data": {
      "application/vnd.jupyter.widget-view+json": {
       "model_id": "5be9e3653302498aad571f9a42981353",
       "version_major": 2,
       "version_minor": 0
      },
      "text/plain": [
       "HBox(children=(IntProgress(value=0, max=134), HTML(value='')))"
      ]
     },
     "metadata": {},
     "output_type": "display_data"
    },
    {
     "name": "stdout",
     "output_type": "stream",
     "text": [
      "\n",
      "\n",
      " Calculating Kernalized Product\n"
     ]
    },
    {
     "data": {
      "application/vnd.jupyter.widget-view+json": {
       "model_id": "8d1ec7377a524801931cee7ec3fd0c05",
       "version_major": 2,
       "version_minor": 0
      },
      "text/plain": [
       "HBox(children=(IntProgress(value=0, max=134), HTML(value='')))"
      ]
     },
     "metadata": {},
     "output_type": "display_data"
    },
    {
     "name": "stdout",
     "output_type": "stream",
     "text": [
      "\n",
      "     pcost       dcost       gap    pres   dres\n",
      " 0:  2.7444e+03 -1.6999e+04  3e+04  3e-02  1e-14\n",
      " 1:  9.2633e+02 -1.3330e+03  2e+03  9e-04  1e-14\n",
      " 2:  1.3239e+02 -1.7407e+02  3e+02  2e-16  1e-14\n",
      " 3:  1.5183e+01 -2.8842e+01  4e+01  2e-16  5e-15\n",
      " 4:  2.7876e-01 -5.8151e+00  6e+00  2e-16  2e-15\n",
      " 5: -1.2203e+00 -1.9155e+00  7e-01  2e-16  6e-16\n",
      " 6: -1.3176e+00 -1.4489e+00  1e-01  2e-16  2e-16\n",
      " 7: -1.3367e+00 -1.3691e+00  3e-02  2e-16  2e-16\n",
      " 8: -1.3437e+00 -1.3509e+00  7e-03  2e-16  2e-16\n",
      " 9: -1.3461e+00 -1.3474e+00  1e-03  2e-16  2e-16\n",
      "10: -1.3465e+00 -1.3467e+00  1e-04  2e-16  2e-16\n",
      "11: -1.3466e+00 -1.3466e+00  4e-06  2e-16  2e-16\n",
      "12: -1.3466e+00 -1.3466e+00  7e-08  2e-16  2e-16\n",
      "Optimal solution found.\n",
      "\n",
      " Calculating prediction values\n"
     ]
    },
    {
     "data": {
      "application/vnd.jupyter.widget-view+json": {
       "model_id": "5519788c932d4ebd93c9842f20166d4a",
       "version_major": 2,
       "version_minor": 0
      },
      "text/plain": [
       "HBox(children=(IntProgress(value=0, max=33), HTML(value='')))"
      ]
     },
     "metadata": {},
     "output_type": "display_data"
    },
    {
     "name": "stdout",
     "output_type": "stream",
     "text": [
      "\n",
      "fold is 2\n",
      "\n",
      " Calculating fullXmatrix\n"
     ]
    },
    {
     "data": {
      "application/vnd.jupyter.widget-view+json": {
       "model_id": "538fcd6672464fe1b0133511d943ac1f",
       "version_major": 2,
       "version_minor": 0
      },
      "text/plain": [
       "HBox(children=(IntProgress(value=0, max=67), HTML(value='')))"
      ]
     },
     "metadata": {},
     "output_type": "display_data"
    },
    {
     "name": "stdout",
     "output_type": "stream",
     "text": [
      "\n",
      "\n",
      " Calculating Kernalized Product\n"
     ]
    },
    {
     "data": {
      "application/vnd.jupyter.widget-view+json": {
       "model_id": "e68286ba6427430c9e9533ff76c08c6d",
       "version_major": 2,
       "version_minor": 0
      },
      "text/plain": [
       "HBox(children=(IntProgress(value=0, max=67), HTML(value='')))"
      ]
     },
     "metadata": {},
     "output_type": "display_data"
    },
    {
     "name": "stdout",
     "output_type": "stream",
     "text": [
      "\n",
      "\n",
      " Calculating Kernalized Product\n"
     ]
    },
    {
     "data": {
      "application/vnd.jupyter.widget-view+json": {
       "model_id": "e4d406b9d1214a22be671bb80bc29231",
       "version_major": 2,
       "version_minor": 0
      },
      "text/plain": [
       "HBox(children=(IntProgress(value=0, max=134), HTML(value='')))"
      ]
     },
     "metadata": {},
     "output_type": "display_data"
    },
    {
     "name": "stdout",
     "output_type": "stream",
     "text": [
      "\n",
      "\n",
      " Calculating Kernalized Product\n"
     ]
    },
    {
     "data": {
      "application/vnd.jupyter.widget-view+json": {
       "model_id": "4e9720768bdc43bab03e723862e54402",
       "version_major": 2,
       "version_minor": 0
      },
      "text/plain": [
       "HBox(children=(IntProgress(value=0, max=134), HTML(value='')))"
      ]
     },
     "metadata": {},
     "output_type": "display_data"
    },
    {
     "name": "stdout",
     "output_type": "stream",
     "text": [
      "\n",
      "     pcost       dcost       gap    pres   dres\n",
      " 0:  2.7432e+03 -1.7705e+04  3e+04  4e-02  9e-15\n",
      " 1:  9.6668e+02 -1.4552e+03  3e+03  1e-03  1e-14\n",
      " 2:  1.4052e+02 -1.8367e+02  3e+02  2e-16  1e-14\n",
      " 3:  1.6260e+01 -3.0379e+01  5e+01  2e-16  5e-15\n",
      " 4:  3.9328e-01 -6.0688e+00  6e+00  2e-16  2e-15\n",
      " 5: -1.2237e+00 -1.9698e+00  7e-01  2e-16  6e-16\n",
      " 6: -1.3283e+00 -1.4581e+00  1e-01  2e-16  2e-16\n",
      " 7: -1.3519e+00 -1.3870e+00  4e-02  2e-16  2e-16\n",
      " 8: -1.3599e+00 -1.3699e+00  1e-02  2e-16  2e-16\n",
      " 9: -1.3631e+00 -1.3649e+00  2e-03  2e-16  2e-16\n",
      "10: -1.3637e+00 -1.3638e+00  2e-04  2e-16  2e-16\n",
      "11: -1.3637e+00 -1.3637e+00  9e-06  2e-16  2e-16\n",
      "12: -1.3637e+00 -1.3637e+00  2e-07  2e-16  2e-16\n",
      "Optimal solution found.\n",
      "\n",
      " Calculating prediction values\n"
     ]
    },
    {
     "data": {
      "application/vnd.jupyter.widget-view+json": {
       "model_id": "e78e1317cf304205a7caf74173e02a4f",
       "version_major": 2,
       "version_minor": 0
      },
      "text/plain": [
       "HBox(children=(IntProgress(value=0, max=33), HTML(value='')))"
      ]
     },
     "metadata": {},
     "output_type": "display_data"
    },
    {
     "name": "stdout",
     "output_type": "stream",
     "text": [
      "\n",
      "fold is 0\n",
      "\n",
      " Calculating fullXmatrix\n"
     ]
    },
    {
     "data": {
      "application/vnd.jupyter.widget-view+json": {
       "model_id": "af8469832302442c9eb210d8c97090ba",
       "version_major": 2,
       "version_minor": 0
      },
      "text/plain": [
       "HBox(children=(IntProgress(value=0, max=66), HTML(value='')))"
      ]
     },
     "metadata": {},
     "output_type": "display_data"
    },
    {
     "name": "stdout",
     "output_type": "stream",
     "text": [
      "\n",
      "\n",
      " Calculating Kernalized Product\n"
     ]
    },
    {
     "data": {
      "application/vnd.jupyter.widget-view+json": {
       "model_id": "6e3b726278664ce4b709428433a669f0",
       "version_major": 2,
       "version_minor": 0
      },
      "text/plain": [
       "HBox(children=(IntProgress(value=0, max=66), HTML(value='')))"
      ]
     },
     "metadata": {},
     "output_type": "display_data"
    },
    {
     "name": "stdout",
     "output_type": "stream",
     "text": [
      "\n",
      "\n",
      " Calculating Kernalized Product\n"
     ]
    },
    {
     "data": {
      "application/vnd.jupyter.widget-view+json": {
       "model_id": "fcc4642c2c294958bf358bb7e82b61b0",
       "version_major": 2,
       "version_minor": 0
      },
      "text/plain": [
       "HBox(children=(IntProgress(value=0, max=132), HTML(value='')))"
      ]
     },
     "metadata": {},
     "output_type": "display_data"
    },
    {
     "name": "stdout",
     "output_type": "stream",
     "text": [
      "\n",
      "\n",
      " Calculating Kernalized Product\n"
     ]
    },
    {
     "data": {
      "application/vnd.jupyter.widget-view+json": {
       "model_id": "b48565b70df846e890bbc19443be6c89",
       "version_major": 2,
       "version_minor": 0
      },
      "text/plain": [
       "HBox(children=(IntProgress(value=0, max=132), HTML(value='')))"
      ]
     },
     "metadata": {},
     "output_type": "display_data"
    },
    {
     "name": "stdout",
     "output_type": "stream",
     "text": [
      "\n",
      "     pcost       dcost       gap    pres   dres\n",
      " 0:  7.7888e+04 -1.1849e+05  2e+05  4e-17  2e-14\n",
      " 1:  1.1417e+04 -1.3964e+04  3e+04  2e-16  2e-14\n",
      " 2:  1.5176e+03 -2.1442e+03  4e+03  2e-16  6e-15\n",
      " 3:  1.6110e+02 -3.5646e+02  5e+02  2e-16  2e-15\n",
      " 4: -6.2946e+00 -7.7026e+01  7e+01  2e-16  8e-16\n",
      " 5: -2.1254e+01 -2.8632e+01  7e+00  2e-16  3e-16\n",
      " 6: -2.1695e+01 -2.1845e+01  2e-01  2e-16  2e-16\n",
      " 7: -2.1696e+01 -2.1697e+01  1e-03  2e-16  1e-16\n",
      " 8: -2.1696e+01 -2.1696e+01  1e-05  2e-16  1e-16\n",
      "Optimal solution found.\n",
      "\n",
      " Calculating prediction values\n"
     ]
    },
    {
     "data": {
      "application/vnd.jupyter.widget-view+json": {
       "model_id": "7fa3117a1b474a6182dcea63058ffd62",
       "version_major": 2,
       "version_minor": 0
      },
      "text/plain": [
       "HBox(children=(IntProgress(value=0, max=34), HTML(value='')))"
      ]
     },
     "metadata": {},
     "output_type": "display_data"
    },
    {
     "name": "stdout",
     "output_type": "stream",
     "text": [
      "\n",
      "fold is 1\n",
      "\n",
      " Calculating fullXmatrix\n"
     ]
    },
    {
     "data": {
      "application/vnd.jupyter.widget-view+json": {
       "model_id": "d588169e077b4e08b92fe857036e8775",
       "version_major": 2,
       "version_minor": 0
      },
      "text/plain": [
       "HBox(children=(IntProgress(value=0, max=67), HTML(value='')))"
      ]
     },
     "metadata": {},
     "output_type": "display_data"
    },
    {
     "name": "stdout",
     "output_type": "stream",
     "text": [
      "\n",
      "\n",
      " Calculating Kernalized Product\n"
     ]
    },
    {
     "data": {
      "application/vnd.jupyter.widget-view+json": {
       "model_id": "cbd768f45dba46519e0fd8433699dfa2",
       "version_major": 2,
       "version_minor": 0
      },
      "text/plain": [
       "HBox(children=(IntProgress(value=0, max=67), HTML(value='')))"
      ]
     },
     "metadata": {},
     "output_type": "display_data"
    },
    {
     "name": "stdout",
     "output_type": "stream",
     "text": [
      "\n",
      "\n",
      " Calculating Kernalized Product\n"
     ]
    },
    {
     "data": {
      "application/vnd.jupyter.widget-view+json": {
       "model_id": "6a2e0c086d8b4781ae4bff9429aa51ad",
       "version_major": 2,
       "version_minor": 0
      },
      "text/plain": [
       "HBox(children=(IntProgress(value=0, max=134), HTML(value='')))"
      ]
     },
     "metadata": {},
     "output_type": "display_data"
    },
    {
     "name": "stdout",
     "output_type": "stream",
     "text": [
      "\n",
      "\n",
      " Calculating Kernalized Product\n"
     ]
    },
    {
     "data": {
      "application/vnd.jupyter.widget-view+json": {
       "model_id": "45056ebfdbae4c5aa4cff91930c30b4d",
       "version_major": 2,
       "version_minor": 0
      },
      "text/plain": [
       "HBox(children=(IntProgress(value=0, max=134), HTML(value='')))"
      ]
     },
     "metadata": {},
     "output_type": "display_data"
    },
    {
     "name": "stdout",
     "output_type": "stream",
     "text": [
      "\n",
      "     pcost       dcost       gap    pres   dres\n",
      " 0:  7.8982e+04 -1.5083e+05  2e+05  5e-17  2e-14\n",
      " 1:  1.2124e+04 -1.3962e+04  3e+04  2e-16  2e-14\n",
      " 2:  1.6129e+03 -2.2902e+03  4e+03  2e-16  6e-15\n",
      " 3:  1.7300e+02 -3.7521e+02  5e+02  2e-16  2e-15\n",
      " 4: -5.3599e+00 -8.0488e+01  8e+01  2e-16  8e-16\n",
      " 5: -2.1502e+01 -2.9443e+01  8e+00  2e-16  3e-16\n",
      " 6: -2.1999e+01 -2.2173e+01  2e-01  2e-16  2e-16\n",
      " 7: -2.1999e+01 -2.2001e+01  2e-03  2e-16  1e-16\n",
      " 8: -2.1999e+01 -2.1999e+01  2e-05  2e-16  1e-16\n",
      "Optimal solution found.\n",
      "\n",
      " Calculating prediction values\n"
     ]
    },
    {
     "data": {
      "application/vnd.jupyter.widget-view+json": {
       "model_id": "b7806e713dc54d448eb2226e841fad82",
       "version_major": 2,
       "version_minor": 0
      },
      "text/plain": [
       "HBox(children=(IntProgress(value=0, max=33), HTML(value='')))"
      ]
     },
     "metadata": {},
     "output_type": "display_data"
    },
    {
     "name": "stdout",
     "output_type": "stream",
     "text": [
      "\n",
      "fold is 2\n",
      "\n",
      " Calculating fullXmatrix\n"
     ]
    },
    {
     "data": {
      "application/vnd.jupyter.widget-view+json": {
       "model_id": "dd15d4175e7e49b4ab8558161fe05fda",
       "version_major": 2,
       "version_minor": 0
      },
      "text/plain": [
       "HBox(children=(IntProgress(value=0, max=67), HTML(value='')))"
      ]
     },
     "metadata": {},
     "output_type": "display_data"
    },
    {
     "name": "stdout",
     "output_type": "stream",
     "text": [
      "\n",
      "\n",
      " Calculating Kernalized Product\n"
     ]
    },
    {
     "data": {
      "application/vnd.jupyter.widget-view+json": {
       "model_id": "411a36d5af6c4daf902f57aef2c58376",
       "version_major": 2,
       "version_minor": 0
      },
      "text/plain": [
       "HBox(children=(IntProgress(value=0, max=67), HTML(value='')))"
      ]
     },
     "metadata": {},
     "output_type": "display_data"
    },
    {
     "name": "stdout",
     "output_type": "stream",
     "text": [
      "\n",
      "\n",
      " Calculating Kernalized Product\n"
     ]
    },
    {
     "data": {
      "application/vnd.jupyter.widget-view+json": {
       "model_id": "0994d74a4d384ff2880ea6f4ddc2ac20",
       "version_major": 2,
       "version_minor": 0
      },
      "text/plain": [
       "HBox(children=(IntProgress(value=0, max=134), HTML(value='')))"
      ]
     },
     "metadata": {},
     "output_type": "display_data"
    },
    {
     "name": "stdout",
     "output_type": "stream",
     "text": [
      "\n",
      "\n",
      " Calculating Kernalized Product\n"
     ]
    },
    {
     "data": {
      "application/vnd.jupyter.widget-view+json": {
       "model_id": "14c4cba40cb14a428b43ad758f9821ac",
       "version_major": 2,
       "version_minor": 0
      },
      "text/plain": [
       "HBox(children=(IntProgress(value=0, max=134), HTML(value='')))"
      ]
     },
     "metadata": {},
     "output_type": "display_data"
    },
    {
     "name": "stdout",
     "output_type": "stream",
     "text": [
      "\n",
      "     pcost       dcost       gap    pres   dres\n",
      " 0:  7.9108e+04 -1.2072e+05  2e+05  4e-17  2e-14\n",
      " 1:  1.1601e+04 -1.4178e+04  3e+04  2e-16  2e-14\n",
      " 2:  1.5419e+03 -2.1793e+03  4e+03  2e-16  6e-15\n",
      " 3:  1.6363e+02 -3.6227e+02  5e+02  2e-16  3e-15\n",
      " 4: -6.4381e+00 -7.8306e+01  7e+01  2e-16  8e-16\n",
      " 5: -2.1630e+01 -2.9123e+01  7e+00  2e-16  3e-16\n",
      " 6: -2.2077e+01 -2.2229e+01  2e-01  2e-16  2e-16\n",
      " 7: -2.2077e+01 -2.2079e+01  2e-03  2e-16  2e-16\n",
      " 8: -2.2077e+01 -2.2077e+01  2e-05  2e-16  1e-16\n",
      "Optimal solution found.\n",
      "\n",
      " Calculating prediction values\n"
     ]
    },
    {
     "data": {
      "application/vnd.jupyter.widget-view+json": {
       "model_id": "449ddec5c7c54f41bd51545b427c7a95",
       "version_major": 2,
       "version_minor": 0
      },
      "text/plain": [
       "HBox(children=(IntProgress(value=0, max=33), HTML(value='')))"
      ]
     },
     "metadata": {},
     "output_type": "display_data"
    },
    {
     "name": "stdout",
     "output_type": "stream",
     "text": [
      "\n",
      "fold is 0\n",
      "\n",
      " Calculating fullXmatrix\n"
     ]
    },
    {
     "data": {
      "application/vnd.jupyter.widget-view+json": {
       "model_id": "1a0579dfb4054e188bc897aeeed70115",
       "version_major": 2,
       "version_minor": 0
      },
      "text/plain": [
       "HBox(children=(IntProgress(value=0, max=66), HTML(value='')))"
      ]
     },
     "metadata": {},
     "output_type": "display_data"
    },
    {
     "name": "stdout",
     "output_type": "stream",
     "text": [
      "\n",
      "\n",
      " Calculating Kernalized Product\n"
     ]
    },
    {
     "data": {
      "application/vnd.jupyter.widget-view+json": {
       "model_id": "db02c179bc0d48f0af39a8f85935523b",
       "version_major": 2,
       "version_minor": 0
      },
      "text/plain": [
       "HBox(children=(IntProgress(value=0, max=66), HTML(value='')))"
      ]
     },
     "metadata": {},
     "output_type": "display_data"
    },
    {
     "name": "stdout",
     "output_type": "stream",
     "text": [
      "\n",
      "\n",
      " Calculating Kernalized Product\n"
     ]
    },
    {
     "data": {
      "application/vnd.jupyter.widget-view+json": {
       "model_id": "185985cd6ace4998b1b4dce415ddee08",
       "version_major": 2,
       "version_minor": 0
      },
      "text/plain": [
       "HBox(children=(IntProgress(value=0, max=132), HTML(value='')))"
      ]
     },
     "metadata": {},
     "output_type": "display_data"
    },
    {
     "name": "stdout",
     "output_type": "stream",
     "text": [
      "\n",
      "\n",
      " Calculating Kernalized Product\n"
     ]
    },
    {
     "data": {
      "application/vnd.jupyter.widget-view+json": {
       "model_id": "c8fd69a4f506465c8b0b3f7407a8c39f",
       "version_major": 2,
       "version_minor": 0
      },
      "text/plain": [
       "HBox(children=(IntProgress(value=0, max=132), HTML(value='')))"
      ]
     },
     "metadata": {},
     "output_type": "display_data"
    },
    {
     "name": "stdout",
     "output_type": "stream",
     "text": [
      "\n",
      "     pcost       dcost       gap    pres   dres\n",
      " 0:  6.5694e+04 -2.1335e+05  3e+05  4e-17  3e-14\n",
      " 1:  1.1798e+04 -1.5148e+04  3e+04  2e-16  4e-14\n",
      " 2:  1.6010e+03 -2.1429e+03  4e+03  2e-16  2e-14\n",
      " 3:  1.8531e+02 -3.4761e+02  5e+02  2e-16  6e-15\n",
      " 4:  4.5992e+00 -6.9371e+01  7e+01  2e-16  2e-15\n",
      " 5: -1.3494e+01 -2.2124e+01  9e+00  2e-16  7e-16\n",
      " 6: -1.4302e+01 -1.4685e+01  4e-01  2e-16  3e-16\n",
      " 7: -1.4308e+01 -1.4328e+01  2e-02  2e-16  3e-16\n",
      " 8: -1.4308e+01 -1.4309e+01  4e-04  2e-16  3e-16\n",
      " 9: -1.4308e+01 -1.4308e+01  6e-06  2e-16  3e-16\n",
      "Optimal solution found.\n",
      "\n",
      " Calculating prediction values\n"
     ]
    },
    {
     "data": {
      "application/vnd.jupyter.widget-view+json": {
       "model_id": "736c0626e46346f095682db3c4b7f70b",
       "version_major": 2,
       "version_minor": 0
      },
      "text/plain": [
       "HBox(children=(IntProgress(value=0, max=34), HTML(value='')))"
      ]
     },
     "metadata": {},
     "output_type": "display_data"
    },
    {
     "name": "stdout",
     "output_type": "stream",
     "text": [
      "\n",
      "fold is 1\n",
      "\n",
      " Calculating fullXmatrix\n"
     ]
    },
    {
     "data": {
      "application/vnd.jupyter.widget-view+json": {
       "model_id": "409e402d19f04e49a606df704440a9e4",
       "version_major": 2,
       "version_minor": 0
      },
      "text/plain": [
       "HBox(children=(IntProgress(value=0, max=67), HTML(value='')))"
      ]
     },
     "metadata": {},
     "output_type": "display_data"
    },
    {
     "name": "stdout",
     "output_type": "stream",
     "text": [
      "\n",
      "\n",
      " Calculating Kernalized Product\n"
     ]
    },
    {
     "data": {
      "application/vnd.jupyter.widget-view+json": {
       "model_id": "5f20cb86de4f4f89a80be6738c842d14",
       "version_major": 2,
       "version_minor": 0
      },
      "text/plain": [
       "HBox(children=(IntProgress(value=0, max=67), HTML(value='')))"
      ]
     },
     "metadata": {},
     "output_type": "display_data"
    },
    {
     "name": "stdout",
     "output_type": "stream",
     "text": [
      "\n",
      "\n",
      " Calculating Kernalized Product\n"
     ]
    },
    {
     "data": {
      "application/vnd.jupyter.widget-view+json": {
       "model_id": "31762dcff2bd41658e91538158ef62eb",
       "version_major": 2,
       "version_minor": 0
      },
      "text/plain": [
       "HBox(children=(IntProgress(value=0, max=134), HTML(value='')))"
      ]
     },
     "metadata": {},
     "output_type": "display_data"
    },
    {
     "name": "stdout",
     "output_type": "stream",
     "text": [
      "\n",
      "\n",
      " Calculating Kernalized Product\n"
     ]
    },
    {
     "data": {
      "application/vnd.jupyter.widget-view+json": {
       "model_id": "fb1d3017b33f416890d79f0512f7aaaa",
       "version_major": 2,
       "version_minor": 0
      },
      "text/plain": [
       "HBox(children=(IntProgress(value=0, max=134), HTML(value='')))"
      ]
     },
     "metadata": {},
     "output_type": "display_data"
    },
    {
     "name": "stdout",
     "output_type": "stream",
     "text": [
      "\n",
      "     pcost       dcost       gap    pres   dres\n",
      " 0:  6.7312e+04 -2.0492e+05  3e+05  4e-17  3e-14\n",
      " 1:  1.1903e+04 -1.5146e+04  3e+04  2e-16  4e-14\n",
      " 2:  1.6142e+03 -2.1657e+03  4e+03  2e-16  2e-14\n",
      " 3:  1.8648e+02 -3.5110e+02  5e+02  2e-16  5e-15\n",
      " 4:  4.3895e+00 -7.0211e+01  7e+01  2e-16  2e-15\n",
      " 5: -1.3789e+01 -2.2473e+01  9e+00  2e-16  7e-16\n",
      " 6: -1.4590e+01 -1.4930e+01  3e-01  2e-16  3e-16\n",
      " 7: -1.4595e+01 -1.4621e+01  3e-02  2e-16  2e-16\n",
      " 8: -1.4596e+01 -1.4597e+01  9e-04  2e-16  2e-16\n",
      " 9: -1.4596e+01 -1.4596e+01  3e-05  2e-16  2e-16\n",
      "10: -1.4596e+01 -1.4596e+01  8e-07  2e-16  3e-16\n",
      "Optimal solution found.\n",
      "\n",
      " Calculating prediction values\n"
     ]
    },
    {
     "data": {
      "application/vnd.jupyter.widget-view+json": {
       "model_id": "d4ce0a6f2c184af0aeca68bfe83496cb",
       "version_major": 2,
       "version_minor": 0
      },
      "text/plain": [
       "HBox(children=(IntProgress(value=0, max=33), HTML(value='')))"
      ]
     },
     "metadata": {},
     "output_type": "display_data"
    },
    {
     "name": "stdout",
     "output_type": "stream",
     "text": [
      "\n",
      "fold is 2\n",
      "\n",
      " Calculating fullXmatrix\n"
     ]
    },
    {
     "data": {
      "application/vnd.jupyter.widget-view+json": {
       "model_id": "442aa69ec03849309efc2803c750f373",
       "version_major": 2,
       "version_minor": 0
      },
      "text/plain": [
       "HBox(children=(IntProgress(value=0, max=67), HTML(value='')))"
      ]
     },
     "metadata": {},
     "output_type": "display_data"
    },
    {
     "name": "stdout",
     "output_type": "stream",
     "text": [
      "\n",
      "\n",
      " Calculating Kernalized Product\n"
     ]
    },
    {
     "data": {
      "application/vnd.jupyter.widget-view+json": {
       "model_id": "c99b50cb63bb4753b09d54bc28e2c179",
       "version_major": 2,
       "version_minor": 0
      },
      "text/plain": [
       "HBox(children=(IntProgress(value=0, max=67), HTML(value='')))"
      ]
     },
     "metadata": {},
     "output_type": "display_data"
    },
    {
     "name": "stdout",
     "output_type": "stream",
     "text": [
      "\n",
      "\n",
      " Calculating Kernalized Product\n"
     ]
    },
    {
     "data": {
      "application/vnd.jupyter.widget-view+json": {
       "model_id": "53f295216fc54e8087d2446d8230e03a",
       "version_major": 2,
       "version_minor": 0
      },
      "text/plain": [
       "HBox(children=(IntProgress(value=0, max=134), HTML(value='')))"
      ]
     },
     "metadata": {},
     "output_type": "display_data"
    },
    {
     "name": "stdout",
     "output_type": "stream",
     "text": [
      "\n",
      "\n",
      " Calculating Kernalized Product\n"
     ]
    },
    {
     "data": {
      "application/vnd.jupyter.widget-view+json": {
       "model_id": "919b5f0b158442d98d56cc70a484b7c6",
       "version_major": 2,
       "version_minor": 0
      },
      "text/plain": [
       "HBox(children=(IntProgress(value=0, max=134), HTML(value='')))"
      ]
     },
     "metadata": {},
     "output_type": "display_data"
    },
    {
     "name": "stdout",
     "output_type": "stream",
     "text": [
      "\n",
      "     pcost       dcost       gap    pres   dres\n",
      " 0:  6.8020e+04 -2.0522e+05  3e+05  4e-17  3e-14\n",
      " 1:  1.2011e+04 -1.5199e+04  3e+04  2e-16  4e-14\n",
      " 2:  1.6279e+03 -2.1884e+03  4e+03  2e-16  2e-14\n",
      " 3:  1.8767e+02 -3.5478e+02  5e+02  2e-16  5e-15\n",
      " 4:  4.1442e+00 -7.1108e+01  8e+01  2e-16  2e-15\n",
      " 5: -1.4126e+01 -2.2862e+01  9e+00  2e-16  7e-16\n",
      " 6: -1.4923e+01 -1.5261e+01  3e-01  2e-16  3e-16\n",
      " 7: -1.4927e+01 -1.4939e+01  1e-02  2e-16  3e-16\n",
      " 8: -1.4927e+01 -1.4928e+01  2e-04  2e-16  3e-16\n",
      " 9: -1.4927e+01 -1.4927e+01  2e-06  2e-16  3e-16\n",
      "Optimal solution found.\n",
      "\n",
      " Calculating prediction values\n"
     ]
    },
    {
     "data": {
      "application/vnd.jupyter.widget-view+json": {
       "model_id": "3257caa702d9464e85a00d00ef5cd289",
       "version_major": 2,
       "version_minor": 0
      },
      "text/plain": [
       "HBox(children=(IntProgress(value=0, max=33), HTML(value='')))"
      ]
     },
     "metadata": {},
     "output_type": "display_data"
    },
    {
     "name": "stdout",
     "output_type": "stream",
     "text": [
      "\n",
      "fold is 0\n",
      "\n",
      " Calculating fullXmatrix\n"
     ]
    },
    {
     "data": {
      "application/vnd.jupyter.widget-view+json": {
       "model_id": "4e65a15c66cd4b6b9b5d0299606f7d1e",
       "version_major": 2,
       "version_minor": 0
      },
      "text/plain": [
       "HBox(children=(IntProgress(value=0, max=66), HTML(value='')))"
      ]
     },
     "metadata": {},
     "output_type": "display_data"
    },
    {
     "name": "stdout",
     "output_type": "stream",
     "text": [
      "\n",
      "\n",
      " Calculating Kernalized Product\n"
     ]
    },
    {
     "data": {
      "application/vnd.jupyter.widget-view+json": {
       "model_id": "4ab971fffcca444a879c14a85c92c098",
       "version_major": 2,
       "version_minor": 0
      },
      "text/plain": [
       "HBox(children=(IntProgress(value=0, max=66), HTML(value='')))"
      ]
     },
     "metadata": {},
     "output_type": "display_data"
    },
    {
     "name": "stdout",
     "output_type": "stream",
     "text": [
      "\n",
      "\n",
      " Calculating Kernalized Product\n"
     ]
    },
    {
     "data": {
      "application/vnd.jupyter.widget-view+json": {
       "model_id": "ee3817fda1914407887172ebb94fd7d0",
       "version_major": 2,
       "version_minor": 0
      },
      "text/plain": [
       "HBox(children=(IntProgress(value=0, max=132), HTML(value='')))"
      ]
     },
     "metadata": {},
     "output_type": "display_data"
    },
    {
     "name": "stdout",
     "output_type": "stream",
     "text": [
      "\n",
      "\n",
      " Calculating Kernalized Product\n"
     ]
    },
    {
     "data": {
      "application/vnd.jupyter.widget-view+json": {
       "model_id": "078927ccfcd3417d960d38b5f2e4c087",
       "version_major": 2,
       "version_minor": 0
      },
      "text/plain": [
       "HBox(children=(IntProgress(value=0, max=132), HTML(value='')))"
      ]
     },
     "metadata": {},
     "output_type": "display_data"
    },
    {
     "name": "stdout",
     "output_type": "stream",
     "text": [
      "\n",
      "     pcost       dcost       gap    pres   dres\n",
      " 0:  5.3236e+04 -1.8645e+05  2e+05  4e-17  3e-14\n",
      " 1:  9.4949e+03 -1.2924e+04  2e+04  2e-16  4e-14\n",
      " 2:  1.2950e+03 -1.6961e+03  3e+03  2e-16  2e-14\n",
      " 3:  1.5316e+02 -2.7500e+02  4e+02  2e-16  6e-15\n",
      " 4:  6.0448e+00 -5.3587e+01  6e+01  2e-16  2e-15\n",
      " 5: -9.1531e+00 -1.6304e+01  7e+00  2e-16  7e-16\n",
      " 6: -9.9184e+00 -1.0306e+01  4e-01  2e-16  3e-16\n",
      " 7: -9.9308e+00 -9.9656e+00  3e-02  2e-16  2e-16\n",
      " 8: -9.9317e+00 -9.9349e+00  3e-03  2e-16  2e-16\n",
      " 9: -9.9318e+00 -9.9319e+00  2e-04  2e-16  2e-16\n",
      "10: -9.9318e+00 -9.9318e+00  6e-06  2e-16  2e-16\n",
      "Optimal solution found.\n",
      "\n",
      " Calculating prediction values\n"
     ]
    },
    {
     "data": {
      "application/vnd.jupyter.widget-view+json": {
       "model_id": "f845d11215c0458982ac3a9dd8226afd",
       "version_major": 2,
       "version_minor": 0
      },
      "text/plain": [
       "HBox(children=(IntProgress(value=0, max=34), HTML(value='')))"
      ]
     },
     "metadata": {},
     "output_type": "display_data"
    },
    {
     "name": "stdout",
     "output_type": "stream",
     "text": [
      "\n",
      "fold is 1\n",
      "\n",
      " Calculating fullXmatrix\n"
     ]
    },
    {
     "data": {
      "application/vnd.jupyter.widget-view+json": {
       "model_id": "ad282cc3140b4955849d19216d16d85d",
       "version_major": 2,
       "version_minor": 0
      },
      "text/plain": [
       "HBox(children=(IntProgress(value=0, max=67), HTML(value='')))"
      ]
     },
     "metadata": {},
     "output_type": "display_data"
    },
    {
     "name": "stdout",
     "output_type": "stream",
     "text": [
      "\n",
      "\n",
      " Calculating Kernalized Product\n"
     ]
    },
    {
     "data": {
      "application/vnd.jupyter.widget-view+json": {
       "model_id": "ad8bf7890ed245d599837c917cbf7d93",
       "version_major": 2,
       "version_minor": 0
      },
      "text/plain": [
       "HBox(children=(IntProgress(value=0, max=67), HTML(value='')))"
      ]
     },
     "metadata": {},
     "output_type": "display_data"
    },
    {
     "name": "stdout",
     "output_type": "stream",
     "text": [
      "\n",
      "\n",
      " Calculating Kernalized Product\n"
     ]
    },
    {
     "data": {
      "application/vnd.jupyter.widget-view+json": {
       "model_id": "709f98c3d14e4ccab4a16de75cd6c5f2",
       "version_major": 2,
       "version_minor": 0
      },
      "text/plain": [
       "HBox(children=(IntProgress(value=0, max=134), HTML(value='')))"
      ]
     },
     "metadata": {},
     "output_type": "display_data"
    },
    {
     "name": "stdout",
     "output_type": "stream",
     "text": [
      "\n",
      "\n",
      " Calculating Kernalized Product\n"
     ]
    },
    {
     "data": {
      "application/vnd.jupyter.widget-view+json": {
       "model_id": "70d3a95de54f454da20226ca7178c3e6",
       "version_major": 2,
       "version_minor": 0
      },
      "text/plain": [
       "HBox(children=(IntProgress(value=0, max=134), HTML(value='')))"
      ]
     },
     "metadata": {},
     "output_type": "display_data"
    },
    {
     "name": "stdout",
     "output_type": "stream",
     "text": [
      "\n",
      "     pcost       dcost       gap    pres   dres\n",
      " 0:  5.4516e+04 -1.6903e+05  2e+05  4e-17  3e-14\n",
      " 1:  9.4851e+03 -1.2613e+04  2e+04  2e-16  4e-14\n",
      " 2:  1.2929e+03 -1.6988e+03  3e+03  2e-16  2e-14\n",
      " 3:  1.5281e+02 -2.7462e+02  4e+02  2e-16  6e-15\n",
      " 4:  5.9714e+00 -5.3566e+01  6e+01  2e-16  2e-15\n",
      " 5: -9.1802e+00 -1.6316e+01  7e+00  2e-16  7e-16\n",
      " 6: -9.9366e+00 -1.0311e+01  4e-01  2e-16  3e-16\n",
      " 7: -9.9470e+00 -9.9807e+00  3e-02  2e-16  2e-16\n",
      " 8: -9.9479e+00 -9.9501e+00  2e-03  2e-16  2e-16\n",
      " 9: -9.9480e+00 -9.9481e+00  9e-05  2e-16  2e-16\n",
      "10: -9.9480e+00 -9.9480e+00  3e-06  2e-16  2e-16\n",
      "Optimal solution found.\n",
      "\n",
      " Calculating prediction values\n"
     ]
    },
    {
     "data": {
      "application/vnd.jupyter.widget-view+json": {
       "model_id": "a1453687011e48b2811c3da776a081a3",
       "version_major": 2,
       "version_minor": 0
      },
      "text/plain": [
       "HBox(children=(IntProgress(value=0, max=33), HTML(value='')))"
      ]
     },
     "metadata": {},
     "output_type": "display_data"
    },
    {
     "name": "stdout",
     "output_type": "stream",
     "text": [
      "\n",
      "fold is 2\n",
      "\n",
      " Calculating fullXmatrix\n"
     ]
    },
    {
     "data": {
      "application/vnd.jupyter.widget-view+json": {
       "model_id": "2bb2cd42ccea4ae68a6b615e0303bdc8",
       "version_major": 2,
       "version_minor": 0
      },
      "text/plain": [
       "HBox(children=(IntProgress(value=0, max=67), HTML(value='')))"
      ]
     },
     "metadata": {},
     "output_type": "display_data"
    },
    {
     "name": "stdout",
     "output_type": "stream",
     "text": [
      "\n",
      "\n",
      " Calculating Kernalized Product\n"
     ]
    },
    {
     "data": {
      "application/vnd.jupyter.widget-view+json": {
       "model_id": "8b0c250cae724fbba083d1c1e9443ec1",
       "version_major": 2,
       "version_minor": 0
      },
      "text/plain": [
       "HBox(children=(IntProgress(value=0, max=67), HTML(value='')))"
      ]
     },
     "metadata": {},
     "output_type": "display_data"
    },
    {
     "name": "stdout",
     "output_type": "stream",
     "text": [
      "\n",
      "\n",
      " Calculating Kernalized Product\n"
     ]
    },
    {
     "data": {
      "application/vnd.jupyter.widget-view+json": {
       "model_id": "fd1b866da1ec4e928ae1314f2df968ae",
       "version_major": 2,
       "version_minor": 0
      },
      "text/plain": [
       "HBox(children=(IntProgress(value=0, max=134), HTML(value='')))"
      ]
     },
     "metadata": {},
     "output_type": "display_data"
    },
    {
     "name": "stdout",
     "output_type": "stream",
     "text": [
      "\n",
      "\n",
      " Calculating Kernalized Product\n"
     ]
    },
    {
     "data": {
      "application/vnd.jupyter.widget-view+json": {
       "model_id": "5ba94094881140aca7cfdbf5e113bdf0",
       "version_major": 2,
       "version_minor": 0
      },
      "text/plain": [
       "HBox(children=(IntProgress(value=0, max=134), HTML(value='')))"
      ]
     },
     "metadata": {},
     "output_type": "display_data"
    },
    {
     "name": "stdout",
     "output_type": "stream",
     "text": [
      "\n",
      "     pcost       dcost       gap    pres   dres\n",
      " 0:  5.5070e+04 -1.8143e+05  2e+05  4e-17  4e-14\n",
      " 1:  9.7156e+03 -1.3106e+04  2e+04  2e-16  4e-14\n",
      " 2:  1.3249e+03 -1.7387e+03  3e+03  2e-16  2e-14\n",
      " 3:  1.5659e+02 -2.8157e+02  4e+02  2e-16  6e-15\n",
      " 4:  6.1099e+00 -5.4911e+01  6e+01  2e-16  2e-15\n",
      " 5: -9.4163e+00 -1.6728e+01  7e+00  2e-16  7e-16\n",
      " 6: -1.0192e+01 -1.0564e+01  4e-01  2e-16  3e-16\n",
      " 7: -1.0202e+01 -1.0226e+01  2e-02  2e-16  2e-16\n",
      " 8: -1.0202e+01 -1.0204e+01  1e-03  2e-16  2e-16\n",
      " 9: -1.0202e+01 -1.0202e+01  5e-05  2e-16  2e-16\n",
      "10: -1.0202e+01 -1.0202e+01  3e-06  2e-16  2e-16\n",
      "Optimal solution found.\n",
      "\n",
      " Calculating prediction values\n"
     ]
    },
    {
     "data": {
      "application/vnd.jupyter.widget-view+json": {
       "model_id": "692a123e8d1048de8c2865477ea31a1b",
       "version_major": 2,
       "version_minor": 0
      },
      "text/plain": [
       "HBox(children=(IntProgress(value=0, max=33), HTML(value='')))"
      ]
     },
     "metadata": {},
     "output_type": "display_data"
    },
    {
     "name": "stdout",
     "output_type": "stream",
     "text": [
      "\n",
      "fold is 0\n",
      "\n",
      " Calculating fullXmatrix\n"
     ]
    },
    {
     "data": {
      "application/vnd.jupyter.widget-view+json": {
       "model_id": "50cec49a85414ac09a03a0570feac3e1",
       "version_major": 2,
       "version_minor": 0
      },
      "text/plain": [
       "HBox(children=(IntProgress(value=0, max=66), HTML(value='')))"
      ]
     },
     "metadata": {},
     "output_type": "display_data"
    },
    {
     "name": "stdout",
     "output_type": "stream",
     "text": [
      "\n",
      "\n",
      " Calculating Kernalized Product\n"
     ]
    },
    {
     "data": {
      "application/vnd.jupyter.widget-view+json": {
       "model_id": "dbb767637c714c8f8353995733144dfc",
       "version_major": 2,
       "version_minor": 0
      },
      "text/plain": [
       "HBox(children=(IntProgress(value=0, max=66), HTML(value='')))"
      ]
     },
     "metadata": {},
     "output_type": "display_data"
    },
    {
     "name": "stdout",
     "output_type": "stream",
     "text": [
      "\n",
      "\n",
      " Calculating Kernalized Product\n"
     ]
    },
    {
     "data": {
      "application/vnd.jupyter.widget-view+json": {
       "model_id": "6fcebefff9984e3c9c110ae049067e27",
       "version_major": 2,
       "version_minor": 0
      },
      "text/plain": [
       "HBox(children=(IntProgress(value=0, max=132), HTML(value='')))"
      ]
     },
     "metadata": {},
     "output_type": "display_data"
    },
    {
     "name": "stdout",
     "output_type": "stream",
     "text": [
      "\n",
      "\n",
      " Calculating Kernalized Product\n"
     ]
    },
    {
     "data": {
      "application/vnd.jupyter.widget-view+json": {
       "model_id": "c6761c32ebb1451db345d20e6c257f0b",
       "version_major": 2,
       "version_minor": 0
      },
      "text/plain": [
       "HBox(children=(IntProgress(value=0, max=132), HTML(value='')))"
      ]
     },
     "metadata": {},
     "output_type": "display_data"
    },
    {
     "name": "stdout",
     "output_type": "stream",
     "text": [
      "\n",
      "     pcost       dcost       gap    pres   dres\n",
      " 0:  4.0852e+04 -1.4557e+05  2e+05  4e-17  3e-14\n",
      " 1:  7.0971e+03 -9.9757e+03  2e+04  2e-16  5e-14\n",
      " 2:  9.6977e+02 -1.2524e+03  2e+03  2e-16  2e-14\n",
      " 3:  1.1625e+02 -2.0280e+02  3e+02  2e-16  6e-15\n",
      " 4:  5.6279e+00 -3.8912e+01  4e+01  2e-16  2e-15\n",
      " 5: -6.0298e+00 -1.1464e+01  5e+00  2e-16  7e-16\n",
      " 6: -6.6628e+00 -6.9716e+00  3e-01  2e-16  3e-16\n",
      " 7: -6.6788e+00 -6.7168e+00  4e-02  2e-16  2e-16\n",
      " 8: -6.6808e+00 -6.6852e+00  4e-03  2e-16  2e-16\n",
      " 9: -6.6812e+00 -6.6816e+00  4e-04  2e-16  2e-16\n",
      "10: -6.6812e+00 -6.6813e+00  3e-05  2e-16  2e-16\n",
      "11: -6.6812e+00 -6.6812e+00  1e-06  2e-16  2e-16\n",
      "Optimal solution found.\n",
      "\n",
      " Calculating prediction values\n"
     ]
    },
    {
     "data": {
      "application/vnd.jupyter.widget-view+json": {
       "model_id": "12e2297202664be4a3559cc970cf4d91",
       "version_major": 2,
       "version_minor": 0
      },
      "text/plain": [
       "HBox(children=(IntProgress(value=0, max=34), HTML(value='')))"
      ]
     },
     "metadata": {},
     "output_type": "display_data"
    },
    {
     "name": "stdout",
     "output_type": "stream",
     "text": [
      "\n",
      "fold is 1\n",
      "\n",
      " Calculating fullXmatrix\n"
     ]
    },
    {
     "data": {
      "application/vnd.jupyter.widget-view+json": {
       "model_id": "3a4783b4cb1249c3a19f02b75a74a7c6",
       "version_major": 2,
       "version_minor": 0
      },
      "text/plain": [
       "HBox(children=(IntProgress(value=0, max=67), HTML(value='')))"
      ]
     },
     "metadata": {},
     "output_type": "display_data"
    },
    {
     "name": "stdout",
     "output_type": "stream",
     "text": [
      "\n",
      "\n",
      " Calculating Kernalized Product\n"
     ]
    },
    {
     "data": {
      "application/vnd.jupyter.widget-view+json": {
       "model_id": "bca15ee7bc46438ebcf822be23d012e7",
       "version_major": 2,
       "version_minor": 0
      },
      "text/plain": [
       "HBox(children=(IntProgress(value=0, max=67), HTML(value='')))"
      ]
     },
     "metadata": {},
     "output_type": "display_data"
    },
    {
     "name": "stdout",
     "output_type": "stream",
     "text": [
      "\n",
      "\n",
      " Calculating Kernalized Product\n"
     ]
    },
    {
     "data": {
      "application/vnd.jupyter.widget-view+json": {
       "model_id": "75dd3e735bf24c7489b1a93e0d7b57eb",
       "version_major": 2,
       "version_minor": 0
      },
      "text/plain": [
       "HBox(children=(IntProgress(value=0, max=134), HTML(value='')))"
      ]
     },
     "metadata": {},
     "output_type": "display_data"
    },
    {
     "name": "stdout",
     "output_type": "stream",
     "text": [
      "\n",
      "\n",
      " Calculating Kernalized Product\n"
     ]
    },
    {
     "data": {
      "application/vnd.jupyter.widget-view+json": {
       "model_id": "ae18ed4ed4b24c8681ba01a117c78413",
       "version_major": 2,
       "version_minor": 0
      },
      "text/plain": [
       "HBox(children=(IntProgress(value=0, max=134), HTML(value='')))"
      ]
     },
     "metadata": {},
     "output_type": "display_data"
    },
    {
     "name": "stdout",
     "output_type": "stream",
     "text": [
      "\n",
      "     pcost       dcost       gap    pres   dres\n",
      " 0:  4.1648e+04 -1.3681e+05  2e+05  4e-17  3e-14\n",
      " 1:  7.1096e+03 -9.7806e+03  2e+04  2e-16  4e-14\n",
      " 2:  9.7123e+02 -1.2557e+03  2e+03  2e-16  2e-14\n",
      " 3:  1.1653e+02 -2.0275e+02  3e+02  2e-16  5e-15\n",
      " 4:  5.7223e+00 -3.8871e+01  4e+01  2e-16  2e-15\n",
      " 5: -5.9708e+00 -1.1419e+01  5e+00  2e-16  7e-16\n",
      " 6: -6.6045e+00 -6.9802e+00  4e-01  2e-16  3e-16\n",
      " 7: -6.6205e+00 -6.6688e+00  5e-02  2e-16  2e-16\n",
      " 8: -6.6226e+00 -6.6280e+00  5e-03  2e-16  2e-16\n",
      " 9: -6.6230e+00 -6.6234e+00  4e-04  2e-16  2e-16\n",
      "10: -6.6231e+00 -6.6231e+00  3e-05  2e-16  2e-16\n",
      "11: -6.6231e+00 -6.6231e+00  1e-06  2e-16  2e-16\n",
      "Optimal solution found.\n",
      "\n",
      " Calculating prediction values\n"
     ]
    },
    {
     "data": {
      "application/vnd.jupyter.widget-view+json": {
       "model_id": "7340c8ee3f9e4ea49a6d88387f40cdc7",
       "version_major": 2,
       "version_minor": 0
      },
      "text/plain": [
       "HBox(children=(IntProgress(value=0, max=33), HTML(value='')))"
      ]
     },
     "metadata": {},
     "output_type": "display_data"
    },
    {
     "name": "stdout",
     "output_type": "stream",
     "text": [
      "\n",
      "fold is 2\n",
      "\n",
      " Calculating fullXmatrix\n"
     ]
    },
    {
     "data": {
      "application/vnd.jupyter.widget-view+json": {
       "model_id": "f60272cdea9b43f8841320e3dc1a60cc",
       "version_major": 2,
       "version_minor": 0
      },
      "text/plain": [
       "HBox(children=(IntProgress(value=0, max=67), HTML(value='')))"
      ]
     },
     "metadata": {},
     "output_type": "display_data"
    },
    {
     "name": "stdout",
     "output_type": "stream",
     "text": [
      "\n",
      "\n",
      " Calculating Kernalized Product\n"
     ]
    },
    {
     "data": {
      "application/vnd.jupyter.widget-view+json": {
       "model_id": "93671de3a3004636aaeb7249278b35d9",
       "version_major": 2,
       "version_minor": 0
      },
      "text/plain": [
       "HBox(children=(IntProgress(value=0, max=67), HTML(value='')))"
      ]
     },
     "metadata": {},
     "output_type": "display_data"
    },
    {
     "name": "stdout",
     "output_type": "stream",
     "text": [
      "\n",
      "\n",
      " Calculating Kernalized Product\n"
     ]
    },
    {
     "data": {
      "application/vnd.jupyter.widget-view+json": {
       "model_id": "3dd6b2a13ab3469397147d6c45b94e5f",
       "version_major": 2,
       "version_minor": 0
      },
      "text/plain": [
       "HBox(children=(IntProgress(value=0, max=134), HTML(value='')))"
      ]
     },
     "metadata": {},
     "output_type": "display_data"
    },
    {
     "name": "stdout",
     "output_type": "stream",
     "text": [
      "\n",
      "\n",
      " Calculating Kernalized Product\n"
     ]
    },
    {
     "data": {
      "application/vnd.jupyter.widget-view+json": {
       "model_id": "d0adcba3bba94d64bdaf8919f2769ecb",
       "version_major": 2,
       "version_minor": 0
      },
      "text/plain": [
       "HBox(children=(IntProgress(value=0, max=134), HTML(value='')))"
      ]
     },
     "metadata": {},
     "output_type": "display_data"
    },
    {
     "name": "stdout",
     "output_type": "stream",
     "text": [
      "\n",
      "     pcost       dcost       gap    pres   dres\n",
      " 0:  4.1976e+04 -1.4733e+05  2e+05  4e-17  3e-14\n",
      " 1:  7.2947e+03 -1.0447e+04  2e+04  2e-16  4e-14\n",
      " 2:  9.9796e+02 -1.2868e+03  2e+03  2e-16  2e-14\n",
      " 3:  1.1989e+02 -2.0839e+02  3e+02  2e-16  5e-15\n",
      " 4:  5.9654e+00 -3.9870e+01  5e+01  2e-16  2e-15\n",
      " 5: -6.0737e+00 -1.1680e+01  6e+00  2e-16  7e-16\n",
      " 6: -6.7300e+00 -7.1189e+00  4e-01  2e-16  2e-16\n",
      " 7: -6.7459e+00 -6.7910e+00  5e-02  2e-16  2e-16\n",
      " 8: -6.7477e+00 -6.7518e+00  4e-03  2e-16  2e-16\n",
      " 9: -6.7479e+00 -6.7482e+00  2e-04  2e-16  2e-16\n",
      "10: -6.7480e+00 -6.7480e+00  2e-05  2e-16  2e-16\n",
      "11: -6.7480e+00 -6.7480e+00  1e-06  2e-16  2e-16\n",
      "Optimal solution found.\n",
      "\n",
      " Calculating prediction values\n"
     ]
    },
    {
     "data": {
      "application/vnd.jupyter.widget-view+json": {
       "model_id": "9ed30a1b045b4cfc8513ee4e3f57d501",
       "version_major": 2,
       "version_minor": 0
      },
      "text/plain": [
       "HBox(children=(IntProgress(value=0, max=33), HTML(value='')))"
      ]
     },
     "metadata": {},
     "output_type": "display_data"
    },
    {
     "name": "stdout",
     "output_type": "stream",
     "text": [
      "\n",
      "fold is 0\n",
      "\n",
      " Calculating fullXmatrix\n"
     ]
    },
    {
     "data": {
      "application/vnd.jupyter.widget-view+json": {
       "model_id": "c4fdb6bc4edf47d5b76714c1e5a12374",
       "version_major": 2,
       "version_minor": 0
      },
      "text/plain": [
       "HBox(children=(IntProgress(value=0, max=66), HTML(value='')))"
      ]
     },
     "metadata": {},
     "output_type": "display_data"
    },
    {
     "name": "stdout",
     "output_type": "stream",
     "text": [
      "\n",
      "\n",
      " Calculating Kernalized Product\n"
     ]
    },
    {
     "data": {
      "application/vnd.jupyter.widget-view+json": {
       "model_id": "69ef98dece5a4dc89e7cc7744d93a673",
       "version_major": 2,
       "version_minor": 0
      },
      "text/plain": [
       "HBox(children=(IntProgress(value=0, max=66), HTML(value='')))"
      ]
     },
     "metadata": {},
     "output_type": "display_data"
    },
    {
     "name": "stdout",
     "output_type": "stream",
     "text": [
      "\n",
      "\n",
      " Calculating Kernalized Product\n"
     ]
    },
    {
     "data": {
      "application/vnd.jupyter.widget-view+json": {
       "model_id": "a769f16d19cf47268603df9277a1614f",
       "version_major": 2,
       "version_minor": 0
      },
      "text/plain": [
       "HBox(children=(IntProgress(value=0, max=132), HTML(value='')))"
      ]
     },
     "metadata": {},
     "output_type": "display_data"
    },
    {
     "name": "stdout",
     "output_type": "stream",
     "text": [
      "\n",
      "\n",
      " Calculating Kernalized Product\n"
     ]
    },
    {
     "data": {
      "application/vnd.jupyter.widget-view+json": {
       "model_id": "4848e92e596a4c868067645e73423c23",
       "version_major": 2,
       "version_minor": 0
      },
      "text/plain": [
       "HBox(children=(IntProgress(value=0, max=132), HTML(value='')))"
      ]
     },
     "metadata": {},
     "output_type": "display_data"
    },
    {
     "name": "stdout",
     "output_type": "stream",
     "text": [
      "\n",
      "     pcost       dcost       gap    pres   dres\n",
      " 0:  3.0270e+04 -1.1065e+05  1e+05  4e-17  3e-14\n",
      " 1:  5.1099e+03 -7.3070e+03  1e+04  2e-16  4e-14\n",
      " 2:  6.9842e+02 -8.9262e+02  2e+03  2e-16  2e-14\n",
      " 3:  8.4477e+01 -1.4439e+02  2e+02  2e-16  6e-15\n",
      " 4:  4.5951e+00 -2.7416e+01  3e+01  2e-16  2e-15\n",
      " 5: -3.9388e+00 -7.8898e+00  4e+00  2e-16  7e-16\n",
      " 6: -4.4263e+00 -4.6552e+00  2e-01  2e-16  3e-16\n",
      " 7: -4.4431e+00 -4.4765e+00  3e-02  2e-16  2e-16\n",
      " 8: -4.4465e+00 -4.4501e+00  4e-03  2e-16  2e-16\n",
      " 9: -4.4470e+00 -4.4474e+00  4e-04  2e-16  2e-16\n",
      "10: -4.4471e+00 -4.4471e+00  4e-05  2e-16  2e-16\n",
      "11: -4.4471e+00 -4.4471e+00  5e-06  2e-16  2e-16\n",
      "12: -4.4471e+00 -4.4471e+00  2e-07  2e-16  2e-16\n",
      "Optimal solution found.\n",
      "\n",
      " Calculating prediction values\n"
     ]
    },
    {
     "data": {
      "application/vnd.jupyter.widget-view+json": {
       "model_id": "cf00943e124e49daaa6322e28e5c9bed",
       "version_major": 2,
       "version_minor": 0
      },
      "text/plain": [
       "HBox(children=(IntProgress(value=0, max=34), HTML(value='')))"
      ]
     },
     "metadata": {},
     "output_type": "display_data"
    },
    {
     "name": "stdout",
     "output_type": "stream",
     "text": [
      "\n",
      "fold is 1\n",
      "\n",
      " Calculating fullXmatrix\n"
     ]
    },
    {
     "data": {
      "application/vnd.jupyter.widget-view+json": {
       "model_id": "7ea3180a8f16484a8ea001884fb73e90",
       "version_major": 2,
       "version_minor": 0
      },
      "text/plain": [
       "HBox(children=(IntProgress(value=0, max=67), HTML(value='')))"
      ]
     },
     "metadata": {},
     "output_type": "display_data"
    },
    {
     "name": "stdout",
     "output_type": "stream",
     "text": [
      "\n",
      "\n",
      " Calculating Kernalized Product\n"
     ]
    },
    {
     "data": {
      "application/vnd.jupyter.widget-view+json": {
       "model_id": "ba9a487030594675ab8a71ffddf9da78",
       "version_major": 2,
       "version_minor": 0
      },
      "text/plain": [
       "HBox(children=(IntProgress(value=0, max=67), HTML(value='')))"
      ]
     },
     "metadata": {},
     "output_type": "display_data"
    },
    {
     "name": "stdout",
     "output_type": "stream",
     "text": [
      "\n",
      "\n",
      " Calculating Kernalized Product\n"
     ]
    },
    {
     "data": {
      "application/vnd.jupyter.widget-view+json": {
       "model_id": "1efe20f70fc4428b973b118ced974fe0",
       "version_major": 2,
       "version_minor": 0
      },
      "text/plain": [
       "HBox(children=(IntProgress(value=0, max=134), HTML(value='')))"
      ]
     },
     "metadata": {},
     "output_type": "display_data"
    },
    {
     "name": "stdout",
     "output_type": "stream",
     "text": [
      "\n",
      "\n",
      " Calculating Kernalized Product\n"
     ]
    },
    {
     "data": {
      "application/vnd.jupyter.widget-view+json": {
       "model_id": "f1742e72b2c049e69cfc4232009c75f3",
       "version_major": 2,
       "version_minor": 0
      },
      "text/plain": [
       "HBox(children=(IntProgress(value=0, max=134), HTML(value='')))"
      ]
     },
     "metadata": {},
     "output_type": "display_data"
    },
    {
     "name": "stdout",
     "output_type": "stream",
     "text": [
      "\n",
      "     pcost       dcost       gap    pres   dres\n",
      " 0:  3.0629e+04 -1.0956e+05  1e+05  4e-17  3e-14\n",
      " 1:  5.1151e+03 -7.2326e+03  1e+04  2e-16  4e-14\n",
      " 2:  6.9897e+02 -8.9271e+02  2e+03  2e-16  2e-14\n",
      " 3:  8.4649e+01 -1.4420e+02  2e+02  2e-16  6e-15\n",
      " 4:  4.6777e+00 -2.7343e+01  3e+01  2e-16  2e-15\n",
      " 5: -3.8820e+00 -7.8413e+00  4e+00  2e-16  6e-16\n",
      " 6: -4.3714e+00 -4.6462e+00  3e-01  2e-16  2e-16\n",
      " 7: -4.3880e+00 -4.4235e+00  4e-02  2e-16  2e-16\n",
      " 8: -4.3910e+00 -4.3961e+00  5e-03  2e-16  2e-16\n",
      " 9: -4.3917e+00 -4.3922e+00  6e-04  2e-16  2e-16\n",
      "10: -4.3918e+00 -4.3918e+00  6e-05  2e-16  2e-16\n",
      "11: -4.3918e+00 -4.3918e+00  2e-06  2e-16  2e-16\n",
      "Optimal solution found.\n",
      "\n",
      " Calculating prediction values\n"
     ]
    },
    {
     "data": {
      "application/vnd.jupyter.widget-view+json": {
       "model_id": "92ce8c5cef1c4cdca95289df52c58b46",
       "version_major": 2,
       "version_minor": 0
      },
      "text/plain": [
       "HBox(children=(IntProgress(value=0, max=33), HTML(value='')))"
      ]
     },
     "metadata": {},
     "output_type": "display_data"
    },
    {
     "name": "stdout",
     "output_type": "stream",
     "text": [
      "\n",
      "fold is 2\n",
      "\n",
      " Calculating fullXmatrix\n"
     ]
    },
    {
     "data": {
      "application/vnd.jupyter.widget-view+json": {
       "model_id": "50216b7865ed4dc39197f18d252b783c",
       "version_major": 2,
       "version_minor": 0
      },
      "text/plain": [
       "HBox(children=(IntProgress(value=0, max=67), HTML(value='')))"
      ]
     },
     "metadata": {},
     "output_type": "display_data"
    },
    {
     "name": "stdout",
     "output_type": "stream",
     "text": [
      "\n",
      "\n",
      " Calculating Kernalized Product\n"
     ]
    },
    {
     "data": {
      "application/vnd.jupyter.widget-view+json": {
       "model_id": "efd3c14954284378aab70ffb434f404b",
       "version_major": 2,
       "version_minor": 0
      },
      "text/plain": [
       "HBox(children=(IntProgress(value=0, max=67), HTML(value='')))"
      ]
     },
     "metadata": {},
     "output_type": "display_data"
    },
    {
     "name": "stdout",
     "output_type": "stream",
     "text": [
      "\n",
      "\n",
      " Calculating Kernalized Product\n"
     ]
    },
    {
     "data": {
      "application/vnd.jupyter.widget-view+json": {
       "model_id": "6aa92a7eac5b4b649d89b1474316ee3d",
       "version_major": 2,
       "version_minor": 0
      },
      "text/plain": [
       "HBox(children=(IntProgress(value=0, max=134), HTML(value='')))"
      ]
     },
     "metadata": {},
     "output_type": "display_data"
    },
    {
     "name": "stdout",
     "output_type": "stream",
     "text": [
      "\n",
      "\n",
      " Calculating Kernalized Product\n"
     ]
    },
    {
     "data": {
      "application/vnd.jupyter.widget-view+json": {
       "model_id": "1fd55b0cc45e4a7dbc0674d08d7b2bc4",
       "version_major": 2,
       "version_minor": 0
      },
      "text/plain": [
       "HBox(children=(IntProgress(value=0, max=134), HTML(value='')))"
      ]
     },
     "metadata": {},
     "output_type": "display_data"
    },
    {
     "name": "stdout",
     "output_type": "stream",
     "text": [
      "\n",
      "     pcost       dcost       gap    pres   dres\n",
      " 0:  3.0788e+04 -1.1254e+05  1e+05  4e-17  3e-14\n",
      " 1:  5.2345e+03 -7.7902e+03  1e+04  2e-16  4e-14\n",
      " 2:  7.1663e+02 -9.1386e+02  2e+03  2e-16  2e-14\n",
      " 3:  8.6938e+01 -1.4791e+02  2e+02  2e-16  6e-15\n",
      " 4:  4.8800e+00 -2.7969e+01  3e+01  2e-16  3e-15\n",
      " 5: -3.9209e+00 -7.9893e+00  4e+00  2e-16  7e-16\n",
      " 6: -4.4275e+00 -4.7241e+00  3e-01  2e-16  2e-16\n",
      " 7: -4.4460e+00 -4.4788e+00  3e-02  2e-16  2e-16\n",
      " 8: -4.4488e+00 -4.4528e+00  4e-03  2e-16  2e-16\n",
      " 9: -4.4493e+00 -4.4497e+00  4e-04  2e-16  2e-16\n",
      "10: -4.4494e+00 -4.4495e+00  3e-05  1e-16  2e-16\n",
      "11: -4.4494e+00 -4.4494e+00  2e-06  1e-16  2e-16\n",
      "Optimal solution found.\n",
      "\n",
      " Calculating prediction values\n"
     ]
    },
    {
     "data": {
      "application/vnd.jupyter.widget-view+json": {
       "model_id": "adaac3a7a26440f08cdef75e3c25b34d",
       "version_major": 2,
       "version_minor": 0
      },
      "text/plain": [
       "HBox(children=(IntProgress(value=0, max=33), HTML(value='')))"
      ]
     },
     "metadata": {},
     "output_type": "display_data"
    },
    {
     "name": "stdout",
     "output_type": "stream",
     "text": [
      "\n",
      "fold is 0\n",
      "\n",
      " Calculating fullXmatrix\n"
     ]
    },
    {
     "data": {
      "application/vnd.jupyter.widget-view+json": {
       "model_id": "71d0d082597d4d3b8e2fa985851f6883",
       "version_major": 2,
       "version_minor": 0
      },
      "text/plain": [
       "HBox(children=(IntProgress(value=0, max=66), HTML(value='')))"
      ]
     },
     "metadata": {},
     "output_type": "display_data"
    },
    {
     "name": "stdout",
     "output_type": "stream",
     "text": [
      "\n",
      "\n",
      " Calculating Kernalized Product\n"
     ]
    },
    {
     "data": {
      "application/vnd.jupyter.widget-view+json": {
       "model_id": "72c1434fa129468dbab5b5d56ad6826c",
       "version_major": 2,
       "version_minor": 0
      },
      "text/plain": [
       "HBox(children=(IntProgress(value=0, max=66), HTML(value='')))"
      ]
     },
     "metadata": {},
     "output_type": "display_data"
    },
    {
     "name": "stdout",
     "output_type": "stream",
     "text": [
      "\n",
      "\n",
      " Calculating Kernalized Product\n"
     ]
    },
    {
     "data": {
      "application/vnd.jupyter.widget-view+json": {
       "model_id": "c6711e2f003046d8a623e1458fd3242e",
       "version_major": 2,
       "version_minor": 0
      },
      "text/plain": [
       "HBox(children=(IntProgress(value=0, max=132), HTML(value='')))"
      ]
     },
     "metadata": {},
     "output_type": "display_data"
    },
    {
     "name": "stdout",
     "output_type": "stream",
     "text": [
      "\n",
      "\n",
      " Calculating Kernalized Product\n"
     ]
    },
    {
     "data": {
      "application/vnd.jupyter.widget-view+json": {
       "model_id": "1b7d61de4a3b4f10a1d64a3f134edf35",
       "version_major": 2,
       "version_minor": 0
      },
      "text/plain": [
       "HBox(children=(IntProgress(value=0, max=132), HTML(value='')))"
      ]
     },
     "metadata": {},
     "output_type": "display_data"
    },
    {
     "name": "stdout",
     "output_type": "stream",
     "text": [
      "\n",
      "     pcost       dcost       gap    pres   dres\n",
      " 0:  2.2363e+04 -8.7584e+04  1e+05  4e-17  3e-14\n",
      " 1:  3.6888e+03 -5.3805e+03  9e+03  2e-16  4e-14\n",
      " 2:  5.0395e+02 -6.3855e+02  1e+03  2e-16  2e-14\n",
      " 3:  6.1308e+01 -1.0336e+02  2e+02  2e-16  6e-15\n",
      " 4:  3.5697e+00 -1.9491e+01  2e+01  2e-16  2e-15\n",
      " 5: -2.6534e+00 -5.5213e+00  3e+00  2e-16  7e-16\n",
      " 6: -3.0206e+00 -3.2067e+00  2e-01  2e-16  2e-16\n",
      " 7: -3.0373e+00 -3.0644e+00  3e-02  2e-16  2e-16\n",
      " 8: -3.0414e+00 -3.0461e+00  5e-03  2e-16  2e-16\n",
      " 9: -3.0423e+00 -3.0429e+00  5e-04  2e-16  2e-16\n",
      "10: -3.0425e+00 -3.0425e+00  3e-05  2e-16  2e-16\n",
      "11: -3.0425e+00 -3.0425e+00  1e-06  2e-16  2e-16\n",
      "Optimal solution found.\n",
      "\n",
      " Calculating prediction values\n"
     ]
    },
    {
     "data": {
      "application/vnd.jupyter.widget-view+json": {
       "model_id": "36791e29b13e4f69b152fe1275af8675",
       "version_major": 2,
       "version_minor": 0
      },
      "text/plain": [
       "HBox(children=(IntProgress(value=0, max=34), HTML(value='')))"
      ]
     },
     "metadata": {},
     "output_type": "display_data"
    },
    {
     "name": "stdout",
     "output_type": "stream",
     "text": [
      "\n",
      "fold is 1\n",
      "\n",
      " Calculating fullXmatrix\n"
     ]
    },
    {
     "data": {
      "application/vnd.jupyter.widget-view+json": {
       "model_id": "8773aaa069a84e01a4c61af6fb580e13",
       "version_major": 2,
       "version_minor": 0
      },
      "text/plain": [
       "HBox(children=(IntProgress(value=0, max=67), HTML(value='')))"
      ]
     },
     "metadata": {},
     "output_type": "display_data"
    },
    {
     "name": "stdout",
     "output_type": "stream",
     "text": [
      "\n",
      "\n",
      " Calculating Kernalized Product\n"
     ]
    },
    {
     "data": {
      "application/vnd.jupyter.widget-view+json": {
       "model_id": "a59f8253236141e1afbc25ee91905bf0",
       "version_major": 2,
       "version_minor": 0
      },
      "text/plain": [
       "HBox(children=(IntProgress(value=0, max=67), HTML(value='')))"
      ]
     },
     "metadata": {},
     "output_type": "display_data"
    },
    {
     "name": "stdout",
     "output_type": "stream",
     "text": [
      "\n",
      "\n",
      " Calculating Kernalized Product\n"
     ]
    },
    {
     "data": {
      "application/vnd.jupyter.widget-view+json": {
       "model_id": "f1a0a32eec5642b4bbfaf56f1ae1931f",
       "version_major": 2,
       "version_minor": 0
      },
      "text/plain": [
       "HBox(children=(IntProgress(value=0, max=134), HTML(value='')))"
      ]
     },
     "metadata": {},
     "output_type": "display_data"
    },
    {
     "name": "stdout",
     "output_type": "stream",
     "text": [
      "\n",
      "\n",
      " Calculating Kernalized Product\n"
     ]
    },
    {
     "data": {
      "application/vnd.jupyter.widget-view+json": {
       "model_id": "425cd190e7564656b292a7561a1e7c87",
       "version_major": 2,
       "version_minor": 0
      },
      "text/plain": [
       "HBox(children=(IntProgress(value=0, max=134), HTML(value='')))"
      ]
     },
     "metadata": {},
     "output_type": "display_data"
    },
    {
     "name": "stdout",
     "output_type": "stream",
     "text": [
      "\n",
      "     pcost       dcost       gap    pres   dres\n",
      " 0:  2.2477e+04 -8.8456e+04  1e+05  1e-02  2e-14\n",
      " 1:  4.6312e+03 -6.4879e+03  1e+04  4e-04  3e-14\n",
      " 2:  6.4871e+02 -8.0964e+02  1e+03  2e-16  2e-14\n",
      " 3:  8.1048e+01 -1.2875e+02  2e+02  2e-16  8e-15\n",
      " 4:  6.0339e+00 -2.3487e+01  3e+01  2e-16  3e-15\n",
      " 5: -2.3999e+00 -6.1884e+00  4e+00  2e-16  9e-16\n",
      " 6: -2.9771e+00 -3.2561e+00  3e-01  2e-16  3e-16\n",
      " 7: -3.0015e+00 -3.0510e+00  5e-02  2e-16  2e-16\n",
      " 8: -3.0079e+00 -3.0161e+00  8e-03  2e-16  2e-16\n",
      " 9: -3.0096e+00 -3.0106e+00  1e-03  2e-16  2e-16\n",
      "10: -3.0099e+00 -3.0100e+00  8e-05  2e-16  2e-16\n",
      "11: -3.0100e+00 -3.0100e+00  4e-06  2e-16  2e-16\n",
      "12: -3.0100e+00 -3.0100e+00  6e-08  2e-16  2e-16\n",
      "Optimal solution found.\n",
      "\n",
      " Calculating prediction values\n"
     ]
    },
    {
     "data": {
      "application/vnd.jupyter.widget-view+json": {
       "model_id": "dbf7cafe50974219b285d8ad8dc8f2d4",
       "version_major": 2,
       "version_minor": 0
      },
      "text/plain": [
       "HBox(children=(IntProgress(value=0, max=33), HTML(value='')))"
      ]
     },
     "metadata": {},
     "output_type": "display_data"
    },
    {
     "name": "stdout",
     "output_type": "stream",
     "text": [
      "\n",
      "fold is 2\n",
      "\n",
      " Calculating fullXmatrix\n"
     ]
    },
    {
     "data": {
      "application/vnd.jupyter.widget-view+json": {
       "model_id": "82d45cc481c149fca1031a03a39992c1",
       "version_major": 2,
       "version_minor": 0
      },
      "text/plain": [
       "HBox(children=(IntProgress(value=0, max=67), HTML(value='')))"
      ]
     },
     "metadata": {},
     "output_type": "display_data"
    },
    {
     "name": "stdout",
     "output_type": "stream",
     "text": [
      "\n",
      "\n",
      " Calculating Kernalized Product\n"
     ]
    },
    {
     "data": {
      "application/vnd.jupyter.widget-view+json": {
       "model_id": "9a9d1c2ca3a8455e853793c8f1f05ef8",
       "version_major": 2,
       "version_minor": 0
      },
      "text/plain": [
       "HBox(children=(IntProgress(value=0, max=67), HTML(value='')))"
      ]
     },
     "metadata": {},
     "output_type": "display_data"
    },
    {
     "name": "stdout",
     "output_type": "stream",
     "text": [
      "\n",
      "\n",
      " Calculating Kernalized Product\n"
     ]
    },
    {
     "data": {
      "application/vnd.jupyter.widget-view+json": {
       "model_id": "8edc942e194f428a9185039e31465769",
       "version_major": 2,
       "version_minor": 0
      },
      "text/plain": [
       "HBox(children=(IntProgress(value=0, max=134), HTML(value='')))"
      ]
     },
     "metadata": {},
     "output_type": "display_data"
    },
    {
     "name": "stdout",
     "output_type": "stream",
     "text": [
      "\n",
      "\n",
      " Calculating Kernalized Product\n"
     ]
    },
    {
     "data": {
      "application/vnd.jupyter.widget-view+json": {
       "model_id": "73f741aaad9946bab5b6deeb89a9e4aa",
       "version_major": 2,
       "version_minor": 0
      },
      "text/plain": [
       "HBox(children=(IntProgress(value=0, max=134), HTML(value='')))"
      ]
     },
     "metadata": {},
     "output_type": "display_data"
    },
    {
     "name": "stdout",
     "output_type": "stream",
     "text": [
      "\n",
      "     pcost       dcost       gap    pres   dres\n",
      " 0:  2.2545e+04 -9.0135e+04  1e+05  2e-02  2e-14\n",
      " 1:  4.7981e+03 -7.0529e+03  1e+04  5e-04  4e-14\n",
      " 2:  6.7653e+02 -8.4284e+02  2e+03  2e-16  2e-14\n",
      " 3:  8.4808e+01 -1.3404e+02  2e+02  2e-16  7e-15\n",
      " 4:  6.4624e+00 -2.4330e+01  3e+01  2e-16  3e-15\n",
      " 5: -2.3887e+00 -6.3539e+00  4e+00  2e-16  9e-16\n",
      " 6: -3.0045e+00 -3.2928e+00  3e-01  2e-16  3e-16\n",
      " 7: -3.0344e+00 -3.0853e+00  5e-02  2e-16  2e-16\n",
      " 8: -3.0414e+00 -3.0514e+00  1e-02  2e-16  2e-16\n",
      " 9: -3.0432e+00 -3.0449e+00  2e-03  2e-16  2e-16\n",
      "10: -3.0436e+00 -3.0437e+00  2e-04  2e-16  2e-16\n",
      "11: -3.0436e+00 -3.0436e+00  3e-05  2e-16  2e-16\n",
      "12: -3.0436e+00 -3.0436e+00  2e-06  2e-16  2e-16\n",
      "Optimal solution found.\n",
      "\n",
      " Calculating prediction values\n"
     ]
    },
    {
     "data": {
      "application/vnd.jupyter.widget-view+json": {
       "model_id": "f482bd72863a4c5f9431ada08ac1f162",
       "version_major": 2,
       "version_minor": 0
      },
      "text/plain": [
       "HBox(children=(IntProgress(value=0, max=33), HTML(value='')))"
      ]
     },
     "metadata": {},
     "output_type": "display_data"
    },
    {
     "name": "stdout",
     "output_type": "stream",
     "text": [
      "\n",
      "fold is 0\n",
      "\n",
      " Calculating fullXmatrix\n"
     ]
    },
    {
     "data": {
      "application/vnd.jupyter.widget-view+json": {
       "model_id": "d2310b34bdec425389e5ad049998f8b7",
       "version_major": 2,
       "version_minor": 0
      },
      "text/plain": [
       "HBox(children=(IntProgress(value=0, max=66), HTML(value='')))"
      ]
     },
     "metadata": {},
     "output_type": "display_data"
    },
    {
     "name": "stdout",
     "output_type": "stream",
     "text": [
      "\n",
      "\n",
      " Calculating Kernalized Product\n"
     ]
    },
    {
     "data": {
      "application/vnd.jupyter.widget-view+json": {
       "model_id": "16417a3e4e89418caef11e6dff8b36b2",
       "version_major": 2,
       "version_minor": 0
      },
      "text/plain": [
       "HBox(children=(IntProgress(value=0, max=66), HTML(value='')))"
      ]
     },
     "metadata": {},
     "output_type": "display_data"
    },
    {
     "name": "stdout",
     "output_type": "stream",
     "text": [
      "\n",
      "\n",
      " Calculating Kernalized Product\n"
     ]
    },
    {
     "data": {
      "application/vnd.jupyter.widget-view+json": {
       "model_id": "7b37d305b3284521b40d0c4a05218bdb",
       "version_major": 2,
       "version_minor": 0
      },
      "text/plain": [
       "HBox(children=(IntProgress(value=0, max=132), HTML(value='')))"
      ]
     },
     "metadata": {},
     "output_type": "display_data"
    },
    {
     "name": "stdout",
     "output_type": "stream",
     "text": [
      "\n",
      "\n",
      " Calculating Kernalized Product\n"
     ]
    },
    {
     "data": {
      "application/vnd.jupyter.widget-view+json": {
       "model_id": "93a333f96b344aa5b0741901bbcbef36",
       "version_major": 2,
       "version_minor": 0
      },
      "text/plain": [
       "HBox(children=(IntProgress(value=0, max=132), HTML(value='')))"
      ]
     },
     "metadata": {},
     "output_type": "display_data"
    },
    {
     "name": "stdout",
     "output_type": "stream",
     "text": [
      "\n",
      "     pcost       dcost       gap    pres   dres\n",
      " 0:  1.0995e+04 -5.3888e+04  8e+04  2e-02  2e-14\n",
      " 1:  2.9445e+03 -3.9724e+03  7e+03  4e-04  3e-14\n",
      " 2:  4.2274e+02 -5.1342e+02  9e+02  2e-16  2e-14\n",
      " 3:  5.4450e+01 -8.0285e+01  1e+02  2e-16  9e-15\n",
      " 4:  5.0278e+00 -1.4043e+01  2e+01  2e-16  3e-15\n",
      " 5: -8.1569e-01 -3.3496e+00  3e+00  2e-16  1e-15\n",
      " 6: -1.2917e+00 -1.5413e+00  2e-01  2e-16  3e-16\n",
      " 7: -1.3274e+00 -1.3782e+00  5e-02  2e-16  2e-16\n",
      " 8: -1.3381e+00 -1.3499e+00  1e-02  2e-16  2e-16\n",
      " 9: -1.3418e+00 -1.3439e+00  2e-03  2e-16  2e-16\n",
      "10: -1.3426e+00 -1.3428e+00  2e-04  2e-16  2e-16\n",
      "11: -1.3427e+00 -1.3427e+00  7e-06  2e-16  2e-16\n",
      "12: -1.3427e+00 -1.3427e+00  2e-07  2e-16  2e-16\n",
      "Optimal solution found.\n",
      "\n",
      " Calculating prediction values\n"
     ]
    },
    {
     "data": {
      "application/vnd.jupyter.widget-view+json": {
       "model_id": "bd0e8db8826543b3a97d5242219ae670",
       "version_major": 2,
       "version_minor": 0
      },
      "text/plain": [
       "HBox(children=(IntProgress(value=0, max=34), HTML(value='')))"
      ]
     },
     "metadata": {},
     "output_type": "display_data"
    },
    {
     "name": "stdout",
     "output_type": "stream",
     "text": [
      "\n",
      "fold is 1\n",
      "\n",
      " Calculating fullXmatrix\n"
     ]
    },
    {
     "data": {
      "application/vnd.jupyter.widget-view+json": {
       "model_id": "9fb73149126a486e90b429da78657137",
       "version_major": 2,
       "version_minor": 0
      },
      "text/plain": [
       "HBox(children=(IntProgress(value=0, max=67), HTML(value='')))"
      ]
     },
     "metadata": {},
     "output_type": "display_data"
    },
    {
     "name": "stdout",
     "output_type": "stream",
     "text": [
      "\n",
      "\n",
      " Calculating Kernalized Product\n"
     ]
    },
    {
     "data": {
      "application/vnd.jupyter.widget-view+json": {
       "model_id": "774eb2245cef419f801b8436705d5795",
       "version_major": 2,
       "version_minor": 0
      },
      "text/plain": [
       "HBox(children=(IntProgress(value=0, max=67), HTML(value='')))"
      ]
     },
     "metadata": {},
     "output_type": "display_data"
    },
    {
     "name": "stdout",
     "output_type": "stream",
     "text": [
      "\n",
      "\n",
      " Calculating Kernalized Product\n"
     ]
    },
    {
     "data": {
      "application/vnd.jupyter.widget-view+json": {
       "model_id": "3112c34d15194a93a0a11b58199995d6",
       "version_major": 2,
       "version_minor": 0
      },
      "text/plain": [
       "HBox(children=(IntProgress(value=0, max=134), HTML(value='')))"
      ]
     },
     "metadata": {},
     "output_type": "display_data"
    },
    {
     "name": "stdout",
     "output_type": "stream",
     "text": [
      "\n",
      "\n",
      " Calculating Kernalized Product\n"
     ]
    },
    {
     "data": {
      "application/vnd.jupyter.widget-view+json": {
       "model_id": "39ef680bcca94ff18b0d64ddfc8272e5",
       "version_major": 2,
       "version_minor": 0
      },
      "text/plain": [
       "HBox(children=(IntProgress(value=0, max=134), HTML(value='')))"
      ]
     },
     "metadata": {},
     "output_type": "display_data"
    },
    {
     "name": "stdout",
     "output_type": "stream",
     "text": [
      "\n",
      "     pcost       dcost       gap    pres   dres\n",
      " 0:  1.1001e+04 -5.4082e+04  8e+04  2e-02  2e-14\n",
      " 1:  2.9675e+03 -4.0608e+03  7e+03  5e-04  3e-14\n",
      " 2:  4.2687e+02 -5.1830e+02  9e+02  2e-16  2e-14\n",
      " 3:  5.5009e+01 -8.1070e+01  1e+02  2e-16  1e-14\n",
      " 4:  5.0912e+00 -1.4168e+01  2e+01  2e-16  3e-15\n",
      " 5: -8.1407e-01 -3.3744e+00  3e+00  2e-16  1e-15\n",
      " 6: -1.2961e+00 -1.5441e+00  2e-01  2e-16  3e-16\n",
      " 7: -1.3326e+00 -1.3860e+00  5e-02  2e-16  2e-16\n",
      " 8: -1.3421e+00 -1.3555e+00  1e-02  2e-16  2e-16\n",
      " 9: -1.3454e+00 -1.3485e+00  3e-03  2e-16  2e-16\n",
      "10: -1.3464e+00 -1.3469e+00  5e-04  2e-16  2e-16\n",
      "11: -1.3466e+00 -1.3466e+00  3e-05  2e-16  2e-16\n",
      "12: -1.3466e+00 -1.3466e+00  8e-07  2e-16  2e-16\n",
      "Optimal solution found.\n",
      "\n",
      " Calculating prediction values\n"
     ]
    },
    {
     "data": {
      "application/vnd.jupyter.widget-view+json": {
       "model_id": "9b211dd2c62648328850fa921b01256c",
       "version_major": 2,
       "version_minor": 0
      },
      "text/plain": [
       "HBox(children=(IntProgress(value=0, max=33), HTML(value='')))"
      ]
     },
     "metadata": {},
     "output_type": "display_data"
    },
    {
     "name": "stdout",
     "output_type": "stream",
     "text": [
      "\n",
      "fold is 2\n",
      "\n",
      " Calculating fullXmatrix\n"
     ]
    },
    {
     "data": {
      "application/vnd.jupyter.widget-view+json": {
       "model_id": "b7c3b18b2e504ade9bfa67d7b395dc03",
       "version_major": 2,
       "version_minor": 0
      },
      "text/plain": [
       "HBox(children=(IntProgress(value=0, max=67), HTML(value='')))"
      ]
     },
     "metadata": {},
     "output_type": "display_data"
    },
    {
     "name": "stdout",
     "output_type": "stream",
     "text": [
      "\n",
      "\n",
      " Calculating Kernalized Product\n"
     ]
    },
    {
     "data": {
      "application/vnd.jupyter.widget-view+json": {
       "model_id": "96a31166f57245cb81b25a241738bc24",
       "version_major": 2,
       "version_minor": 0
      },
      "text/plain": [
       "HBox(children=(IntProgress(value=0, max=67), HTML(value='')))"
      ]
     },
     "metadata": {},
     "output_type": "display_data"
    },
    {
     "name": "stdout",
     "output_type": "stream",
     "text": [
      "\n",
      "\n",
      " Calculating Kernalized Product\n"
     ]
    },
    {
     "data": {
      "application/vnd.jupyter.widget-view+json": {
       "model_id": "faeb2a3f7fab4d8f8beb365afa51959e",
       "version_major": 2,
       "version_minor": 0
      },
      "text/plain": [
       "HBox(children=(IntProgress(value=0, max=134), HTML(value='')))"
      ]
     },
     "metadata": {},
     "output_type": "display_data"
    },
    {
     "name": "stdout",
     "output_type": "stream",
     "text": [
      "\n",
      "\n",
      " Calculating Kernalized Product\n"
     ]
    },
    {
     "data": {
      "application/vnd.jupyter.widget-view+json": {
       "model_id": "990bc4eafb5d4cdfa12fb107f20d2285",
       "version_major": 2,
       "version_minor": 0
      },
      "text/plain": [
       "HBox(children=(IntProgress(value=0, max=134), HTML(value='')))"
      ]
     },
     "metadata": {},
     "output_type": "display_data"
    },
    {
     "name": "stdout",
     "output_type": "stream",
     "text": [
      "\n",
      "     pcost       dcost       gap    pres   dres\n",
      " 0:  1.0998e+04 -5.6876e+04  9e+04  2e-02  2e-14\n",
      " 1:  3.1537e+03 -4.4953e+03  8e+03  6e-04  3e-14\n",
      " 2:  4.5946e+02 -5.5568e+02  1e+03  2e-16  2e-14\n",
      " 3:  5.9494e+01 -8.6820e+01  1e+02  2e-16  9e-15\n",
      " 4:  5.6533e+00 -1.5059e+01  2e+01  2e-16  4e-15\n",
      " 5: -7.6759e-01 -3.5333e+00  3e+00  2e-16  1e-15\n",
      " 6: -1.3055e+00 -1.5722e+00  3e-01  2e-16  3e-16\n",
      " 7: -1.3440e+00 -1.4084e+00  6e-02  2e-16  2e-16\n",
      " 8: -1.3578e+00 -1.3727e+00  1e-02  2e-16  2e-16\n",
      " 9: -1.3626e+00 -1.3662e+00  4e-03  2e-16  2e-16\n",
      "10: -1.3636e+00 -1.3641e+00  5e-04  2e-16  2e-16\n",
      "11: -1.3637e+00 -1.3638e+00  3e-05  2e-16  2e-16\n",
      "12: -1.3637e+00 -1.3637e+00  2e-06  2e-16  2e-16\n",
      "13: -1.3637e+00 -1.3637e+00  3e-08  2e-16  2e-16\n",
      "Optimal solution found.\n",
      "\n",
      " Calculating prediction values\n"
     ]
    },
    {
     "data": {
      "application/vnd.jupyter.widget-view+json": {
       "model_id": "28742ad7086245e89add1492bd624640",
       "version_major": 2,
       "version_minor": 0
      },
      "text/plain": [
       "HBox(children=(IntProgress(value=0, max=33), HTML(value='')))"
      ]
     },
     "metadata": {},
     "output_type": "display_data"
    },
    {
     "name": "stdout",
     "output_type": "stream",
     "text": [
      "\n"
     ]
    },
    {
     "data": {
      "image/png": "[encoded data removed]",
      "text/plain": [
       "<Figure size 1080x720 with 1 Axes>"
      ]
     },
     "metadata": {
      "needs_background": "light"
     },
     "output_type": "display_data"
    }
   ],
   "source": [
    "num_folds = 3\n",
    "performCrossValidation(X1,Y1,num_folds,classifier,kernel='rbf',degree=1,sigma=0.5)"
   ]
  },
  {
   "cell_type": "code",
   "execution_count": null,
   "metadata": {},
   "outputs": [],
   "source": [
    "import matplotlib.pyplot as plt\n",
    "fig, ax = plt.subplots()\n",
    "#for i in numOfdimPlusOne:#[:-1]\n",
    "#for i in lamdavalues:\n",
    "#ax.plot(np.arange(0.8,0.91,0.01),crossValAvgErrorForEachLamda, label= 'Bias Estimate')\n",
    "ax.plot(np.log([1e-4 ,1e-3, 1e-2, 0.1, 1, 10, 100,1000 ])/np.log(10),crossValAvgErrorForEachLamda, label= 'Variance Estimate')\n",
    "ax.legend(loc=0) # upper left corner\n",
    "ax.set_xlabel('log lamda')\n",
    "ax.set_ylabel('values')\n",
    "ax.set_title('(using 5 fold cross validation) Bias Estimate for different lamda values ');"
   ]
  },
  {
   "cell_type": "code",
   "execution_count": null,
   "metadata": {},
   "outputs": [],
   "source": []
  },
  {
   "cell_type": "code",
   "execution_count": null,
   "metadata": {},
   "outputs": [],
   "source": []
  },
  {
   "cell_type": "code",
   "execution_count": null,
   "metadata": {},
   "outputs": [],
   "source": []
  },
  {
   "cell_type": "code",
   "execution_count": 133,
   "metadata": {},
   "outputs": [
    {
     "data": {
      "application/vnd.jupyter.widget-view+json": {
       "model_id": "d487d3b8c372489bad6b8f29d7ade3d6",
       "version_major": 2,
       "version_minor": 0
      },
      "text/plain": [
       "HBox(children=(IntProgress(value=0, max=79), HTML(value='')))"
      ]
     },
     "metadata": {},
     "output_type": "display_data"
    },
    {
     "name": "stdout",
     "output_type": "stream",
     "text": [
      "\n"
     ]
    },
    {
     "data": {
      "text/html": [
       "<div>\n",
       "<style scoped>\n",
       "    .dataframe tbody tr th:only-of-type {\n",
       "        vertical-align: middle;\n",
       "    }\n",
       "\n",
       "    .dataframe tbody tr th {\n",
       "        vertical-align: top;\n",
       "    }\n",
       "\n",
       "    .dataframe thead th {\n",
       "        text-align: right;\n",
       "    }\n",
       "</style>\n",
       "<table border=\"1\" class=\"dataframe\">\n",
       "  <thead>\n",
       "    <tr style=\"text-align: right;\">\n",
       "      <th>col_0</th>\n",
       "      <th>0</th>\n",
       "      <th>1</th>\n",
       "      <th>2</th>\n",
       "    </tr>\n",
       "    <tr>\n",
       "      <th>row_0</th>\n",
       "      <th></th>\n",
       "      <th></th>\n",
       "      <th></th>\n",
       "    </tr>\n",
       "  </thead>\n",
       "  <tbody>\n",
       "    <tr>\n",
       "      <th>0</th>\n",
       "      <td>25</td>\n",
       "      <td>1</td>\n",
       "      <td>4</td>\n",
       "    </tr>\n",
       "    <tr>\n",
       "      <th>1</th>\n",
       "      <td>0</td>\n",
       "      <td>24</td>\n",
       "      <td>9</td>\n",
       "    </tr>\n",
       "    <tr>\n",
       "      <th>2</th>\n",
       "      <td>2</td>\n",
       "      <td>1</td>\n",
       "      <td>13</td>\n",
       "    </tr>\n",
       "  </tbody>\n",
       "</table>\n",
       "</div>"
      ],
      "text/plain": [
       "col_0   0   1   2\n",
       "row_0            \n",
       "0      25   1   4\n",
       "1       0  24   9\n",
       "2       2   1  13"
      ]
     },
     "execution_count": 133,
     "metadata": {},
     "output_type": "execute_result"
    }
   ],
   "source": [
    "from sklearn import svm\n",
    "clf = svm.SVC(gamma=2, decision_function_shape='ovo',kernel='poly',degree = 2,C=100)\n",
    "clf.fit(train_X_data, train_Y_data) \n",
    "predictedLabelVector = []\n",
    "GivenData = train_X_data\n",
    "GivenDataLabels = train_Y_data\n",
    "for i in tqdm(range(0,len(GivenData))):\n",
    "    predictedLabelVector.append(clf.predict(GivenData[i,:].reshape(1,train_X_data.shape[1])))\n",
    "conMatrix = pd.crosstab(np.array(predictedLabelVector).ravel(),GivenDataLabels.reshape(-1,1).ravel())\n",
    "conMatrix"
   ]
  },
  {
   "cell_type": "code",
   "execution_count": 68,
   "metadata": {
    "scrolled": true
   },
   "outputs": [
    {
     "data": {
      "application/vnd.jupyter.widget-view+json": {
       "model_id": "8e59d051d9c84d0caac4914c840294e8",
       "version_major": 2,
       "version_minor": 0
      },
      "text/plain": [
       "HBox(children=(IntProgress(value=0, max=74), HTML(value='')))"
      ]
     },
     "metadata": {},
     "output_type": "display_data"
    },
    {
     "name": "stdout",
     "output_type": "stream",
     "text": [
      "\n"
     ]
    },
    {
     "data": {
      "text/html": [
       "<div>\n",
       "<style scoped>\n",
       "    .dataframe tbody tr th:only-of-type {\n",
       "        vertical-align: middle;\n",
       "    }\n",
       "\n",
       "    .dataframe tbody tr th {\n",
       "        vertical-align: top;\n",
       "    }\n",
       "\n",
       "    .dataframe thead th {\n",
       "        text-align: right;\n",
       "    }\n",
       "</style>\n",
       "<table border=\"1\" class=\"dataframe\">\n",
       "  <thead>\n",
       "    <tr style=\"text-align: right;\">\n",
       "      <th>col_0</th>\n",
       "      <th>0</th>\n",
       "      <th>1</th>\n",
       "      <th>2</th>\n",
       "    </tr>\n",
       "    <tr>\n",
       "      <th>row_0</th>\n",
       "      <th></th>\n",
       "      <th></th>\n",
       "      <th></th>\n",
       "    </tr>\n",
       "  </thead>\n",
       "  <tbody>\n",
       "    <tr>\n",
       "      <th>0</th>\n",
       "      <td>19</td>\n",
       "      <td>1</td>\n",
       "      <td>0</td>\n",
       "    </tr>\n",
       "    <tr>\n",
       "      <th>1</th>\n",
       "      <td>3</td>\n",
       "      <td>20</td>\n",
       "      <td>4</td>\n",
       "    </tr>\n",
       "    <tr>\n",
       "      <th>2</th>\n",
       "      <td>2</td>\n",
       "      <td>3</td>\n",
       "      <td>22</td>\n",
       "    </tr>\n",
       "  </tbody>\n",
       "</table>\n",
       "</div>"
      ],
      "text/plain": [
       "col_0   0   1   2\n",
       "row_0            \n",
       "0      19   1   0\n",
       "1       3  20   4\n",
       "2       2   3  22"
      ]
     },
     "execution_count": 68,
     "metadata": {},
     "output_type": "execute_result"
    }
   ],
   "source": [
    "lin_clf = svm.LinearSVC()\n",
    "lin_clf.kernel='poly'\n",
    "lin_clf.gamma=1\n",
    "lin_clf.degree=4\n",
    "lin_clf.max_iter=10**5\n",
    "lin_clf.fit(train_X_data, train_Y_data) \n",
    "predictedLabelVector = []\n",
    "GivenData = train_X_data\n",
    "GivenDataLabels = train_Y_data\n",
    "for i in tqdm(range(0,len(GivenData))):\n",
    "    predictedLabelVector.append(lin_clf.predict(GivenData[i,:].reshape(1,train_X_data.shape[1])))\n",
    "conMatrix = pd.crosstab(np.array(predictedLabelVector).ravel(),GivenDataLabels.reshape(-1,1).ravel())\n",
    "conMatrix"
   ]
  },
  {
   "cell_type": "code",
   "execution_count": 148,
   "metadata": {},
   "outputs": [],
   "source": [
    "from sklearn.datasets import load_iris\n",
    "iris=load_iris()\n",
    "type(iris['data'])\n",
    "ran = np.random.rand(len(iris['data'])) < 0.8\n",
    "train_X_data = iris['data'][ran]\n",
    "train_Y_data = iris['target'][ran]\n",
    "val_X_data = iris['data'][~ran]\n",
    "val_Y_data = iris['target'][~ran]"
   ]
  },
  {
   "cell_type": "code",
   "execution_count": 149,
   "metadata": {},
   "outputs": [],
   "source": [
    "kernel = 'rbf'\n",
    "degree = 4\n",
    "sigma = 0.4\n",
    "C = 10"
   ]
  },
  {
   "cell_type": "code",
   "execution_count": 150,
   "metadata": {},
   "outputs": [
    {
     "name": "stdout",
     "output_type": "stream",
     "text": [
      "\n",
      " Calculating fullXmatrix\n"
     ]
    },
    {
     "data": {
      "application/vnd.jupyter.widget-view+json": {
       "model_id": "4fe8187e108f42789f8f38836a41269f",
       "version_major": 2,
       "version_minor": 0
      },
      "text/plain": [
       "HBox(children=(IntProgress(value=0, max=123), HTML(value='')))"
      ]
     },
     "metadata": {},
     "output_type": "display_data"
    },
    {
     "name": "stdout",
     "output_type": "stream",
     "text": [
      "\n",
      "\n",
      " Calculating Kernalized Product\n"
     ]
    },
    {
     "data": {
      "application/vnd.jupyter.widget-view+json": {
       "model_id": "74aba2a5aa3447b294d954cc57d53ee3",
       "version_major": 2,
       "version_minor": 0
      },
      "text/plain": [
       "HBox(children=(IntProgress(value=0, max=123), HTML(value='')))"
      ]
     },
     "metadata": {},
     "output_type": "display_data"
    },
    {
     "name": "stdout",
     "output_type": "stream",
     "text": [
      "\n",
      "\n",
      " Calculating Kernalized Product\n"
     ]
    },
    {
     "data": {
      "application/vnd.jupyter.widget-view+json": {
       "model_id": "bf89df89bc864b678e04bd6521e1d83e",
       "version_major": 2,
       "version_minor": 0
      },
      "text/plain": [
       "HBox(children=(IntProgress(value=0, max=246), HTML(value='')))"
      ]
     },
     "metadata": {},
     "output_type": "display_data"
    },
    {
     "name": "stdout",
     "output_type": "stream",
     "text": [
      "\n",
      "\n",
      " Calculating Kernalized Product\n"
     ]
    },
    {
     "data": {
      "application/vnd.jupyter.widget-view+json": {
       "model_id": "8997ec476f224fb59825e098e0a82ad4",
       "version_major": 2,
       "version_minor": 0
      },
      "text/plain": [
       "HBox(children=(IntProgress(value=0, max=246), HTML(value='')))"
      ]
     },
     "metadata": {},
     "output_type": "display_data"
    },
    {
     "name": "stdout",
     "output_type": "stream",
     "text": [
      "\n",
      "     pcost       dcost       gap    pres   dres\n",
      " 0:  4.4243e+02 -5.3223e+03  1e+04  2e-01  4e-15\n",
      " 1:  2.5076e+02 -5.2645e+02  9e+02  6e-03  3e-15\n",
      " 2:  2.7543e+01 -7.5235e+01  1e+02  2e-16  3e-15\n",
      " 3: -4.2894e+00 -1.8065e+01  1e+01  2e-16  1e-15\n",
      " 4: -7.0702e+00 -8.5449e+00  1e+00  2e-16  4e-16\n",
      " 5: -7.3895e+00 -7.7865e+00  4e-01  2e-16  2e-16\n",
      " 6: -7.5313e+00 -7.6206e+00  9e-02  1e-16  2e-16\n",
      " 7: -7.5636e+00 -7.5703e+00  7e-03  2e-16  2e-16\n",
      " 8: -7.5664e+00 -7.5669e+00  5e-04  2e-16  2e-16\n",
      " 9: -7.5666e+00 -7.5666e+00  2e-05  2e-16  2e-16\n",
      "10: -7.5666e+00 -7.5666e+00  4e-07  2e-16  2e-16\n",
      "Optimal solution found.\n",
      "\n",
      " Time taken for training in seconds:  1.8789141178131104\n",
      "\n",
      " Calculating prediction values\n"
     ]
    },
    {
     "data": {
      "application/vnd.jupyter.widget-view+json": {
       "model_id": "b728cd369d86412bb5b73ad0b176630d",
       "version_major": 2,
       "version_minor": 0
      },
      "text/plain": [
       "HBox(children=(IntProgress(value=0, max=123), HTML(value='')))"
      ]
     },
     "metadata": {},
     "output_type": "display_data"
    },
    {
     "name": "stdout",
     "output_type": "stream",
     "text": [
      "\n"
     ]
    },
    {
     "data": {
      "text/html": [
       "<div>\n",
       "<style scoped>\n",
       "    .dataframe tbody tr th:only-of-type {\n",
       "        vertical-align: middle;\n",
       "    }\n",
       "\n",
       "    .dataframe tbody tr th {\n",
       "        vertical-align: top;\n",
       "    }\n",
       "\n",
       "    .dataframe thead th {\n",
       "        text-align: right;\n",
       "    }\n",
       "</style>\n",
       "<table border=\"1\" class=\"dataframe\">\n",
       "  <thead>\n",
       "    <tr style=\"text-align: right;\">\n",
       "      <th>col_0</th>\n",
       "      <th>0</th>\n",
       "      <th>1</th>\n",
       "      <th>2</th>\n",
       "    </tr>\n",
       "    <tr>\n",
       "      <th>row_0</th>\n",
       "      <th></th>\n",
       "      <th></th>\n",
       "      <th></th>\n",
       "    </tr>\n",
       "  </thead>\n",
       "  <tbody>\n",
       "    <tr>\n",
       "      <th>0</th>\n",
       "      <td>41</td>\n",
       "      <td>0</td>\n",
       "      <td>0</td>\n",
       "    </tr>\n",
       "    <tr>\n",
       "      <th>1</th>\n",
       "      <td>0</td>\n",
       "      <td>39</td>\n",
       "      <td>0</td>\n",
       "    </tr>\n",
       "    <tr>\n",
       "      <th>2</th>\n",
       "      <td>0</td>\n",
       "      <td>0</td>\n",
       "      <td>43</td>\n",
       "    </tr>\n",
       "  </tbody>\n",
       "</table>\n",
       "</div>"
      ],
      "text/plain": [
       "col_0   0   1   2\n",
       "row_0            \n",
       "0      41   0   0\n",
       "1       0  39   0\n",
       "2       0   0  43"
      ]
     },
     "execution_count": 150,
     "metadata": {},
     "output_type": "execute_result"
    }
   ],
   "source": [
    "a1 = SMCSVM()\n",
    "#a1.fit()\n",
    "start_time = time.time()\n",
    "a1.fit(train_X_data,train_Y_data,C,kernel,degree,sigma)\n",
    "print('\\n Time taken for training in seconds: ', time.time()-start_time )\n",
    "predictedLabels = a1.predict(train_X_data)\n",
    "conMatrix = pd.crosstab(np.array(predictedLabels).ravel(),train_Y_data.reshape(-1,1).ravel())\n",
    "conMatrix"
   ]
  },
  {
   "cell_type": "code",
   "execution_count": 154,
   "metadata": {},
   "outputs": [
    {
     "name": "stdout",
     "output_type": "stream",
     "text": [
      "fold is 0\n",
      "\n",
      " Calculating fullXmatrix\n"
     ]
    },
    {
     "data": {
      "application/vnd.jupyter.widget-view+json": {
       "model_id": "89583de397854adc90f6d4b776d39d38",
       "version_major": 2,
       "version_minor": 0
      },
      "text/plain": [
       "HBox(children=(IntProgress(value=0, max=66), HTML(value='')))"
      ]
     },
     "metadata": {},
     "output_type": "display_data"
    },
    {
     "name": "stdout",
     "output_type": "stream",
     "text": [
      "\n",
      "     pcost       dcost       gap    pres   dres\n",
      " 0: -2.1068e+01 -2.6413e-01  1e+03  3e+01  5e-15\n",
      " 1: -6.5738e-01 -2.4108e-01  2e+01  6e-01  4e-15\n",
      " 2: -1.7368e-01 -3.9404e-02  2e+00  6e-02  1e-15\n",
      " 3: -5.8928e-03 -4.5751e-05  1e-01  3e-03  2e-15\n",
      " 4: -6.0516e-05 -4.7789e-09  1e-03  3e-05  1e-15\n",
      " 5: -6.0521e-07 -4.7790e-13  1e-05  3e-07  1e-15\n",
      " 6: -6.0521e-09 -4.7790e-17  1e-07  3e-09  1e-15\n",
      "Optimal solution found.\n",
      "\n",
      " Calculating prediction values\n"
     ]
    },
    {
     "data": {
      "application/vnd.jupyter.widget-view+json": {
       "model_id": "73bd3efa800b4fd989d6776fcd048c9d",
       "version_major": 2,
       "version_minor": 0
      },
      "text/plain": [
       "HBox(children=(IntProgress(value=0, max=34), HTML(value='')))"
      ]
     },
     "metadata": {},
     "output_type": "display_data"
    },
    {
     "name": "stdout",
     "output_type": "stream",
     "text": [
      "\n",
      "fold is 1\n",
      "\n",
      " Calculating fullXmatrix\n"
     ]
    },
    {
     "data": {
      "application/vnd.jupyter.widget-view+json": {
       "model_id": "5e98bbbeea2c40b68bd0fedb0ac14d8b",
       "version_major": 2,
       "version_minor": 0
      },
      "text/plain": [
       "HBox(children=(IntProgress(value=0, max=67), HTML(value='')))"
      ]
     },
     "metadata": {},
     "output_type": "display_data"
    },
    {
     "name": "stdout",
     "output_type": "stream",
     "text": [
      "\n",
      "     pcost       dcost       gap    pres   dres\n",
      " 0: -2.2048e+01 -2.0953e-01  8e+02  3e+01  4e-15\n",
      " 1: -5.9585e-01 -1.9708e-01  1e+01  5e-01  4e-15\n",
      " 2: -1.7940e-01 -4.2599e-02  2e+00  7e-02  8e-16\n",
      " 3: -9.6116e-03 -1.2989e-04  9e-02  3e-03  2e-15\n",
      " 4: -9.7977e-05 -1.3100e-08  9e-04  3e-05  2e-15\n",
      " 5: -9.7990e-07 -1.3100e-12  9e-06  3e-07  1e-15\n",
      " 6: -9.7990e-09 -1.3100e-16  9e-08  3e-09  2e-15\n",
      "Optimal solution found.\n",
      "\n",
      " Calculating prediction values\n"
     ]
    },
    {
     "data": {
      "application/vnd.jupyter.widget-view+json": {
       "model_id": "e6a575c94bac45a29943db8ed4898d21",
       "version_major": 2,
       "version_minor": 0
      },
      "text/plain": [
       "HBox(children=(IntProgress(value=0, max=33), HTML(value='')))"
      ]
     },
     "metadata": {},
     "output_type": "display_data"
    },
    {
     "name": "stdout",
     "output_type": "stream",
     "text": [
      "\n",
      "fold is 2\n",
      "\n",
      " Calculating fullXmatrix\n"
     ]
    },
    {
     "data": {
      "application/vnd.jupyter.widget-view+json": {
       "model_id": "bde6914728924ee28fc685f8a3b97216",
       "version_major": 2,
       "version_minor": 0
      },
      "text/plain": [
       "HBox(children=(IntProgress(value=0, max=67), HTML(value='')))"
      ]
     },
     "metadata": {},
     "output_type": "display_data"
    },
    {
     "name": "stdout",
     "output_type": "stream",
     "text": [
      "\n",
      "     pcost       dcost       gap    pres   dres\n",
      " 0: -2.6971e+01 -1.8895e-01  1e+03  3e+01  6e-15\n",
      " 1: -6.6842e-01 -1.7583e-01  2e+01  5e-01  5e-15\n",
      " 2: -1.7277e-01 -3.9026e-02  2e+00  7e-02  9e-16\n",
      " 3: -7.1657e-03 -6.8854e-05  1e-01  3e-03  1e-15\n",
      " 4: -7.4368e-05 -7.3300e-09  1e-03  4e-05  1e-15\n",
      " 5: -7.4375e-07 -7.3301e-13  1e-05  4e-07  1e-15\n",
      " 6: -7.4375e-09 -7.3301e-17  1e-07  4e-09  1e-15\n",
      " 7: -7.4375e-11 -7.3303e-21  1e-09  4e-11  1e-15\n",
      "Optimal solution found.\n",
      "\n",
      " Calculating prediction values\n"
     ]
    },
    {
     "data": {
      "application/vnd.jupyter.widget-view+json": {
       "model_id": "5af0830b717d4b949ed982832b6817cb",
       "version_major": 2,
       "version_minor": 0
      },
      "text/plain": [
       "HBox(children=(IntProgress(value=0, max=33), HTML(value='')))"
      ]
     },
     "metadata": {},
     "output_type": "display_data"
    },
    {
     "name": "stdout",
     "output_type": "stream",
     "text": [
      "\n",
      "fold is 0\n",
      "\n",
      " Calculating fullXmatrix\n"
     ]
    },
    {
     "data": {
      "application/vnd.jupyter.widget-view+json": {
       "model_id": "45927750963240e8a3cf702f095d4615",
       "version_major": 2,
       "version_minor": 0
      },
      "text/plain": [
       "HBox(children=(IntProgress(value=0, max=66), HTML(value='')))"
      ]
     },
     "metadata": {},
     "output_type": "display_data"
    },
    {
     "name": "stdout",
     "output_type": "stream",
     "text": [
      "\n",
      "     pcost       dcost       gap    pres   dres\n",
      " 0: -2.1068e+01 -2.6413e-01  1e+03  3e+01  5e-15\n",
      " 1: -6.5738e-01 -2.4108e-01  2e+01  6e-01  4e-15\n",
      " 2: -1.7368e-01 -3.9404e-02  2e+00  6e-02  1e-15\n",
      " 3: -5.8928e-03 -4.5751e-05  1e-01  3e-03  2e-15\n",
      " 4: -6.0516e-05 -4.7789e-09  1e-03  3e-05  1e-15\n",
      " 5: -6.0521e-07 -4.7790e-13  1e-05  3e-07  1e-15\n",
      " 6: -6.0521e-09 -4.7790e-17  1e-07  3e-09  1e-15\n",
      "Optimal solution found.\n",
      "\n",
      " Calculating prediction values\n"
     ]
    },
    {
     "data": {
      "application/vnd.jupyter.widget-view+json": {
       "model_id": "7e4008ff22bd4d5787e83b7ccb41d31f",
       "version_major": 2,
       "version_minor": 0
      },
      "text/plain": [
       "HBox(children=(IntProgress(value=0, max=34), HTML(value='')))"
      ]
     },
     "metadata": {},
     "output_type": "display_data"
    },
    {
     "name": "stdout",
     "output_type": "stream",
     "text": [
      "\n",
      "fold is 1\n",
      "\n",
      " Calculating fullXmatrix\n"
     ]
    },
    {
     "data": {
      "application/vnd.jupyter.widget-view+json": {
       "model_id": "7432b3569cfe4ee29201924aa48f7ea9",
       "version_major": 2,
       "version_minor": 0
      },
      "text/plain": [
       "HBox(children=(IntProgress(value=0, max=67), HTML(value='')))"
      ]
     },
     "metadata": {},
     "output_type": "display_data"
    },
    {
     "name": "stdout",
     "output_type": "stream",
     "text": [
      "\n",
      "     pcost       dcost       gap    pres   dres\n",
      " 0: -2.2048e+01 -2.0953e-01  8e+02  3e+01  4e-15\n",
      " 1: -5.9585e-01 -1.9708e-01  1e+01  5e-01  4e-15\n",
      " 2: -1.7940e-01 -4.2599e-02  2e+00  7e-02  8e-16\n",
      " 3: -9.6116e-03 -1.2989e-04  9e-02  3e-03  2e-15\n",
      " 4: -9.7977e-05 -1.3100e-08  9e-04  3e-05  2e-15\n",
      " 5: -9.7990e-07 -1.3100e-12  9e-06  3e-07  1e-15\n",
      " 6: -9.7990e-09 -1.3100e-16  9e-08  3e-09  2e-15\n",
      "Optimal solution found.\n",
      "\n",
      " Calculating prediction values\n"
     ]
    },
    {
     "data": {
      "application/vnd.jupyter.widget-view+json": {
       "model_id": "b5bbe98cb9a446a789357ba69155f62f",
       "version_major": 2,
       "version_minor": 0
      },
      "text/plain": [
       "HBox(children=(IntProgress(value=0, max=33), HTML(value='')))"
      ]
     },
     "metadata": {},
     "output_type": "display_data"
    },
    {
     "name": "stdout",
     "output_type": "stream",
     "text": [
      "\n",
      "fold is 2\n",
      "\n",
      " Calculating fullXmatrix\n"
     ]
    },
    {
     "data": {
      "application/vnd.jupyter.widget-view+json": {
       "model_id": "df3ccbb239294b048a83539e51c86d77",
       "version_major": 2,
       "version_minor": 0
      },
      "text/plain": [
       "HBox(children=(IntProgress(value=0, max=67), HTML(value='')))"
      ]
     },
     "metadata": {},
     "output_type": "display_data"
    },
    {
     "name": "stdout",
     "output_type": "stream",
     "text": [
      "\n",
      "     pcost       dcost       gap    pres   dres\n",
      " 0: -2.6971e+01 -1.8895e-01  1e+03  3e+01  6e-15\n",
      " 1: -6.6842e-01 -1.7583e-01  2e+01  5e-01  5e-15\n",
      " 2: -1.7277e-01 -3.9026e-02  2e+00  7e-02  9e-16\n",
      " 3: -7.1657e-03 -6.8854e-05  1e-01  3e-03  1e-15\n",
      " 4: -7.4368e-05 -7.3300e-09  1e-03  4e-05  1e-15\n",
      " 5: -7.4375e-07 -7.3301e-13  1e-05  4e-07  1e-15\n",
      " 6: -7.4375e-09 -7.3301e-17  1e-07  4e-09  1e-15\n",
      " 7: -7.4375e-11 -7.3303e-21  1e-09  4e-11  1e-15\n",
      "Optimal solution found.\n",
      "\n",
      " Calculating prediction values\n"
     ]
    },
    {
     "data": {
      "application/vnd.jupyter.widget-view+json": {
       "model_id": "4dfd87b59de3457c8807a74948ceab04",
       "version_major": 2,
       "version_minor": 0
      },
      "text/plain": [
       "HBox(children=(IntProgress(value=0, max=33), HTML(value='')))"
      ]
     },
     "metadata": {},
     "output_type": "display_data"
    },
    {
     "name": "stdout",
     "output_type": "stream",
     "text": [
      "\n",
      "fold is 0\n",
      "\n",
      " Calculating fullXmatrix\n"
     ]
    },
    {
     "data": {
      "application/vnd.jupyter.widget-view+json": {
       "model_id": "002dc9bc930c46a1b080de10188262cc",
       "version_major": 2,
       "version_minor": 0
      },
      "text/plain": [
       "HBox(children=(IntProgress(value=0, max=66), HTML(value='')))"
      ]
     },
     "metadata": {},
     "output_type": "display_data"
    },
    {
     "name": "stdout",
     "output_type": "stream",
     "text": [
      "\n",
      "     pcost       dcost       gap    pres   dres\n",
      " 0: -2.1068e+01 -2.6413e-01  1e+03  3e+01  5e-15\n",
      " 1: -6.5738e-01 -2.4108e-01  2e+01  6e-01  4e-15\n",
      " 2: -1.7368e-01 -3.9404e-02  2e+00  6e-02  1e-15\n",
      " 3: -5.8928e-03 -4.5751e-05  1e-01  3e-03  2e-15\n",
      " 4: -6.0516e-05 -4.7789e-09  1e-03  3e-05  1e-15\n",
      " 5: -6.0521e-07 -4.7790e-13  1e-05  3e-07  1e-15\n",
      " 6: -6.0521e-09 -4.7790e-17  1e-07  3e-09  1e-15\n",
      "Optimal solution found.\n",
      "\n",
      " Calculating prediction values\n"
     ]
    },
    {
     "data": {
      "application/vnd.jupyter.widget-view+json": {
       "model_id": "9c75d6e6b03a4c8e9c434d6efd71e0e7",
       "version_major": 2,
       "version_minor": 0
      },
      "text/plain": [
       "HBox(children=(IntProgress(value=0, max=34), HTML(value='')))"
      ]
     },
     "metadata": {},
     "output_type": "display_data"
    },
    {
     "name": "stdout",
     "output_type": "stream",
     "text": [
      "\n",
      "fold is 1\n",
      "\n",
      " Calculating fullXmatrix\n"
     ]
    },
    {
     "data": {
      "application/vnd.jupyter.widget-view+json": {
       "model_id": "1f85fe1c1534415397ae281dcc1baa62",
       "version_major": 2,
       "version_minor": 0
      },
      "text/plain": [
       "HBox(children=(IntProgress(value=0, max=67), HTML(value='')))"
      ]
     },
     "metadata": {},
     "output_type": "display_data"
    },
    {
     "name": "stdout",
     "output_type": "stream",
     "text": [
      "\n",
      "     pcost       dcost       gap    pres   dres\n",
      " 0: -2.2048e+01 -2.0953e-01  8e+02  3e+01  4e-15\n",
      " 1: -5.9585e-01 -1.9708e-01  1e+01  5e-01  4e-15\n",
      " 2: -1.7940e-01 -4.2599e-02  2e+00  7e-02  8e-16\n",
      " 3: -9.6116e-03 -1.2989e-04  9e-02  3e-03  2e-15\n",
      " 4: -9.7977e-05 -1.3100e-08  9e-04  3e-05  2e-15\n",
      " 5: -9.7990e-07 -1.3100e-12  9e-06  3e-07  1e-15\n",
      " 6: -9.7990e-09 -1.3100e-16  9e-08  3e-09  2e-15\n",
      "Optimal solution found.\n",
      "\n",
      " Calculating prediction values\n"
     ]
    },
    {
     "data": {
      "application/vnd.jupyter.widget-view+json": {
       "model_id": "689bbe8f832c476bbe6887886472d069",
       "version_major": 2,
       "version_minor": 0
      },
      "text/plain": [
       "HBox(children=(IntProgress(value=0, max=33), HTML(value='')))"
      ]
     },
     "metadata": {},
     "output_type": "display_data"
    },
    {
     "name": "stdout",
     "output_type": "stream",
     "text": [
      "\n",
      "fold is 2\n",
      "\n",
      " Calculating fullXmatrix\n"
     ]
    },
    {
     "data": {
      "application/vnd.jupyter.widget-view+json": {
       "model_id": "b212b896b34f4a06bc5209f88a46fcbd",
       "version_major": 2,
       "version_minor": 0
      },
      "text/plain": [
       "HBox(children=(IntProgress(value=0, max=67), HTML(value='')))"
      ]
     },
     "metadata": {},
     "output_type": "display_data"
    },
    {
     "name": "stdout",
     "output_type": "stream",
     "text": [
      "\n",
      "     pcost       dcost       gap    pres   dres\n",
      " 0: -2.6971e+01 -1.8895e-01  1e+03  3e+01  6e-15\n",
      " 1: -6.6842e-01 -1.7583e-01  2e+01  5e-01  5e-15\n",
      " 2: -1.7277e-01 -3.9026e-02  2e+00  7e-02  9e-16\n",
      " 3: -7.1657e-03 -6.8854e-05  1e-01  3e-03  1e-15\n",
      " 4: -7.4368e-05 -7.3300e-09  1e-03  4e-05  1e-15\n",
      " 5: -7.4375e-07 -7.3301e-13  1e-05  4e-07  1e-15\n",
      " 6: -7.4375e-09 -7.3301e-17  1e-07  4e-09  1e-15\n",
      " 7: -7.4375e-11 -7.3303e-21  1e-09  4e-11  1e-15\n",
      "Optimal solution found.\n",
      "\n",
      " Calculating prediction values\n"
     ]
    },
    {
     "data": {
      "application/vnd.jupyter.widget-view+json": {
       "model_id": "aa29f304b4624685a756ebd3944ab013",
       "version_major": 2,
       "version_minor": 0
      },
      "text/plain": [
       "HBox(children=(IntProgress(value=0, max=33), HTML(value='')))"
      ]
     },
     "metadata": {},
     "output_type": "display_data"
    },
    {
     "name": "stdout",
     "output_type": "stream",
     "text": [
      "\n",
      "fold is 0\n",
      "\n",
      " Calculating fullXmatrix\n"
     ]
    },
    {
     "data": {
      "application/vnd.jupyter.widget-view+json": {
       "model_id": "62aaac58b4a742a3b062c75f8e731822",
       "version_major": 2,
       "version_minor": 0
      },
      "text/plain": [
       "HBox(children=(IntProgress(value=0, max=66), HTML(value='')))"
      ]
     },
     "metadata": {},
     "output_type": "display_data"
    },
    {
     "name": "stdout",
     "output_type": "stream",
     "text": [
      "\n",
      "     pcost       dcost       gap    pres   dres\n",
      " 0: -2.1068e+01 -2.6413e-01  1e+03  3e+01  5e-15\n",
      " 1: -6.5738e-01 -2.4108e-01  2e+01  6e-01  4e-15\n",
      " 2: -1.7368e-01 -3.9404e-02  2e+00  6e-02  1e-15\n",
      " 3: -5.8928e-03 -4.5751e-05  1e-01  3e-03  2e-15\n",
      " 4: -6.0516e-05 -4.7789e-09  1e-03  3e-05  1e-15\n",
      " 5: -6.0521e-07 -4.7790e-13  1e-05  3e-07  1e-15\n",
      " 6: -6.0521e-09 -4.7790e-17  1e-07  3e-09  1e-15\n",
      "Optimal solution found.\n",
      "\n",
      " Calculating prediction values\n"
     ]
    },
    {
     "data": {
      "application/vnd.jupyter.widget-view+json": {
       "model_id": "ac869e3234974305ba94112f2cf2762f",
       "version_major": 2,
       "version_minor": 0
      },
      "text/plain": [
       "HBox(children=(IntProgress(value=0, max=34), HTML(value='')))"
      ]
     },
     "metadata": {},
     "output_type": "display_data"
    },
    {
     "name": "stdout",
     "output_type": "stream",
     "text": [
      "\n",
      "fold is 1\n",
      "\n",
      " Calculating fullXmatrix\n"
     ]
    },
    {
     "data": {
      "application/vnd.jupyter.widget-view+json": {
       "model_id": "bbec27bdbf534eb2930280c5b0cde905",
       "version_major": 2,
       "version_minor": 0
      },
      "text/plain": [
       "HBox(children=(IntProgress(value=0, max=67), HTML(value='')))"
      ]
     },
     "metadata": {},
     "output_type": "display_data"
    },
    {
     "name": "stdout",
     "output_type": "stream",
     "text": [
      "\n",
      "     pcost       dcost       gap    pres   dres\n",
      " 0: -2.2048e+01 -2.0953e-01  8e+02  3e+01  4e-15\n",
      " 1: -5.9585e-01 -1.9708e-01  1e+01  5e-01  4e-15\n",
      " 2: -1.7940e-01 -4.2599e-02  2e+00  7e-02  8e-16\n",
      " 3: -9.6116e-03 -1.2989e-04  9e-02  3e-03  2e-15\n",
      " 4: -9.7977e-05 -1.3100e-08  9e-04  3e-05  2e-15\n",
      " 5: -9.7990e-07 -1.3100e-12  9e-06  3e-07  1e-15\n",
      " 6: -9.7990e-09 -1.3100e-16  9e-08  3e-09  2e-15\n",
      "Optimal solution found.\n",
      "\n",
      " Calculating prediction values\n"
     ]
    },
    {
     "data": {
      "application/vnd.jupyter.widget-view+json": {
       "model_id": "c29f9bef5425447bbe9e4c698760d1c6",
       "version_major": 2,
       "version_minor": 0
      },
      "text/plain": [
       "HBox(children=(IntProgress(value=0, max=33), HTML(value='')))"
      ]
     },
     "metadata": {},
     "output_type": "display_data"
    },
    {
     "name": "stdout",
     "output_type": "stream",
     "text": [
      "\n",
      "fold is 2\n",
      "\n",
      " Calculating fullXmatrix\n"
     ]
    },
    {
     "data": {
      "application/vnd.jupyter.widget-view+json": {
       "model_id": "8680bdd9e5e24cdea899982225fc82f6",
       "version_major": 2,
       "version_minor": 0
      },
      "text/plain": [
       "HBox(children=(IntProgress(value=0, max=67), HTML(value='')))"
      ]
     },
     "metadata": {},
     "output_type": "display_data"
    },
    {
     "name": "stdout",
     "output_type": "stream",
     "text": [
      "\n",
      "     pcost       dcost       gap    pres   dres\n",
      " 0: -2.6971e+01 -1.8895e-01  1e+03  3e+01  6e-15\n",
      " 1: -6.6842e-01 -1.7583e-01  2e+01  5e-01  5e-15\n",
      " 2: -1.7277e-01 -3.9026e-02  2e+00  7e-02  9e-16\n",
      " 3: -7.1657e-03 -6.8854e-05  1e-01  3e-03  1e-15\n",
      " 4: -7.4368e-05 -7.3300e-09  1e-03  4e-05  1e-15\n",
      " 5: -7.4375e-07 -7.3301e-13  1e-05  4e-07  1e-15\n",
      " 6: -7.4375e-09 -7.3301e-17  1e-07  4e-09  1e-15\n",
      " 7: -7.4375e-11 -7.3303e-21  1e-09  4e-11  1e-15\n",
      "Optimal solution found.\n",
      "\n",
      " Calculating prediction values\n"
     ]
    },
    {
     "data": {
      "application/vnd.jupyter.widget-view+json": {
       "model_id": "afbfed8931fa4f1aa90b654f07206a44",
       "version_major": 2,
       "version_minor": 0
      },
      "text/plain": [
       "HBox(children=(IntProgress(value=0, max=33), HTML(value='')))"
      ]
     },
     "metadata": {},
     "output_type": "display_data"
    },
    {
     "name": "stdout",
     "output_type": "stream",
     "text": [
      "\n",
      "fold is 0\n",
      "\n",
      " Calculating fullXmatrix\n"
     ]
    },
    {
     "data": {
      "application/vnd.jupyter.widget-view+json": {
       "model_id": "bcf46d95b7fc43beb59bd521262975f8",
       "version_major": 2,
       "version_minor": 0
      },
      "text/plain": [
       "HBox(children=(IntProgress(value=0, max=66), HTML(value='')))"
      ]
     },
     "metadata": {},
     "output_type": "display_data"
    },
    {
     "name": "stdout",
     "output_type": "stream",
     "text": [
      "\n",
      "     pcost       dcost       gap    pres   dres\n",
      " 0: -2.1068e+01 -2.6413e-01  1e+03  3e+01  5e-15\n",
      " 1: -6.5738e-01 -2.4108e-01  2e+01  6e-01  4e-15\n",
      " 2: -1.7368e-01 -3.9404e-02  2e+00  6e-02  1e-15\n",
      " 3: -5.8928e-03 -4.5751e-05  1e-01  3e-03  2e-15\n",
      " 4: -6.0516e-05 -4.7789e-09  1e-03  3e-05  1e-15\n",
      " 5: -6.0521e-07 -4.7790e-13  1e-05  3e-07  1e-15\n",
      " 6: -6.0521e-09 -4.7790e-17  1e-07  3e-09  1e-15\n",
      "Optimal solution found.\n",
      "\n",
      " Calculating prediction values\n"
     ]
    },
    {
     "data": {
      "application/vnd.jupyter.widget-view+json": {
       "model_id": "4981631fb4ac40a189f761e72d3f1eaa",
       "version_major": 2,
       "version_minor": 0
      },
      "text/plain": [
       "HBox(children=(IntProgress(value=0, max=34), HTML(value='')))"
      ]
     },
     "metadata": {},
     "output_type": "display_data"
    },
    {
     "name": "stdout",
     "output_type": "stream",
     "text": [
      "\n",
      "fold is 1\n",
      "\n",
      " Calculating fullXmatrix\n"
     ]
    },
    {
     "data": {
      "application/vnd.jupyter.widget-view+json": {
       "model_id": "43638edfee34454e9ba52bbb742ddd45",
       "version_major": 2,
       "version_minor": 0
      },
      "text/plain": [
       "HBox(children=(IntProgress(value=0, max=67), HTML(value='')))"
      ]
     },
     "metadata": {},
     "output_type": "display_data"
    },
    {
     "name": "stdout",
     "output_type": "stream",
     "text": [
      "\n",
      "     pcost       dcost       gap    pres   dres\n",
      " 0: -2.2048e+01 -2.0953e-01  8e+02  3e+01  4e-15\n",
      " 1: -5.9585e-01 -1.9708e-01  1e+01  5e-01  4e-15\n",
      " 2: -1.7940e-01 -4.2599e-02  2e+00  7e-02  8e-16\n",
      " 3: -9.6116e-03 -1.2989e-04  9e-02  3e-03  2e-15\n",
      " 4: -9.7977e-05 -1.3100e-08  9e-04  3e-05  2e-15\n",
      " 5: -9.7990e-07 -1.3100e-12  9e-06  3e-07  1e-15\n",
      " 6: -9.7990e-09 -1.3100e-16  9e-08  3e-09  2e-15\n",
      "Optimal solution found.\n",
      "\n",
      " Calculating prediction values\n"
     ]
    },
    {
     "data": {
      "application/vnd.jupyter.widget-view+json": {
       "model_id": "13a718991a594041ace617ceba0638de",
       "version_major": 2,
       "version_minor": 0
      },
      "text/plain": [
       "HBox(children=(IntProgress(value=0, max=33), HTML(value='')))"
      ]
     },
     "metadata": {},
     "output_type": "display_data"
    },
    {
     "name": "stdout",
     "output_type": "stream",
     "text": [
      "\n",
      "fold is 2\n",
      "\n",
      " Calculating fullXmatrix\n"
     ]
    },
    {
     "data": {
      "application/vnd.jupyter.widget-view+json": {
       "model_id": "41533c5222a74808a5a5a3eec616a874",
       "version_major": 2,
       "version_minor": 0
      },
      "text/plain": [
       "HBox(children=(IntProgress(value=0, max=67), HTML(value='')))"
      ]
     },
     "metadata": {},
     "output_type": "display_data"
    },
    {
     "name": "stdout",
     "output_type": "stream",
     "text": [
      "\n",
      "     pcost       dcost       gap    pres   dres\n",
      " 0: -2.6971e+01 -1.8895e-01  1e+03  3e+01  6e-15\n",
      " 1: -6.6842e-01 -1.7583e-01  2e+01  5e-01  5e-15\n",
      " 2: -1.7277e-01 -3.9026e-02  2e+00  7e-02  9e-16\n",
      " 3: -7.1657e-03 -6.8854e-05  1e-01  3e-03  1e-15\n",
      " 4: -7.4368e-05 -7.3300e-09  1e-03  4e-05  1e-15\n",
      " 5: -7.4375e-07 -7.3301e-13  1e-05  4e-07  1e-15\n",
      " 6: -7.4375e-09 -7.3301e-17  1e-07  4e-09  1e-15\n",
      " 7: -7.4375e-11 -7.3303e-21  1e-09  4e-11  1e-15\n",
      "Optimal solution found.\n",
      "\n",
      " Calculating prediction values\n"
     ]
    },
    {
     "data": {
      "application/vnd.jupyter.widget-view+json": {
       "model_id": "718e6932df1243b79b20ffa1cb000647",
       "version_major": 2,
       "version_minor": 0
      },
      "text/plain": [
       "HBox(children=(IntProgress(value=0, max=33), HTML(value='')))"
      ]
     },
     "metadata": {},
     "output_type": "display_data"
    },
    {
     "name": "stdout",
     "output_type": "stream",
     "text": [
      "\n",
      "fold is 0\n",
      "\n",
      " Calculating fullXmatrix\n"
     ]
    },
    {
     "data": {
      "application/vnd.jupyter.widget-view+json": {
       "model_id": "c209bef95669457e977a11de528a4f3b",
       "version_major": 2,
       "version_minor": 0
      },
      "text/plain": [
       "HBox(children=(IntProgress(value=0, max=66), HTML(value='')))"
      ]
     },
     "metadata": {},
     "output_type": "display_data"
    },
    {
     "name": "stdout",
     "output_type": "stream",
     "text": [
      "\n",
      "     pcost       dcost       gap    pres   dres\n",
      " 0: -2.1068e+01 -2.6413e-01  1e+03  3e+01  5e-15\n",
      " 1: -6.5738e-01 -2.4108e-01  2e+01  6e-01  4e-15\n",
      " 2: -1.7368e-01 -3.9404e-02  2e+00  6e-02  1e-15\n",
      " 3: -5.8928e-03 -4.5751e-05  1e-01  3e-03  2e-15\n",
      " 4: -6.0516e-05 -4.7789e-09  1e-03  3e-05  1e-15\n",
      " 5: -6.0521e-07 -4.7790e-13  1e-05  3e-07  1e-15\n",
      " 6: -6.0521e-09 -4.7790e-17  1e-07  3e-09  1e-15\n",
      "Optimal solution found.\n",
      "\n",
      " Calculating prediction values\n"
     ]
    },
    {
     "data": {
      "application/vnd.jupyter.widget-view+json": {
       "model_id": "455e4b8c165f4e488011bf8a1d3f67de",
       "version_major": 2,
       "version_minor": 0
      },
      "text/plain": [
       "HBox(children=(IntProgress(value=0, max=34), HTML(value='')))"
      ]
     },
     "metadata": {},
     "output_type": "display_data"
    },
    {
     "name": "stdout",
     "output_type": "stream",
     "text": [
      "\n",
      "fold is 1\n",
      "\n",
      " Calculating fullXmatrix\n"
     ]
    },
    {
     "data": {
      "application/vnd.jupyter.widget-view+json": {
       "model_id": "d1534a63a3704790b23b36b5ad21c3ec",
       "version_major": 2,
       "version_minor": 0
      },
      "text/plain": [
       "HBox(children=(IntProgress(value=0, max=67), HTML(value='')))"
      ]
     },
     "metadata": {},
     "output_type": "display_data"
    },
    {
     "name": "stdout",
     "output_type": "stream",
     "text": [
      "\n",
      "     pcost       dcost       gap    pres   dres\n",
      " 0: -2.2048e+01 -2.0953e-01  8e+02  3e+01  4e-15\n",
      " 1: -5.9585e-01 -1.9708e-01  1e+01  5e-01  4e-15\n",
      " 2: -1.7940e-01 -4.2599e-02  2e+00  7e-02  8e-16\n",
      " 3: -9.6116e-03 -1.2989e-04  9e-02  3e-03  2e-15\n",
      " 4: -9.7977e-05 -1.3100e-08  9e-04  3e-05  2e-15\n",
      " 5: -9.7990e-07 -1.3100e-12  9e-06  3e-07  1e-15\n",
      " 6: -9.7990e-09 -1.3100e-16  9e-08  3e-09  2e-15\n",
      "Optimal solution found.\n",
      "\n",
      " Calculating prediction values\n"
     ]
    },
    {
     "data": {
      "application/vnd.jupyter.widget-view+json": {
       "model_id": "6e440ef55bc3414fbc7cc72a89edfb12",
       "version_major": 2,
       "version_minor": 0
      },
      "text/plain": [
       "HBox(children=(IntProgress(value=0, max=33), HTML(value='')))"
      ]
     },
     "metadata": {},
     "output_type": "display_data"
    },
    {
     "name": "stdout",
     "output_type": "stream",
     "text": [
      "\n",
      "fold is 2\n",
      "\n",
      " Calculating fullXmatrix\n"
     ]
    },
    {
     "data": {
      "application/vnd.jupyter.widget-view+json": {
       "model_id": "4198dd23350d462a98d5cc9538e458d0",
       "version_major": 2,
       "version_minor": 0
      },
      "text/plain": [
       "HBox(children=(IntProgress(value=0, max=67), HTML(value='')))"
      ]
     },
     "metadata": {},
     "output_type": "display_data"
    },
    {
     "name": "stdout",
     "output_type": "stream",
     "text": [
      "\n",
      "     pcost       dcost       gap    pres   dres\n",
      " 0: -2.6971e+01 -1.8895e-01  1e+03  3e+01  6e-15\n",
      " 1: -6.6842e-01 -1.7583e-01  2e+01  5e-01  5e-15\n",
      " 2: -1.7277e-01 -3.9026e-02  2e+00  7e-02  9e-16\n",
      " 3: -7.1657e-03 -6.8854e-05  1e-01  3e-03  1e-15\n",
      " 4: -7.4368e-05 -7.3300e-09  1e-03  4e-05  1e-15\n",
      " 5: -7.4375e-07 -7.3301e-13  1e-05  4e-07  1e-15\n",
      " 6: -7.4375e-09 -7.3301e-17  1e-07  4e-09  1e-15\n",
      " 7: -7.4375e-11 -7.3303e-21  1e-09  4e-11  1e-15\n",
      "Optimal solution found.\n",
      "\n",
      " Calculating prediction values\n"
     ]
    },
    {
     "data": {
      "application/vnd.jupyter.widget-view+json": {
       "model_id": "e310bae67ea144c086cb78f1763c1200",
       "version_major": 2,
       "version_minor": 0
      },
      "text/plain": [
       "HBox(children=(IntProgress(value=0, max=33), HTML(value='')))"
      ]
     },
     "metadata": {},
     "output_type": "display_data"
    },
    {
     "name": "stdout",
     "output_type": "stream",
     "text": [
      "\n",
      "fold is 0\n",
      "\n",
      " Calculating fullXmatrix\n"
     ]
    },
    {
     "data": {
      "application/vnd.jupyter.widget-view+json": {
       "model_id": "195bb4b8cf494519a61db62243ddc6a9",
       "version_major": 2,
       "version_minor": 0
      },
      "text/plain": [
       "HBox(children=(IntProgress(value=0, max=66), HTML(value='')))"
      ]
     },
     "metadata": {},
     "output_type": "display_data"
    },
    {
     "name": "stdout",
     "output_type": "stream",
     "text": [
      "\n",
      "     pcost       dcost       gap    pres   dres\n",
      " 0: -2.1068e+01 -2.6413e-01  1e+03  3e+01  5e-15\n",
      " 1: -6.5738e-01 -2.4108e-01  2e+01  6e-01  4e-15\n",
      " 2: -1.7368e-01 -3.9404e-02  2e+00  6e-02  1e-15\n",
      " 3: -5.8928e-03 -4.5751e-05  1e-01  3e-03  2e-15\n",
      " 4: -6.0516e-05 -4.7789e-09  1e-03  3e-05  1e-15\n",
      " 5: -6.0521e-07 -4.7790e-13  1e-05  3e-07  1e-15\n",
      " 6: -6.0521e-09 -4.7790e-17  1e-07  3e-09  1e-15\n",
      "Optimal solution found.\n",
      "\n",
      " Calculating prediction values\n"
     ]
    },
    {
     "data": {
      "application/vnd.jupyter.widget-view+json": {
       "model_id": "9093b03de870483782d8816a2c8b0154",
       "version_major": 2,
       "version_minor": 0
      },
      "text/plain": [
       "HBox(children=(IntProgress(value=0, max=34), HTML(value='')))"
      ]
     },
     "metadata": {},
     "output_type": "display_data"
    },
    {
     "name": "stdout",
     "output_type": "stream",
     "text": [
      "\n",
      "fold is 1\n",
      "\n",
      " Calculating fullXmatrix\n"
     ]
    },
    {
     "data": {
      "application/vnd.jupyter.widget-view+json": {
       "model_id": "5c76a3f644364be69bc54cf324f48eb3",
       "version_major": 2,
       "version_minor": 0
      },
      "text/plain": [
       "HBox(children=(IntProgress(value=0, max=67), HTML(value='')))"
      ]
     },
     "metadata": {},
     "output_type": "display_data"
    },
    {
     "name": "stdout",
     "output_type": "stream",
     "text": [
      "\n",
      "     pcost       dcost       gap    pres   dres\n",
      " 0: -2.2048e+01 -2.0953e-01  8e+02  3e+01  4e-15\n",
      " 1: -5.9585e-01 -1.9708e-01  1e+01  5e-01  4e-15\n",
      " 2: -1.7940e-01 -4.2599e-02  2e+00  7e-02  8e-16\n",
      " 3: -9.6116e-03 -1.2989e-04  9e-02  3e-03  2e-15\n",
      " 4: -9.7977e-05 -1.3100e-08  9e-04  3e-05  2e-15\n",
      " 5: -9.7990e-07 -1.3100e-12  9e-06  3e-07  1e-15\n",
      " 6: -9.7990e-09 -1.3100e-16  9e-08  3e-09  2e-15\n",
      "Optimal solution found.\n",
      "\n",
      " Calculating prediction values\n"
     ]
    },
    {
     "data": {
      "application/vnd.jupyter.widget-view+json": {
       "model_id": "22d09cc79c3f488787b95599af3021f1",
       "version_major": 2,
       "version_minor": 0
      },
      "text/plain": [
       "HBox(children=(IntProgress(value=0, max=33), HTML(value='')))"
      ]
     },
     "metadata": {},
     "output_type": "display_data"
    },
    {
     "name": "stdout",
     "output_type": "stream",
     "text": [
      "\n",
      "fold is 2\n",
      "\n",
      " Calculating fullXmatrix\n"
     ]
    },
    {
     "data": {
      "application/vnd.jupyter.widget-view+json": {
       "model_id": "5a97a6120808476587710107e0b29b60",
       "version_major": 2,
       "version_minor": 0
      },
      "text/plain": [
       "HBox(children=(IntProgress(value=0, max=67), HTML(value='')))"
      ]
     },
     "metadata": {},
     "output_type": "display_data"
    },
    {
     "name": "stdout",
     "output_type": "stream",
     "text": [
      "\n",
      "     pcost       dcost       gap    pres   dres\n",
      " 0: -2.6971e+01 -1.8895e-01  1e+03  3e+01  6e-15\n",
      " 1: -6.6842e-01 -1.7583e-01  2e+01  5e-01  5e-15\n",
      " 2: -1.7277e-01 -3.9026e-02  2e+00  7e-02  9e-16\n",
      " 3: -7.1657e-03 -6.8854e-05  1e-01  3e-03  1e-15\n",
      " 4: -7.4368e-05 -7.3300e-09  1e-03  4e-05  1e-15\n",
      " 5: -7.4375e-07 -7.3301e-13  1e-05  4e-07  1e-15\n",
      " 6: -7.4375e-09 -7.3301e-17  1e-07  4e-09  1e-15\n",
      " 7: -7.4375e-11 -7.3303e-21  1e-09  4e-11  1e-15\n",
      "Optimal solution found.\n",
      "\n",
      " Calculating prediction values\n"
     ]
    },
    {
     "data": {
      "application/vnd.jupyter.widget-view+json": {
       "model_id": "51cc9dd9805d41018b42b8a0ed53f4e3",
       "version_major": 2,
       "version_minor": 0
      },
      "text/plain": [
       "HBox(children=(IntProgress(value=0, max=33), HTML(value='')))"
      ]
     },
     "metadata": {},
     "output_type": "display_data"
    },
    {
     "name": "stdout",
     "output_type": "stream",
     "text": [
      "\n",
      "fold is 0\n",
      "\n",
      " Calculating fullXmatrix\n"
     ]
    },
    {
     "data": {
      "application/vnd.jupyter.widget-view+json": {
       "model_id": "936dced1c96c434291368ee073a2bf56",
       "version_major": 2,
       "version_minor": 0
      },
      "text/plain": [
       "HBox(children=(IntProgress(value=0, max=66), HTML(value='')))"
      ]
     },
     "metadata": {},
     "output_type": "display_data"
    },
    {
     "name": "stdout",
     "output_type": "stream",
     "text": [
      "\n",
      "     pcost       dcost       gap    pres   dres\n",
      " 0: -4.0095e+02 -2.5295e+05  7e+05  8e-01  2e-13\n",
      " 1:  8.0206e+02 -9.2255e+04  1e+05  1e-01  2e-13\n",
      " 2:  4.5126e+02 -2.4126e+04  3e+04  2e-02  1e-13\n",
      " 3: -3.0936e+02 -6.2965e+03  6e+03  4e-03  8e-14\n",
      " 4: -5.9688e+02 -2.1486e+03  2e+03  9e-04  6e-14\n",
      " 5: -7.1513e+02 -1.9109e+03  1e+03  6e-04  8e-14\n",
      " 6: -7.8830e+02 -1.4616e+03  7e+02  3e-04  1e-13\n",
      " 7: -8.6389e+02 -1.2469e+03  4e+02  4e-05  9e-14\n",
      " 8: -8.8620e+02 -1.0899e+03  2e+02  2e-05  8e-14\n",
      " 9: -9.1243e+02 -1.0782e+03  2e+02  7e-06  1e-13\n",
      "10: -9.4840e+02 -1.0039e+03  6e+01  2e-06  1e-13\n",
      "11: -9.6549e+02 -9.7522e+02  1e+01  2e-07  1e-13\n",
      "12: -9.6754e+02 -9.7223e+02  5e+00  1e-07  1e-13\n",
      "13: -9.6868e+02 -9.6998e+02  1e+00  4e-09  1e-13\n",
      "14: -9.6929e+02 -9.6930e+02  2e-02  4e-11  1e-13\n",
      "15: -9.6930e+02 -9.6930e+02  2e-04  4e-13  1e-13\n",
      "Optimal solution found.\n",
      "\n",
      " Calculating prediction values\n"
     ]
    },
    {
     "data": {
      "application/vnd.jupyter.widget-view+json": {
       "model_id": "5110457dcb8c493b94b5ad3da36de2e8",
       "version_major": 2,
       "version_minor": 0
      },
      "text/plain": [
       "HBox(children=(IntProgress(value=0, max=34), HTML(value='')))"
      ]
     },
     "metadata": {},
     "output_type": "display_data"
    },
    {
     "name": "stdout",
     "output_type": "stream",
     "text": [
      "\n",
      "fold is 1\n",
      "\n",
      " Calculating fullXmatrix\n"
     ]
    },
    {
     "data": {
      "application/vnd.jupyter.widget-view+json": {
       "model_id": "b55ba0f67bc24fc4b6c9a9328f60be76",
       "version_major": 2,
       "version_minor": 0
      },
      "text/plain": [
       "HBox(children=(IntProgress(value=0, max=67), HTML(value='')))"
      ]
     },
     "metadata": {},
     "output_type": "display_data"
    },
    {
     "name": "stdout",
     "output_type": "stream",
     "text": [
      "\n",
      "     pcost       dcost       gap    pres   dres\n",
      " 0: -5.9015e+02 -2.2026e+05  5e+05  7e-01  2e-13\n",
      " 1:  6.6943e+02 -7.0146e+04  1e+05  1e-01  2e-13\n",
      " 2:  6.2118e+02 -1.5962e+04  2e+04  2e-02  1e-13\n",
      " 3: -1.9534e+02 -4.0652e+03  4e+03  1e-03  6e-14\n",
      " 4: -5.0129e+02 -2.2402e+03  2e+03  3e-04  6e-14\n",
      " 5: -6.1715e+02 -1.5800e+03  1e+03  1e-04  6e-14\n",
      " 6: -6.6982e+02 -1.2118e+03  5e+02  2e-16  7e-14\n",
      " 7: -7.2263e+02 -1.0936e+03  4e+02  2e-16  7e-14\n",
      " 8: -7.6741e+02 -9.5091e+02  2e+02  2e-16  8e-14\n",
      " 9: -7.8859e+02 -8.8276e+02  9e+01  2e-16  8e-14\n",
      "10: -8.1286e+02 -8.4126e+02  3e+01  2e-16  8e-14\n",
      "11: -8.2038e+02 -8.2356e+02  3e+00  2e-16  1e-13\n",
      "12: -8.2166e+02 -8.2176e+02  1e-01  2e-16  9e-14\n",
      "13: -8.2169e+02 -8.2170e+02  1e-03  2e-16  1e-13\n",
      "14: -8.2170e+02 -8.2170e+02  1e-05  2e-16  1e-13\n",
      "Optimal solution found.\n",
      "\n",
      " Calculating prediction values\n"
     ]
    },
    {
     "data": {
      "application/vnd.jupyter.widget-view+json": {
       "model_id": "c41236b950554e4aa430f30860f06723",
       "version_major": 2,
       "version_minor": 0
      },
      "text/plain": [
       "HBox(children=(IntProgress(value=0, max=33), HTML(value='')))"
      ]
     },
     "metadata": {},
     "output_type": "display_data"
    },
    {
     "name": "stdout",
     "output_type": "stream",
     "text": [
      "\n",
      "fold is 2\n",
      "\n",
      " Calculating fullXmatrix\n"
     ]
    },
    {
     "data": {
      "application/vnd.jupyter.widget-view+json": {
       "model_id": "c4d9df418452484397ed24a5f2d1cc70",
       "version_major": 2,
       "version_minor": 0
      },
      "text/plain": [
       "HBox(children=(IntProgress(value=0, max=67), HTML(value='')))"
      ]
     },
     "metadata": {},
     "output_type": "display_data"
    },
    {
     "name": "stdout",
     "output_type": "stream",
     "text": [
      "\n",
      "     pcost       dcost       gap    pres   dres\n",
      " 0: -8.9372e+02 -2.9823e+05  8e+05  1e+00  3e-13\n",
      " 1:  5.2303e+02 -1.2425e+05  2e+05  2e-01  2e-13\n",
      " 2:  6.3662e+02 -2.8317e+04  4e+04  3e-02  1e-13\n",
      " 3: -4.4873e+02 -6.1013e+03  6e+03  3e-03  9e-14\n",
      " 4: -7.4730e+02 -2.2829e+03  2e+03  5e-04  9e-14\n",
      " 5: -8.2086e+02 -1.8212e+03  1e+03  3e-04  8e-14\n",
      " 6: -9.0999e+02 -1.6352e+03  7e+02  2e-04  8e-14\n",
      " 7: -1.0004e+03 -1.3340e+03  3e+02  4e-05  1e-13\n",
      " 8: -1.0473e+03 -1.2395e+03  2e+02  1e-05  1e-13\n",
      " 9: -1.0753e+03 -1.1927e+03  1e+02  7e-06  1e-13\n",
      "10: -1.1033e+03 -1.1467e+03  4e+01  9e-07  1e-13\n",
      "11: -1.1174e+03 -1.1262e+03  9e+00  2e-16  1e-13\n",
      "12: -1.1209e+03 -1.1220e+03  1e+00  2e-16  1e-13\n",
      "13: -1.1213e+03 -1.1215e+03  2e-01  2e-16  1e-13\n",
      "14: -1.1214e+03 -1.1214e+03  2e-03  2e-16  1e-13\n",
      "15: -1.1214e+03 -1.1214e+03  2e-05  2e-16  1e-13\n",
      "Optimal solution found.\n",
      "\n",
      " Calculating prediction values\n"
     ]
    },
    {
     "data": {
      "application/vnd.jupyter.widget-view+json": {
       "model_id": "dc63bbb86e3f4b05b794ae7fe58385ae",
       "version_major": 2,
       "version_minor": 0
      },
      "text/plain": [
       "HBox(children=(IntProgress(value=0, max=33), HTML(value='')))"
      ]
     },
     "metadata": {},
     "output_type": "display_data"
    },
    {
     "name": "stdout",
     "output_type": "stream",
     "text": [
      "\n",
      "fold is 0\n",
      "\n",
      " Calculating fullXmatrix\n"
     ]
    },
    {
     "data": {
      "application/vnd.jupyter.widget-view+json": {
       "model_id": "e0c80edec59e4e488f3f49f13a4f2e98",
       "version_major": 2,
       "version_minor": 0
      },
      "text/plain": [
       "HBox(children=(IntProgress(value=0, max=66), HTML(value='')))"
      ]
     },
     "metadata": {},
     "output_type": "display_data"
    },
    {
     "name": "stdout",
     "output_type": "stream",
     "text": [
      "\n",
      "     pcost       dcost       gap    pres   dres\n",
      " 0: -4.0095e+02 -2.5295e+05  7e+05  8e-01  2e-13\n",
      " 1:  8.0206e+02 -9.2255e+04  1e+05  1e-01  2e-13\n",
      " 2:  4.5126e+02 -2.4126e+04  3e+04  2e-02  1e-13\n",
      " 3: -3.0936e+02 -6.2965e+03  6e+03  4e-03  8e-14\n",
      " 4: -5.9688e+02 -2.1486e+03  2e+03  9e-04  6e-14\n",
      " 5: -7.1513e+02 -1.9109e+03  1e+03  6e-04  8e-14\n",
      " 6: -7.8830e+02 -1.4616e+03  7e+02  3e-04  1e-13\n",
      " 7: -8.6389e+02 -1.2469e+03  4e+02  4e-05  9e-14\n",
      " 8: -8.8620e+02 -1.0899e+03  2e+02  2e-05  8e-14\n",
      " 9: -9.1243e+02 -1.0782e+03  2e+02  7e-06  1e-13\n",
      "10: -9.4840e+02 -1.0039e+03  6e+01  2e-06  1e-13\n",
      "11: -9.6549e+02 -9.7522e+02  1e+01  2e-07  1e-13\n",
      "12: -9.6754e+02 -9.7223e+02  5e+00  1e-07  1e-13\n",
      "13: -9.6868e+02 -9.6998e+02  1e+00  4e-09  1e-13\n",
      "14: -9.6929e+02 -9.6930e+02  2e-02  4e-11  1e-13\n",
      "15: -9.6930e+02 -9.6930e+02  2e-04  4e-13  1e-13\n",
      "Optimal solution found.\n",
      "\n",
      " Calculating prediction values\n"
     ]
    },
    {
     "data": {
      "application/vnd.jupyter.widget-view+json": {
       "model_id": "785b7f4bbf484af78b634d6129bbb917",
       "version_major": 2,
       "version_minor": 0
      },
      "text/plain": [
       "HBox(children=(IntProgress(value=0, max=34), HTML(value='')))"
      ]
     },
     "metadata": {},
     "output_type": "display_data"
    },
    {
     "name": "stdout",
     "output_type": "stream",
     "text": [
      "\n",
      "fold is 1\n",
      "\n",
      " Calculating fullXmatrix\n"
     ]
    },
    {
     "data": {
      "application/vnd.jupyter.widget-view+json": {
       "model_id": "4a65ad9a20ac4b5f841a94c3db5db2b5",
       "version_major": 2,
       "version_minor": 0
      },
      "text/plain": [
       "HBox(children=(IntProgress(value=0, max=67), HTML(value='')))"
      ]
     },
     "metadata": {},
     "output_type": "display_data"
    },
    {
     "name": "stdout",
     "output_type": "stream",
     "text": [
      "\n",
      "     pcost       dcost       gap    pres   dres\n",
      " 0: -5.9015e+02 -2.2026e+05  5e+05  7e-01  2e-13\n",
      " 1:  6.6943e+02 -7.0146e+04  1e+05  1e-01  2e-13\n",
      " 2:  6.2118e+02 -1.5962e+04  2e+04  2e-02  1e-13\n",
      " 3: -1.9534e+02 -4.0652e+03  4e+03  1e-03  6e-14\n",
      " 4: -5.0129e+02 -2.2402e+03  2e+03  3e-04  6e-14\n",
      " 5: -6.1715e+02 -1.5800e+03  1e+03  1e-04  6e-14\n",
      " 6: -6.6982e+02 -1.2118e+03  5e+02  2e-16  7e-14\n",
      " 7: -7.2263e+02 -1.0936e+03  4e+02  2e-16  7e-14\n",
      " 8: -7.6741e+02 -9.5091e+02  2e+02  2e-16  8e-14\n",
      " 9: -7.8859e+02 -8.8276e+02  9e+01  2e-16  8e-14\n",
      "10: -8.1286e+02 -8.4126e+02  3e+01  2e-16  8e-14\n",
      "11: -8.2038e+02 -8.2356e+02  3e+00  2e-16  1e-13\n",
      "12: -8.2166e+02 -8.2176e+02  1e-01  2e-16  9e-14\n",
      "13: -8.2169e+02 -8.2170e+02  1e-03  2e-16  1e-13\n",
      "14: -8.2170e+02 -8.2170e+02  1e-05  2e-16  1e-13\n",
      "Optimal solution found.\n",
      "\n",
      " Calculating prediction values\n"
     ]
    },
    {
     "data": {
      "application/vnd.jupyter.widget-view+json": {
       "model_id": "87757841539d41c5b7edababd347d5f8",
       "version_major": 2,
       "version_minor": 0
      },
      "text/plain": [
       "HBox(children=(IntProgress(value=0, max=33), HTML(value='')))"
      ]
     },
     "metadata": {},
     "output_type": "display_data"
    },
    {
     "name": "stdout",
     "output_type": "stream",
     "text": [
      "\n",
      "fold is 2\n",
      "\n",
      " Calculating fullXmatrix\n"
     ]
    },
    {
     "data": {
      "application/vnd.jupyter.widget-view+json": {
       "model_id": "9c7121069cb045b1943f07c42219b06f",
       "version_major": 2,
       "version_minor": 0
      },
      "text/plain": [
       "HBox(children=(IntProgress(value=0, max=67), HTML(value='')))"
      ]
     },
     "metadata": {},
     "output_type": "display_data"
    },
    {
     "name": "stdout",
     "output_type": "stream",
     "text": [
      "\n",
      "     pcost       dcost       gap    pres   dres\n",
      " 0: -8.9372e+02 -2.9823e+05  8e+05  1e+00  3e-13\n",
      " 1:  5.2303e+02 -1.2425e+05  2e+05  2e-01  2e-13\n",
      " 2:  6.3662e+02 -2.8317e+04  4e+04  3e-02  1e-13\n",
      " 3: -4.4873e+02 -6.1013e+03  6e+03  3e-03  9e-14\n",
      " 4: -7.4730e+02 -2.2829e+03  2e+03  5e-04  9e-14\n",
      " 5: -8.2086e+02 -1.8212e+03  1e+03  3e-04  8e-14\n",
      " 6: -9.0999e+02 -1.6352e+03  7e+02  2e-04  8e-14\n",
      " 7: -1.0004e+03 -1.3340e+03  3e+02  4e-05  1e-13\n",
      " 8: -1.0473e+03 -1.2395e+03  2e+02  1e-05  1e-13\n",
      " 9: -1.0753e+03 -1.1927e+03  1e+02  7e-06  1e-13\n",
      "10: -1.1033e+03 -1.1467e+03  4e+01  9e-07  1e-13\n",
      "11: -1.1174e+03 -1.1262e+03  9e+00  2e-16  1e-13\n",
      "12: -1.1209e+03 -1.1220e+03  1e+00  2e-16  1e-13\n",
      "13: -1.1213e+03 -1.1215e+03  2e-01  2e-16  1e-13\n",
      "14: -1.1214e+03 -1.1214e+03  2e-03  2e-16  1e-13\n",
      "15: -1.1214e+03 -1.1214e+03  2e-05  2e-16  1e-13\n",
      "Optimal solution found.\n",
      "\n",
      " Calculating prediction values\n"
     ]
    },
    {
     "data": {
      "application/vnd.jupyter.widget-view+json": {
       "model_id": "41ffc856a57d47178b0a8649c543c80b",
       "version_major": 2,
       "version_minor": 0
      },
      "text/plain": [
       "HBox(children=(IntProgress(value=0, max=33), HTML(value='')))"
      ]
     },
     "metadata": {},
     "output_type": "display_data"
    },
    {
     "name": "stdout",
     "output_type": "stream",
     "text": [
      "\n",
      "fold is 0\n",
      "\n",
      " Calculating fullXmatrix\n"
     ]
    },
    {
     "data": {
      "application/vnd.jupyter.widget-view+json": {
       "model_id": "6d5cbc9f7b5042c388ce181de9516f9d",
       "version_major": 2,
       "version_minor": 0
      },
      "text/plain": [
       "HBox(children=(IntProgress(value=0, max=66), HTML(value='')))"
      ]
     },
     "metadata": {},
     "output_type": "display_data"
    },
    {
     "name": "stdout",
     "output_type": "stream",
     "text": [
      "\n",
      "     pcost       dcost       gap    pres   dres\n",
      " 0: -4.0095e+02 -2.5295e+05  7e+05  8e-01  2e-13\n",
      " 1:  8.0206e+02 -9.2255e+04  1e+05  1e-01  2e-13\n",
      " 2:  4.5126e+02 -2.4126e+04  3e+04  2e-02  1e-13\n",
      " 3: -3.0936e+02 -6.2965e+03  6e+03  4e-03  8e-14\n",
      " 4: -5.9688e+02 -2.1486e+03  2e+03  9e-04  6e-14\n",
      " 5: -7.1513e+02 -1.9109e+03  1e+03  6e-04  8e-14\n",
      " 6: -7.8830e+02 -1.4616e+03  7e+02  3e-04  1e-13\n",
      " 7: -8.6389e+02 -1.2469e+03  4e+02  4e-05  9e-14\n",
      " 8: -8.8620e+02 -1.0899e+03  2e+02  2e-05  8e-14\n",
      " 9: -9.1243e+02 -1.0782e+03  2e+02  7e-06  1e-13\n",
      "10: -9.4840e+02 -1.0039e+03  6e+01  2e-06  1e-13\n",
      "11: -9.6549e+02 -9.7522e+02  1e+01  2e-07  1e-13\n",
      "12: -9.6754e+02 -9.7223e+02  5e+00  1e-07  1e-13\n",
      "13: -9.6868e+02 -9.6998e+02  1e+00  4e-09  1e-13\n",
      "14: -9.6929e+02 -9.6930e+02  2e-02  4e-11  1e-13\n",
      "15: -9.6930e+02 -9.6930e+02  2e-04  4e-13  1e-13\n",
      "Optimal solution found.\n",
      "\n",
      " Calculating prediction values\n"
     ]
    },
    {
     "data": {
      "application/vnd.jupyter.widget-view+json": {
       "model_id": "588e6a919d0f4e6fb3018777def5862f",
       "version_major": 2,
       "version_minor": 0
      },
      "text/plain": [
       "HBox(children=(IntProgress(value=0, max=34), HTML(value='')))"
      ]
     },
     "metadata": {},
     "output_type": "display_data"
    },
    {
     "name": "stdout",
     "output_type": "stream",
     "text": [
      "\n",
      "fold is 1\n",
      "\n",
      " Calculating fullXmatrix\n"
     ]
    },
    {
     "data": {
      "application/vnd.jupyter.widget-view+json": {
       "model_id": "a3b9d3fb9eb7433cb0f3de419dc48146",
       "version_major": 2,
       "version_minor": 0
      },
      "text/plain": [
       "HBox(children=(IntProgress(value=0, max=67), HTML(value='')))"
      ]
     },
     "metadata": {},
     "output_type": "display_data"
    },
    {
     "name": "stdout",
     "output_type": "stream",
     "text": [
      "\n",
      "     pcost       dcost       gap    pres   dres\n",
      " 0: -5.9015e+02 -2.2026e+05  5e+05  7e-01  2e-13\n",
      " 1:  6.6943e+02 -7.0146e+04  1e+05  1e-01  2e-13\n",
      " 2:  6.2118e+02 -1.5962e+04  2e+04  2e-02  1e-13\n",
      " 3: -1.9534e+02 -4.0652e+03  4e+03  1e-03  6e-14\n",
      " 4: -5.0129e+02 -2.2402e+03  2e+03  3e-04  6e-14\n",
      " 5: -6.1715e+02 -1.5800e+03  1e+03  1e-04  6e-14\n",
      " 6: -6.6982e+02 -1.2118e+03  5e+02  2e-16  7e-14\n",
      " 7: -7.2263e+02 -1.0936e+03  4e+02  2e-16  7e-14\n",
      " 8: -7.6741e+02 -9.5091e+02  2e+02  2e-16  8e-14\n",
      " 9: -7.8859e+02 -8.8276e+02  9e+01  2e-16  8e-14\n",
      "10: -8.1286e+02 -8.4126e+02  3e+01  2e-16  8e-14\n",
      "11: -8.2038e+02 -8.2356e+02  3e+00  2e-16  1e-13\n",
      "12: -8.2166e+02 -8.2176e+02  1e-01  2e-16  9e-14\n",
      "13: -8.2169e+02 -8.2170e+02  1e-03  2e-16  1e-13\n",
      "14: -8.2170e+02 -8.2170e+02  1e-05  2e-16  1e-13\n",
      "Optimal solution found.\n",
      "\n",
      " Calculating prediction values\n"
     ]
    },
    {
     "data": {
      "application/vnd.jupyter.widget-view+json": {
       "model_id": "8aaff77ad3b7479481b96c9e65cb89f6",
       "version_major": 2,
       "version_minor": 0
      },
      "text/plain": [
       "HBox(children=(IntProgress(value=0, max=33), HTML(value='')))"
      ]
     },
     "metadata": {},
     "output_type": "display_data"
    },
    {
     "name": "stdout",
     "output_type": "stream",
     "text": [
      "\n",
      "fold is 2\n",
      "\n",
      " Calculating fullXmatrix\n"
     ]
    },
    {
     "data": {
      "application/vnd.jupyter.widget-view+json": {
       "model_id": "940ff5afd8074c52a9c2379c3030becc",
       "version_major": 2,
       "version_minor": 0
      },
      "text/plain": [
       "HBox(children=(IntProgress(value=0, max=67), HTML(value='')))"
      ]
     },
     "metadata": {},
     "output_type": "display_data"
    },
    {
     "name": "stdout",
     "output_type": "stream",
     "text": [
      "\n",
      "     pcost       dcost       gap    pres   dres\n",
      " 0: -8.9372e+02 -2.9823e+05  8e+05  1e+00  3e-13\n",
      " 1:  5.2303e+02 -1.2425e+05  2e+05  2e-01  2e-13\n",
      " 2:  6.3662e+02 -2.8317e+04  4e+04  3e-02  1e-13\n",
      " 3: -4.4873e+02 -6.1013e+03  6e+03  3e-03  9e-14\n",
      " 4: -7.4730e+02 -2.2829e+03  2e+03  5e-04  9e-14\n",
      " 5: -8.2086e+02 -1.8212e+03  1e+03  3e-04  8e-14\n",
      " 6: -9.0999e+02 -1.6352e+03  7e+02  2e-04  8e-14\n",
      " 7: -1.0004e+03 -1.3340e+03  3e+02  4e-05  1e-13\n",
      " 8: -1.0473e+03 -1.2395e+03  2e+02  1e-05  1e-13\n",
      " 9: -1.0753e+03 -1.1927e+03  1e+02  7e-06  1e-13\n",
      "10: -1.1033e+03 -1.1467e+03  4e+01  9e-07  1e-13\n",
      "11: -1.1174e+03 -1.1262e+03  9e+00  2e-16  1e-13\n",
      "12: -1.1209e+03 -1.1220e+03  1e+00  2e-16  1e-13\n",
      "13: -1.1213e+03 -1.1215e+03  2e-01  2e-16  1e-13\n",
      "14: -1.1214e+03 -1.1214e+03  2e-03  2e-16  1e-13\n",
      "15: -1.1214e+03 -1.1214e+03  2e-05  2e-16  1e-13\n",
      "Optimal solution found.\n",
      "\n",
      " Calculating prediction values\n"
     ]
    },
    {
     "data": {
      "application/vnd.jupyter.widget-view+json": {
       "model_id": "29b9488748484083bced47326d834d7b",
       "version_major": 2,
       "version_minor": 0
      },
      "text/plain": [
       "HBox(children=(IntProgress(value=0, max=33), HTML(value='')))"
      ]
     },
     "metadata": {},
     "output_type": "display_data"
    },
    {
     "name": "stdout",
     "output_type": "stream",
     "text": [
      "\n",
      "fold is 0\n",
      "\n",
      " Calculating fullXmatrix\n"
     ]
    },
    {
     "data": {
      "application/vnd.jupyter.widget-view+json": {
       "model_id": "b57f87acca974b89989845a45389442b",
       "version_major": 2,
       "version_minor": 0
      },
      "text/plain": [
       "HBox(children=(IntProgress(value=0, max=66), HTML(value='')))"
      ]
     },
     "metadata": {},
     "output_type": "display_data"
    },
    {
     "name": "stdout",
     "output_type": "stream",
     "text": [
      "\n",
      "     pcost       dcost       gap    pres   dres\n",
      " 0: -4.0095e+02 -2.5295e+05  7e+05  8e-01  2e-13\n",
      " 1:  8.0206e+02 -9.2255e+04  1e+05  1e-01  2e-13\n",
      " 2:  4.5126e+02 -2.4126e+04  3e+04  2e-02  1e-13\n",
      " 3: -3.0936e+02 -6.2965e+03  6e+03  4e-03  8e-14\n",
      " 4: -5.9688e+02 -2.1486e+03  2e+03  9e-04  6e-14\n",
      " 5: -7.1513e+02 -1.9109e+03  1e+03  6e-04  8e-14\n",
      " 6: -7.8830e+02 -1.4616e+03  7e+02  3e-04  1e-13\n",
      " 7: -8.6389e+02 -1.2469e+03  4e+02  4e-05  9e-14\n",
      " 8: -8.8620e+02 -1.0899e+03  2e+02  2e-05  8e-14\n",
      " 9: -9.1243e+02 -1.0782e+03  2e+02  7e-06  1e-13\n",
      "10: -9.4840e+02 -1.0039e+03  6e+01  2e-06  1e-13\n",
      "11: -9.6549e+02 -9.7522e+02  1e+01  2e-07  1e-13\n",
      "12: -9.6754e+02 -9.7223e+02  5e+00  1e-07  1e-13\n",
      "13: -9.6868e+02 -9.6998e+02  1e+00  4e-09  1e-13\n",
      "14: -9.6929e+02 -9.6930e+02  2e-02  4e-11  1e-13\n",
      "15: -9.6930e+02 -9.6930e+02  2e-04  4e-13  1e-13\n",
      "Optimal solution found.\n",
      "\n",
      " Calculating prediction values\n"
     ]
    },
    {
     "data": {
      "application/vnd.jupyter.widget-view+json": {
       "model_id": "92a4ad039e7448d5967bb2b761c846ec",
       "version_major": 2,
       "version_minor": 0
      },
      "text/plain": [
       "HBox(children=(IntProgress(value=0, max=34), HTML(value='')))"
      ]
     },
     "metadata": {},
     "output_type": "display_data"
    },
    {
     "name": "stdout",
     "output_type": "stream",
     "text": [
      "\n",
      "fold is 1\n",
      "\n",
      " Calculating fullXmatrix\n"
     ]
    },
    {
     "data": {
      "application/vnd.jupyter.widget-view+json": {
       "model_id": "b87ea24ace044acab69365bebadc650a",
       "version_major": 2,
       "version_minor": 0
      },
      "text/plain": [
       "HBox(children=(IntProgress(value=0, max=67), HTML(value='')))"
      ]
     },
     "metadata": {},
     "output_type": "display_data"
    },
    {
     "name": "stdout",
     "output_type": "stream",
     "text": [
      "\n",
      "     pcost       dcost       gap    pres   dres\n",
      " 0: -5.9015e+02 -2.2026e+05  5e+05  7e-01  2e-13\n",
      " 1:  6.6943e+02 -7.0146e+04  1e+05  1e-01  2e-13\n",
      " 2:  6.2118e+02 -1.5962e+04  2e+04  2e-02  1e-13\n",
      " 3: -1.9534e+02 -4.0652e+03  4e+03  1e-03  6e-14\n",
      " 4: -5.0129e+02 -2.2402e+03  2e+03  3e-04  6e-14\n",
      " 5: -6.1715e+02 -1.5800e+03  1e+03  1e-04  6e-14\n",
      " 6: -6.6982e+02 -1.2118e+03  5e+02  2e-16  7e-14\n",
      " 7: -7.2263e+02 -1.0936e+03  4e+02  2e-16  7e-14\n",
      " 8: -7.6741e+02 -9.5091e+02  2e+02  2e-16  8e-14\n",
      " 9: -7.8859e+02 -8.8276e+02  9e+01  2e-16  8e-14\n",
      "10: -8.1286e+02 -8.4126e+02  3e+01  2e-16  8e-14\n",
      "11: -8.2038e+02 -8.2356e+02  3e+00  2e-16  1e-13\n",
      "12: -8.2166e+02 -8.2176e+02  1e-01  2e-16  9e-14\n",
      "13: -8.2169e+02 -8.2170e+02  1e-03  2e-16  1e-13\n",
      "14: -8.2170e+02 -8.2170e+02  1e-05  2e-16  1e-13\n",
      "Optimal solution found.\n",
      "\n",
      " Calculating prediction values\n"
     ]
    },
    {
     "data": {
      "application/vnd.jupyter.widget-view+json": {
       "model_id": "eb578463a94144d6a39eba035da1200e",
       "version_major": 2,
       "version_minor": 0
      },
      "text/plain": [
       "HBox(children=(IntProgress(value=0, max=33), HTML(value='')))"
      ]
     },
     "metadata": {},
     "output_type": "display_data"
    },
    {
     "name": "stdout",
     "output_type": "stream",
     "text": [
      "\n",
      "fold is 2\n",
      "\n",
      " Calculating fullXmatrix\n"
     ]
    },
    {
     "data": {
      "application/vnd.jupyter.widget-view+json": {
       "model_id": "c8f01840403d4befb87e57161a65c1a7",
       "version_major": 2,
       "version_minor": 0
      },
      "text/plain": [
       "HBox(children=(IntProgress(value=0, max=67), HTML(value='')))"
      ]
     },
     "metadata": {},
     "output_type": "display_data"
    },
    {
     "name": "stdout",
     "output_type": "stream",
     "text": [
      "\n",
      "     pcost       dcost       gap    pres   dres\n",
      " 0: -8.9372e+02 -2.9823e+05  8e+05  1e+00  3e-13\n",
      " 1:  5.2303e+02 -1.2425e+05  2e+05  2e-01  2e-13\n",
      " 2:  6.3662e+02 -2.8317e+04  4e+04  3e-02  1e-13\n",
      " 3: -4.4873e+02 -6.1013e+03  6e+03  3e-03  9e-14\n",
      " 4: -7.4730e+02 -2.2829e+03  2e+03  5e-04  9e-14\n",
      " 5: -8.2086e+02 -1.8212e+03  1e+03  3e-04  8e-14\n",
      " 6: -9.0999e+02 -1.6352e+03  7e+02  2e-04  8e-14\n",
      " 7: -1.0004e+03 -1.3340e+03  3e+02  4e-05  1e-13\n",
      " 8: -1.0473e+03 -1.2395e+03  2e+02  1e-05  1e-13\n",
      " 9: -1.0753e+03 -1.1927e+03  1e+02  7e-06  1e-13\n",
      "10: -1.1033e+03 -1.1467e+03  4e+01  9e-07  1e-13\n",
      "11: -1.1174e+03 -1.1262e+03  9e+00  2e-16  1e-13\n",
      "12: -1.1209e+03 -1.1220e+03  1e+00  2e-16  1e-13\n",
      "13: -1.1213e+03 -1.1215e+03  2e-01  2e-16  1e-13\n",
      "14: -1.1214e+03 -1.1214e+03  2e-03  2e-16  1e-13\n",
      "15: -1.1214e+03 -1.1214e+03  2e-05  2e-16  1e-13\n",
      "Optimal solution found.\n",
      "\n",
      " Calculating prediction values\n"
     ]
    },
    {
     "data": {
      "application/vnd.jupyter.widget-view+json": {
       "model_id": "54688d6085054386875374ec3b869c51",
       "version_major": 2,
       "version_minor": 0
      },
      "text/plain": [
       "HBox(children=(IntProgress(value=0, max=33), HTML(value='')))"
      ]
     },
     "metadata": {},
     "output_type": "display_data"
    },
    {
     "name": "stdout",
     "output_type": "stream",
     "text": [
      "\n",
      "fold is 0\n",
      "\n",
      " Calculating fullXmatrix\n"
     ]
    },
    {
     "data": {
      "application/vnd.jupyter.widget-view+json": {
       "model_id": "16dceeda44a84992ae230a9d8998a00b",
       "version_major": 2,
       "version_minor": 0
      },
      "text/plain": [
       "HBox(children=(IntProgress(value=0, max=66), HTML(value='')))"
      ]
     },
     "metadata": {},
     "output_type": "display_data"
    },
    {
     "name": "stdout",
     "output_type": "stream",
     "text": [
      "\n",
      "     pcost       dcost       gap    pres   dres\n",
      " 0: -4.0095e+02 -2.5295e+05  7e+05  8e-01  2e-13\n",
      " 1:  8.0206e+02 -9.2255e+04  1e+05  1e-01  2e-13\n",
      " 2:  4.5126e+02 -2.4126e+04  3e+04  2e-02  1e-13\n",
      " 3: -3.0936e+02 -6.2965e+03  6e+03  4e-03  8e-14\n",
      " 4: -5.9688e+02 -2.1486e+03  2e+03  9e-04  6e-14\n",
      " 5: -7.1513e+02 -1.9109e+03  1e+03  6e-04  8e-14\n",
      " 6: -7.8830e+02 -1.4616e+03  7e+02  3e-04  1e-13\n",
      " 7: -8.6389e+02 -1.2469e+03  4e+02  4e-05  9e-14\n",
      " 8: -8.8620e+02 -1.0899e+03  2e+02  2e-05  8e-14\n",
      " 9: -9.1243e+02 -1.0782e+03  2e+02  7e-06  1e-13\n",
      "10: -9.4840e+02 -1.0039e+03  6e+01  2e-06  1e-13\n",
      "11: -9.6549e+02 -9.7522e+02  1e+01  2e-07  1e-13\n",
      "12: -9.6754e+02 -9.7223e+02  5e+00  1e-07  1e-13\n",
      "13: -9.6868e+02 -9.6998e+02  1e+00  4e-09  1e-13\n",
      "14: -9.6929e+02 -9.6930e+02  2e-02  4e-11  1e-13\n",
      "15: -9.6930e+02 -9.6930e+02  2e-04  4e-13  1e-13\n",
      "Optimal solution found.\n",
      "\n",
      " Calculating prediction values\n"
     ]
    },
    {
     "data": {
      "application/vnd.jupyter.widget-view+json": {
       "model_id": "d9c9b40b2bed43938f728814d5393282",
       "version_major": 2,
       "version_minor": 0
      },
      "text/plain": [
       "HBox(children=(IntProgress(value=0, max=34), HTML(value='')))"
      ]
     },
     "metadata": {},
     "output_type": "display_data"
    },
    {
     "name": "stdout",
     "output_type": "stream",
     "text": [
      "\n",
      "fold is 1\n",
      "\n",
      " Calculating fullXmatrix\n"
     ]
    },
    {
     "data": {
      "application/vnd.jupyter.widget-view+json": {
       "model_id": "e90b2734fde74bcfaf170ecba67688c4",
       "version_major": 2,
       "version_minor": 0
      },
      "text/plain": [
       "HBox(children=(IntProgress(value=0, max=67), HTML(value='')))"
      ]
     },
     "metadata": {},
     "output_type": "display_data"
    },
    {
     "name": "stdout",
     "output_type": "stream",
     "text": [
      "\n",
      "     pcost       dcost       gap    pres   dres\n",
      " 0: -5.9015e+02 -2.2026e+05  5e+05  7e-01  2e-13\n",
      " 1:  6.6943e+02 -7.0146e+04  1e+05  1e-01  2e-13\n",
      " 2:  6.2118e+02 -1.5962e+04  2e+04  2e-02  1e-13\n",
      " 3: -1.9534e+02 -4.0652e+03  4e+03  1e-03  6e-14\n",
      " 4: -5.0129e+02 -2.2402e+03  2e+03  3e-04  6e-14\n",
      " 5: -6.1715e+02 -1.5800e+03  1e+03  1e-04  6e-14\n",
      " 6: -6.6982e+02 -1.2118e+03  5e+02  2e-16  7e-14\n",
      " 7: -7.2263e+02 -1.0936e+03  4e+02  2e-16  7e-14\n",
      " 8: -7.6741e+02 -9.5091e+02  2e+02  2e-16  8e-14\n",
      " 9: -7.8859e+02 -8.8276e+02  9e+01  2e-16  8e-14\n",
      "10: -8.1286e+02 -8.4126e+02  3e+01  2e-16  8e-14\n",
      "11: -8.2038e+02 -8.2356e+02  3e+00  2e-16  1e-13\n",
      "12: -8.2166e+02 -8.2176e+02  1e-01  2e-16  9e-14\n",
      "13: -8.2169e+02 -8.2170e+02  1e-03  2e-16  1e-13\n",
      "14: -8.2170e+02 -8.2170e+02  1e-05  2e-16  1e-13\n",
      "Optimal solution found.\n",
      "\n",
      " Calculating prediction values\n"
     ]
    },
    {
     "data": {
      "application/vnd.jupyter.widget-view+json": {
       "model_id": "71c4f6c92ca6423c95b89b5a013406ce",
       "version_major": 2,
       "version_minor": 0
      },
      "text/plain": [
       "HBox(children=(IntProgress(value=0, max=33), HTML(value='')))"
      ]
     },
     "metadata": {},
     "output_type": "display_data"
    },
    {
     "name": "stdout",
     "output_type": "stream",
     "text": [
      "\n",
      "fold is 2\n",
      "\n",
      " Calculating fullXmatrix\n"
     ]
    },
    {
     "data": {
      "application/vnd.jupyter.widget-view+json": {
       "model_id": "d0fe52ed6c1a45e5b5b1c77a7eb33ecb",
       "version_major": 2,
       "version_minor": 0
      },
      "text/plain": [
       "HBox(children=(IntProgress(value=0, max=67), HTML(value='')))"
      ]
     },
     "metadata": {},
     "output_type": "display_data"
    },
    {
     "name": "stdout",
     "output_type": "stream",
     "text": [
      "\n",
      "     pcost       dcost       gap    pres   dres\n",
      " 0: -8.9372e+02 -2.9823e+05  8e+05  1e+00  3e-13\n",
      " 1:  5.2303e+02 -1.2425e+05  2e+05  2e-01  2e-13\n",
      " 2:  6.3662e+02 -2.8317e+04  4e+04  3e-02  1e-13\n",
      " 3: -4.4873e+02 -6.1013e+03  6e+03  3e-03  9e-14\n",
      " 4: -7.4730e+02 -2.2829e+03  2e+03  5e-04  9e-14\n",
      " 5: -8.2086e+02 -1.8212e+03  1e+03  3e-04  8e-14\n",
      " 6: -9.0999e+02 -1.6352e+03  7e+02  2e-04  8e-14\n",
      " 7: -1.0004e+03 -1.3340e+03  3e+02  4e-05  1e-13\n",
      " 8: -1.0473e+03 -1.2395e+03  2e+02  1e-05  1e-13\n",
      " 9: -1.0753e+03 -1.1927e+03  1e+02  7e-06  1e-13\n",
      "10: -1.1033e+03 -1.1467e+03  4e+01  9e-07  1e-13\n",
      "11: -1.1174e+03 -1.1262e+03  9e+00  2e-16  1e-13\n",
      "12: -1.1209e+03 -1.1220e+03  1e+00  2e-16  1e-13\n",
      "13: -1.1213e+03 -1.1215e+03  2e-01  2e-16  1e-13\n",
      "14: -1.1214e+03 -1.1214e+03  2e-03  2e-16  1e-13\n",
      "15: -1.1214e+03 -1.1214e+03  2e-05  2e-16  1e-13\n",
      "Optimal solution found.\n",
      "\n",
      " Calculating prediction values\n"
     ]
    },
    {
     "data": {
      "application/vnd.jupyter.widget-view+json": {
       "model_id": "7126a86835c145f1955478317532a9b3",
       "version_major": 2,
       "version_minor": 0
      },
      "text/plain": [
       "HBox(children=(IntProgress(value=0, max=33), HTML(value='')))"
      ]
     },
     "metadata": {},
     "output_type": "display_data"
    },
    {
     "name": "stdout",
     "output_type": "stream",
     "text": [
      "\n",
      "fold is 0\n",
      "\n",
      " Calculating fullXmatrix\n"
     ]
    },
    {
     "data": {
      "application/vnd.jupyter.widget-view+json": {
       "model_id": "c20c24b2860944df992379620043a59a",
       "version_major": 2,
       "version_minor": 0
      },
      "text/plain": [
       "HBox(children=(IntProgress(value=0, max=66), HTML(value='')))"
      ]
     },
     "metadata": {},
     "output_type": "display_data"
    },
    {
     "name": "stdout",
     "output_type": "stream",
     "text": [
      "\n",
      "     pcost       dcost       gap    pres   dres\n",
      " 0: -4.0095e+02 -2.5295e+05  7e+05  8e-01  2e-13\n",
      " 1:  8.0206e+02 -9.2255e+04  1e+05  1e-01  2e-13\n",
      " 2:  4.5126e+02 -2.4126e+04  3e+04  2e-02  1e-13\n",
      " 3: -3.0936e+02 -6.2965e+03  6e+03  4e-03  8e-14\n",
      " 4: -5.9688e+02 -2.1486e+03  2e+03  9e-04  6e-14\n",
      " 5: -7.1513e+02 -1.9109e+03  1e+03  6e-04  8e-14\n",
      " 6: -7.8830e+02 -1.4616e+03  7e+02  3e-04  1e-13\n",
      " 7: -8.6389e+02 -1.2469e+03  4e+02  4e-05  9e-14\n",
      " 8: -8.8620e+02 -1.0899e+03  2e+02  2e-05  8e-14\n",
      " 9: -9.1243e+02 -1.0782e+03  2e+02  7e-06  1e-13\n",
      "10: -9.4840e+02 -1.0039e+03  6e+01  2e-06  1e-13\n",
      "11: -9.6549e+02 -9.7522e+02  1e+01  2e-07  1e-13\n",
      "12: -9.6754e+02 -9.7223e+02  5e+00  1e-07  1e-13\n",
      "13: -9.6868e+02 -9.6998e+02  1e+00  4e-09  1e-13\n",
      "14: -9.6929e+02 -9.6930e+02  2e-02  4e-11  1e-13\n",
      "15: -9.6930e+02 -9.6930e+02  2e-04  4e-13  1e-13\n",
      "Optimal solution found.\n",
      "\n",
      " Calculating prediction values\n"
     ]
    },
    {
     "data": {
      "application/vnd.jupyter.widget-view+json": {
       "model_id": "a00d1049a7ab4483a8bf3fc0ba882dda",
       "version_major": 2,
       "version_minor": 0
      },
      "text/plain": [
       "HBox(children=(IntProgress(value=0, max=34), HTML(value='')))"
      ]
     },
     "metadata": {},
     "output_type": "display_data"
    },
    {
     "name": "stdout",
     "output_type": "stream",
     "text": [
      "\n",
      "fold is 1\n",
      "\n",
      " Calculating fullXmatrix\n"
     ]
    },
    {
     "data": {
      "application/vnd.jupyter.widget-view+json": {
       "model_id": "788b3e2e707b487d9f81ba26ba312723",
       "version_major": 2,
       "version_minor": 0
      },
      "text/plain": [
       "HBox(children=(IntProgress(value=0, max=67), HTML(value='')))"
      ]
     },
     "metadata": {},
     "output_type": "display_data"
    },
    {
     "name": "stdout",
     "output_type": "stream",
     "text": [
      "\n",
      "     pcost       dcost       gap    pres   dres\n",
      " 0: -5.9015e+02 -2.2026e+05  5e+05  7e-01  2e-13\n",
      " 1:  6.6943e+02 -7.0146e+04  1e+05  1e-01  2e-13\n",
      " 2:  6.2118e+02 -1.5962e+04  2e+04  2e-02  1e-13\n",
      " 3: -1.9534e+02 -4.0652e+03  4e+03  1e-03  6e-14\n",
      " 4: -5.0129e+02 -2.2402e+03  2e+03  3e-04  6e-14\n",
      " 5: -6.1715e+02 -1.5800e+03  1e+03  1e-04  6e-14\n",
      " 6: -6.6982e+02 -1.2118e+03  5e+02  2e-16  7e-14\n",
      " 7: -7.2263e+02 -1.0936e+03  4e+02  2e-16  7e-14\n",
      " 8: -7.6741e+02 -9.5091e+02  2e+02  2e-16  8e-14\n",
      " 9: -7.8859e+02 -8.8276e+02  9e+01  2e-16  8e-14\n",
      "10: -8.1286e+02 -8.4126e+02  3e+01  2e-16  8e-14\n",
      "11: -8.2038e+02 -8.2356e+02  3e+00  2e-16  1e-13\n",
      "12: -8.2166e+02 -8.2176e+02  1e-01  2e-16  9e-14\n",
      "13: -8.2169e+02 -8.2170e+02  1e-03  2e-16  1e-13\n",
      "14: -8.2170e+02 -8.2170e+02  1e-05  2e-16  1e-13\n",
      "Optimal solution found.\n",
      "\n",
      " Calculating prediction values\n"
     ]
    },
    {
     "data": {
      "application/vnd.jupyter.widget-view+json": {
       "model_id": "d1f727d8a30c4c838d5b03b78977379d",
       "version_major": 2,
       "version_minor": 0
      },
      "text/plain": [
       "HBox(children=(IntProgress(value=0, max=33), HTML(value='')))"
      ]
     },
     "metadata": {},
     "output_type": "display_data"
    },
    {
     "name": "stdout",
     "output_type": "stream",
     "text": [
      "\n",
      "fold is 2\n",
      "\n",
      " Calculating fullXmatrix\n"
     ]
    },
    {
     "data": {
      "application/vnd.jupyter.widget-view+json": {
       "model_id": "d2f17132d8f844d9bc52e204dde7a18d",
       "version_major": 2,
       "version_minor": 0
      },
      "text/plain": [
       "HBox(children=(IntProgress(value=0, max=67), HTML(value='')))"
      ]
     },
     "metadata": {},
     "output_type": "display_data"
    },
    {
     "name": "stdout",
     "output_type": "stream",
     "text": [
      "\n",
      "     pcost       dcost       gap    pres   dres\n",
      " 0: -8.9372e+02 -2.9823e+05  8e+05  1e+00  3e-13\n",
      " 1:  5.2303e+02 -1.2425e+05  2e+05  2e-01  2e-13\n",
      " 2:  6.3662e+02 -2.8317e+04  4e+04  3e-02  1e-13\n",
      " 3: -4.4873e+02 -6.1013e+03  6e+03  3e-03  9e-14\n",
      " 4: -7.4730e+02 -2.2829e+03  2e+03  5e-04  9e-14\n",
      " 5: -8.2086e+02 -1.8212e+03  1e+03  3e-04  8e-14\n",
      " 6: -9.0999e+02 -1.6352e+03  7e+02  2e-04  8e-14\n",
      " 7: -1.0004e+03 -1.3340e+03  3e+02  4e-05  1e-13\n",
      " 8: -1.0473e+03 -1.2395e+03  2e+02  1e-05  1e-13\n",
      " 9: -1.0753e+03 -1.1927e+03  1e+02  7e-06  1e-13\n",
      "10: -1.1033e+03 -1.1467e+03  4e+01  9e-07  1e-13\n",
      "11: -1.1174e+03 -1.1262e+03  9e+00  2e-16  1e-13\n",
      "12: -1.1209e+03 -1.1220e+03  1e+00  2e-16  1e-13\n",
      "13: -1.1213e+03 -1.1215e+03  2e-01  2e-16  1e-13\n",
      "14: -1.1214e+03 -1.1214e+03  2e-03  2e-16  1e-13\n",
      "15: -1.1214e+03 -1.1214e+03  2e-05  2e-16  1e-13\n",
      "Optimal solution found.\n",
      "\n",
      " Calculating prediction values\n"
     ]
    },
    {
     "data": {
      "application/vnd.jupyter.widget-view+json": {
       "model_id": "9e2a87fdf46b463d97c49226b89bd8a1",
       "version_major": 2,
       "version_minor": 0
      },
      "text/plain": [
       "HBox(children=(IntProgress(value=0, max=33), HTML(value='')))"
      ]
     },
     "metadata": {},
     "output_type": "display_data"
    },
    {
     "name": "stdout",
     "output_type": "stream",
     "text": [
      "\n",
      "fold is 0\n",
      "\n",
      " Calculating fullXmatrix\n"
     ]
    },
    {
     "data": {
      "application/vnd.jupyter.widget-view+json": {
       "model_id": "4f7534ffaa80473f999406655ca1c15c",
       "version_major": 2,
       "version_minor": 0
      },
      "text/plain": [
       "HBox(children=(IntProgress(value=0, max=66), HTML(value='')))"
      ]
     },
     "metadata": {},
     "output_type": "display_data"
    },
    {
     "name": "stdout",
     "output_type": "stream",
     "text": [
      "\n",
      "     pcost       dcost       gap    pres   dres\n",
      " 0: -4.0095e+02 -2.5295e+05  7e+05  8e-01  2e-13\n",
      " 1:  8.0206e+02 -9.2255e+04  1e+05  1e-01  2e-13\n",
      " 2:  4.5126e+02 -2.4126e+04  3e+04  2e-02  1e-13\n",
      " 3: -3.0936e+02 -6.2965e+03  6e+03  4e-03  8e-14\n",
      " 4: -5.9688e+02 -2.1486e+03  2e+03  9e-04  6e-14\n",
      " 5: -7.1513e+02 -1.9109e+03  1e+03  6e-04  8e-14\n",
      " 6: -7.8830e+02 -1.4616e+03  7e+02  3e-04  1e-13\n",
      " 7: -8.6389e+02 -1.2469e+03  4e+02  4e-05  9e-14\n",
      " 8: -8.8620e+02 -1.0899e+03  2e+02  2e-05  8e-14\n",
      " 9: -9.1243e+02 -1.0782e+03  2e+02  7e-06  1e-13\n",
      "10: -9.4840e+02 -1.0039e+03  6e+01  2e-06  1e-13\n",
      "11: -9.6549e+02 -9.7522e+02  1e+01  2e-07  1e-13\n",
      "12: -9.6754e+02 -9.7223e+02  5e+00  1e-07  1e-13\n",
      "13: -9.6868e+02 -9.6998e+02  1e+00  4e-09  1e-13\n",
      "14: -9.6929e+02 -9.6930e+02  2e-02  4e-11  1e-13\n",
      "15: -9.6930e+02 -9.6930e+02  2e-04  4e-13  1e-13\n",
      "Optimal solution found.\n",
      "\n",
      " Calculating prediction values\n"
     ]
    },
    {
     "data": {
      "application/vnd.jupyter.widget-view+json": {
       "model_id": "c4644121b5f344a8bcce909f476a25f8",
       "version_major": 2,
       "version_minor": 0
      },
      "text/plain": [
       "HBox(children=(IntProgress(value=0, max=34), HTML(value='')))"
      ]
     },
     "metadata": {},
     "output_type": "display_data"
    },
    {
     "name": "stdout",
     "output_type": "stream",
     "text": [
      "\n",
      "fold is 1\n",
      "\n",
      " Calculating fullXmatrix\n"
     ]
    },
    {
     "data": {
      "application/vnd.jupyter.widget-view+json": {
       "model_id": "4e9c4dd2def745eca65416919763193a",
       "version_major": 2,
       "version_minor": 0
      },
      "text/plain": [
       "HBox(children=(IntProgress(value=0, max=67), HTML(value='')))"
      ]
     },
     "metadata": {},
     "output_type": "display_data"
    },
    {
     "name": "stdout",
     "output_type": "stream",
     "text": [
      "\n",
      "     pcost       dcost       gap    pres   dres\n",
      " 0: -5.9015e+02 -2.2026e+05  5e+05  7e-01  2e-13\n",
      " 1:  6.6943e+02 -7.0146e+04  1e+05  1e-01  2e-13\n",
      " 2:  6.2118e+02 -1.5962e+04  2e+04  2e-02  1e-13\n",
      " 3: -1.9534e+02 -4.0652e+03  4e+03  1e-03  6e-14\n",
      " 4: -5.0129e+02 -2.2402e+03  2e+03  3e-04  6e-14\n",
      " 5: -6.1715e+02 -1.5800e+03  1e+03  1e-04  6e-14\n",
      " 6: -6.6982e+02 -1.2118e+03  5e+02  2e-16  7e-14\n",
      " 7: -7.2263e+02 -1.0936e+03  4e+02  2e-16  7e-14\n",
      " 8: -7.6741e+02 -9.5091e+02  2e+02  2e-16  8e-14\n",
      " 9: -7.8859e+02 -8.8276e+02  9e+01  2e-16  8e-14\n",
      "10: -8.1286e+02 -8.4126e+02  3e+01  2e-16  8e-14\n",
      "11: -8.2038e+02 -8.2356e+02  3e+00  2e-16  1e-13\n",
      "12: -8.2166e+02 -8.2176e+02  1e-01  2e-16  9e-14\n",
      "13: -8.2169e+02 -8.2170e+02  1e-03  2e-16  1e-13\n",
      "14: -8.2170e+02 -8.2170e+02  1e-05  2e-16  1e-13\n",
      "Optimal solution found.\n",
      "\n",
      " Calculating prediction values\n"
     ]
    },
    {
     "data": {
      "application/vnd.jupyter.widget-view+json": {
       "model_id": "2f53b8d46e844761a0e347b3d1b217c0",
       "version_major": 2,
       "version_minor": 0
      },
      "text/plain": [
       "HBox(children=(IntProgress(value=0, max=33), HTML(value='')))"
      ]
     },
     "metadata": {},
     "output_type": "display_data"
    },
    {
     "name": "stdout",
     "output_type": "stream",
     "text": [
      "\n",
      "fold is 2\n",
      "\n",
      " Calculating fullXmatrix\n"
     ]
    },
    {
     "data": {
      "application/vnd.jupyter.widget-view+json": {
       "model_id": "3d6ff5b9baf6437b8585165ed488d975",
       "version_major": 2,
       "version_minor": 0
      },
      "text/plain": [
       "HBox(children=(IntProgress(value=0, max=67), HTML(value='')))"
      ]
     },
     "metadata": {},
     "output_type": "display_data"
    },
    {
     "name": "stdout",
     "output_type": "stream",
     "text": [
      "\n",
      "     pcost       dcost       gap    pres   dres\n",
      " 0: -8.9372e+02 -2.9823e+05  8e+05  1e+00  3e-13\n",
      " 1:  5.2303e+02 -1.2425e+05  2e+05  2e-01  2e-13\n",
      " 2:  6.3662e+02 -2.8317e+04  4e+04  3e-02  1e-13\n",
      " 3: -4.4873e+02 -6.1013e+03  6e+03  3e-03  9e-14\n",
      " 4: -7.4730e+02 -2.2829e+03  2e+03  5e-04  9e-14\n",
      " 5: -8.2086e+02 -1.8212e+03  1e+03  3e-04  8e-14\n",
      " 6: -9.0999e+02 -1.6352e+03  7e+02  2e-04  8e-14\n",
      " 7: -1.0004e+03 -1.3340e+03  3e+02  4e-05  1e-13\n",
      " 8: -1.0473e+03 -1.2395e+03  2e+02  1e-05  1e-13\n",
      " 9: -1.0753e+03 -1.1927e+03  1e+02  7e-06  1e-13\n",
      "10: -1.1033e+03 -1.1467e+03  4e+01  9e-07  1e-13\n",
      "11: -1.1174e+03 -1.1262e+03  9e+00  2e-16  1e-13\n",
      "12: -1.1209e+03 -1.1220e+03  1e+00  2e-16  1e-13\n",
      "13: -1.1213e+03 -1.1215e+03  2e-01  2e-16  1e-13\n",
      "14: -1.1214e+03 -1.1214e+03  2e-03  2e-16  1e-13\n",
      "15: -1.1214e+03 -1.1214e+03  2e-05  2e-16  1e-13\n",
      "Optimal solution found.\n",
      "\n",
      " Calculating prediction values\n"
     ]
    },
    {
     "data": {
      "application/vnd.jupyter.widget-view+json": {
       "model_id": "a37b06369d28441fbe33f3cb8c44484d",
       "version_major": 2,
       "version_minor": 0
      },
      "text/plain": [
       "HBox(children=(IntProgress(value=0, max=33), HTML(value='')))"
      ]
     },
     "metadata": {},
     "output_type": "display_data"
    },
    {
     "name": "stdout",
     "output_type": "stream",
     "text": [
      "\n",
      "fold is 0\n",
      "\n",
      " Calculating fullXmatrix\n"
     ]
    },
    {
     "data": {
      "application/vnd.jupyter.widget-view+json": {
       "model_id": "de553dd48a004212b4f265500fe11f0d",
       "version_major": 2,
       "version_minor": 0
      },
      "text/plain": [
       "HBox(children=(IntProgress(value=0, max=66), HTML(value='')))"
      ]
     },
     "metadata": {},
     "output_type": "display_data"
    },
    {
     "name": "stdout",
     "output_type": "stream",
     "text": [
      "\n",
      "     pcost       dcost       gap    pres   dres\n",
      " 0:  5.3985e+02 -9.8893e+05  3e+06  8e-01  5e-13\n",
      " 1:  4.7802e+03 -3.5562e+05  5e+05  1e-01  4e-13\n",
      " 2:  2.9976e+03 -9.1327e+04  1e+05  2e-02  3e-13\n",
      " 3: -6.2913e+01 -2.4673e+04  3e+04  4e-03  2e-13\n",
      " 4: -1.0567e+03 -5.1035e+03  4e+03  5e-04  1e-13\n",
      " 5: -1.4064e+03 -3.9736e+03  3e+03  2e-04  2e-13\n",
      " 6: -1.5451e+03 -3.3769e+03  2e+03  1e-04  2e-13\n",
      " 7: -1.6630e+03 -2.7252e+03  1e+03  5e-05  2e-13\n",
      " 8: -1.7433e+03 -2.4005e+03  7e+02  7e-06  2e-13\n",
      " 9: -1.7923e+03 -2.1563e+03  4e+02  3e-06  2e-13\n",
      "10: -1.8463e+03 -2.0852e+03  2e+02  8e-07  3e-13\n",
      "11: -1.8807e+03 -2.0469e+03  2e+02  3e-07  3e-13\n",
      "12: -1.9137e+03 -1.9701e+03  6e+01  7e-08  2e-13\n",
      "13: -1.9314e+03 -1.9389e+03  7e+00  8e-09  3e-13\n",
      "14: -1.9332e+03 -1.9360e+03  3e+00  2e-09  2e-13\n",
      "15: -1.9343e+03 -1.9344e+03  5e-02  2e-11  2e-13\n",
      "16: -1.9343e+03 -1.9343e+03  5e-04  2e-13  3e-13\n",
      "Optimal solution found.\n",
      "\n",
      " Calculating prediction values\n"
     ]
    },
    {
     "data": {
      "application/vnd.jupyter.widget-view+json": {
       "model_id": "aa52f38457734a998e445a1ded819414",
       "version_major": 2,
       "version_minor": 0
      },
      "text/plain": [
       "HBox(children=(IntProgress(value=0, max=34), HTML(value='')))"
      ]
     },
     "metadata": {},
     "output_type": "display_data"
    },
    {
     "name": "stdout",
     "output_type": "stream",
     "text": [
      "\n",
      "fold is 1\n",
      "\n",
      " Calculating fullXmatrix\n"
     ]
    },
    {
     "data": {
      "application/vnd.jupyter.widget-view+json": {
       "model_id": "1fe885c69d494ec7a1c9d4cb05d9aa55",
       "version_major": 2,
       "version_minor": 0
      },
      "text/plain": [
       "HBox(children=(IntProgress(value=0, max=67), HTML(value='')))"
      ]
     },
     "metadata": {},
     "output_type": "display_data"
    },
    {
     "name": "stdout",
     "output_type": "stream",
     "text": [
      "\n",
      "     pcost       dcost       gap    pres   dres\n",
      " 0: -1.1058e+02 -8.5923e+05  2e+06  7e-01  4e-13\n",
      " 1:  4.1882e+03 -2.7042e+05  4e+05  1e-01  4e-13\n",
      " 2:  3.5246e+03 -5.8806e+04  8e+04  2e-02  2e-13\n",
      " 3:  1.9740e+02 -1.5218e+04  2e+04  7e-04  1e-13\n",
      " 4: -9.4772e+02 -4.3612e+03  3e+03  8e-05  1e-13\n",
      " 5: -1.1807e+03 -3.4792e+03  2e+03  4e-05  1e-13\n",
      " 6: -1.3005e+03 -2.9510e+03  2e+03  2e-05  1e-13\n",
      " 7: -1.4127e+03 -2.2424e+03  8e+02  8e-06  1e-13\n",
      " 8: -1.4827e+03 -2.0636e+03  6e+02  4e-06  2e-13\n",
      " 9: -1.5504e+03 -1.8532e+03  3e+02  9e-07  2e-13\n",
      "10: -1.5894e+03 -1.7116e+03  1e+02  8e-08  1e-13\n",
      "11: -1.6134e+03 -1.6786e+03  7e+01  3e-08  2e-13\n",
      "12: -1.6367e+03 -1.6384e+03  2e+00  3e-10  2e-13\n",
      "13: -1.6373e+03 -1.6373e+03  2e-02  3e-12  2e-13\n",
      "14: -1.6373e+03 -1.6373e+03  2e-04  3e-14  2e-13\n",
      "Optimal solution found.\n",
      "\n",
      " Calculating prediction values\n"
     ]
    },
    {
     "data": {
      "application/vnd.jupyter.widget-view+json": {
       "model_id": "de574fb0ff754341beeb180dd91091f4",
       "version_major": 2,
       "version_minor": 0
      },
      "text/plain": [
       "HBox(children=(IntProgress(value=0, max=33), HTML(value='')))"
      ]
     },
     "metadata": {},
     "output_type": "display_data"
    },
    {
     "name": "stdout",
     "output_type": "stream",
     "text": [
      "\n",
      "fold is 2\n",
      "\n",
      " Calculating fullXmatrix\n"
     ]
    },
    {
     "data": {
      "application/vnd.jupyter.widget-view+json": {
       "model_id": "f38c4706cef141159501b083d944e6d3",
       "version_major": 2,
       "version_minor": 0
      },
      "text/plain": [
       "HBox(children=(IntProgress(value=0, max=67), HTML(value='')))"
      ]
     },
     "metadata": {},
     "output_type": "display_data"
    },
    {
     "name": "stdout",
     "output_type": "stream",
     "text": [
      "\n",
      "     pcost       dcost       gap    pres   dres\n",
      " 0: -8.1573e+02 -1.1681e+06  3e+06  9e-01  5e-13\n",
      " 1:  4.1017e+03 -4.8066e+05  7e+05  1e-01  1e-12\n",
      " 2:  3.9473e+03 -1.1032e+05  1e+05  3e-02  3e-13\n",
      " 3: -4.9779e+02 -2.0104e+04  2e+04  2e-03  1e-13\n",
      " 4: -1.3343e+03 -6.7583e+03  5e+03  5e-04  1e-13\n",
      " 5: -1.5561e+03 -4.6350e+03  3e+03  2e-04  2e-13\n",
      " 6: -1.7419e+03 -3.3969e+03  2e+03  5e-05  2e-13\n",
      " 7: -1.8349e+03 -3.1049e+03  1e+03  3e-05  2e-13\n",
      " 8: -2.0239e+03 -2.6697e+03  6e+02  1e-05  2e-13\n",
      " 9: -2.1100e+03 -2.4739e+03  4e+02  5e-06  2e-13\n",
      "10: -2.1758e+03 -2.3537e+03  2e+02  2e-06  2e-13\n",
      "11: -2.2013e+03 -2.3008e+03  1e+02  8e-07  2e-13\n",
      "12: -2.2187e+03 -2.2591e+03  4e+01  2e-07  2e-13\n",
      "13: -2.2256e+03 -2.2494e+03  2e+01  8e-08  2e-13\n",
      "14: -2.2351e+03 -2.2370e+03  2e+00  6e-09  3e-13\n",
      "15: -2.2359e+03 -2.2359e+03  3e-02  8e-11  3e-13\n",
      "16: -2.2359e+03 -2.2359e+03  3e-04  8e-13  2e-13\n",
      "Optimal solution found.\n",
      "\n",
      " Calculating prediction values\n"
     ]
    },
    {
     "data": {
      "application/vnd.jupyter.widget-view+json": {
       "model_id": "787055a848b44c09b1c4eeb481f21e24",
       "version_major": 2,
       "version_minor": 0
      },
      "text/plain": [
       "HBox(children=(IntProgress(value=0, max=33), HTML(value='')))"
      ]
     },
     "metadata": {},
     "output_type": "display_data"
    },
    {
     "name": "stdout",
     "output_type": "stream",
     "text": [
      "\n",
      "fold is 0\n",
      "\n",
      " Calculating fullXmatrix\n"
     ]
    },
    {
     "data": {
      "application/vnd.jupyter.widget-view+json": {
       "model_id": "2b036996be17441e9cefca35f430a782",
       "version_major": 2,
       "version_minor": 0
      },
      "text/plain": [
       "HBox(children=(IntProgress(value=0, max=66), HTML(value='')))"
      ]
     },
     "metadata": {},
     "output_type": "display_data"
    },
    {
     "name": "stdout",
     "output_type": "stream",
     "text": [
      "\n",
      "     pcost       dcost       gap    pres   dres\n",
      " 0:  5.3985e+02 -9.8893e+05  3e+06  8e-01  5e-13\n",
      " 1:  4.7802e+03 -3.5562e+05  5e+05  1e-01  4e-13\n",
      " 2:  2.9976e+03 -9.1327e+04  1e+05  2e-02  3e-13\n",
      " 3: -6.2913e+01 -2.4673e+04  3e+04  4e-03  2e-13\n",
      " 4: -1.0567e+03 -5.1035e+03  4e+03  5e-04  1e-13\n",
      " 5: -1.4064e+03 -3.9736e+03  3e+03  2e-04  2e-13\n",
      " 6: -1.5451e+03 -3.3769e+03  2e+03  1e-04  2e-13\n",
      " 7: -1.6630e+03 -2.7252e+03  1e+03  5e-05  2e-13\n",
      " 8: -1.7433e+03 -2.4005e+03  7e+02  7e-06  2e-13\n",
      " 9: -1.7923e+03 -2.1563e+03  4e+02  3e-06  2e-13\n",
      "10: -1.8463e+03 -2.0852e+03  2e+02  8e-07  3e-13\n",
      "11: -1.8807e+03 -2.0469e+03  2e+02  3e-07  3e-13\n",
      "12: -1.9137e+03 -1.9701e+03  6e+01  7e-08  2e-13\n",
      "13: -1.9314e+03 -1.9389e+03  7e+00  8e-09  3e-13\n",
      "14: -1.9332e+03 -1.9360e+03  3e+00  2e-09  2e-13\n",
      "15: -1.9343e+03 -1.9344e+03  5e-02  2e-11  2e-13\n",
      "16: -1.9343e+03 -1.9343e+03  5e-04  2e-13  3e-13\n",
      "Optimal solution found.\n",
      "\n",
      " Calculating prediction values\n"
     ]
    },
    {
     "data": {
      "application/vnd.jupyter.widget-view+json": {
       "model_id": "0a196eab4cc54d1b807280fb98a173b6",
       "version_major": 2,
       "version_minor": 0
      },
      "text/plain": [
       "HBox(children=(IntProgress(value=0, max=34), HTML(value='')))"
      ]
     },
     "metadata": {},
     "output_type": "display_data"
    },
    {
     "name": "stdout",
     "output_type": "stream",
     "text": [
      "\n",
      "fold is 1\n",
      "\n",
      " Calculating fullXmatrix\n"
     ]
    },
    {
     "data": {
      "application/vnd.jupyter.widget-view+json": {
       "model_id": "d1e74d0aad834e688c54d2994e494e50",
       "version_major": 2,
       "version_minor": 0
      },
      "text/plain": [
       "HBox(children=(IntProgress(value=0, max=67), HTML(value='')))"
      ]
     },
     "metadata": {},
     "output_type": "display_data"
    },
    {
     "name": "stdout",
     "output_type": "stream",
     "text": [
      "\n",
      "     pcost       dcost       gap    pres   dres\n",
      " 0: -1.1058e+02 -8.5923e+05  2e+06  7e-01  4e-13\n",
      " 1:  4.1882e+03 -2.7042e+05  4e+05  1e-01  4e-13\n",
      " 2:  3.5246e+03 -5.8806e+04  8e+04  2e-02  2e-13\n",
      " 3:  1.9740e+02 -1.5218e+04  2e+04  7e-04  1e-13\n",
      " 4: -9.4772e+02 -4.3612e+03  3e+03  8e-05  1e-13\n",
      " 5: -1.1807e+03 -3.4792e+03  2e+03  4e-05  1e-13\n",
      " 6: -1.3005e+03 -2.9510e+03  2e+03  2e-05  1e-13\n",
      " 7: -1.4127e+03 -2.2424e+03  8e+02  8e-06  1e-13\n",
      " 8: -1.4827e+03 -2.0636e+03  6e+02  4e-06  2e-13\n",
      " 9: -1.5504e+03 -1.8532e+03  3e+02  9e-07  2e-13\n",
      "10: -1.5894e+03 -1.7116e+03  1e+02  8e-08  1e-13\n",
      "11: -1.6134e+03 -1.6786e+03  7e+01  3e-08  2e-13\n",
      "12: -1.6367e+03 -1.6384e+03  2e+00  3e-10  2e-13\n",
      "13: -1.6373e+03 -1.6373e+03  2e-02  3e-12  2e-13\n",
      "14: -1.6373e+03 -1.6373e+03  2e-04  3e-14  2e-13\n",
      "Optimal solution found.\n",
      "\n",
      " Calculating prediction values\n"
     ]
    },
    {
     "data": {
      "application/vnd.jupyter.widget-view+json": {
       "model_id": "cea75b9f0ce04750a7f129107946075f",
       "version_major": 2,
       "version_minor": 0
      },
      "text/plain": [
       "HBox(children=(IntProgress(value=0, max=33), HTML(value='')))"
      ]
     },
     "metadata": {},
     "output_type": "display_data"
    },
    {
     "name": "stdout",
     "output_type": "stream",
     "text": [
      "\n",
      "fold is 2\n",
      "\n",
      " Calculating fullXmatrix\n"
     ]
    },
    {
     "data": {
      "application/vnd.jupyter.widget-view+json": {
       "model_id": "043a5cfa9a9147edaa1b6842a5eb92c7",
       "version_major": 2,
       "version_minor": 0
      },
      "text/plain": [
       "HBox(children=(IntProgress(value=0, max=67), HTML(value='')))"
      ]
     },
     "metadata": {},
     "output_type": "display_data"
    },
    {
     "name": "stdout",
     "output_type": "stream",
     "text": [
      "\n",
      "     pcost       dcost       gap    pres   dres\n",
      " 0: -8.1573e+02 -1.1681e+06  3e+06  9e-01  5e-13\n",
      " 1:  4.1017e+03 -4.8066e+05  7e+05  1e-01  1e-12\n",
      " 2:  3.9473e+03 -1.1032e+05  1e+05  3e-02  3e-13\n",
      " 3: -4.9779e+02 -2.0104e+04  2e+04  2e-03  1e-13\n",
      " 4: -1.3343e+03 -6.7583e+03  5e+03  5e-04  1e-13\n",
      " 5: -1.5561e+03 -4.6350e+03  3e+03  2e-04  2e-13\n",
      " 6: -1.7419e+03 -3.3969e+03  2e+03  5e-05  2e-13\n",
      " 7: -1.8349e+03 -3.1049e+03  1e+03  3e-05  2e-13\n",
      " 8: -2.0239e+03 -2.6697e+03  6e+02  1e-05  2e-13\n",
      " 9: -2.1100e+03 -2.4739e+03  4e+02  5e-06  2e-13\n",
      "10: -2.1758e+03 -2.3537e+03  2e+02  2e-06  2e-13\n",
      "11: -2.2013e+03 -2.3008e+03  1e+02  8e-07  2e-13\n",
      "12: -2.2187e+03 -2.2591e+03  4e+01  2e-07  2e-13\n",
      "13: -2.2256e+03 -2.2494e+03  2e+01  8e-08  2e-13\n",
      "14: -2.2351e+03 -2.2370e+03  2e+00  6e-09  3e-13\n",
      "15: -2.2359e+03 -2.2359e+03  3e-02  8e-11  3e-13\n",
      "16: -2.2359e+03 -2.2359e+03  3e-04  8e-13  2e-13\n",
      "Optimal solution found.\n",
      "\n",
      " Calculating prediction values\n"
     ]
    },
    {
     "data": {
      "application/vnd.jupyter.widget-view+json": {
       "model_id": "53b357e400334625b61561b95da1b2e6",
       "version_major": 2,
       "version_minor": 0
      },
      "text/plain": [
       "HBox(children=(IntProgress(value=0, max=33), HTML(value='')))"
      ]
     },
     "metadata": {},
     "output_type": "display_data"
    },
    {
     "name": "stdout",
     "output_type": "stream",
     "text": [
      "\n",
      "fold is 0\n",
      "\n",
      " Calculating fullXmatrix\n"
     ]
    },
    {
     "data": {
      "application/vnd.jupyter.widget-view+json": {
       "model_id": "faabda25d2e3462b951b21ba87a8b47f",
       "version_major": 2,
       "version_minor": 0
      },
      "text/plain": [
       "HBox(children=(IntProgress(value=0, max=66), HTML(value='')))"
      ]
     },
     "metadata": {},
     "output_type": "display_data"
    },
    {
     "name": "stdout",
     "output_type": "stream",
     "text": [
      "\n",
      "     pcost       dcost       gap    pres   dres\n",
      " 0:  5.3985e+02 -9.8893e+05  3e+06  8e-01  5e-13\n",
      " 1:  4.7802e+03 -3.5562e+05  5e+05  1e-01  4e-13\n",
      " 2:  2.9976e+03 -9.1327e+04  1e+05  2e-02  3e-13\n",
      " 3: -6.2913e+01 -2.4673e+04  3e+04  4e-03  2e-13\n",
      " 4: -1.0567e+03 -5.1035e+03  4e+03  5e-04  1e-13\n",
      " 5: -1.4064e+03 -3.9736e+03  3e+03  2e-04  2e-13\n",
      " 6: -1.5451e+03 -3.3769e+03  2e+03  1e-04  2e-13\n",
      " 7: -1.6630e+03 -2.7252e+03  1e+03  5e-05  2e-13\n",
      " 8: -1.7433e+03 -2.4005e+03  7e+02  7e-06  2e-13\n",
      " 9: -1.7923e+03 -2.1563e+03  4e+02  3e-06  2e-13\n",
      "10: -1.8463e+03 -2.0852e+03  2e+02  8e-07  3e-13\n",
      "11: -1.8807e+03 -2.0469e+03  2e+02  3e-07  3e-13\n",
      "12: -1.9137e+03 -1.9701e+03  6e+01  7e-08  2e-13\n",
      "13: -1.9314e+03 -1.9389e+03  7e+00  8e-09  3e-13\n",
      "14: -1.9332e+03 -1.9360e+03  3e+00  2e-09  2e-13\n",
      "15: -1.9343e+03 -1.9344e+03  5e-02  2e-11  2e-13\n",
      "16: -1.9343e+03 -1.9343e+03  5e-04  2e-13  3e-13\n",
      "Optimal solution found.\n",
      "\n",
      " Calculating prediction values\n"
     ]
    },
    {
     "data": {
      "application/vnd.jupyter.widget-view+json": {
       "model_id": "bfca89d8ca58454188f151ad5dd4e3f4",
       "version_major": 2,
       "version_minor": 0
      },
      "text/plain": [
       "HBox(children=(IntProgress(value=0, max=34), HTML(value='')))"
      ]
     },
     "metadata": {},
     "output_type": "display_data"
    },
    {
     "name": "stdout",
     "output_type": "stream",
     "text": [
      "\n",
      "fold is 1\n",
      "\n",
      " Calculating fullXmatrix\n"
     ]
    },
    {
     "data": {
      "application/vnd.jupyter.widget-view+json": {
       "model_id": "fd615ed637544134902b0438c0b92f3d",
       "version_major": 2,
       "version_minor": 0
      },
      "text/plain": [
       "HBox(children=(IntProgress(value=0, max=67), HTML(value='')))"
      ]
     },
     "metadata": {},
     "output_type": "display_data"
    },
    {
     "name": "stdout",
     "output_type": "stream",
     "text": [
      "\n",
      "     pcost       dcost       gap    pres   dres\n",
      " 0: -1.1058e+02 -8.5923e+05  2e+06  7e-01  4e-13\n",
      " 1:  4.1882e+03 -2.7042e+05  4e+05  1e-01  4e-13\n",
      " 2:  3.5246e+03 -5.8806e+04  8e+04  2e-02  2e-13\n",
      " 3:  1.9740e+02 -1.5218e+04  2e+04  7e-04  1e-13\n",
      " 4: -9.4772e+02 -4.3612e+03  3e+03  8e-05  1e-13\n",
      " 5: -1.1807e+03 -3.4792e+03  2e+03  4e-05  1e-13\n",
      " 6: -1.3005e+03 -2.9510e+03  2e+03  2e-05  1e-13\n",
      " 7: -1.4127e+03 -2.2424e+03  8e+02  8e-06  1e-13\n",
      " 8: -1.4827e+03 -2.0636e+03  6e+02  4e-06  2e-13\n",
      " 9: -1.5504e+03 -1.8532e+03  3e+02  9e-07  2e-13\n",
      "10: -1.5894e+03 -1.7116e+03  1e+02  8e-08  1e-13\n",
      "11: -1.6134e+03 -1.6786e+03  7e+01  3e-08  2e-13\n",
      "12: -1.6367e+03 -1.6384e+03  2e+00  3e-10  2e-13\n",
      "13: -1.6373e+03 -1.6373e+03  2e-02  3e-12  2e-13\n",
      "14: -1.6373e+03 -1.6373e+03  2e-04  3e-14  2e-13\n",
      "Optimal solution found.\n",
      "\n",
      " Calculating prediction values\n"
     ]
    },
    {
     "data": {
      "application/vnd.jupyter.widget-view+json": {
       "model_id": "0a01e48de9444e4397506f0a0ec87613",
       "version_major": 2,
       "version_minor": 0
      },
      "text/plain": [
       "HBox(children=(IntProgress(value=0, max=33), HTML(value='')))"
      ]
     },
     "metadata": {},
     "output_type": "display_data"
    },
    {
     "name": "stdout",
     "output_type": "stream",
     "text": [
      "\n",
      "fold is 2\n",
      "\n",
      " Calculating fullXmatrix\n"
     ]
    },
    {
     "data": {
      "application/vnd.jupyter.widget-view+json": {
       "model_id": "5e08fcfae9004d1aa6bfdb951ec03aca",
       "version_major": 2,
       "version_minor": 0
      },
      "text/plain": [
       "HBox(children=(IntProgress(value=0, max=67), HTML(value='')))"
      ]
     },
     "metadata": {},
     "output_type": "display_data"
    },
    {
     "name": "stdout",
     "output_type": "stream",
     "text": [
      "\n",
      "     pcost       dcost       gap    pres   dres\n",
      " 0: -8.1573e+02 -1.1681e+06  3e+06  9e-01  5e-13\n",
      " 1:  4.1017e+03 -4.8066e+05  7e+05  1e-01  1e-12\n",
      " 2:  3.9473e+03 -1.1032e+05  1e+05  3e-02  3e-13\n",
      " 3: -4.9779e+02 -2.0104e+04  2e+04  2e-03  1e-13\n",
      " 4: -1.3343e+03 -6.7583e+03  5e+03  5e-04  1e-13\n",
      " 5: -1.5561e+03 -4.6350e+03  3e+03  2e-04  2e-13\n",
      " 6: -1.7419e+03 -3.3969e+03  2e+03  5e-05  2e-13\n",
      " 7: -1.8349e+03 -3.1049e+03  1e+03  3e-05  2e-13\n",
      " 8: -2.0239e+03 -2.6697e+03  6e+02  1e-05  2e-13\n",
      " 9: -2.1100e+03 -2.4739e+03  4e+02  5e-06  2e-13\n",
      "10: -2.1758e+03 -2.3537e+03  2e+02  2e-06  2e-13\n",
      "11: -2.2013e+03 -2.3008e+03  1e+02  8e-07  2e-13\n",
      "12: -2.2187e+03 -2.2591e+03  4e+01  2e-07  2e-13\n",
      "13: -2.2256e+03 -2.2494e+03  2e+01  8e-08  2e-13\n",
      "14: -2.2351e+03 -2.2370e+03  2e+00  6e-09  3e-13\n",
      "15: -2.2359e+03 -2.2359e+03  3e-02  8e-11  3e-13\n",
      "16: -2.2359e+03 -2.2359e+03  3e-04  8e-13  2e-13\n",
      "Optimal solution found.\n",
      "\n",
      " Calculating prediction values\n"
     ]
    },
    {
     "data": {
      "application/vnd.jupyter.widget-view+json": {
       "model_id": "9165ddae8d1b427f8cd3c7ae62abc0b2",
       "version_major": 2,
       "version_minor": 0
      },
      "text/plain": [
       "HBox(children=(IntProgress(value=0, max=33), HTML(value='')))"
      ]
     },
     "metadata": {},
     "output_type": "display_data"
    },
    {
     "name": "stdout",
     "output_type": "stream",
     "text": [
      "\n",
      "fold is 0\n",
      "\n",
      " Calculating fullXmatrix\n"
     ]
    },
    {
     "data": {
      "application/vnd.jupyter.widget-view+json": {
       "model_id": "4b92174d11c24c1ea0f4b1a37986864b",
       "version_major": 2,
       "version_minor": 0
      },
      "text/plain": [
       "HBox(children=(IntProgress(value=0, max=66), HTML(value='')))"
      ]
     },
     "metadata": {},
     "output_type": "display_data"
    },
    {
     "name": "stdout",
     "output_type": "stream",
     "text": [
      "\n",
      "     pcost       dcost       gap    pres   dres\n",
      " 0:  5.3985e+02 -9.8893e+05  3e+06  8e-01  5e-13\n",
      " 1:  4.7802e+03 -3.5562e+05  5e+05  1e-01  4e-13\n",
      " 2:  2.9976e+03 -9.1327e+04  1e+05  2e-02  3e-13\n",
      " 3: -6.2913e+01 -2.4673e+04  3e+04  4e-03  2e-13\n",
      " 4: -1.0567e+03 -5.1035e+03  4e+03  5e-04  1e-13\n",
      " 5: -1.4064e+03 -3.9736e+03  3e+03  2e-04  2e-13\n",
      " 6: -1.5451e+03 -3.3769e+03  2e+03  1e-04  2e-13\n",
      " 7: -1.6630e+03 -2.7252e+03  1e+03  5e-05  2e-13\n",
      " 8: -1.7433e+03 -2.4005e+03  7e+02  7e-06  2e-13\n",
      " 9: -1.7923e+03 -2.1563e+03  4e+02  3e-06  2e-13\n",
      "10: -1.8463e+03 -2.0852e+03  2e+02  8e-07  3e-13\n",
      "11: -1.8807e+03 -2.0469e+03  2e+02  3e-07  3e-13\n",
      "12: -1.9137e+03 -1.9701e+03  6e+01  7e-08  2e-13\n",
      "13: -1.9314e+03 -1.9389e+03  7e+00  8e-09  3e-13\n",
      "14: -1.9332e+03 -1.9360e+03  3e+00  2e-09  2e-13\n",
      "15: -1.9343e+03 -1.9344e+03  5e-02  2e-11  2e-13\n",
      "16: -1.9343e+03 -1.9343e+03  5e-04  2e-13  3e-13\n",
      "Optimal solution found.\n",
      "\n",
      " Calculating prediction values\n"
     ]
    },
    {
     "data": {
      "application/vnd.jupyter.widget-view+json": {
       "model_id": "15a8f63a44a946c5b725bb4151b42b0b",
       "version_major": 2,
       "version_minor": 0
      },
      "text/plain": [
       "HBox(children=(IntProgress(value=0, max=34), HTML(value='')))"
      ]
     },
     "metadata": {},
     "output_type": "display_data"
    },
    {
     "name": "stdout",
     "output_type": "stream",
     "text": [
      "\n",
      "fold is 1\n",
      "\n",
      " Calculating fullXmatrix\n"
     ]
    },
    {
     "data": {
      "application/vnd.jupyter.widget-view+json": {
       "model_id": "a9f5114933bc4d628eac4a8179e0a683",
       "version_major": 2,
       "version_minor": 0
      },
      "text/plain": [
       "HBox(children=(IntProgress(value=0, max=67), HTML(value='')))"
      ]
     },
     "metadata": {},
     "output_type": "display_data"
    },
    {
     "name": "stdout",
     "output_type": "stream",
     "text": [
      "\n",
      "     pcost       dcost       gap    pres   dres\n",
      " 0: -1.1058e+02 -8.5923e+05  2e+06  7e-01  4e-13\n",
      " 1:  4.1882e+03 -2.7042e+05  4e+05  1e-01  4e-13\n",
      " 2:  3.5246e+03 -5.8806e+04  8e+04  2e-02  2e-13\n",
      " 3:  1.9740e+02 -1.5218e+04  2e+04  7e-04  1e-13\n",
      " 4: -9.4772e+02 -4.3612e+03  3e+03  8e-05  1e-13\n",
      " 5: -1.1807e+03 -3.4792e+03  2e+03  4e-05  1e-13\n",
      " 6: -1.3005e+03 -2.9510e+03  2e+03  2e-05  1e-13\n",
      " 7: -1.4127e+03 -2.2424e+03  8e+02  8e-06  1e-13\n",
      " 8: -1.4827e+03 -2.0636e+03  6e+02  4e-06  2e-13\n",
      " 9: -1.5504e+03 -1.8532e+03  3e+02  9e-07  2e-13\n",
      "10: -1.5894e+03 -1.7116e+03  1e+02  8e-08  1e-13\n",
      "11: -1.6134e+03 -1.6786e+03  7e+01  3e-08  2e-13\n",
      "12: -1.6367e+03 -1.6384e+03  2e+00  3e-10  2e-13\n",
      "13: -1.6373e+03 -1.6373e+03  2e-02  3e-12  2e-13\n",
      "14: -1.6373e+03 -1.6373e+03  2e-04  3e-14  2e-13\n",
      "Optimal solution found.\n",
      "\n",
      " Calculating prediction values\n"
     ]
    },
    {
     "data": {
      "application/vnd.jupyter.widget-view+json": {
       "model_id": "8f799f76ad4e4ba996cb9efc7b5631a8",
       "version_major": 2,
       "version_minor": 0
      },
      "text/plain": [
       "HBox(children=(IntProgress(value=0, max=33), HTML(value='')))"
      ]
     },
     "metadata": {},
     "output_type": "display_data"
    },
    {
     "name": "stdout",
     "output_type": "stream",
     "text": [
      "\n",
      "fold is 2\n",
      "\n",
      " Calculating fullXmatrix\n"
     ]
    },
    {
     "data": {
      "application/vnd.jupyter.widget-view+json": {
       "model_id": "4d2b8499f8354c53a877cef5ffc164d8",
       "version_major": 2,
       "version_minor": 0
      },
      "text/plain": [
       "HBox(children=(IntProgress(value=0, max=67), HTML(value='')))"
      ]
     },
     "metadata": {},
     "output_type": "display_data"
    },
    {
     "name": "stdout",
     "output_type": "stream",
     "text": [
      "\n",
      "     pcost       dcost       gap    pres   dres\n",
      " 0: -8.1573e+02 -1.1681e+06  3e+06  9e-01  5e-13\n",
      " 1:  4.1017e+03 -4.8066e+05  7e+05  1e-01  1e-12\n",
      " 2:  3.9473e+03 -1.1032e+05  1e+05  3e-02  3e-13\n",
      " 3: -4.9779e+02 -2.0104e+04  2e+04  2e-03  1e-13\n",
      " 4: -1.3343e+03 -6.7583e+03  5e+03  5e-04  1e-13\n",
      " 5: -1.5561e+03 -4.6350e+03  3e+03  2e-04  2e-13\n",
      " 6: -1.7419e+03 -3.3969e+03  2e+03  5e-05  2e-13\n",
      " 7: -1.8349e+03 -3.1049e+03  1e+03  3e-05  2e-13\n",
      " 8: -2.0239e+03 -2.6697e+03  6e+02  1e-05  2e-13\n",
      " 9: -2.1100e+03 -2.4739e+03  4e+02  5e-06  2e-13\n",
      "10: -2.1758e+03 -2.3537e+03  2e+02  2e-06  2e-13\n",
      "11: -2.2013e+03 -2.3008e+03  1e+02  8e-07  2e-13\n",
      "12: -2.2187e+03 -2.2591e+03  4e+01  2e-07  2e-13\n",
      "13: -2.2256e+03 -2.2494e+03  2e+01  8e-08  2e-13\n",
      "14: -2.2351e+03 -2.2370e+03  2e+00  6e-09  3e-13\n",
      "15: -2.2359e+03 -2.2359e+03  3e-02  8e-11  3e-13\n",
      "16: -2.2359e+03 -2.2359e+03  3e-04  8e-13  2e-13\n",
      "Optimal solution found.\n",
      "\n",
      " Calculating prediction values\n"
     ]
    },
    {
     "data": {
      "application/vnd.jupyter.widget-view+json": {
       "model_id": "d52f612f8e3341bab6d5b71f6eb93e06",
       "version_major": 2,
       "version_minor": 0
      },
      "text/plain": [
       "HBox(children=(IntProgress(value=0, max=33), HTML(value='')))"
      ]
     },
     "metadata": {},
     "output_type": "display_data"
    },
    {
     "name": "stdout",
     "output_type": "stream",
     "text": [
      "\n",
      "fold is 0\n",
      "\n",
      " Calculating fullXmatrix\n"
     ]
    },
    {
     "data": {
      "application/vnd.jupyter.widget-view+json": {
       "model_id": "54fe07e3facb429dad9eed046b092cd9",
       "version_major": 2,
       "version_minor": 0
      },
      "text/plain": [
       "HBox(children=(IntProgress(value=0, max=66), HTML(value='')))"
      ]
     },
     "metadata": {},
     "output_type": "display_data"
    },
    {
     "name": "stdout",
     "output_type": "stream",
     "text": [
      "\n",
      "     pcost       dcost       gap    pres   dres\n",
      " 0:  5.3985e+02 -9.8893e+05  3e+06  8e-01  5e-13\n",
      " 1:  4.7802e+03 -3.5562e+05  5e+05  1e-01  4e-13\n",
      " 2:  2.9976e+03 -9.1327e+04  1e+05  2e-02  3e-13\n",
      " 3: -6.2913e+01 -2.4673e+04  3e+04  4e-03  2e-13\n",
      " 4: -1.0567e+03 -5.1035e+03  4e+03  5e-04  1e-13\n",
      " 5: -1.4064e+03 -3.9736e+03  3e+03  2e-04  2e-13\n",
      " 6: -1.5451e+03 -3.3769e+03  2e+03  1e-04  2e-13\n",
      " 7: -1.6630e+03 -2.7252e+03  1e+03  5e-05  2e-13\n",
      " 8: -1.7433e+03 -2.4005e+03  7e+02  7e-06  2e-13\n",
      " 9: -1.7923e+03 -2.1563e+03  4e+02  3e-06  2e-13\n",
      "10: -1.8463e+03 -2.0852e+03  2e+02  8e-07  3e-13\n",
      "11: -1.8807e+03 -2.0469e+03  2e+02  3e-07  3e-13\n",
      "12: -1.9137e+03 -1.9701e+03  6e+01  7e-08  2e-13\n",
      "13: -1.9314e+03 -1.9389e+03  7e+00  8e-09  3e-13\n",
      "14: -1.9332e+03 -1.9360e+03  3e+00  2e-09  2e-13\n",
      "15: -1.9343e+03 -1.9344e+03  5e-02  2e-11  2e-13\n",
      "16: -1.9343e+03 -1.9343e+03  5e-04  2e-13  3e-13\n",
      "Optimal solution found.\n",
      "\n",
      " Calculating prediction values\n"
     ]
    },
    {
     "data": {
      "application/vnd.jupyter.widget-view+json": {
       "model_id": "1a9c25b7139a4d66af0a77b1d56712e7",
       "version_major": 2,
       "version_minor": 0
      },
      "text/plain": [
       "HBox(children=(IntProgress(value=0, max=34), HTML(value='')))"
      ]
     },
     "metadata": {},
     "output_type": "display_data"
    },
    {
     "name": "stdout",
     "output_type": "stream",
     "text": [
      "\n",
      "fold is 1\n",
      "\n",
      " Calculating fullXmatrix\n"
     ]
    },
    {
     "data": {
      "application/vnd.jupyter.widget-view+json": {
       "model_id": "dfebf723d36b495aa2fe65b4b41ef0a2",
       "version_major": 2,
       "version_minor": 0
      },
      "text/plain": [
       "HBox(children=(IntProgress(value=0, max=67), HTML(value='')))"
      ]
     },
     "metadata": {},
     "output_type": "display_data"
    },
    {
     "name": "stdout",
     "output_type": "stream",
     "text": [
      "\n",
      "     pcost       dcost       gap    pres   dres\n",
      " 0: -1.1058e+02 -8.5923e+05  2e+06  7e-01  4e-13\n",
      " 1:  4.1882e+03 -2.7042e+05  4e+05  1e-01  4e-13\n",
      " 2:  3.5246e+03 -5.8806e+04  8e+04  2e-02  2e-13\n",
      " 3:  1.9740e+02 -1.5218e+04  2e+04  7e-04  1e-13\n",
      " 4: -9.4772e+02 -4.3612e+03  3e+03  8e-05  1e-13\n",
      " 5: -1.1807e+03 -3.4792e+03  2e+03  4e-05  1e-13\n",
      " 6: -1.3005e+03 -2.9510e+03  2e+03  2e-05  1e-13\n",
      " 7: -1.4127e+03 -2.2424e+03  8e+02  8e-06  1e-13\n",
      " 8: -1.4827e+03 -2.0636e+03  6e+02  4e-06  2e-13\n",
      " 9: -1.5504e+03 -1.8532e+03  3e+02  9e-07  2e-13\n",
      "10: -1.5894e+03 -1.7116e+03  1e+02  8e-08  1e-13\n",
      "11: -1.6134e+03 -1.6786e+03  7e+01  3e-08  2e-13\n",
      "12: -1.6367e+03 -1.6384e+03  2e+00  3e-10  2e-13\n",
      "13: -1.6373e+03 -1.6373e+03  2e-02  3e-12  2e-13\n",
      "14: -1.6373e+03 -1.6373e+03  2e-04  3e-14  2e-13\n",
      "Optimal solution found.\n",
      "\n",
      " Calculating prediction values\n"
     ]
    },
    {
     "data": {
      "application/vnd.jupyter.widget-view+json": {
       "model_id": "0a4524bbf09d476590a5179588ad8325",
       "version_major": 2,
       "version_minor": 0
      },
      "text/plain": [
       "HBox(children=(IntProgress(value=0, max=33), HTML(value='')))"
      ]
     },
     "metadata": {},
     "output_type": "display_data"
    },
    {
     "name": "stdout",
     "output_type": "stream",
     "text": [
      "\n",
      "fold is 2\n",
      "\n",
      " Calculating fullXmatrix\n"
     ]
    },
    {
     "data": {
      "application/vnd.jupyter.widget-view+json": {
       "model_id": "d8d4a4e1d7d24e1baa59b3b1ebd5c3f6",
       "version_major": 2,
       "version_minor": 0
      },
      "text/plain": [
       "HBox(children=(IntProgress(value=0, max=67), HTML(value='')))"
      ]
     },
     "metadata": {},
     "output_type": "display_data"
    },
    {
     "name": "stdout",
     "output_type": "stream",
     "text": [
      "\n",
      "     pcost       dcost       gap    pres   dres\n",
      " 0: -8.1573e+02 -1.1681e+06  3e+06  9e-01  5e-13\n",
      " 1:  4.1017e+03 -4.8066e+05  7e+05  1e-01  1e-12\n",
      " 2:  3.9473e+03 -1.1032e+05  1e+05  3e-02  3e-13\n",
      " 3: -4.9779e+02 -2.0104e+04  2e+04  2e-03  1e-13\n",
      " 4: -1.3343e+03 -6.7583e+03  5e+03  5e-04  1e-13\n",
      " 5: -1.5561e+03 -4.6350e+03  3e+03  2e-04  2e-13\n",
      " 6: -1.7419e+03 -3.3969e+03  2e+03  5e-05  2e-13\n",
      " 7: -1.8349e+03 -3.1049e+03  1e+03  3e-05  2e-13\n",
      " 8: -2.0239e+03 -2.6697e+03  6e+02  1e-05  2e-13\n",
      " 9: -2.1100e+03 -2.4739e+03  4e+02  5e-06  2e-13\n",
      "10: -2.1758e+03 -2.3537e+03  2e+02  2e-06  2e-13\n",
      "11: -2.2013e+03 -2.3008e+03  1e+02  8e-07  2e-13\n",
      "12: -2.2187e+03 -2.2591e+03  4e+01  2e-07  2e-13\n",
      "13: -2.2256e+03 -2.2494e+03  2e+01  8e-08  2e-13\n",
      "14: -2.2351e+03 -2.2370e+03  2e+00  6e-09  3e-13\n",
      "15: -2.2359e+03 -2.2359e+03  3e-02  8e-11  3e-13\n",
      "16: -2.2359e+03 -2.2359e+03  3e-04  8e-13  2e-13\n",
      "Optimal solution found.\n",
      "\n",
      " Calculating prediction values\n"
     ]
    },
    {
     "data": {
      "application/vnd.jupyter.widget-view+json": {
       "model_id": "b2443c7b75ef426289620cb2b29fc3c3",
       "version_major": 2,
       "version_minor": 0
      },
      "text/plain": [
       "HBox(children=(IntProgress(value=0, max=33), HTML(value='')))"
      ]
     },
     "metadata": {},
     "output_type": "display_data"
    },
    {
     "name": "stdout",
     "output_type": "stream",
     "text": [
      "\n",
      "fold is 0\n",
      "\n",
      " Calculating fullXmatrix\n"
     ]
    },
    {
     "data": {
      "application/vnd.jupyter.widget-view+json": {
       "model_id": "d3a2bae1a86647e6866ef55c68cc75da",
       "version_major": 2,
       "version_minor": 0
      },
      "text/plain": [
       "HBox(children=(IntProgress(value=0, max=66), HTML(value='')))"
      ]
     },
     "metadata": {},
     "output_type": "display_data"
    },
    {
     "name": "stdout",
     "output_type": "stream",
     "text": [
      "\n",
      "     pcost       dcost       gap    pres   dres\n",
      " 0:  5.3985e+02 -9.8893e+05  3e+06  8e-01  5e-13\n",
      " 1:  4.7802e+03 -3.5562e+05  5e+05  1e-01  4e-13\n",
      " 2:  2.9976e+03 -9.1327e+04  1e+05  2e-02  3e-13\n",
      " 3: -6.2913e+01 -2.4673e+04  3e+04  4e-03  2e-13\n",
      " 4: -1.0567e+03 -5.1035e+03  4e+03  5e-04  1e-13\n",
      " 5: -1.4064e+03 -3.9736e+03  3e+03  2e-04  2e-13\n",
      " 6: -1.5451e+03 -3.3769e+03  2e+03  1e-04  2e-13\n",
      " 7: -1.6630e+03 -2.7252e+03  1e+03  5e-05  2e-13\n",
      " 8: -1.7433e+03 -2.4005e+03  7e+02  7e-06  2e-13\n",
      " 9: -1.7923e+03 -2.1563e+03  4e+02  3e-06  2e-13\n",
      "10: -1.8463e+03 -2.0852e+03  2e+02  8e-07  3e-13\n",
      "11: -1.8807e+03 -2.0469e+03  2e+02  3e-07  3e-13\n",
      "12: -1.9137e+03 -1.9701e+03  6e+01  7e-08  2e-13\n",
      "13: -1.9314e+03 -1.9389e+03  7e+00  8e-09  3e-13\n",
      "14: -1.9332e+03 -1.9360e+03  3e+00  2e-09  2e-13\n",
      "15: -1.9343e+03 -1.9344e+03  5e-02  2e-11  2e-13\n",
      "16: -1.9343e+03 -1.9343e+03  5e-04  2e-13  3e-13\n",
      "Optimal solution found.\n",
      "\n",
      " Calculating prediction values\n"
     ]
    },
    {
     "data": {
      "application/vnd.jupyter.widget-view+json": {
       "model_id": "0d30adfc7df3498c9ee9dd18a9d3d27f",
       "version_major": 2,
       "version_minor": 0
      },
      "text/plain": [
       "HBox(children=(IntProgress(value=0, max=34), HTML(value='')))"
      ]
     },
     "metadata": {},
     "output_type": "display_data"
    },
    {
     "name": "stdout",
     "output_type": "stream",
     "text": [
      "\n",
      "fold is 1\n",
      "\n",
      " Calculating fullXmatrix\n"
     ]
    },
    {
     "data": {
      "application/vnd.jupyter.widget-view+json": {
       "model_id": "ffdda74a74d843cb867ae40b46b18e84",
       "version_major": 2,
       "version_minor": 0
      },
      "text/plain": [
       "HBox(children=(IntProgress(value=0, max=67), HTML(value='')))"
      ]
     },
     "metadata": {},
     "output_type": "display_data"
    },
    {
     "name": "stdout",
     "output_type": "stream",
     "text": [
      "\n",
      "     pcost       dcost       gap    pres   dres\n",
      " 0: -1.1058e+02 -8.5923e+05  2e+06  7e-01  4e-13\n",
      " 1:  4.1882e+03 -2.7042e+05  4e+05  1e-01  4e-13\n",
      " 2:  3.5246e+03 -5.8806e+04  8e+04  2e-02  2e-13\n",
      " 3:  1.9740e+02 -1.5218e+04  2e+04  7e-04  1e-13\n",
      " 4: -9.4772e+02 -4.3612e+03  3e+03  8e-05  1e-13\n",
      " 5: -1.1807e+03 -3.4792e+03  2e+03  4e-05  1e-13\n",
      " 6: -1.3005e+03 -2.9510e+03  2e+03  2e-05  1e-13\n",
      " 7: -1.4127e+03 -2.2424e+03  8e+02  8e-06  1e-13\n",
      " 8: -1.4827e+03 -2.0636e+03  6e+02  4e-06  2e-13\n",
      " 9: -1.5504e+03 -1.8532e+03  3e+02  9e-07  2e-13\n",
      "10: -1.5894e+03 -1.7116e+03  1e+02  8e-08  1e-13\n",
      "11: -1.6134e+03 -1.6786e+03  7e+01  3e-08  2e-13\n",
      "12: -1.6367e+03 -1.6384e+03  2e+00  3e-10  2e-13\n",
      "13: -1.6373e+03 -1.6373e+03  2e-02  3e-12  2e-13\n",
      "14: -1.6373e+03 -1.6373e+03  2e-04  3e-14  2e-13\n",
      "Optimal solution found.\n",
      "\n",
      " Calculating prediction values\n"
     ]
    },
    {
     "data": {
      "application/vnd.jupyter.widget-view+json": {
       "model_id": "b51d85c70b854088baef08a00d35bfe3",
       "version_major": 2,
       "version_minor": 0
      },
      "text/plain": [
       "HBox(children=(IntProgress(value=0, max=33), HTML(value='')))"
      ]
     },
     "metadata": {},
     "output_type": "display_data"
    },
    {
     "name": "stdout",
     "output_type": "stream",
     "text": [
      "\n",
      "fold is 2\n",
      "\n",
      " Calculating fullXmatrix\n"
     ]
    },
    {
     "data": {
      "application/vnd.jupyter.widget-view+json": {
       "model_id": "1f0a178944564ebab71084a7d62c88bb",
       "version_major": 2,
       "version_minor": 0
      },
      "text/plain": [
       "HBox(children=(IntProgress(value=0, max=67), HTML(value='')))"
      ]
     },
     "metadata": {},
     "output_type": "display_data"
    },
    {
     "name": "stdout",
     "output_type": "stream",
     "text": [
      "\n",
      "     pcost       dcost       gap    pres   dres\n",
      " 0: -8.1573e+02 -1.1681e+06  3e+06  9e-01  5e-13\n",
      " 1:  4.1017e+03 -4.8066e+05  7e+05  1e-01  1e-12\n",
      " 2:  3.9473e+03 -1.1032e+05  1e+05  3e-02  3e-13\n",
      " 3: -4.9779e+02 -2.0104e+04  2e+04  2e-03  1e-13\n",
      " 4: -1.3343e+03 -6.7583e+03  5e+03  5e-04  1e-13\n",
      " 5: -1.5561e+03 -4.6350e+03  3e+03  2e-04  2e-13\n",
      " 6: -1.7419e+03 -3.3969e+03  2e+03  5e-05  2e-13\n",
      " 7: -1.8349e+03 -3.1049e+03  1e+03  3e-05  2e-13\n",
      " 8: -2.0239e+03 -2.6697e+03  6e+02  1e-05  2e-13\n",
      " 9: -2.1100e+03 -2.4739e+03  4e+02  5e-06  2e-13\n",
      "10: -2.1758e+03 -2.3537e+03  2e+02  2e-06  2e-13\n",
      "11: -2.2013e+03 -2.3008e+03  1e+02  8e-07  2e-13\n",
      "12: -2.2187e+03 -2.2591e+03  4e+01  2e-07  2e-13\n",
      "13: -2.2256e+03 -2.2494e+03  2e+01  8e-08  2e-13\n",
      "14: -2.2351e+03 -2.2370e+03  2e+00  6e-09  3e-13\n",
      "15: -2.2359e+03 -2.2359e+03  3e-02  8e-11  3e-13\n",
      "16: -2.2359e+03 -2.2359e+03  3e-04  8e-13  2e-13\n",
      "Optimal solution found.\n",
      "\n",
      " Calculating prediction values\n"
     ]
    },
    {
     "data": {
      "application/vnd.jupyter.widget-view+json": {
       "model_id": "2230dc4b46e94e50aa8af77178978ff2",
       "version_major": 2,
       "version_minor": 0
      },
      "text/plain": [
       "HBox(children=(IntProgress(value=0, max=33), HTML(value='')))"
      ]
     },
     "metadata": {},
     "output_type": "display_data"
    },
    {
     "name": "stdout",
     "output_type": "stream",
     "text": [
      "\n",
      "fold is 0\n",
      "\n",
      " Calculating fullXmatrix\n"
     ]
    },
    {
     "data": {
      "application/vnd.jupyter.widget-view+json": {
       "model_id": "7aa6e0b9799b4cda9722ad05a5ef88a8",
       "version_major": 2,
       "version_minor": 0
      },
      "text/plain": [
       "HBox(children=(IntProgress(value=0, max=66), HTML(value='')))"
      ]
     },
     "metadata": {},
     "output_type": "display_data"
    },
    {
     "name": "stdout",
     "output_type": "stream",
     "text": [
      "\n",
      "     pcost       dcost       gap    pres   dres\n",
      " 0:  5.3985e+02 -9.8893e+05  3e+06  8e-01  5e-13\n",
      " 1:  4.7802e+03 -3.5562e+05  5e+05  1e-01  4e-13\n",
      " 2:  2.9976e+03 -9.1327e+04  1e+05  2e-02  3e-13\n",
      " 3: -6.2913e+01 -2.4673e+04  3e+04  4e-03  2e-13\n",
      " 4: -1.0567e+03 -5.1035e+03  4e+03  5e-04  1e-13\n",
      " 5: -1.4064e+03 -3.9736e+03  3e+03  2e-04  2e-13\n",
      " 6: -1.5451e+03 -3.3769e+03  2e+03  1e-04  2e-13\n",
      " 7: -1.6630e+03 -2.7252e+03  1e+03  5e-05  2e-13\n",
      " 8: -1.7433e+03 -2.4005e+03  7e+02  7e-06  2e-13\n",
      " 9: -1.7923e+03 -2.1563e+03  4e+02  3e-06  2e-13\n",
      "10: -1.8463e+03 -2.0852e+03  2e+02  8e-07  3e-13\n",
      "11: -1.8807e+03 -2.0469e+03  2e+02  3e-07  3e-13\n",
      "12: -1.9137e+03 -1.9701e+03  6e+01  7e-08  2e-13\n",
      "13: -1.9314e+03 -1.9389e+03  7e+00  8e-09  3e-13\n",
      "14: -1.9332e+03 -1.9360e+03  3e+00  2e-09  2e-13\n",
      "15: -1.9343e+03 -1.9344e+03  5e-02  2e-11  2e-13\n",
      "16: -1.9343e+03 -1.9343e+03  5e-04  2e-13  3e-13\n",
      "Optimal solution found.\n",
      "\n",
      " Calculating prediction values\n"
     ]
    },
    {
     "data": {
      "application/vnd.jupyter.widget-view+json": {
       "model_id": "1e0f45343b8f4b2abb60d63afa5e0eaf",
       "version_major": 2,
       "version_minor": 0
      },
      "text/plain": [
       "HBox(children=(IntProgress(value=0, max=34), HTML(value='')))"
      ]
     },
     "metadata": {},
     "output_type": "display_data"
    },
    {
     "name": "stdout",
     "output_type": "stream",
     "text": [
      "\n",
      "fold is 1\n",
      "\n",
      " Calculating fullXmatrix\n"
     ]
    },
    {
     "data": {
      "application/vnd.jupyter.widget-view+json": {
       "model_id": "744d5afa7fb64a489dcb42489455ddf2",
       "version_major": 2,
       "version_minor": 0
      },
      "text/plain": [
       "HBox(children=(IntProgress(value=0, max=67), HTML(value='')))"
      ]
     },
     "metadata": {},
     "output_type": "display_data"
    },
    {
     "name": "stdout",
     "output_type": "stream",
     "text": [
      "\n",
      "     pcost       dcost       gap    pres   dres\n",
      " 0: -1.1058e+02 -8.5923e+05  2e+06  7e-01  4e-13\n",
      " 1:  4.1882e+03 -2.7042e+05  4e+05  1e-01  4e-13\n",
      " 2:  3.5246e+03 -5.8806e+04  8e+04  2e-02  2e-13\n",
      " 3:  1.9740e+02 -1.5218e+04  2e+04  7e-04  1e-13\n",
      " 4: -9.4772e+02 -4.3612e+03  3e+03  8e-05  1e-13\n",
      " 5: -1.1807e+03 -3.4792e+03  2e+03  4e-05  1e-13\n",
      " 6: -1.3005e+03 -2.9510e+03  2e+03  2e-05  1e-13\n",
      " 7: -1.4127e+03 -2.2424e+03  8e+02  8e-06  1e-13\n",
      " 8: -1.4827e+03 -2.0636e+03  6e+02  4e-06  2e-13\n",
      " 9: -1.5504e+03 -1.8532e+03  3e+02  9e-07  2e-13\n",
      "10: -1.5894e+03 -1.7116e+03  1e+02  8e-08  1e-13\n",
      "11: -1.6134e+03 -1.6786e+03  7e+01  3e-08  2e-13\n",
      "12: -1.6367e+03 -1.6384e+03  2e+00  3e-10  2e-13\n",
      "13: -1.6373e+03 -1.6373e+03  2e-02  3e-12  2e-13\n",
      "14: -1.6373e+03 -1.6373e+03  2e-04  3e-14  2e-13\n",
      "Optimal solution found.\n",
      "\n",
      " Calculating prediction values\n"
     ]
    },
    {
     "data": {
      "application/vnd.jupyter.widget-view+json": {
       "model_id": "f7be8bc683c54f368cdfb80c69c8ad82",
       "version_major": 2,
       "version_minor": 0
      },
      "text/plain": [
       "HBox(children=(IntProgress(value=0, max=33), HTML(value='')))"
      ]
     },
     "metadata": {},
     "output_type": "display_data"
    },
    {
     "name": "stdout",
     "output_type": "stream",
     "text": [
      "\n",
      "fold is 2\n",
      "\n",
      " Calculating fullXmatrix\n"
     ]
    },
    {
     "data": {
      "application/vnd.jupyter.widget-view+json": {
       "model_id": "d306cc1c8d82412aa655beec79ef2546",
       "version_major": 2,
       "version_minor": 0
      },
      "text/plain": [
       "HBox(children=(IntProgress(value=0, max=67), HTML(value='')))"
      ]
     },
     "metadata": {},
     "output_type": "display_data"
    },
    {
     "name": "stdout",
     "output_type": "stream",
     "text": [
      "\n",
      "     pcost       dcost       gap    pres   dres\n",
      " 0: -8.1573e+02 -1.1681e+06  3e+06  9e-01  5e-13\n",
      " 1:  4.1017e+03 -4.8066e+05  7e+05  1e-01  1e-12\n",
      " 2:  3.9473e+03 -1.1032e+05  1e+05  3e-02  3e-13\n",
      " 3: -4.9779e+02 -2.0104e+04  2e+04  2e-03  1e-13\n",
      " 4: -1.3343e+03 -6.7583e+03  5e+03  5e-04  1e-13\n",
      " 5: -1.5561e+03 -4.6350e+03  3e+03  2e-04  2e-13\n",
      " 6: -1.7419e+03 -3.3969e+03  2e+03  5e-05  2e-13\n",
      " 7: -1.8349e+03 -3.1049e+03  1e+03  3e-05  2e-13\n",
      " 8: -2.0239e+03 -2.6697e+03  6e+02  1e-05  2e-13\n",
      " 9: -2.1100e+03 -2.4739e+03  4e+02  5e-06  2e-13\n",
      "10: -2.1758e+03 -2.3537e+03  2e+02  2e-06  2e-13\n",
      "11: -2.2013e+03 -2.3008e+03  1e+02  8e-07  2e-13\n",
      "12: -2.2187e+03 -2.2591e+03  4e+01  2e-07  2e-13\n",
      "13: -2.2256e+03 -2.2494e+03  2e+01  8e-08  2e-13\n",
      "14: -2.2351e+03 -2.2370e+03  2e+00  6e-09  3e-13\n",
      "15: -2.2359e+03 -2.2359e+03  3e-02  8e-11  3e-13\n",
      "16: -2.2359e+03 -2.2359e+03  3e-04  8e-13  2e-13\n",
      "Optimal solution found.\n",
      "\n",
      " Calculating prediction values\n"
     ]
    },
    {
     "data": {
      "application/vnd.jupyter.widget-view+json": {
       "model_id": "418201b5da724775a99050f671f5afe5",
       "version_major": 2,
       "version_minor": 0
      },
      "text/plain": [
       "HBox(children=(IntProgress(value=0, max=33), HTML(value='')))"
      ]
     },
     "metadata": {},
     "output_type": "display_data"
    },
    {
     "name": "stdout",
     "output_type": "stream",
     "text": [
      "\n",
      "fold is 0\n",
      "\n",
      " Calculating fullXmatrix\n"
     ]
    },
    {
     "data": {
      "application/vnd.jupyter.widget-view+json": {
       "model_id": "b725ec605ad9435f807abd4e0d970de5",
       "version_major": 2,
       "version_minor": 0
      },
      "text/plain": [
       "HBox(children=(IntProgress(value=0, max=66), HTML(value='')))"
      ]
     },
     "metadata": {},
     "output_type": "display_data"
    },
    {
     "name": "stdout",
     "output_type": "stream",
     "text": [
      "\n",
      "\n",
      " Calculating Kernalized Product\n"
     ]
    },
    {
     "data": {
      "application/vnd.jupyter.widget-view+json": {
       "model_id": "fbb2ca2c55af4a518bf5bbc1eed79cd4",
       "version_major": 2,
       "version_minor": 0
      },
      "text/plain": [
       "HBox(children=(IntProgress(value=0, max=66), HTML(value='')))"
      ]
     },
     "metadata": {},
     "output_type": "display_data"
    },
    {
     "name": "stdout",
     "output_type": "stream",
     "text": [
      "\n",
      "\n",
      " Calculating Kernalized Product\n"
     ]
    },
    {
     "data": {
      "application/vnd.jupyter.widget-view+json": {
       "model_id": "e9ec74b334ee4e80ae6fe35c364816cd",
       "version_major": 2,
       "version_minor": 0
      },
      "text/plain": [
       "HBox(children=(IntProgress(value=0, max=132), HTML(value='')))"
      ]
     },
     "metadata": {},
     "output_type": "display_data"
    },
    {
     "name": "stdout",
     "output_type": "stream",
     "text": [
      "\n",
      "\n",
      " Calculating Kernalized Product\n"
     ]
    },
    {
     "data": {
      "application/vnd.jupyter.widget-view+json": {
       "model_id": "1d34be21e9a541eaa72370777a968311",
       "version_major": 2,
       "version_minor": 0
      },
      "text/plain": [
       "HBox(children=(IntProgress(value=0, max=132), HTML(value='')))"
      ]
     },
     "metadata": {},
     "output_type": "display_data"
    },
    {
     "name": "stdout",
     "output_type": "stream",
     "text": [
      "\n",
      "     pcost       dcost       gap    pres   dres\n",
      " 0: -2.7559e-03 -2.7354e-03  3e+02  2e+01  3e-13\n",
      " 1: -2.7489e-03 -2.7042e-03  3e+00  2e-01  1e-13\n",
      " 2: -2.5936e-03 -2.0930e-03  1e-01  8e-03  2e-13\n",
      " 3: -1.0927e-03 -4.2191e-04  1e-02  7e-04  7e-14\n",
      " 4: -2.4977e-04 -5.3748e-05  1e-03  8e-05  3e-14\n",
      " 5: -4.6732e-05 -5.1783e-06  2e-04  1e-05  7e-15\n",
      " 6: -7.7675e-06 -3.2952e-07  3e-05  2e-06  2e-15\n",
      " 7: -6.6688e-07 -2.0172e-08  2e-06  1e-07  2e-15\n",
      " 8: -2.7674e-08 -6.8659e-12  3e-07  1e-08  1e-15\n",
      " 9: -2.7913e-10 -7.1222e-16  3e-09  1e-10  6e-16\n",
      "Optimal solution found.\n",
      "\n",
      " Calculating prediction values\n"
     ]
    },
    {
     "data": {
      "application/vnd.jupyter.widget-view+json": {
       "model_id": "4c0ea4deeb2a40799dbbfe6bff0b683b",
       "version_major": 2,
       "version_minor": 0
      },
      "text/plain": [
       "HBox(children=(IntProgress(value=0, max=34), HTML(value='')))"
      ]
     },
     "metadata": {},
     "output_type": "display_data"
    },
    {
     "name": "stdout",
     "output_type": "stream",
     "text": [
      "\n",
      "fold is 1\n",
      "\n",
      " Calculating fullXmatrix\n"
     ]
    },
    {
     "data": {
      "application/vnd.jupyter.widget-view+json": {
       "model_id": "de94337bba2b47c5bc3c2c1a64d0a24e",
       "version_major": 2,
       "version_minor": 0
      },
      "text/plain": [
       "HBox(children=(IntProgress(value=0, max=67), HTML(value='')))"
      ]
     },
     "metadata": {},
     "output_type": "display_data"
    },
    {
     "name": "stdout",
     "output_type": "stream",
     "text": [
      "\n",
      "\n",
      " Calculating Kernalized Product\n"
     ]
    },
    {
     "data": {
      "application/vnd.jupyter.widget-view+json": {
       "model_id": "476b2c0f75484818bd91d88894ae8070",
       "version_major": 2,
       "version_minor": 0
      },
      "text/plain": [
       "HBox(children=(IntProgress(value=0, max=67), HTML(value='')))"
      ]
     },
     "metadata": {},
     "output_type": "display_data"
    },
    {
     "name": "stdout",
     "output_type": "stream",
     "text": [
      "\n",
      "\n",
      " Calculating Kernalized Product\n"
     ]
    },
    {
     "data": {
      "application/vnd.jupyter.widget-view+json": {
       "model_id": "62619cb72e31481db7c2e6e61edb6113",
       "version_major": 2,
       "version_minor": 0
      },
      "text/plain": [
       "HBox(children=(IntProgress(value=0, max=134), HTML(value='')))"
      ]
     },
     "metadata": {},
     "output_type": "display_data"
    },
    {
     "name": "stdout",
     "output_type": "stream",
     "text": [
      "\n",
      "\n",
      " Calculating Kernalized Product\n"
     ]
    },
    {
     "data": {
      "application/vnd.jupyter.widget-view+json": {
       "model_id": "750661efb19542e687affa5ceb3002e0",
       "version_major": 2,
       "version_minor": 0
      },
      "text/plain": [
       "HBox(children=(IntProgress(value=0, max=134), HTML(value='')))"
      ]
     },
     "metadata": {},
     "output_type": "display_data"
    },
    {
     "name": "stdout",
     "output_type": "stream",
     "text": [
      "\n",
      "     pcost       dcost       gap    pres   dres\n",
      " 0: -2.7555e-03 -2.7295e-03  3e+02  2e+01  7e-14\n",
      " 1: -2.7463e-03 -2.6901e-03  3e+00  2e-01  8e-14\n",
      " 2: -2.5536e-03 -2.0778e-03  1e-01  8e-03  4e-14\n",
      " 3: -1.3095e-03 -4.6880e-04  2e-02  1e-03  2e-14\n",
      " 4: -2.6518e-04 -7.2437e-05  1e-03  8e-05  1e-14\n",
      " 5: -3.9323e-05 -3.6899e-06  2e-04  9e-06  2e-15\n",
      " 6: -5.0988e-06 -2.4733e-07  2e-05  1e-06  2e-15\n",
      " 7: -6.4287e-07 -1.7021e-08  3e-06  2e-07  1e-15\n",
      " 8: -6.8474e-09 -5.5986e-13  6e-08  3e-09  1e-15\n",
      "Optimal solution found.\n",
      "\n",
      " Calculating prediction values\n"
     ]
    },
    {
     "data": {
      "application/vnd.jupyter.widget-view+json": {
       "model_id": "8cdad2e4ac864e3d80f2c320c3a6ec72",
       "version_major": 2,
       "version_minor": 0
      },
      "text/plain": [
       "HBox(children=(IntProgress(value=0, max=33), HTML(value='')))"
      ]
     },
     "metadata": {},
     "output_type": "display_data"
    },
    {
     "name": "stdout",
     "output_type": "stream",
     "text": [
      "\n",
      "fold is 2\n",
      "\n",
      " Calculating fullXmatrix\n"
     ]
    },
    {
     "data": {
      "application/vnd.jupyter.widget-view+json": {
       "model_id": "cbb3f3df5f5a45a89a43e3d0cc038801",
       "version_major": 2,
       "version_minor": 0
      },
      "text/plain": [
       "HBox(children=(IntProgress(value=0, max=67), HTML(value='')))"
      ]
     },
     "metadata": {},
     "output_type": "display_data"
    },
    {
     "name": "stdout",
     "output_type": "stream",
     "text": [
      "\n",
      "\n",
      " Calculating Kernalized Product\n"
     ]
    },
    {
     "data": {
      "application/vnd.jupyter.widget-view+json": {
       "model_id": "203936582afc443ea32edc1b14b9d696",
       "version_major": 2,
       "version_minor": 0
      },
      "text/plain": [
       "HBox(children=(IntProgress(value=0, max=67), HTML(value='')))"
      ]
     },
     "metadata": {},
     "output_type": "display_data"
    },
    {
     "name": "stdout",
     "output_type": "stream",
     "text": [
      "\n",
      "\n",
      " Calculating Kernalized Product\n"
     ]
    },
    {
     "data": {
      "application/vnd.jupyter.widget-view+json": {
       "model_id": "0e0adee3efaa4cf9be5b405b20ca99f4",
       "version_major": 2,
       "version_minor": 0
      },
      "text/plain": [
       "HBox(children=(IntProgress(value=0, max=134), HTML(value='')))"
      ]
     },
     "metadata": {},
     "output_type": "display_data"
    },
    {
     "name": "stdout",
     "output_type": "stream",
     "text": [
      "\n",
      "\n",
      " Calculating Kernalized Product\n"
     ]
    },
    {
     "data": {
      "application/vnd.jupyter.widget-view+json": {
       "model_id": "b8d10a5cec1c470887fdfd475fbd3803",
       "version_major": 2,
       "version_minor": 0
      },
      "text/plain": [
       "HBox(children=(IntProgress(value=0, max=134), HTML(value='')))"
      ]
     },
     "metadata": {},
     "output_type": "display_data"
    },
    {
     "name": "stdout",
     "output_type": "stream",
     "text": [
      "\n",
      "     pcost       dcost       gap    pres   dres\n",
      " 0: -2.7360e-03 -2.6842e-03  3e+02  2e+01  5e-13\n",
      " 1: -2.6935e-03 -2.6447e-03  3e+00  2e-01  2e-13\n",
      " 2: -2.5302e-03 -2.0907e-03  1e-01  7e-03  2e-13\n",
      " 3: -1.1684e-03 -4.3884e-04  1e-02  7e-04  1e-13\n",
      " 4: -2.2559e-04 -5.0381e-05  1e-03  7e-05  2e-14\n",
      " 5: -4.2988e-05 -3.9956e-06  2e-04  9e-06  4e-15\n",
      " 6: -3.4186e-06 -1.4471e-07  1e-05  8e-07  3e-15\n",
      " 7: -3.8757e-07 -9.9859e-09  2e-06  1e-07  1e-15\n",
      " 8: -6.8762e-09 -4.2293e-13  1e-07  6e-09  1e-15\n",
      " 9: -6.8861e-11 -4.2622e-17  1e-09  6e-11  5e-16\n",
      "Optimal solution found.\n",
      "\n",
      " Calculating prediction values\n"
     ]
    },
    {
     "data": {
      "application/vnd.jupyter.widget-view+json": {
       "model_id": "fa35ec6525f1432b9b7520c7ab4afe73",
       "version_major": 2,
       "version_minor": 0
      },
      "text/plain": [
       "HBox(children=(IntProgress(value=0, max=33), HTML(value='')))"
      ]
     },
     "metadata": {},
     "output_type": "display_data"
    },
    {
     "name": "stdout",
     "output_type": "stream",
     "text": [
      "\n",
      "fold is 0\n",
      "\n",
      " Calculating fullXmatrix\n"
     ]
    },
    {
     "data": {
      "application/vnd.jupyter.widget-view+json": {
       "model_id": "db518eba45d14dc88041657a7930aec1",
       "version_major": 2,
       "version_minor": 0
      },
      "text/plain": [
       "HBox(children=(IntProgress(value=0, max=66), HTML(value='')))"
      ]
     },
     "metadata": {},
     "output_type": "display_data"
    },
    {
     "name": "stdout",
     "output_type": "stream",
     "text": [
      "\n",
      "\n",
      " Calculating Kernalized Product\n"
     ]
    },
    {
     "data": {
      "application/vnd.jupyter.widget-view+json": {
       "model_id": "6647d2d9c3794de3948be666516a90c4",
       "version_major": 2,
       "version_minor": 0
      },
      "text/plain": [
       "HBox(children=(IntProgress(value=0, max=66), HTML(value='')))"
      ]
     },
     "metadata": {},
     "output_type": "display_data"
    },
    {
     "name": "stdout",
     "output_type": "stream",
     "text": [
      "\n",
      "\n",
      " Calculating Kernalized Product\n"
     ]
    },
    {
     "data": {
      "application/vnd.jupyter.widget-view+json": {
       "model_id": "7c3997371a4945d882c0f07edc3191e0",
       "version_major": 2,
       "version_minor": 0
      },
      "text/plain": [
       "HBox(children=(IntProgress(value=0, max=132), HTML(value='')))"
      ]
     },
     "metadata": {},
     "output_type": "display_data"
    },
    {
     "name": "stdout",
     "output_type": "stream",
     "text": [
      "\n",
      "\n",
      " Calculating Kernalized Product\n"
     ]
    },
    {
     "data": {
      "application/vnd.jupyter.widget-view+json": {
       "model_id": "be9de468772d45438147bcf0954c26c0",
       "version_major": 2,
       "version_minor": 0
      },
      "text/plain": [
       "HBox(children=(IntProgress(value=0, max=132), HTML(value='')))"
      ]
     },
     "metadata": {},
     "output_type": "display_data"
    },
    {
     "name": "stdout",
     "output_type": "stream",
     "text": [
      "\n",
      "     pcost       dcost       gap    pres   dres\n",
      " 0: -2.7559e-03 -2.7354e-03  3e+02  2e+01  3e-13\n",
      " 1: -2.7489e-03 -2.7042e-03  3e+00  2e-01  1e-13\n",
      " 2: -2.5936e-03 -2.0930e-03  1e-01  8e-03  2e-13\n",
      " 3: -1.0927e-03 -4.2191e-04  1e-02  7e-04  7e-14\n",
      " 4: -2.4977e-04 -5.3748e-05  1e-03  8e-05  3e-14\n",
      " 5: -4.6732e-05 -5.1783e-06  2e-04  1e-05  7e-15\n",
      " 6: -7.7675e-06 -3.2952e-07  3e-05  2e-06  2e-15\n",
      " 7: -6.6688e-07 -2.0172e-08  2e-06  1e-07  2e-15\n",
      " 8: -2.7674e-08 -6.8659e-12  3e-07  1e-08  1e-15\n",
      " 9: -2.7913e-10 -7.1222e-16  3e-09  1e-10  6e-16\n",
      "Optimal solution found.\n",
      "\n",
      " Calculating prediction values\n"
     ]
    },
    {
     "data": {
      "application/vnd.jupyter.widget-view+json": {
       "model_id": "1b75c5bfb55441ef813b83a56e7f8096",
       "version_major": 2,
       "version_minor": 0
      },
      "text/plain": [
       "HBox(children=(IntProgress(value=0, max=34), HTML(value='')))"
      ]
     },
     "metadata": {},
     "output_type": "display_data"
    },
    {
     "name": "stdout",
     "output_type": "stream",
     "text": [
      "\n",
      "fold is 1\n",
      "\n",
      " Calculating fullXmatrix\n"
     ]
    },
    {
     "data": {
      "application/vnd.jupyter.widget-view+json": {
       "model_id": "5cce402a35ff4027a6c6981530ef95ea",
       "version_major": 2,
       "version_minor": 0
      },
      "text/plain": [
       "HBox(children=(IntProgress(value=0, max=67), HTML(value='')))"
      ]
     },
     "metadata": {},
     "output_type": "display_data"
    },
    {
     "name": "stdout",
     "output_type": "stream",
     "text": [
      "\n",
      "\n",
      " Calculating Kernalized Product\n"
     ]
    },
    {
     "data": {
      "application/vnd.jupyter.widget-view+json": {
       "model_id": "44fab5f6f031418eb96c3e401732bc42",
       "version_major": 2,
       "version_minor": 0
      },
      "text/plain": [
       "HBox(children=(IntProgress(value=0, max=67), HTML(value='')))"
      ]
     },
     "metadata": {},
     "output_type": "display_data"
    },
    {
     "name": "stdout",
     "output_type": "stream",
     "text": [
      "\n",
      "\n",
      " Calculating Kernalized Product\n"
     ]
    },
    {
     "data": {
      "application/vnd.jupyter.widget-view+json": {
       "model_id": "7bc3c74c1e6447efb447e7873cb254d0",
       "version_major": 2,
       "version_minor": 0
      },
      "text/plain": [
       "HBox(children=(IntProgress(value=0, max=134), HTML(value='')))"
      ]
     },
     "metadata": {},
     "output_type": "display_data"
    },
    {
     "name": "stdout",
     "output_type": "stream",
     "text": [
      "\n"
     ]
    },
    {
     "ename": "KeyboardInterrupt",
     "evalue": "",
     "output_type": "error",
     "traceback": [
      "\u001b[1;31m---------------------------------------------------------------------------\u001b[0m",
      "\u001b[1;31mKeyboardInterrupt\u001b[0m                         Traceback (most recent call last)",
      "\u001b[1;32m<ipython-input-154-91c543bf71f2>\u001b[0m in \u001b[0;36m<module>\u001b[1;34m\u001b[0m\n\u001b[0;32m      1\u001b[0m \u001b[0mnum_folds\u001b[0m \u001b[1;33m=\u001b[0m \u001b[1;36m3\u001b[0m\u001b[1;33m\u001b[0m\u001b[1;33m\u001b[0m\u001b[0m\n\u001b[0;32m      2\u001b[0m \u001b[0mclassifier\u001b[0m \u001b[1;33m=\u001b[0m \u001b[0ma1\u001b[0m\u001b[1;33m\u001b[0m\u001b[1;33m\u001b[0m\u001b[0m\n\u001b[1;32m----> 3\u001b[1;33m \u001b[0mperformCrossValidation\u001b[0m\u001b[1;33m(\u001b[0m\u001b[0mX1\u001b[0m\u001b[1;33m,\u001b[0m\u001b[0mY1\u001b[0m\u001b[1;33m,\u001b[0m\u001b[0mnum_folds\u001b[0m\u001b[1;33m,\u001b[0m\u001b[0mclassifier\u001b[0m\u001b[1;33m,\u001b[0m\u001b[0mkernel\u001b[0m\u001b[1;33m,\u001b[0m\u001b[0mdegree\u001b[0m\u001b[1;33m,\u001b[0m\u001b[0msigma\u001b[0m\u001b[1;33m)\u001b[0m\u001b[1;33m\u001b[0m\u001b[1;33m\u001b[0m\u001b[0m\n\u001b[0m",
      "\u001b[1;32m<ipython-input-153-3bd399eb691d>\u001b[0m in \u001b[0;36mperformCrossValidation\u001b[1;34m(X1, Y1, num_folds, classifier, kernel, degree, sigma)\u001b[0m\n\u001b[0;32m     29\u001b[0m                     \u001b[0mvalYvector\u001b[0m \u001b[1;33m=\u001b[0m \u001b[0my_test\u001b[0m\u001b[1;33m\u001b[0m\u001b[1;33m\u001b[0m\u001b[0m\n\u001b[0;32m     30\u001b[0m                     \u001b[0mnumOfSamples\u001b[0m\u001b[1;33m,\u001b[0m\u001b[0mnumOfdimPlusOne\u001b[0m \u001b[1;33m=\u001b[0m \u001b[0mtrainXmatrix\u001b[0m\u001b[1;33m.\u001b[0m\u001b[0mshape\u001b[0m\u001b[1;33m\u001b[0m\u001b[1;33m\u001b[0m\u001b[0m\n\u001b[1;32m---> 31\u001b[1;33m                     \u001b[0mclassifier\u001b[0m\u001b[1;33m.\u001b[0m\u001b[0mfit\u001b[0m\u001b[1;33m(\u001b[0m\u001b[0mX_train\u001b[0m\u001b[1;33m,\u001b[0m \u001b[0my_train\u001b[0m\u001b[1;33m,\u001b[0m\u001b[0mC\u001b[0m\u001b[1;33m,\u001b[0m\u001b[0mkernel\u001b[0m\u001b[1;33m,\u001b[0m\u001b[0mdegree\u001b[0m\u001b[1;33m,\u001b[0m\u001b[0msigma\u001b[0m\u001b[1;33m)\u001b[0m\u001b[1;33m\u001b[0m\u001b[1;33m\u001b[0m\u001b[0m\n\u001b[0m\u001b[0;32m     32\u001b[0m                     \u001b[1;31m#classifier.fit(X_train, y_train,lamda,kernel,degree,sigma)\u001b[0m\u001b[1;33m\u001b[0m\u001b[1;33m\u001b[0m\u001b[1;33m\u001b[0m\u001b[0m\n\u001b[0;32m     33\u001b[0m                     \u001b[1;31m#classifier.fit(X_train, y_train,C,lamda,degree,sigma)\u001b[0m\u001b[1;33m\u001b[0m\u001b[1;33m\u001b[0m\u001b[1;33m\u001b[0m\u001b[0m\n",
      "\u001b[1;32m<ipython-input-114-dfbd93826e3b>\u001b[0m in \u001b[0;36mfit\u001b[1;34m(self, X_data, Y_label, C, kernel, degree, sigma)\u001b[0m\n\u001b[0;32m     53\u001b[0m             \u001b[0mH\u001b[0m \u001b[1;33m=\u001b[0m \u001b[0msparse\u001b[0m\u001b[1;33m.\u001b[0m\u001b[0mcsr_matrix\u001b[0m\u001b[1;33m.\u001b[0m\u001b[0mdot\u001b[0m\u001b[1;33m(\u001b[0m\u001b[0mM1\u001b[0m\u001b[1;33m,\u001b[0m\u001b[0mM1\u001b[0m\u001b[1;33m.\u001b[0m\u001b[0mT\u001b[0m\u001b[1;33m)\u001b[0m\u001b[1;33m\u001b[0m\u001b[1;33m\u001b[0m\u001b[0m\n\u001b[0;32m     54\u001b[0m         \u001b[1;32melse\u001b[0m\u001b[1;33m:\u001b[0m\u001b[1;33m\u001b[0m\u001b[1;33m\u001b[0m\u001b[0m\n\u001b[1;32m---> 55\u001b[1;33m             \u001b[0mH\u001b[0m\u001b[1;33m,\u001b[0m\u001b[0mIntermXmatrix\u001b[0m \u001b[1;33m=\u001b[0m \u001b[0mself\u001b[0m\u001b[1;33m.\u001b[0m\u001b[0mgetKernelizedProduct\u001b[0m\u001b[1;33m(\u001b[0m\u001b[0mX_data\u001b[0m\u001b[1;33m,\u001b[0m\u001b[0mY_label\u001b[0m\u001b[1;33m,\u001b[0m\u001b[0mkernel\u001b[0m\u001b[1;33m,\u001b[0m\u001b[0msigma\u001b[0m\u001b[1;33m,\u001b[0m\u001b[0mdegree\u001b[0m\u001b[1;33m)\u001b[0m\u001b[1;33m\u001b[0m\u001b[1;33m\u001b[0m\u001b[0m\n\u001b[0m\u001b[0;32m     56\u001b[0m \u001b[1;33m\u001b[0m\u001b[0m\n\u001b[0;32m     57\u001b[0m         \u001b[1;32mfrom\u001b[0m \u001b[0mcvxopt\u001b[0m \u001b[1;32mimport\u001b[0m \u001b[0mmatrix\u001b[0m \u001b[1;32mas\u001b[0m \u001b[0mcvxopt_matrix\u001b[0m\u001b[1;33m\u001b[0m\u001b[1;33m\u001b[0m\u001b[0m\n",
      "\u001b[1;32m<ipython-input-114-dfbd93826e3b>\u001b[0m in \u001b[0;36mgetKernelizedProduct\u001b[1;34m(self, X_data, Y_label, kernel, sigma, degree)\u001b[0m\n\u001b[0;32m    217\u001b[0m                                     \u001b[0mH\u001b[0m\u001b[1;33m[\u001b[0m\u001b[0mi\u001b[0m\u001b[1;33m,\u001b[0m\u001b[0mj\u001b[0m\u001b[1;33m]\u001b[0m \u001b[1;33m+=\u001b[0m \u001b[1;33m(\u001b[0m\u001b[1;33m(\u001b[0m\u001b[1;36m1\u001b[0m\u001b[1;33m+\u001b[0m\u001b[1;33m(\u001b[0m\u001b[1;33m(\u001b[0m\u001b[1;36m1\u001b[0m\u001b[1;33m/\u001b[0m\u001b[0mtempCoeff\u001b[0m\u001b[1;33m)\u001b[0m\u001b[1;33m*\u001b[0m\u001b[0mnp\u001b[0m\u001b[1;33m.\u001b[0m\u001b[0mdot\u001b[0m\u001b[1;33m(\u001b[0m\u001b[0mnp\u001b[0m\u001b[1;33m.\u001b[0m\u001b[0mappend\u001b[0m\u001b[1;33m(\u001b[0m\u001b[0mX\u001b[0m\u001b[1;33m[\u001b[0m\u001b[0mtemp4\u001b[0m\u001b[1;33m-\u001b[0m\u001b[1;36m1\u001b[0m\u001b[1;33m,\u001b[0m\u001b[1;33m:\u001b[0m\u001b[1;33m]\u001b[0m\u001b[1;33m,\u001b[0m\u001b[1;36m1.0\u001b[0m\u001b[1;33m)\u001b[0m\u001b[1;33m,\u001b[0m\u001b[0mnp\u001b[0m\u001b[1;33m.\u001b[0m\u001b[0mappend\u001b[0m\u001b[1;33m(\u001b[0m\u001b[1;33m-\u001b[0m\u001b[1;36m1\u001b[0m\u001b[1;33m*\u001b[0m\u001b[0mX\u001b[0m\u001b[1;33m[\u001b[0m\u001b[1;33m-\u001b[0m\u001b[0mtemp3\u001b[0m\u001b[1;33m-\u001b[0m\u001b[1;36m1\u001b[0m\u001b[1;33m,\u001b[0m\u001b[1;33m:\u001b[0m\u001b[1;33m]\u001b[0m\u001b[1;33m,\u001b[0m\u001b[1;33m-\u001b[0m\u001b[1;36m1.0\u001b[0m\u001b[1;33m)\u001b[0m\u001b[1;33m)\u001b[0m\u001b[1;33m)\u001b[0m\u001b[1;33m)\u001b[0m\u001b[1;33m**\u001b[0m\u001b[0mdegree\u001b[0m\u001b[1;33m)\u001b[0m\u001b[1;33m\u001b[0m\u001b[1;33m\u001b[0m\u001b[0m\n\u001b[0;32m    218\u001b[0m                                 \u001b[1;32melif\u001b[0m\u001b[1;33m(\u001b[0m\u001b[0mtemp4\u001b[0m\u001b[1;33m<\u001b[0m\u001b[1;36m0\u001b[0m\u001b[1;33m)\u001b[0m\u001b[1;33m:\u001b[0m\u001b[1;33m\u001b[0m\u001b[1;33m\u001b[0m\u001b[0m\n\u001b[1;32m--> 219\u001b[1;33m                                     \u001b[0mH\u001b[0m\u001b[1;33m[\u001b[0m\u001b[0mi\u001b[0m\u001b[1;33m,\u001b[0m\u001b[0mj\u001b[0m\u001b[1;33m]\u001b[0m \u001b[1;33m+=\u001b[0m \u001b[1;33m(\u001b[0m\u001b[1;33m(\u001b[0m\u001b[1;36m1\u001b[0m\u001b[1;33m+\u001b[0m\u001b[1;33m(\u001b[0m\u001b[1;33m(\u001b[0m\u001b[1;36m1\u001b[0m\u001b[1;33m/\u001b[0m\u001b[0mtempCoeff\u001b[0m\u001b[1;33m)\u001b[0m\u001b[1;33m*\u001b[0m\u001b[0mnp\u001b[0m\u001b[1;33m.\u001b[0m\u001b[0mdot\u001b[0m\u001b[1;33m(\u001b[0m\u001b[0mnp\u001b[0m\u001b[1;33m.\u001b[0m\u001b[0mappend\u001b[0m\u001b[1;33m(\u001b[0m\u001b[1;33m-\u001b[0m\u001b[1;36m1\u001b[0m\u001b[1;33m*\u001b[0m\u001b[0mX\u001b[0m\u001b[1;33m[\u001b[0m\u001b[1;33m-\u001b[0m\u001b[0mtemp4\u001b[0m\u001b[1;33m-\u001b[0m\u001b[1;36m1\u001b[0m\u001b[1;33m,\u001b[0m\u001b[1;33m:\u001b[0m\u001b[1;33m]\u001b[0m\u001b[1;33m,\u001b[0m\u001b[1;33m-\u001b[0m\u001b[1;36m1.0\u001b[0m\u001b[1;33m)\u001b[0m\u001b[1;33m,\u001b[0m\u001b[0mnp\u001b[0m\u001b[1;33m.\u001b[0m\u001b[0mappend\u001b[0m\u001b[1;33m(\u001b[0m\u001b[1;33m-\u001b[0m\u001b[1;36m1\u001b[0m\u001b[1;33m*\u001b[0m\u001b[0mX\u001b[0m\u001b[1;33m[\u001b[0m\u001b[1;33m-\u001b[0m\u001b[0mtemp3\u001b[0m\u001b[1;33m-\u001b[0m\u001b[1;36m1\u001b[0m\u001b[1;33m,\u001b[0m\u001b[1;33m:\u001b[0m\u001b[1;33m]\u001b[0m\u001b[1;33m,\u001b[0m\u001b[1;33m-\u001b[0m\u001b[1;36m1.0\u001b[0m\u001b[1;33m)\u001b[0m\u001b[1;33m)\u001b[0m\u001b[1;33m)\u001b[0m\u001b[1;33m)\u001b[0m\u001b[1;33m**\u001b[0m\u001b[0mdegree\u001b[0m\u001b[1;33m)\u001b[0m\u001b[1;33m\u001b[0m\u001b[1;33m\u001b[0m\u001b[0m\n\u001b[0m\u001b[0;32m    220\u001b[0m \u001b[1;33m\u001b[0m\u001b[0m\n\u001b[0;32m    221\u001b[0m \u001b[1;33m\u001b[0m\u001b[0m\n",
      "\u001b[1;31mKeyboardInterrupt\u001b[0m: "
     ]
    },
    {
     "data": {
      "image/png": "[encoded data removed]",
      "text/plain": [
       "<Figure size 1080x720 with 1 Axes>"
      ]
     },
     "metadata": {
      "needs_background": "light"
     },
     "output_type": "display_data"
    }
   ],
   "source": [
    "num_folds = 3\n",
    "classifier = a1\n",
    "performCrossValidation(X1,Y1,num_folds,classifier,kernel,degree,sigma)"
   ]
  },
  {
   "cell_type": "code",
   "execution_count": 157,
   "metadata": {},
   "outputs": [],
   "source": [
    "from sklearn.datasets import load_digits\n",
    "digits = load_digits()\n",
    "ran = np.random.rand(len(digits['data'])) < 0.8\n",
    "train_X_data = digits['data'][ran]\n",
    "train_Y_data = digits['target'][ran]\n",
    "val_X_data = digits['data'][~ran]\n",
    "val_Y_data = digits['target'][~ran]"
   ]
  },
  {
   "cell_type": "code",
   "execution_count": null,
   "metadata": {},
   "outputs": [],
   "source": [
    "sklearn.metrics.pairwise.rbf_kernel(X, Y=None, gamma=None)"
   ]
  },
  {
   "cell_type": "code",
   "execution_count": 162,
   "metadata": {},
   "outputs": [
    {
     "name": "stderr",
     "output_type": "stream",
     "text": [
      "C:\\ProgramData\\Anaconda3\\lib\\site-packages\\ipykernel_launcher.py:5: RuntimeWarning: invalid value encountered in true_divide\n",
      "  \"\"\"\n"
     ]
    },
    {
     "data": {
      "application/vnd.jupyter.widget-view+json": {
       "model_id": "10be16e802e64943b23c4bfc2a17fc7c",
       "version_major": 2,
       "version_minor": 0
      },
      "text/plain": [
       "HBox(children=(IntProgress(value=0, max=1796), HTML(value='')))"
      ]
     },
     "metadata": {},
     "output_type": "display_data"
    },
    {
     "name": "stdout",
     "output_type": "stream",
     "text": [
      "\n"
     ]
    },
    {
     "ename": "LinAlgError",
     "evalue": "Array must not contain infs or NaNs",
     "output_type": "error",
     "traceback": [
      "\u001b[1;31m---------------------------------------------------------------------------\u001b[0m",
      "\u001b[1;31mLinAlgError\u001b[0m                               Traceback (most recent call last)",
      "\u001b[1;32m<ipython-input-162-a7917f7a42ba>\u001b[0m in \u001b[0;36m<module>\u001b[1;34m\u001b[0m\n\u001b[0;32m      1\u001b[0m \u001b[1;32mfrom\u001b[0m \u001b[0msklearn\u001b[0m\u001b[1;33m.\u001b[0m\u001b[0mdatasets\u001b[0m \u001b[1;32mimport\u001b[0m \u001b[0mload_digits\u001b[0m\u001b[1;33m\u001b[0m\u001b[1;33m\u001b[0m\u001b[0m\n\u001b[0;32m      2\u001b[0m \u001b[0mdata1\u001b[0m \u001b[1;33m=\u001b[0m \u001b[0mload_digits\u001b[0m\u001b[1;33m(\u001b[0m\u001b[1;33m)\u001b[0m\u001b[1;33m\u001b[0m\u001b[1;33m\u001b[0m\u001b[0m\n\u001b[1;32m----> 3\u001b[1;33m \u001b[0mGivenData\u001b[0m \u001b[1;33m=\u001b[0m \u001b[0mdimensionality_reduction\u001b[0m\u001b[1;33m(\u001b[0m\u001b[0mdata1\u001b[0m\u001b[1;33m[\u001b[0m\u001b[1;34m'data'\u001b[0m\u001b[1;33m]\u001b[0m\u001b[1;33m,\u001b[0m\u001b[0mdata1\u001b[0m\u001b[1;33m[\u001b[0m\u001b[1;34m'target'\u001b[0m\u001b[1;33m]\u001b[0m\u001b[1;33m)\u001b[0m\u001b[1;33m\u001b[0m\u001b[1;33m\u001b[0m\u001b[0m\n\u001b[0m\u001b[0;32m      4\u001b[0m \u001b[0mran\u001b[0m \u001b[1;33m=\u001b[0m \u001b[0mnp\u001b[0m\u001b[1;33m.\u001b[0m\u001b[0mrandom\u001b[0m\u001b[1;33m.\u001b[0m\u001b[0mrand\u001b[0m\u001b[1;33m(\u001b[0m\u001b[0mlen\u001b[0m\u001b[1;33m(\u001b[0m\u001b[0mGivendata\u001b[0m\u001b[1;33m[\u001b[0m\u001b[1;34m'data'\u001b[0m\u001b[1;33m]\u001b[0m\u001b[1;33m)\u001b[0m\u001b[1;33m)\u001b[0m \u001b[1;33m<\u001b[0m \u001b[1;36m0.8\u001b[0m\u001b[1;33m\u001b[0m\u001b[1;33m\u001b[0m\u001b[0m\n\u001b[0;32m      5\u001b[0m \u001b[0mtrain_X_data\u001b[0m \u001b[1;33m=\u001b[0m \u001b[0mGivendata\u001b[0m\u001b[1;33m[\u001b[0m\u001b[1;34m'data'\u001b[0m\u001b[1;33m]\u001b[0m\u001b[1;33m[\u001b[0m\u001b[0mran\u001b[0m\u001b[1;33m]\u001b[0m\u001b[1;33m\u001b[0m\u001b[1;33m\u001b[0m\u001b[0m\n",
      "\u001b[1;32m<ipython-input-160-b8f66c53a492>\u001b[0m in \u001b[0;36mdimensionality_reduction\u001b[1;34m(X_data, Y_label)\u001b[0m\n\u001b[0;32m     10\u001b[0m     \u001b[0mcovX_data\u001b[0m \u001b[1;33m/=\u001b[0m \u001b[0mlen\u001b[0m\u001b[1;33m(\u001b[0m\u001b[0mcovX_data\u001b[0m\u001b[1;33m)\u001b[0m\u001b[1;33m\u001b[0m\u001b[1;33m\u001b[0m\u001b[0m\n\u001b[0;32m     11\u001b[0m \u001b[1;33m\u001b[0m\u001b[0m\n\u001b[1;32m---> 12\u001b[1;33m     \u001b[0meigenValues\u001b[0m\u001b[1;33m,\u001b[0m \u001b[0meigenVectors\u001b[0m \u001b[1;33m=\u001b[0m \u001b[0mnp\u001b[0m\u001b[1;33m.\u001b[0m\u001b[0mlinalg\u001b[0m\u001b[1;33m.\u001b[0m\u001b[0meig\u001b[0m\u001b[1;33m(\u001b[0m\u001b[0mcovX_data\u001b[0m\u001b[1;33m)\u001b[0m\u001b[1;33m\u001b[0m\u001b[1;33m\u001b[0m\u001b[0m\n\u001b[0m\u001b[0;32m     13\u001b[0m     \u001b[0midx\u001b[0m \u001b[1;33m=\u001b[0m \u001b[0meigenValues\u001b[0m\u001b[1;33m.\u001b[0m\u001b[0margsort\u001b[0m\u001b[1;33m(\u001b[0m\u001b[1;33m)\u001b[0m\u001b[1;33m[\u001b[0m\u001b[1;33m:\u001b[0m\u001b[1;33m:\u001b[0m\u001b[1;33m-\u001b[0m\u001b[1;36m1\u001b[0m\u001b[1;33m]\u001b[0m\u001b[1;33m\u001b[0m\u001b[1;33m\u001b[0m\u001b[0m\n\u001b[0;32m     14\u001b[0m     \u001b[0meigenVectors\u001b[0m \u001b[1;33m=\u001b[0m \u001b[0meigenVectors\u001b[0m\u001b[1;33m[\u001b[0m\u001b[1;33m:\u001b[0m\u001b[1;33m,\u001b[0m\u001b[0midx\u001b[0m\u001b[1;33m]\u001b[0m\u001b[1;33m\u001b[0m\u001b[1;33m\u001b[0m\u001b[0m\n",
      "\u001b[1;32m~\\AppData\\Roaming\\Python\\Python37\\site-packages\\numpy\\linalg\\linalg.py\u001b[0m in \u001b[0;36meig\u001b[1;34m(a)\u001b[0m\n\u001b[0;32m   1303\u001b[0m     \u001b[0m_assertRankAtLeast2\u001b[0m\u001b[1;33m(\u001b[0m\u001b[0ma\u001b[0m\u001b[1;33m)\u001b[0m\u001b[1;33m\u001b[0m\u001b[1;33m\u001b[0m\u001b[0m\n\u001b[0;32m   1304\u001b[0m     \u001b[0m_assertNdSquareness\u001b[0m\u001b[1;33m(\u001b[0m\u001b[0ma\u001b[0m\u001b[1;33m)\u001b[0m\u001b[1;33m\u001b[0m\u001b[1;33m\u001b[0m\u001b[0m\n\u001b[1;32m-> 1305\u001b[1;33m     \u001b[0m_assertFinite\u001b[0m\u001b[1;33m(\u001b[0m\u001b[0ma\u001b[0m\u001b[1;33m)\u001b[0m\u001b[1;33m\u001b[0m\u001b[1;33m\u001b[0m\u001b[0m\n\u001b[0m\u001b[0;32m   1306\u001b[0m     \u001b[0mt\u001b[0m\u001b[1;33m,\u001b[0m \u001b[0mresult_t\u001b[0m \u001b[1;33m=\u001b[0m \u001b[0m_commonType\u001b[0m\u001b[1;33m(\u001b[0m\u001b[0ma\u001b[0m\u001b[1;33m)\u001b[0m\u001b[1;33m\u001b[0m\u001b[1;33m\u001b[0m\u001b[0m\n\u001b[0;32m   1307\u001b[0m \u001b[1;33m\u001b[0m\u001b[0m\n",
      "\u001b[1;32m~\\AppData\\Roaming\\Python\\Python37\\site-packages\\numpy\\linalg\\linalg.py\u001b[0m in \u001b[0;36m_assertFinite\u001b[1;34m(*arrays)\u001b[0m\n\u001b[0;32m    216\u001b[0m     \u001b[1;32mfor\u001b[0m \u001b[0ma\u001b[0m \u001b[1;32min\u001b[0m \u001b[0marrays\u001b[0m\u001b[1;33m:\u001b[0m\u001b[1;33m\u001b[0m\u001b[1;33m\u001b[0m\u001b[0m\n\u001b[0;32m    217\u001b[0m         \u001b[1;32mif\u001b[0m \u001b[1;32mnot\u001b[0m \u001b[1;33m(\u001b[0m\u001b[0misfinite\u001b[0m\u001b[1;33m(\u001b[0m\u001b[0ma\u001b[0m\u001b[1;33m)\u001b[0m\u001b[1;33m.\u001b[0m\u001b[0mall\u001b[0m\u001b[1;33m(\u001b[0m\u001b[1;33m)\u001b[0m\u001b[1;33m)\u001b[0m\u001b[1;33m:\u001b[0m\u001b[1;33m\u001b[0m\u001b[1;33m\u001b[0m\u001b[0m\n\u001b[1;32m--> 218\u001b[1;33m             \u001b[1;32mraise\u001b[0m \u001b[0mLinAlgError\u001b[0m\u001b[1;33m(\u001b[0m\u001b[1;34m\"Array must not contain infs or NaNs\"\u001b[0m\u001b[1;33m)\u001b[0m\u001b[1;33m\u001b[0m\u001b[1;33m\u001b[0m\u001b[0m\n\u001b[0m\u001b[0;32m    219\u001b[0m \u001b[1;33m\u001b[0m\u001b[0m\n\u001b[0;32m    220\u001b[0m \u001b[1;32mdef\u001b[0m \u001b[0m_isEmpty2d\u001b[0m\u001b[1;33m(\u001b[0m\u001b[0marr\u001b[0m\u001b[1;33m)\u001b[0m\u001b[1;33m:\u001b[0m\u001b[1;33m\u001b[0m\u001b[1;33m\u001b[0m\u001b[0m\n",
      "\u001b[1;31mLinAlgError\u001b[0m: Array must not contain infs or NaNs"
     ]
    }
   ],
   "source": [
    "from sklearn.datasets import load_digits\n",
    "data1 = load_digits()\n",
    "GivenData = dimensionality_reduction(data1['data'],data1['target'])\n",
    "ran = np.random.rand(len(Givendata['data'])) < 0.8\n",
    "train_X_data = Givendata['data'][ran]\n",
    "train_Y_data = Givendata['target'][ran]\n",
    "val_X_data = Givendata['data'][~ran]\n",
    "val_Y_data = Givendata['target'][~ran]\n",
    "kernel = 'rbf'\n",
    "degree = 4\n",
    "sigma = 0.4\n",
    "C = 10\n",
    "a1 = SMCSVM()\n",
    "#a1.fit()\n",
    "start_time = time.time()\n",
    "a1.fit(train_X_data,train_Y_data,C,kernel,degree,sigma)\n",
    "print('\\n Time taken for training in seconds: ', time.time()-start_time )\n",
    "predictedLabels = a1.predict(train_X_data)\n",
    "conMatrix = pd.crosstab(np.array(predictedLabels).ravel(),train_Y_data.reshape(-1,1).ravel())\n",
    "conMatrix"
   ]
  },
  {
   "cell_type": "code",
   "execution_count": 164,
   "metadata": {},
   "outputs": [
    {
     "data": {
      "text/plain": [
       "2.718281828459045"
      ]
     },
     "execution_count": 164,
     "metadata": {},
     "output_type": "execute_result"
    }
   ],
   "source": [
    "np.exp(1)"
   ]
  }
 ],
 "metadata": {
  "kernelspec": {
   "display_name": "Python 3",
   "language": "python",
   "name": "python3"
  },
  "language_info": {
   "codemirror_mode": {
    "name": "ipython",
    "version": 3
   },
   "file_extension": ".py",
   "mimetype": "text/x-python",
   "name": "python",
   "nbconvert_exporter": "python",
   "pygments_lexer": "ipython3",
   "version": "3.7.1"
  }
 },
 "nbformat": 4,
 "nbformat_minor": 2
}
