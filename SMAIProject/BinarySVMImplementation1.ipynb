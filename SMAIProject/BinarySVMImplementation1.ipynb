{
 "cells": [
  {
   "cell_type": "code",
   "execution_count": 1,
   "metadata": {},
   "outputs": [],
   "source": [
    "import pandas as pd\n",
    "import numpy as np\n",
    "ApparelData = pd.read_csv('apparel-trainval.csv',sep=',',index_col = False)\n",
    "from tqdm import tqdm "
   ]
  },
  {
   "cell_type": "code",
   "execution_count": 2,
   "metadata": {},
   "outputs": [],
   "source": [
    "#from tqdm import tqdm"
   ]
  },
  {
   "cell_type": "markdown",
   "metadata": {},
   "source": [
    "# DIMENSIONALITY REDUCTION"
   ]
  },
  {
   "cell_type": "code",
   "execution_count": 3,
   "metadata": {
    "scrolled": true
   },
   "outputs": [
    {
     "name": "stderr",
     "output_type": "stream",
     "text": [
      "100%|███████████████████████████████████| 59999/59999 [08:35<00:00, 116.45it/s]\n"
     ]
    }
   ],
   "source": [
    "Xmatrix = ApparelData.values\n",
    "LabelVector = Xmatrix[:,0]\n",
    "Xmatrix = Xmatrix[:,1:]\n",
    "meanVector = np.mean(Xmatrix,axis = 0)\n",
    "CenteredXmatrix = Xmatrix - meanVector\n",
    "SdVector = np.std(CenteredXmatrix.astype(float),axis = 0)\n",
    "CenteredXmatrix /= SdVector\n",
    "#print('calculating the covariance matrix')\n",
    "covOfCenteredXmatrix = np.array([(CenteredXmatrix[0,:].astype(float))]).T@ np.array([(CenteredXmatrix[0,:].astype(float))])\n",
    "for i in tqdm(range(1,len(CenteredXmatrix))):\n",
    "    covOfCenteredXmatrix +=   np.array([(CenteredXmatrix[i,:].astype(float))]).T@ np.array([(CenteredXmatrix[i,:].astype(float))])\n",
    "covOfCenteredXmatrix /= len(CenteredXmatrix)\n",
    "eigenValues, eigenVectors = np.linalg.eig(covOfCenteredXmatrix)\n",
    "idx = eigenValues.argsort()[::-1]   \n",
    "eigenValues = eigenValues[idx]\n",
    "eigenVectors = eigenVectors[:,idx]\n",
    "neededEigenVectors = []\n",
    "for idx, val in enumerate(eigenValues):\n",
    "    if (sum(eigenValues[0:idx])/sum(eigenValues))>0.8:\n",
    "        neededEigenVectors = eigenVectors[:,0:idx]\n",
    "        break\n",
    "reconstructedXmatrix = CenteredXmatrix.astype(float)@neededEigenVectors"
   ]
  },
  {
   "cell_type": "code",
   "execution_count": 4,
   "metadata": {},
   "outputs": [
    {
     "data": {
      "text/plain": [
       "(60000, 137)"
      ]
     },
     "execution_count": 4,
     "metadata": {},
     "output_type": "execute_result"
    }
   ],
   "source": [
    "reconstructedXmatrix.shape"
   ]
  },
  {
   "cell_type": "code",
   "execution_count": 5,
   "metadata": {},
   "outputs": [],
   "source": [
    "reconstructedXmatrix = np.insert(reconstructedXmatrix.astype(str), 0, values=LabelVector, axis=1) "
   ]
  },
  {
   "cell_type": "code",
   "execution_count": 6,
   "metadata": {},
   "outputs": [
    {
     "data": {
      "text/plain": [
       "(60000, 138)"
      ]
     },
     "execution_count": 6,
     "metadata": {},
     "output_type": "execute_result"
    }
   ],
   "source": [
    "reconstructedXmatrix.shape"
   ]
  },
  {
   "cell_type": "code",
   "execution_count": 7,
   "metadata": {},
   "outputs": [],
   "source": [
    "newReconstructedData = pd.DataFrame(data=reconstructedXmatrix, columns=list(ApparelData.columns)[:138]) "
   ]
  },
  {
   "cell_type": "code",
   "execution_count": 10,
   "metadata": {},
   "outputs": [
    {
     "data": {
      "text/plain": [
       "pandas.core.frame.DataFrame"
      ]
     },
     "execution_count": 10,
     "metadata": {},
     "output_type": "execute_result"
    }
   ],
   "source": [
    "type(newReconstructedData)"
   ]
  },
  {
   "cell_type": "code",
   "execution_count": 22,
   "metadata": {},
   "outputs": [],
   "source": [
    "#newReconstructedData.to_csv('ReconstructedApparelData.csv',sep=',',index = False)"
   ]
  },
  {
   "cell_type": "code",
   "execution_count": 4,
   "metadata": {},
   "outputs": [],
   "source": [
    "newReconstructedData = pd.read_csv('ReconstructedApparelData.csv',sep=',',index_col = False)"
   ]
  },
  {
   "cell_type": "code",
   "execution_count": 5,
   "metadata": {},
   "outputs": [
    {
     "data": {
      "text/plain": [
       "(60000, 138)"
      ]
     },
     "execution_count": 5,
     "metadata": {},
     "output_type": "execute_result"
    }
   ],
   "source": [
    "newReconstructedData.shape"
   ]
  },
  {
   "cell_type": "markdown",
   "metadata": {},
   "source": [
    "# SCIKIT LEARN BINARY SVM IMPLEMENTATION"
   ]
  },
  {
   "cell_type": "code",
   "execution_count": 14,
   "metadata": {},
   "outputs": [
    {
     "name": "stdout",
     "output_type": "stream",
     "text": [
      "6000\n",
      "6000\n"
     ]
    }
   ],
   "source": [
    "UniqueLabels=np.array([5,6])\n",
    "DataPerClass = []\n",
    "index = 0\n",
    "for i in UniqueLabels:\n",
    "    tempdf = newReconstructedData.loc[newReconstructedData['label'] == i]\n",
    "    DataPerClass.append(tempdf.sample(frac = 1))\n",
    "    print(len(DataPerClass[index]))#+str(\" for \")+str(i))\n",
    "    index = index + 1"
   ]
  },
  {
   "cell_type": "code",
   "execution_count": 15,
   "metadata": {},
   "outputs": [
    {
     "name": "stdout",
     "output_type": "stream",
     "text": [
      "9600\n",
      "2400\n"
     ]
    }
   ],
   "source": [
    "train5 = DataPerClass[0].sample(frac=0.8)\n",
    "train6 = DataPerClass[1].sample(frac=0.8)\n",
    "val5 = DataPerClass[0].loc[~DataPerClass[0].index.isin(train5.index)]\n",
    "val6 = DataPerClass[1].loc[~DataPerClass[1].index.isin(train6.index)]\n",
    "allTrain = [train5,train6]\n",
    "allVal = [val5,val6]\n",
    "train = pd.concat(allTrain, ignore_index= True)\n",
    "val = pd.concat(allVal, ignore_index= True)\n",
    "train = train.sample(frac=1)\n",
    "val = val.sample(frac=1)\n",
    "print(len(train))\n",
    "print(len(val))"
   ]
  },
  {
   "cell_type": "code",
   "execution_count": 71,
   "metadata": {},
   "outputs": [],
   "source": [
    "#train.to_csv('train56.csv',sep=',',index = False)\n",
    "#val.to_csv('val56.csv',sep=',',index = False)"
   ]
  },
  {
   "cell_type": "code",
   "execution_count": 72,
   "metadata": {},
   "outputs": [],
   "source": [
    "train = pd.read_csv('train56.csv',sep=',',index_col = False)\n",
    "val = pd.read_csv('val56.csv',sep=',',index_col = False)"
   ]
  },
  {
   "cell_type": "code",
   "execution_count": 16,
   "metadata": {
    "scrolled": true
   },
   "outputs": [
    {
     "name": "stdout",
     "output_type": "stream",
     "text": [
      "w =  [[ 3.92648099e-01 -2.31049274e-01 -3.49478393e-01  9.04664922e-02\n",
      "  -2.21604156e-01 -6.16986589e-02  3.10454677e-02  1.21304658e-01\n",
      "  -8.91354510e-02 -3.37976691e-03 -6.33529227e-02  7.01526203e-02\n",
      "  -1.04320133e-02  1.59072382e-01  1.37630963e-01 -1.07215887e-01\n",
      "  -6.95949154e-03  9.03795940e-03  1.24326944e-01  3.96385558e-02\n",
      "   5.14104630e-02  8.52390017e-02 -9.99873446e-02  8.83880853e-02\n",
      "  -3.04991569e-02  4.14782929e-02 -5.83555794e-02 -1.02536665e-01\n",
      "   7.26377740e-02 -5.86025866e-02  1.16889985e-01 -6.68529625e-02\n",
      "  -8.45425680e-02 -2.40495912e-04 -9.47200483e-02 -6.94441839e-02\n",
      "  -5.05978581e-02 -7.10931654e-02 -1.07726518e-01 -6.30912541e-02\n",
      "   2.58953405e-02  1.17382299e-01 -9.46422294e-02 -5.20400330e-02\n",
      "   3.43444454e-03  1.22803482e-01  5.21399284e-02  1.04550309e-01\n",
      "  -4.18048012e-02 -1.65499067e-02  5.39902883e-02 -7.30248698e-02\n",
      "  -1.08893638e-01 -4.27312146e-02  5.05666455e-02  4.47411897e-02\n",
      "   6.36727466e-02 -8.60428658e-02 -2.96167424e-02 -1.02534400e-01\n",
      "   9.26774167e-02  6.32264151e-02  9.41004707e-02 -3.01987044e-01\n",
      "   4.50455806e-02  3.79817860e-03  6.79166239e-02 -2.00900162e-02\n",
      "   2.49547515e-02  6.96595895e-02 -1.06154485e-01  2.49657942e-02\n",
      "   6.10298811e-03 -2.29713443e-02 -3.95144353e-03 -1.30306238e-02\n",
      "  -1.45330280e-01  3.89096700e-02  7.21911729e-02  1.14038254e-01\n",
      "   4.63094536e-02 -5.76955762e-02  2.38273675e-03  6.78692456e-02\n",
      "  -9.06883772e-03  1.43739898e-01  1.08758612e-01 -2.76391746e-02\n",
      "   1.01085554e-01  6.18159132e-02  2.08885581e-02 -3.72798140e-02\n",
      "  -3.19870936e-02  2.44994229e-02  1.48077239e-02 -6.87774038e-02\n",
      "   1.27389792e-02  3.84782188e-02  9.38882869e-02 -9.90229866e-02\n",
      "   1.27982340e-01 -4.49758892e-02 -1.94850231e-02 -1.35983858e-03\n",
      "  -7.42219128e-02  7.78807923e-04 -9.78991748e-02 -1.06999100e-02\n",
      "  -1.48587243e-01 -1.20732338e-01  5.13126254e-02  7.84826759e-02\n",
      "   3.53987373e-02 -1.94587317e-01 -5.53894329e-02 -3.76945215e-03\n",
      "   9.08065307e-03  7.11389935e-02  1.07807243e-01  1.19339364e-01\n",
      "   3.74425039e-02 -2.82926854e-02 -8.90014948e-03  7.18161992e-02\n",
      "  -1.22280667e-01  6.47285233e-02  1.09086848e-01 -1.06294882e-01\n",
      "   1.26340847e-01 -3.95261004e-02  1.76114150e-02  7.99037776e-02\n",
      "   1.35556035e-01 -1.53158121e-02  9.51357093e-02 -1.70605068e-02\n",
      "   1.87295881e-02]]\n",
      "b =  [3.17868865]\n",
      "Indices of support vectors =  [ 787  942 1564 1624 1998 2117 2341 2446 3876 4150 4520 4879 4997 5154\n",
      " 5173 5177 5203 5412 5510 5872 5943 5958 6178 6443 7001 7410 7444 7537\n",
      " 7857 8018 8142 8389 8417 8462 8697 8852 9092 9104  859 1219 1332 1343\n",
      " 1348 1606 1814 2076 2100 3115 3142 3311 3453 3588 3746 3813 3989 4320\n",
      " 4795 5156 5253 6249 6596 6600 7285 7524 7742 7957 8312 9046 9456]\n",
      "Support vectors =  [[-17.53040547  -2.36787281  -7.48865199 ...   0.59499491   2.22546547\n",
      "    0.04395866]\n",
      " [ -7.07099938   1.00249971  -0.96877537 ...  -0.48431411  -0.19970211\n",
      "   -0.59077811]\n",
      " [-21.32069335  -6.21022606  -4.58960135 ...   0.34150263  -0.19840845\n",
      "   -0.21884033]\n",
      " ...\n",
      " [ -5.09554361 -11.38698798   3.66192247 ...   0.8201068   -0.50741999\n",
      "    0.28102718]\n",
      " [-15.87005994  -9.60474081  -7.01318044 ...  -0.40075254  -0.9651175\n",
      "    0.3975221 ]\n",
      " [-18.61562163  -8.53769894  -9.17617254 ...  -0.30426508  -0.25669786\n",
      "   -0.05687783]]\n",
      "Number of support vectors for each class =  [38 31]\n",
      "Coefficients of the support vector in the decision function =  [[0.02410612 0.00289899 0.02890616 0.00888651 0.02394527 0.00099881\n",
      "  0.03300651 0.01549537 0.02198624 0.0057456  0.00095352 0.0595143\n",
      "  0.02299442 0.00440405 0.00808614 0.04043068 0.00267095 0.01989962\n",
      "  0.00633932 0.00481238 0.01355841 0.00952224 0.01456903 0.01126304\n",
      "  0.08889859 0.02109614 0.00429563 0.01490199 0.00456529 0.0052136\n",
      "  0.03609209 0.02700095 0.01045109 0.00335667 0.0004043  0.00684435\n",
      "  0.0083539  0.00238816 0.01698785 0.02356703 0.04240393 0.03334923\n",
      "  0.01380889 0.00257976 0.02891297 0.021782   0.01323613 0.00148723\n",
      "  0.00300833 0.00041254 0.00198212 0.01904741 0.10120516 0.09930212\n",
      "  0.02165313 0.02557319 0.0068997  0.01040604 0.02299041 0.02338443\n",
      "  0.00991614 0.00511722 0.00353409 0.004714   0.00325901 0.02657011\n",
      "  0.02469379 0.00503043 0.00204201]]\n"
     ]
    }
   ],
   "source": [
    "from sklearn.svm import SVC\n",
    "clf = SVC(C = 10, kernel = 'linear')\n",
    "clf.fit(train.values[:,1:], train.values[:,0]) \n",
    "\n",
    "print('w = ',clf.coef_)\n",
    "print('b = ',clf.intercept_)\n",
    "print('Indices of support vectors = ', clf.support_)\n",
    "print('Support vectors = ', clf.support_vectors_)\n",
    "print('Number of support vectors for each class = ', clf.n_support_)\n",
    "print('Coefficients of the support vector in the decision function = ', np.abs(clf.dual_coef_))"
   ]
  },
  {
   "cell_type": "code",
   "execution_count": 17,
   "metadata": {},
   "outputs": [],
   "source": [
    "PredSVM = []\n",
    "for i in range(0,len(val)):\n",
    "    PredSVM.append(clf.predict([val.values[i,1:]]))"
   ]
  },
  {
   "cell_type": "code",
   "execution_count": 18,
   "metadata": {},
   "outputs": [],
   "source": [
    "PredSVM1 = np.array(PredSVM).ravel()"
   ]
  },
  {
   "cell_type": "code",
   "execution_count": 20,
   "metadata": {},
   "outputs": [],
   "source": [
    "conMatrix = pd.crosstab(PredSVM1,val.values[:,0])"
   ]
  },
  {
   "cell_type": "code",
   "execution_count": 21,
   "metadata": {},
   "outputs": [
    {
     "data": {
      "text/html": [
       "<div>\n",
       "<style scoped>\n",
       "    .dataframe tbody tr th:only-of-type {\n",
       "        vertical-align: middle;\n",
       "    }\n",
       "\n",
       "    .dataframe tbody tr th {\n",
       "        vertical-align: top;\n",
       "    }\n",
       "\n",
       "    .dataframe thead th {\n",
       "        text-align: right;\n",
       "    }\n",
       "</style>\n",
       "<table border=\"1\" class=\"dataframe\">\n",
       "  <thead>\n",
       "    <tr style=\"text-align: right;\">\n",
       "      <th>col_0</th>\n",
       "      <th>5.0</th>\n",
       "      <th>6.0</th>\n",
       "    </tr>\n",
       "    <tr>\n",
       "      <th>row_0</th>\n",
       "      <th></th>\n",
       "      <th></th>\n",
       "    </tr>\n",
       "  </thead>\n",
       "  <tbody>\n",
       "    <tr>\n",
       "      <th>5.0</th>\n",
       "      <td>1197</td>\n",
       "      <td>1</td>\n",
       "    </tr>\n",
       "    <tr>\n",
       "      <th>6.0</th>\n",
       "      <td>3</td>\n",
       "      <td>1199</td>\n",
       "    </tr>\n",
       "  </tbody>\n",
       "</table>\n",
       "</div>"
      ],
      "text/plain": [
       "col_0   5.0   6.0\n",
       "row_0            \n",
       "5.0    1197     1\n",
       "6.0       3  1199"
      ]
     },
     "execution_count": 21,
     "metadata": {},
     "output_type": "execute_result"
    }
   ],
   "source": [
    "conMatrix"
   ]
  },
  {
   "cell_type": "markdown",
   "metadata": {},
   "source": [
    "# CVXOPT BINARY SVM IMPLEMENTATION"
   ]
  },
  {
   "cell_type": "code",
   "execution_count": 33,
   "metadata": {},
   "outputs": [],
   "source": [
    "from cvxopt import matrix as cvxopt_matrix\n",
    "from cvxopt import solvers as cvxopt_solvers"
   ]
  },
  {
   "cell_type": "code",
   "execution_count": 29,
   "metadata": {},
   "outputs": [
    {
     "data": {
      "text/plain": [
       "array([5., 5., 6., ..., 5., 6., 6.])"
      ]
     },
     "execution_count": 29,
     "metadata": {},
     "output_type": "execute_result"
    }
   ],
   "source": [
    "train.values[:,0]"
   ]
  },
  {
   "cell_type": "code",
   "execution_count": 77,
   "metadata": {},
   "outputs": [
    {
     "name": "stdout",
     "output_type": "stream",
     "text": [
      "(9600, 1)\n",
      "     pcost       dcost       gap    pres   dres\n",
      " 0: -4.6249e+03 -8.7107e+05  3e+06  1e+00  5e-11\n",
      " 1: -2.7081e+03 -3.6738e+05  7e+05  2e-01  4e-11\n",
      " 2: -9.1305e+02 -9.5808e+04  2e+05  5e-02  3e-11\n",
      " 3: -5.8545e+02 -6.8172e+04  1e+05  3e-02  2e-11\n"
     ]
    },
    {
     "ename": "KeyboardInterrupt",
     "evalue": "",
     "output_type": "error",
     "traceback": [
      "\u001b[1;31m---------------------------------------------------------------------------\u001b[0m",
      "\u001b[1;31mKeyboardInterrupt\u001b[0m                         Traceback (most recent call last)",
      "\u001b[1;32m<ipython-input-77-47fb4bccd522>\u001b[0m in \u001b[0;36m<module>\u001b[1;34m\u001b[0m\n\u001b[0;32m     26\u001b[0m \u001b[1;33m\u001b[0m\u001b[0m\n\u001b[0;32m     27\u001b[0m \u001b[1;31m#Run solver\u001b[0m\u001b[1;33m\u001b[0m\u001b[1;33m\u001b[0m\u001b[1;33m\u001b[0m\u001b[0m\n\u001b[1;32m---> 28\u001b[1;33m \u001b[0msol\u001b[0m \u001b[1;33m=\u001b[0m \u001b[0mcvxopt_solvers\u001b[0m\u001b[1;33m.\u001b[0m\u001b[0mqp\u001b[0m\u001b[1;33m(\u001b[0m\u001b[0mP\u001b[0m\u001b[1;33m,\u001b[0m \u001b[0mq\u001b[0m\u001b[1;33m,\u001b[0m \u001b[0mG\u001b[0m\u001b[1;33m,\u001b[0m \u001b[0mh\u001b[0m\u001b[1;33m,\u001b[0m \u001b[0mA\u001b[0m\u001b[1;33m,\u001b[0m \u001b[0mb\u001b[0m\u001b[1;33m,\u001b[0m\u001b[0msolver\u001b[0m \u001b[1;33m=\u001b[0m \u001b[1;34m'glpk'\u001b[0m\u001b[1;33m)\u001b[0m\u001b[1;33m\u001b[0m\u001b[1;33m\u001b[0m\u001b[0m\n\u001b[0m\u001b[0;32m     29\u001b[0m \u001b[0malphas\u001b[0m \u001b[1;33m=\u001b[0m \u001b[0mnp\u001b[0m\u001b[1;33m.\u001b[0m\u001b[0marray\u001b[0m\u001b[1;33m(\u001b[0m\u001b[0msol\u001b[0m\u001b[1;33m[\u001b[0m\u001b[1;34m'x'\u001b[0m\u001b[1;33m]\u001b[0m\u001b[1;33m)\u001b[0m\u001b[1;33m\u001b[0m\u001b[1;33m\u001b[0m\u001b[0m\n\u001b[0;32m     30\u001b[0m \u001b[1;33m\u001b[0m\u001b[0m\n",
      "\u001b[1;32m~\\AppData\\Roaming\\Python\\Python37\\site-packages\\cvxopt\\coneprog.py\u001b[0m in \u001b[0;36mqp\u001b[1;34m(P, q, G, h, A, b, solver, kktsolver, initvals, **kwargs)\u001b[0m\n\u001b[0;32m   4483\u001b[0m             'residual as dual infeasibility certificate': dinfres}\n\u001b[0;32m   4484\u001b[0m \u001b[1;33m\u001b[0m\u001b[0m\n\u001b[1;32m-> 4485\u001b[1;33m     \u001b[1;32mreturn\u001b[0m \u001b[0mconeqp\u001b[0m\u001b[1;33m(\u001b[0m\u001b[0mP\u001b[0m\u001b[1;33m,\u001b[0m \u001b[0mq\u001b[0m\u001b[1;33m,\u001b[0m \u001b[0mG\u001b[0m\u001b[1;33m,\u001b[0m \u001b[0mh\u001b[0m\u001b[1;33m,\u001b[0m \u001b[1;32mNone\u001b[0m\u001b[1;33m,\u001b[0m \u001b[0mA\u001b[0m\u001b[1;33m,\u001b[0m  \u001b[0mb\u001b[0m\u001b[1;33m,\u001b[0m \u001b[0minitvals\u001b[0m\u001b[1;33m,\u001b[0m \u001b[0mkktsolver\u001b[0m \u001b[1;33m=\u001b[0m \u001b[0mkktsolver\u001b[0m\u001b[1;33m,\u001b[0m \u001b[0moptions\u001b[0m \u001b[1;33m=\u001b[0m \u001b[0moptions\u001b[0m\u001b[1;33m)\u001b[0m\u001b[1;33m\u001b[0m\u001b[1;33m\u001b[0m\u001b[0m\n\u001b[0m",
      "\u001b[1;32m~\\AppData\\Roaming\\Python\\Python37\\site-packages\\cvxopt\\coneprog.py\u001b[0m in \u001b[0;36mconeqp\u001b[1;34m(P, q, G, h, dims, A, b, initvals, kktsolver, xnewcopy, xdot, xaxpy, xscal, ynewcopy, ydot, yaxpy, yscal, **kwargs)\u001b[0m\n\u001b[0;32m   2254\u001b[0m         \u001b[1;31m# On exit, they contain ux, uy, uz.\u001b[0m\u001b[1;33m\u001b[0m\u001b[1;33m\u001b[0m\u001b[1;33m\u001b[0m\u001b[0m\n\u001b[0;32m   2255\u001b[0m \u001b[1;33m\u001b[0m\u001b[0m\n\u001b[1;32m-> 2256\u001b[1;33m         \u001b[1;32mtry\u001b[0m\u001b[1;33m:\u001b[0m \u001b[0mf3\u001b[0m \u001b[1;33m=\u001b[0m \u001b[0mkktsolver\u001b[0m\u001b[1;33m(\u001b[0m\u001b[0mW\u001b[0m\u001b[1;33m)\u001b[0m\u001b[1;33m\u001b[0m\u001b[1;33m\u001b[0m\u001b[0m\n\u001b[0m\u001b[0;32m   2257\u001b[0m         \u001b[1;32mexcept\u001b[0m \u001b[0mArithmeticError\u001b[0m\u001b[1;33m:\u001b[0m\u001b[1;33m\u001b[0m\u001b[1;33m\u001b[0m\u001b[0m\n\u001b[0;32m   2258\u001b[0m             \u001b[1;32mif\u001b[0m \u001b[0miters\u001b[0m \u001b[1;33m==\u001b[0m \u001b[1;36m0\u001b[0m\u001b[1;33m:\u001b[0m\u001b[1;33m\u001b[0m\u001b[1;33m\u001b[0m\u001b[0m\n",
      "\u001b[1;32m~\\AppData\\Roaming\\Python\\Python37\\site-packages\\cvxopt\\coneprog.py\u001b[0m in \u001b[0;36mkktsolver\u001b[1;34m(W)\u001b[0m\n\u001b[0;32m   1979\u001b[0m              \u001b[0mfactor\u001b[0m \u001b[1;33m=\u001b[0m \u001b[0mmisc\u001b[0m\u001b[1;33m.\u001b[0m\u001b[0mkkt_chol2\u001b[0m\u001b[1;33m(\u001b[0m\u001b[0mG\u001b[0m\u001b[1;33m,\u001b[0m \u001b[0mdims\u001b[0m\u001b[1;33m,\u001b[0m \u001b[0mA\u001b[0m\u001b[1;33m)\u001b[0m\u001b[1;33m\u001b[0m\u001b[1;33m\u001b[0m\u001b[0m\n\u001b[0;32m   1980\u001b[0m          \u001b[1;32mdef\u001b[0m \u001b[0mkktsolver\u001b[0m\u001b[1;33m(\u001b[0m\u001b[0mW\u001b[0m\u001b[1;33m)\u001b[0m\u001b[1;33m:\u001b[0m\u001b[1;33m\u001b[0m\u001b[1;33m\u001b[0m\u001b[0m\n\u001b[1;32m-> 1981\u001b[1;33m              \u001b[1;32mreturn\u001b[0m \u001b[0mfactor\u001b[0m\u001b[1;33m(\u001b[0m\u001b[0mW\u001b[0m\u001b[1;33m,\u001b[0m \u001b[0mP\u001b[0m\u001b[1;33m)\u001b[0m\u001b[1;33m\u001b[0m\u001b[1;33m\u001b[0m\u001b[0m\n\u001b[0m\u001b[0;32m   1982\u001b[0m \u001b[1;33m\u001b[0m\u001b[0m\n\u001b[0;32m   1983\u001b[0m     \u001b[1;32mif\u001b[0m \u001b[0mxnewcopy\u001b[0m \u001b[1;32mis\u001b[0m \u001b[1;32mNone\u001b[0m\u001b[1;33m:\u001b[0m \u001b[0mxnewcopy\u001b[0m \u001b[1;33m=\u001b[0m \u001b[0mmatrix\u001b[0m\u001b[1;33m\u001b[0m\u001b[1;33m\u001b[0m\u001b[0m\n",
      "\u001b[1;32m~\\AppData\\Roaming\\Python\\Python37\\site-packages\\cvxopt\\misc.py\u001b[0m in \u001b[0;36mfactor\u001b[1;34m(W, H, Df)\u001b[0m\n\u001b[0;32m   1450\u001b[0m         \u001b[1;32melse\u001b[0m\u001b[1;33m:\u001b[0m\u001b[1;33m\u001b[0m\u001b[1;33m\u001b[0m\u001b[0m\n\u001b[0;32m   1451\u001b[0m             \u001b[0mbase\u001b[0m\u001b[1;33m.\u001b[0m\u001b[0msyrk\u001b[0m\u001b[1;33m(\u001b[0m\u001b[0mF\u001b[0m\u001b[1;33m[\u001b[0m\u001b[1;34m'Gs'\u001b[0m\u001b[1;33m]\u001b[0m\u001b[1;33m,\u001b[0m \u001b[0mF\u001b[0m\u001b[1;33m[\u001b[0m\u001b[1;34m'S'\u001b[0m\u001b[1;33m]\u001b[0m\u001b[1;33m,\u001b[0m \u001b[0mtrans\u001b[0m \u001b[1;33m=\u001b[0m \u001b[1;34m'T'\u001b[0m\u001b[1;33m,\u001b[0m \u001b[0mpartial\u001b[0m \u001b[1;33m=\u001b[0m \u001b[1;32mTrue\u001b[0m\u001b[1;33m)\u001b[0m\u001b[1;33m\u001b[0m\u001b[1;33m\u001b[0m\u001b[0m\n\u001b[1;32m-> 1452\u001b[1;33m             if mnl: base.syrk(F['Dfs'], F['S'], trans = 'T', beta = 1.0, \n\u001b[0m\u001b[0;32m   1453\u001b[0m                 partial = True)\n\u001b[0;32m   1454\u001b[0m             \u001b[1;32mif\u001b[0m \u001b[0mH\u001b[0m \u001b[1;32mis\u001b[0m \u001b[1;32mnot\u001b[0m \u001b[1;32mNone\u001b[0m\u001b[1;33m:\u001b[0m\u001b[1;33m\u001b[0m\u001b[1;33m\u001b[0m\u001b[0m\n",
      "\u001b[1;31mKeyboardInterrupt\u001b[0m: "
     ]
    }
   ],
   "source": [
    "#Initializing values and computing H. Note the 1. to force to float type\n",
    "C = 10\n",
    "m,n = train.values[:,1:].shape\n",
    "y = train.values[:,0].reshape(-1,1) * 1.\n",
    "print(y.shape)\n",
    "yValues = []\n",
    "for p in train.values[:,0]:\n",
    "    if p==5:\n",
    "        yValues.append(1.0)\n",
    "    else:\n",
    "        yValues.append(-1.0)\n",
    "\n",
    "X = train.values[:,1:]\n",
    "y = np.array(yValues).reshape(9600,1)\n",
    "X_dash = y * X\n",
    "\n",
    "H = np.dot(X_dash , X_dash.T) * 1.\n",
    "\n",
    "#Converting into cvxopt format - as previously\n",
    "P = cvxopt_matrix(H)\n",
    "q = cvxopt_matrix(-np.ones((m, 1)))\n",
    "G = cvxopt_matrix(np.vstack((np.eye(m)*-1,np.eye(m))))\n",
    "h = cvxopt_matrix(np.hstack((np.zeros(m), np.ones(m) * C)))\n",
    "A = cvxopt_matrix(y.reshape(1, -1))\n",
    "b = cvxopt_matrix(np.zeros(1))\n",
    "\n",
    "#Run solver\n",
    "sol = cvxopt_solvers.qp(P, q, G, h, A, b,solver = 'glpk')\n",
    "alphas = np.array(sol['x'])\n",
    "\n",
    "#==================Computing and printing parameters===============================#\n",
    "w = ((y * alphas).T @ X).reshape(-1,1)\n",
    "S = (alphas > 1e-4).flatten()\n",
    "b = y[S] - np.dot(X[S], w)\n",
    "\n",
    "#Display results\n",
    "print('Alphas = ',alphas[alphas > 1e-4])\n",
    "print('w = ', w.flatten())\n",
    "print('b = ', b[0])"
   ]
  },
  {
   "cell_type": "code",
   "execution_count": 35,
   "metadata": {},
   "outputs": [
    {
     "name": "stdout",
     "output_type": "stream",
     "text": [
      "(9600, 1)\n",
      "     pcost       dcost       gap    pres   dres\n",
      " 0: -4.6249e+03 -8.7107e+05  3e+06  1e+00  5e-11\n",
      " 1: -2.7081e+03 -3.6738e+05  7e+05  2e-01  4e-11\n",
      " 2: -9.1305e+02 -9.5808e+04  2e+05  5e-02  4e-11\n",
      " 3: -5.8545e+02 -6.8172e+04  1e+05  3e-02  3e-11\n",
      " 4: -3.9071e+02 -5.1264e+04  9e+04  2e-02  2e-11\n",
      " 5: -1.4725e+02 -3.5427e+04  6e+04  1e-02  9e-12\n",
      " 6: -1.6587e-01 -2.4059e+04  4e+04  5e-03  5e-12\n",
      " 7:  6.5554e+01 -1.2473e+04  2e+04  1e-03  2e-12\n",
      " 8:  5.5582e+01 -3.7491e+03  5e+03  4e-04  1e-12\n",
      " 9:  4.2820e+01 -1.2524e+03  2e+03  1e-04  4e-13\n",
      "10:  4.4544e+01 -8.5911e+02  1e+03  6e-05  3e-13\n",
      "11:  3.9128e+01 -5.2759e+02  7e+02  3e-05  3e-13\n",
      "12:  2.9402e+01 -2.0814e+02  3e+02  8e-06  3e-13\n",
      "13:  6.2990e+00 -1.1670e+01  2e+01  2e-07  3e-13\n",
      "14:  2.7887e+00 -7.0837e+00  1e+01  7e-08  2e-13\n",
      "15:  1.9618e+00 -6.5631e+00  9e+00  4e-08  1e-13\n",
      "16:  8.0789e-01 -3.7074e+00  5e+00  2e-08  9e-14\n",
      "17:  4.7455e-01 -2.9463e+00  3e+00  1e-08  8e-14\n",
      "18:  2.3618e-01 -2.6014e+00  3e+00  5e-09  7e-14\n",
      "19: -4.8200e-02 -1.7692e+00  2e+00  2e-09  8e-14\n",
      "20: -1.2010e-01 -1.6206e+00  2e+00  1e-09  7e-14\n",
      "21: -2.6502e-01 -1.2673e+00  1e+00  5e-10  8e-14\n",
      "22: -2.8230e-01 -1.2371e+00  1e+00  4e-10  8e-14\n",
      "23: -3.9693e-01 -1.0208e+00  6e-01  2e-10  9e-14\n",
      "24: -4.8465e-01 -8.4789e-01  4e-01  9e-11  9e-14\n",
      "25: -5.2830e-01 -7.3569e-01  2e-01  5e-16  1e-13\n",
      "26: -5.8817e-01 -6.5625e-01  7e-02  6e-16  1e-13\n",
      "27: -6.1134e-01 -6.2693e-01  2e-02  2e-16  1e-13\n",
      "28: -6.1829e-01 -6.1956e-01  1e-03  2e-16  1e-13\n",
      "29: -6.1891e-01 -6.1892e-01  2e-05  2e-16  1e-13\n",
      "30: -6.1891e-01 -6.1891e-01  2e-07  4e-16  1e-13\n",
      "Optimal solution found.\n",
      "Alphas =  [0.02418618 0.01700932 0.00288376 0.02362461 0.04242752 0.03339694\n",
      " 0.01380999 0.02893108 0.00258885 0.0089081  0.02888506 0.02396257\n",
      " 0.02178576 0.01324422 0.0010124  0.03301545 0.01550188 0.00147725\n",
      " 0.0029956  0.00041264 0.00187282 0.01905717 0.10126236 0.09933146\n",
      " 0.02200155 0.02162545 0.00572389 0.02558024 0.00095737 0.0067859\n",
      " 0.05952875 0.02297306 0.00437663 0.01037387 0.00806183 0.04044856\n",
      " 0.0027189  0.02301621 0.01991731 0.0063148  0.0047928  0.01353949\n",
      " 0.00954621 0.01454587 0.02336076 0.01124266 0.00993328 0.00510545\n",
      " 0.08890884 0.00353605 0.02111288 0.00430706 0.00469902 0.01489166\n",
      " 0.00327372 0.00455544 0.02659261 0.00521606 0.03611366 0.02471124\n",
      " 0.02696556 0.01041876 0.0033108  0.00043027 0.00686464 0.00503842\n",
      " 0.00834078 0.00238717 0.00210083]\n",
      "w =  [-3.92659710e-01  2.31053232e-01  3.49472542e-01 -9.04544304e-02\n",
      "  2.21635307e-01  6.16945589e-02 -3.10810546e-02 -1.21320332e-01\n",
      "  8.90913998e-02  3.48578666e-03  6.33328041e-02 -7.01439057e-02\n",
      "  1.04076786e-02 -1.59100279e-01 -1.37674160e-01  1.07146964e-01\n",
      "  6.97127657e-03 -9.05960229e-03 -1.24361193e-01 -3.96394450e-02\n",
      " -5.12844140e-02 -8.52894759e-02  9.99941404e-02 -8.83927870e-02\n",
      "  3.05143940e-02 -4.15102149e-02  5.83379061e-02  1.02527987e-01\n",
      " -7.26518456e-02  5.86136880e-02 -1.16867766e-01  6.68711807e-02\n",
      "  8.45102188e-02  2.94774269e-04  9.48486591e-02  6.95209454e-02\n",
      "  5.06658415e-02  7.11227108e-02  1.07811828e-01  6.30950079e-02\n",
      " -2.59430294e-02 -1.17385961e-01  9.46312491e-02  5.20261099e-02\n",
      " -3.37970142e-03 -1.22859498e-01 -5.21395211e-02 -1.04613061e-01\n",
      "  4.17984262e-02  1.65920562e-02 -5.40375939e-02  7.29936905e-02\n",
      "  1.08934059e-01  4.28112687e-02 -5.05734467e-02 -4.47186266e-02\n",
      " -6.36676334e-02  8.60251195e-02  2.95616764e-02  1.02549770e-01\n",
      " -9.26055789e-02 -6.32016567e-02 -9.40668150e-02  3.01960845e-01\n",
      " -4.50986848e-02 -3.84873365e-03 -6.78770444e-02  2.00312522e-02\n",
      " -2.49255149e-02 -6.95705996e-02  1.06144522e-01 -2.49200465e-02\n",
      " -6.11390586e-03  2.29744857e-02  3.93428411e-03  1.29398806e-02\n",
      "  1.45211727e-01 -3.89658333e-02 -7.21306018e-02 -1.14041605e-01\n",
      " -4.63340333e-02  5.77120637e-02 -2.33346648e-03 -6.78551790e-02\n",
      "  9.05685188e-03 -1.43774770e-01 -1.08707970e-01  2.76347458e-02\n",
      " -1.01057419e-01 -6.18100899e-02 -2.08148490e-02  3.72869332e-02\n",
      "  3.20551980e-02 -2.44618139e-02 -1.48160141e-02  6.88613325e-02\n",
      " -1.26887808e-02 -3.85020533e-02 -9.39980992e-02  9.89963699e-02\n",
      " -1.28055489e-01  4.50024766e-02  1.95323233e-02  1.27060396e-03\n",
      "  7.42422711e-02 -8.83174000e-04  9.80494160e-02  1.07572062e-02\n",
      "  1.48698322e-01  1.20836877e-01 -5.13328773e-02 -7.84647084e-02\n",
      " -3.54036556e-02  1.94626151e-01  5.53792095e-02  3.77779069e-03\n",
      " -9.02651010e-03 -7.11337041e-02 -1.07831981e-01 -1.19354310e-01\n",
      " -3.75124382e-02  2.82921870e-02  8.94992875e-03 -7.18190075e-02\n",
      "  1.22272055e-01 -6.47278825e-02 -1.09139300e-01  1.06324468e-01\n",
      " -1.26370393e-01  3.95376613e-02 -1.75505191e-02 -7.99728725e-02\n",
      " -1.35594090e-01  1.52892674e-02 -9.51178703e-02  1.71890707e-02\n",
      " -1.87754354e-02]\n",
      "b =  [-3.17886687]\n"
     ]
    }
   ],
   "source": [
    "#Initializing values and computing H. Note the 1. to force to float type\n",
    "C = 10\n",
    "m,n = train.values[:,1:].shape\n",
    "y = train.values[:,0].reshape(-1,1) * 1.\n",
    "print(y.shape)\n",
    "yValues = []\n",
    "for p in train.values[:,0]:\n",
    "    if p==5:\n",
    "        yValues.append(1.0)\n",
    "    else:\n",
    "        yValues.append(-1.0)\n",
    "\n",
    "X = train.values[:,1:]\n",
    "y = np.array(yValues).reshape(9600,1)\n",
    "X_dash = y * X\n",
    "\n",
    "H = np.dot(X_dash , X_dash.T) * 1.\n",
    "\n",
    "#Converting into cvxopt format - as previously\n",
    "P = cvxopt_matrix(H)\n",
    "q = cvxopt_matrix(-np.ones((m, 1)))\n",
    "G = cvxopt_matrix(np.vstack((np.eye(m)*-1,np.eye(m))))\n",
    "h = cvxopt_matrix(np.hstack((np.zeros(m), np.ones(m) * C)))\n",
    "A = cvxopt_matrix(y.reshape(1, -1))\n",
    "b = cvxopt_matrix(np.zeros(1))\n",
    "\n",
    "#Run solver\n",
    "sol = cvxopt_solvers.qp(P, q, G, h, A, b)\n",
    "alphas = np.array(sol['x'])\n",
    "\n",
    "#==================Computing and printing parameters===============================#\n",
    "w = ((y * alphas).T @ X).reshape(-1,1)\n",
    "S = (alphas > 1e-4).flatten()\n",
    "b = y[S] - np.dot(X[S], w)\n",
    "\n",
    "#Display results\n",
    "print('Alphas = ',alphas[alphas > 1e-4])\n",
    "print('w = ', w.flatten())\n",
    "print('b = ', b[0])"
   ]
  },
  {
   "cell_type": "code",
   "execution_count": 53,
   "metadata": {},
   "outputs": [],
   "source": [
    "parametersSVM = {}\n",
    "parametersSVM['alpha'] = alphas[alphas > 1e-4]\n",
    "parametersSVM['S'] = S\n",
    "parametersSVM['w'] =  w.flatten()\n",
    "parametersSVM['b'] = b[0]"
   ]
  },
  {
   "cell_type": "markdown",
   "metadata": {},
   "source": [
    "import pickle\n",
    "pickle_out = open(\"parametersSVM.pickle\",\"wb\")\n",
    "pickle.dump(parametersSVM, pickle_out)\n",
    "pickle_out.close()"
   ]
  },
  {
   "cell_type": "code",
   "execution_count": 55,
   "metadata": {},
   "outputs": [],
   "source": [
    "pickle_in = open(\"parametersSVM.pickle\",\"rb\")\n",
    "parametersSVM1 = pickle.load(pickle_in)"
   ]
  },
  {
   "cell_type": "code",
   "execution_count": 56,
   "metadata": {},
   "outputs": [
    {
     "data": {
      "text/plain": [
       "{'alpha': array([0.02418618, 0.01700932, 0.00288376, 0.02362461, 0.04242752,\n",
       "        0.03339694, 0.01380999, 0.02893108, 0.00258885, 0.0089081 ,\n",
       "        0.02888506, 0.02396257, 0.02178576, 0.01324422, 0.0010124 ,\n",
       "        0.03301545, 0.01550188, 0.00147725, 0.0029956 , 0.00041264,\n",
       "        0.00187282, 0.01905717, 0.10126236, 0.09933146, 0.02200155,\n",
       "        0.02162545, 0.00572389, 0.02558024, 0.00095737, 0.0067859 ,\n",
       "        0.05952875, 0.02297306, 0.00437663, 0.01037387, 0.00806183,\n",
       "        0.04044856, 0.0027189 , 0.02301621, 0.01991731, 0.0063148 ,\n",
       "        0.0047928 , 0.01353949, 0.00954621, 0.01454587, 0.02336076,\n",
       "        0.01124266, 0.00993328, 0.00510545, 0.08890884, 0.00353605,\n",
       "        0.02111288, 0.00430706, 0.00469902, 0.01489166, 0.00327372,\n",
       "        0.00455544, 0.02659261, 0.00521606, 0.03611366, 0.02471124,\n",
       "        0.02696556, 0.01041876, 0.0033108 , 0.00043027, 0.00686464,\n",
       "        0.00503842, 0.00834078, 0.00238717, 0.00210083]),\n",
       " 'S': array([False, False, False, ..., False, False, False]),\n",
       " 'w': array([-3.92659710e-01,  2.31053232e-01,  3.49472542e-01, -9.04544304e-02,\n",
       "         2.21635307e-01,  6.16945589e-02, -3.10810546e-02, -1.21320332e-01,\n",
       "         8.90913998e-02,  3.48578666e-03,  6.33328041e-02, -7.01439057e-02,\n",
       "         1.04076786e-02, -1.59100279e-01, -1.37674160e-01,  1.07146964e-01,\n",
       "         6.97127657e-03, -9.05960229e-03, -1.24361193e-01, -3.96394450e-02,\n",
       "        -5.12844140e-02, -8.52894759e-02,  9.99941404e-02, -8.83927870e-02,\n",
       "         3.05143940e-02, -4.15102149e-02,  5.83379061e-02,  1.02527987e-01,\n",
       "        -7.26518456e-02,  5.86136880e-02, -1.16867766e-01,  6.68711807e-02,\n",
       "         8.45102188e-02,  2.94774269e-04,  9.48486591e-02,  6.95209454e-02,\n",
       "         5.06658415e-02,  7.11227108e-02,  1.07811828e-01,  6.30950079e-02,\n",
       "        -2.59430294e-02, -1.17385961e-01,  9.46312491e-02,  5.20261099e-02,\n",
       "        -3.37970142e-03, -1.22859498e-01, -5.21395211e-02, -1.04613061e-01,\n",
       "         4.17984262e-02,  1.65920562e-02, -5.40375939e-02,  7.29936905e-02,\n",
       "         1.08934059e-01,  4.28112687e-02, -5.05734467e-02, -4.47186266e-02,\n",
       "        -6.36676334e-02,  8.60251195e-02,  2.95616764e-02,  1.02549770e-01,\n",
       "        -9.26055789e-02, -6.32016567e-02, -9.40668150e-02,  3.01960845e-01,\n",
       "        -4.50986848e-02, -3.84873365e-03, -6.78770444e-02,  2.00312522e-02,\n",
       "        -2.49255149e-02, -6.95705996e-02,  1.06144522e-01, -2.49200465e-02,\n",
       "        -6.11390586e-03,  2.29744857e-02,  3.93428411e-03,  1.29398806e-02,\n",
       "         1.45211727e-01, -3.89658333e-02, -7.21306018e-02, -1.14041605e-01,\n",
       "        -4.63340333e-02,  5.77120637e-02, -2.33346648e-03, -6.78551790e-02,\n",
       "         9.05685188e-03, -1.43774770e-01, -1.08707970e-01,  2.76347458e-02,\n",
       "        -1.01057419e-01, -6.18100899e-02, -2.08148490e-02,  3.72869332e-02,\n",
       "         3.20551980e-02, -2.44618139e-02, -1.48160141e-02,  6.88613325e-02,\n",
       "        -1.26887808e-02, -3.85020533e-02, -9.39980992e-02,  9.89963699e-02,\n",
       "        -1.28055489e-01,  4.50024766e-02,  1.95323233e-02,  1.27060396e-03,\n",
       "         7.42422711e-02, -8.83174000e-04,  9.80494160e-02,  1.07572062e-02,\n",
       "         1.48698322e-01,  1.20836877e-01, -5.13328773e-02, -7.84647084e-02,\n",
       "        -3.54036556e-02,  1.94626151e-01,  5.53792095e-02,  3.77779069e-03,\n",
       "        -9.02651010e-03, -7.11337041e-02, -1.07831981e-01, -1.19354310e-01,\n",
       "        -3.75124382e-02,  2.82921870e-02,  8.94992875e-03, -7.18190075e-02,\n",
       "         1.22272055e-01, -6.47278825e-02, -1.09139300e-01,  1.06324468e-01,\n",
       "        -1.26370393e-01,  3.95376613e-02, -1.75505191e-02, -7.99728725e-02,\n",
       "        -1.35594090e-01,  1.52892674e-02, -9.51178703e-02,  1.71890707e-02,\n",
       "        -1.87754354e-02]),\n",
       " 'b': array([-3.17886687])}"
      ]
     },
     "execution_count": 56,
     "metadata": {},
     "output_type": "execute_result"
    }
   ],
   "source": [
    "parametersSVM1"
   ]
  },
  {
   "cell_type": "code",
   "execution_count": 57,
   "metadata": {},
   "outputs": [
    {
     "data": {
      "text/plain": [
       "(137,)"
      ]
     },
     "execution_count": 57,
     "metadata": {},
     "output_type": "execute_result"
    }
   ],
   "source": [
    "parametersSVM1['w'].shape"
   ]
  },
  {
   "cell_type": "code",
   "execution_count": 58,
   "metadata": {},
   "outputs": [
    {
     "data": {
      "text/plain": [
       "(137,)"
      ]
     },
     "execution_count": 58,
     "metadata": {},
     "output_type": "execute_result"
    }
   ],
   "source": [
    "val.values[i,1:].shape"
   ]
  },
  {
   "cell_type": "code",
   "execution_count": 59,
   "metadata": {},
   "outputs": [
    {
     "data": {
      "text/plain": [
       "(1,)"
      ]
     },
     "execution_count": 59,
     "metadata": {},
     "output_type": "execute_result"
    }
   ],
   "source": [
    "parametersSVM1['b'].shape"
   ]
  },
  {
   "cell_type": "code",
   "execution_count": 60,
   "metadata": {},
   "outputs": [
    {
     "data": {
      "text/plain": [
       "array([3.33319565])"
      ]
     },
     "execution_count": 60,
     "metadata": {},
     "output_type": "execute_result"
    }
   ],
   "source": [
    "(parametersSVM1['w'].T@val.values[i,1:])+parametersSVM1['b']"
   ]
  },
  {
   "cell_type": "code",
   "execution_count": 61,
   "metadata": {},
   "outputs": [],
   "source": [
    "PredSVM2 = []\n",
    "for i in range(0,len(val)):\n",
    "    temp1 = (parametersSVM1['w'].T@val.values[i,1:])+parametersSVM1['b']\n",
    "    if temp1 > 0:\n",
    "        PredSVM2.append(5)\n",
    "    else:\n",
    "        PredSVM2.append(6)"
   ]
  },
  {
   "cell_type": "code",
   "execution_count": 66,
   "metadata": {},
   "outputs": [
    {
     "data": {
      "text/plain": [
       "2400"
      ]
     },
     "execution_count": 66,
     "metadata": {},
     "output_type": "execute_result"
    }
   ],
   "source": [
    "len(np.array(PredSVM2))"
   ]
  },
  {
   "cell_type": "code",
   "execution_count": 69,
   "metadata": {},
   "outputs": [
    {
     "data": {
      "text/plain": [
       "2400"
      ]
     },
     "execution_count": 69,
     "metadata": {},
     "output_type": "execute_result"
    }
   ],
   "source": [
    "len(val.values[:,0])"
   ]
  },
  {
   "cell_type": "code",
   "execution_count": 70,
   "metadata": {},
   "outputs": [
    {
     "data": {
      "text/html": [
       "<div>\n",
       "<style scoped>\n",
       "    .dataframe tbody tr th:only-of-type {\n",
       "        vertical-align: middle;\n",
       "    }\n",
       "\n",
       "    .dataframe tbody tr th {\n",
       "        vertical-align: top;\n",
       "    }\n",
       "\n",
       "    .dataframe thead th {\n",
       "        text-align: right;\n",
       "    }\n",
       "</style>\n",
       "<table border=\"1\" class=\"dataframe\">\n",
       "  <thead>\n",
       "    <tr style=\"text-align: right;\">\n",
       "      <th>col_0</th>\n",
       "      <th>5.0</th>\n",
       "      <th>6.0</th>\n",
       "    </tr>\n",
       "    <tr>\n",
       "      <th>row_0</th>\n",
       "      <th></th>\n",
       "      <th></th>\n",
       "    </tr>\n",
       "  </thead>\n",
       "  <tbody>\n",
       "    <tr>\n",
       "      <th>5</th>\n",
       "      <td>1197</td>\n",
       "      <td>1</td>\n",
       "    </tr>\n",
       "    <tr>\n",
       "      <th>6</th>\n",
       "      <td>3</td>\n",
       "      <td>1199</td>\n",
       "    </tr>\n",
       "  </tbody>\n",
       "</table>\n",
       "</div>"
      ],
      "text/plain": [
       "col_0   5.0   6.0\n",
       "row_0            \n",
       "5      1197     1\n",
       "6         3  1199"
      ]
     },
     "execution_count": 70,
     "metadata": {},
     "output_type": "execute_result"
    }
   ],
   "source": [
    "conMatrix = pd.crosstab(np.array(PredSVM2),val.values[:,0])\n",
    "conMatrix"
   ]
  },
  {
   "cell_type": "markdown",
   "metadata": {},
   "source": [
    "\n",
    "# MULTI CLASS SVM "
   ]
  },
  {
   "cell_type": "markdown",
   "metadata": {},
   "source": [
    "# DUAL FORMULATION"
   ]
  },
  {
   "cell_type": "code",
   "execution_count": 75,
   "metadata": {},
   "outputs": [],
   "source": [
    "import pandas as pd\n",
    "import numpy as np\n",
    "ApparelData = pd.read_csv('apparel-trainval.csv',sep=',',index_col = False)\n",
    "from tqdm import tqdm "
   ]
  },
  {
   "cell_type": "code",
   "execution_count": 76,
   "metadata": {
    "scrolled": true
   },
   "outputs": [],
   "source": [
    "newReconstructedData = pd.read_csv('ReconstructedApparelData.csv',sep=',',index_col = False)"
   ]
  },
  {
   "cell_type": "code",
   "execution_count": 77,
   "metadata": {},
   "outputs": [
    {
     "data": {
      "text/html": [
       "<div>\n",
       "<style scoped>\n",
       "    .dataframe tbody tr th:only-of-type {\n",
       "        vertical-align: middle;\n",
       "    }\n",
       "\n",
       "    .dataframe tbody tr th {\n",
       "        vertical-align: top;\n",
       "    }\n",
       "\n",
       "    .dataframe thead th {\n",
       "        text-align: right;\n",
       "    }\n",
       "</style>\n",
       "<table border=\"1\" class=\"dataframe\">\n",
       "  <thead>\n",
       "    <tr style=\"text-align: right;\">\n",
       "      <th></th>\n",
       "      <th>label</th>\n",
       "      <th>pixel1</th>\n",
       "      <th>pixel2</th>\n",
       "      <th>pixel3</th>\n",
       "      <th>pixel4</th>\n",
       "      <th>pixel5</th>\n",
       "      <th>pixel6</th>\n",
       "      <th>pixel7</th>\n",
       "      <th>pixel8</th>\n",
       "      <th>pixel9</th>\n",
       "      <th>...</th>\n",
       "      <th>pixel128</th>\n",
       "      <th>pixel129</th>\n",
       "      <th>pixel130</th>\n",
       "      <th>pixel131</th>\n",
       "      <th>pixel132</th>\n",
       "      <th>pixel133</th>\n",
       "      <th>pixel134</th>\n",
       "      <th>pixel135</th>\n",
       "      <th>pixel136</th>\n",
       "      <th>pixel137</th>\n",
       "    </tr>\n",
       "  </thead>\n",
       "  <tbody>\n",
       "    <tr>\n",
       "      <th>0</th>\n",
       "      <td>2</td>\n",
       "      <td>10.664973</td>\n",
       "      <td>14.993363</td>\n",
       "      <td>0.689468</td>\n",
       "      <td>10.980911</td>\n",
       "      <td>-4.788254</td>\n",
       "      <td>0.559623</td>\n",
       "      <td>2.141115</td>\n",
       "      <td>2.582798</td>\n",
       "      <td>-4.525370</td>\n",
       "      <td>...</td>\n",
       "      <td>1.231144</td>\n",
       "      <td>-1.230329</td>\n",
       "      <td>-1.386112</td>\n",
       "      <td>1.329886</td>\n",
       "      <td>-0.078191</td>\n",
       "      <td>-1.848467</td>\n",
       "      <td>-0.002599</td>\n",
       "      <td>-0.002010</td>\n",
       "      <td>0.730315</td>\n",
       "      <td>1.324559</td>\n",
       "    </tr>\n",
       "    <tr>\n",
       "      <th>1</th>\n",
       "      <td>9</td>\n",
       "      <td>-11.989748</td>\n",
       "      <td>11.812770</td>\n",
       "      <td>5.801049</td>\n",
       "      <td>3.418629</td>\n",
       "      <td>4.630650</td>\n",
       "      <td>2.061772</td>\n",
       "      <td>-3.109565</td>\n",
       "      <td>3.308504</td>\n",
       "      <td>-4.461980</td>\n",
       "      <td>...</td>\n",
       "      <td>-1.254702</td>\n",
       "      <td>-0.316795</td>\n",
       "      <td>-0.121830</td>\n",
       "      <td>0.771904</td>\n",
       "      <td>-1.098454</td>\n",
       "      <td>0.762716</td>\n",
       "      <td>-0.296107</td>\n",
       "      <td>0.191831</td>\n",
       "      <td>-0.115508</td>\n",
       "      <td>0.746862</td>\n",
       "    </tr>\n",
       "    <tr>\n",
       "      <th>2</th>\n",
       "      <td>6</td>\n",
       "      <td>20.517671</td>\n",
       "      <td>1.579784</td>\n",
       "      <td>-6.770122</td>\n",
       "      <td>2.884371</td>\n",
       "      <td>5.379185</td>\n",
       "      <td>2.618096</td>\n",
       "      <td>-0.246181</td>\n",
       "      <td>2.936941</td>\n",
       "      <td>3.415353</td>\n",
       "      <td>...</td>\n",
       "      <td>-0.058652</td>\n",
       "      <td>-0.250039</td>\n",
       "      <td>0.363645</td>\n",
       "      <td>-0.580938</td>\n",
       "      <td>0.246680</td>\n",
       "      <td>0.411300</td>\n",
       "      <td>-0.615495</td>\n",
       "      <td>-0.203482</td>\n",
       "      <td>0.286656</td>\n",
       "      <td>-0.199483</td>\n",
       "    </tr>\n",
       "    <tr>\n",
       "      <th>3</th>\n",
       "      <td>0</td>\n",
       "      <td>9.634535</td>\n",
       "      <td>-6.790917</td>\n",
       "      <td>0.907860</td>\n",
       "      <td>-4.577228</td>\n",
       "      <td>-8.377438</td>\n",
       "      <td>-0.094376</td>\n",
       "      <td>-8.672806</td>\n",
       "      <td>0.604500</td>\n",
       "      <td>-2.566944</td>\n",
       "      <td>...</td>\n",
       "      <td>-0.733568</td>\n",
       "      <td>-0.737954</td>\n",
       "      <td>0.839011</td>\n",
       "      <td>-1.039877</td>\n",
       "      <td>0.135285</td>\n",
       "      <td>0.579962</td>\n",
       "      <td>-1.163823</td>\n",
       "      <td>-0.044843</td>\n",
       "      <td>-1.631467</td>\n",
       "      <td>-0.366747</td>\n",
       "    </tr>\n",
       "    <tr>\n",
       "      <th>4</th>\n",
       "      <td>3</td>\n",
       "      <td>11.493442</td>\n",
       "      <td>-11.655488</td>\n",
       "      <td>7.208334</td>\n",
       "      <td>4.772964</td>\n",
       "      <td>0.594114</td>\n",
       "      <td>0.553685</td>\n",
       "      <td>0.388620</td>\n",
       "      <td>0.384219</td>\n",
       "      <td>2.063610</td>\n",
       "      <td>...</td>\n",
       "      <td>-0.054381</td>\n",
       "      <td>0.290273</td>\n",
       "      <td>-0.522406</td>\n",
       "      <td>-0.841872</td>\n",
       "      <td>0.088202</td>\n",
       "      <td>-0.049652</td>\n",
       "      <td>-0.125279</td>\n",
       "      <td>0.428250</td>\n",
       "      <td>-0.272701</td>\n",
       "      <td>-0.745442</td>\n",
       "    </tr>\n",
       "  </tbody>\n",
       "</table>\n",
       "<p>5 rows × 138 columns</p>\n",
       "</div>"
      ],
      "text/plain": [
       "   label     pixel1     pixel2    pixel3     pixel4    pixel5    pixel6  \\\n",
       "0      2  10.664973  14.993363  0.689468  10.980911 -4.788254  0.559623   \n",
       "1      9 -11.989748  11.812770  5.801049   3.418629  4.630650  2.061772   \n",
       "2      6  20.517671   1.579784 -6.770122   2.884371  5.379185  2.618096   \n",
       "3      0   9.634535  -6.790917  0.907860  -4.577228 -8.377438 -0.094376   \n",
       "4      3  11.493442 -11.655488  7.208334   4.772964  0.594114  0.553685   \n",
       "\n",
       "     pixel7    pixel8    pixel9    ...     pixel128  pixel129  pixel130  \\\n",
       "0  2.141115  2.582798 -4.525370    ...     1.231144 -1.230329 -1.386112   \n",
       "1 -3.109565  3.308504 -4.461980    ...    -1.254702 -0.316795 -0.121830   \n",
       "2 -0.246181  2.936941  3.415353    ...    -0.058652 -0.250039  0.363645   \n",
       "3 -8.672806  0.604500 -2.566944    ...    -0.733568 -0.737954  0.839011   \n",
       "4  0.388620  0.384219  2.063610    ...    -0.054381  0.290273 -0.522406   \n",
       "\n",
       "   pixel131  pixel132  pixel133  pixel134  pixel135  pixel136  pixel137  \n",
       "0  1.329886 -0.078191 -1.848467 -0.002599 -0.002010  0.730315  1.324559  \n",
       "1  0.771904 -1.098454  0.762716 -0.296107  0.191831 -0.115508  0.746862  \n",
       "2 -0.580938  0.246680  0.411300 -0.615495 -0.203482  0.286656 -0.199483  \n",
       "3 -1.039877  0.135285  0.579962 -1.163823 -0.044843 -1.631467 -0.366747  \n",
       "4 -0.841872  0.088202 -0.049652 -0.125279  0.428250 -0.272701 -0.745442  \n",
       "\n",
       "[5 rows x 138 columns]"
      ]
     },
     "execution_count": 77,
     "metadata": {},
     "output_type": "execute_result"
    }
   ],
   "source": [
    "newReconstructedData.head()"
   ]
  },
  {
   "cell_type": "code",
   "execution_count": 451,
   "metadata": {},
   "outputs": [
    {
     "name": "stdout",
     "output_type": "stream",
     "text": [
      "600\n",
      "600\n",
      "600\n"
     ]
    }
   ],
   "source": [
    "#UniqueLabels=np.array([0,1,2,3,4,5,6,7,8,9])\n",
    "UniqueLabels=np.array([0,1,2])\n",
    "DataPerClass = []\n",
    "index = 0\n",
    "for i in UniqueLabels:\n",
    "    tempdf = newReconstructedData.loc[newReconstructedData['label'] == i]\n",
    "    DataPerClass.append(tempdf.sample(frac = 0.1))\n",
    "    print(len(DataPerClass[index]))#+str(\" for \")+str(i))\n",
    "    index = index + 1\n",
    "num_classes = len(UniqueLabels)"
   ]
  },
  {
   "cell_type": "code",
   "execution_count": 452,
   "metadata": {},
   "outputs": [
    {
     "name": "stdout",
     "output_type": "stream",
     "text": [
      "1440\n",
      "360\n"
     ]
    }
   ],
   "source": [
    "train = {}\n",
    "val = {}\n",
    "for i in range(0,num_classes):\n",
    "    train[i] =  DataPerClass[i].sample(frac=0.8)\n",
    "    val[i]   =  DataPerClass[i].loc[~DataPerClass[i].index.isin(train[i].index)]\n",
    "allTrain = []\n",
    "allVal = [] \n",
    "for i in range(0,num_classes):\n",
    "    allTrain.append(train[i])\n",
    "    allVal.append(val[i])\n",
    "train1 = pd.concat(allTrain, ignore_index= True)\n",
    "val1 = pd.concat(allVal, ignore_index= True)\n",
    "#train1 = train1.sample(frac=1)\n",
    "#val1 = val1.sample(frac=1)\n",
    "print(len(train1))\n",
    "print(len(val1))\n",
    "trainLabelVector = train1.values[:,0]\n",
    "valLabelVector = val1.values[:,0]"
   ]
  },
  {
   "cell_type": "code",
   "execution_count": 453,
   "metadata": {},
   "outputs": [
    {
     "data": {
      "text/plain": [
       "(1440, 137)"
      ]
     },
     "execution_count": 453,
     "metadata": {},
     "output_type": "execute_result"
    }
   ],
   "source": [
    "C = 1\n",
    "#m,n = train.values[:,1:].shape\n",
    "X = train1.values[:,1:]\n",
    "X.shape"
   ]
  },
  {
   "cell_type": "markdown",
   "metadata": {},
   "source": [
    "for index,value in enumerate(trainLabelVector):\n",
    "    if(value==5):\n",
    "        trainLabelVector[index] = 0\n",
    "    elif(value==6):\n",
    "        trainLabelVector[index] = 1\n",
    "    elif(value==9):\n",
    "        trainLabelVector[index] = 2"
   ]
  },
  {
   "cell_type": "code",
   "execution_count": 454,
   "metadata": {},
   "outputs": [
    {
     "name": "stdout",
     "output_type": "stream",
     "text": [
      "hello\n"
     ]
    }
   ],
   "source": [
    "print('hello',flush=True)"
   ]
  },
  {
   "cell_type": "code",
   "execution_count": 455,
   "metadata": {},
   "outputs": [
    {
     "data": {
      "text/plain": [
       "0.887865609581771"
      ]
     },
     "execution_count": 455,
     "metadata": {},
     "output_type": "execute_result"
    }
   ],
   "source": [
    "np.random.rand(1).astype(float)[0]"
   ]
  },
  {
   "cell_type": "code",
   "execution_count": 476,
   "metadata": {
    "scrolled": true
   },
   "outputs": [
    {
     "name": "stderr",
     "output_type": "stream",
     "text": [
      "\n",
      "\n",
      "  0%|                                                 | 0/1440 [00:00<?, ?it/s]\n",
      "\n",
      " 11%|███▉                                 | 154/1440 [00:00<00:00, 1525.63it/s]\n",
      "\n",
      " 21%|███████▌                             | 296/1440 [00:00<00:00, 1487.91it/s]\n",
      "\n",
      " 30%|███████████▏                         | 436/1440 [00:00<00:00, 1456.01it/s]\n",
      "\n",
      " 41%|███████████████                      | 586/1440 [00:00<00:00, 1464.90it/s]\n",
      "\n",
      " 52%|███████████████████                  | 742/1440 [00:00<00:00, 1488.23it/s]\n",
      "\n",
      " 62%|███████████████████████▏             | 900/1440 [00:00<00:00, 1510.52it/s]\n",
      "\n",
      " 73%|██████████████████████████▍         | 1057/1440 [00:00<00:00, 1523.70it/s]\n",
      "\n",
      " 84%|██████████████████████████████▎     | 1212/1440 [00:00<00:00, 1527.22it/s]\n",
      "\n",
      " 95%|██████████████████████████████████  | 1363/1440 [00:00<00:00, 1517.63it/s]\n",
      "\n",
      "100%|████████████████████████████████████| 1440/1440 [00:00<00:00, 1488.45it/s]"
     ]
    }
   ],
   "source": [
    "fullXmatrix =[]\n",
    "for i in tqdm(range(0,X.shape[0])):\n",
    "    for p in range(0,num_classes):\n",
    "        if(trainLabelVector[i]==p):\n",
    "            #print('hey i am here')\n",
    "            #pass\n",
    "            tempArray = []\n",
    "            for j in range(0,num_classes):\n",
    "                for k in range(0,X.shape[1]):\n",
    "                    tempArray.append(np.random.rand(1).astype(float)[0])\n",
    "                tempArray.append(1.0)\n",
    "        else:     \n",
    "            #print('hey i am here')\n",
    "            tempArray = []\n",
    "            for j in range(0,num_classes):\n",
    "                if(j==trainLabelVector[i]):\n",
    "                    for k in range(0,X.shape[1]):\n",
    "                        tempArray.append(X[i][k])\n",
    "                    tempArray.append(1.0)\n",
    "                elif(j==p):\n",
    "                    for k in range(0,X.shape[1]):\n",
    "                        tempArray.append(-X[i][k])\n",
    "                    tempArray.append(-1.0)                    \n",
    "                else:\n",
    "                    for k in range(0,X.shape[1]):\n",
    "                        tempArray.append(0.0)\n",
    "                    tempArray.append(0.0)\n",
    "        fullXmatrix.append(np.array(tempArray))\n",
    "fullXmatrix = np.array(fullXmatrix)"
   ]
  },
  {
   "cell_type": "markdown",
   "metadata": {},
   "source": [
    "fullXmatrix =[]\n",
    "for i in tqdm(range(0,X.shape[0])):\n",
    "    for p in range(0,num_classes):\n",
    "        if(trainLabelVector[i]==p):\n",
    "            pass\n",
    "        else:            \n",
    "            tempArray = []\n",
    "            for j in range(0,num_classes):\n",
    "                if(j==trainLabelVector[i]):\n",
    "                    for k in range(0,X.shape[1]):\n",
    "                        tempArray.append(X[i][k])\n",
    "                    tempArray.append(1.0)\n",
    "                elif(j==p):\n",
    "                    for k in range(0,X.shape[1]):\n",
    "                        tempArray.append(-X[i][k])\n",
    "                    tempArray.append(-1.0)                    \n",
    "                else:\n",
    "                    for k in range(0,X.shape[1]):\n",
    "                        tempArray.append(0.0)\n",
    "                    tempArray.append(0.0)\n",
    "            fullXmatrix.append(tempArray)\n",
    "fullXmatrix = np.array(fullXmatrix)"
   ]
  },
  {
   "cell_type": "markdown",
   "metadata": {
    "scrolled": true
   },
   "source": [
    "fullXmatrix =[]\n",
    "for i in tqdm(range(0,X.shape[0])):\n",
    "    tempArray = []\n",
    "    for j in range(0,num_classes):\n",
    "        if(j==trainLabelVector[i]):\n",
    "            #print(j)\n",
    "            #print(LabelVector[i])\n",
    "            for k in range(0,X.shape[1]):\n",
    "                tempArray.append(X[i][k])\n",
    "            tempArray.append(1)\n",
    "        else:\n",
    "            for k in range(0,X.shape[1]):\n",
    "                tempArray.append(-X[i][k]/(num_classes - 1))\n",
    "            tempArray.append(-1/(num_classes - 1))\n",
    "    fullXmatrix.append(tempArray)\n",
    "fullXmatrix = np.array(fullXmatrix)"
   ]
  },
  {
   "cell_type": "code",
   "execution_count": 477,
   "metadata": {
    "scrolled": true
   },
   "outputs": [
    {
     "data": {
      "text/plain": [
       "(4320, 414)"
      ]
     },
     "execution_count": 477,
     "metadata": {},
     "output_type": "execute_result"
    }
   ],
   "source": [
    "fullXmatrix.shape"
   ]
  },
  {
   "cell_type": "code",
   "execution_count": 478,
   "metadata": {},
   "outputs": [
    {
     "data": {
      "text/plain": [
       "4320"
      ]
     },
     "execution_count": 478,
     "metadata": {},
     "output_type": "execute_result"
    }
   ],
   "source": [
    "H = fullXmatrix@fullXmatrix.T\n",
    "m = H.shape[0]\n",
    "m"
   ]
  },
  {
   "cell_type": "code",
   "execution_count": 479,
   "metadata": {},
   "outputs": [
    {
     "data": {
      "text/plain": [
       "(4320, 4320)"
      ]
     },
     "execution_count": 479,
     "metadata": {},
     "output_type": "execute_result"
    }
   ],
   "source": [
    "H.shape"
   ]
  },
  {
   "cell_type": "code",
   "execution_count": 480,
   "metadata": {},
   "outputs": [
    {
     "data": {
      "text/plain": [
       "4320"
      ]
     },
     "execution_count": 480,
     "metadata": {},
     "output_type": "execute_result"
    }
   ],
   "source": [
    "m"
   ]
  },
  {
   "cell_type": "code",
   "execution_count": 481,
   "metadata": {},
   "outputs": [],
   "source": [
    "from cvxopt import matrix as cvxopt_matrix\n",
    "from cvxopt import solvers as cvxopt_solvers"
   ]
  },
  {
   "cell_type": "markdown",
   "metadata": {
    "scrolled": true
   },
   "source": [
    "(np.vstack((np.eye(3)*-1,np.eye(3))))\n",
    "np.eye(2)\n",
    "(np.hstack((np.zeros(3), np.ones(3) * C)))\n",
    "#cvxopt_solvers.options['maxiters'] = 3\n",
    "#cvxopt_solvers.options['abstol'] = 1e-3\n",
    "#cvxopt_solvers.options['reltol'] = 1e-3\n",
    "#cvxopt_solvers.options['feastol'] = 1e-3\n",
    "#cvxopt_solvers.options['show_progress'] = True\n",
    "#opts = {'maxiters' : 10}"
   ]
  },
  {
   "cell_type": "code",
   "execution_count": 482,
   "metadata": {},
   "outputs": [],
   "source": [
    "G = cvxopt_matrix(np.vstack((np.eye(m)*-1,np.eye(m))))\n",
    "h = cvxopt_matrix(np.hstack((np.zeros(m), np.ones(m) * C)))"
   ]
  },
  {
   "cell_type": "markdown",
   "metadata": {},
   "source": [
    "Amatrix = np.zeros((m,m))\n",
    "for i in tqdm(range(0,len(train))):\n",
    "    for x in range(0,Amatrix.shape[0]):\n",
    "        if((x<((i+1)*num_classes)) and (x>=((i)*num_classes))):\n",
    "            for y in range(0,Amatrix.shape[1]):\n",
    "                if((y<((trainLabelVector[i]+1)*num_classes)) and (y>=((trainLabelVector[i])*num_classes))):\n",
    "                    if(x==y):\n",
    "                        Amatrix[x,y]= 1.0        \n",
    "                elif(y>((trainLabelVector[i]+1)*num_classes)):\n",
    "                    break\n",
    "        elif(x>((i+1)*num_classes)):\n",
    "            break\n",
    "#for (x,y), value in np.ndenumerate(Amatrix):"
   ]
  },
  {
   "cell_type": "code",
   "execution_count": 483,
   "metadata": {},
   "outputs": [
    {
     "name": "stderr",
     "output_type": "stream",
     "text": [
      "\n",
      "\n",
      "  0%|                                                 | 0/1440 [00:00<?, ?it/s]\n",
      "\n",
      "100%|███████████████████████████████████| 1440/1440 [00:00<00:00, 13853.99it/s]"
     ]
    }
   ],
   "source": [
    "Amatrix =[]\n",
    "for i in tqdm(range(0,len(train1))):\n",
    "    #print(i)\n",
    "    #print(m)\n",
    "    #print(int((i*num_classes)+trainLabelVector[i]))\n",
    "    temp2 = [0.0]*m\n",
    "    temp2[int((i*num_classes)+trainLabelVector[i])] = 1.0\n",
    "    Amatrix.append(temp2)\n",
    "Amatrix = np.array(Amatrix)"
   ]
  },
  {
   "cell_type": "code",
   "execution_count": 375,
   "metadata": {},
   "outputs": [
    {
     "data": {
      "text/plain": [
       "array([[1., 0., 0., ..., 0., 0., 0.],\n",
       "       [0., 0., 0., ..., 0., 0., 0.],\n",
       "       [0., 0., 0., ..., 0., 0., 0.],\n",
       "       ...,\n",
       "       [0., 0., 0., ..., 0., 0., 0.],\n",
       "       [0., 0., 0., ..., 0., 0., 0.],\n",
       "       [0., 0., 0., ..., 0., 0., 1.]])"
      ]
     },
     "execution_count": 375,
     "metadata": {},
     "output_type": "execute_result"
    }
   ],
   "source": [
    "Amatrix"
   ]
  },
  {
   "cell_type": "code",
   "execution_count": 484,
   "metadata": {
    "scrolled": true
   },
   "outputs": [],
   "source": [
    "A = cvxopt_matrix(Amatrix)\n",
    "b = cvxopt_matrix(np.zeros(Amatrix.shape[0]))\n",
    "q = cvxopt_matrix(-1*np.ones((m, 1)))\n",
    "P = cvxopt_matrix(H)"
   ]
  },
  {
   "cell_type": "code",
   "execution_count": 485,
   "metadata": {
    "scrolled": false
   },
   "outputs": [
    {
     "name": "stdout",
     "output_type": "stream",
     "text": [
      "     pcost       dcost       gap    pres   dres\n",
      " 0: -1.7188e+03 -1.1115e+04  6e+04  3e+00  6e-12\n",
      " 1: -1.2243e+03 -7.7202e+03  1e+04  5e-01  5e-12\n",
      " 2: -1.1767e+03 -4.3378e+03  5e+03  2e-01  3e-12\n",
      " 3: -1.2671e+03 -2.7732e+03  2e+03  6e-02  2e-12\n",
      " 4: -1.3310e+03 -2.2283e+03  1e+03  3e-02  1e-12\n",
      " 5: -1.3620e+03 -1.9730e+03  9e+02  2e-02  1e-12\n",
      " 6: -1.3667e+03 -1.8476e+03  7e+02  1e-02  7e-13\n",
      " 7: -1.4013e+03 -1.6238e+03  3e+02  4e-03  5e-13\n",
      " 8: -1.4326e+03 -1.4828e+03  6e+01  7e-04  3e-13\n",
      " 9: -1.4365e+03 -1.4655e+03  3e+01  3e-04  3e-13\n",
      "10: -1.4402e+03 -1.4525e+03  1e+01  1e-04  2e-13\n",
      "11: -1.4419e+03 -1.4469e+03  5e+00  1e-05  3e-13\n",
      "12: -1.4426e+03 -1.4455e+03  3e+00  5e-06  3e-13\n",
      "13: -1.4431e+03 -1.4445e+03  1e+00  2e-16  3e-13\n",
      "14: -1.4435e+03 -1.4439e+03  4e-01  2e-16  3e-13\n",
      "15: -1.4437e+03 -1.4437e+03  4e-02  2e-16  3e-13\n",
      "16: -1.4437e+03 -1.4437e+03  1e-03  2e-16  3e-13\n",
      "Optimal solution found.\n"
     ]
    }
   ],
   "source": [
    "opts = {'maxiters' : 30,'solver':'mosek'}\n",
    "sol = cvxopt_solvers.qp(P, q, G, h, options = opts)#, A, b,solver = 'glpk')\n",
    "alphas2 = np.array(sol['x'])"
   ]
  },
  {
   "cell_type": "markdown",
   "metadata": {},
   "source": [
    "import pickle\n",
    "pickle_out = open(\"alphaMulticlassSVM.pickle\",\"wb\")\n",
    "pickle.dump(alphas, pickle_out)\n",
    "pickle_out.close()"
   ]
  },
  {
   "cell_type": "markdown",
   "metadata": {},
   "source": [
    "pickle_in = open(\"alphaMulticlassSVM.pickle\",\"rb\")\n",
    "alphas1 = pickle.load(pickle_in)"
   ]
  },
  {
   "cell_type": "markdown",
   "metadata": {},
   "source": [
    "for i in range(0,len(train)):\n",
    "    for j in range(0,num_classes):\n",
    "        if(j==trainLabelVector[i]):        \n",
    "            alphas3[(num_classes*i)+j] = 0"
   ]
  },
  {
   "cell_type": "code",
   "execution_count": 486,
   "metadata": {},
   "outputs": [
    {
     "data": {
      "text/plain": [
       "(4320, 414)"
      ]
     },
     "execution_count": 486,
     "metadata": {},
     "output_type": "execute_result"
    }
   ],
   "source": [
    "fullXmatrix.shape"
   ]
  },
  {
   "cell_type": "code",
   "execution_count": 487,
   "metadata": {},
   "outputs": [],
   "source": [
    "w = fullXmatrix.T@alphas2"
   ]
  },
  {
   "cell_type": "code",
   "execution_count": 488,
   "metadata": {},
   "outputs": [
    {
     "data": {
      "text/plain": [
       "1591"
      ]
     },
     "execution_count": 488,
     "metadata": {},
     "output_type": "execute_result"
    }
   ],
   "source": [
    "len(alphas2[alphas2>10**-6])"
   ]
  },
  {
   "cell_type": "code",
   "execution_count": 489,
   "metadata": {},
   "outputs": [],
   "source": [
    "#w = (fullXmatrix*(alphas2))#.reshape(-1,1)"
   ]
  },
  {
   "cell_type": "code",
   "execution_count": 490,
   "metadata": {},
   "outputs": [],
   "source": [
    "#w = w.sum(axis = 0).reshape(w.shape[1],1)"
   ]
  },
  {
   "cell_type": "code",
   "execution_count": 491,
   "metadata": {},
   "outputs": [
    {
     "data": {
      "text/plain": [
       "(414, 1)"
      ]
     },
     "execution_count": 491,
     "metadata": {},
     "output_type": "execute_result"
    }
   ],
   "source": [
    "w.shape"
   ]
  },
  {
   "cell_type": "code",
   "execution_count": 492,
   "metadata": {},
   "outputs": [
    {
     "name": "stdout",
     "output_type": "stream",
     "text": [
      "hello\n"
     ]
    }
   ],
   "source": [
    "print('hello')"
   ]
  },
  {
   "cell_type": "code",
   "execution_count": 493,
   "metadata": {
    "scrolled": true
   },
   "outputs": [
    {
     "name": "stderr",
     "output_type": "stream",
     "text": [
      "\n",
      "\n",
      "  0%|                                                  | 0/360 [00:00<?, ?it/s]"
     ]
    },
    {
     "name": "stdout",
     "output_type": "stream",
     "text": [
      "[array([[3.22980373]]), array([[-1.76865528]]), array([[3.22073021]])]\n",
      "0\n",
      "[array([[5.4309691]]), array([[1.52988537]]), array([[8.16981]])]\n",
      "2\n",
      "[array([[4.33243798]]), array([[-2.86957738]]), array([[4.64978436]])]\n",
      "2\n",
      "[array([[5.45352857]]), array([[-1.7793523]]), array([[7.00541007]])]\n",
      "2\n",
      "[array([[1.74669161]]), array([[-2.1852137]]), array([[4.14456975]])]\n",
      "2\n",
      "[array([[4.67197022]]), array([[-3.3366582]]), array([[10.4404482]])]\n",
      "2\n",
      "[array([[4.39076006]]), array([[-4.97482733]]), array([[7.55416244]])]\n",
      "2\n",
      "[array([[7.70261272]]), array([[-1.44158253]]), array([[9.20691609]])]\n",
      "2\n",
      "[array([[6.11210777]]), array([[-2.93971656]]), array([[7.64328283]])]\n",
      "2\n",
      "[array([[1.66383878]]), array([[1.4535292]]), array([[1.08893992]])]\n",
      "0\n",
      "[array([[2.83041529]]), array([[-2.44415345]]), array([[5.83109475]])]\n",
      "2\n",
      "[array([[4.72791711]]), array([[-3.47439076]]), array([[5.78525011]])]\n",
      "2\n",
      "[array([[3.19372246]]), array([[-7.05935053]]), array([[5.56404368]])]\n",
      "2\n",
      "[array([[5.16570658]]), array([[-2.30345148]]), array([[9.33829306]])]\n",
      "2\n",
      "[array([[6.28956728]]), array([[-4.04829764]]), array([[8.51558887]])]\n",
      "2\n",
      "[array([[4.71287638]]), array([[-7.29642219]]), array([[5.31042681]])]\n",
      "2\n",
      "[array([[2.57335215]]), array([[-0.63709181]]), array([[-0.45340865]])]\n",
      "0\n",
      "[array([[1.27718828]]), array([[3.23503661]]), array([[1.22815395]])]\n",
      "1\n",
      "[array([[4.73010557]]), array([[-1.51118062]]), array([[7.4368055]])]\n",
      "2\n",
      "[array([[1.51039487]]), array([[1.55769578]]), array([[0.11171118]])]\n",
      "1\n"
     ]
    },
    {
     "name": "stderr",
     "output_type": "stream",
     "text": [
      "\n",
      "\n",
      "  6%|██▏                                     | 20/360 [00:00<00:01, 190.58it/s]"
     ]
    },
    {
     "name": "stdout",
     "output_type": "stream",
     "text": [
      "[array([[3.41698195]]), array([[-11.05052181]]), array([[7.38483247]])]\n",
      "2\n",
      "[array([[2.47495025]]), array([[-6.2139649]]), array([[7.32847737]])]\n",
      "2\n",
      "[array([[1.75097725]]), array([[2.60844807]]), array([[3.87788583]])]\n",
      "2\n",
      "[array([[5.9519653]]), array([[-7.32054884]]), array([[11.77479438]])]\n",
      "2\n",
      "[array([[4.71003135]]), array([[0.04594543]]), array([[8.16585604]])]\n",
      "2\n",
      "[array([[1.37116774]]), array([[-0.64333888]]), array([[2.90320447]])]\n",
      "2\n",
      "[array([[6.20684183]]), array([[-2.57896599]]), array([[7.16854586]])]\n",
      "2\n",
      "[array([[3.34694336]]), array([[-5.11132389]]), array([[6.0230286]])]\n",
      "2\n",
      "[array([[3.15476271]]), array([[-10.64706246]]), array([[6.20155222]])]\n",
      "2\n",
      "[array([[3.93854023]]), array([[-9.92235238]]), array([[1.90699894]])]\n",
      "0\n",
      "[array([[-1.64267095]]), array([[2.24396897]]), array([[-0.76487705]])]\n",
      "1\n",
      "[array([[2.79923166]]), array([[-2.02871958]]), array([[4.12378725]])]\n",
      "2\n",
      "[array([[6.49210693]]), array([[-1.16338605]]), array([[7.34672785]])]\n",
      "2\n",
      "[array([[3.00209487]]), array([[0.1983938]]), array([[6.84988221]])]\n",
      "2\n",
      "[array([[2.44507034]]), array([[-0.66090271]]), array([[4.20665492]])]\n",
      "2\n",
      "[array([[4.29813232]]), array([[-5.13244161]]), array([[9.88543279]])]\n",
      "2\n",
      "[array([[4.54749326]]), array([[-8.41375637]]), array([[6.89407623]])]\n",
      "2\n",
      "[array([[1.99082133]]), array([[-0.29663708]]), array([[1.06857991]])]\n",
      "0\n",
      "[array([[4.82006782]]), array([[-1.79446747]]), array([[2.56365507]])]\n",
      "0\n"
     ]
    },
    {
     "name": "stderr",
     "output_type": "stream",
     "text": [
      "\n",
      "\n",
      " 11%|████▎                                   | 39/360 [00:00<00:01, 187.62it/s]"
     ]
    },
    {
     "name": "stdout",
     "output_type": "stream",
     "text": [
      "[array([[3.38033665]]), array([[-0.6825035]]), array([[7.08157505]])]\n",
      "2\n",
      "[array([[3.14646002]]), array([[2.18213127]]), array([[4.59709571]])]\n",
      "2\n",
      "[array([[3.23483514]]), array([[-5.16616632]]), array([[7.2477381]])]\n",
      "2\n",
      "[array([[2.23080445]]), array([[-7.77647361]]), array([[2.61380572]])]\n",
      "2\n",
      "[array([[1.42032894]]), array([[-0.69235246]]), array([[1.96748174]])]\n",
      "2\n",
      "[array([[3.65520418]]), array([[-5.50318083]]), array([[6.67722538]])]\n",
      "2\n",
      "[array([[1.69906269]]), array([[-3.37534883]]), array([[6.11340566]])]\n",
      "2\n",
      "[array([[2.91528564]]), array([[-4.50565971]]), array([[8.07283234]])]\n",
      "2\n",
      "[array([[2.4863296]]), array([[0.14521269]]), array([[3.56609673]])]\n",
      "2\n",
      "[array([[6.45473586]]), array([[-9.70992931]]), array([[12.0749084]])]\n",
      "2\n",
      "[array([[1.76172384]]), array([[3.25333408]]), array([[4.57213242]])]\n",
      "2\n",
      "[array([[0.86430632]]), array([[-1.83181981]]), array([[1.99988013]])]\n",
      "2\n",
      "[array([[5.81513845]]), array([[-3.05706089]]), array([[8.79571272]])]\n",
      "2\n",
      "[array([[7.10508934]]), array([[-5.61842233]]), array([[9.07676095]])]\n",
      "2\n",
      "[array([[6.03669258]]), array([[-2.43522815]]), array([[10.19713541]])]\n",
      "2\n",
      "[array([[4.29070658]]), array([[-8.98506605]]), array([[8.55292075]])]\n",
      "2\n",
      "[array([[-0.25697411]]), array([[-0.91734484]]), array([[-1.27169492]])]\n",
      "0\n",
      "[array([[0.78821026]]), array([[-4.29374174]]), array([[4.95278982]])]\n",
      "2\n",
      "[array([[4.84373736]]), array([[-6.4212791]]), array([[7.72296179]])]\n",
      "2\n",
      "[array([[2.61213251]]), array([[-3.70219061]]), array([[2.05647048]])]\n",
      "0\n"
     ]
    },
    {
     "name": "stderr",
     "output_type": "stream",
     "text": [
      "\n",
      "\n",
      " 16%|██████▌                                 | 59/360 [00:00<00:01, 188.50it/s]"
     ]
    },
    {
     "name": "stdout",
     "output_type": "stream",
     "text": [
      "[array([[0.78654636]]), array([[-6.22609374]]), array([[4.72183047]])]\n",
      "2\n",
      "[array([[0.26957259]]), array([[0.7809065]]), array([[5.07107849]])]\n",
      "2\n",
      "[array([[2.10177074]]), array([[-1.73143469]]), array([[3.55637576]])]\n",
      "2\n",
      "[array([[7.16378564]]), array([[-4.10333294]]), array([[12.44224189]])]\n",
      "2\n",
      "[array([[3.17223441]]), array([[-2.28943629]]), array([[3.87685298]])]\n",
      "2\n",
      "[array([[4.69369428]]), array([[-0.47420847]]), array([[7.48430533]])]\n",
      "2\n",
      "[array([[1.82488343]]), array([[1.38011463]]), array([[2.9684423]])]\n",
      "2\n",
      "[array([[6.14079371]]), array([[-4.64195136]]), array([[8.74055845]])]\n",
      "2\n",
      "[array([[4.26873117]]), array([[-0.81020747]]), array([[9.28117075]])]\n",
      "2\n",
      "[array([[4.82707816]]), array([[-5.36527377]]), array([[3.36793278]])]\n",
      "0\n",
      "[array([[2.52258107]]), array([[-3.0612179]]), array([[5.75850296]])]\n",
      "2\n",
      "[array([[3.86056564]]), array([[-10.31963068]]), array([[7.55243046]])]\n",
      "2\n",
      "[array([[2.33488227]]), array([[-2.39543662]]), array([[1.77375875]])]\n",
      "0\n",
      "[array([[3.65638234]]), array([[-4.26626142]]), array([[4.43347405]])]\n",
      "2\n",
      "[array([[2.6383284]]), array([[-9.69154741]]), array([[9.99560946]])]\n",
      "2\n"
     ]
    },
    {
     "name": "stderr",
     "output_type": "stream",
     "text": [
      "\n",
      "\n",
      " 21%|████████▏                               | 74/360 [00:00<00:01, 173.84it/s]"
     ]
    },
    {
     "name": "stdout",
     "output_type": "stream",
     "text": [
      "[array([[3.13601647]]), array([[-5.45930982]]), array([[6.36691107]])]\n",
      "2\n",
      "[array([[0.85643255]]), array([[3.84514022]]), array([[1.61731963]])]\n",
      "1\n",
      "[array([[2.91872431]]), array([[-13.44576782]]), array([[7.13281964]])]\n",
      "2\n",
      "[array([[3.53766985]]), array([[-5.25429537]]), array([[6.58075106]])]\n",
      "2\n",
      "[array([[5.88876417]]), array([[-8.23757368]]), array([[10.47213249]])]\n",
      "2\n",
      "[array([[1.06908021]]), array([[2.21823276]]), array([[2.04168251]])]\n",
      "1\n",
      "[array([[3.48696341]]), array([[-4.20233054]]), array([[5.63940285]])]\n",
      "2\n",
      "[array([[5.28176076]]), array([[-3.53777915]]), array([[7.29516385]])]\n",
      "2\n",
      "[array([[5.01786975]]), array([[-13.18480592]]), array([[9.56152277]])]\n",
      "2\n",
      "[array([[2.01962063]]), array([[-0.60461964]]), array([[5.4106099]])]\n",
      "2\n",
      "[array([[2.39817658]]), array([[1.77082624]]), array([[3.33508646]])]\n",
      "2\n",
      "[array([[4.57989106]]), array([[3.30946576]]), array([[10.08161147]])]\n",
      "2\n",
      "[array([[4.70098301]]), array([[-7.50643313]]), array([[9.42396028]])]\n",
      "2\n",
      "[array([[4.13965505]]), array([[-0.92159261]]), array([[5.24237075]])]\n",
      "2\n"
     ]
    },
    {
     "name": "stderr",
     "output_type": "stream",
     "text": [
      "\n",
      "\n",
      " 24%|█████████▊                              | 88/360 [00:00<00:01, 161.00it/s]"
     ]
    },
    {
     "name": "stdout",
     "output_type": "stream",
     "text": [
      "[array([[1.13279244]]), array([[-1.30021354]]), array([[1.1589915]])]\n",
      "2\n",
      "[array([[3.74316094]]), array([[-7.35976224]]), array([[6.17810491]])]\n",
      "2\n",
      "[array([[4.10590579]]), array([[0.55086088]]), array([[5.85238864]])]\n",
      "2\n",
      "[array([[4.3022444]]), array([[-4.48836855]]), array([[9.07126925]])]\n",
      "2\n",
      "[array([[4.86290514]]), array([[-2.05677644]]), array([[6.67933308]])]\n",
      "2\n",
      "[array([[2.20416907]]), array([[-12.32754751]]), array([[7.6829868]])]\n",
      "2\n",
      "[array([[4.39755474]]), array([[0.11334731]]), array([[3.29599845]])]\n",
      "0\n",
      "[array([[2.53815554]]), array([[-1.30529474]]), array([[5.78619259]])]\n",
      "2\n",
      "[array([[5.60121002]]), array([[1.31007116]]), array([[6.94966663]])]\n",
      "2\n",
      "[array([[3.42787583]]), array([[0.41877898]]), array([[5.7533772]])]\n",
      "2\n",
      "[array([[1.76139948]]), array([[-7.22191561]]), array([[0.70055932]])]\n",
      "0\n",
      "[array([[5.31838609]]), array([[1.10130925]]), array([[6.5393679]])]\n",
      "2\n",
      "[array([[4.47232764]]), array([[-2.98253945]]), array([[9.83348614]])]\n",
      "2\n",
      "[array([[4.79177385]]), array([[-5.65800154]]), array([[5.27087197]])]\n",
      "2\n"
     ]
    },
    {
     "name": "stderr",
     "output_type": "stream",
     "text": [
      "\n",
      "\n",
      " 28%|███████████                            | 102/360 [00:00<00:02, 123.52it/s]"
     ]
    },
    {
     "name": "stdout",
     "output_type": "stream",
     "text": [
      "[array([[5.35657364]]), array([[0.12818982]]), array([[2.21872422]])]\n",
      "0\n",
      "[array([[0.80236623]]), array([[0.12825433]]), array([[-1.02135293]])]\n",
      "0\n",
      "[array([[5.90256469]]), array([[-1.54163716]]), array([[9.59163947]])]\n",
      "2\n",
      "[array([[2.93536786]]), array([[-2.25257785]]), array([[9.96258929]])]\n",
      "2\n",
      "[array([[1.76573922]]), array([[-9.14222942]]), array([[5.58274856]])]\n",
      "2\n",
      "[array([[2.56360441]]), array([[-3.7638533]]), array([[4.51270494]])]\n",
      "2\n",
      "[array([[6.08101576]]), array([[-8.83828626]]), array([[10.90145454]])]\n",
      "2\n",
      "[array([[3.63817422]]), array([[-7.35227976]]), array([[3.06003492]])]\n",
      "0\n",
      "[array([[2.9521311]]), array([[-1.60008114]]), array([[5.37135678]])]\n",
      "2\n",
      "[array([[3.05025101]]), array([[-1.37667969]]), array([[5.57483579]])]\n",
      "2\n",
      "[array([[6.06983942]]), array([[-9.68386158]]), array([[6.77075743]])]\n",
      "2\n",
      "[array([[2.79185467]]), array([[-10.06813894]]), array([[4.43267155]])]\n",
      "2\n",
      "[array([[4.50311512]]), array([[-0.78375302]]), array([[6.60831155]])]\n",
      "2\n",
      "[array([[2.45144383]]), array([[-6.26217408]]), array([[5.63932161]])]\n",
      "2\n",
      "[array([[4.05973804]]), array([[-1.29923263]]), array([[7.14020981]])]\n",
      "2\n",
      "[array([[5.19916608]]), array([[-3.67613688]]), array([[2.22311088]])]\n",
      "0\n",
      "[array([[4.53398859]]), array([[-5.75230707]]), array([[5.43805542]])]\n",
      "2\n"
     ]
    },
    {
     "name": "stderr",
     "output_type": "stream",
     "text": [
      "\n",
      "\n",
      " 33%|████████████▉                          | 119/360 [00:00<00:01, 133.31it/s]"
     ]
    },
    {
     "name": "stdout",
     "output_type": "stream",
     "text": [
      "[array([[9.53340891]]), array([[-2.51456964]]), array([[8.45442476]])]\n",
      "0\n",
      "[array([[-0.81158847]]), array([[-8.23013662]]), array([[8.13471387]])]\n",
      "2\n",
      "[array([[-0.18171619]]), array([[-6.94015446]]), array([[6.8361303]])]\n",
      "2\n",
      "[array([[-1.27679722]]), array([[-4.0760276]]), array([[2.59821332]])]\n",
      "2\n",
      "[array([[0.84713363]]), array([[-4.37365013]]), array([[6.38908069]])]\n",
      "2\n",
      "[array([[-2.53878363]]), array([[-2.76168916]]), array([[6.21850753]])]\n",
      "2\n",
      "[array([[0.20723422]]), array([[-1.20562412]]), array([[4.88867789]])]\n",
      "2\n",
      "[array([[-1.15982043]]), array([[-1.92612198]]), array([[4.35039805]])]\n",
      "2\n",
      "[array([[-2.00948768]]), array([[-0.72078657]]), array([[4.23746411]])]\n",
      "2\n",
      "[array([[-2.73214969]]), array([[-3.53717987]]), array([[5.02798539]])]\n",
      "2\n",
      "[array([[-2.5055716]]), array([[-1.69940918]]), array([[2.48761605]])]\n",
      "2\n",
      "[array([[-0.41964573]]), array([[-1.5457963]]), array([[0.27970006]])]\n",
      "2\n",
      "[array([[-1.68590763]]), array([[-2.97424791]]), array([[7.64233452]])]\n",
      "2\n",
      "[array([[-3.7240669]]), array([[-6.6247213]]), array([[4.29106848]])]\n",
      "2\n",
      "[array([[-2.29636281]]), array([[-3.63320623]]), array([[3.4785413]])]\n",
      "2\n",
      "[array([[-2.54134022]]), array([[-2.71743224]]), array([[4.17642515]])]\n",
      "2\n",
      "[array([[-2.96427595]]), array([[-0.67840812]]), array([[1.88465646]])]\n",
      "2\n"
     ]
    },
    {
     "name": "stderr",
     "output_type": "stream",
     "text": [
      "\n",
      "\n",
      " 38%|██████████████▋                        | 136/360 [00:00<00:01, 140.79it/s]"
     ]
    },
    {
     "name": "stdout",
     "output_type": "stream",
     "text": [
      "[array([[-0.98632314]]), array([[-3.51812933]]), array([[6.03946284]])]\n",
      "2\n",
      "[array([[-1.42664725]]), array([[-0.79833538]]), array([[6.08305956]])]\n",
      "2\n",
      "[array([[-1.50188569]]), array([[-1.75053285]]), array([[4.14609048]])]\n",
      "2\n",
      "[array([[-0.08028478]]), array([[-3.41784049]]), array([[3.42987117]])]\n",
      "2\n",
      "[array([[0.72377597]]), array([[-2.98529016]]), array([[4.83981333]])]\n",
      "2\n",
      "[array([[-2.36439851]]), array([[-0.83467859]]), array([[1.96151731]])]\n",
      "2\n",
      "[array([[-0.76061383]]), array([[-4.58750512]]), array([[4.02672656]])]\n",
      "2\n",
      "[array([[-3.2484344]]), array([[-0.84233358]]), array([[2.92024278]])]\n",
      "2\n",
      "[array([[-0.42143056]]), array([[-2.11787019]]), array([[4.41632451]])]\n",
      "2\n",
      "[array([[-1.64264623]]), array([[-2.74197643]]), array([[7.15740351]])]\n",
      "2\n",
      "[array([[-2.23760884]]), array([[-7.07878094]]), array([[5.86572574]])]\n",
      "2\n",
      "[array([[-3.48995929]]), array([[-3.00006155]]), array([[6.53625741]])]\n",
      "2\n",
      "[array([[-3.80887693]]), array([[-4.97097238]]), array([[8.41320889]])]\n",
      "2\n",
      "[array([[-2.75576882]]), array([[-6.95587178]]), array([[7.20590357]])]\n",
      "2\n",
      "[array([[-2.32526206]]), array([[-2.50205681]]), array([[7.61699867]])]\n",
      "2\n"
     ]
    },
    {
     "name": "stderr",
     "output_type": "stream",
     "text": [
      "\n",
      "\n",
      " 42%|████████████████▎                      | 151/360 [00:01<00:01, 143.05it/s]"
     ]
    },
    {
     "name": "stdout",
     "output_type": "stream",
     "text": [
      "[array([[1.17767551]]), array([[-3.10873448]]), array([[4.23558479]])]\n",
      "2\n",
      "[array([[-0.66784653]]), array([[-5.91240773]]), array([[4.6997145]])]\n",
      "2\n",
      "[array([[-2.51987235]]), array([[-3.49060399]]), array([[5.71465056]])]\n",
      "2\n",
      "[array([[-1.68026391]]), array([[-1.89382794]]), array([[4.29827944]])]\n",
      "2\n",
      "[array([[-2.4737801]]), array([[-1.5400177]]), array([[1.88105878]])]\n",
      "2\n",
      "[array([[2.4795003]]), array([[-3.2656055]]), array([[7.79354594]])]\n",
      "2\n",
      "[array([[-0.39202575]]), array([[-8.09218648]]), array([[7.2995153]])]\n",
      "2\n",
      "[array([[-0.80674997]]), array([[-9.49814957]]), array([[8.5390912]])]\n",
      "2\n",
      "[array([[2.72479488]]), array([[-3.69846294]]), array([[4.41857684]])]\n",
      "2\n",
      "[array([[-3.48343296]]), array([[-3.3122083]]), array([[5.75416873]])]\n",
      "2\n",
      "[array([[-1.02106897]]), array([[-3.00561034]]), array([[3.26423469]])]\n",
      "2\n",
      "[array([[-0.67272754]]), array([[-3.75230737]]), array([[6.40713707]])]\n",
      "2\n",
      "[array([[-2.3317037]]), array([[-2.15078564]]), array([[5.33829337]])]\n",
      "2\n",
      "[array([[1.82325858]]), array([[0.9920937]]), array([[2.43597468]])]\n",
      "2\n",
      "[array([[-3.27474363]]), array([[-5.02466103]]), array([[5.75227672]])]\n",
      "2\n"
     ]
    },
    {
     "name": "stderr",
     "output_type": "stream",
     "text": [
      "\n",
      "\n",
      " 46%|██████████████████▍                     | 166/360 [00:01<00:01, 98.52it/s]"
     ]
    },
    {
     "name": "stdout",
     "output_type": "stream",
     "text": [
      "[array([[-0.96261109]]), array([[-4.66299516]]), array([[5.43874396]])]\n",
      "2\n",
      "[array([[-1.24015767]]), array([[-0.06213115]]), array([[3.7303223]])]\n",
      "2\n",
      "[array([[-1.94049176]]), array([[-3.94591125]]), array([[4.2354032]])]\n",
      "2\n",
      "[array([[-2.40903517]]), array([[-4.36550674]]), array([[8.92050525]])]\n",
      "2\n",
      "[array([[-0.25580741]]), array([[-2.30235601]]), array([[4.89706532]])]\n",
      "2\n",
      "[array([[-1.58307764]]), array([[-0.54267003]]), array([[2.8877616]])]\n",
      "2\n",
      "[array([[0.0409303]]), array([[-10.64240193]]), array([[8.4498972]])]\n",
      "2\n",
      "[array([[-3.03723262]]), array([[-4.45533706]]), array([[5.40068143]])]\n",
      "2\n",
      "[array([[0.57215579]]), array([[-1.41685547]]), array([[7.06063791]])]\n",
      "2\n",
      "[array([[-4.07266571]]), array([[-7.47347128]]), array([[7.44663069]])]\n",
      "2\n",
      "[array([[-1.63760172]]), array([[-6.99402208]]), array([[4.40834599]])]\n",
      "2\n",
      "[array([[2.21838846]]), array([[-2.45173147]]), array([[7.75455957]])]\n",
      "2\n",
      "[array([[-2.3520936]]), array([[-4.20196443]]), array([[8.63371793]])]\n",
      "2\n"
     ]
    },
    {
     "name": "stderr",
     "output_type": "stream",
     "text": [
      "\n",
      "\n",
      " 50%|███████████████████▍                   | 179/360 [00:01<00:01, 105.73it/s]"
     ]
    },
    {
     "name": "stdout",
     "output_type": "stream",
     "text": [
      "[array([[-1.11194882]]), array([[-4.73008776]]), array([[8.54439665]])]\n",
      "2\n",
      "[array([[1.15623181]]), array([[-1.97506316]]), array([[7.56665073]])]\n",
      "2\n",
      "[array([[-1.53746241]]), array([[-2.49337275]]), array([[8.28180326]])]\n",
      "2\n",
      "[array([[-1.30116539]]), array([[-3.42100597]]), array([[3.87266608]])]\n",
      "2\n",
      "[array([[-0.56519196]]), array([[-2.07878873]]), array([[9.22720289]])]\n",
      "2\n",
      "[array([[-0.66450898]]), array([[-1.0540385]]), array([[6.49434923]])]\n",
      "2\n",
      "[array([[1.59309668]]), array([[-2.85199082]]), array([[8.89059514]])]\n",
      "2\n",
      "[array([[-2.97355961]]), array([[-3.53838704]]), array([[6.00184071]])]\n",
      "2\n",
      "[array([[-0.4088612]]), array([[-3.56781104]]), array([[6.01679459]])]\n",
      "2\n",
      "[array([[-1.30831351]]), array([[-7.84045311]]), array([[6.24740144]])]\n",
      "2\n",
      "[array([[0.17248848]]), array([[0.51861783]]), array([[6.45090919]])]\n",
      "2\n",
      "[array([[-0.88315695]]), array([[-5.06079219]]), array([[4.43185905]])]\n",
      "2\n",
      "[array([[-1.45773733]]), array([[-3.61423183]]), array([[3.49760162]])]\n",
      "2\n",
      "[array([[-1.00872026]]), array([[-3.10313405]]), array([[5.8424957]])]\n",
      "2\n"
     ]
    },
    {
     "name": "stderr",
     "output_type": "stream",
     "text": [
      "\n",
      "\n",
      " 54%|████████████████████▉                  | 193/360 [00:01<00:01, 113.30it/s]"
     ]
    },
    {
     "name": "stdout",
     "output_type": "stream",
     "text": [
      "[array([[-2.76940083]]), array([[-6.46780959]]), array([[8.27983833]])]\n",
      "2\n",
      "[array([[-0.82142515]]), array([[-3.96006478]]), array([[6.13078676]])]\n",
      "2\n",
      "[array([[-2.64630277]]), array([[-3.6284266]]), array([[4.52869444]])]\n",
      "2\n",
      "[array([[-1.95729724]]), array([[-2.638607]]), array([[7.77437174]])]\n",
      "2\n",
      "[array([[1.63670077]]), array([[0.2799518]]), array([[1.21634923]])]\n",
      "0\n",
      "[array([[-0.21159853]]), array([[-4.64641813]]), array([[2.94999614]])]\n",
      "2\n",
      "[array([[-0.39093824]]), array([[-3.17419187]]), array([[4.40730961]])]\n",
      "2\n",
      "[array([[-0.83039158]]), array([[-7.73965532]]), array([[7.97370005]])]\n",
      "2\n",
      "[array([[-2.87456401]]), array([[-7.21401201]]), array([[7.49446303]])]\n",
      "2\n",
      "[array([[-1.95512338]]), array([[-5.83102396]]), array([[4.43948222]])]\n",
      "2\n",
      "[array([[-2.10257398]]), array([[-1.41585479]]), array([[3.43999715]])]\n",
      "2\n",
      "[array([[-0.29294985]]), array([[-8.83160321]]), array([[6.79729333]])]\n",
      "2\n",
      "[array([[0.12050797]]), array([[-4.19620762]]), array([[5.24726821]])]\n",
      "2\n",
      "[array([[0.03032567]]), array([[-3.93529646]]), array([[4.79642267]])]\n",
      "2\n",
      "[array([[0.8322126]]), array([[-2.26491945]]), array([[7.31052237]])]\n",
      "2\n",
      "[array([[-2.79742822]]), array([[-1.17651408]]), array([[3.19934263]])]\n",
      "2\n"
     ]
    },
    {
     "name": "stderr",
     "output_type": "stream",
     "text": [
      "\n",
      "\n",
      " 58%|██████████████████████▋                | 209/360 [00:01<00:01, 123.90it/s]"
     ]
    },
    {
     "name": "stdout",
     "output_type": "stream",
     "text": [
      "[array([[-2.57340907]]), array([[-3.06613414]]), array([[4.83805771]])]\n",
      "2\n",
      "[array([[-1.32750511]]), array([[-2.87161168]]), array([[2.97652826]])]\n",
      "2\n",
      "[array([[-1.63059786]]), array([[-5.80836207]]), array([[7.724179]])]\n",
      "2\n",
      "[array([[-0.33061411]]), array([[-6.65257565]]), array([[5.85717975]])]\n",
      "2\n",
      "[array([[-1.75177869]]), array([[-1.23495056]]), array([[6.40911503]])]\n",
      "2\n",
      "[array([[-1.09430244]]), array([[-7.45726657]]), array([[5.02043094]])]\n",
      "2\n",
      "[array([[-0.39400453]]), array([[-2.87143003]]), array([[4.00682733]])]\n",
      "2\n",
      "[array([[-0.22513766]]), array([[-0.21845451]]), array([[5.53168841]])]\n",
      "2\n",
      "[array([[-0.22501058]]), array([[0.07919574]]), array([[2.83241185]])]\n",
      "2\n",
      "[array([[-1.00446546]]), array([[-1.69904132]]), array([[5.68224866]])]\n",
      "2\n",
      "[array([[-1.79902949]]), array([[-4.00033317]]), array([[5.01087108]])]\n",
      "2\n",
      "[array([[-1.57529241]]), array([[-6.33319198]]), array([[4.76646347]])]\n",
      "2\n",
      "[array([[-2.19833412]]), array([[-1.28350294]]), array([[2.10655586]])]\n",
      "2\n",
      "[array([[2.92473321]]), array([[-5.50418829]]), array([[6.56206637]])]\n",
      "2\n"
     ]
    },
    {
     "name": "stderr",
     "output_type": "stream",
     "text": [
      "\n",
      "\n",
      " 62%|████████████████████████▊               | 223/360 [00:01<00:01, 90.88it/s]"
     ]
    },
    {
     "name": "stdout",
     "output_type": "stream",
     "text": [
      "[array([[0.17088848]]), array([[-2.11851844]]), array([[4.16870005]])]\n",
      "2\n",
      "[array([[-1.35368669]]), array([[-3.63326545]]), array([[6.44970656]])]\n",
      "2\n",
      "[array([[-0.71868796]]), array([[-0.76606166]]), array([[4.77346626]])]\n",
      "2\n",
      "[array([[-1.14682605]]), array([[-4.81027554]]), array([[4.90077018]])]\n",
      "2\n",
      "[array([[-3.8576578]]), array([[-1.93976598]]), array([[4.03353123]])]\n",
      "2\n",
      "[array([[-0.6918489]]), array([[-4.05883327]]), array([[4.72834965]])]\n",
      "2\n",
      "[array([[0.28535093]]), array([[-2.76798015]]), array([[8.42422419]])]\n",
      "2\n",
      "[array([[-0.29654136]]), array([[-4.28382369]]), array([[6.93930441]])]\n",
      "2\n",
      "[array([[-1.29877208]]), array([[-3.01908578]]), array([[2.9400533]])]\n",
      "2\n",
      "[array([[-0.14928922]]), array([[-4.80536578]]), array([[5.39558432]])]\n",
      "2\n",
      "[array([[-1.50720839]]), array([[-3.2568624]]), array([[7.6091302]])]\n",
      "2\n",
      "[array([[2.19602588]]), array([[-1.96221204]]), array([[0.84707157]])]\n",
      "0\n",
      "[array([[-0.65535735]]), array([[-4.3410077]]), array([[5.79299498]])]\n",
      "2\n",
      "[array([[-1.76541201]]), array([[-0.20402259]]), array([[1.89884647]])]\n",
      "2\n",
      "[array([[0.28483316]]), array([[-8.25507211]]), array([[6.26192369]])]\n",
      "2\n"
     ]
    },
    {
     "name": "stderr",
     "output_type": "stream",
     "text": [
      "\n",
      "\n",
      " 66%|█████████████████████████▊             | 238/360 [00:01<00:01, 102.86it/s]"
     ]
    },
    {
     "name": "stdout",
     "output_type": "stream",
     "text": [
      "[array([[-0.73688081]]), array([[-3.12175254]]), array([[5.52807308]])]\n",
      "2\n",
      "[array([[-0.08460131]]), array([[-3.00948906]]), array([[6.46476561]])]\n",
      "2\n",
      "[array([[-1.89162688]]), array([[6.5920585]]), array([[0.39788047]])]\n",
      "1\n",
      "[array([[-1.92737254]]), array([[6.80529449]]), array([[0.40190599]])]\n",
      "1\n",
      "[array([[-3.21904278]]), array([[8.90263747]]), array([[1.66556034]])]\n",
      "1\n",
      "[array([[-6.6606948]]), array([[1.16289915]]), array([[1.81005554]])]\n",
      "2\n",
      "[array([[-4.41820875]]), array([[2.53622019]]), array([[1.56386235]])]\n",
      "1\n",
      "[array([[-3.54933134]]), array([[4.78126791]]), array([[1.13913265]])]\n",
      "1\n",
      "[array([[-2.97373762]]), array([[3.01380824]]), array([[-1.59527821]])]\n",
      "1\n",
      "[array([[-1.61736878]]), array([[3.26912343]]), array([[-0.31466784]])]\n",
      "1\n",
      "[array([[-2.1744973]]), array([[3.89570108]]), array([[2.1436438]])]\n",
      "1\n",
      "[array([[-4.91583327]]), array([[2.64552822]]), array([[3.26529412]])]\n",
      "2\n",
      "[array([[-2.05418195]]), array([[5.79131353]]), array([[-0.79517321]])]\n",
      "1\n",
      "[array([[-3.84953906]]), array([[1.43284022]]), array([[-0.50676936]])]\n",
      "1\n",
      "[array([[11.88018849]]), array([[19.05902604]]), array([[13.92700936]])]\n",
      "1\n",
      "[array([[-4.87896762]]), array([[2.56401348]]), array([[-1.30093443]])]\n",
      "1\n"
     ]
    },
    {
     "name": "stderr",
     "output_type": "stream",
     "text": [
      "\n",
      "\n",
      " 71%|███████████████████████████▌           | 254/360 [00:02<00:00, 114.97it/s]"
     ]
    },
    {
     "name": "stdout",
     "output_type": "stream",
     "text": [
      "[array([[-4.06325072]]), array([[5.97696836]]), array([[3.64190533]])]\n",
      "1\n",
      "[array([[1.54401699]]), array([[-0.50725681]]), array([[4.64593544]])]\n",
      "2\n",
      "[array([[-3.60911327]]), array([[3.7914488]]), array([[-3.24831033]])]\n",
      "1\n",
      "[array([[1.66084132]]), array([[1.29950811]]), array([[3.0391171]])]\n",
      "2\n",
      "[array([[0.10206071]]), array([[0.48845392]]), array([[-1.20532964]])]\n",
      "1\n",
      "[array([[-1.21326329]]), array([[1.66234926]]), array([[-0.37001831]])]\n",
      "1\n",
      "[array([[-1.9630006]]), array([[4.77268139]]), array([[1.00918187]])]\n",
      "1\n",
      "[array([[-2.35557202]]), array([[-5.00953499]]), array([[-1.73438057]])]\n",
      "2\n",
      "[array([[-0.16647813]]), array([[3.01211986]]), array([[2.52084157]])]\n",
      "1\n",
      "[array([[-4.7163159]]), array([[0.49847566]]), array([[-6.53059297]])]\n",
      "1\n",
      "[array([[-2.07283066]]), array([[7.37438721]]), array([[0.88248633]])]\n",
      "1\n",
      "[array([[-8.05905252]]), array([[5.97789991]]), array([[5.96815634]])]\n",
      "1\n",
      "[array([[-0.53685195]]), array([[6.91491554]]), array([[-0.11995979]])]\n",
      "1\n",
      "[array([[0.32291684]]), array([[-0.40026837]]), array([[0.15984912]])]\n",
      "0\n",
      "[array([[-6.55552582]]), array([[0.30798254]]), array([[0.86277183]])]\n",
      "2\n"
     ]
    },
    {
     "name": "stderr",
     "output_type": "stream",
     "text": [
      "\n",
      "\n",
      " 75%|█████████████████████████████▏         | 269/360 [00:02<00:00, 121.84it/s]"
     ]
    },
    {
     "name": "stdout",
     "output_type": "stream",
     "text": [
      "[array([[-0.84634704]]), array([[4.38688068]]), array([[-1.11971205]])]\n",
      "1\n",
      "[array([[-1.45449962]]), array([[4.65196519]]), array([[4.16230359]])]\n",
      "1\n",
      "[array([[-2.21191676]]), array([[2.61066173]]), array([[-0.11392916]])]\n",
      "1\n",
      "[array([[-2.61206988]]), array([[7.25936658]]), array([[4.27670512]])]\n",
      "1\n",
      "[array([[-0.20976738]]), array([[0.5372601]]), array([[-1.24842195]])]\n",
      "1\n",
      "[array([[-3.20091429]]), array([[-3.55448736]]), array([[-2.85666245]])]\n",
      "2\n",
      "[array([[-0.10777224]]), array([[3.56876499]]), array([[1.44430786]])]\n",
      "1\n",
      "[array([[-2.04565645]]), array([[5.27748767]]), array([[2.03731453]])]\n",
      "1\n",
      "[array([[-2.26205251]]), array([[2.81825123]]), array([[0.54732815]])]\n",
      "1\n",
      "[array([[-4.8274971]]), array([[-0.89520216]]), array([[0.53057663]])]\n",
      "2\n",
      "[array([[-2.42329811]]), array([[6.9961325]]), array([[7.64688133]])]\n",
      "2\n",
      "[array([[-0.04174112]]), array([[7.49825755]]), array([[2.18192215]])]\n",
      "1\n",
      "[array([[-4.20825663]]), array([[5.31203096]]), array([[-0.3152788]])]\n",
      "1\n",
      "[array([[-2.07864555]]), array([[4.90940806]]), array([[6.39686303]])]\n",
      "2\n"
     ]
    },
    {
     "name": "stderr",
     "output_type": "stream",
     "text": [
      "\n",
      "\n",
      " 79%|███████████████████████████████▍        | 283/360 [00:02<00:00, 94.66it/s]"
     ]
    },
    {
     "name": "stdout",
     "output_type": "stream",
     "text": [
      "[array([[-1.58859018]]), array([[1.21983736]]), array([[1.26193545]])]\n",
      "2\n",
      "[array([[-5.40531587]]), array([[2.78103967]]), array([[1.95712338]])]\n",
      "1\n",
      "[array([[1.25103992]]), array([[3.70812784]]), array([[-0.20604307]])]\n",
      "1\n",
      "[array([[-1.84471986]]), array([[7.2247264]]), array([[-0.99991757]])]\n",
      "1\n",
      "[array([[1.76952672]]), array([[0.38370581]]), array([[7.26641556]])]\n",
      "2\n",
      "[array([[-2.25201042]]), array([[1.19078034]]), array([[-1.55836679]])]\n",
      "1\n",
      "[array([[-1.09623349]]), array([[3.64583814]]), array([[0.57231354]])]\n",
      "1\n",
      "[array([[-2.55500011]]), array([[1.5163787]]), array([[-1.29175945]])]\n",
      "1\n",
      "[array([[-2.38572138]]), array([[8.47404721]]), array([[4.25152185]])]\n",
      "1\n",
      "[array([[-3.2922453]]), array([[3.21734587]]), array([[-0.62660692]])]\n",
      "1\n",
      "[array([[-2.54803596]]), array([[7.75657785]]), array([[1.34869476]])]\n",
      "1\n",
      "[array([[-2.02285628]]), array([[5.72995287]]), array([[-1.90022184]])]\n",
      "1\n",
      "[array([[-0.88464528]]), array([[5.09584621]]), array([[4.05918128]])]\n",
      "1\n",
      "[array([[-2.30317726]]), array([[6.57437097]]), array([[0.51245324]])]\n",
      "1\n",
      "[array([[-0.97004473]]), array([[8.63873247]]), array([[2.92408923]])]\n",
      "1\n",
      "[array([[-1.24221653]]), array([[5.37810652]]), array([[1.10706986]])]\n",
      "1\n",
      "[array([[-3.14335747]]), array([[7.9150195]]), array([[4.37889392]])]\n",
      "1\n",
      "[array([[5.04584273]]), array([[-5.3632411]]), array([[6.89464289]])]\n",
      "2\n"
     ]
    },
    {
     "name": "stderr",
     "output_type": "stream",
     "text": [
      "\n",
      "\n",
      " 84%|████████████████████████████████▌      | 301/360 [00:02<00:00, 110.17it/s]"
     ]
    },
    {
     "name": "stdout",
     "output_type": "stream",
     "text": [
      "[array([[-0.30438533]]), array([[4.52349843]]), array([[1.76526182]])]\n",
      "1\n",
      "[array([[0.69753066]]), array([[4.76722484]]), array([[3.64557481]])]\n",
      "1\n",
      "[array([[-0.58372691]]), array([[6.3881304]]), array([[4.31331765]])]\n",
      "1\n",
      "[array([[-2.8224239]]), array([[7.24997257]]), array([[10.29059712]])]\n",
      "2\n",
      "[array([[-0.93588321]]), array([[7.47655132]]), array([[0.39721606]])]\n",
      "1\n",
      "[array([[-3.39915276]]), array([[6.16542766]]), array([[1.10472603]])]\n",
      "1\n",
      "[array([[-2.8147679]]), array([[-0.38721468]]), array([[-0.62445791]])]\n",
      "1\n",
      "[array([[-4.34802746]]), array([[5.3435713]]), array([[1.24169071]])]\n",
      "1\n",
      "[array([[-1.43811612]]), array([[0.25577827]]), array([[1.69994624]])]\n",
      "2\n",
      "[array([[-2.65329019]]), array([[5.11125859]]), array([[2.14376615]])]\n",
      "1\n",
      "[array([[1.57050098]]), array([[6.49998228]]), array([[3.82375584]])]\n",
      "1\n",
      "[array([[-4.55290862]]), array([[3.27707255]]), array([[-0.58359458]])]\n",
      "1\n",
      "[array([[-3.32493231]]), array([[5.44227117]]), array([[4.01182352]])]\n",
      "1\n",
      "[array([[3.71594781]]), array([[-2.89890309]]), array([[11.32323652]])]\n",
      "2\n",
      "[array([[-3.47071076]]), array([[6.03664854]]), array([[-0.91782081]])]\n",
      "1\n",
      "[array([[1.24507122]]), array([[6.42446095]]), array([[8.21785043]])]\n",
      "2\n"
     ]
    },
    {
     "name": "stderr",
     "output_type": "stream",
     "text": [
      "\n",
      "\n",
      " 88%|██████████████████████████████████▎    | 317/360 [00:02<00:00, 120.44it/s]"
     ]
    },
    {
     "name": "stdout",
     "output_type": "stream",
     "text": [
      "[array([[-3.77724327]]), array([[5.35434333]]), array([[3.2455374]])]\n",
      "1\n",
      "[array([[-2.2153374]]), array([[6.09510068]]), array([[-0.24330913]])]\n",
      "1\n",
      "[array([[-4.37483337]]), array([[7.61383034]]), array([[2.35368608]])]\n",
      "1\n",
      "[array([[-2.04073209]]), array([[7.978003]]), array([[5.44497705]])]\n",
      "1\n",
      "[array([[0.54380838]]), array([[0.99159638]]), array([[-0.58100994]])]\n",
      "1\n",
      "[array([[-1.68197243]]), array([[5.46011717]]), array([[1.69920989]])]\n",
      "1\n",
      "[array([[2.52161423]]), array([[-1.68056647]]), array([[5.95192387]])]\n",
      "2\n",
      "[array([[-3.55527377]]), array([[1.15479367]]), array([[0.49601349]])]\n",
      "1\n",
      "[array([[-2.18974496]]), array([[4.65398474]]), array([[-2.91579114]])]\n",
      "1\n",
      "[array([[-3.61319203]]), array([[2.57030742]]), array([[4.2139943]])]\n",
      "2\n",
      "[array([[-0.98506156]]), array([[4.98036419]]), array([[4.6393405]])]\n",
      "1\n",
      "[array([[-3.28991152]]), array([[4.50019255]]), array([[1.25069773]])]\n",
      "1\n",
      "[array([[-1.08759603]]), array([[7.16589596]]), array([[1.89895165]])]\n",
      "1\n",
      "[array([[-0.66342498]]), array([[-1.803287]]), array([[1.705068]])]\n",
      "2\n",
      "[array([[-1.00063918]]), array([[3.58425999]]), array([[1.8509783]])]\n",
      "1\n",
      "[array([[-3.96992611]]), array([[2.60480947]]), array([[-1.99442413]])]\n",
      "1\n"
     ]
    },
    {
     "name": "stderr",
     "output_type": "stream",
     "text": [
      "\n",
      "\n",
      " 92%|████████████████████████████████████   | 333/360 [00:02<00:00, 129.79it/s]"
     ]
    },
    {
     "name": "stdout",
     "output_type": "stream",
     "text": [
      "[array([[-0.82300019]]), array([[3.38045866]]), array([[1.68329212]])]\n",
      "1\n",
      "[array([[-3.82816356]]), array([[7.48327212]]), array([[0.36420397]])]\n",
      "1\n",
      "[array([[-2.78070686]]), array([[5.96484489]]), array([[4.5312799]])]\n",
      "1\n",
      "[array([[-1.85576856]]), array([[4.75719364]]), array([[9.64687023]])]\n",
      "2\n",
      "[array([[-4.99883489]]), array([[1.15320181]]), array([[1.25384507]])]\n",
      "2\n",
      "[array([[-0.40330757]]), array([[4.23248368]]), array([[1.08029584]])]\n",
      "1\n",
      "[array([[-2.37284]]), array([[2.83620313]]), array([[-1.67948815]])]\n",
      "1\n",
      "[array([[-3.12982977]]), array([[10.26818583]]), array([[6.67124378]])]\n",
      "1\n",
      "[array([[-0.80445766]]), array([[5.09368343]]), array([[3.6709292]])]\n",
      "1\n",
      "[array([[-0.05689828]]), array([[-0.34292215]]), array([[0.31382184]])]\n",
      "2\n",
      "[array([[1.24509895]]), array([[-2.20145484]]), array([[1.72239914]])]\n",
      "2\n",
      "[array([[1.30214577]]), array([[-2.23909385]]), array([[3.02651967]])]\n",
      "2\n",
      "[array([[-2.80109788]]), array([[6.82219527]]), array([[5.81508125]])]\n",
      "1\n",
      "[array([[-1.41531438]]), array([[2.52786989]]), array([[-0.70738552]])]\n",
      "1\n",
      "[array([[-2.8147455]]), array([[4.49051571]]), array([[3.14585119]])]\n",
      "1\n"
     ]
    },
    {
     "name": "stderr",
     "output_type": "stream",
     "text": [
      "\n",
      "\n",
      " 97%|██████████████████████████████████████▋ | 348/360 [00:02<00:00, 95.14it/s]"
     ]
    },
    {
     "name": "stdout",
     "output_type": "stream",
     "text": [
      "[array([[-4.17992467]]), array([[-0.20765542]]), array([[2.54637685]])]\n",
      "2\n",
      "[array([[-3.99694208]]), array([[1.62201719]]), array([[2.97584678]])]\n",
      "2\n",
      "[array([[-3.62998412]]), array([[7.07687696]]), array([[1.78057099]])]\n",
      "1\n",
      "[array([[-0.23254679]]), array([[-0.35226463]]), array([[2.73142324]])]\n",
      "2\n",
      "[array([[-1.02026923]]), array([[-0.65095997]]), array([[0.26786881]])]\n",
      "2\n",
      "[array([[-0.57244533]]), array([[2.47164112]]), array([[4.86749078]])]\n",
      "2\n",
      "[array([[-1.99864316]]), array([[9.02644782]]), array([[0.7788419]])]\n",
      "1\n",
      "[array([[-0.62873995]]), array([[0.77363168]]), array([[1.21995767]])]\n",
      "2\n",
      "[array([[-1.04280825]]), array([[3.33404022]]), array([[6.35462641]])]\n",
      "2\n",
      "[array([[-1.15581945]]), array([[6.19830653]]), array([[0.79902319]])]\n",
      "1\n",
      "[array([[-2.95743381]]), array([[2.32102548]]), array([[2.10035145]])]\n",
      "1\n",
      "[array([[-3.67952444]]), array([[1.08909446]]), array([[-1.52134493]])]\n",
      "1\n"
     ]
    },
    {
     "name": "stderr",
     "output_type": "stream",
     "text": [
      "\n",
      "\n",
      "100%|███████████████████████████████████████| 360/360 [00:02<00:00, 120.31it/s]"
     ]
    }
   ],
   "source": [
    "wForEachLabel = {}\n",
    "for i in range(0,num_classes):\n",
    "    #wForEachLabel[i] = w[i:i+(X.shape[1]),:]    \n",
    "    wForEachLabel[i] = w[i:i+(X.shape[1])+1,:]    \n",
    "predictedLabelVector = []\n",
    "for i in tqdm(range(0,len(val1))):\n",
    "    scoresForEachLabel = []\n",
    "    for j in range(0,num_classes):\n",
    "        #score = (wForEachLabel[j].T@val1.values[i,1:].reshape(-1,1))\n",
    "        score = (wForEachLabel[j].T@np.append(val1.values[i,1:],1.0).reshape(-1,1))\n",
    "        scoresForEachLabel.append(score)\n",
    "    maxScoreLabel = np.argmax(scoresForEachLabel)\n",
    "    print(scoresForEachLabel)\n",
    "    print(maxScoreLabel)\n",
    "    predictedLabelVector.append(maxScoreLabel)"
   ]
  },
  {
   "cell_type": "code",
   "execution_count": 494,
   "metadata": {},
   "outputs": [
    {
     "name": "stdout",
     "output_type": "stream",
     "text": [
      "(138, 1)\n",
      "(138, 1)\n",
      "(138, 1)\n"
     ]
    }
   ],
   "source": [
    "for i in range(0,num_classes):\n",
    "    print(wForEachLabel[i].shape)"
   ]
  },
  {
   "cell_type": "markdown",
   "metadata": {},
   "source": [
    "for index,value in enumerate(ValLabelVector):\n",
    "    if(value==5):\n",
    "        ValLabelVector[index] = 0.0\n",
    "    elif(value==6):\n",
    "        ValLabelVector[index] = 1.0\n",
    "    elif(value==9):\n",
    "        ValLabelVector[index] = 2.0"
   ]
  },
  {
   "cell_type": "code",
   "execution_count": 495,
   "metadata": {},
   "outputs": [
    {
     "data": {
      "text/plain": [
       "array([0., 0., 0., 0., 0., 0., 0., 0., 0., 0., 0., 0., 0., 0., 0., 0., 0.,\n",
       "       0., 0., 0., 0., 0., 0., 0., 0., 0., 0., 0., 0., 0., 0., 0., 0., 0.,\n",
       "       0., 0., 0., 0., 0., 0., 0., 0., 0., 0., 0., 0., 0., 0., 0., 0., 0.,\n",
       "       0., 0., 0., 0., 0., 0., 0., 0., 0., 0., 0., 0., 0., 0., 0., 0., 0.,\n",
       "       0., 0., 0., 0., 0., 0., 0., 0., 0., 0., 0., 0., 0., 0., 0., 0., 0.,\n",
       "       0., 0., 0., 0., 0., 0., 0., 0., 0., 0., 0., 0., 0., 0., 0., 0., 0.,\n",
       "       0., 0., 0., 0., 0., 0., 0., 0., 0., 0., 0., 0., 0., 0., 0., 0., 0.,\n",
       "       0., 1., 1., 1., 1., 1., 1., 1., 1., 1., 1., 1., 1., 1., 1., 1., 1.,\n",
       "       1., 1., 1., 1., 1., 1., 1., 1., 1., 1., 1., 1., 1., 1., 1., 1., 1.,\n",
       "       1., 1., 1., 1., 1., 1., 1., 1., 1., 1., 1., 1., 1., 1., 1., 1., 1.,\n",
       "       1., 1., 1., 1., 1., 1., 1., 1., 1., 1., 1., 1., 1., 1., 1., 1., 1.,\n",
       "       1., 1., 1., 1., 1., 1., 1., 1., 1., 1., 1., 1., 1., 1., 1., 1., 1.,\n",
       "       1., 1., 1., 1., 1., 1., 1., 1., 1., 1., 1., 1., 1., 1., 1., 1., 1.,\n",
       "       1., 1., 1., 1., 1., 1., 1., 1., 1., 1., 1., 1., 1., 1., 1., 1., 1.,\n",
       "       1., 1., 2., 2., 2., 2., 2., 2., 2., 2., 2., 2., 2., 2., 2., 2., 2.,\n",
       "       2., 2., 2., 2., 2., 2., 2., 2., 2., 2., 2., 2., 2., 2., 2., 2., 2.,\n",
       "       2., 2., 2., 2., 2., 2., 2., 2., 2., 2., 2., 2., 2., 2., 2., 2., 2.,\n",
       "       2., 2., 2., 2., 2., 2., 2., 2., 2., 2., 2., 2., 2., 2., 2., 2., 2.,\n",
       "       2., 2., 2., 2., 2., 2., 2., 2., 2., 2., 2., 2., 2., 2., 2., 2., 2.,\n",
       "       2., 2., 2., 2., 2., 2., 2., 2., 2., 2., 2., 2., 2., 2., 2., 2., 2.,\n",
       "       2., 2., 2., 2., 2., 2., 2., 2., 2., 2., 2., 2., 2., 2., 2., 2., 2.,\n",
       "       2., 2., 2.])"
      ]
     },
     "execution_count": 495,
     "metadata": {},
     "output_type": "execute_result"
    }
   ],
   "source": [
    "valLabelVector"
   ]
  },
  {
   "cell_type": "code",
   "execution_count": 496,
   "metadata": {},
   "outputs": [
    {
     "data": {
      "text/plain": [
       "array([0, 2, 2, 2, 2, 2, 2, 2, 2, 0, 2, 2, 2, 2, 2, 2, 0, 1, 2, 1, 2, 2,\n",
       "       2, 2, 2, 2, 2, 2, 2, 0, 1, 2, 2, 2, 2, 2, 2, 0, 0, 2, 2, 2, 2, 2,\n",
       "       2, 2, 2, 2, 2, 2, 2, 2, 2, 2, 2, 0, 2, 2, 0, 2, 2, 2, 2, 2, 2, 2,\n",
       "       2, 2, 0, 2, 2, 0, 2, 2, 2, 1, 2, 2, 2, 1, 2, 2, 2, 2, 2, 2, 2, 2,\n",
       "       2, 2, 2, 2, 2, 2, 0, 2, 2, 2, 0, 2, 2, 2, 0, 0, 2, 2, 2, 2, 2, 0,\n",
       "       2, 2, 2, 2, 2, 2, 2, 0, 2, 0, 2, 2, 2, 2, 2, 2, 2, 2, 2, 2, 2, 2,\n",
       "       2, 2, 2, 2, 2, 2, 2, 2, 2, 2, 2, 2, 2, 2, 2, 2, 2, 2, 2, 2, 2, 2,\n",
       "       2, 2, 2, 2, 2, 2, 2, 2, 2, 2, 2, 2, 2, 2, 2, 2, 2, 2, 2, 2, 2, 2,\n",
       "       2, 2, 2, 2, 2, 2, 2, 2, 2, 2, 2, 2, 2, 2, 2, 2, 2, 2, 2, 2, 2, 0,\n",
       "       2, 2, 2, 2, 2, 2, 2, 2, 2, 2, 2, 2, 2, 2, 2, 2, 2, 2, 2, 2, 2, 2,\n",
       "       2, 2, 2, 2, 2, 2, 2, 2, 2, 2, 2, 2, 2, 2, 0, 2, 2, 2, 2, 2, 1, 1,\n",
       "       1, 2, 1, 1, 1, 1, 1, 2, 1, 1, 1, 1, 1, 2, 1, 2, 1, 1, 1, 2, 1, 1,\n",
       "       1, 1, 1, 0, 2, 1, 1, 1, 1, 1, 2, 1, 1, 1, 2, 2, 1, 1, 2, 2, 1, 1,\n",
       "       1, 2, 1, 1, 1, 1, 1, 1, 1, 1, 1, 1, 1, 1, 2, 1, 1, 1, 2, 1, 1, 1,\n",
       "       1, 2, 1, 1, 1, 1, 2, 1, 2, 1, 1, 1, 1, 1, 1, 2, 1, 1, 2, 1, 1, 1,\n",
       "       2, 1, 1, 1, 1, 1, 2, 2, 1, 1, 1, 1, 2, 2, 2, 1, 1, 1, 2, 2, 1, 2,\n",
       "       2, 2, 1, 2, 2, 1, 1, 1], dtype=int64)"
      ]
     },
     "execution_count": 496,
     "metadata": {},
     "output_type": "execute_result"
    }
   ],
   "source": [
    "np.array(predictedLabelVector)"
   ]
  },
  {
   "cell_type": "code",
   "execution_count": 497,
   "metadata": {},
   "outputs": [],
   "source": [
    "conMatrix = pd.crosstab(np.array(predictedLabelVector).ravel(),valLabelVector.reshape(-1,1).ravel())"
   ]
  },
  {
   "cell_type": "code",
   "execution_count": 498,
   "metadata": {},
   "outputs": [
    {
     "data": {
      "text/html": [
       "<div>\n",
       "<style scoped>\n",
       "    .dataframe tbody tr th:only-of-type {\n",
       "        vertical-align: middle;\n",
       "    }\n",
       "\n",
       "    .dataframe tbody tr th {\n",
       "        vertical-align: top;\n",
       "    }\n",
       "\n",
       "    .dataframe thead th {\n",
       "        text-align: right;\n",
       "    }\n",
       "</style>\n",
       "<table border=\"1\" class=\"dataframe\">\n",
       "  <thead>\n",
       "    <tr style=\"text-align: right;\">\n",
       "      <th>col_0</th>\n",
       "      <th>0.0</th>\n",
       "      <th>1.0</th>\n",
       "      <th>2.0</th>\n",
       "    </tr>\n",
       "    <tr>\n",
       "      <th>row_0</th>\n",
       "      <th></th>\n",
       "      <th></th>\n",
       "      <th></th>\n",
       "    </tr>\n",
       "  </thead>\n",
       "  <tbody>\n",
       "    <tr>\n",
       "      <th>0</th>\n",
       "      <td>17</td>\n",
       "      <td>2</td>\n",
       "      <td>1</td>\n",
       "    </tr>\n",
       "    <tr>\n",
       "      <th>1</th>\n",
       "      <td>5</td>\n",
       "      <td>0</td>\n",
       "      <td>87</td>\n",
       "    </tr>\n",
       "    <tr>\n",
       "      <th>2</th>\n",
       "      <td>98</td>\n",
       "      <td>118</td>\n",
       "      <td>32</td>\n",
       "    </tr>\n",
       "  </tbody>\n",
       "</table>\n",
       "</div>"
      ],
      "text/plain": [
       "col_0  0.0  1.0  2.0\n",
       "row_0               \n",
       "0       17    2    1\n",
       "1        5    0   87\n",
       "2       98  118   32"
      ]
     },
     "execution_count": 498,
     "metadata": {},
     "output_type": "execute_result"
    }
   ],
   "source": [
    "conMatrix"
   ]
  },
  {
   "cell_type": "code",
   "execution_count": 54,
   "metadata": {},
   "outputs": [],
   "source": [
    "from sklearn import svm"
   ]
  },
  {
   "cell_type": "code",
   "execution_count": 55,
   "metadata": {
    "scrolled": true
   },
   "outputs": [
    {
     "data": {
      "text/plain": [
       "SVC(C=1.0, cache_size=200, class_weight=None, coef0=0.0,\n",
       "  decision_function_shape='ovo', degree=3, gamma='scale', kernel='linear',\n",
       "  max_iter=-1, probability=False, random_state=None, shrinking=True,\n",
       "  tol=0.001, verbose=False)"
      ]
     },
     "execution_count": 55,
     "metadata": {},
     "output_type": "execute_result"
    }
   ],
   "source": [
    "clf = svm.SVC(gamma='scale', decision_function_shape='ovo',kernel='linear')\n",
    "clf.fit(X, trainLabelVector) "
   ]
  },
  {
   "cell_type": "code",
   "execution_count": 56,
   "metadata": {},
   "outputs": [
    {
     "data": {
      "text/plain": [
       "(480, 137)"
      ]
     },
     "execution_count": 56,
     "metadata": {},
     "output_type": "execute_result"
    }
   ],
   "source": [
    "X.shape"
   ]
  },
  {
   "cell_type": "code",
   "execution_count": 57,
   "metadata": {},
   "outputs": [
    {
     "data": {
      "text/plain": [
       "(480, 10)"
      ]
     },
     "execution_count": 57,
     "metadata": {},
     "output_type": "execute_result"
    }
   ],
   "source": [
    "lin_clf.decision_function(X).shape"
   ]
  },
  {
   "cell_type": "code",
   "execution_count": 241,
   "metadata": {},
   "outputs": [
    {
     "data": {
      "text/plain": [
       "array([5.])"
      ]
     },
     "execution_count": 241,
     "metadata": {},
     "output_type": "execute_result"
    }
   ],
   "source": [
    "clf.predict(val.values[0,1:].reshape(1,137))"
   ]
  },
  {
   "cell_type": "code",
   "execution_count": 242,
   "metadata": {
    "scrolled": true
   },
   "outputs": [
    {
     "name": "stderr",
     "output_type": "stream",
     "text": [
      "\n",
      "  0%|                                                  | 0/120 [00:00<?, ?it/s]\n",
      " 85%|█████████████████████████████████▏     | 102/120 [00:00<00:00, 971.66it/s]\n",
      "100%|██████████████████████████████████████| 120/120 [00:00<00:00, 1052.83it/s]"
     ]
    }
   ],
   "source": [
    "predictedLabelVector = []\n",
    "for i in tqdm(range(0,len(val))):\n",
    "    predictedLabelVector.append(clf.predict(val.values[i,1:].reshape(1,137)))"
   ]
  },
  {
   "cell_type": "code",
   "execution_count": 243,
   "metadata": {},
   "outputs": [
    {
     "data": {
      "text/plain": [
       "(120,)"
      ]
     },
     "execution_count": 243,
     "metadata": {},
     "output_type": "execute_result"
    }
   ],
   "source": [
    "np.array(predictedLabelVector).ravel().shape"
   ]
  },
  {
   "cell_type": "code",
   "execution_count": 244,
   "metadata": {},
   "outputs": [
    {
     "data": {
      "text/plain": [
       "(120,)"
      ]
     },
     "execution_count": 244,
     "metadata": {},
     "output_type": "execute_result"
    }
   ],
   "source": [
    "valLabelVector.reshape(-1,1).ravel().shape"
   ]
  },
  {
   "cell_type": "code",
   "execution_count": 245,
   "metadata": {},
   "outputs": [],
   "source": [
    "conMatrix = pd.crosstab(np.array(predictedLabelVector).ravel(),valLabelVector.reshape(-1,1).ravel())"
   ]
  },
  {
   "cell_type": "code",
   "execution_count": 246,
   "metadata": {},
   "outputs": [
    {
     "data": {
      "text/html": [
       "<div>\n",
       "<style scoped>\n",
       "    .dataframe tbody tr th:only-of-type {\n",
       "        vertical-align: middle;\n",
       "    }\n",
       "\n",
       "    .dataframe tbody tr th {\n",
       "        vertical-align: top;\n",
       "    }\n",
       "\n",
       "    .dataframe thead th {\n",
       "        text-align: right;\n",
       "    }\n",
       "</style>\n",
       "<table border=\"1\" class=\"dataframe\">\n",
       "  <thead>\n",
       "    <tr style=\"text-align: right;\">\n",
       "      <th>col_0</th>\n",
       "      <th>0.0</th>\n",
       "      <th>1.0</th>\n",
       "      <th>2.0</th>\n",
       "      <th>3.0</th>\n",
       "      <th>4.0</th>\n",
       "      <th>5.0</th>\n",
       "      <th>6.0</th>\n",
       "      <th>7.0</th>\n",
       "      <th>8.0</th>\n",
       "      <th>9.0</th>\n",
       "    </tr>\n",
       "    <tr>\n",
       "      <th>row_0</th>\n",
       "      <th></th>\n",
       "      <th></th>\n",
       "      <th></th>\n",
       "      <th></th>\n",
       "      <th></th>\n",
       "      <th></th>\n",
       "      <th></th>\n",
       "      <th></th>\n",
       "      <th></th>\n",
       "      <th></th>\n",
       "    </tr>\n",
       "  </thead>\n",
       "  <tbody>\n",
       "    <tr>\n",
       "      <th>0.0</th>\n",
       "      <td>11</td>\n",
       "      <td>0</td>\n",
       "      <td>0</td>\n",
       "      <td>0</td>\n",
       "      <td>0</td>\n",
       "      <td>0</td>\n",
       "      <td>1</td>\n",
       "      <td>0</td>\n",
       "      <td>0</td>\n",
       "      <td>0</td>\n",
       "    </tr>\n",
       "    <tr>\n",
       "      <th>1.0</th>\n",
       "      <td>1</td>\n",
       "      <td>11</td>\n",
       "      <td>0</td>\n",
       "      <td>0</td>\n",
       "      <td>0</td>\n",
       "      <td>0</td>\n",
       "      <td>0</td>\n",
       "      <td>0</td>\n",
       "      <td>0</td>\n",
       "      <td>0</td>\n",
       "    </tr>\n",
       "    <tr>\n",
       "      <th>2.0</th>\n",
       "      <td>1</td>\n",
       "      <td>0</td>\n",
       "      <td>8</td>\n",
       "      <td>0</td>\n",
       "      <td>3</td>\n",
       "      <td>0</td>\n",
       "      <td>0</td>\n",
       "      <td>0</td>\n",
       "      <td>0</td>\n",
       "      <td>0</td>\n",
       "    </tr>\n",
       "    <tr>\n",
       "      <th>3.0</th>\n",
       "      <td>3</td>\n",
       "      <td>0</td>\n",
       "      <td>0</td>\n",
       "      <td>9</td>\n",
       "      <td>0</td>\n",
       "      <td>0</td>\n",
       "      <td>0</td>\n",
       "      <td>0</td>\n",
       "      <td>0</td>\n",
       "      <td>0</td>\n",
       "    </tr>\n",
       "    <tr>\n",
       "      <th>4.0</th>\n",
       "      <td>0</td>\n",
       "      <td>0</td>\n",
       "      <td>2</td>\n",
       "      <td>1</td>\n",
       "      <td>8</td>\n",
       "      <td>0</td>\n",
       "      <td>1</td>\n",
       "      <td>0</td>\n",
       "      <td>0</td>\n",
       "      <td>0</td>\n",
       "    </tr>\n",
       "    <tr>\n",
       "      <th>5.0</th>\n",
       "      <td>0</td>\n",
       "      <td>0</td>\n",
       "      <td>0</td>\n",
       "      <td>0</td>\n",
       "      <td>0</td>\n",
       "      <td>11</td>\n",
       "      <td>0</td>\n",
       "      <td>1</td>\n",
       "      <td>0</td>\n",
       "      <td>0</td>\n",
       "    </tr>\n",
       "    <tr>\n",
       "      <th>6.0</th>\n",
       "      <td>2</td>\n",
       "      <td>0</td>\n",
       "      <td>1</td>\n",
       "      <td>0</td>\n",
       "      <td>3</td>\n",
       "      <td>0</td>\n",
       "      <td>6</td>\n",
       "      <td>0</td>\n",
       "      <td>0</td>\n",
       "      <td>0</td>\n",
       "    </tr>\n",
       "    <tr>\n",
       "      <th>7.0</th>\n",
       "      <td>0</td>\n",
       "      <td>0</td>\n",
       "      <td>0</td>\n",
       "      <td>0</td>\n",
       "      <td>0</td>\n",
       "      <td>1</td>\n",
       "      <td>0</td>\n",
       "      <td>10</td>\n",
       "      <td>0</td>\n",
       "      <td>1</td>\n",
       "    </tr>\n",
       "    <tr>\n",
       "      <th>8.0</th>\n",
       "      <td>0</td>\n",
       "      <td>0</td>\n",
       "      <td>0</td>\n",
       "      <td>0</td>\n",
       "      <td>2</td>\n",
       "      <td>0</td>\n",
       "      <td>0</td>\n",
       "      <td>0</td>\n",
       "      <td>10</td>\n",
       "      <td>0</td>\n",
       "    </tr>\n",
       "    <tr>\n",
       "      <th>9.0</th>\n",
       "      <td>1</td>\n",
       "      <td>0</td>\n",
       "      <td>0</td>\n",
       "      <td>0</td>\n",
       "      <td>0</td>\n",
       "      <td>1</td>\n",
       "      <td>0</td>\n",
       "      <td>0</td>\n",
       "      <td>0</td>\n",
       "      <td>10</td>\n",
       "    </tr>\n",
       "  </tbody>\n",
       "</table>\n",
       "</div>"
      ],
      "text/plain": [
       "col_0  0.0  1.0  2.0  3.0  4.0  5.0  6.0  7.0  8.0  9.0\n",
       "row_0                                                  \n",
       "0.0     11    0    0    0    0    0    1    0    0    0\n",
       "1.0      1   11    0    0    0    0    0    0    0    0\n",
       "2.0      1    0    8    0    3    0    0    0    0    0\n",
       "3.0      3    0    0    9    0    0    0    0    0    0\n",
       "4.0      0    0    2    1    8    0    1    0    0    0\n",
       "5.0      0    0    0    0    0   11    0    1    0    0\n",
       "6.0      2    0    1    0    3    0    6    0    0    0\n",
       "7.0      0    0    0    0    0    1    0   10    0    1\n",
       "8.0      0    0    0    0    2    0    0    0   10    0\n",
       "9.0      1    0    0    0    0    1    0    0    0   10"
      ]
     },
     "execution_count": 246,
     "metadata": {},
     "output_type": "execute_result"
    }
   ],
   "source": [
    "conMatrix"
   ]
  },
  {
   "cell_type": "code",
   "execution_count": 248,
   "metadata": {
    "scrolled": true
   },
   "outputs": [
    {
     "data": {
      "text/plain": [
       "LinearSVC(C=1.0, class_weight=None, dual=True, fit_intercept=True,\n",
       "     intercept_scaling=1, loss='squared_hinge', max_iter=100000,\n",
       "     multi_class='ovr', penalty='l2', random_state=None, tol=0.0001,\n",
       "     verbose=0)"
      ]
     },
     "execution_count": 248,
     "metadata": {},
     "output_type": "execute_result"
    }
   ],
   "source": [
    "from sklearn import svm\n",
    "lin_clf = svm.LinearSVC()\n",
    "lin_clf.max_iter=10**5\n",
    "lin_clf.fit(X, trainLabelVector) "
   ]
  },
  {
   "cell_type": "code",
   "execution_count": 249,
   "metadata": {},
   "outputs": [
    {
     "data": {
      "text/plain": [
       "(1920, 4)"
      ]
     },
     "execution_count": 249,
     "metadata": {},
     "output_type": "execute_result"
    }
   ],
   "source": [
    "lin_clf.decision_function(X).shape"
   ]
  },
  {
   "cell_type": "code",
   "execution_count": 251,
   "metadata": {},
   "outputs": [
    {
     "name": "stderr",
     "output_type": "stream",
     "text": [
      "100%|██████████████████████████████████████| 480/480 [00:00<00:00, 5336.43it/s]\n"
     ]
    }
   ],
   "source": [
    "predictedLabelVector = []\n",
    "for i in tqdm(range(0,len(val1))):\n",
    "    predictedLabelVector.append(lin_clf.predict(val1.values[i,1:].reshape(1,137)))"
   ]
  },
  {
   "cell_type": "code",
   "execution_count": 252,
   "metadata": {},
   "outputs": [],
   "source": [
    "conMatrix = pd.crosstab(np.array(predictedLabelVector).ravel(),valLabelVector.reshape(-1,1).ravel())"
   ]
  },
  {
   "cell_type": "code",
   "execution_count": 253,
   "metadata": {},
   "outputs": [
    {
     "data": {
      "text/html": [
       "<div>\n",
       "<style scoped>\n",
       "    .dataframe tbody tr th:only-of-type {\n",
       "        vertical-align: middle;\n",
       "    }\n",
       "\n",
       "    .dataframe tbody tr th {\n",
       "        vertical-align: top;\n",
       "    }\n",
       "\n",
       "    .dataframe thead th {\n",
       "        text-align: right;\n",
       "    }\n",
       "</style>\n",
       "<table border=\"1\" class=\"dataframe\">\n",
       "  <thead>\n",
       "    <tr style=\"text-align: right;\">\n",
       "      <th>col_0</th>\n",
       "      <th>0.0</th>\n",
       "      <th>1.0</th>\n",
       "      <th>2.0</th>\n",
       "      <th>3.0</th>\n",
       "    </tr>\n",
       "    <tr>\n",
       "      <th>row_0</th>\n",
       "      <th></th>\n",
       "      <th></th>\n",
       "      <th></th>\n",
       "      <th></th>\n",
       "    </tr>\n",
       "  </thead>\n",
       "  <tbody>\n",
       "    <tr>\n",
       "      <th>0.0</th>\n",
       "      <td>106</td>\n",
       "      <td>0</td>\n",
       "      <td>1</td>\n",
       "      <td>6</td>\n",
       "    </tr>\n",
       "    <tr>\n",
       "      <th>1.0</th>\n",
       "      <td>3</td>\n",
       "      <td>116</td>\n",
       "      <td>2</td>\n",
       "      <td>6</td>\n",
       "    </tr>\n",
       "    <tr>\n",
       "      <th>2.0</th>\n",
       "      <td>4</td>\n",
       "      <td>0</td>\n",
       "      <td>115</td>\n",
       "      <td>3</td>\n",
       "    </tr>\n",
       "    <tr>\n",
       "      <th>3.0</th>\n",
       "      <td>7</td>\n",
       "      <td>4</td>\n",
       "      <td>2</td>\n",
       "      <td>105</td>\n",
       "    </tr>\n",
       "  </tbody>\n",
       "</table>\n",
       "</div>"
      ],
      "text/plain": [
       "col_0  0.0  1.0  2.0  3.0\n",
       "row_0                    \n",
       "0.0    106    0    1    6\n",
       "1.0      3  116    2    6\n",
       "2.0      4    0  115    3\n",
       "3.0      7    4    2  105"
      ]
     },
     "execution_count": 253,
     "metadata": {},
     "output_type": "execute_result"
    }
   ],
   "source": [
    "conMatrix"
   ]
  }
 ],
 "metadata": {
  "kernelspec": {
   "display_name": "Python 3",
   "language": "python",
   "name": "python3"
  },
  "language_info": {
   "codemirror_mode": {
    "name": "ipython",
    "version": 3
   },
   "file_extension": ".py",
   "mimetype": "text/x-python",
   "name": "python",
   "nbconvert_exporter": "python",
   "pygments_lexer": "ipython3",
   "version": "3.7.1"
  }
 },
 "nbformat": 4,
 "nbformat_minor": 2
}
