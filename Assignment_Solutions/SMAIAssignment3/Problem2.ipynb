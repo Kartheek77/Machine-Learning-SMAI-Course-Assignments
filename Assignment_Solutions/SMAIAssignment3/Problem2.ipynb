{
 "cells": [
  {
   "cell_type": "code",
   "execution_count": 60,
   "metadata": {},
   "outputs": [],
   "source": [
    "import pandas as pd\n",
    "import numpy as np\n",
    "#AdmissionData = pd.read_csv('data.csv',sep=',',index_col = False)\n",
    "#del AdmissionData['Serial No.']\n",
    "#ran = np.random.rand(len(AdmissionData)) < 0.8\n",
    "#train = AdmissionData[ran]\n",
    "#val = AdmissionData[~ran]\n",
    "#train = AdmissionData.sample(frac = 0.8)\n",
    "#val = AdmissionData.loc[~AdmissionData.index.isin(train.index)]\n",
    "#train.to_csv('UsedTrainingDataForAdmissionDs.csv',sep=',',index = False)\n",
    "#val.to_csv('UsedValidationDataForAdmissionDs.csv',sep=',',index = False)\n",
    "train = pd.read_csv('UsedTrainingDataForAdmissionDs.csv',sep=',',index_col = False)\n",
    "val = pd.read_csv('UsedValidationDataForAdmissionDs.csv',sep=',',index_col = False)\n",
    "\n",
    "#train = pd.read_csv('UsedTrainingDataForAdmissionDs.csv',sep=',',index_col = False)\n",
    "#val = pd.read_csv('UsedValidationDataForAdmissionDs.csv',sep=',',index_col = False)\n",
    "\n",
    "tempTrain = train.loc[:,train.columns != 'Chance of Admit ']\n",
    "new_colTrain = [1]*len(train)\n",
    "tempTrain.insert(loc=0, column='intercept', value=new_colTrain)\n",
    "trainXmatrix = tempTrain.values\n",
    "trainXmatrix -= np.mean(trainXmatrix,axis = 0)\n",
    "trainXmatrix[:,1:] /= np.std(trainXmatrix.astype(float),axis = 0)[1:]\n",
    "trainXmatrix[:,0] = 1\n",
    "\n",
    "tempVal = val.loc[:,val.columns != 'Chance of Admit ']\n",
    "new_colVal = [1]*len(val)\n",
    "tempVal.insert(loc=0, column='intercept', value=new_colVal)\n",
    "ValXmatrix = tempVal.values\n",
    "ValXmatrix -= np.mean(ValXmatrix,axis = 0)\n",
    "ValXmatrix[:,1:] /= np.std(ValXmatrix.astype(float),axis = 0)[1:]\n",
    "ValXmatrix[:,0] = 1\n",
    "\n",
    "numOfSamples,numOfdimPlusOne = trainXmatrix.shape\n",
    "#numOfSamples,numOfdimPlusOne"
   ]
  },
  {
   "cell_type": "code",
   "execution_count": 3,
   "metadata": {},
   "outputs": [],
   "source": [
    "def getSigmoid(x,theta):\n",
    "    x = np.array(x)\n",
    "    theta = np.array(theta)\n",
    "    k = theta@x\n",
    "    return 1/(1+np.exp(-k))"
   ]
  },
  {
   "cell_type": "code",
   "execution_count": 33,
   "metadata": {},
   "outputs": [
    {
     "name": "stdout",
     "output_type": "stream",
     "text": [
      "174\n",
      "186\n",
      "hola\n"
     ]
    }
   ],
   "source": [
    "train[\"binaryPrediction\"] = [1.0 if x >= 0.725 else 0.0 for x in train[\"Chance of Admit \"]]\n",
    "val[\"binaryPrediction\"] = [1.0 if x >= 0.725 else 0.0 for x in val[\"Chance of Admit \"]]\n",
    "value = 0.0\n",
    "count0 = 0\n",
    "count1 = 0\n",
    "for x in train[\"binaryPrediction\"]:\n",
    "    if x == value: count0+=1\n",
    "    else: count1+=1\n",
    "print(count0)\n",
    "print(count1)\n",
    "print('hola')"
   ]
  },
  {
   "cell_type": "markdown",
   "metadata": {},
   "source": [
    "train.head()"
   ]
  },
  {
   "cell_type": "markdown",
   "metadata": {},
   "source": [
    "np.arange(float(0.5), float(1), float(0.025))"
   ]
  },
  {
   "cell_type": "code",
   "execution_count": 53,
   "metadata": {},
   "outputs": [
    {
     "name": "stdout",
     "output_type": "stream",
     "text": [
      "threshold is 0.50 accuracy is 0.97\n",
      "threshold is 0.55 accuracy is 0.91\n",
      "threshold is 0.60 accuracy is 0.84\n",
      "threshold is 0.65 accuracy is 0.79\n",
      "threshold is 0.70 accuracy is 0.91\n",
      "threshold is 0.75 accuracy is 0.94\n",
      "threshold is 0.80 accuracy is 0.92\n",
      "threshold is 0.85 accuracy is 0.96\n",
      "threshold is 0.90 accuracy is 0.99\n"
     ]
    }
   ],
   "source": [
    "#for threshold1 in np.arange(float(0.5), float(1), float(0.05)):\n",
    "#    train[\"binaryPrediction\"] = [1.0 if x >= threshold1 else 0.0 for x in train[\"Chance of Admit \"]]\n",
    "#    val[\"binaryPrediction\"] = [1.0 if x >= threshold1 else 0.0 for x in val[\"Chance of Admit \"]]\n",
    "thresholdValues = []\n",
    "PrecisionValues =[]\n",
    "RecallValues =[]\n",
    "f1Score = []\n",
    "#for threshold in np.arange(float(0.5), float(1), float(0.025)):\n",
    "for threshold in np.arange(float(0.5), float(1), float(0.05)):\n",
    "\n",
    "#for threshold in [0.5,0.55,0.6,0.65,0.7,0.75,0.8,0.85,0.9]:\n",
    "    train[\"binaryPrediction\"] = [1.0 if x >= threshold else 0.0 for x in train[\"Chance of Admit \"]]\n",
    "    val[\"binaryPrediction\"] = [1.0 if x >= threshold else 0.0 for x in val[\"Chance of Admit \"]]\n",
    "    value = 0.0\n",
    "    count0 = 0\n",
    "    count1 = 0\n",
    "    for x in train[\"binaryPrediction\"]:\n",
    "        if x == value: count0+=1\n",
    "        else: count1+=1\n",
    "    #print(count0)\n",
    "    #print(count1)\n",
    "    #print('hola')\n",
    "#AdmissionData[\"binaryPrediction\"]\n",
    "    trainYvector = train[\"binaryPrediction\"].values\n",
    "    valYvector = val[\"binaryPrediction\"].values\n",
    "    iterations = 0\n",
    "    theta = np.array([0.5]*numOfdimPlusOne) #initialization\n",
    "    alpha = 0.00005\n",
    "    alpha = 0.005\n",
    "    residual = 10\n",
    "    #while iterations <50:\n",
    "    likelyHood = 1000\n",
    "\n",
    "    while residual > 0.005:\n",
    "        beforetheta = theta.copy()\n",
    "        #print(\"iteration is \"+str(iterations))\n",
    "        #print(\"theta is \"+str(theta))\n",
    "        beforelikelyHood = likelyHood\n",
    "        iterations += 1\n",
    "        likelyHood = 0\n",
    "        for k in range(0,numOfSamples):\n",
    "            if trainYvector[k] == 1.0:\n",
    "                likelyHood += np.log(getSigmoid(trainXmatrix[k,:],theta))\n",
    "            else:\n",
    "                likelyHood += np.log(1-getSigmoid(trainXmatrix[k,:],theta))   \n",
    "        #print(\"likelyHood is \"+str(likelyHood))     \n",
    "        for j in range(0,numOfdimPlusOne):\n",
    "            tempj = 0\n",
    "            for i in range(0,numOfSamples):\n",
    "                tempj += (alpha*(trainYvector[i]-getSigmoid(trainXmatrix[i,:],theta))*trainXmatrix[i,j])\n",
    "            theta[j] += tempj   \n",
    "        #residual = np.linalg.norm(theta-beforetheta)\n",
    "        residual = np.linalg.norm(likelyHood-beforelikelyHood)\n",
    "        #print(theta)\n",
    "        #print(beforetheta)\n",
    "        #print(residual)\n",
    "\n",
    "    Ypredicted = np.array([0]*len(valYvector))\n",
    "    for i in range(0,len(ValXmatrix)):\n",
    "        if getSigmoid(ValXmatrix[i,:],theta)> threshold:\n",
    "            Ypredicted[i] = 1.0\n",
    "        else:\n",
    "            Ypredicted[i] = 0.0    \n",
    "    conMatrix = pd.crosstab(Ypredicted,valYvector)\n",
    "\n",
    "    #print('threshold is' +str(threshold))\n",
    "    #print(conMatrix)\n",
    "    if(conMatrix.shape == (2,2)):\n",
    "        sum1 = 0\n",
    "        for i in range(0,2):\n",
    "            for j in range(0,2):\n",
    "                if i==j:\n",
    "                    sum1 += conMatrix[i][j]\n",
    "\n",
    "        #print(sum1)\n",
    "        #print(np.sum(np.sum(conMatrix)))\n",
    "        #print('accuracy is ')\n",
    "        #print(sum1/np.sum(np.sum(conMatrix)))\n",
    "        #threshold = Decimal(threshold) ** -2\n",
    "        print('threshold is ' +str('%.2f' % threshold)+' accuracy is '+str('%.2f' % (sum1/np.sum(np.sum(conMatrix)))))\n",
    "\n",
    "        thresholdValues.append(threshold)\n",
    "        precision = (conMatrix[1][1]/(conMatrix[1][0]+conMatrix[1][1]))\n",
    "        recall = (conMatrix[1][1]/(conMatrix[0][1]+conMatrix[1][1]))\n",
    "        F1score = (2*precision*recall)/(precision+recall)\n",
    "        PrecisionValues.append(precision)\n",
    "        RecallValues.append(recall)\n",
    "        f1Score.append(F1score)\n",
    "\n",
    "        #PrecisionValues.append(conMatrix[0][0]/(conMatrix[0][0]+conMatrix[0][1]))\n",
    "        #RecallValues.append(conMatrix[0][0]/(conMatrix[0][0]+conMatrix[1][0]))\n",
    "\n",
    "\n"
   ]
  },
  {
   "cell_type": "code",
   "execution_count": 25,
   "metadata": {},
   "outputs": [
    {
     "data": {
      "image/png": "[encoded data removed]",
      "text/plain": [
       "<Figure size 432x288 with 1 Axes>"
      ]
     },
     "metadata": {
      "needs_background": "light"
     },
     "output_type": "display_data"
    },
    {
     "data": {
      "image/png": "[encoded data removed]",
      "text/plain": [
       "<Figure size 432x288 with 1 Axes>"
      ]
     },
     "metadata": {
      "needs_background": "light"
     },
     "output_type": "display_data"
    }
   ],
   "source": [
    "import matplotlib\n",
    "import matplotlib.pyplot as plt\n",
    "%matplotlib inline \n",
    "\n",
    "fig, ax = plt.subplots()\n",
    "#for i in enumerate(thresholdValues):\n",
    "ax.plot(RecallValues[:],PrecisionValues[:], label='threshold')\n",
    "#for i, txt in enumerate([0.05, 0.1, 0.15, 0.2, 0.25, 0.3, 0.35, 0.4, 0.45, 0.5, 0.55, 0.6, 0.65, 0.7, 0.75, 0.8, 0.85, 0.9, 0.95]):\n",
    "formatedf1score = [ '%.2f' % elem for elem in f1Score ]\n",
    "for i,txt in enumerate(thresholdValues):\n",
    "#for i, txt in enumerate(formatedf1score):\n",
    "    ax.annotate(txt, (RecallValues[i], PrecisionValues[i]))\n",
    "ax.legend(loc=3) # upper left corner\n",
    "ax.set_xlabel('Recall')\n",
    "ax.set_ylabel('Precision')\n",
    "ax.set_title('Precision vs Recall');\n",
    "\n",
    "fig, ax = plt.subplots()\n",
    "#for i in enumerate(thresholdValues):\n",
    "ax.plot(RecallValues[:],PrecisionValues[:], label='f1score')\n",
    "#for i, txt in enumerate([0.05, 0.1, 0.15, 0.2, 0.25, 0.3, 0.35, 0.4, 0.45, 0.5, 0.55, 0.6, 0.65, 0.7, 0.75, 0.8, 0.85, 0.9, 0.95]):\n",
    "formatedf1score = [ '%.2f' % elem for elem in f1Score ]\n",
    "#for i,txt in enumerate(thresholdValues):\n",
    "for i, txt in enumerate(formatedf1score):\n",
    "    ax.annotate(txt, (RecallValues[i], PrecisionValues[i]))\n",
    "ax.legend(loc=3) # upper left corner\n",
    "ax.set_xlabel('Recall')\n",
    "ax.set_ylabel('Precision')\n",
    "ax.set_title('Precision vs Recall');\n",
    "\n"
   ]
  },
  {
   "cell_type": "code",
   "execution_count": 39,
   "metadata": {},
   "outputs": [
    {
     "data": {
      "text/plain": [
       "Text(0, 0.5, 'Threshold')"
      ]
     },
     "execution_count": 39,
     "metadata": {},
     "output_type": "execute_result"
    },
    {
     "data": {
      "image/png": "[encoded data removed]",
      "text/plain": [
       "<Figure size 576x576 with 1 Axes>"
      ]
     },
     "metadata": {
      "needs_background": "light"
     },
     "output_type": "display_data"
    },
    {
     "data": {
      "image/png": "[encoded data removed]",
      "text/plain": [
       "<Figure size 576x576 with 1 Axes>"
      ]
     },
     "metadata": {
      "needs_background": "light"
     },
     "output_type": "display_data"
    }
   ],
   "source": [
    "fig = plt.figure(figsize=(8,8))\n",
    "plt.scatter(RecallValues,thresholdValues, color='red',alpha = 0.5)\n",
    "#plt.scatter(PrecisionValues,thresholdValues,color='blue',alpha =0.5)\n",
    "plt.xlabel('Recall')\n",
    "plt.ylabel('Threshold')\n",
    "fig = plt.figure(figsize=(8,8))\n",
    "#plt.scatter(RecallValues,thresholdValues, color='red',alpha = 0.5)\n",
    "plt.scatter(PrecisionValues[:-1],thresholdValues[:-1],color='blue',alpha =0.5)\n",
    "plt.xlabel('Precision')\n",
    "plt.ylabel('Threshold')\n",
    "#plt.savefig('../output_data/pic1.png')\n",
    "#plt.title('')\n",
    "#fig1 = plt.figure(figsize=(8,8))\n",
    "#plt.scatter(y, z, color=colors1,alpha = 0.5)\n",
    "#plt.xlabel('satisfaction_level')\n",
    "#plt.ylabel('average_montly_hours')"
   ]
  },
  {
   "cell_type": "code",
   "execution_count": 40,
   "metadata": {},
   "outputs": [],
   "source": [
    "\n",
    "#print(Yvector)\n",
    "#YminusSigmoidOfX = np.array([Yvector[j] - getSigmoid(Xmatrix[j],theta) for j in range(0,numOfSamples)])\n",
    "#gradientVector = np.array([sum(YminusSigmoidOfX*Xmatrix[:,j]) for j in range(0,numOfdimPlusOne)])  \n",
    "#type(gradientVector)"
   ]
  },
  {
   "cell_type": "code",
   "execution_count": 57,
   "metadata": {},
   "outputs": [],
   "source": [
    "#conMatrix"
   ]
  },
  {
   "cell_type": "markdown",
   "metadata": {
    "scrolled": true
   },
   "source": [
    "conMatrix[0][0]"
   ]
  },
  {
   "cell_type": "markdown",
   "metadata": {
    "scrolled": true
   },
   "source": [
    "conMatrix.shape == (1,2)"
   ]
  },
  {
   "cell_type": "markdown",
   "metadata": {},
   "source": [
    "# Part2(KNN)"
   ]
  },
  {
   "cell_type": "code",
   "execution_count": 59,
   "metadata": {},
   "outputs": [],
   "source": [
    "import pandas as pd\n",
    "import numpy as np\n",
    "#AdmissionData = pd.read_csv('data.csv',sep=',',index_col = False)\n",
    "#AdmissionData.head()\n",
    "#train = AdmissionData.sample(frac = 0.8)\n",
    "#val = AdmissionData.loc[~AdmissionData.index.isin(train.index)]\n",
    "#train.to_csv('UsedTrainingDataForAdmissionKnnDs.csv',sep=',',index = False)\n",
    "#val.to_csv('UsedValidationDataForAdmissionKnnDs.csv',sep=',',index = False)\n",
    "train = pd.read_csv('UsedTrainingDataForAdmissionKnnDs.csv',sep=',',index_col = False)\n",
    "val = pd.read_csv('UsedValidationDataForAdmissionKnnDs.csv',sep=',',index_col = False)"
   ]
  },
  {
   "cell_type": "code",
   "execution_count": 56,
   "metadata": {
    "scrolled": true
   },
   "outputs": [
    {
     "name": "stdout",
     "output_type": "stream",
     "text": [
      "threshold is 0.50 accuracy is 0.96\n",
      "threshold is 0.55 accuracy is 0.90\n",
      "threshold is 0.60 accuracy is 0.84\n",
      "threshold is 0.65 accuracy is 0.81\n",
      "threshold is 0.70 accuracy is 0.80\n",
      "threshold is 0.75 accuracy is 0.90\n",
      "threshold is 0.80 accuracy is 0.93\n",
      "threshold is 0.85 accuracy is 0.96\n",
      "threshold is 0.90 accuracy is 0.93\n"
     ]
    }
   ],
   "source": [
    "import math \n",
    "def  getDistBetweenPoints(Point1,Point2,method,parameter):\n",
    "    #print(parameter)\n",
    "    row1 = np.array(Point1[1:len(Point1)-2])\n",
    "    row2 = np.array(Point2[1:len(Point1)-2])\n",
    "    #print(row1)\n",
    "    #print(row2)\n",
    "    if method == 'Euclidean':\n",
    "        return (np.sum((np.abs(row1-row2))**2))**(1/2)\n",
    "    elif method == 'Minkowski':\n",
    "        return (np.sum(np.abs((row1-row2))**float(parameter)))**(1/float(parameter))\n",
    "    elif method == 'Chebyshey':\n",
    "        return np.max(np.abs(row1-row2))        \n",
    "    elif method == 'Cosine':\n",
    "        return 1-((sum((row1)*(row2)))/(np.sqrt(sum((row1)**2))*np.sqrt(sum((row2)**2))))\n",
    "    elif method == 'Manhattan':\n",
    "        return np.sum(np.abs(row1-row2))\n",
    "    elif method == 'Hellinger':        \n",
    "        return (1/np.sqrt(2))*np.sqrt(np.sum((np.abs(np.sqrt(row1)-np.sqrt(row2)))**2))\n",
    "    elif method == 'Bray-Curtis':\n",
    "        return sum(abs(row1-row2))/sum(abs(row1+row2))\n",
    "    elif method == 'Canberra':\n",
    "        return sum(abs(row1-row2))/sum(abs(row1)+abs(row2))\n",
    "    elif method == 'Pearson':\n",
    "        tempMeanRow1 = sum(row1) / float(len(row1))\n",
    "        tempMeanRow2 = sum(row2) / float(len(row2))\n",
    "        return 1-((sum((row1-tempMeanRow1)*(row2-tempMeanRow2)))/(np.sqrt(sum((row1-tempMeanRow1)**2))*np.sqrt(sum((row2-tempMeanRow2)**2))))\n",
    "        \n",
    "def getDistanceFromAllPoints(Point,distance_method,parameter):\n",
    "    DistancesFromAllOtherPoints ={}\n",
    "    for index,row in train.iterrows():\n",
    "        DistancesFromAllOtherPoints[row[0]] = [getDistBetweenPoints(list(row),Point,distance_method,parameter),row[-1]]\n",
    "    return DistancesFromAllOtherPoints\n",
    "def getLabel(Point,distance_method,parameter,NumOfNeighbours):\n",
    "    NearestNeighboursAndTheirDistances = {}  \n",
    "    DistancesFromAllOtherPoints = getDistanceFromAllPoints(Point,distance_method,parameter)\n",
    "    NearestNeighboursAndTheirDistances = dict(sorted(DistancesFromAllOtherPoints.items(), key=lambda e: e[1][0])[0:NumOfNeighbours])\n",
    "    NumberOfClassZero = 0\n",
    "    NumberOfClassOne = 0\n",
    "    #print(NearestNeighboursAndTheirDistances)\n",
    "    for key, value in NearestNeighboursAndTheirDistances.items():\n",
    "        if int(NearestNeighboursAndTheirDistances[key][1]) == int(1):\n",
    "            NumberOfClassOne += 1\n",
    "        else:\n",
    "            NumberOfClassZero += 1    \n",
    "    if(NumberOfClassOne>NumberOfClassZero):\n",
    "        return 1\n",
    "    else:\n",
    "        return 0          \n",
    "def compute(GivenDataSet,distance_method,parameter,NumOfNeighbours):\n",
    "    GivenDataSet[\"predict\"] = [0]*len(GivenDataSet)\n",
    "    for index,row in GivenDataSet.iterrows():\n",
    "        predictedValue = getLabel(row.tolist(),distance_method,parameter,NumOfNeighbours)\n",
    "        GivenDataSet.at[int(index),'predict'] = predictedValue\n",
    "        #print(str(index)+\")Actual Value is \"+str(GivenDataSet.at[int(index),\"binaryPrediction\"])+\" Predicted Value is \"+str(predictedValue))\n",
    "    #caluculate accuracy and precision\n",
    "    #return GivenDataSet\n",
    "def CalulatePrecsionRecallEtc(GivenTestData):\n",
    "    TN = 0\n",
    "    FP = 0\n",
    "    FN = 0\n",
    "    TP = 0\n",
    "    for i in list(GivenTestData.index.values):\n",
    "        if str(GivenTestData.at[i,\"binaryPrediction\"]) == str(1) and str(GivenTestData.at[i,'predict']) == str(1):\n",
    "            TP = TP + 1\n",
    "        elif str(GivenTestData.at[i,\"binaryPrediction\"]) == str(1) and str(GivenTestData.at[i,'predict']) == str(0):\n",
    "            FN = FN + 1\n",
    "        elif str(GivenTestData.at[i,\"binaryPrediction\"]) == str(0) and str(GivenTestData.at[i,'predict']) == str(1):\n",
    "            FP = FP + 1\n",
    "        elif str(GivenTestData.at[i,\"binaryPrediction\"]) == str(0) and str(GivenTestData.at[i,'predict']) == str(0):\n",
    "            TN = TN + 1\n",
    "    print(\"Results On GivenTestData\")\n",
    "    print(\"-------------------------------------------------\")\n",
    "    #print(\"True Positive are    \"+ str(TP))\n",
    "    #print(\"True Negatives are   \"+ str(TN))\n",
    "    #print(\"False Positive are   \"+ str(FP))\n",
    "   # print(\"False Negatives are  \"+str(FN))\n",
    "    Precision = (TP/(TP+FP))\n",
    "    Recall = (TP/(TP+FN))\n",
    "    F1_Score = 2*((1/Recall)+(1/Precision))\n",
    "    accuracy = (TN+TP)/(TN+TP+FP+FN)\n",
    "    print(\"Precsion is          \"+str(Precision))\n",
    "    print(\"Recall is            \"+str(Recall))\n",
    "    print(\"F1_Score is          \"+str(F1_Score))\n",
    "    print(\"Accuracy is          \"+str(accuracy))\n",
    "    print(\"-------------------------------------------------\")\n",
    "\n",
    "def getAccuracy(GivenTestData):\n",
    "    TN = 0\n",
    "    FP = 0\n",
    "    FN = 0\n",
    "    TP = 0\n",
    "    for i in list(GivenTestData.index.values):\n",
    "        if str(GivenTestData.at[i,\"binaryPrediction\"]) == str(1) and str(GivenTestData.at[i,'predict']) == str(1):\n",
    "            TP = TP + 1\n",
    "        elif str(GivenTestData.at[i,\"binaryPrediction\"]) == str(1) and str(GivenTestData.at[i,'predict']) == str(0):\n",
    "            FN = FN + 1\n",
    "        elif str(GivenTestData.at[i,\"binaryPrediction\"]) == str(0) and str(GivenTestData.at[i,'predict']) == str(1):\n",
    "            FP = FP + 1\n",
    "        elif str(GivenTestData.at[i,\"binaryPrediction\"]) == str(0) and str(GivenTestData.at[i,'predict']) == str(0):\n",
    "            TN = TN + 1\n",
    "    Precision = (TP/(TP+FP))\n",
    "    Recall = (TP/(TP+FN))\n",
    "    accuracy = (TN+TP)/(TN+TP+FP+FN)\n",
    "    return accuracy\n",
    "\n",
    "def computeConMatrix(GivenTestData,threshold):\n",
    "    conMatrix = pd.crosstab(GivenTestData[\"binaryPrediction\"],GivenTestData[\"predict\"])    \n",
    "    if(conMatrix.shape == (2,2)):\n",
    "        #print(conMatrix)\n",
    "        sum1 = 0\n",
    "        for i in range(0,2):\n",
    "            for j in range(0,2):\n",
    "                if i==j:\n",
    "                    sum1 += conMatrix[i][j]\n",
    "\n",
    "        #print(sum1)\n",
    "        #print(np.sum(np.sum(conMatrix)))\n",
    "        #print('accuracy is ')\n",
    "        #print(sum1/np.sum(np.sum(conMatrix)))\n",
    "        #thresholdValues.append(threshold)\n",
    "        print('threshold is ' +str('%.2f' % threshold)+' accuracy is '+str('%.2f' % (sum1/np.sum(np.sum(conMatrix)))))\n",
    "        precision = (conMatrix[1][1]/(conMatrix[1][0]+conMatrix[1][1]))\n",
    "        recall = (conMatrix[1][1]/(conMatrix[0][1]+conMatrix[1][1]))\n",
    "        F1score = (2*precision*recall)/(precision+recall)\n",
    "        PrecisionValues.append(precision)\n",
    "        RecallValues.append(recall)\n",
    "        f1Score.append(F1score)\n",
    "        \n",
    "thresholdValues = []\n",
    "PrecisionValues =[]\n",
    "RecallValues =[]\n",
    "f1Score = []\n",
    "for threshold in np.arange(float(0.5), float(1), float(0.05)):   \n",
    "    train[\"binaryPrediction\"] = [1.0 if x >= threshold else 0.0 for x in train[\"Chance of Admit \"]]\n",
    "    val[\"binaryPrediction\"] = [1.0 if x >= threshold else 0.0 for x in val[\"Chance of Admit \"]]\n",
    "    #print('threshold is'+str(threshold))\n",
    "    thresholdValues.append(threshold)\n",
    "    #train[\"binaryPrediction\"] = [1.0 if x >= threshold else 0.0 for x in train[\"Chance of Admit \"]]\n",
    "    #val[\"binaryPrediction\"] = [1.0 if x >= threshold else 0.0 for x in val[\"Chance of Admit \"]]\n",
    "\n",
    "    NumOfNeighbours = 12\n",
    "    distance_method = 'Euclidean'\n",
    "    #'Euclidean' 'Minkowski' 'Chebyshey''Cosine''Manhattan' 'Mahalanobis' 'Hellinger''Bray-Curtis' 'Canberra''Pearson'\n",
    "    GivenDataSet = val.copy()\n",
    "    parameter = 0.5\n",
    "    #import sys\n",
    "    #filename = sys.argv[1]\n",
    "    #GivenDataSet = pd.read_csv(filename,sep='\\s+',header=None,names = ['class','a1','a2','a3','a4','a5','a6','Id'],index_col = False)\n",
    "    compute(GivenDataSet,distance_method,parameter,NumOfNeighbours)\n",
    "    computeConMatrix(GivenDataSet,threshold)\n",
    "#CalulatePrecsionRecallEtc(GivenDataSet)\n",
    "#GivenDataSet\n",
    "\n"
   ]
  },
  {
   "cell_type": "markdown",
   "metadata": {},
   "source": [
    "PrecisionValues"
   ]
  },
  {
   "cell_type": "markdown",
   "metadata": {},
   "source": [
    "import matplotlib\n",
    "import matplotlib.pyplot as plt\n",
    "%matplotlib inline \n",
    "\n",
    "fig, ax = plt.subplots()\n",
    "#for i in enumerate(thresholdValues):\n",
    "ax.plot(RecallValues[:],PrecisionValues[:], label='threshold')\n",
    "#for i, txt in enumerate([0.05, 0.1, 0.15, 0.2, 0.25, 0.3, 0.35, 0.4, 0.45, 0.5, 0.55, 0.6, 0.65, 0.7, 0.75, 0.8, 0.85, 0.9, 0.95]):\n",
    "#for i, txt in enumerate([0.5, 0.55, 0.6, 0.65, 0.7, 0.75, 0.8, 0.85, 0.9, 0.95,1]):\n",
    "#formatedf1score = [ '%.2f' % elem for elem in f1Score ]\n",
    "#for i, txt in enumerate(formatedf1score):\n",
    "for i, txt in enumerate(thresholdValues):\n",
    "    ax.annotate(txt, (RecallValues[i], PrecisionValues[i]))\n",
    "ax.legend(loc=3) # upper left corner\n",
    "ax.set_xlabel('Recall')\n",
    "ax.set_ylabel('Precision')\n",
    "ax.set_title('Precision vs Recall');\n"
   ]
  }
 ],
 "metadata": {
  "kernelspec": {
   "display_name": "Python 3",
   "language": "python",
   "name": "python3"
  },
  "language_info": {
   "codemirror_mode": {
    "name": "ipython",
    "version": 3
   },
   "file_extension": ".py",
   "mimetype": "text/x-python",
   "name": "python",
   "nbconvert_exporter": "python",
   "pygments_lexer": "ipython3",
   "version": "3.7.1"
  }
 },
 "nbformat": 4,
 "nbformat_minor": 2
}
