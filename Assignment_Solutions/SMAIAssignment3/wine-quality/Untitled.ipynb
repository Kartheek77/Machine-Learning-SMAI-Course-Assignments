{
 "cells": [
  {
   "cell_type": "code",
   "execution_count": 13,
   "metadata": {},
   "outputs": [
    {
     "data": {
      "text/html": [
       "<div>\n",
       "<style scoped>\n",
       "    .dataframe tbody tr th:only-of-type {\n",
       "        vertical-align: middle;\n",
       "    }\n",
       "\n",
       "    .dataframe tbody tr th {\n",
       "        vertical-align: top;\n",
       "    }\n",
       "\n",
       "    .dataframe thead th {\n",
       "        text-align: right;\n",
       "    }\n",
       "</style>\n",
       "<table border=\"1\" class=\"dataframe\">\n",
       "  <thead>\n",
       "    <tr style=\"text-align: right;\">\n",
       "      <th></th>\n",
       "      <th>fixed acidity</th>\n",
       "      <th>volatile acidity\"\"</th>\n",
       "      <th>citric acid\"\"</th>\n",
       "      <th>residual sugar\"\"</th>\n",
       "      <th>chlorides\"\"</th>\n",
       "      <th>free sulfur dioxide\"\"</th>\n",
       "      <th>total sulfur dioxide\"\"</th>\n",
       "      <th>density\"\"</th>\n",
       "      <th>pH\"\"</th>\n",
       "      <th>sulphates\"\"</th>\n",
       "      <th>alcohol\"\"</th>\n",
       "      <th>quality\"\"\"</th>\n",
       "    </tr>\n",
       "  </thead>\n",
       "  <tbody>\n",
       "    <tr>\n",
       "      <th>0</th>\n",
       "      <td>9.2</td>\n",
       "      <td>0.25</td>\n",
       "      <td>0.34</td>\n",
       "      <td>1.20</td>\n",
       "      <td>0.026</td>\n",
       "      <td>31.0</td>\n",
       "      <td>93.0</td>\n",
       "      <td>0.99160</td>\n",
       "      <td>2.93</td>\n",
       "      <td>0.37</td>\n",
       "      <td>11.3</td>\n",
       "      <td>7</td>\n",
       "    </tr>\n",
       "    <tr>\n",
       "      <th>1</th>\n",
       "      <td>6.6</td>\n",
       "      <td>0.20</td>\n",
       "      <td>0.27</td>\n",
       "      <td>10.90</td>\n",
       "      <td>0.038</td>\n",
       "      <td>29.0</td>\n",
       "      <td>130.0</td>\n",
       "      <td>0.99496</td>\n",
       "      <td>3.11</td>\n",
       "      <td>0.44</td>\n",
       "      <td>10.5</td>\n",
       "      <td>7</td>\n",
       "    </tr>\n",
       "    <tr>\n",
       "      <th>2</th>\n",
       "      <td>5.7</td>\n",
       "      <td>0.22</td>\n",
       "      <td>0.22</td>\n",
       "      <td>16.65</td>\n",
       "      <td>0.044</td>\n",
       "      <td>39.0</td>\n",
       "      <td>110.0</td>\n",
       "      <td>0.99855</td>\n",
       "      <td>3.24</td>\n",
       "      <td>0.48</td>\n",
       "      <td>9.0</td>\n",
       "      <td>6</td>\n",
       "    </tr>\n",
       "    <tr>\n",
       "      <th>3</th>\n",
       "      <td>7.2</td>\n",
       "      <td>0.23</td>\n",
       "      <td>0.39</td>\n",
       "      <td>14.20</td>\n",
       "      <td>0.058</td>\n",
       "      <td>49.0</td>\n",
       "      <td>192.0</td>\n",
       "      <td>0.99790</td>\n",
       "      <td>2.98</td>\n",
       "      <td>0.48</td>\n",
       "      <td>9.0</td>\n",
       "      <td>7</td>\n",
       "    </tr>\n",
       "    <tr>\n",
       "      <th>4</th>\n",
       "      <td>7.6</td>\n",
       "      <td>0.35</td>\n",
       "      <td>0.47</td>\n",
       "      <td>13.30</td>\n",
       "      <td>0.037</td>\n",
       "      <td>42.0</td>\n",
       "      <td>116.0</td>\n",
       "      <td>0.99822</td>\n",
       "      <td>3.04</td>\n",
       "      <td>0.50</td>\n",
       "      <td>9.2</td>\n",
       "      <td>5</td>\n",
       "    </tr>\n",
       "  </tbody>\n",
       "</table>\n",
       "</div>"
      ],
      "text/plain": [
       "   fixed acidity  volatile acidity\"\"  citric acid\"\"  residual sugar\"\"  \\\n",
       "0            9.2                0.25           0.34              1.20   \n",
       "1            6.6                0.20           0.27             10.90   \n",
       "2            5.7                0.22           0.22             16.65   \n",
       "3            7.2                0.23           0.39             14.20   \n",
       "4            7.6                0.35           0.47             13.30   \n",
       "\n",
       "   chlorides\"\"  free sulfur dioxide\"\"  total sulfur dioxide\"\"  density\"\"  \\\n",
       "0        0.026                   31.0                    93.0    0.99160   \n",
       "1        0.038                   29.0                   130.0    0.99496   \n",
       "2        0.044                   39.0                   110.0    0.99855   \n",
       "3        0.058                   49.0                   192.0    0.99790   \n",
       "4        0.037                   42.0                   116.0    0.99822   \n",
       "\n",
       "   pH\"\"  sulphates\"\"  alcohol\"\"  quality\"\"\"  \n",
       "0  2.93         0.37       11.3           7  \n",
       "1  3.11         0.44       10.5           7  \n",
       "2  3.24         0.48        9.0           6  \n",
       "3  2.98         0.48        9.0           7  \n",
       "4  3.04         0.50        9.2           5  "
      ]
     },
     "execution_count": 13,
     "metadata": {},
     "output_type": "execute_result"
    }
   ],
   "source": [
    "import pandas as pd\n",
    "import numpy as np\n",
    "WineData = pd.read_csv('data.csv',sep=';',index_col = False)\n",
    "WineData.head()"
   ]
  },
  {
   "cell_type": "code",
   "execution_count": 42,
   "metadata": {},
   "outputs": [
    {
     "data": {
      "text/plain": [
       "array([3, 4, 5, 6, 7, 8, 9], dtype=int64)"
      ]
     },
     "execution_count": 42,
     "metadata": {},
     "output_type": "execute_result"
    }
   ],
   "source": [
    "\n",
    "#del AdmissionData['Serial No.']\n",
    "#ran = np.random.rand(len(AdmissionData)) < 0.8\n",
    "#train = AdmissionData[ran]\n",
    "#val = AdmissionData[~ran]\n",
    "train = WineData.sample(frac = 0.8)\n",
    "val = WineData.loc[~WineData.index.isin(train.index)]\n",
    "#train.to_csv('UsedTrainingDataForAdmissionDs.csv',sep=',',index = False)\n",
    "#val.to_csv('UsedValidationDataForAdmissionDs.csv',sep=',',index = False)\n",
    "#train = pd.read_csv('UsedTrainingDataForAdmissionDs.csv',sep=',',index_col = False)\n",
    "#val = pd.read_csv('UsedValidationDataForAdmissionDs.csv',sep=',',index_col = False)\n",
    "#train = pd.read_csv('UsedTrainingDataForAdmissionDs.csv',sep=',',index_col = False)\n",
    "#val = pd.read_csv('UsedValidationDataForAdmissionDs.csv',sep=',',index_col = False)\n",
    "np.unique(train['quality\"\"\"'])"
   ]
  },
  {
   "cell_type": "code",
   "execution_count": 83,
   "metadata": {},
   "outputs": [
    {
     "data": {
      "text/plain": [
       "dict_values([1580, 1063, 629, 119, 118, 14, 3])"
      ]
     },
     "execution_count": 83,
     "metadata": {},
     "output_type": "execute_result"
    }
   ],
   "source": [
    "np.unique(train['quality\"\"\"'])\n",
    "from collections import Counter\n",
    "\n",
    "Counter(WineData['quality\"\"\"']).keys() # equals to list(set(words))\n",
    "Counter(train['quality\"\"\"']).values() "
   ]
  },
  {
   "cell_type": "code",
   "execution_count": 29,
   "metadata": {},
   "outputs": [],
   "source": [
    "tempWine = WineData.loc[:,WineData.columns != 'quality\"\"\"']\n",
    "new_colWine = [1]*len(WineData)\n",
    "tempWine.insert(loc=0, column='intercept', value=new_colWine)\n",
    "WineXmatrix = tempWine.values"
   ]
  },
  {
   "cell_type": "code",
   "execution_count": 36,
   "metadata": {},
   "outputs": [
    {
     "data": {
      "text/plain": [
       "(3526, 12)"
      ]
     },
     "execution_count": 36,
     "metadata": {},
     "output_type": "execute_result"
    }
   ],
   "source": [
    "temptrain = train.loc[:,train.columns != 'quality\"\"\"']\n",
    "new_coltrain = [1]*len(train)\n",
    "temptrain.insert(loc=0, column='intercept', value =new_coltrain)\n",
    "trainXmatrix = temptrain.values\n",
    "trainXmatrix -= np.mean(trainXmatrix,axis = 0)\n",
    "trainXmatrix[:,1:] /= np.std(trainXmatrix.astype(float),axis = 0)[1:]\n",
    "trainXmatrix[:,0] = 1\n",
    "\n",
    "tempval = val.loc[:,val.columns != 'quality\"\"\"']\n",
    "new_colval = [1]*len(val)\n",
    "tempval.insert(loc=0, column='intercept', value=new_colval)\n",
    "valXmatrix = tempval.values\n",
    "valXmatrix -= np.mean(valXmatrix,axis = 0)\n",
    "valXmatrix[:,1:] /= np.std(valXmatrix.astype(float),axis = 0)[1:]\n",
    "valXmatrix[:,0] = 1\n",
    "\n",
    "numOfSamples,numOfdimPlusOne = trainXmatrix.shape\n",
    "numOfSamples,numOfdimPlusOne"
   ]
  },
  {
   "cell_type": "code",
   "execution_count": 55,
   "metadata": {},
   "outputs": [
    {
     "data": {
      "text/plain": [
       "array([[ 1.        ,  0.65494389,  0.31959086, ...,  0.48524676,\n",
       "        -1.12599531, -1.1466535 ],\n",
       "       [ 1.        , -1.12452249, -0.672335  , ...,  1.28908987,\n",
       "         0.88426265,  0.31976689],\n",
       "       [ 1.        , -0.41273594,  0.31959086, ..., -0.65353099,\n",
       "         0.09763997, -0.9837179 ],\n",
       "       ...,\n",
       "       [ 1.        , -1.95494014,  3.19617585, ...,  0.95415524,\n",
       "         0.79686013, -0.65784671],\n",
       "       [ 1.        ,  0.18041952,  0.7163612 , ...,  1.08812909,\n",
       "        -0.95119027,  0.40123469],\n",
       "       [ 1.        , -0.76862922,  0.7163612 , ..., -0.38558328,\n",
       "         1.14647021, -0.9837179 ]])"
      ]
     },
     "execution_count": 55,
     "metadata": {},
     "output_type": "execute_result"
    }
   ],
   "source": [
    "trainXmatrix"
   ]
  },
  {
   "cell_type": "code",
   "execution_count": 45,
   "metadata": {},
   "outputs": [],
   "source": [
    "def getSigmoid(x,theta):\n",
    "    x = np.array(x)\n",
    "    theta = np.array(theta)\n",
    "    k = theta@x\n",
    "    return 1/(1+np.exp(-k))"
   ]
  },
  {
   "cell_type": "code",
   "execution_count": 54,
   "metadata": {},
   "outputs": [
    {
     "name": "stdout",
     "output_type": "stream",
     "text": [
      "[0. 1.]\n",
      "[0. 1.]\n",
      "[0. 1.]\n",
      "[0. 1.]\n",
      "[0. 1.]\n",
      "[0. 1.]\n",
      "[0. 1.]\n",
      "[0. 1.]\n",
      "[0. 1.]\n",
      "[0. 1.]\n",
      "[0. 1.]\n",
      "[0. 1.]\n",
      "[0. 1.]\n",
      "[0. 1.]\n"
     ]
    }
   ],
   "source": [
    "for eachvalue in np.unique(train['quality\"\"\"']):\n",
    "    print\n",
    "    trainYvector = np.array([1.0 if x == eachvalue else 0.0 for x in train['quality\"\"\"']])\n",
    "    print(np.unique(trainYvector))\n",
    "    valYvector = np.array([1.0 if x == eachvalue else 0.0 for x in val['quality\"\"\"']])\n",
    "    print(np.unique(valYvector))"
   ]
  },
  {
   "cell_type": "code",
   "execution_count": null,
   "metadata": {
    "scrolled": true
   },
   "outputs": [],
   "source": [
    "conMatrix ={}\n",
    "precisionForAllClasses = 0\n",
    "for eachvalue in np.unique(train['quality\"\"\"']):\n",
    "    trainYvector = np.array([1.0 if x == eachvalue else 0.0 for x in train['quality\"\"\"']])\n",
    "    valYvector = np.array([1.0 if x == eachvalue else 0.0 for x in val['quality\"\"\"']])\n",
    "    iterations = 0\n",
    "    theta = np.array([0.5]*numOfdimPlusOne) #initialization\n",
    "    alpha = 0.005\n",
    "    residual = 10\n",
    "    likelyHood = 1000\n",
    "    #while iterations <50:\n",
    "    while residual > 0.001:\n",
    "        beforetheta = theta.copy()\n",
    "        beforelikelyHood = likelyHood\n",
    "        print(\"iteration is \"+str(iterations))\n",
    "        #print(\"theta is \"+str(theta))\n",
    "        likelyHood = 0\n",
    "        iterations += 1\n",
    "        for k in range(0,numOfSamples):\n",
    "            if trainYvector[k] == 1.0:\n",
    "                if getSigmoid(trainXmatrix[k,:],theta) > 0:\n",
    "                    likelyHood += np.log(getSigmoid(trainXmatrix[k,:],theta))\n",
    "                else:\n",
    "                    likelyHood += 1000\n",
    "            else:\n",
    "                if (1-getSigmoid(trainXmatrix[k,:],theta)) > 0:\n",
    "                    likelyHood += np.log(1-getSigmoid(trainXmatrix[k,:],theta))   \n",
    "                else:\n",
    "                    likelyHood += 1000                \n",
    "        print(\"likelyHood is \"+str(likelyHood))  \n",
    "       \n",
    "        for j in range(0,numOfdimPlusOne):\n",
    "            tempj = 0\n",
    "            for i in range(0,numOfSamples):\n",
    "                tempj += (alpha*(trainYvector[i]-getSigmoid(trainXmatrix[i,:],theta))*trainXmatrix[i,j])\n",
    "            theta[j] += tempj   \n",
    "        #esidual = np.linalg.norm(theta-beforetheta)\n",
    "        residual = np.linalg.norm(likelyHood-beforelikelyHood)\n",
    "        \n",
    "    Ypredicted = np.array([0]*len(valYvector))\n",
    "    for i in range(0,len(valXmatrix)):\n",
    "        if getSigmoid(valXmatrix[i,:],theta)> 0.5:\n",
    "            Ypredicted[i] = 1.0\n",
    "        else:\n",
    "            Ypredicted[i] = 0.0  \n",
    "    conMatrix[eachvalue] = pd.crosstab(Ypredicted,valYvector)\n",
    "    print(conMatrix[eachvalue])\n",
    "    "
   ]
  },
  {
   "cell_type": "code",
   "execution_count": null,
   "metadata": {},
   "outputs": [],
   "source": [
    "for item in conMatrix:\n",
    "    precison \n",
    "    "
   ]
  },
  {
   "cell_type": "code",
   "execution_count": null,
   "metadata": {},
   "outputs": [],
   "source": []
  }
 ],
 "metadata": {
  "kernelspec": {
   "display_name": "Python 3",
   "language": "python",
   "name": "python3"
  },
  "language_info": {
   "codemirror_mode": {
    "name": "ipython",
    "version": 3
   },
   "file_extension": ".py",
   "mimetype": "text/x-python",
   "name": "python",
   "nbconvert_exporter": "python",
   "pygments_lexer": "ipython3",
   "version": "3.7.1"
  }
 },
 "nbformat": 4,
 "nbformat_minor": 2
}
