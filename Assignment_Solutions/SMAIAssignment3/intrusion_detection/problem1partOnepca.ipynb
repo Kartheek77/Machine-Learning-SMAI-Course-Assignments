{
 "cells": [
  {
   "cell_type": "code",
   "execution_count": 3,
   "metadata": {},
   "outputs": [],
   "source": [
    "import pandas as pd\n",
    "import numpy as np\n",
    "IntrusionData = pd.read_csv('data.csv',sep=',',index_col = False)\n",
    "#IntrusionData.head()"
   ]
  },
  {
   "cell_type": "code",
   "execution_count": null,
   "metadata": {},
   "outputs": [],
   "source": [
    "IntrusionData.shape"
   ]
  },
  {
   "cell_type": "code",
   "execution_count": 4,
   "metadata": {},
   "outputs": [],
   "source": [
    "Xmatrix = IntrusionData.values\n",
    "LabelVector = Xmatrix[:,-1]\n",
    "Xmatrix = Xmatrix[:,:-1]"
   ]
  },
  {
   "cell_type": "code",
   "execution_count": 5,
   "metadata": {
    "scrolled": true
   },
   "outputs": [],
   "source": [
    "meanVector = np.mean(Xmatrix,axis = 0)"
   ]
  },
  {
   "cell_type": "code",
   "execution_count": 6,
   "metadata": {},
   "outputs": [],
   "source": [
    "CenteredXmatrix = Xmatrix - meanVector"
   ]
  },
  {
   "cell_type": "code",
   "execution_count": 7,
   "metadata": {},
   "outputs": [],
   "source": [
    "SdVector = np.std(CenteredXmatrix.astype(float),axis = 0)"
   ]
  },
  {
   "cell_type": "code",
   "execution_count": 8,
   "metadata": {},
   "outputs": [],
   "source": [
    "CenteredXmatrix /= SdVector"
   ]
  },
  {
   "cell_type": "code",
   "execution_count": null,
   "metadata": {
    "scrolled": true
   },
   "outputs": [],
   "source": [
    "#CenteredXmatrix"
   ]
  },
  {
   "cell_type": "code",
   "execution_count": 9,
   "metadata": {},
   "outputs": [],
   "source": [
    "covOfCenteredXmatrix = np.array([(CenteredXmatrix[0,:].astype(float))]).T@ np.array([(CenteredXmatrix[0,:].astype(float))])\n",
    "for i in range(1,len(CenteredXmatrix)):\n",
    "    covOfCenteredXmatrix +=   np.array([(CenteredXmatrix[i,:].astype(float))]).T@ np.array([(CenteredXmatrix[i,:].astype(float))])\n",
    "covOfCenteredXmatrix /= len(CenteredXmatrix)"
   ]
  },
  {
   "cell_type": "code",
   "execution_count": null,
   "metadata": {},
   "outputs": [],
   "source": [
    "#covOfCenteredXmatrix"
   ]
  },
  {
   "cell_type": "code",
   "execution_count": null,
   "metadata": {},
   "outputs": [],
   "source": [
    "#covOfCenteredXmatrix1 = np.cov(CenteredXmatrix.astype(float).T)#, rowvar=False)"
   ]
  },
  {
   "cell_type": "code",
   "execution_count": null,
   "metadata": {},
   "outputs": [],
   "source": [
    "#covOfCenteredXmatrix1"
   ]
  },
  {
   "cell_type": "code",
   "execution_count": null,
   "metadata": {},
   "outputs": [],
   "source": [
    "#covOfCenteredXmatrix"
   ]
  },
  {
   "cell_type": "code",
   "execution_count": null,
   "metadata": {},
   "outputs": [],
   "source": [
    "#covOfCenteredXmatrix.shape"
   ]
  },
  {
   "cell_type": "code",
   "execution_count": 10,
   "metadata": {},
   "outputs": [],
   "source": [
    "eigenValues, eigenVectors = np.linalg.eig(covOfCenteredXmatrix)"
   ]
  },
  {
   "cell_type": "code",
   "execution_count": null,
   "metadata": {},
   "outputs": [],
   "source": [
    "#eigenVectors"
   ]
  },
  {
   "cell_type": "code",
   "execution_count": 11,
   "metadata": {},
   "outputs": [],
   "source": [
    "#listOfeigenValuesAndVectors = zip( eigenValues, eigenVectors )\n",
    "#sorder\n",
    "#listOfeigenValuesAndVectors.sort(key=lambda tup:tup[0], reverse=True)\n",
    "#eigenValues,eigenVectors = zip(*listOfeigenValuesAndVectors)\n",
    "idx = eigenValues.argsort()[::-1]   \n",
    "eigenValues = eigenValues[idx]\n",
    "eigenVectors = eigenVectors[:,idx]"
   ]
  },
  {
   "cell_type": "code",
   "execution_count": 11,
   "metadata": {},
   "outputs": [
    {
     "data": {
      "text/plain": [
       "array([6.74137034e+00, 4.85001779e+00, 2.18498292e+00, 1.88897298e+00,\n",
       "       1.47821054e+00, 1.34408506e+00, 1.13799127e+00, 9.40905773e-01,\n",
       "       1.02874312e+00, 1.01504409e+00, 9.96060830e-01, 1.00015583e+00,\n",
       "       7.91113360e-01, 7.20721604e-01, 6.50773088e-01, 5.00651035e-01,\n",
       "       4.49469213e-01, 4.06951850e-01, 3.47989784e-01, 2.12196666e-01,\n",
       "       9.89803468e-02, 6.67643796e-02, 5.12510536e-02, 3.98871811e-02,\n",
       "       7.17155903e-04, 4.14371681e-03, 9.08736088e-03, 1.63128175e-02,\n",
       "       2.64488437e-02])"
      ]
     },
     "execution_count": 11,
     "metadata": {},
     "output_type": "execute_result"
    }
   ],
   "source": [
    "eigenValues"
   ]
  },
  {
   "cell_type": "code",
   "execution_count": 12,
   "metadata": {},
   "outputs": [],
   "source": [
    "neededEigenVectors = []\n",
    "for idx, val in enumerate(eigenValues):\n",
    "    if (sum(eigenValues[0:idx])/sum(eigenValues))>0.9:\n",
    "        neededEigenVectors = eigenVectors[:,0:idx]\n",
    "        break"
   ]
  },
  {
   "cell_type": "code",
   "execution_count": 12,
   "metadata": {},
   "outputs": [
    {
     "data": {
      "text/plain": [
       "0.9006336381577709"
      ]
     },
     "execution_count": 12,
     "metadata": {},
     "output_type": "execute_result"
    }
   ],
   "source": [
    "(sum(eigenValues[0:14])/sum(eigenValues))"
   ]
  },
  {
   "cell_type": "code",
   "execution_count": 72,
   "metadata": {
    "scrolled": true
   },
   "outputs": [
    {
     "data": {
      "text/plain": [
       "array([[ 3.13869088e-05, -2.25722343e-05],\n",
       "       [-4.55702872e-09, -1.47382897e-08],\n",
       "       [ 9.99999965e-01,  2.63142244e-04],\n",
       "       [ 2.63141536e-04, -9.99999965e-01],\n",
       "       [ 1.07998805e-10,  1.83944862e-10],\n",
       "       [-1.60419764e-12, -5.67045241e-12],\n",
       "       [-3.48119748e-10, -7.33900801e-09],\n",
       "       [-3.87517865e-10, -7.45890333e-09],\n",
       "       [-1.47365550e-11, -1.06678188e-11],\n",
       "       [-5.23715306e-12, -8.39205890e-12],\n",
       "       [-1.00511209e-07,  1.00832866e-07],\n",
       "       [-3.45550195e-08,  3.16704059e-08],\n",
       "       [-2.45568775e-10,  3.39473649e-10],\n",
       "       [-2.61857539e-10,  3.37565295e-10],\n",
       "       [ 7.52390586e-10, -8.90171707e-10],\n",
       "       [ 7.70610260e-10, -8.89045547e-10],\n",
       "       [ 2.92020448e-10, -4.13929099e-10],\n",
       "       [-1.32790056e-11,  7.63441953e-11],\n",
       "       [-1.15451993e-10,  1.08119478e-10],\n",
       "       [-9.78558461e-08, -6.24171219e-08],\n",
       "       [-1.29389777e-07,  1.16202912e-07],\n",
       "       [-5.02661289e-10,  4.93575918e-10],\n",
       "       [ 2.90326485e-11, -5.18247514e-10],\n",
       "       [ 2.28150328e-11, -9.02659542e-10],\n",
       "       [-3.17366508e-11,  3.58291818e-11],\n",
       "       [-3.41205698e-10,  3.34238998e-10],\n",
       "       [-2.57938446e-10,  3.26124687e-10],\n",
       "       [-7.65646899e-11, -8.94212659e-10],\n",
       "       [ 6.77591984e-10, -8.91229017e-10]])"
      ]
     },
     "execution_count": 72,
     "metadata": {},
     "output_type": "execute_result"
    }
   ],
   "source": [
    "neededEigenVectors"
   ]
  },
  {
   "cell_type": "code",
   "execution_count": 13,
   "metadata": {},
   "outputs": [
    {
     "name": "stdout",
     "output_type": "stream",
     "text": [
      "(125973, 29)\n",
      "(29, 14)\n",
      "(125973, 14)\n"
     ]
    }
   ],
   "source": [
    "reconstructedXmatrix = CenteredXmatrix.astype(float)@neededEigenVectors\n",
    "print(Xmatrix.shape)#neededEigenVectors.T.shape\n",
    "print(neededEigenVectors.shape)\n",
    "print(reconstructedXmatrix.shape)"
   ]
  },
  {
   "cell_type": "code",
   "execution_count": 14,
   "metadata": {
    "scrolled": true
   },
   "outputs": [
    {
     "data": {
      "text/plain": [
       "(125973, 15)"
      ]
     },
     "execution_count": 14,
     "metadata": {},
     "output_type": "execute_result"
    }
   ],
   "source": [
    "reconstructedXmatrix.shape\n",
    "LabelVector\n",
    "newData = np.insert(reconstructedXmatrix.astype(str), 2, values=LabelVector, axis=1) \n",
    "newData.shape"
   ]
  },
  {
   "cell_type": "code",
   "execution_count": null,
   "metadata": {},
   "outputs": [],
   "source": []
  },
  {
   "cell_type": "code",
   "execution_count": 43,
   "metadata": {},
   "outputs": [
    {
     "data": {
      "text/plain": [
       "array([2.23185839e+02, 1.91780446e+02, 2.03018998e+02, 2.07809658e+02,\n",
       "       9.84362328e-03, 2.15189811e+02, 2.22145534e+02, 2.16178110e+02,\n",
       "       2.26535246e+02, 2.68581814e+02, 8.24794425e-03, 1.42808869e-02,\n",
       "       2.14946437e+02, 1.85302284e+00])"
      ]
     },
     "execution_count": 43,
     "metadata": {},
     "output_type": "execute_result"
    }
   ],
   "source": [
    "reconstructedXmatrix -= np.mean(reconstructedXmatrix,axis = 0)\n",
    "reconstructedXmatrix /= np.std(reconstructedXmatrix.astype(float),axis = 0)\n",
    "np.unique(LabelVector)\n",
    "np.max(reconstructedXmatrix,axis = 0)"
   ]
  },
  {
   "cell_type": "markdown",
   "metadata": {},
   "source": [
    "# part2 kmeans"
   ]
  },
  {
   "cell_type": "code",
   "execution_count": null,
   "metadata": {},
   "outputs": [],
   "source": [
    "#initializing k = 5 means \n",
    "k = 5\n",
    "meanVector = {}\n",
    "import random\n",
    "RandomIndices = random.sample(range(0,len(reconstructedXmatrix)), 5)\n",
    "print(RandomIndices)\n",
    "for i in range(0,k):\n",
    "    #meanVector[i] = \n",
    "    meanVector[i] = reconstructedXmatrix[RandomIndices[i],:]\n",
    "#for index,value in enumerate(np.unique(LabelVector)):\n",
    "#    meanVector[value] = reconstrucedXmatrix[index,:]\n",
    "#meanVector\n",
    "#RandomIndices"
   ]
  },
  {
   "cell_type": "code",
   "execution_count": 112,
   "metadata": {},
   "outputs": [],
   "source": [
    "def getDistance(row1,row2):\n",
    "    row1 = np.array(row1)\n",
    "    row2 = np.array(row2)\n",
    "    #print(row1)\n",
    "    #print(row2)\n",
    "    #print((np.sum((np.abs(row1-row2))**2))**(1/2))\n",
    "    return (np.sum((np.abs(row1-row2))**2))**(1/2)\n",
    "def getNearestClusterDistance(givenSample,meanVector1):\n",
    "    distancesFromAllMeans = {}\n",
    "    #print(len(meanVector1))\n",
    "    for i in meanVector1:\n",
    "        distancesFromAllMeans[i] = getDistance(givenSample,meanVector1[i])\n",
    "    nearestMeanLabel = min(distancesFromAllMeans.items(), key=operator.itemgetter(1))[0]\n",
    "    nearestMeanDistance = min(distancesFromAllMeans.values()); \n",
    "    #nearestMeanLabel = 0\n",
    "    #nearestMeanDistance = getDistance(givenSample,meanVector1[0])\n",
    "    #for i in meanVector1: \n",
    "     #   tempDistance = getDistance(givenSample,meanVector1[i])\n",
    "      #  if tempDistance < nearestMeanDistance:\n",
    "       #     nearestMeanLabel = i\n",
    "        #    nearestMeanDistance = tempDistance  \n",
    "    return nearestMeanDistance"
   ]
  },
  {
   "cell_type": "code",
   "execution_count": 110,
   "metadata": {},
   "outputs": [
    {
     "data": {
      "text/plain": [
       "array([ 276.1583659 , -601.92732322])"
      ]
     },
     "execution_count": 110,
     "metadata": {},
     "output_type": "execute_result"
    }
   ],
   "source": [
    "reconstructedXmatrix[65000,:]"
   ]
  },
  {
   "cell_type": "code",
   "execution_count": 113,
   "metadata": {},
   "outputs": [
    {
     "name": "stdout",
     "output_type": "stream",
     "text": [
      "125429\n",
      "1379963666.4549322\n",
      "[125429]\n",
      "62233\n",
      "1309934808.9144394\n",
      "[62233]\n",
      "60570\n",
      "686588248.7938263\n",
      "[60570]\n"
     ]
    },
    {
     "ename": "KeyboardInterrupt",
     "evalue": "",
     "output_type": "error",
     "traceback": [
      "\u001b[1;31m---------------------------------------------------------------------------\u001b[0m",
      "\u001b[1;31mKeyboardInterrupt\u001b[0m                         Traceback (most recent call last)",
      "\u001b[1;32m<ipython-input-113-51a2c169a415>\u001b[0m in \u001b[0;36m<module>\u001b[1;34m\u001b[0m\n\u001b[0;32m     14\u001b[0m     \u001b[0mdistancesOfRemainingVerticesWithNearestMean\u001b[0m \u001b[1;33m=\u001b[0m \u001b[1;33m{\u001b[0m\u001b[1;33m}\u001b[0m\u001b[1;33m\u001b[0m\u001b[1;33m\u001b[0m\u001b[0m\n\u001b[0;32m     15\u001b[0m     \u001b[1;32mfor\u001b[0m \u001b[0mi\u001b[0m \u001b[1;32min\u001b[0m \u001b[0mremainingIndices\u001b[0m\u001b[1;33m:\u001b[0m\u001b[1;33m\u001b[0m\u001b[1;33m\u001b[0m\u001b[0m\n\u001b[1;32m---> 16\u001b[1;33m         \u001b[0mdistancesOfRemainingVerticesWithNearestMean\u001b[0m\u001b[1;33m[\u001b[0m\u001b[0mi\u001b[0m\u001b[1;33m]\u001b[0m \u001b[1;33m=\u001b[0m \u001b[0mgetNearestClusterDistance\u001b[0m\u001b[1;33m(\u001b[0m\u001b[0mreconstructedXmatrix\u001b[0m\u001b[1;33m[\u001b[0m\u001b[0mi\u001b[0m\u001b[1;33m,\u001b[0m\u001b[1;33m:\u001b[0m\u001b[1;33m]\u001b[0m\u001b[1;33m,\u001b[0m\u001b[0mmeanVector\u001b[0m\u001b[1;33m)\u001b[0m\u001b[1;33m\u001b[0m\u001b[1;33m\u001b[0m\u001b[0m\n\u001b[0m\u001b[0;32m     17\u001b[0m     \u001b[1;31m#findMaxKeywithrespecttodistance\u001b[0m\u001b[1;33m\u001b[0m\u001b[1;33m\u001b[0m\u001b[1;33m\u001b[0m\u001b[0m\n\u001b[0;32m     18\u001b[0m     \u001b[0mnextVetexIndex\u001b[0m \u001b[1;33m=\u001b[0m \u001b[0mmax\u001b[0m\u001b[1;33m(\u001b[0m\u001b[0mdistancesOfRemainingVerticesWithNearestMean\u001b[0m\u001b[1;33m.\u001b[0m\u001b[0mitems\u001b[0m\u001b[1;33m(\u001b[0m\u001b[1;33m)\u001b[0m\u001b[1;33m,\u001b[0m \u001b[0mkey\u001b[0m\u001b[1;33m=\u001b[0m\u001b[0moperator\u001b[0m\u001b[1;33m.\u001b[0m\u001b[0mitemgetter\u001b[0m\u001b[1;33m(\u001b[0m\u001b[1;36m1\u001b[0m\u001b[1;33m)\u001b[0m\u001b[1;33m)\u001b[0m\u001b[1;33m[\u001b[0m\u001b[1;36m0\u001b[0m\u001b[1;33m]\u001b[0m\u001b[1;33m\u001b[0m\u001b[1;33m\u001b[0m\u001b[0m\n",
      "\u001b[1;32m<ipython-input-112-f4c50dd2c446>\u001b[0m in \u001b[0;36mgetNearestClusterDistance\u001b[1;34m(givenSample, meanVector1)\u001b[0m\n\u001b[0;32m     10\u001b[0m     \u001b[1;31m#print(len(meanVector1))\u001b[0m\u001b[1;33m\u001b[0m\u001b[1;33m\u001b[0m\u001b[1;33m\u001b[0m\u001b[0m\n\u001b[0;32m     11\u001b[0m     \u001b[1;32mfor\u001b[0m \u001b[0mi\u001b[0m \u001b[1;32min\u001b[0m \u001b[0mmeanVector1\u001b[0m\u001b[1;33m:\u001b[0m\u001b[1;33m\u001b[0m\u001b[1;33m\u001b[0m\u001b[0m\n\u001b[1;32m---> 12\u001b[1;33m         \u001b[0mdistancesFromAllMeans\u001b[0m\u001b[1;33m[\u001b[0m\u001b[0mi\u001b[0m\u001b[1;33m]\u001b[0m \u001b[1;33m=\u001b[0m \u001b[0mgetDistance\u001b[0m\u001b[1;33m(\u001b[0m\u001b[0mgivenSample\u001b[0m\u001b[1;33m,\u001b[0m\u001b[0mmeanVector1\u001b[0m\u001b[1;33m[\u001b[0m\u001b[0mi\u001b[0m\u001b[1;33m]\u001b[0m\u001b[1;33m)\u001b[0m\u001b[1;33m\u001b[0m\u001b[1;33m\u001b[0m\u001b[0m\n\u001b[0m\u001b[0;32m     13\u001b[0m     \u001b[0mnearestMeanLabel\u001b[0m \u001b[1;33m=\u001b[0m \u001b[0mmin\u001b[0m\u001b[1;33m(\u001b[0m\u001b[0mdistancesFromAllMeans\u001b[0m\u001b[1;33m.\u001b[0m\u001b[0mitems\u001b[0m\u001b[1;33m(\u001b[0m\u001b[1;33m)\u001b[0m\u001b[1;33m,\u001b[0m \u001b[0mkey\u001b[0m\u001b[1;33m=\u001b[0m\u001b[0moperator\u001b[0m\u001b[1;33m.\u001b[0m\u001b[0mitemgetter\u001b[0m\u001b[1;33m(\u001b[0m\u001b[1;36m1\u001b[0m\u001b[1;33m)\u001b[0m\u001b[1;33m)\u001b[0m\u001b[1;33m[\u001b[0m\u001b[1;36m0\u001b[0m\u001b[1;33m]\u001b[0m\u001b[1;33m\u001b[0m\u001b[1;33m\u001b[0m\u001b[0m\n\u001b[0;32m     14\u001b[0m     \u001b[0mnearestMeanDistance\u001b[0m \u001b[1;33m=\u001b[0m \u001b[0mmin\u001b[0m\u001b[1;33m(\u001b[0m\u001b[0mdistancesFromAllMeans\u001b[0m\u001b[1;33m.\u001b[0m\u001b[0mvalues\u001b[0m\u001b[1;33m(\u001b[0m\u001b[1;33m)\u001b[0m\u001b[1;33m)\u001b[0m\u001b[1;33m;\u001b[0m\u001b[1;33m\u001b[0m\u001b[1;33m\u001b[0m\u001b[0m\n",
      "\u001b[1;32m<ipython-input-112-f4c50dd2c446>\u001b[0m in \u001b[0;36mgetDistance\u001b[1;34m(row1, row2)\u001b[0m\n\u001b[0;32m      1\u001b[0m \u001b[1;32mdef\u001b[0m \u001b[0mgetDistance\u001b[0m\u001b[1;33m(\u001b[0m\u001b[0mrow1\u001b[0m\u001b[1;33m,\u001b[0m\u001b[0mrow2\u001b[0m\u001b[1;33m)\u001b[0m\u001b[1;33m:\u001b[0m\u001b[1;33m\u001b[0m\u001b[1;33m\u001b[0m\u001b[0m\n\u001b[1;32m----> 2\u001b[1;33m     \u001b[0mrow1\u001b[0m \u001b[1;33m=\u001b[0m \u001b[0mnp\u001b[0m\u001b[1;33m.\u001b[0m\u001b[0marray\u001b[0m\u001b[1;33m(\u001b[0m\u001b[0mrow1\u001b[0m\u001b[1;33m)\u001b[0m\u001b[1;33m\u001b[0m\u001b[1;33m\u001b[0m\u001b[0m\n\u001b[0m\u001b[0;32m      3\u001b[0m     \u001b[0mrow2\u001b[0m \u001b[1;33m=\u001b[0m \u001b[0mnp\u001b[0m\u001b[1;33m.\u001b[0m\u001b[0marray\u001b[0m\u001b[1;33m(\u001b[0m\u001b[0mrow2\u001b[0m\u001b[1;33m)\u001b[0m\u001b[1;33m\u001b[0m\u001b[1;33m\u001b[0m\u001b[0m\n\u001b[0;32m      4\u001b[0m     \u001b[1;31m#print(row1)\u001b[0m\u001b[1;33m\u001b[0m\u001b[1;33m\u001b[0m\u001b[1;33m\u001b[0m\u001b[0m\n\u001b[0;32m      5\u001b[0m     \u001b[1;31m#print(row2)\u001b[0m\u001b[1;33m\u001b[0m\u001b[1;33m\u001b[0m\u001b[1;33m\u001b[0m\u001b[0m\n",
      "\u001b[1;31mKeyboardInterrupt\u001b[0m: "
     ]
    }
   ],
   "source": [
    "meanVector = {}\n",
    "import random\n",
    "import operator\n",
    "RandomIndex1 = random.sample(range(0,len(reconstructedXmatrix)), 1)\n",
    "RandomIndex1 =random.randint(0,len(reconstructedXmatrix))\n",
    "remainingIndices = list(range(0,len(reconstructedXmatrix)))\n",
    "RandomIndex1 = 120000\n",
    "#remainingIndices.remove(RandomIndex1[0])\n",
    "remainingIndices.remove(RandomIndex1)\n",
    "#meanVector[0] = reconstructedXmatrix[RandomIndex1[0],:]\n",
    "meanVector[0] = reconstructedXmatrix[RandomIndex1,:]\n",
    "\n",
    "for k in range(1,5):\n",
    "    distancesOfRemainingVerticesWithNearestMean = {}\n",
    "    for i in remainingIndices:\n",
    "        distancesOfRemainingVerticesWithNearestMean[i] = getNearestClusterDistance(reconstructedXmatrix[i,:],meanVector)\n",
    "    #findMaxKeywithrespecttodistance\n",
    "    nextVetexIndex = max(distancesOfRemainingVerticesWithNearestMean.items(), key=operator.itemgetter(1))[0]\n",
    "    print(nextVetexIndex)\n",
    "    max_value = max(distancesOfRemainingVerticesWithNearestMean.values()); \n",
    "    print(max_value)\n",
    "    tempList = [key for key, value in distancesOfRemainingVerticesWithNearestMean.items() if value == max_value]\n",
    "    print(tempList)\n",
    "    #assign that key as a the next vertex\n",
    "    meanVector[k] = reconstructedXmatrix[nextVetexIndex,:]\n",
    "    #removethatvertexfromremainingIndices\n",
    "    for i in tempList:\n",
    "        remainingIndices.remove(i)\n",
    "    #remainingIndices.remove(max(distancesOfRemainingVerticesWithNearestMean, key=distancesOfRemainingVerticesWithNearestMean.get))\n",
    "    \n"
   ]
  },
  {
   "cell_type": "code",
   "execution_count": 86,
   "metadata": {},
   "outputs": [
    {
     "data": {
      "text/plain": [
       "{0: array([   156.12529341, -27077.95982729]),\n",
       " 1: array([1.37996384e+09, 3.63125980e+05]),\n",
       " 2: array([ 3.44699284e+05, -1.30993736e+09]),\n",
       " 3: array([6.93375616e+08, 1.82456422e+05]),\n",
       " 4: array([ 1.05334457e+05, -4.00291047e+08])}"
      ]
     },
     "execution_count": 86,
     "metadata": {},
     "output_type": "execute_result"
    }
   ],
   "source": [
    "meanVector"
   ]
  },
  {
   "cell_type": "code",
   "execution_count": null,
   "metadata": {},
   "outputs": [],
   "source": [
    "#len(reconstructedXmatrix)\n",
    "len(remainingIndices)"
   ]
  },
  {
   "cell_type": "code",
   "execution_count": null,
   "metadata": {},
   "outputs": [],
   "source": [
    "meanVector"
   ]
  },
  {
   "cell_type": "code",
   "execution_count": 87,
   "metadata": {},
   "outputs": [],
   "source": [
    "\n",
    "def getNearestCluster(givenSample,meanVector1):\n",
    "    #distancesFromAllMeans = {}\n",
    "    nearestMeanLabel = 3\n",
    "    nearestMeanDistance = getDistance(givenSample,meanVector1[3])\n",
    "    #print(len(meanVector1))\n",
    "    for i in meanVector1: \n",
    "        tempDistance = getDistance(givenSample,meanVector1[i])\n",
    "        if  tempDistance < nearestMeanDistance:\n",
    "            nearestMeanLabel = i\n",
    "            nearestMeanDistance = tempDistance  \n",
    "    return nearestMeanLabel"
   ]
  },
  {
   "cell_type": "code",
   "execution_count": null,
   "metadata": {},
   "outputs": [],
   "source": [
    "#meanvertices = [109828, 7739, 21128, 2701, 61835]\n",
    "#reconstructedXmatrix[i,:]\n",
    "for i in meanVector:\n",
    "    for j in meanVector:\n",
    "        print(\"distance between \"+str(i)+\" and \"+str(j)+\" is \")\n",
    "        print(getDistance(meanVector[i],meanVector[j]))\n",
    "    "
   ]
  },
  {
   "cell_type": "code",
   "execution_count": 88,
   "metadata": {},
   "outputs": [],
   "source": [
    "AssociatedClusterForEachPoint1 = []\n",
    "for i in range(0,len(reconstructedXmatrix)):\n",
    "    AssociatedClusterForEachPoint1.append(getNearestCluster(reconstructedXmatrix[i,:],meanVector))"
   ]
  },
  {
   "cell_type": "code",
   "execution_count": 89,
   "metadata": {},
   "outputs": [
    {
     "data": {
      "text/plain": [
       "125973"
      ]
     },
     "execution_count": 89,
     "metadata": {},
     "output_type": "execute_result"
    }
   ],
   "source": [
    "len(AssociatedClusterForEachPoint1)"
   ]
  },
  {
   "cell_type": "code",
   "execution_count": 90,
   "metadata": {},
   "outputs": [
    {
     "data": {
      "text/plain": [
       "125973"
      ]
     },
     "execution_count": 90,
     "metadata": {},
     "output_type": "execute_result"
    }
   ],
   "source": [
    "len(reconstructedXmatrix)"
   ]
  },
  {
   "cell_type": "code",
   "execution_count": 97,
   "metadata": {},
   "outputs": [
    {
     "name": "stdout",
     "output_type": "stream",
     "text": [
      "125965\n"
     ]
    }
   ],
   "source": [
    "count = 0\n",
    "for j,value in enumerate(AssociatedClusterForEachPoint1):    \n",
    "            if value == 0:\n",
    "                #numerVector += reconstructedXmatrix[j,:]\n",
    "                #print(reconstructedXmatrix[j,:])\n",
    "                count += 1\n",
    "print(count)"
   ]
  },
  {
   "cell_type": "code",
   "execution_count": 154,
   "metadata": {},
   "outputs": [
    {
     "ename": "IndexError",
     "evalue": "index 125973 is out of bounds for axis 0 with size 125973",
     "output_type": "error",
     "traceback": [
      "\u001b[1;31m---------------------------------------------------------------------------\u001b[0m",
      "\u001b[1;31mIndexError\u001b[0m                                Traceback (most recent call last)",
      "\u001b[1;32m<ipython-input-154-dc1db2a61cd1>\u001b[0m in \u001b[0;36m<module>\u001b[1;34m\u001b[0m\n\u001b[0;32m      4\u001b[0m         \u001b[1;32mfor\u001b[0m \u001b[0mj\u001b[0m\u001b[1;33m,\u001b[0m\u001b[0mvalue\u001b[0m \u001b[1;32min\u001b[0m \u001b[0menumerate\u001b[0m\u001b[1;33m(\u001b[0m\u001b[0mAssociatedClusterForEachPoint1\u001b[0m\u001b[1;33m)\u001b[0m\u001b[1;33m:\u001b[0m\u001b[1;33m\u001b[0m\u001b[1;33m\u001b[0m\u001b[0m\n\u001b[0;32m      5\u001b[0m             \u001b[1;32mif\u001b[0m \u001b[0mvalue\u001b[0m \u001b[1;33m==\u001b[0m \u001b[0mi\u001b[0m\u001b[1;33m:\u001b[0m\u001b[1;33m\u001b[0m\u001b[1;33m\u001b[0m\u001b[0m\n\u001b[1;32m----> 6\u001b[1;33m                 \u001b[0mnumerVector\u001b[0m \u001b[1;33m+=\u001b[0m \u001b[0mreconstructedXmatrix\u001b[0m\u001b[1;33m[\u001b[0m\u001b[0mj\u001b[0m\u001b[1;33m,\u001b[0m\u001b[1;33m:\u001b[0m\u001b[1;33m]\u001b[0m\u001b[1;33m\u001b[0m\u001b[1;33m\u001b[0m\u001b[0m\n\u001b[0m\u001b[0;32m      7\u001b[0m                 \u001b[1;31m#print(reconstructedXmatrix[j,:])\u001b[0m\u001b[1;33m\u001b[0m\u001b[1;33m\u001b[0m\u001b[1;33m\u001b[0m\u001b[0m\n\u001b[0;32m      8\u001b[0m                 \u001b[0mcount\u001b[0m \u001b[1;33m+=\u001b[0m \u001b[1;36m1\u001b[0m\u001b[1;33m\u001b[0m\u001b[1;33m\u001b[0m\u001b[0m\n",
      "\u001b[1;31mIndexError\u001b[0m: index 125973 is out of bounds for axis 0 with size 125973"
     ]
    }
   ],
   "source": [
    "for i in meanVector:\n",
    "        numerVector = np.array([0.0]*len(meanVector[0]))\n",
    "        count = 0\n",
    "        for j,value in enumerate(AssociatedClusterForEachPoint1):\n",
    "            if value == i:\n",
    "                numerVector += reconstructedXmatrix[j,:]\n",
    "                #print(reconstructedXmatrix[j,:])\n",
    "                count += 1\n",
    "        if count!= 0:\n",
    "            print(\"mean number is \")\n",
    "            print(i)\n",
    "            print('points associated are')\n",
    "            print(count)\n",
    "            meanVector[i] = (numerVector/count)\n",
    "        else:\n",
    "            print('no points associated to mean number')\n",
    "            print(i)"
   ]
  },
  {
   "cell_type": "code",
   "execution_count": 98,
   "metadata": {},
   "outputs": [
    {
     "name": "stdout",
     "output_type": "stream",
     "text": [
      "iteration is\n",
      "1\n",
      "mean number is \n",
      "0\n",
      "points associated are\n",
      "125965\n",
      "mean number is \n",
      "1\n",
      "points associated are\n",
      "2\n",
      "mean number is \n",
      "2\n",
      "points associated are\n",
      "1\n",
      "mean number is \n",
      "3\n",
      "points associated are\n",
      "3\n",
      "mean number is \n",
      "4\n",
      "points associated are\n",
      "2\n",
      "{0: array([11877.45719237, -3022.44261912]), 1: array([1.27374165e+09, 3.35174450e+05]), 2: array([ 3.44699284e+05, -1.30993736e+09]), 3: array([5.65551112e+08, 1.48819837e+05]), 4: array([ 1.05334457e+05, -4.00291047e+08])}\n",
      "iteration is\n",
      "2\n",
      "mean number is \n",
      "0\n",
      "points associated are\n",
      "125965\n",
      "mean number is \n",
      "1\n",
      "points associated are\n",
      "2\n",
      "mean number is \n",
      "2\n",
      "points associated are\n",
      "1\n",
      "mean number is \n",
      "3\n",
      "points associated are\n",
      "3\n",
      "mean number is \n",
      "4\n",
      "points associated are\n",
      "2\n",
      "{0: array([11877.45719237, -3022.44261912]), 1: array([1.27374165e+09, 3.35174450e+05]), 2: array([ 3.44699284e+05, -1.30993736e+09]), 3: array([5.65551112e+08, 1.48819837e+05]), 4: array([ 1.05334457e+05, -4.00291047e+08])}\n",
      "iteration is\n",
      "3\n",
      "mean number is \n",
      "0\n",
      "points associated are\n",
      "125965\n",
      "mean number is \n",
      "1\n",
      "points associated are\n",
      "2\n",
      "mean number is \n",
      "2\n",
      "points associated are\n",
      "1\n",
      "mean number is \n",
      "3\n",
      "points associated are\n",
      "3\n",
      "mean number is \n",
      "4\n",
      "points associated are\n",
      "2\n",
      "{0: array([11877.45719237, -3022.44261912]), 1: array([1.27374165e+09, 3.35174450e+05]), 2: array([ 3.44699284e+05, -1.30993736e+09]), 3: array([5.65551112e+08, 1.48819837e+05]), 4: array([ 1.05334457e+05, -4.00291047e+08])}\n",
      "iteration is\n",
      "4\n",
      "mean number is \n",
      "0\n",
      "points associated are\n",
      "125965\n",
      "mean number is \n",
      "1\n",
      "points associated are\n",
      "2\n",
      "mean number is \n",
      "2\n",
      "points associated are\n",
      "1\n",
      "mean number is \n",
      "3\n",
      "points associated are\n",
      "3\n",
      "mean number is \n",
      "4\n",
      "points associated are\n",
      "2\n",
      "{0: array([11877.45719237, -3022.44261912]), 1: array([1.27374165e+09, 3.35174450e+05]), 2: array([ 3.44699284e+05, -1.30993736e+09]), 3: array([5.65551112e+08, 1.48819837e+05]), 4: array([ 1.05334457e+05, -4.00291047e+08])}\n",
      "iteration is\n",
      "5\n",
      "mean number is \n",
      "0\n",
      "points associated are\n",
      "125965\n",
      "mean number is \n",
      "1\n",
      "points associated are\n",
      "2\n",
      "mean number is \n",
      "2\n",
      "points associated are\n",
      "1\n",
      "mean number is \n",
      "3\n",
      "points associated are\n",
      "3\n",
      "mean number is \n",
      "4\n",
      "points associated are\n",
      "2\n",
      "{0: array([11877.45719237, -3022.44261912]), 1: array([1.27374165e+09, 3.35174450e+05]), 2: array([ 3.44699284e+05, -1.30993736e+09]), 3: array([5.65551112e+08, 1.48819837e+05]), 4: array([ 1.05334457e+05, -4.00291047e+08])}\n",
      "iteration is\n",
      "6\n",
      "mean number is \n",
      "0\n",
      "points associated are\n",
      "125965\n",
      "mean number is \n",
      "1\n",
      "points associated are\n",
      "2\n",
      "mean number is \n",
      "2\n",
      "points associated are\n",
      "1\n",
      "mean number is \n",
      "3\n",
      "points associated are\n",
      "3\n",
      "mean number is \n",
      "4\n",
      "points associated are\n",
      "2\n",
      "{0: array([11877.45719237, -3022.44261912]), 1: array([1.27374165e+09, 3.35174450e+05]), 2: array([ 3.44699284e+05, -1.30993736e+09]), 3: array([5.65551112e+08, 1.48819837e+05]), 4: array([ 1.05334457e+05, -4.00291047e+08])}\n",
      "iteration is\n",
      "7\n",
      "mean number is \n",
      "0\n",
      "points associated are\n",
      "125965\n",
      "mean number is \n",
      "1\n",
      "points associated are\n",
      "2\n",
      "mean number is \n",
      "2\n",
      "points associated are\n",
      "1\n",
      "mean number is \n",
      "3\n",
      "points associated are\n",
      "3\n",
      "mean number is \n",
      "4\n",
      "points associated are\n",
      "2\n",
      "{0: array([11877.45719237, -3022.44261912]), 1: array([1.27374165e+09, 3.35174450e+05]), 2: array([ 3.44699284e+05, -1.30993736e+09]), 3: array([5.65551112e+08, 1.48819837e+05]), 4: array([ 1.05334457e+05, -4.00291047e+08])}\n",
      "iteration is\n",
      "8\n",
      "mean number is \n",
      "0\n",
      "points associated are\n",
      "125965\n",
      "mean number is \n",
      "1\n",
      "points associated are\n",
      "2\n",
      "mean number is \n",
      "2\n",
      "points associated are\n",
      "1\n",
      "mean number is \n",
      "3\n",
      "points associated are\n",
      "3\n",
      "mean number is \n",
      "4\n",
      "points associated are\n",
      "2\n",
      "{0: array([11877.45719237, -3022.44261912]), 1: array([1.27374165e+09, 3.35174450e+05]), 2: array([ 3.44699284e+05, -1.30993736e+09]), 3: array([5.65551112e+08, 1.48819837e+05]), 4: array([ 1.05334457e+05, -4.00291047e+08])}\n",
      "iteration is\n",
      "9\n",
      "mean number is \n",
      "0\n",
      "points associated are\n",
      "125965\n",
      "mean number is \n",
      "1\n",
      "points associated are\n",
      "2\n",
      "mean number is \n",
      "2\n",
      "points associated are\n",
      "1\n",
      "mean number is \n",
      "3\n",
      "points associated are\n",
      "3\n",
      "mean number is \n",
      "4\n",
      "points associated are\n",
      "2\n",
      "{0: array([11877.45719237, -3022.44261912]), 1: array([1.27374165e+09, 3.35174450e+05]), 2: array([ 3.44699284e+05, -1.30993736e+09]), 3: array([5.65551112e+08, 1.48819837e+05]), 4: array([ 1.05334457e+05, -4.00291047e+08])}\n",
      "iteration is\n",
      "10\n",
      "mean number is \n",
      "0\n",
      "points associated are\n",
      "125965\n",
      "mean number is \n",
      "1\n",
      "points associated are\n",
      "2\n",
      "mean number is \n",
      "2\n",
      "points associated are\n",
      "1\n",
      "mean number is \n",
      "3\n",
      "points associated are\n",
      "3\n",
      "mean number is \n",
      "4\n",
      "points associated are\n",
      "2\n",
      "{0: array([11877.45719237, -3022.44261912]), 1: array([1.27374165e+09, 3.35174450e+05]), 2: array([ 3.44699284e+05, -1.30993736e+09]), 3: array([5.65551112e+08, 1.48819837e+05]), 4: array([ 1.05334457e+05, -4.00291047e+08])}\n",
      "iteration is\n",
      "11\n",
      "mean number is \n",
      "0\n",
      "points associated are\n",
      "125965\n",
      "mean number is \n",
      "1\n",
      "points associated are\n",
      "2\n",
      "mean number is \n",
      "2\n",
      "points associated are\n",
      "1\n",
      "mean number is \n",
      "3\n",
      "points associated are\n",
      "3\n",
      "mean number is \n",
      "4\n",
      "points associated are\n",
      "2\n",
      "{0: array([11877.45719237, -3022.44261912]), 1: array([1.27374165e+09, 3.35174450e+05]), 2: array([ 3.44699284e+05, -1.30993736e+09]), 3: array([5.65551112e+08, 1.48819837e+05]), 4: array([ 1.05334457e+05, -4.00291047e+08])}\n",
      "iteration is\n",
      "12\n",
      "mean number is \n",
      "0\n",
      "points associated are\n",
      "125965\n",
      "mean number is \n",
      "1\n",
      "points associated are\n",
      "2\n",
      "mean number is \n",
      "2\n",
      "points associated are\n",
      "1\n",
      "mean number is \n",
      "3\n",
      "points associated are\n",
      "3\n",
      "mean number is \n",
      "4\n",
      "points associated are\n",
      "2\n",
      "{0: array([11877.45719237, -3022.44261912]), 1: array([1.27374165e+09, 3.35174450e+05]), 2: array([ 3.44699284e+05, -1.30993736e+09]), 3: array([5.65551112e+08, 1.48819837e+05]), 4: array([ 1.05334457e+05, -4.00291047e+08])}\n",
      "iteration is\n",
      "13\n"
     ]
    },
    {
     "ename": "KeyboardInterrupt",
     "evalue": "",
     "output_type": "error",
     "traceback": [
      "\u001b[1;31m---------------------------------------------------------------------------\u001b[0m",
      "\u001b[1;31mKeyboardInterrupt\u001b[0m                         Traceback (most recent call last)",
      "\u001b[1;32m<ipython-input-98-894cc0737d20>\u001b[0m in \u001b[0;36m<module>\u001b[1;34m\u001b[0m\n\u001b[0;32m      7\u001b[0m     \u001b[0mAssociatedClusterForEachPoint1\u001b[0m \u001b[1;33m=\u001b[0m \u001b[1;33m[\u001b[0m\u001b[1;33m]\u001b[0m\u001b[1;33m\u001b[0m\u001b[1;33m\u001b[0m\u001b[0m\n\u001b[0;32m      8\u001b[0m     \u001b[1;32mfor\u001b[0m \u001b[0mi\u001b[0m \u001b[1;32min\u001b[0m \u001b[0mrange\u001b[0m\u001b[1;33m(\u001b[0m\u001b[1;36m0\u001b[0m\u001b[1;33m,\u001b[0m\u001b[0mlen\u001b[0m\u001b[1;33m(\u001b[0m\u001b[0mreconstructedXmatrix\u001b[0m\u001b[1;33m)\u001b[0m\u001b[1;33m)\u001b[0m\u001b[1;33m:\u001b[0m\u001b[1;33m\u001b[0m\u001b[1;33m\u001b[0m\u001b[0m\n\u001b[1;32m----> 9\u001b[1;33m         \u001b[0mAssociatedClusterForEachPoint1\u001b[0m\u001b[1;33m.\u001b[0m\u001b[0mappend\u001b[0m\u001b[1;33m(\u001b[0m\u001b[0mgetNearestCluster\u001b[0m\u001b[1;33m(\u001b[0m\u001b[0mreconstructedXmatrix\u001b[0m\u001b[1;33m[\u001b[0m\u001b[0mi\u001b[0m\u001b[1;33m,\u001b[0m\u001b[1;33m:\u001b[0m\u001b[1;33m]\u001b[0m\u001b[1;33m,\u001b[0m\u001b[0mmeanVector\u001b[0m\u001b[1;33m)\u001b[0m\u001b[1;33m)\u001b[0m\u001b[1;33m\u001b[0m\u001b[1;33m\u001b[0m\u001b[0m\n\u001b[0m\u001b[0;32m     10\u001b[0m     \u001b[1;32mfor\u001b[0m \u001b[0mi\u001b[0m \u001b[1;32min\u001b[0m \u001b[0mmeanVector\u001b[0m\u001b[1;33m:\u001b[0m\u001b[1;33m\u001b[0m\u001b[1;33m\u001b[0m\u001b[0m\n\u001b[0;32m     11\u001b[0m         \u001b[0mnumerVector\u001b[0m \u001b[1;33m=\u001b[0m \u001b[0mnp\u001b[0m\u001b[1;33m.\u001b[0m\u001b[0marray\u001b[0m\u001b[1;33m(\u001b[0m\u001b[1;33m[\u001b[0m\u001b[1;36m0.0\u001b[0m\u001b[1;33m]\u001b[0m\u001b[1;33m*\u001b[0m\u001b[0mlen\u001b[0m\u001b[1;33m(\u001b[0m\u001b[0mmeanVector\u001b[0m\u001b[1;33m[\u001b[0m\u001b[1;36m0\u001b[0m\u001b[1;33m]\u001b[0m\u001b[1;33m)\u001b[0m\u001b[1;33m)\u001b[0m\u001b[1;33m\u001b[0m\u001b[1;33m\u001b[0m\u001b[0m\n",
      "\u001b[1;32m<ipython-input-87-9bd403cb3fa5>\u001b[0m in \u001b[0;36mgetNearestCluster\u001b[1;34m(givenSample, meanVector1)\u001b[0m\n\u001b[0;32m      6\u001b[0m     \u001b[1;31m#print(len(meanVector1))\u001b[0m\u001b[1;33m\u001b[0m\u001b[1;33m\u001b[0m\u001b[1;33m\u001b[0m\u001b[0m\n\u001b[0;32m      7\u001b[0m     \u001b[1;32mfor\u001b[0m \u001b[0mi\u001b[0m \u001b[1;32min\u001b[0m \u001b[0mmeanVector1\u001b[0m\u001b[1;33m:\u001b[0m\u001b[1;33m\u001b[0m\u001b[1;33m\u001b[0m\u001b[0m\n\u001b[1;32m----> 8\u001b[1;33m         \u001b[0mtempDistance\u001b[0m \u001b[1;33m=\u001b[0m \u001b[0mgetDistance\u001b[0m\u001b[1;33m(\u001b[0m\u001b[0mgivenSample\u001b[0m\u001b[1;33m,\u001b[0m\u001b[0mmeanVector1\u001b[0m\u001b[1;33m[\u001b[0m\u001b[0mi\u001b[0m\u001b[1;33m]\u001b[0m\u001b[1;33m)\u001b[0m\u001b[1;33m\u001b[0m\u001b[1;33m\u001b[0m\u001b[0m\n\u001b[0m\u001b[0;32m      9\u001b[0m         \u001b[1;32mif\u001b[0m  \u001b[0mtempDistance\u001b[0m \u001b[1;33m<\u001b[0m \u001b[0mnearestMeanDistance\u001b[0m\u001b[1;33m:\u001b[0m\u001b[1;33m\u001b[0m\u001b[1;33m\u001b[0m\u001b[0m\n\u001b[0;32m     10\u001b[0m             \u001b[0mnearestMeanLabel\u001b[0m \u001b[1;33m=\u001b[0m \u001b[0mi\u001b[0m\u001b[1;33m\u001b[0m\u001b[1;33m\u001b[0m\u001b[0m\n",
      "\u001b[1;32m<ipython-input-82-3ba9872781f3>\u001b[0m in \u001b[0;36mgetDistance\u001b[1;34m(row1, row2)\u001b[0m\n\u001b[0;32m      1\u001b[0m \u001b[1;32mdef\u001b[0m \u001b[0mgetDistance\u001b[0m\u001b[1;33m(\u001b[0m\u001b[0mrow1\u001b[0m\u001b[1;33m,\u001b[0m\u001b[0mrow2\u001b[0m\u001b[1;33m)\u001b[0m\u001b[1;33m:\u001b[0m\u001b[1;33m\u001b[0m\u001b[1;33m\u001b[0m\u001b[0m\n\u001b[1;32m----> 2\u001b[1;33m     \u001b[0mrow1\u001b[0m \u001b[1;33m=\u001b[0m \u001b[0mnp\u001b[0m\u001b[1;33m.\u001b[0m\u001b[0marray\u001b[0m\u001b[1;33m(\u001b[0m\u001b[0mrow1\u001b[0m\u001b[1;33m)\u001b[0m\u001b[1;33m\u001b[0m\u001b[1;33m\u001b[0m\u001b[0m\n\u001b[0m\u001b[0;32m      3\u001b[0m     \u001b[0mrow2\u001b[0m \u001b[1;33m=\u001b[0m \u001b[0mnp\u001b[0m\u001b[1;33m.\u001b[0m\u001b[0marray\u001b[0m\u001b[1;33m(\u001b[0m\u001b[0mrow2\u001b[0m\u001b[1;33m)\u001b[0m\u001b[1;33m\u001b[0m\u001b[1;33m\u001b[0m\u001b[0m\n\u001b[0;32m      4\u001b[0m     \u001b[1;31m#print(row1)\u001b[0m\u001b[1;33m\u001b[0m\u001b[1;33m\u001b[0m\u001b[1;33m\u001b[0m\u001b[0m\n\u001b[0;32m      5\u001b[0m     \u001b[1;31m#print(row2)\u001b[0m\u001b[1;33m\u001b[0m\u001b[1;33m\u001b[0m\u001b[1;33m\u001b[0m\u001b[0m\n",
      "\u001b[1;31mKeyboardInterrupt\u001b[0m: "
     ]
    }
   ],
   "source": [
    "iterationNumber = 0\n",
    "while (iterationNumber<25):\n",
    "#for i in range(0,10)\n",
    "    iterationNumber += 1\n",
    "    print(\"iteration is\")\n",
    "    print(iterationNumber)\n",
    "    AssociatedClusterForEachPoint1 = []\n",
    "    for i in range(0,len(reconstructedXmatrix)):\n",
    "        AssociatedClusterForEachPoint1.append(getNearestCluster(reconstructedXmatrix[i,:],meanVector))\n",
    "    for i in meanVector:\n",
    "        numerVector = np.array([0.0]*len(meanVector[0]))\n",
    "        count = 0\n",
    "        for j,value in enumerate(AssociatedClusterForEachPoint1):\n",
    "            if value == i:\n",
    "                numerVector += reconstructedXmatrix[j,:]\n",
    "                #print(reconstructedXmatrix[j,:])\n",
    "                count += 1\n",
    "        if count!= 0:\n",
    "            print(\"mean number is \")\n",
    "            print(i)\n",
    "            print('points associated are')\n",
    "            print(count)\n",
    "            meanVector[i] = (numerVector/count)\n",
    "        else:\n",
    "            print('no points associated to mean number')\n",
    "            print(i)\n",
    "    #if np.array_equal(AssociatedClusterForEachPoint,AssociatedClusterForEachPoint1):\n",
    "    #    break\n",
    "    #else:\n",
    "     #   AssociatedClusterForEachPoint = AssociatedClusterForEachPoint1\n",
    "    print(meanVector)\n",
    "\n",
    "    "
   ]
  },
  {
   "cell_type": "code",
   "execution_count": null,
   "metadata": {},
   "outputs": [],
   "source": [
    "#AssociatedClusterForEachPoint\n",
    "#meanVector"
   ]
  },
  {
   "cell_type": "code",
   "execution_count": null,
   "metadata": {},
   "outputs": [],
   "source": [
    "\n",
    "#AssociatedClusterForEachPoint = [0]*len(reconstructedXmatrix)\n",
    "AssociatedClusterForEachPoint = []\n",
    "for i in range(0,len(reconstructedXmatrix)):\n",
    "    AssociatedClusterForEachPoint.append(getNearestCluster(reconstructedXmatrix[i,:],meanVector))\n",
    "for i in meanVector:\n",
    "    numerVector = np.array([0.0]*len(meanVector[0]))\n",
    "    count = 0\n",
    "    for j,value in enumerate(AssociatedClusterForEachPoint):\n",
    "        if j == i:\n",
    "            numerVector += reconstructedXmatrix[value,:]\n",
    "            count += 1\n",
    "    if count != 0:\n",
    "        meanVector[i] = numerVector/count\n",
    "\n",
    "AssociatedClusterForEachPoint1 = []\n",
    "for i in range(0,len(reconstructedXmatrix)):\n",
    "    AssociatedClusterForEachPoint1.append(getNearestCluster(reconstructedXmatrix[i,:],meanVector))\n",
    "    \n",
    "#while !(np.array_equal(AssociatedClusterForEachPoint,AssociatedClusterForEachPoint1)):\n",
    "iterationNumber = 0\n",
    "while (1==1):\n",
    "#for i in range(0,10)\n",
    "    iterationNumber += 1\n",
    "    print(iterationNumber)\n",
    "    AssociatedClusterForEachPoint1 = []\n",
    "    for i in range(0,len(reconstructedXmatrix)):\n",
    "        AssociatedClusterForEachPoint1.append(getNearestCluster(reconstructedXmatrix[i,:],meanVector))\n",
    "    for i in meanVector:\n",
    "        numerVector = np.array([0.0]*len(meanVector[0]))\n",
    "        count = 0\n",
    "        for j,value in enumerate(AssociatedClusterForEachPoint1):\n",
    "            if j == i:\n",
    "                numerVector += reconstructedXmatrix[value,:]\n",
    "                count += 1\n",
    "        if count != 0:\n",
    "            meanVector[i] = numerVector/count\n",
    "    if np.array_equal(AssociatedClusterForEachPoint,AssociatedClusterForEachPoint1):\n",
    "        break\n",
    "    else:\n",
    "        AssociatedClusterForEachPoint = AssociatedClusterForEachPoint1\n",
    "        print(meanVector)\n",
    "\n",
    "    "
   ]
  },
  {
   "cell_type": "markdown",
   "metadata": {},
   "source": [
    "# part3"
   ]
  },
  {
   "cell_type": "code",
   "execution_count": 127,
   "metadata": {
    "scrolled": true
   },
   "outputs": [],
   "source": [
    "from sklearn import mixture\n",
    "#clusterer = GaussianMixture(5, 'diag')\n",
    "#clusterer.fit(reconstructedXmatrix)\n",
    "#cluster_labels = clusterer.predict(reconstructedXmatrix)\n",
    "gmm = mixture.GaussianMixture(n_components=5, covariance_type='full',\n",
    "                              max_iter=500).fit(reconstructedXmatrix)\n"
   ]
  },
  {
   "cell_type": "code",
   "execution_count": 128,
   "metadata": {},
   "outputs": [],
   "source": [
    "labels = gmm.predict(reconstructedXmatrix)"
   ]
  },
  {
   "cell_type": "code",
   "execution_count": 129,
   "metadata": {},
   "outputs": [
    {
     "data": {
      "text/plain": [
       "125973"
      ]
     },
     "execution_count": 129,
     "metadata": {},
     "output_type": "execute_result"
    }
   ],
   "source": [
    "len(LabelVector)"
   ]
  },
  {
   "cell_type": "code",
   "execution_count": 54,
   "metadata": {},
   "outputs": [
    {
     "data": {
      "text/plain": [
       "array(['dos', 'normal', 'probe', 'r2l', 'u2r'], dtype=object)"
      ]
     },
     "execution_count": 54,
     "metadata": {},
     "output_type": "execute_result"
    }
   ],
   "source": [
    "np.unique(labels)\n",
    "len(labels)\n",
    "np.unique(LabelVector)\n",
    "encodedLabelVector = LabelVector.copy()\n",
    "for i in LabelVector:\n",
    "    if encodedLabelVector == 'dos':\n",
    "        \n",
    "    "
   ]
  },
  {
   "cell_type": "code",
   "execution_count": null,
   "metadata": {},
   "outputs": [],
   "source": [
    "zippedLabel = zip(labels,LabelVector)"
   ]
  },
  {
   "cell_type": "code",
   "execution_count": 130,
   "metadata": {},
   "outputs": [],
   "source": [
    "conMatrix = pd.crosstab(labels,LabelVector)"
   ]
  },
  {
   "cell_type": "code",
   "execution_count": 132,
   "metadata": {
    "scrolled": true
   },
   "outputs": [
    {
     "name": "stdout",
     "output_type": "stream",
     "text": [
      "col_0    dos  normal  probe  r2l  u2r\n",
      "row_0                                \n",
      "0       2592   45041    326   12    1\n",
      "1       3741    2762    328  424   38\n",
      "2      31662       0      0    0    0\n",
      "3        902   11051   4678  519   11\n",
      "4       7030    8489   6324   40    2\n"
     ]
    }
   ],
   "source": [
    "print(conMatrix)"
   ]
  },
  {
   "cell_type": "markdown",
   "metadata": {},
   "source": [
    "# part4"
   ]
  },
  {
   "cell_type": "code",
   "execution_count": null,
   "metadata": {},
   "outputs": [],
   "source": [
    "from sklearn.cluster import AgglomerativeClustering\n",
    "clustering = AgglomerativeClustering(n_clusters=5,affinity='euclidean', linkage='single',memory=None,compute_full_tree = 'false') .fit(reconstructedXmatrix[0:60000,:])\n",
    "clustering \n",
    "#[0:30000,:]compute_full_tree : false\n",
    "#AgglomerativeClustering(n_clusters=10,\n",
    "# affinity=‘cosine’, linkage=‘complete’)\n",
    "#AgglomerativeClustering(affinity='euclidean', compute_full_tree='auto',\n",
    " #           connectivity=None, linkage='ward', memory=None, n_clusters=2,\n",
    "  #          pooling_func='deprecated')\n",
    "#clustering.labels_\n",
    "#array([1, 1, 1, 0, 0, 0])"
   ]
  },
  {
   "cell_type": "code",
   "execution_count": 17,
   "metadata": {},
   "outputs": [],
   "source": [
    "labelsForAgClus = clustering.labels_"
   ]
  },
  {
   "cell_type": "code",
   "execution_count": 22,
   "metadata": {},
   "outputs": [],
   "source": [
    "conMatrix = pd.crosstab(labelsForAgClus,LabelVector[0:30000])"
   ]
  },
  {
   "cell_type": "code",
   "execution_count": 23,
   "metadata": {},
   "outputs": [
    {
     "name": "stdout",
     "output_type": "stream",
     "text": [
      "col_0   dos  normal  probe  r2l  u2r\n",
      "row_0                               \n",
      "0      2749   15958   2656  257   14\n",
      "1      8244      34     88    0    0\n"
     ]
    }
   ],
   "source": [
    "print(conMatrix)"
   ]
  }
 ],
 "metadata": {
  "kernelspec": {
   "display_name": "Python 3",
   "language": "python",
   "name": "python3"
  },
  "language_info": {
   "codemirror_mode": {
    "name": "ipython",
    "version": 3
   },
   "file_extension": ".py",
   "mimetype": "text/x-python",
   "name": "python",
   "nbconvert_exporter": "python",
   "pygments_lexer": "ipython3",
   "version": "3.7.1"
  }
 },
 "nbformat": 4,
 "nbformat_minor": 2
}
