{
 "cells": [
  {
   "cell_type": "markdown",
   "metadata": {},
   "source": [
    "# part1(PCA)"
   ]
  },
  {
   "cell_type": "code",
   "execution_count": 2,
   "metadata": {},
   "outputs": [],
   "source": [
    "import pandas as pd\n",
    "import numpy as np\n",
    "IntrusionData = pd.read_csv('data.csv',sep=',',index_col = False)\n",
    "Xmatrix = IntrusionData.values\n",
    "LabelVector = Xmatrix[:,-1]\n",
    "Xmatrix = Xmatrix[:,:-1]\n",
    "meanVector = np.mean(Xmatrix,axis = 0)\n",
    "CenteredXmatrix = Xmatrix - meanVector\n",
    "SdVector = np.std(CenteredXmatrix.astype(float),axis = 0)\n",
    "CenteredXmatrix /= SdVector\n",
    "covOfCenteredXmatrix = np.array([(CenteredXmatrix[0,:].astype(float))]).T@ np.array([(CenteredXmatrix[0,:].astype(float))])\n",
    "for i in range(1,len(CenteredXmatrix)):\n",
    "    covOfCenteredXmatrix +=   np.array([(CenteredXmatrix[i,:].astype(float))]).T@ np.array([(CenteredXmatrix[i,:].astype(float))])\n",
    "covOfCenteredXmatrix /= len(CenteredXmatrix)\n",
    "eigenValues, eigenVectors = np.linalg.eig(covOfCenteredXmatrix)\n",
    "idx = eigenValues.argsort()[::-1]   \n",
    "eigenValues = eigenValues[idx]\n",
    "eigenVectors = eigenVectors[:,idx]\n",
    "neededEigenVectors = []\n",
    "for idx, val in enumerate(eigenValues):\n",
    "    if (sum(eigenValues[0:idx])/sum(eigenValues))>0.9:\n",
    "        neededEigenVectors = eigenVectors[:,0:idx]\n",
    "        break\n",
    "reconstructedXmatrix = CenteredXmatrix.astype(float)@neededEigenVectors\n",
    "#newData = np.insert(reconstructedXmatrix.astype(str), 2, values=LabelVector, axis=1) "
   ]
  },
  {
   "cell_type": "markdown",
   "metadata": {},
   "source": [
    "reconstructedXmatrix.shape"
   ]
  },
  {
   "cell_type": "markdown",
   "metadata": {},
   "source": [
    "# Part2(KMeans)"
   ]
  },
  {
   "cell_type": "code",
   "execution_count": 23,
   "metadata": {},
   "outputs": [],
   "source": [
    "def getDistance(row1,row2):\n",
    "    row1 = np.array(row1)\n",
    "    row2 = np.array(row2)\n",
    "    return (np.sum((np.abs(row1-row2))**2))**(1/2)\n",
    "def getNearestClusterDistance(givenSample,meanVector1):\n",
    "    distancesFromAllMeans = {}\n",
    "    for i in meanVector1:\n",
    "        distancesFromAllMeans[i] = getDistance(givenSample,meanVector1[i])\n",
    "    #nearestMeanLabel = min(distancesFromAllMeans.items(), key=operator.itemgetter(1))[0]\n",
    "    nearestMeanDistance = min(distancesFromAllMeans.values()); \n",
    "    return nearestMeanDistance\n",
    "def getNearestCluster(givenSample,meanVector1):\n",
    "    distancesFromAllMeans = {}\n",
    "    for i in meanVector1:\n",
    "        distancesFromAllMeans[i] = getDistance(givenSample,meanVector1[i])\n",
    "    nearestMeanLabel = min(distancesFromAllMeans.items(), key=operator.itemgetter(1))[0]\n",
    "    #nearestMeanDistance = min(distancesFromAllMeans.values()); \n",
    "    return nearestMeanLabel\n",
    "\n"
   ]
  },
  {
   "cell_type": "markdown",
   "metadata": {},
   "source": [
    "meanVector = {}\n",
    "import random\n",
    "import operator\n",
    "remainingIndices = list(range(0,len(reconstructedXmatrix)))\n",
    "RandomIndex1 =random.randint(0,len(reconstructedXmatrix))\n",
    "remainingIndices.remove(RandomIndex1)\n",
    "meanVector[0] = reconstructedXmatrix[RandomIndex1,:]\n",
    "#meanVector[0] = (reconstructedXmatrix[62233,:]+reconstructedXmatrix[59734,:]+reconstructedXmatrix[125429,:]+reconstructedXmatrix[101346,:]+reconstructedXmatrix[83454,:])/5\n",
    "#meanVector[1] = reconstructedXmatrix[59734,:]\n",
    "\n",
    "for k in range(1,5):\n",
    "    distancesOfRemainingVerticesWithNearestMean = {}\n",
    "    print(meanVector)\n",
    "    for i in remainingIndices:\n",
    "        distancesOfRemainingVerticesWithNearestMean[i] = (getNearestClusterDistance(reconstructedXmatrix[i,:],meanVector))**2\n",
    "    #findMaxKeywithrespecttodistance\n",
    "    nextVetexIndex = max(distancesOfRemainingVerticesWithNearestMean.items(), key=operator.itemgetter(1))[0]\n",
    "    print(nextVetexIndex)\n",
    "    max_value = max(distancesOfRemainingVerticesWithNearestMean.values()); \n",
    "    print(max_value)\n",
    "    tempList = [key for key, value in distancesOfRemainingVerticesWithNearestMean.items() if value == max_value]\n",
    "    print(tempList)\n",
    "    #assign that key as a the next vertex\n",
    "    meanVector[k] = reconstructedXmatrix[nextVetexIndex,:]\n",
    "    #removethatvertexfromremainingIndices\n",
    "    for i in tempList:\n",
    "        remainingIndices.remove(i)\n",
    "    #remainingIndices.remove(max(distancesOfRemainingVerticesWithNearestMean, key=distancesOfRemainingVerticesWithNearestMean.get))\n",
    "    "
   ]
  },
  {
   "cell_type": "markdown",
   "metadata": {},
   "source": [
    "getNearestClusterDistance(reconstructedXmatrix[11,:],meanVector)\n",
    "getDistance(reconstructedXmatrix[11,:],reconstructedXmatrix[2233,:])"
   ]
  },
  {
   "cell_type": "code",
   "execution_count": 24,
   "metadata": {},
   "outputs": [
    {
     "name": "stdout",
     "output_type": "stream",
     "text": [
      "[15126, 24342, 8449, 19992, 6418]\n"
     ]
    }
   ],
   "source": [
    "k = 5\n",
    "meanVector = {}\n",
    "import random\n",
    "RandomIndices = random.sample(range(0,len(reconstructedXmatrix)), 5)\n",
    "RandomIndices = [15126, 24342, 8449, 19992, 6418]\n",
    "print(RandomIndices)\n",
    "for i in range(0,k):\n",
    "    #meanVector[i] = \n",
    "    meanVector[i] = reconstructedXmatrix[RandomIndices[i],:]"
   ]
  },
  {
   "cell_type": "code",
   "execution_count": 25,
   "metadata": {
    "scrolled": true
   },
   "outputs": [
    {
     "name": "stdout",
     "output_type": "stream",
     "text": [
      "iteration number 1\n",
      "distanceOfallPointsToTheirNearestMeans is 65446.29267835621\n",
      "centriod number - 0 have points 3277\n",
      "centriod number - 1 have points 14395\n",
      "centriod number - 2 have points 4450\n",
      "centriod number - 3 have points 1925\n",
      "centriod number - 4 have points 951\n",
      "iteration number 2\n",
      "distanceOfallPointsToTheirNearestMeans is 62618.1481040664\n",
      "centriod number - 0 have points 2845\n",
      "centriod number - 1 have points 13803\n",
      "centriod number - 2 have points 4071\n",
      "centriod number - 3 have points 3191\n",
      "centriod number - 4 have points 1088\n",
      "iteration number 3\n",
      "distanceOfallPointsToTheirNearestMeans is 55852.079655591755\n",
      "centriod number - 0 have points 2682\n",
      "centriod number - 1 have points 13833\n",
      "centriod number - 2 have points 4221\n",
      "centriod number - 3 have points 3173\n",
      "centriod number - 4 have points 1089\n",
      "iteration number 4\n",
      "distanceOfallPointsToTheirNearestMeans is 54755.97075163514\n",
      "centriod number - 0 have points 2610\n",
      "centriod number - 1 have points 14025\n",
      "centriod number - 2 have points 4301\n",
      "centriod number - 3 have points 3024\n",
      "centriod number - 4 have points 1038\n",
      "iteration number 5\n",
      "distanceOfallPointsToTheirNearestMeans is 54509.39849221114\n",
      "centriod number - 0 have points 2577\n",
      "centriod number - 1 have points 14086\n",
      "centriod number - 2 have points 4351\n",
      "centriod number - 3 have points 2964\n",
      "centriod number - 4 have points 1020\n",
      "iteration number 6\n",
      "distanceOfallPointsToTheirNearestMeans is 54499.74479633233\n",
      "centriod number - 0 have points 2566\n",
      "centriod number - 1 have points 14092\n",
      "centriod number - 2 have points 4362\n",
      "centriod number - 3 have points 2962\n",
      "centriod number - 4 have points 1016\n",
      "iteration number 7\n",
      "distanceOfallPointsToTheirNearestMeans is 54498.94032961417\n",
      "centriod number - 0 have points 2563\n",
      "centriod number - 1 have points 14092\n",
      "centriod number - 2 have points 4365\n",
      "centriod number - 3 have points 2962\n",
      "centriod number - 4 have points 1016\n",
      "iteration number 8\n"
     ]
    }
   ],
   "source": [
    "iterationNumber = 0\n",
    "#while (iterationNumber<30):\n",
    "AssociatedClusterForEachPoint1 = []\n",
    "import operator\n",
    "while(True):\n",
    "#for i in range(0,10)\n",
    "    iterationNumber += 1\n",
    "    print(\"iteration number \"+str(iterationNumber))\n",
    "    beforeAssociatedClusterForEachPoint1 = AssociatedClusterForEachPoint1.copy()\n",
    "    AssociatedClusterForEachPoint1 = []\n",
    "    for i in range(0,len(reconstructedXmatrix)):\n",
    "        AssociatedClusterForEachPoint1.append(getNearestCluster(reconstructedXmatrix[i,:],meanVector))\n",
    "    if(beforeAssociatedClusterForEachPoint1 == AssociatedClusterForEachPoint1):\n",
    "        break\n",
    "    distanceOfallPointsToTheirNearestMeans = 0\n",
    "    for i in range(0,len(reconstructedXmatrix)):\n",
    "        distanceOfallPointsToTheirNearestMeans += (getNearestClusterDistance(reconstructedXmatrix[i,:],meanVector))\n",
    "    print('distanceOfallPointsToTheirNearestMeans is '+str(distanceOfallPointsToTheirNearestMeans))\n",
    "    #distanceOfallPointsToTheirNearestMeans = 0\n",
    "    for i in meanVector:\n",
    "        numerVector = np.array([0.0]*len(meanVector[0]))\n",
    "        count = 0\n",
    "        for j,value in enumerate(AssociatedClusterForEachPoint1):\n",
    "            if value == i:\n",
    "                numerVector += reconstructedXmatrix[j,:]\n",
    "                #print(reconstructedXmatrix[j,:])\n",
    "                count += 1\n",
    "        if count!= 0:\n",
    "            print(\"centriod number - \"+str(i)+\" have points \"+str(count))            \n",
    "            meanVector[i] = (numerVector/count)\n",
    "        else:\n",
    "            print('no points associated to mean number')\n",
    "            print(i)    "
   ]
  },
  {
   "cell_type": "code",
   "execution_count": 26,
   "metadata": {
    "scrolled": true
   },
   "outputs": [
    {
     "data": {
      "text/plain": [
       "[9138, 122242, 71404, 99808, 97935]"
      ]
     },
     "execution_count": 26,
     "metadata": {},
     "output_type": "execute_result"
    }
   ],
   "source": [
    "[9138, 122242, 71404, 99808, 97935]"
   ]
  },
  {
   "cell_type": "markdown",
   "metadata": {},
   "source": [
    "meanVector"
   ]
  },
  {
   "cell_type": "markdown",
   "metadata": {},
   "source": [
    "InitialMeanIndices = [9138, 122242, 71404, 99808, 97935]\n",
    "convergedMeanVector = {0: np.array([-0.22691395,  1.02406445,  0.62914381,  0.99550913, -0.63761498,\n",
    "         2.4519174 , -1.08593541,  0.06480075, -0.40389522, -0.02652342,\n",
    "        -0.24153266, -0.26781894, -0.02712858,  0.14675251]),\n",
    " 1: np.array([ 2.03611977e+00, -6.88830525e-01,  1.01823782e-02,  2.05041531e-01,\n",
    "         3.64706316e-01,  5.69887320e-02, -8.30691030e-02,  1.60627683e-02,\n",
    "         4.06784279e-02,  9.80033887e-04,  2.55526508e-02, -2.45904934e-03,\n",
    "        -4.97478967e-03, -9.61952951e-03]),\n",
    " 2: np.array([-3.77480431e+00, -1.24188790e+00,  9.58046411e-03,  2.48647585e-01,\n",
    "         1.38443859e-02, -2.81217685e-01,  1.73780634e-01,  1.46115350e-02,\n",
    "         2.77712017e-02,  4.91214345e-03,  9.96833544e-03,  5.84494600e-02,\n",
    "        -2.40969064e-03,  6.47835212e-02]),\n",
    " 3: np.array([-4.47389125e-01,  5.70578373e+00, -1.06039823e-01, -2.20767543e-01,\n",
    "         2.73673348e-01, -6.66253587e-01,  2.86856765e-01, -3.43002182e-02,\n",
    "         3.81266449e-02, -1.73473161e-03,  4.29894564e-02,  4.46477549e-02,\n",
    "         1.65634921e-03,  2.10422234e-02]),\n",
    " 4: np.array([ 1.62633778e+00, -8.16807976e-01, -4.09606349e-01, -2.71483254e+00,\n",
    "        -2.45983481e+00, -8.48831057e-02,  2.51235519e-01, -1.56178931e-01,\n",
    "        -1.33155340e-01, -2.19776932e-03, -9.57646930e-02, -7.52279422e-02,\n",
    "         6.04324740e-02, -3.28324686e-01])}\n",
    "#iteration number 50\n",
    "#centriod number - 0 have points 6899\n",
    "#centriod number - 1 have points 60679\n",
    "#centriod number - 2 have points 34454\n",
    "#centriod number - 3 have points 14883\n",
    "#centriod number - 4 have points 9058\n",
    "[55579, 31003, 99170, 19907, 16799]\n",
    "{0: array([-3.90921310e+00, -1.16608587e+00,  5.47047279e-02,  3.91829643e-01,\n",
    "         1.71436182e-01, -9.20033466e-02,  1.05811609e-01,  1.41946505e-01,\n",
    "        -1.09041281e-01,  3.51935131e-03, -7.47110297e-03,  7.42605720e-02,\n",
    "         1.67794569e-02, -4.01073592e-01]),\n",
    " 1: array([-3.53666853, -1.37040314, -0.06692081,  0.00737912, -0.25329905,\n",
    "        -0.60322352,  0.28950226, -0.20207915,  0.26084471,  0.0073202 ,\n",
    "         0.03961029,  0.03182918, -0.03525319,  0.85834743]),\n",
    " 2: array([-4.45495582e-01,  5.70339476e+00, -1.06052628e-01, -2.20427142e-01,\n",
    "         2.74276656e-01, -6.67098402e-01,  2.87190802e-01, -3.42581383e-02,\n",
    "         3.81248789e-02, -1.74085791e-03,  4.30992561e-02,  4.46676271e-02,\n",
    "         1.64680736e-03,  2.08479356e-02]),\n",
    " 3: array([ 1.98726277e+00, -7.07523340e-01, -4.54788541e-02, -1.76794578e-01,\n",
    "        -4.70493187e-03,  3.68466669e-02, -3.92515174e-02, -5.84846451e-03,\n",
    "         1.81466026e-02,  6.06784784e-04,  9.56633012e-03, -1.16160902e-02,\n",
    "         2.51185642e-03, -4.97805863e-02]),\n",
    " 4: array([-0.21484518,  1.00938377,  0.6273943 ,  0.99202778, -0.60560153,\n",
    "         2.42945908, -1.07329849,  0.05816891, -0.39665662, -0.02649777,\n",
    "        -0.23490002, -0.26727531, -0.01628518,  0.13149941])}\n",
    "centriod number - 0 have points 21739\n",
    "centriod number - 1 have points 12754\n",
    "centriod number - 2 have points 14895\n",
    "centriod number - 3 have points 69560\n",
    "centriod number - 4 have points 7025\n"
   ]
  },
  {
   "cell_type": "markdown",
   "metadata": {},
   "source": [
    "np.unique(AssociatedClusterForEachPoint1)"
   ]
  },
  {
   "cell_type": "markdown",
   "metadata": {},
   "source": [
    "type(LabelVector)"
   ]
  },
  {
   "cell_type": "code",
   "execution_count": 27,
   "metadata": {},
   "outputs": [],
   "source": [
    "conMatrix = pd.crosstab(np.array(AssociatedClusterForEachPoint1),LabelVector)"
   ]
  },
  {
   "cell_type": "markdown",
   "metadata": {},
   "source": [
    "print(conMatrix)"
   ]
  },
  {
   "cell_type": "code",
   "execution_count": 28,
   "metadata": {},
   "outputs": [
    {
     "data": {
      "text/html": [
       "<div>\n",
       "<style scoped>\n",
       "    .dataframe tbody tr th:only-of-type {\n",
       "        vertical-align: middle;\n",
       "    }\n",
       "\n",
       "    .dataframe tbody tr th {\n",
       "        vertical-align: top;\n",
       "    }\n",
       "\n",
       "    .dataframe thead th {\n",
       "        text-align: right;\n",
       "    }\n",
       "</style>\n",
       "<table border=\"1\" class=\"dataframe\">\n",
       "  <thead>\n",
       "    <tr style=\"text-align: right;\">\n",
       "      <th>col_0</th>\n",
       "      <th>dos</th>\n",
       "      <th>normal</th>\n",
       "      <th>probe</th>\n",
       "      <th>r2l</th>\n",
       "      <th>u2r</th>\n",
       "    </tr>\n",
       "    <tr>\n",
       "      <th>row_0</th>\n",
       "      <th></th>\n",
       "      <th></th>\n",
       "      <th></th>\n",
       "      <th></th>\n",
       "      <th></th>\n",
       "    </tr>\n",
       "  </thead>\n",
       "  <tbody>\n",
       "    <tr>\n",
       "      <th>0</th>\n",
       "      <td>2545</td>\n",
       "      <td>11</td>\n",
       "      <td>7</td>\n",
       "      <td>0</td>\n",
       "      <td>0</td>\n",
       "    </tr>\n",
       "    <tr>\n",
       "      <th>1</th>\n",
       "      <td>922</td>\n",
       "      <td>12651</td>\n",
       "      <td>358</td>\n",
       "      <td>151</td>\n",
       "      <td>10</td>\n",
       "    </tr>\n",
       "    <tr>\n",
       "      <th>2</th>\n",
       "      <td>4266</td>\n",
       "      <td>28</td>\n",
       "      <td>71</td>\n",
       "      <td>0</td>\n",
       "      <td>0</td>\n",
       "    </tr>\n",
       "    <tr>\n",
       "      <th>3</th>\n",
       "      <td>1364</td>\n",
       "      <td>531</td>\n",
       "      <td>1057</td>\n",
       "      <td>10</td>\n",
       "      <td>0</td>\n",
       "    </tr>\n",
       "    <tr>\n",
       "      <th>4</th>\n",
       "      <td>17</td>\n",
       "      <td>143</td>\n",
       "      <td>820</td>\n",
       "      <td>36</td>\n",
       "      <td>0</td>\n",
       "    </tr>\n",
       "  </tbody>\n",
       "</table>\n",
       "</div>"
      ],
      "text/plain": [
       "col_0   dos  normal  probe  r2l  u2r\n",
       "row_0                               \n",
       "0      2545      11      7    0    0\n",
       "1       922   12651    358  151   10\n",
       "2      4266      28     71    0    0\n",
       "3      1364     531   1057   10    0\n",
       "4        17     143    820   36    0"
      ]
     },
     "execution_count": 28,
     "metadata": {},
     "output_type": "execute_result"
    }
   ],
   "source": [
    "tempo = pd.DataFrame(conMatrix)\n",
    "tempo"
   ]
  },
  {
   "cell_type": "code",
   "execution_count": 29,
   "metadata": {},
   "outputs": [],
   "source": [
    "tempo['label']=tempo.idxmax(axis=1)"
   ]
  },
  {
   "cell_type": "code",
   "execution_count": 30,
   "metadata": {
    "scrolled": false
   },
   "outputs": [
    {
     "name": "stdout",
     "output_type": "stream",
     "text": [
      "purity of cluster 0 is 0.9929769801014436 and its label is dos\n",
      "purity of cluster 1 is 0.8977434005109282 and its label is normal\n",
      "purity of cluster 2 is 0.977319587628866 and its label is dos\n",
      "purity of cluster 3 is 0.46049966239027684 and its label is dos\n",
      "purity of cluster 4 is 0.8070866141732284 and its label is probe\n"
     ]
    }
   ],
   "source": [
    "for i in tempo.index:\n",
    "    print('purity of cluster '+str(i)+\" is \"+str(np.max(np.array(tempo.iloc[[i],:-1].values))/np.sum(np.array(tempo.iloc[[i],:-1].values)))+\" and its label is \"+str(tempo.at[i,'label']))"
   ]
  },
  {
   "cell_type": "markdown",
   "metadata": {},
   "source": [
    "tempo"
   ]
  },
  {
   "cell_type": "code",
   "execution_count": 66,
   "metadata": {},
   "outputs": [
    {
     "data": {
      "text/html": [
       "<div>\n",
       "<style scoped>\n",
       "    .dataframe tbody tr th:only-of-type {\n",
       "        vertical-align: middle;\n",
       "    }\n",
       "\n",
       "    .dataframe tbody tr th {\n",
       "        vertical-align: top;\n",
       "    }\n",
       "\n",
       "    .dataframe thead th {\n",
       "        text-align: right;\n",
       "    }\n",
       "</style>\n",
       "<table border=\"1\" class=\"dataframe\">\n",
       "  <thead>\n",
       "    <tr style=\"text-align: right;\">\n",
       "      <th>col_0</th>\n",
       "      <th>dos</th>\n",
       "      <th>normal</th>\n",
       "      <th>probe</th>\n",
       "      <th>r2l</th>\n",
       "      <th>u2r</th>\n",
       "    </tr>\n",
       "    <tr>\n",
       "      <th>row_0</th>\n",
       "      <th></th>\n",
       "      <th></th>\n",
       "      <th></th>\n",
       "      <th></th>\n",
       "      <th></th>\n",
       "    </tr>\n",
       "  </thead>\n",
       "  <tbody>\n",
       "    <tr>\n",
       "      <th>0</th>\n",
       "      <td>0.07</td>\n",
       "      <td>0.90</td>\n",
       "      <td>0.03</td>\n",
       "      <td>0.01</td>\n",
       "      <td>0.0</td>\n",
       "    </tr>\n",
       "    <tr>\n",
       "      <th>1</th>\n",
       "      <td>0.46</td>\n",
       "      <td>0.18</td>\n",
       "      <td>0.36</td>\n",
       "      <td>0.00</td>\n",
       "      <td>0.0</td>\n",
       "    </tr>\n",
       "    <tr>\n",
       "      <th>2</th>\n",
       "      <td>0.98</td>\n",
       "      <td>0.01</td>\n",
       "      <td>0.01</td>\n",
       "      <td>0.00</td>\n",
       "      <td>0.0</td>\n",
       "    </tr>\n",
       "    <tr>\n",
       "      <th>3</th>\n",
       "      <td>0.02</td>\n",
       "      <td>0.14</td>\n",
       "      <td>0.81</td>\n",
       "      <td>0.04</td>\n",
       "      <td>0.0</td>\n",
       "    </tr>\n",
       "    <tr>\n",
       "      <th>4</th>\n",
       "      <td>0.00</td>\n",
       "      <td>1.00</td>\n",
       "      <td>0.00</td>\n",
       "      <td>0.00</td>\n",
       "      <td>0.0</td>\n",
       "    </tr>\n",
       "  </tbody>\n",
       "</table>\n",
       "</div>"
      ],
      "text/plain": [
       "col_0   dos  normal  probe   r2l  u2r\n",
       "row_0                                \n",
       "0      0.07    0.90   0.03  0.01  0.0\n",
       "1      0.46    0.18   0.36  0.00  0.0\n",
       "2      0.98    0.01   0.01  0.00  0.0\n",
       "3      0.02    0.14   0.81  0.04  0.0\n",
       "4      0.00    1.00   0.00  0.00  0.0"
      ]
     },
     "execution_count": 66,
     "metadata": {},
     "output_type": "execute_result"
    }
   ],
   "source": [
    "tempoPurityOfEachclassinEachClusterlabel = tempo[:]\n",
    "#print(tempoPurityOfEachclassinEachClusterlabel)\n",
    "for i in tempo.index:\n",
    "    for j in tempo.columns:\n",
    "        #print(tempo.at[i,j])\n",
    "        #print(np.sum(np.array(tempo.iloc[[i],:-1].values)))\n",
    "        garbage = (tempo.at[i,j]/np.sum(np.array(tempo.iloc[[i],:-1].values)))\n",
    "        garbage = float(\"{0:.2f}\".format(garbage))\n",
    "        tempoPurityOfEachclassinEachClusterlabel.loc[i,j] = garbage\n",
    "        #print(tempoPurityOfEachclassinEachClusterlabel.at[i,j])\n",
    "tempoPurityOfEachclassinEachClusterlabel \n",
    "        "
   ]
  },
  {
   "cell_type": "markdown",
   "metadata": {},
   "source": [
    "#check scikit learn\n",
    "from sklearn.cluster import KMeans\n",
    "import numpy as np\n",
    "kmeans = KMeans(n_clusters=5,n_init=10, max_iter=300, tol=0.0001, random_state=None).fit(reconstructedXmatrix)\n",
    "kmeanslabels1 = kmeans.predict(reconstructedXmatrix)\n",
    "conMatrix = pd.crosstab(kmeanslabels1,LabelVector)\n",
    "#print(kmeans.cluster_centers_)\n",
    "#(n_clusters=8, init=’k-means++’, n_init=10, max_iter=300, tol=0.0001, precompute_distances=’auto’, verbose=0, random_state=None, copy_x=True, n_jobs=None, algorithm=’auto’)\n",
    "tempo = pd.DataFrame(conMatrix)\n",
    "tempo\n",
    "tempo1['label']=tempo1.idxmax(axis=1)\n",
    "for i in tempo1.index:\n",
    "    print('purity of cluster '+str(i)+\" is \"+str(np.max(np.array(tempo1.iloc[[i],:-1].values))/np.sum(np.array(tempo1.iloc[[i],:-1].values)))+\" and its label is \"+str(tempo1.at[i,'label']))"
   ]
  },
  {
   "cell_type": "markdown",
   "metadata": {},
   "source": [
    "# Part3(GMM)"
   ]
  },
  {
   "cell_type": "code",
   "execution_count": 44,
   "metadata": {},
   "outputs": [
    {
     "data": {
      "text/html": [
       "<div>\n",
       "<style scoped>\n",
       "    .dataframe tbody tr th:only-of-type {\n",
       "        vertical-align: middle;\n",
       "    }\n",
       "\n",
       "    .dataframe tbody tr th {\n",
       "        vertical-align: top;\n",
       "    }\n",
       "\n",
       "    .dataframe thead th {\n",
       "        text-align: right;\n",
       "    }\n",
       "</style>\n",
       "<table border=\"1\" class=\"dataframe\">\n",
       "  <thead>\n",
       "    <tr style=\"text-align: right;\">\n",
       "      <th>col_0</th>\n",
       "      <th>dos</th>\n",
       "      <th>normal</th>\n",
       "      <th>probe</th>\n",
       "      <th>r2l</th>\n",
       "      <th>u2r</th>\n",
       "    </tr>\n",
       "    <tr>\n",
       "      <th>row_0</th>\n",
       "      <th></th>\n",
       "      <th></th>\n",
       "      <th></th>\n",
       "      <th></th>\n",
       "      <th></th>\n",
       "    </tr>\n",
       "  </thead>\n",
       "  <tbody>\n",
       "    <tr>\n",
       "      <th>0</th>\n",
       "      <td>115</td>\n",
       "      <td>583</td>\n",
       "      <td>7</td>\n",
       "      <td>90</td>\n",
       "      <td>7</td>\n",
       "    </tr>\n",
       "    <tr>\n",
       "      <th>1</th>\n",
       "      <td>6124</td>\n",
       "      <td>0</td>\n",
       "      <td>0</td>\n",
       "      <td>0</td>\n",
       "      <td>0</td>\n",
       "    </tr>\n",
       "    <tr>\n",
       "      <th>2</th>\n",
       "      <td>27</td>\n",
       "      <td>1862</td>\n",
       "      <td>303</td>\n",
       "      <td>10</td>\n",
       "      <td>0</td>\n",
       "    </tr>\n",
       "    <tr>\n",
       "      <th>3</th>\n",
       "      <td>2757</td>\n",
       "      <td>2663</td>\n",
       "      <td>1117</td>\n",
       "      <td>7</td>\n",
       "      <td>0</td>\n",
       "    </tr>\n",
       "    <tr>\n",
       "      <th>4</th>\n",
       "      <td>91</td>\n",
       "      <td>8256</td>\n",
       "      <td>886</td>\n",
       "      <td>90</td>\n",
       "      <td>3</td>\n",
       "    </tr>\n",
       "  </tbody>\n",
       "</table>\n",
       "</div>"
      ],
      "text/plain": [
       "col_0   dos  normal  probe  r2l  u2r\n",
       "row_0                               \n",
       "0       115     583      7   90    7\n",
       "1      6124       0      0    0    0\n",
       "2        27    1862    303   10    0\n",
       "3      2757    2663   1117    7    0\n",
       "4        91    8256    886   90    3"
      ]
     },
     "execution_count": 44,
     "metadata": {},
     "output_type": "execute_result"
    }
   ],
   "source": [
    "from sklearn import mixture\n",
    "#clusterer = GaussianMixture(5, 'diag')\n",
    "#clusterer.fit(reconstructedXmatrix)\n",
    "#cluster_labels = clusterer.predict(reconstructedXmatrix)\n",
    "gmm = mixture.GaussianMixture(n_components=5, covariance_type='full',\n",
    "                              max_iter=400,random_state= 0,n_init=20, init_params='kmeans').fit(reconstructedXmatrix)\n",
    "labels = gmm.predict(reconstructedXmatrix)\n",
    "zippedLabel = zip(labels,LabelVector)\n",
    "conMatrix = pd.crosstab(labels,LabelVector)\n",
    "#print(conMatrix)\n",
    "tempo1 = pd.DataFrame(conMatrix)\n",
    "tempo1"
   ]
  },
  {
   "cell_type": "code",
   "execution_count": 45,
   "metadata": {},
   "outputs": [],
   "source": [
    "tempo1['label']=tempo1.idxmax(axis=1)"
   ]
  },
  {
   "cell_type": "code",
   "execution_count": 46,
   "metadata": {
    "scrolled": false
   },
   "outputs": [
    {
     "name": "stdout",
     "output_type": "stream",
     "text": [
      "purity of cluster 0 is 0.726932668329177 and its label is normal\n",
      "purity of cluster 1 is 1.0 and its label is dos\n",
      "purity of cluster 2 is 0.8455949137148048 and its label is normal\n",
      "purity of cluster 3 is 0.42130195599022 and its label is dos\n",
      "purity of cluster 4 is 0.8852669954964615 and its label is normal\n"
     ]
    }
   ],
   "source": [
    "for i in tempo1.index:\n",
    "    print('purity of cluster '+str(i)+\" is \"+str(np.max(np.array(tempo1.iloc[[i],:-1].values))/np.sum(np.array(tempo1.iloc[[i],:-1].values)))+\" and its label is \"+str(tempo1.at[i,'label']))"
   ]
  },
  {
   "cell_type": "code",
   "execution_count": 64,
   "metadata": {},
   "outputs": [
    {
     "data": {
      "text/html": [
       "<div>\n",
       "<style scoped>\n",
       "    .dataframe tbody tr th:only-of-type {\n",
       "        vertical-align: middle;\n",
       "    }\n",
       "\n",
       "    .dataframe tbody tr th {\n",
       "        vertical-align: top;\n",
       "    }\n",
       "\n",
       "    .dataframe thead th {\n",
       "        text-align: right;\n",
       "    }\n",
       "</style>\n",
       "<table border=\"1\" class=\"dataframe\">\n",
       "  <thead>\n",
       "    <tr style=\"text-align: right;\">\n",
       "      <th>col_0</th>\n",
       "      <th>dos</th>\n",
       "      <th>normal</th>\n",
       "      <th>probe</th>\n",
       "      <th>r2l</th>\n",
       "      <th>u2r</th>\n",
       "    </tr>\n",
       "    <tr>\n",
       "      <th>row_0</th>\n",
       "      <th></th>\n",
       "      <th></th>\n",
       "      <th></th>\n",
       "      <th></th>\n",
       "      <th></th>\n",
       "    </tr>\n",
       "  </thead>\n",
       "  <tbody>\n",
       "    <tr>\n",
       "      <th>0</th>\n",
       "      <td>0.07</td>\n",
       "      <td>0.90</td>\n",
       "      <td>0.03</td>\n",
       "      <td>0.01</td>\n",
       "      <td>0.0</td>\n",
       "    </tr>\n",
       "    <tr>\n",
       "      <th>1</th>\n",
       "      <td>0.46</td>\n",
       "      <td>0.18</td>\n",
       "      <td>0.36</td>\n",
       "      <td>0.00</td>\n",
       "      <td>0.0</td>\n",
       "    </tr>\n",
       "    <tr>\n",
       "      <th>2</th>\n",
       "      <td>0.98</td>\n",
       "      <td>0.01</td>\n",
       "      <td>0.01</td>\n",
       "      <td>0.00</td>\n",
       "      <td>0.0</td>\n",
       "    </tr>\n",
       "    <tr>\n",
       "      <th>3</th>\n",
       "      <td>0.02</td>\n",
       "      <td>0.14</td>\n",
       "      <td>0.81</td>\n",
       "      <td>0.04</td>\n",
       "      <td>0.0</td>\n",
       "    </tr>\n",
       "    <tr>\n",
       "      <th>4</th>\n",
       "      <td>0.00</td>\n",
       "      <td>1.00</td>\n",
       "      <td>0.00</td>\n",
       "      <td>0.00</td>\n",
       "      <td>0.0</td>\n",
       "    </tr>\n",
       "  </tbody>\n",
       "</table>\n",
       "</div>"
      ],
      "text/plain": [
       "col_0   dos  normal  probe   r2l  u2r\n",
       "row_0                                \n",
       "0      0.07    0.90   0.03  0.01  0.0\n",
       "1      0.46    0.18   0.36  0.00  0.0\n",
       "2      0.98    0.01   0.01  0.00  0.0\n",
       "3      0.02    0.14   0.81  0.04  0.0\n",
       "4      0.00    1.00   0.00  0.00  0.0"
      ]
     },
     "execution_count": 64,
     "metadata": {},
     "output_type": "execute_result"
    }
   ],
   "source": [
    "tempoPurityOfEachclassinEachClusterlabel = tempo[:]\n",
    "#print(tempoPurityOfEachclassinEachClusterlabel)\n",
    "for i in tempo.index:\n",
    "    for j in tempo.columns:\n",
    "        #print(tempo.at[i,j])\n",
    "        #print(np.sum(np.array(tempo.iloc[[i],:-1].values)))\n",
    "        garbage = (tempo.at[i,j]/np.sum(np.array(tempo.iloc[[i],:-1].values)))\n",
    "        garbage = float(\"{0:.2f}\".format(garbage))\n",
    "        tempoPurityOfEachclassinEachClusterlabel.loc[i,j] = garbage\n",
    "        #print(tempoPurityOfEachclassinEachClusterlabel.at[i,j])\n",
    "tempoPurityOfEachclassinEachClusterlabel \n",
    "        "
   ]
  },
  {
   "cell_type": "markdown",
   "metadata": {},
   "source": [
    "# part4(HAC)"
   ]
  },
  {
   "cell_type": "code",
   "execution_count": 38,
   "metadata": {},
   "outputs": [
    {
     "data": {
      "text/plain": [
       "AgglomerativeClustering(affinity='euclidean', compute_full_tree='auto',\n",
       "            connectivity=None, linkage='single', memory=None, n_clusters=5,\n",
       "            pooling_func='deprecated')"
      ]
     },
     "execution_count": 38,
     "metadata": {},
     "output_type": "execute_result"
    }
   ],
   "source": [
    "from sklearn.cluster import AgglomerativeClustering\n",
    "clustering = AgglomerativeClustering(n_clusters=5,affinity='euclidean', linkage='single',compute_full_tree = 'auto') .fit(reconstructedXmatrix)\n",
    "clustering \n",
    "#[0:30000,:]compute_full_tree : false\n",
    "#AgglomerativeClustering(n_clusters=10,   \n",
    "# affinity=‘cosine’, linkage=‘complete’)\n",
    "#AgglomerativeClustering(affinity='euclidean', compute_full_tree='auto',\n",
    " #           connectivity=None, linkage='ward', memory=None, n_clusters=2,\n",
    "  #          pooling_func='deprecated')\n",
    "#clustering.labels_\n",
    "#array([1, 1, 1, 0, 0, 0])\n",
    "#memory=None,"
   ]
  },
  {
   "cell_type": "code",
   "execution_count": 5,
   "metadata": {
    "scrolled": true
   },
   "outputs": [],
   "source": [
    "labelsForAgClus = clustering.labels_"
   ]
  },
  {
   "cell_type": "markdown",
   "metadata": {},
   "source": [
    "labelsForAgClus"
   ]
  },
  {
   "cell_type": "code",
   "execution_count": 54,
   "metadata": {},
   "outputs": [],
   "source": [
    "conMatrix = pd.crosstab(labelsForAgClus,LabelVector)"
   ]
  },
  {
   "cell_type": "code",
   "execution_count": 55,
   "metadata": {
    "scrolled": true
   },
   "outputs": [
    {
     "name": "stdout",
     "output_type": "stream",
     "text": [
      "col_0   dos  normal  probe  r2l  u2r\n",
      "row_0                               \n",
      "0      9114   13360   2312  193   10\n",
      "1         0       0      1    0    0\n",
      "2         0       2      0    4    0\n",
      "3         0       1      0    0    0\n",
      "4         0       1      0    0    0\n"
     ]
    }
   ],
   "source": [
    "print(conMatrix)"
   ]
  },
  {
   "cell_type": "code",
   "execution_count": 56,
   "metadata": {},
   "outputs": [
    {
     "name": "stdout",
     "output_type": "stream",
     "text": [
      "purity of cluster 0 is 0.5346352395053824 and its label is normal\n",
      "purity of cluster 1 is 1.0 and its label is probe\n",
      "purity of cluster 2 is 0.6666666666666666 and its label is r2l\n",
      "purity of cluster 3 is 1.0 and its label is normal\n",
      "purity of cluster 4 is 1.0 and its label is normal\n"
     ]
    }
   ],
   "source": [
    "tempo = pd.DataFrame(conMatrix)\n",
    "#tempo1\n",
    "tempo['label']=tempo.idxmax(axis=1)\n",
    "\n",
    "for i in tempo.index:\n",
    "    print('purity of cluster '+str(i)+\" is \"+str(np.max(np.array(tempo.iloc[[i],:-1].values))/np.sum(np.array(tempo.iloc[[i],:-1].values)))+\" and its label is \"+str(tempo.at[i,'label']))\n"
   ]
  },
  {
   "cell_type": "markdown",
   "metadata": {
    "scrolled": true
   },
   "source": [
    "tempoPurityOfEachclassinEachClusterlabel = tempo[:]\n",
    "#print(tempoPurityOfEachclassinEachClusterlabel)\n",
    "for i in tempo.index:\n",
    "    for j in tempo.columns:\n",
    "        #print(tempo.at[i,j])\n",
    "        #print(np.sum(np.array(tempo.iloc[[i],:-1].values)))\n",
    "        garbage = (tempo.at[i,j]/np.sum(np.array(tempo.iloc[[i],:-1].values)))\n",
    "        garbage = float(\"{0:.2f}\".format(garbage))\n",
    "        tempoPurityOfEachclassinEachClusterlabel.loc[i,j] = garbage\n",
    "        #print(tempoPurityOfEachclassinEachClusterlabel.at[i,j])\n",
    "tempoPurityOfEachclassinEachClusterlabel \n",
    "        "
   ]
  },
  {
   "cell_type": "markdown",
   "metadata": {},
   "source": [
    "KNN\n",
    "purity of cluster 0 is 0.9929769801014436 and its label is dos\n",
    "purity of cluster 1 is 0.8977434005109282 and its label is normal\n",
    "purity of cluster 2 is 0.977319587628866 and its label is dos\n",
    "purity of cluster 3 is 0.46049966239027684 and its label is dos\n",
    "purity of cluster 4 is 0.8070866141732284 and its label is probe\n",
    "GMM\n",
    "purity of cluster 0 is 0.726932668329177 and its label is normal\n",
    "purity of cluster 1 is 1.0 and its label is dos\n",
    "purity of cluster 2 is 0.8455949137148048 and its label is normal\n",
    "purity of cluster 3 is 0.42130195599022 and its label is dos\n",
    "purity of cluster 4 is 0.8852669954964615 and its label is normal\n",
    "Hierarchial (AC)\n",
    "purity of cluster 0 is 0.534894894894895 and its label is normal\n",
    "purity of cluster 1 is 1.0 and its label is normal\n",
    "purity of cluster 2 is 0.6666666666666666 and its label is r2l\n",
    "purity of cluster 3 is 1.0 and its label is probe\n",
    "purity of cluster 4 is 0.9285714285714286 and its label is r2l"
   ]
  },
  {
   "cell_type": "code",
   "execution_count": 50,
   "metadata": {},
   "outputs": [
    {
     "data": {
      "image/png": "[encoded data removed]",
      "text/plain": [
       "<Figure size 432x288 with 1 Axes>"
      ]
     },
     "metadata": {},
     "output_type": "display_data"
    },
    {
     "data": {
      "image/png": "[encoded data removed]",
      "text/plain": [
       "<Figure size 432x288 with 1 Axes>"
      ]
     },
     "metadata": {},
     "output_type": "display_data"
    },
    {
     "data": {
      "image/png": "[encoded data removed]",
      "text/plain": [
       "<Figure size 432x288 with 1 Axes>"
      ]
     },
     "metadata": {},
     "output_type": "display_data"
    }
   ],
   "source": [
    "import matplotlib.pyplot as plt\n",
    "slices_hours = [0.8977434005109282,(0.8852669954964615+0.726932668329177+ 0.8455949137148048)/3,(0.534894894894895+1.0)/2]\n",
    "activities = ['KMeans', 'GMM','Hierarchial']\n",
    "colors = ['r', 'yellow','blue']\n",
    "plt.pie(slices_hours, labels=activities, colors=colors, startangle=90)#, autopct='%.1f%%')\n",
    "plt.title('normal attack purity pie chart')\n",
    "plt.show()\n",
    "plt.show()\n",
    "\n",
    "slices_hours = [( 0.9929769801014436+0.977319587628866+0.46049966239027684)/3,(0.9872352770525095+ 0.45915966386554624)/2]\n",
    "activities = ['KMeans', 'GMM']\n",
    "colors = ['r', 'yellow']\n",
    "plt.pie(slices_hours, labels=activities, colors=colors, startangle=90)#, autopct='%.1f%%')\n",
    "plt.title('dos attack purity pie chart')\n",
    "plt.show()\n",
    "plt.show()\n",
    "\n",
    "slices_hours = [0.8070866141732284,1]\n",
    "activities = ['KMeans', 'Hierarchial']\n",
    "colors = ['r', 'yellow']\n",
    "plt.pie(slices_hours, labels=activities, colors=colors, startangle=90)#, autopct='%.1f%%')\n",
    "plt.title('probe attack purity pie chart')\n",
    "plt.show()\n",
    "plt.show()"
   ]
  }
 ],
 "metadata": {
  "kernelspec": {
   "display_name": "Python 3",
   "language": "python",
   "name": "python3"
  },
  "language_info": {
   "codemirror_mode": {
    "name": "ipython",
    "version": 3
   },
   "file_extension": ".py",
   "mimetype": "text/x-python",
   "name": "python",
   "nbconvert_exporter": "python",
   "pygments_lexer": "ipython3",
   "version": "3.7.1"
  }
 },
 "nbformat": 4,
 "nbformat_minor": 2
}
