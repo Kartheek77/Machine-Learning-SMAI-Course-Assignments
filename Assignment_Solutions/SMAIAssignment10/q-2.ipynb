{
 "cells": [
  {
   "cell_type": "code",
   "execution_count": 1,
   "metadata": {},
   "outputs": [],
   "source": [
    "import numpy as np"
   ]
  },
  {
   "cell_type": "code",
   "execution_count": 2,
   "metadata": {},
   "outputs": [],
   "source": [
    "InputDNAsequence = 'CTTCATGTGAAAGCAGACGTAAGTCA'\n",
    "InputStatepathsequence = 'EEEEEEEEEEEEEEEEEE5IIIIIII'"
   ]
  },
  {
   "cell_type": "code",
   "execution_count": 3,
   "metadata": {},
   "outputs": [
    {
     "name": "stdout",
     "output_type": "stream",
     "text": [
      "26\n",
      "26\n"
     ]
    }
   ],
   "source": [
    "print(len(InputDNAsequence))\n",
    "print(len(InputStatepathsequence))"
   ]
  },
  {
   "cell_type": "code",
   "execution_count": 4,
   "metadata": {},
   "outputs": [],
   "source": [
    "transitionProbabilities = {}\n",
    "transitionProbabilities['Start'] = {'E':1.0}\n",
    "transitionProbabilities['E']     = {'E':0.9,'5':0.1}\n",
    "transitionProbabilities['5']     = {'5':0.9,'I':0.1}\n",
    "transitionProbabilities['I']     = {'I':0.9,'End':0.1}"
   ]
  },
  {
   "cell_type": "code",
   "execution_count": 5,
   "metadata": {},
   "outputs": [],
   "source": [
    "emissionProbabilities = {}\n",
    "emissionProbabilities['E'] = {'A':0.25,'C':0.25,'G':0.25,'T':0.25}\n",
    "emissionProbabilities['5'] = {'A':0.05,'C':0,'G':0.95,'T':0}\n",
    "emissionProbabilities['I'] = {'A':0.4,'C':0.1,'G':0.1,'T':0.4}"
   ]
  },
  {
   "cell_type": "code",
   "execution_count": 6,
   "metadata": {},
   "outputs": [
    {
     "name": "stdout",
     "output_type": "stream",
     "text": [
      "-17.90147856487019\n"
     ]
    }
   ],
   "source": [
    "probability = 1\n",
    "for i, c in enumerate(InputStatepathsequence):\n",
    "    if(i<len(InputStatepathsequence)-1):\n",
    "        #print(i, c, InputStatepathsequence[i+1])\n",
    "        probability *= transitionProbabilities[InputStatepathsequence[i]][InputStatepathsequence[i+1]]\n",
    "        probability *= emissionProbabilities[InputStatepathsequence[i]][InputDNAsequence[i]]\n",
    "    else:\n",
    "        probability *= emissionProbabilities[InputStatepathsequence[i]][InputDNAsequence[i]]       \n",
    "print(np.log(probability)/np.log(10))"
   ]
  },
  {
   "cell_type": "code",
   "execution_count": 7,
   "metadata": {},
   "outputs": [
    {
     "name": "stdout",
     "output_type": "stream",
     "text": [
      "-18.37859981958985\n"
     ]
    }
   ],
   "source": [
    "#if initial prior is also considered\n",
    "print(np.log(probability*(1/3))/np.log(10))"
   ]
  }
 ],
 "metadata": {
  "kernelspec": {
   "display_name": "Python 3",
   "language": "python",
   "name": "python3"
  },
  "language_info": {
   "codemirror_mode": {
    "name": "ipython",
    "version": 3
   },
   "file_extension": ".py",
   "mimetype": "text/x-python",
   "name": "python",
   "nbconvert_exporter": "python",
   "pygments_lexer": "ipython3",
   "version": "3.7.1"
  }
 },
 "nbformat": 4,
 "nbformat_minor": 2
}
