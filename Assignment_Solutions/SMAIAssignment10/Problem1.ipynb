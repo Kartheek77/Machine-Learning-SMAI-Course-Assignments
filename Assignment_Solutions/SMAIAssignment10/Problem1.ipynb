{
 "cells": [
  {
   "cell_type": "markdown",
   "metadata": {},
   "source": [
    "# part1"
   ]
  },
  {
   "cell_type": "code",
   "execution_count": 3,
   "metadata": {},
   "outputs": [],
   "source": [
    "import numpy as np\n",
    "import pandas as pd\n",
    "import matplotlib.pyplot as plt\n",
    "import tensorflow as tf\n",
    "from sklearn.preprocessing import MinMaxScaler\n",
    "from tensorflow.python.keras.initializers import RandomUniform"
   ]
  },
  {
   "cell_type": "code",
   "execution_count": 4,
   "metadata": {},
   "outputs": [],
   "source": [
    "from tensorflow.python.keras.models import Sequential\n",
    "#from tensorflow.keras.layers import Dense,LSTM,Dropout"
   ]
  },
  {
   "cell_type": "code",
   "execution_count": 5,
   "metadata": {},
   "outputs": [],
   "source": [
    "#from tensorflow.python.keras.models import Sequential\n",
    "from tensorflow.python.keras.layers import Input, Dense, GRU, Embedding,LSTM,Dropout\n",
    "from tensorflow.python.keras.optimizers import RMSprop\n",
    "from tensorflow.python.keras.callbacks import EarlyStopping, ModelCheckpoint, TensorBoard, ReduceLROnPlateau"
   ]
  },
  {
   "cell_type": "code",
   "execution_count": 113,
   "metadata": {},
   "outputs": [],
   "source": [
    "GivenData = pd.read_csv('GoogleStocks.csv')"
   ]
  },
  {
   "cell_type": "code",
   "execution_count": 114,
   "metadata": {},
   "outputs": [],
   "source": [
    "GivenData = GivenData.iloc[::-1]"
   ]
  },
  {
   "cell_type": "code",
   "execution_count": 115,
   "metadata": {},
   "outputs": [],
   "source": [
    "GivenData['avgHighLow'] = (GivenData['high']+GivenData['low'])/2"
   ]
  },
  {
   "cell_type": "code",
   "execution_count": 116,
   "metadata": {},
   "outputs": [],
   "source": [
    "ConsideredGivenData  = GivenData[['date','avgHighLow','volume','open']]"
   ]
  },
  {
   "cell_type": "code",
   "execution_count": 117,
   "metadata": {},
   "outputs": [],
   "source": [
    "ConsideredGivenDataShifted = ConsideredGivenData.shift(-1)"
   ]
  },
  {
   "cell_type": "code",
   "execution_count": 118,
   "metadata": {},
   "outputs": [],
   "source": [
    "Xdata = ConsideredGivenData[['avgHighLow','volume']].values[0:-1]#,'open']]"
   ]
  },
  {
   "cell_type": "code",
   "execution_count": 11,
   "metadata": {},
   "outputs": [],
   "source": [
    "#Xdata = ConsideredGivenData[['avgHighLow','volume','open']]#.values[0:-1]"
   ]
  },
  {
   "cell_type": "code",
   "execution_count": 119,
   "metadata": {},
   "outputs": [],
   "source": [
    "Ydata = ConsideredGivenDataShifted['open'].values[:-1]"
   ]
  },
  {
   "cell_type": "code",
   "execution_count": 120,
   "metadata": {},
   "outputs": [
    {
     "name": "stdout",
     "output_type": "stream",
     "text": [
      "<class 'numpy.ndarray'>\n",
      "(754, 2)\n",
      "(754, 1)\n"
     ]
    }
   ],
   "source": [
    "print(type(Xdata))\n",
    "print(Xdata.shape)\n",
    "#print(type(Ydata))\n",
    "#print(Ydata.shape)\n",
    "Ydata = Ydata.reshape(len(Ydata),1)\n",
    "print(Ydata.shape)"
   ]
  },
  {
   "cell_type": "code",
   "execution_count": 121,
   "metadata": {},
   "outputs": [
    {
     "data": {
      "text/plain": [
       "array([[7.35745000e+02, 1.30081700e+06],\n",
       "       [7.38005000e+02, 1.90225400e+06],\n",
       "       [7.53310000e+02, 1.78227800e+06],\n",
       "       ...,\n",
       "       [1.22247000e+03, 1.19589900e+06],\n",
       "       [1.21641250e+03, 1.66891000e+06],\n",
       "       [1.19671875e+03, 1.49384100e+06]])"
      ]
     },
     "execution_count": 121,
     "metadata": {},
     "output_type": "execute_result"
    }
   ],
   "source": [
    "Xdata"
   ]
  },
  {
   "cell_type": "code",
   "execution_count": 122,
   "metadata": {},
   "outputs": [],
   "source": [
    "Xdata = np.c_[Xdata,Ydata]"
   ]
  },
  {
   "cell_type": "code",
   "execution_count": 123,
   "metadata": {},
   "outputs": [
    {
     "data": {
      "text/plain": [
       "array([[7.35745000e+02, 1.30081700e+06, 7.34590000e+02],\n",
       "       [7.38005000e+02, 1.90225400e+06, 7.50100000e+02],\n",
       "       [7.53310000e+02, 1.78227800e+06, 7.49250000e+02],\n",
       "       ...,\n",
       "       [1.22247000e+03, 1.19589900e+06, 1.22632000e+03],\n",
       "       [1.21641250e+03, 1.66891000e+06, 1.19693000e+03],\n",
       "       [1.19671875e+03, 1.49384100e+06, 1.19853000e+03]])"
      ]
     },
     "execution_count": 123,
     "metadata": {},
     "output_type": "execute_result"
    }
   ],
   "source": [
    "Xdata"
   ]
  },
  {
   "cell_type": "code",
   "execution_count": 124,
   "metadata": {},
   "outputs": [],
   "source": [
    "Xtrain = Xdata[0:int(0.8*len(Xdata))]\n",
    "Xtest = Xdata[int(0.8*len(Xdata)):]\n",
    "#Ytrain = Ydata[0:int(0.8*len(Xdata))]\n",
    "#Ytest = Ydata[int(0.8*len(Xdata)):]"
   ]
  },
  {
   "cell_type": "code",
   "execution_count": 125,
   "metadata": {},
   "outputs": [
    {
     "data": {
      "text/plain": [
       "603"
      ]
     },
     "execution_count": 125,
     "metadata": {},
     "output_type": "execute_result"
    }
   ],
   "source": [
    "len(Xtrain)"
   ]
  },
  {
   "cell_type": "code",
   "execution_count": 126,
   "metadata": {},
   "outputs": [
    {
     "data": {
      "text/plain": [
       "151"
      ]
     },
     "execution_count": 126,
     "metadata": {},
     "output_type": "execute_result"
    }
   ],
   "source": [
    "len(Xtest)"
   ]
  },
  {
   "cell_type": "code",
   "execution_count": 127,
   "metadata": {
    "scrolled": true
   },
   "outputs": [],
   "source": [
    "Xscaler = MinMaxScaler()\n",
    "XtrainScaled = Xscaler.fit_transform(Xtrain)\n",
    "XtestScaled = Xscaler.transform(Xtest)"
   ]
  },
  {
   "cell_type": "code",
   "execution_count": 128,
   "metadata": {},
   "outputs": [
    {
     "data": {
      "text/plain": [
       "array([[0.92373201, 0.14465767, 0.88505   ],\n",
       "       [0.89728701, 0.15606399, 0.89003333],\n",
       "       [0.90435796, 0.06049953, 0.895     ],\n",
       "       [0.91448916, 0.12025193, 0.88166667],\n",
       "       [0.90876429, 0.06364048, 0.89356667],\n",
       "       [0.92117125, 0.08341729, 0.89636667],\n",
       "       [0.92327469, 0.07566146, 0.92766667],\n",
       "       [0.95775489, 0.11416957, 0.95048333],\n",
       "       [0.95980778, 0.14032471, 0.94408333],\n",
       "       [0.97314763, 0.14021516, 0.95538333],\n",
       "       [0.97247674, 0.14470866, 0.93996667],\n",
       "       [0.94181465, 0.23562534, 0.88878333],\n",
       "       [0.90424268, 0.23343476, 0.87133333],\n",
       "       [0.86664959, 0.27837034, 0.85883333],\n",
       "       [0.84745632, 0.24935674, 0.81278333],\n",
       "       [0.84253326, 0.15963152, 0.83531667],\n",
       "       [0.84437149, 0.10683442, 0.81771667],\n",
       "       [0.84459968, 0.12418472, 0.8362    ],\n",
       "       [0.84633226, 0.13935884, 0.8329    ],\n",
       "       [0.85012703, 0.15981091, 0.84683333],\n",
       "       [0.85629206, 0.07340214, 0.8319    ],\n",
       "       [0.84151484, 0.13711283, 0.81015   ],\n",
       "       [0.84312065, 0.11960956, 0.8233    ],\n",
       "       [0.83857368, 0.11977842, 0.84831667],\n",
       "       [0.86854309, 0.12431109, 0.86833333],\n",
       "       [0.86431728, 0.70702808, 0.81028333],\n",
       "       [0.83613962, 0.12591417, 0.84191667],\n",
       "       [0.86146909, 0.07400757, 0.85691667],\n",
       "       [0.87339854, 0.14954414, 0.85955   ],\n",
       "       [0.8875423 , 0.13067076, 0.86811667],\n",
       "       [0.88262347, 0.1422258 , 0.88148333],\n",
       "       [0.89977178, 0.14932539, 0.8666    ],\n",
       "       [0.89672075, 0.2066631 , 0.89      ],\n",
       "       [0.89980559, 0.12383536, 0.87388333],\n",
       "       [0.85995287, 0.29832895, 0.8275    ],\n",
       "       [0.83082347, 0.11957963, 0.79851667],\n",
       "       [0.81116816, 0.24759275, 0.79191667],\n",
       "       [0.80825945, 0.14257387, 0.7668    ],\n",
       "       [0.74181122, 0.37651964, 0.6699    ],\n",
       "       [0.70916265, 0.44386659, 0.72833333],\n",
       "       [0.73175549, 0.2758097 , 0.72985   ],\n",
       "       [0.73263818, 0.14895238, 0.72265   ],\n",
       "       [0.75315327, 0.24174521, 0.7591    ],\n",
       "       [0.75692269, 0.15899949, 0.7514    ],\n",
       "       [0.72966625, 0.28074882, 0.70395   ],\n",
       "       [0.72897322, 0.13442618, 0.7201    ],\n",
       "       [0.73330045, 0.17685969, 0.68315   ],\n",
       "       [0.71188407, 0.24217143, 0.72208333],\n",
       "       [0.69242001, 0.25367437, 0.66798333],\n",
       "       [0.71411529, 0.3648617 , 0.61005   ],\n",
       "       [0.68038492, 0.67400798, 0.68578333],\n",
       "       [0.64002849, 0.61644764, 0.56243333],\n",
       "       [0.59385735, 0.49367756, 0.64801667],\n",
       "       [0.68741666, 0.36794703, 0.67466667],\n",
       "       [0.68529953, 0.16982753, 0.67121667],\n",
       "       [0.67781986, 0.23875299, 0.64      ],\n",
       "       [0.62890618, 0.35097917, 0.61413333],\n",
       "       [0.64809555, 0.12714553, 0.66333333],\n",
       "       [0.69791356, 0.28085025, 0.70063333],\n",
       "       [0.70139123, 0.17108384, 0.67165   ],\n",
       "       [0.67028525, 0.14893816, 0.65065   ],\n",
       "       [0.64023978, 0.16485719, 0.62048333],\n",
       "       [0.63570549, 0.1772752 , 0.63166667],\n",
       "       [0.633854  , 0.18930653, 0.62285   ],\n",
       "       [0.64912242, 0.23687537, 0.64735   ],\n",
       "       [0.65956016, 0.20400824, 0.64366667],\n",
       "       [0.62665813, 0.24021473, 0.54833333],\n",
       "       [0.58500007, 0.35292127, 0.6096    ],\n",
       "       [0.63086695, 0.1837677 , 0.59833333],\n",
       "       [0.61223893, 0.02853768, 0.61225   ],\n",
       "       [0.63187269, 0.24191869, 0.61666667],\n",
       "       [0.64273301, 0.23358717, 0.6296    ],\n",
       "       [0.66515512, 0.34407541, 0.67513333],\n",
       "       [0.70542281, 0.1600945 , 0.69678333],\n",
       "       [0.70813155, 0.37271951, 0.75356667],\n",
       "       [0.75450088, 0.25188136, 0.7202    ],\n",
       "       [0.69203124, 0.32168844, 0.60543333],\n",
       "       [0.64771954, 0.41034988, 0.64835   ],\n",
       "       [0.64923229, 0.28849357, 0.60675   ],\n",
       "       [0.62217024, 0.23213337, 0.64248333],\n",
       "       [0.64642636, 0.15108071, 0.66166667],\n",
       "       [0.68361344, 0.1822158 , 0.66178333],\n",
       "       [0.67452771, 0.14635978, 0.63163333],\n",
       "       [0.64891958, 0.21224257, 0.61085   ],\n",
       "       [0.61313547, 0.33266835, 0.59181667],\n",
       "       [0.62147721, 0.28910842, 0.60498333],\n",
       "       [0.62074192, 0.34776081, 0.57855   ],\n",
       "       [0.58738342, 0.39205015, 0.57383333],\n",
       "       [0.55960298, 0.74333064, 0.50483333],\n",
       "       [0.53926841, 0.19460369, 0.53001667],\n",
       "       [0.5809771 , 0.33259094, 0.57691667],\n",
       "       [0.59609703, 0.28914814, 0.63103333],\n",
       "       [0.63647036, 0.15929601, 0.63326667],\n",
       "       [0.62601572, 0.17653749, 0.57595   ],\n",
       "       [0.6190347 , 0.18099737, 0.61666667],\n",
       "       [0.62158708, 0.2387685 , 0.60265   ],\n",
       "       [0.64458213, 0.28509748, 0.6675    ],\n",
       "       [0.67036123, 0.26624055, 0.67518333],\n",
       "       [0.68416279, 0.22380223, 0.68441667],\n",
       "       [0.68749273, 0.12218904, 0.6611    ],\n",
       "       [0.67044583, 0.16774983, 0.65363333],\n",
       "       [0.65641194, 0.18025282, 0.62653333],\n",
       "       [0.63995665, 0.10908062, 0.63195   ],\n",
       "       [0.66920345, 0.16909149, 0.68166667],\n",
       "       [0.7066652 , 0.14475836, 0.68078333],\n",
       "       [0.70124349, 0.12686416, 0.715     ],\n",
       "       [0.7299384 , 0.25805185, 0.695     ],\n",
       "       [0.69252143, 0.19775739, 0.67725   ],\n",
       "       [0.68381628, 0.07750841, 0.6758    ],\n",
       "       [0.68000883, 0.14423884, 0.69      ],\n",
       "       [0.71013459, 0.10674685, 0.68185   ],\n",
       "       [0.68560802, 0.1368538 , 0.66946667],\n",
       "       [0.6722669 , 0.08678381, 0.66238333],\n",
       "       [0.69494705, 0.13020556, 0.72      ],\n",
       "       [0.74133793, 0.18372835, 0.73566667],\n",
       "       [0.75583243, 0.16971428, 0.7361    ],\n",
       "       [0.7659152 , 0.36602563, 0.7564    ],\n",
       "       [0.7847437 , 0.55295441, 0.78095   ],\n",
       "       [0.78108584, 0.28907516, 0.72193333],\n",
       "       [0.7228289 , 0.27779448, 0.69333333],\n",
       "       [0.71828194, 0.09884802, 0.70991667],\n",
       "       [0.72956061, 0.09733196, 0.72633333],\n",
       "       [0.75689311, 0.19799017, 0.75665   ],\n",
       "       [0.77555849, 0.09452468, 0.74508333],\n",
       "       [0.76325717, 0.07476523, 0.76513333],\n",
       "       [0.76633778, 0.16728518, 0.73166667],\n",
       "       [0.75752276, 0.09409698, 0.74831667],\n",
       "       [0.75481824, 0.10034691, 0.73306667],\n",
       "       [0.73433999, 0.16216445, 0.7165    ],\n",
       "       [0.73635148, 0.09447498, 0.74166667],\n",
       "       [0.75238418, 0.15856865, 0.72458333],\n",
       "       [0.74699205, 0.17232887, 0.72658333],\n",
       "       [0.74661173, 0.07969512, 0.73383333],\n",
       "       [0.76324449, 0.18550288, 0.7565    ],\n",
       "       [0.78780487, 0.16820764, 0.79331667],\n",
       "       [0.80576488, 0.16771251, 0.79843333],\n",
       "       [0.82844443, 0.16357096, 0.81915   ],\n",
       "       [0.83457252, 0.10292529, 0.80786667],\n",
       "       [0.80804225, 0.11622289, 0.75955   ],\n",
       "       [0.790053  , 0.12475745, 0.78908333],\n",
       "       [0.83253078, 0.19072467, 0.84543333],\n",
       "       [0.88122895, 0.27256437, 0.88274167],\n",
       "       [0.89357675, 0.16587276, 0.87251667],\n",
       "       [0.88469411, 0.11342836, 0.87063333],\n",
       "       [0.8820065 , 0.35483214, 0.85383333],\n",
       "       [0.87206834, 0.12480086, 0.86301667],\n",
       "       [0.88766063, 0.16033893, 0.87725   ],\n",
       "       [0.91930345, 0.28680144, 0.90833333],\n",
       "       [0.93758428, 0.12173271, 0.92553333],\n",
       "       [0.92734515, 0.20912176, 0.87655   ],\n",
       "       [0.89405638, 0.17677767, 0.87921667]])"
      ]
     },
     "execution_count": 128,
     "metadata": {},
     "output_type": "execute_result"
    }
   ],
   "source": [
    "XtestScaled"
   ]
  },
  {
   "cell_type": "code",
   "execution_count": 130,
   "metadata": {},
   "outputs": [
    {
     "data": {
      "text/plain": [
       "array([0.93996667, 0.88878333, 0.87133333, 0.85883333, 0.81278333,\n",
       "       0.83531667, 0.81771667, 0.8362    , 0.8329    , 0.84683333,\n",
       "       0.8319    , 0.81015   , 0.8233    , 0.84831667, 0.86833333,\n",
       "       0.81028333, 0.84191667, 0.85691667, 0.85955   , 0.86811667])"
      ]
     },
     "execution_count": 130,
     "metadata": {},
     "output_type": "execute_result"
    }
   ],
   "source": [
    "XtestScaled[10:30,2]"
   ]
  },
  {
   "cell_type": "code",
   "execution_count": 150,
   "metadata": {},
   "outputs": [],
   "source": [
    "from hmmlearn.hmm import GaussianHMM\n",
    "from hmmlearn.hmm import GMMHMM"
   ]
  },
  {
   "cell_type": "code",
   "execution_count": 132,
   "metadata": {},
   "outputs": [],
   "source": [
    "n_hidden_states = 3\n",
    "n_latency_days = 10"
   ]
  },
  {
   "cell_type": "code",
   "execution_count": 155,
   "metadata": {
    "scrolled": true
   },
   "outputs": [],
   "source": [
    "hmm1 = GaussianHMM(n_components=n_hidden_states,covariance_type=\"full\")"
   ]
  },
  {
   "cell_type": "code",
   "execution_count": 156,
   "metadata": {},
   "outputs": [],
   "source": [
    "feature_vector = np.column_stack((XtrainScaled[:,0], XtrainScaled[:,1], XtrainScaled[:,2]))"
   ]
  },
  {
   "cell_type": "code",
   "execution_count": 153,
   "metadata": {},
   "outputs": [],
   "source": [
    "hmm1.n_features = 3"
   ]
  },
  {
   "cell_type": "code",
   "execution_count": 161,
   "metadata": {
    "scrolled": false
   },
   "outputs": [
    {
     "data": {
      "text/plain": [
       "GaussianHMM(algorithm='viterbi', covariance_type='full', covars_prior=0.01,\n",
       "      covars_weight=1, init_params='stmc', means_prior=0, means_weight=0,\n",
       "      min_covar=0.001, n_components=3, n_iter=10, params='stmc',\n",
       "      random_state=None, startprob_prior=1.0, tol=0.01, transmat_prior=1.0,\n",
       "      verbose=False)"
      ]
     },
     "execution_count": 161,
     "metadata": {},
     "output_type": "execute_result"
    }
   ],
   "source": [
    "hmm1.fit(feature_vector)"
   ]
  },
  {
   "cell_type": "code",
   "execution_count": 159,
   "metadata": {},
   "outputs": [
    {
     "data": {
      "text/plain": [
       "603"
      ]
     },
     "execution_count": 159,
     "metadata": {},
     "output_type": "execute_result"
    }
   ],
   "source": [
    "len(hmm1.predict(feature_vector))"
   ]
  },
  {
   "cell_type": "code",
   "execution_count": 140,
   "metadata": {},
   "outputs": [
    {
     "data": {
      "text/plain": [
       "True"
      ]
     },
     "execution_count": 140,
     "metadata": {},
     "output_type": "execute_result"
    }
   ],
   "source": [
    "hmm1.monitor_.converged"
   ]
  },
  {
   "cell_type": "code",
   "execution_count": 171,
   "metadata": {},
   "outputs": [
    {
     "data": {
      "text/plain": [
       "array([0.09900965, 0.18928405, 0.08725144])"
      ]
     },
     "execution_count": 171,
     "metadata": {},
     "output_type": "execute_result"
    }
   ],
   "source": [
    "np.mean(hmm1.sample(1)[0],axis = 0)"
   ]
  },
  {
   "cell_type": "code",
   "execution_count": 141,
   "metadata": {},
   "outputs": [],
   "source": [
    "from itertools import product\n",
    "AvgHighLowStock = np.linspace(0.1, 1, 10)\n",
    "VolumeOfStock = np.linspace(0.1, 1, 10)\n",
    "openingStock = np.linspace(0.1, 1, 10)\n",
    "possible_outcomes = np.array(list(product(AvgHighLowStock, VolumeOfStock, openingStock)))"
   ]
  },
  {
   "cell_type": "code",
   "execution_count": 75,
   "metadata": {},
   "outputs": [],
   "source": [
    "possible_outcomes = hmm1.sample(1000)[0]"
   ]
  },
  {
   "cell_type": "code",
   "execution_count": 142,
   "metadata": {},
   "outputs": [
    {
     "data": {
      "text/plain": [
       "array([[0.1, 0.1, 0.1],\n",
       "       [0.1, 0.1, 0.2],\n",
       "       [0.1, 0.1, 0.3],\n",
       "       ...,\n",
       "       [1. , 1. , 0.8],\n",
       "       [1. , 1. , 0.9],\n",
       "       [1. , 1. , 1. ]])"
      ]
     },
     "execution_count": 142,
     "metadata": {},
     "output_type": "execute_result"
    }
   ],
   "source": [
    "possible_outcomes"
   ]
  },
  {
   "cell_type": "code",
   "execution_count": 236,
   "metadata": {},
   "outputs": [],
   "source": [
    "def _get_most_probable_outcome(day_index):\n",
    "    previous_data_start_index = max(0, day_index - n_latency_days)\n",
    "    print(n_latency_days)\n",
    "    previous_data_end_index = max(0, day_index - 1)\n",
    "    previous_data_features = XtestScaled[previous_data_start_index:previous_data_end_index,:]\n",
    "    #previous_data = self._test_data.iloc[previous_data_end_index: previous_data_start_index]\n",
    "    #previous_data_features = StockPredictor._extract_features(previous_data)\n",
    "\n",
    "    outcome_score = []\n",
    "    for possible_outcome in possible_outcomes:\n",
    "        total_data = np.row_stack((previous_data_features, possible_outcome))\n",
    "        outcome_score.append(hmm1.score(total_data))\n",
    "    most_probable_outcome = possible_outcomes[np.argmax(outcome_score)] \n",
    "    return most_probable_outcome\n",
    " \n",
    "def predict_open_price(day_index):\n",
    "    #open_price = self._test_data.iloc[day_index]['open']\n",
    "    _, _,predicted_open_price = _get_most_probable_outcome(day_index)\n",
    "    return predicted_open_price\n",
    "    #return open_price * (1 + predicted_frac_change)"
   ]
  },
  {
   "cell_type": "code",
   "execution_count": 61,
   "metadata": {},
   "outputs": [],
   "source": [
    " def predict_open_prices_for_days(days, with_plot=True):\n",
    "        predicted_open_prices = []\n",
    "        for day_index in tqdm(range(20,days)):\n",
    "            predicted_open_prices.append(predict_open_price(day_index))\n",
    "        #predicted_open_prices = Xscaler.inverse_transform(predicted_open_prices)\n",
    " \n",
    "        if with_plot:\n",
    "            test_data = XtestScaled[20:days,2]\n",
    "            plt.figure(figsize=(15,5))\n",
    "            plt.plot(test_data, label='true')\n",
    "            plt.plot(predicted_open_prices, label='pred')\n",
    "            #test_data = self._test_data[0: days]\n",
    "            #days = np.array(test_data['date'], dtype=\"datetime64[ms]\")\n",
    "            #actual_close_prices = test_data['close']\n",
    " \n",
    "            #fig = plt.figure()\n",
    " \n",
    "            #axes = fig.add_subplot(111)\n",
    "            #axes.plot(days, actual_close_prices, 'bo-', label=\"actual\")\n",
    "            #axes.plot(days, predicted_close_prices, 'r+-', label=\"predicted\")\n",
    "            #axes.set_title('{company}'.format(company=self.company))\n",
    " \n",
    "            #fig.autofmt_xdate()\n",
    " \n",
    "            plt.legend()\n",
    "            plt.show()\n",
    " \n",
    "        return predicted_open_prices"
   ]
  },
  {
   "cell_type": "code",
   "execution_count": 237,
   "metadata": {},
   "outputs": [
    {
     "name": "stderr",
     "output_type": "stream",
     "text": [
      "\r",
      "  0%|                                                   | 0/30 [00:00<?, ?it/s]"
     ]
    },
    {
     "name": "stdout",
     "output_type": "stream",
     "text": [
      "10\n"
     ]
    },
    {
     "name": "stderr",
     "output_type": "stream",
     "text": [
      "\r",
      "  3%|█▍                                         | 1/30 [00:01<00:29,  1.03s/it]"
     ]
    },
    {
     "name": "stdout",
     "output_type": "stream",
     "text": [
      "10\n"
     ]
    },
    {
     "name": "stderr",
     "output_type": "stream",
     "text": [
      "\r",
      "  7%|██▊                                        | 2/30 [00:02<00:28,  1.02s/it]"
     ]
    },
    {
     "name": "stdout",
     "output_type": "stream",
     "text": [
      "10\n"
     ]
    },
    {
     "name": "stderr",
     "output_type": "stream",
     "text": [
      "\r",
      " 10%|████▎                                      | 3/30 [00:03<00:27,  1.02s/it]"
     ]
    },
    {
     "name": "stdout",
     "output_type": "stream",
     "text": [
      "10\n"
     ]
    },
    {
     "name": "stderr",
     "output_type": "stream",
     "text": [
      "\r",
      " 13%|█████▋                                     | 4/30 [00:04<00:26,  1.02s/it]"
     ]
    },
    {
     "name": "stdout",
     "output_type": "stream",
     "text": [
      "10\n"
     ]
    },
    {
     "name": "stderr",
     "output_type": "stream",
     "text": [
      "\r",
      " 17%|███████▏                                   | 5/30 [00:05<00:25,  1.01s/it]"
     ]
    },
    {
     "name": "stdout",
     "output_type": "stream",
     "text": [
      "10\n"
     ]
    },
    {
     "name": "stderr",
     "output_type": "stream",
     "text": [
      "\r",
      " 20%|████████▌                                  | 6/30 [00:06<00:24,  1.01s/it]"
     ]
    },
    {
     "name": "stdout",
     "output_type": "stream",
     "text": [
      "10\n"
     ]
    },
    {
     "name": "stderr",
     "output_type": "stream",
     "text": [
      "\r",
      " 23%|██████████                                 | 7/30 [00:07<00:23,  1.04s/it]"
     ]
    },
    {
     "name": "stdout",
     "output_type": "stream",
     "text": [
      "10\n"
     ]
    },
    {
     "name": "stderr",
     "output_type": "stream",
     "text": [
      "\r",
      " 27%|███████████▍                               | 8/30 [00:08<00:23,  1.05s/it]"
     ]
    },
    {
     "name": "stdout",
     "output_type": "stream",
     "text": [
      "10\n"
     ]
    },
    {
     "name": "stderr",
     "output_type": "stream",
     "text": [
      "\r",
      " 30%|████████████▉                              | 9/30 [00:09<00:22,  1.05s/it]"
     ]
    },
    {
     "name": "stdout",
     "output_type": "stream",
     "text": [
      "10\n"
     ]
    },
    {
     "name": "stderr",
     "output_type": "stream",
     "text": [
      "\n"
     ]
    },
    {
     "ename": "KeyboardInterrupt",
     "evalue": "",
     "output_type": "error",
     "traceback": [
      "\u001b[1;31m---------------------------------------------------------------------------\u001b[0m",
      "\u001b[1;31mKeyboardInterrupt\u001b[0m                         Traceback (most recent call last)",
      "\u001b[1;32m<ipython-input-237-361aab44fae1>\u001b[0m in \u001b[0;36m<module>\u001b[1;34m\u001b[0m\n\u001b[1;32m----> 1\u001b[1;33m \u001b[0mpredict_open_prices_for_days\u001b[0m\u001b[1;33m(\u001b[0m\u001b[1;36m50\u001b[0m\u001b[1;33m,\u001b[0m\u001b[1;32mTrue\u001b[0m\u001b[1;33m)\u001b[0m\u001b[1;33m\u001b[0m\u001b[1;33m\u001b[0m\u001b[0m\n\u001b[0m",
      "\u001b[1;32m<ipython-input-61-3a058c470c37>\u001b[0m in \u001b[0;36mpredict_open_prices_for_days\u001b[1;34m(days, with_plot)\u001b[0m\n\u001b[0;32m      2\u001b[0m        \u001b[0mpredicted_open_prices\u001b[0m \u001b[1;33m=\u001b[0m \u001b[1;33m[\u001b[0m\u001b[1;33m]\u001b[0m\u001b[1;33m\u001b[0m\u001b[1;33m\u001b[0m\u001b[0m\n\u001b[0;32m      3\u001b[0m        \u001b[1;32mfor\u001b[0m \u001b[0mday_index\u001b[0m \u001b[1;32min\u001b[0m \u001b[0mtqdm\u001b[0m\u001b[1;33m(\u001b[0m\u001b[0mrange\u001b[0m\u001b[1;33m(\u001b[0m\u001b[1;36m20\u001b[0m\u001b[1;33m,\u001b[0m\u001b[0mdays\u001b[0m\u001b[1;33m)\u001b[0m\u001b[1;33m)\u001b[0m\u001b[1;33m:\u001b[0m\u001b[1;33m\u001b[0m\u001b[1;33m\u001b[0m\u001b[0m\n\u001b[1;32m----> 4\u001b[1;33m            \u001b[0mpredicted_open_prices\u001b[0m\u001b[1;33m.\u001b[0m\u001b[0mappend\u001b[0m\u001b[1;33m(\u001b[0m\u001b[0mpredict_open_price\u001b[0m\u001b[1;33m(\u001b[0m\u001b[0mday_index\u001b[0m\u001b[1;33m)\u001b[0m\u001b[1;33m)\u001b[0m\u001b[1;33m\u001b[0m\u001b[1;33m\u001b[0m\u001b[0m\n\u001b[0m\u001b[0;32m      5\u001b[0m        \u001b[1;31m#predicted_open_prices = Xscaler.inverse_transform(predicted_open_prices)\u001b[0m\u001b[1;33m\u001b[0m\u001b[1;33m\u001b[0m\u001b[1;33m\u001b[0m\u001b[0m\n\u001b[0;32m      6\u001b[0m \u001b[1;33m\u001b[0m\u001b[0m\n",
      "\u001b[1;32m<ipython-input-236-71222c0cbad2>\u001b[0m in \u001b[0;36mpredict_open_price\u001b[1;34m(day_index)\u001b[0m\n\u001b[0;32m     16\u001b[0m \u001b[1;32mdef\u001b[0m \u001b[0mpredict_open_price\u001b[0m\u001b[1;33m(\u001b[0m\u001b[0mday_index\u001b[0m\u001b[1;33m)\u001b[0m\u001b[1;33m:\u001b[0m\u001b[1;33m\u001b[0m\u001b[1;33m\u001b[0m\u001b[0m\n\u001b[0;32m     17\u001b[0m     \u001b[1;31m#open_price = self._test_data.iloc[day_index]['open']\u001b[0m\u001b[1;33m\u001b[0m\u001b[1;33m\u001b[0m\u001b[1;33m\u001b[0m\u001b[0m\n\u001b[1;32m---> 18\u001b[1;33m     \u001b[0m_\u001b[0m\u001b[1;33m,\u001b[0m \u001b[0m_\u001b[0m\u001b[1;33m,\u001b[0m\u001b[0mpredicted_open_price\u001b[0m \u001b[1;33m=\u001b[0m \u001b[0m_get_most_probable_outcome\u001b[0m\u001b[1;33m(\u001b[0m\u001b[0mday_index\u001b[0m\u001b[1;33m)\u001b[0m\u001b[1;33m\u001b[0m\u001b[1;33m\u001b[0m\u001b[0m\n\u001b[0m\u001b[0;32m     19\u001b[0m     \u001b[1;32mreturn\u001b[0m \u001b[0mpredicted_open_price\u001b[0m\u001b[1;33m\u001b[0m\u001b[1;33m\u001b[0m\u001b[0m\n\u001b[0;32m     20\u001b[0m     \u001b[1;31m#return open_price * (1 + predicted_frac_change)\u001b[0m\u001b[1;33m\u001b[0m\u001b[1;33m\u001b[0m\u001b[1;33m\u001b[0m\u001b[0m\n",
      "\u001b[1;32m<ipython-input-236-71222c0cbad2>\u001b[0m in \u001b[0;36m_get_most_probable_outcome\u001b[1;34m(day_index)\u001b[0m\n\u001b[0;32m     10\u001b[0m     \u001b[1;32mfor\u001b[0m \u001b[0mpossible_outcome\u001b[0m \u001b[1;32min\u001b[0m \u001b[0mpossible_outcomes\u001b[0m\u001b[1;33m:\u001b[0m\u001b[1;33m\u001b[0m\u001b[1;33m\u001b[0m\u001b[0m\n\u001b[0;32m     11\u001b[0m         \u001b[0mtotal_data\u001b[0m \u001b[1;33m=\u001b[0m \u001b[0mnp\u001b[0m\u001b[1;33m.\u001b[0m\u001b[0mrow_stack\u001b[0m\u001b[1;33m(\u001b[0m\u001b[1;33m(\u001b[0m\u001b[0mprevious_data_features\u001b[0m\u001b[1;33m,\u001b[0m \u001b[0mpossible_outcome\u001b[0m\u001b[1;33m)\u001b[0m\u001b[1;33m)\u001b[0m\u001b[1;33m\u001b[0m\u001b[1;33m\u001b[0m\u001b[0m\n\u001b[1;32m---> 12\u001b[1;33m         \u001b[0moutcome_score\u001b[0m\u001b[1;33m.\u001b[0m\u001b[0mappend\u001b[0m\u001b[1;33m(\u001b[0m\u001b[0mhmm1\u001b[0m\u001b[1;33m.\u001b[0m\u001b[0mscore\u001b[0m\u001b[1;33m(\u001b[0m\u001b[0mtotal_data\u001b[0m\u001b[1;33m)\u001b[0m\u001b[1;33m)\u001b[0m\u001b[1;33m\u001b[0m\u001b[1;33m\u001b[0m\u001b[0m\n\u001b[0m\u001b[0;32m     13\u001b[0m     \u001b[0mmost_probable_outcome\u001b[0m \u001b[1;33m=\u001b[0m \u001b[0mpossible_outcomes\u001b[0m\u001b[1;33m[\u001b[0m\u001b[0mnp\u001b[0m\u001b[1;33m.\u001b[0m\u001b[0margmax\u001b[0m\u001b[1;33m(\u001b[0m\u001b[0moutcome_score\u001b[0m\u001b[1;33m)\u001b[0m\u001b[1;33m]\u001b[0m\u001b[1;33m\u001b[0m\u001b[1;33m\u001b[0m\u001b[0m\n\u001b[0;32m     14\u001b[0m     \u001b[1;32mreturn\u001b[0m \u001b[0mmost_probable_outcome\u001b[0m\u001b[1;33m\u001b[0m\u001b[1;33m\u001b[0m\u001b[0m\n",
      "\u001b[1;32mC:\\ProgramData\\Anaconda3\\lib\\site-packages\\hmmlearn\\base.py\u001b[0m in \u001b[0;36mscore\u001b[1;34m(self, X, lengths)\u001b[0m\n\u001b[0;32m    248\u001b[0m         \u001b[1;32mfor\u001b[0m \u001b[0mi\u001b[0m\u001b[1;33m,\u001b[0m \u001b[0mj\u001b[0m \u001b[1;32min\u001b[0m \u001b[0miter_from_X_lengths\u001b[0m\u001b[1;33m(\u001b[0m\u001b[0mX\u001b[0m\u001b[1;33m,\u001b[0m \u001b[0mlengths\u001b[0m\u001b[1;33m)\u001b[0m\u001b[1;33m:\u001b[0m\u001b[1;33m\u001b[0m\u001b[1;33m\u001b[0m\u001b[0m\n\u001b[0;32m    249\u001b[0m             \u001b[0mframelogprob\u001b[0m \u001b[1;33m=\u001b[0m \u001b[0mself\u001b[0m\u001b[1;33m.\u001b[0m\u001b[0m_compute_log_likelihood\u001b[0m\u001b[1;33m(\u001b[0m\u001b[0mX\u001b[0m\u001b[1;33m[\u001b[0m\u001b[0mi\u001b[0m\u001b[1;33m:\u001b[0m\u001b[0mj\u001b[0m\u001b[1;33m]\u001b[0m\u001b[1;33m)\u001b[0m\u001b[1;33m\u001b[0m\u001b[1;33m\u001b[0m\u001b[0m\n\u001b[1;32m--> 250\u001b[1;33m             \u001b[0mlogprobij\u001b[0m\u001b[1;33m,\u001b[0m \u001b[0m_fwdlattice\u001b[0m \u001b[1;33m=\u001b[0m \u001b[0mself\u001b[0m\u001b[1;33m.\u001b[0m\u001b[0m_do_forward_pass\u001b[0m\u001b[1;33m(\u001b[0m\u001b[0mframelogprob\u001b[0m\u001b[1;33m)\u001b[0m\u001b[1;33m\u001b[0m\u001b[1;33m\u001b[0m\u001b[0m\n\u001b[0m\u001b[0;32m    251\u001b[0m             \u001b[0mlogprob\u001b[0m \u001b[1;33m+=\u001b[0m \u001b[0mlogprobij\u001b[0m\u001b[1;33m\u001b[0m\u001b[1;33m\u001b[0m\u001b[0m\n\u001b[0;32m    252\u001b[0m         \u001b[1;32mreturn\u001b[0m \u001b[0mlogprob\u001b[0m\u001b[1;33m\u001b[0m\u001b[1;33m\u001b[0m\u001b[0m\n",
      "\u001b[1;32mC:\\ProgramData\\Anaconda3\\lib\\site-packages\\hmmlearn\\base.py\u001b[0m in \u001b[0;36m_do_forward_pass\u001b[1;34m(self, framelogprob)\u001b[0m\n\u001b[0;32m    462\u001b[0m                        \u001b[0mlog_mask_zero\u001b[0m\u001b[1;33m(\u001b[0m\u001b[0mself\u001b[0m\u001b[1;33m.\u001b[0m\u001b[0mstartprob_\u001b[0m\u001b[1;33m)\u001b[0m\u001b[1;33m,\u001b[0m\u001b[1;33m\u001b[0m\u001b[1;33m\u001b[0m\u001b[0m\n\u001b[0;32m    463\u001b[0m                        \u001b[0mlog_mask_zero\u001b[0m\u001b[1;33m(\u001b[0m\u001b[0mself\u001b[0m\u001b[1;33m.\u001b[0m\u001b[0mtransmat_\u001b[0m\u001b[1;33m)\u001b[0m\u001b[1;33m,\u001b[0m\u001b[1;33m\u001b[0m\u001b[1;33m\u001b[0m\u001b[0m\n\u001b[1;32m--> 464\u001b[1;33m                        framelogprob, fwdlattice)\n\u001b[0m\u001b[0;32m    465\u001b[0m         \u001b[1;32mwith\u001b[0m \u001b[0mnp\u001b[0m\u001b[1;33m.\u001b[0m\u001b[0merrstate\u001b[0m\u001b[1;33m(\u001b[0m\u001b[0munder\u001b[0m\u001b[1;33m=\u001b[0m\u001b[1;34m\"ignore\"\u001b[0m\u001b[1;33m)\u001b[0m\u001b[1;33m:\u001b[0m\u001b[1;33m\u001b[0m\u001b[1;33m\u001b[0m\u001b[0m\n\u001b[0;32m    466\u001b[0m             \u001b[1;32mreturn\u001b[0m \u001b[0mlogsumexp\u001b[0m\u001b[1;33m(\u001b[0m\u001b[0mfwdlattice\u001b[0m\u001b[1;33m[\u001b[0m\u001b[1;33m-\u001b[0m\u001b[1;36m1\u001b[0m\u001b[1;33m]\u001b[0m\u001b[1;33m)\u001b[0m\u001b[1;33m,\u001b[0m \u001b[0mfwdlattice\u001b[0m\u001b[1;33m\u001b[0m\u001b[1;33m\u001b[0m\u001b[0m\n",
      "\u001b[1;31mKeyboardInterrupt\u001b[0m: "
     ]
    }
   ],
   "source": [
    "predict_open_prices_for_days(50,True)"
   ]
  },
  {
   "cell_type": "code",
   "execution_count": 73,
   "metadata": {},
   "outputs": [
    {
     "data": {
      "text/plain": [
       "True"
      ]
     },
     "execution_count": 73,
     "metadata": {},
     "output_type": "execute_result"
    }
   ],
   "source": [
    "0.32342537767493024 in possible_outcomes"
   ]
  },
  {
   "cell_type": "code",
   "execution_count": null,
   "metadata": {},
   "outputs": [],
   "source": []
  },
  {
   "cell_type": "code",
   "execution_count": 71,
   "metadata": {},
   "outputs": [],
   "source": [
    "X1 = [[0.5], [1.0], [-1.0], [0.42], [0.24],[10]]\n",
    "X2 = [[2.4], [4.2], [0.5], [-0.24]]\n",
    "X3 = [[0.5,2.4,6.8],[0.56,2.47,6.89],[0.53,2.41,6.82]]"
   ]
  },
  {
   "cell_type": "code",
   "execution_count": null,
   "metadata": {},
   "outputs": [],
   "source": []
  },
  {
   "cell_type": "code",
   "execution_count": null,
   "metadata": {},
   "outputs": [],
   "source": []
  },
  {
   "cell_type": "code",
   "execution_count": null,
   "metadata": {},
   "outputs": [],
   "source": []
  },
  {
   "cell_type": "code",
   "execution_count": null,
   "metadata": {},
   "outputs": [],
   "source": []
  },
  {
   "cell_type": "code",
   "execution_count": 72,
   "metadata": {},
   "outputs": [],
   "source": [
    " X = np.concatenate([X1, X2])\n",
    "lengths = [len(X1), len(X2)]"
   ]
  },
  {
   "cell_type": "code",
   "execution_count": 91,
   "metadata": {},
   "outputs": [
    {
     "data": {
      "text/plain": [
       "GaussianHMM(algorithm='viterbi', covariance_type='diag', covars_prior=0.01,\n",
       "      covars_weight=1, init_params='stmc', means_prior=0, means_weight=0,\n",
       "      min_covar=0.001, n_components=3, n_iter=10, params='stmc',\n",
       "      random_state=None, startprob_prior=1.0, tol=0.01, transmat_prior=1.0,\n",
       "      verbose=False)"
      ]
     },
     "execution_count": 91,
     "metadata": {},
     "output_type": "execute_result"
    }
   ],
   "source": [
    "remodel = hmm.GaussianHMM(n_components=3)\n",
    "remodel.n_features = 3\n",
    "remodel.fit(X3)"
   ]
  },
  {
   "cell_type": "code",
   "execution_count": 90,
   "metadata": {},
   "outputs": [
    {
     "ename": "ValueError",
     "evalue": "rows of transmat_ must sum to 1.0 (got [1. 1. 0.])",
     "output_type": "error",
     "traceback": [
      "\u001b[1;31m---------------------------------------------------------------------------\u001b[0m",
      "\u001b[1;31mValueError\u001b[0m                                Traceback (most recent call last)",
      "\u001b[1;32m<ipython-input-90-a8ba760c7294>\u001b[0m in \u001b[0;36m<module>\u001b[1;34m\u001b[0m\n\u001b[1;32m----> 1\u001b[1;33m \u001b[0mZ2\u001b[0m \u001b[1;33m=\u001b[0m \u001b[0mremodel\u001b[0m\u001b[1;33m.\u001b[0m\u001b[0mpredict\u001b[0m\u001b[1;33m(\u001b[0m\u001b[0mX3\u001b[0m\u001b[1;33m)\u001b[0m\u001b[1;33m\u001b[0m\u001b[1;33m\u001b[0m\u001b[0m\n\u001b[0m",
      "\u001b[1;32mC:\\ProgramData\\Anaconda3\\lib\\site-packages\\hmmlearn\\base.py\u001b[0m in \u001b[0;36mpredict\u001b[1;34m(self, X, lengths)\u001b[0m\n\u001b[0;32m    334\u001b[0m             \u001b[0mLabels\u001b[0m \u001b[1;32mfor\u001b[0m \u001b[0meach\u001b[0m \u001b[0msample\u001b[0m \u001b[1;32mfrom\u001b[0m\u001b[0;31m \u001b[0m\u001b[0;31m`\u001b[0m\u001b[0;31m`\u001b[0m\u001b[0mX\u001b[0m\u001b[0;31m`\u001b[0m\u001b[0;31m`\u001b[0m\u001b[1;33m.\u001b[0m\u001b[1;33m\u001b[0m\u001b[1;33m\u001b[0m\u001b[0m\n\u001b[0;32m    335\u001b[0m         \"\"\"\n\u001b[1;32m--> 336\u001b[1;33m         \u001b[0m_\u001b[0m\u001b[1;33m,\u001b[0m \u001b[0mstate_sequence\u001b[0m \u001b[1;33m=\u001b[0m \u001b[0mself\u001b[0m\u001b[1;33m.\u001b[0m\u001b[0mdecode\u001b[0m\u001b[1;33m(\u001b[0m\u001b[0mX\u001b[0m\u001b[1;33m,\u001b[0m \u001b[0mlengths\u001b[0m\u001b[1;33m)\u001b[0m\u001b[1;33m\u001b[0m\u001b[1;33m\u001b[0m\u001b[0m\n\u001b[0m\u001b[0;32m    337\u001b[0m         \u001b[1;32mreturn\u001b[0m \u001b[0mstate_sequence\u001b[0m\u001b[1;33m\u001b[0m\u001b[1;33m\u001b[0m\u001b[0m\n\u001b[0;32m    338\u001b[0m \u001b[1;33m\u001b[0m\u001b[0m\n",
      "\u001b[1;32mC:\\ProgramData\\Anaconda3\\lib\\site-packages\\hmmlearn\\base.py\u001b[0m in \u001b[0;36mdecode\u001b[1;34m(self, X, lengths, algorithm)\u001b[0m\n\u001b[0;32m    294\u001b[0m         \"\"\"\n\u001b[0;32m    295\u001b[0m         \u001b[0mcheck_is_fitted\u001b[0m\u001b[1;33m(\u001b[0m\u001b[0mself\u001b[0m\u001b[1;33m,\u001b[0m \u001b[1;34m\"startprob_\"\u001b[0m\u001b[1;33m)\u001b[0m\u001b[1;33m\u001b[0m\u001b[1;33m\u001b[0m\u001b[0m\n\u001b[1;32m--> 296\u001b[1;33m         \u001b[0mself\u001b[0m\u001b[1;33m.\u001b[0m\u001b[0m_check\u001b[0m\u001b[1;33m(\u001b[0m\u001b[1;33m)\u001b[0m\u001b[1;33m\u001b[0m\u001b[1;33m\u001b[0m\u001b[0m\n\u001b[0m\u001b[0;32m    297\u001b[0m \u001b[1;33m\u001b[0m\u001b[0m\n\u001b[0;32m    298\u001b[0m         \u001b[0malgorithm\u001b[0m \u001b[1;33m=\u001b[0m \u001b[0malgorithm\u001b[0m \u001b[1;32mor\u001b[0m \u001b[0mself\u001b[0m\u001b[1;33m.\u001b[0m\u001b[0malgorithm\u001b[0m\u001b[1;33m\u001b[0m\u001b[1;33m\u001b[0m\u001b[0m\n",
      "\u001b[1;32mC:\\ProgramData\\Anaconda3\\lib\\site-packages\\hmmlearn\\hmm.py\u001b[0m in \u001b[0;36m_check\u001b[1;34m(self)\u001b[0m\n\u001b[0;32m    169\u001b[0m \u001b[1;33m\u001b[0m\u001b[0m\n\u001b[0;32m    170\u001b[0m     \u001b[1;32mdef\u001b[0m \u001b[0m_check\u001b[0m\u001b[1;33m(\u001b[0m\u001b[0mself\u001b[0m\u001b[1;33m)\u001b[0m\u001b[1;33m:\u001b[0m\u001b[1;33m\u001b[0m\u001b[1;33m\u001b[0m\u001b[0m\n\u001b[1;32m--> 171\u001b[1;33m         \u001b[0msuper\u001b[0m\u001b[1;33m(\u001b[0m\u001b[0mGaussianHMM\u001b[0m\u001b[1;33m,\u001b[0m \u001b[0mself\u001b[0m\u001b[1;33m)\u001b[0m\u001b[1;33m.\u001b[0m\u001b[0m_check\u001b[0m\u001b[1;33m(\u001b[0m\u001b[1;33m)\u001b[0m\u001b[1;33m\u001b[0m\u001b[1;33m\u001b[0m\u001b[0m\n\u001b[0m\u001b[0;32m    172\u001b[0m \u001b[1;33m\u001b[0m\u001b[0m\n\u001b[0;32m    173\u001b[0m         \u001b[0mself\u001b[0m\u001b[1;33m.\u001b[0m\u001b[0mmeans_\u001b[0m \u001b[1;33m=\u001b[0m \u001b[0mnp\u001b[0m\u001b[1;33m.\u001b[0m\u001b[0masarray\u001b[0m\u001b[1;33m(\u001b[0m\u001b[0mself\u001b[0m\u001b[1;33m.\u001b[0m\u001b[0mmeans_\u001b[0m\u001b[1;33m)\u001b[0m\u001b[1;33m\u001b[0m\u001b[1;33m\u001b[0m\u001b[0m\n",
      "\u001b[1;32mC:\\ProgramData\\Anaconda3\\lib\\site-packages\\hmmlearn\\base.py\u001b[0m in \u001b[0;36m_check\u001b[1;34m(self)\u001b[0m\n\u001b[0;32m    527\u001b[0m         \u001b[1;32mif\u001b[0m \u001b[1;32mnot\u001b[0m \u001b[0mnp\u001b[0m\u001b[1;33m.\u001b[0m\u001b[0mallclose\u001b[0m\u001b[1;33m(\u001b[0m\u001b[0mself\u001b[0m\u001b[1;33m.\u001b[0m\u001b[0mtransmat_\u001b[0m\u001b[1;33m.\u001b[0m\u001b[0msum\u001b[0m\u001b[1;33m(\u001b[0m\u001b[0maxis\u001b[0m\u001b[1;33m=\u001b[0m\u001b[1;36m1\u001b[0m\u001b[1;33m)\u001b[0m\u001b[1;33m,\u001b[0m \u001b[1;36m1.0\u001b[0m\u001b[1;33m)\u001b[0m\u001b[1;33m:\u001b[0m\u001b[1;33m\u001b[0m\u001b[1;33m\u001b[0m\u001b[0m\n\u001b[0;32m    528\u001b[0m             raise ValueError(\"rows of transmat_ must sum to 1.0 (got {0})\"\n\u001b[1;32m--> 529\u001b[1;33m                              .format(self.transmat_.sum(axis=1)))\n\u001b[0m\u001b[0;32m    530\u001b[0m \u001b[1;33m\u001b[0m\u001b[0m\n\u001b[0;32m    531\u001b[0m     \u001b[1;32mdef\u001b[0m \u001b[0m_compute_log_likelihood\u001b[0m\u001b[1;33m(\u001b[0m\u001b[0mself\u001b[0m\u001b[1;33m,\u001b[0m \u001b[0mX\u001b[0m\u001b[1;33m)\u001b[0m\u001b[1;33m:\u001b[0m\u001b[1;33m\u001b[0m\u001b[1;33m\u001b[0m\u001b[0m\n",
      "\u001b[1;31mValueError\u001b[0m: rows of transmat_ must sum to 1.0 (got [1. 1. 0.])"
     ]
    }
   ],
   "source": [
    "Z2 = remodel.predict(X3)"
   ]
  },
  {
   "cell_type": "code",
   "execution_count": 83,
   "metadata": {},
   "outputs": [],
   "source": [
    "X5, Z = remodel.sample(4)"
   ]
  },
  {
   "cell_type": "code",
   "execution_count": 84,
   "metadata": {},
   "outputs": [
    {
     "data": {
      "text/plain": [
       "array([[0.61941627, 2.58958985, 6.99528647],\n",
       "       [0.45104272, 2.49137542, 6.94093741],\n",
       "       [0.64840139, 2.19530381, 6.81781214],\n",
       "       [0.40363441, 2.48942959, 6.86178877]])"
      ]
     },
     "execution_count": 84,
     "metadata": {},
     "output_type": "execute_result"
    }
   ],
   "source": [
    "X5"
   ]
  },
  {
   "cell_type": "code",
   "execution_count": 69,
   "metadata": {},
   "outputs": [
    {
     "ename": "ValueError",
     "evalue": "rows of transmat_ must sum to 1.0 (got [1. 0. 1.])",
     "output_type": "error",
     "traceback": [
      "\u001b[1;31m---------------------------------------------------------------------------\u001b[0m",
      "\u001b[1;31mValueError\u001b[0m                                Traceback (most recent call last)",
      "\u001b[1;32m<ipython-input-69-5e844f7c2c8e>\u001b[0m in \u001b[0;36m<module>\u001b[1;34m\u001b[0m\n\u001b[0;32m      2\u001b[0m \u001b[0mremodel\u001b[0m\u001b[1;33m.\u001b[0m\u001b[0mfit\u001b[0m\u001b[1;33m(\u001b[0m\u001b[0mX\u001b[0m\u001b[1;33m,\u001b[0m\u001b[0mlengths\u001b[0m\u001b[1;33m)\u001b[0m\u001b[1;33m\u001b[0m\u001b[1;33m\u001b[0m\u001b[0m\n\u001b[0;32m      3\u001b[0m \u001b[1;31m#GaussianHMM(algorithm='viterbi',...\u001b[0m\u001b[1;33m\u001b[0m\u001b[1;33m\u001b[0m\u001b[1;33m\u001b[0m\u001b[0m\n\u001b[1;32m----> 4\u001b[1;33m \u001b[0mZ2\u001b[0m \u001b[1;33m=\u001b[0m \u001b[0mremodel\u001b[0m\u001b[1;33m.\u001b[0m\u001b[0mpredict\u001b[0m\u001b[1;33m(\u001b[0m\u001b[0mX\u001b[0m\u001b[1;33m,\u001b[0m\u001b[0mlengths\u001b[0m\u001b[1;33m)\u001b[0m\u001b[1;33m\u001b[0m\u001b[1;33m\u001b[0m\u001b[0m\n\u001b[0m\u001b[0;32m      5\u001b[0m \u001b[0mX5\u001b[0m\u001b[1;33m,\u001b[0m \u001b[0mZ\u001b[0m \u001b[1;33m=\u001b[0m \u001b[0mremodel\u001b[0m\u001b[1;33m.\u001b[0m\u001b[0msample\u001b[0m\u001b[1;33m(\u001b[0m\u001b[1;36m4\u001b[0m\u001b[1;33m)\u001b[0m\u001b[1;33m\u001b[0m\u001b[1;33m\u001b[0m\u001b[0m\n",
      "\u001b[1;32mC:\\ProgramData\\Anaconda3\\lib\\site-packages\\hmmlearn\\base.py\u001b[0m in \u001b[0;36mpredict\u001b[1;34m(self, X, lengths)\u001b[0m\n\u001b[0;32m    334\u001b[0m             \u001b[0mLabels\u001b[0m \u001b[1;32mfor\u001b[0m \u001b[0meach\u001b[0m \u001b[0msample\u001b[0m \u001b[1;32mfrom\u001b[0m\u001b[0;31m \u001b[0m\u001b[0;31m`\u001b[0m\u001b[0;31m`\u001b[0m\u001b[0mX\u001b[0m\u001b[0;31m`\u001b[0m\u001b[0;31m`\u001b[0m\u001b[1;33m.\u001b[0m\u001b[1;33m\u001b[0m\u001b[1;33m\u001b[0m\u001b[0m\n\u001b[0;32m    335\u001b[0m         \"\"\"\n\u001b[1;32m--> 336\u001b[1;33m         \u001b[0m_\u001b[0m\u001b[1;33m,\u001b[0m \u001b[0mstate_sequence\u001b[0m \u001b[1;33m=\u001b[0m \u001b[0mself\u001b[0m\u001b[1;33m.\u001b[0m\u001b[0mdecode\u001b[0m\u001b[1;33m(\u001b[0m\u001b[0mX\u001b[0m\u001b[1;33m,\u001b[0m \u001b[0mlengths\u001b[0m\u001b[1;33m)\u001b[0m\u001b[1;33m\u001b[0m\u001b[1;33m\u001b[0m\u001b[0m\n\u001b[0m\u001b[0;32m    337\u001b[0m         \u001b[1;32mreturn\u001b[0m \u001b[0mstate_sequence\u001b[0m\u001b[1;33m\u001b[0m\u001b[1;33m\u001b[0m\u001b[0m\n\u001b[0;32m    338\u001b[0m \u001b[1;33m\u001b[0m\u001b[0m\n",
      "\u001b[1;32mC:\\ProgramData\\Anaconda3\\lib\\site-packages\\hmmlearn\\base.py\u001b[0m in \u001b[0;36mdecode\u001b[1;34m(self, X, lengths, algorithm)\u001b[0m\n\u001b[0;32m    294\u001b[0m         \"\"\"\n\u001b[0;32m    295\u001b[0m         \u001b[0mcheck_is_fitted\u001b[0m\u001b[1;33m(\u001b[0m\u001b[0mself\u001b[0m\u001b[1;33m,\u001b[0m \u001b[1;34m\"startprob_\"\u001b[0m\u001b[1;33m)\u001b[0m\u001b[1;33m\u001b[0m\u001b[1;33m\u001b[0m\u001b[0m\n\u001b[1;32m--> 296\u001b[1;33m         \u001b[0mself\u001b[0m\u001b[1;33m.\u001b[0m\u001b[0m_check\u001b[0m\u001b[1;33m(\u001b[0m\u001b[1;33m)\u001b[0m\u001b[1;33m\u001b[0m\u001b[1;33m\u001b[0m\u001b[0m\n\u001b[0m\u001b[0;32m    297\u001b[0m \u001b[1;33m\u001b[0m\u001b[0m\n\u001b[0;32m    298\u001b[0m         \u001b[0malgorithm\u001b[0m \u001b[1;33m=\u001b[0m \u001b[0malgorithm\u001b[0m \u001b[1;32mor\u001b[0m \u001b[0mself\u001b[0m\u001b[1;33m.\u001b[0m\u001b[0malgorithm\u001b[0m\u001b[1;33m\u001b[0m\u001b[1;33m\u001b[0m\u001b[0m\n",
      "\u001b[1;32mC:\\ProgramData\\Anaconda3\\lib\\site-packages\\hmmlearn\\hmm.py\u001b[0m in \u001b[0;36m_check\u001b[1;34m(self)\u001b[0m\n\u001b[0;32m    169\u001b[0m \u001b[1;33m\u001b[0m\u001b[0m\n\u001b[0;32m    170\u001b[0m     \u001b[1;32mdef\u001b[0m \u001b[0m_check\u001b[0m\u001b[1;33m(\u001b[0m\u001b[0mself\u001b[0m\u001b[1;33m)\u001b[0m\u001b[1;33m:\u001b[0m\u001b[1;33m\u001b[0m\u001b[1;33m\u001b[0m\u001b[0m\n\u001b[1;32m--> 171\u001b[1;33m         \u001b[0msuper\u001b[0m\u001b[1;33m(\u001b[0m\u001b[0mGaussianHMM\u001b[0m\u001b[1;33m,\u001b[0m \u001b[0mself\u001b[0m\u001b[1;33m)\u001b[0m\u001b[1;33m.\u001b[0m\u001b[0m_check\u001b[0m\u001b[1;33m(\u001b[0m\u001b[1;33m)\u001b[0m\u001b[1;33m\u001b[0m\u001b[1;33m\u001b[0m\u001b[0m\n\u001b[0m\u001b[0;32m    172\u001b[0m \u001b[1;33m\u001b[0m\u001b[0m\n\u001b[0;32m    173\u001b[0m         \u001b[0mself\u001b[0m\u001b[1;33m.\u001b[0m\u001b[0mmeans_\u001b[0m \u001b[1;33m=\u001b[0m \u001b[0mnp\u001b[0m\u001b[1;33m.\u001b[0m\u001b[0masarray\u001b[0m\u001b[1;33m(\u001b[0m\u001b[0mself\u001b[0m\u001b[1;33m.\u001b[0m\u001b[0mmeans_\u001b[0m\u001b[1;33m)\u001b[0m\u001b[1;33m\u001b[0m\u001b[1;33m\u001b[0m\u001b[0m\n",
      "\u001b[1;32mC:\\ProgramData\\Anaconda3\\lib\\site-packages\\hmmlearn\\base.py\u001b[0m in \u001b[0;36m_check\u001b[1;34m(self)\u001b[0m\n\u001b[0;32m    527\u001b[0m         \u001b[1;32mif\u001b[0m \u001b[1;32mnot\u001b[0m \u001b[0mnp\u001b[0m\u001b[1;33m.\u001b[0m\u001b[0mallclose\u001b[0m\u001b[1;33m(\u001b[0m\u001b[0mself\u001b[0m\u001b[1;33m.\u001b[0m\u001b[0mtransmat_\u001b[0m\u001b[1;33m.\u001b[0m\u001b[0msum\u001b[0m\u001b[1;33m(\u001b[0m\u001b[0maxis\u001b[0m\u001b[1;33m=\u001b[0m\u001b[1;36m1\u001b[0m\u001b[1;33m)\u001b[0m\u001b[1;33m,\u001b[0m \u001b[1;36m1.0\u001b[0m\u001b[1;33m)\u001b[0m\u001b[1;33m:\u001b[0m\u001b[1;33m\u001b[0m\u001b[1;33m\u001b[0m\u001b[0m\n\u001b[0;32m    528\u001b[0m             raise ValueError(\"rows of transmat_ must sum to 1.0 (got {0})\"\n\u001b[1;32m--> 529\u001b[1;33m                              .format(self.transmat_.sum(axis=1)))\n\u001b[0m\u001b[0;32m    530\u001b[0m \u001b[1;33m\u001b[0m\u001b[0m\n\u001b[0;32m    531\u001b[0m     \u001b[1;32mdef\u001b[0m \u001b[0m_compute_log_likelihood\u001b[0m\u001b[1;33m(\u001b[0m\u001b[0mself\u001b[0m\u001b[1;33m,\u001b[0m \u001b[0mX\u001b[0m\u001b[1;33m)\u001b[0m\u001b[1;33m:\u001b[0m\u001b[1;33m\u001b[0m\u001b[1;33m\u001b[0m\u001b[0m\n",
      "\u001b[1;31mValueError\u001b[0m: rows of transmat_ must sum to 1.0 (got [1. 0. 1.])"
     ]
    }
   ],
   "source": [
    "remodel = hmm.GaussianHMM(n_components=3)\n",
    "remodel.fit(X,lengths)\n",
    "#GaussianHMM(algorithm='viterbi',...\n",
    "Z2 = remodel.predict(X,lengths)\n",
    "X5, Z = remodel.sample(4)\n"
   ]
  },
  {
   "cell_type": "code",
   "execution_count": 61,
   "metadata": {},
   "outputs": [
    {
     "data": {
      "text/plain": [
       "array([[ 0.62334716],\n",
       "       [ 0.11387577],\n",
       "       [ 0.36535789],\n",
       "       [-0.16088644]])"
      ]
     },
     "execution_count": 61,
     "metadata": {},
     "output_type": "execute_result"
    }
   ],
   "source": [
    "X5"
   ]
  },
  {
   "cell_type": "code",
   "execution_count": 44,
   "metadata": {},
   "outputs": [
    {
     "data": {
      "text/plain": [
       "GaussianHMM(algorithm='viterbi', covariance_type='diag', covars_prior=0.01,\n",
       "      covars_weight=1, init_params='stmc', means_prior=0, means_weight=0,\n",
       "      min_covar=0.001, n_components=3, n_iter=10, params='stmc',\n",
       "      random_state=None, startprob_prior=1.0, tol=0.01, transmat_prior=1.0,\n",
       "      verbose=False)"
      ]
     },
     "execution_count": 44,
     "metadata": {},
     "output_type": "execute_result"
    }
   ],
   "source": [
    "hmm.GaussianHMM(n_components=3).fit(X, lengths)  "
   ]
  },
  {
   "cell_type": "code",
   "execution_count": 50,
   "metadata": {},
   "outputs": [
    {
     "data": {
      "text/plain": [
       "ConvergenceMonitor(history=[-11.664093027023965, -11.663370402922695], iter=9,\n",
       "          n_iter=100, tol=0.01, verbose=False)"
      ]
     },
     "execution_count": 50,
     "metadata": {},
     "output_type": "execute_result"
    }
   ],
   "source": [
    "remodel.monitor_  "
   ]
  },
  {
   "cell_type": "code",
   "execution_count": 51,
   "metadata": {},
   "outputs": [
    {
     "data": {
      "text/plain": [
       "True"
      ]
     },
     "execution_count": 51,
     "metadata": {},
     "output_type": "execute_result"
    }
   ],
   "source": [
    "remodel.monitor_.converged"
   ]
  },
  {
   "cell_type": "code",
   "execution_count": 30,
   "metadata": {},
   "outputs": [
    {
     "name": "stderr",
     "output_type": "stream",
     "text": [
      "100%|███████████████████████████████████████| 10/10 [00:00<00:00, 10140.97it/s]\n"
     ]
    }
   ],
   "source": [
    "from tqdm import tqdm\n",
    "for hello in tqdm(range(10,20)):\n",
    "    pass\n",
    "    #print(hello)    "
   ]
  },
  {
   "cell_type": "code",
   "execution_count": 233,
   "metadata": {},
   "outputs": [
    {
     "data": {
      "text/plain": [
       "-28.279831607952705"
      ]
     },
     "execution_count": 233,
     "metadata": {},
     "output_type": "execute_result"
    }
   ],
   "source": [
    "X1 = [[0.5], [1.0], [-1.0], [0.42], [0.24]]\n",
    "X2 = [[2.4], [4.2], [0.5], [-0.24]]\n",
    "X1 = np.array(X1)\n",
    "X2 = np.array(X2)\n",
    "X = np.concatenate([X1, X2])\n",
    "X = np.array(X)\n",
    "lengths = [len(X1), len(X2)]\n",
    "hmm2 = GaussianHMM(n_components=3, covariance_type='full').fit(X, lengths)  \n",
    "hmm2.n_features = 4\n",
    "hmm2.score(X)"
   ]
  },
  {
   "cell_type": "code",
   "execution_count": 235,
   "metadata": {},
   "outputs": [
    {
     "data": {
      "text/plain": [
       "(array([[ 3.31134698],\n",
       "        [ 0.48736837],\n",
       "        [-1.28788378],\n",
       "        [ 0.55857344],\n",
       "        [ 0.48052478],\n",
       "        [-1.66902064],\n",
       "        [ 0.05407992],\n",
       "        [ 1.6179776 ],\n",
       "        [ 0.40867493],\n",
       "        [ 0.40535045]]), array([1, 2, 0, 2, 2, 0, 0, 0, 2, 0]))"
      ]
     },
     "execution_count": 235,
     "metadata": {},
     "output_type": "execute_result"
    }
   ],
   "source": [
    "hmm2.sample(10)"
   ]
  },
  {
   "cell_type": "code",
   "execution_count": 187,
   "metadata": {},
   "outputs": [
    {
     "data": {
      "text/plain": [
       "[array([0.5]), array([1.]), array([-1.]), array([0.42]), array([0.24])]"
      ]
     },
     "execution_count": 187,
     "metadata": {},
     "output_type": "execute_result"
    }
   ],
   "source": [
    "list(np.array(X1))"
   ]
  },
  {
   "cell_type": "code",
   "execution_count": 205,
   "metadata": {},
   "outputs": [
    {
     "data": {
      "text/plain": [
       "-28.279831607952673"
      ]
     },
     "execution_count": 205,
     "metadata": {},
     "output_type": "execute_result"
    }
   ],
   "source": [
    "hmm2.score(X)"
   ]
  },
  {
   "cell_type": "code",
   "execution_count": null,
   "metadata": {},
   "outputs": [],
   "source": []
  }
 ],
 "metadata": {
  "kernelspec": {
   "display_name": "Python 3",
   "language": "python",
   "name": "python3"
  },
  "language_info": {
   "codemirror_mode": {
    "name": "ipython",
    "version": 3
   },
   "file_extension": ".py",
   "mimetype": "text/x-python",
   "name": "python",
   "nbconvert_exporter": "python",
   "pygments_lexer": "ipython3",
   "version": "3.7.1"
  }
 },
 "nbformat": 4,
 "nbformat_minor": 2
}
