{
 "cells": [
  {
   "cell_type": "code",
   "execution_count": null,
   "metadata": {},
   "outputs": [],
   "source": [
    "import pandas as pd\n",
    "import numpy as np\n",
    "names =['ID',\n",
    "'Age',\n",
    "'Number of years of experience',\n",
    "'Annual Income', \n",
    "'ZIPCode',\n",
    "'Family size',\n",
    "'Avgerage spending per month', \n",
    "'Education Level',\n",
    "'Mortgage Value of house if any', \n",
    "'Did this customer accept the personal loan offered in the last campaign?Output label',\n",
    "'Does the customer have a securities account with the bank?',\n",
    "'Does the customer have a certificate of deposit (CD) account with the bank?', \n",
    "'Does the customer use internet banking facilities?' ,\n",
    "'Does the customer uses a credit card issued by UniversalBank?'\n",
    "LoanData = pd.read_csv('data.csv',sep='\\s+',header=None,names = ['class','a1','a2','a3','a4','a5','a6','Id'],index_col = False)\n",
    "#class a1 a2 a3 a4 a5 a6 Id\n",
    "robo1data"
   ]
  }
 ],
 "metadata": {
  "kernelspec": {
   "display_name": "Python 3",
   "language": "python",
   "name": "python3"
  },
  "language_info": {
   "codemirror_mode": {
    "name": "ipython",
    "version": 3
   },
   "file_extension": ".py",
   "mimetype": "text/x-python",
   "name": "python",
   "nbconvert_exporter": "python",
   "pygments_lexer": "ipython3",
   "version": "3.7.1"
  }
 },
 "nbformat": 4,
 "nbformat_minor": 2
}
